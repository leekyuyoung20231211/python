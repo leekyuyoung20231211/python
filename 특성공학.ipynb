{
  "nbformat": 4,
  "nbformat_minor": 0,
  "metadata": {
    "colab": {
      "provenance": []
    },
    "kernelspec": {
      "name": "python3",
      "display_name": "Python 3"
    },
    "language_info": {
      "name": "python"
    }
  },
  "cells": [
    {
      "cell_type": "code",
      "execution_count": 51,
      "metadata": {
        "id": "rhsG9z-OV_QN"
      },
      "outputs": [],
      "source": [
        "import pandas as pd"
      ]
    },
    {
      "cell_type": "code",
      "source": [
        "df = pd.read_csv('https://raw.githubusercontent.com/leekyuyoung20231211/python/main/data/poly_data.csv')\n",
        "df = df.iloc[:,1:]\n",
        "df.head()\n"
      ],
      "metadata": {
        "colab": {
          "base_uri": "https://localhost:8080/",
          "height": 206
        },
        "id": "LfgJDvD9WjoZ",
        "outputId": "c5e305e2-635b-47cf-a1be-748a66eabfa0"
      },
      "execution_count": 52,
      "outputs": [
        {
          "output_type": "execute_result",
          "data": {
            "text/plain": [
              "   length   height   width  weight\n",
              "0     8.4     2.11    1.41     5.9\n",
              "1    13.7     3.53    2.00    32.0\n",
              "2    15.0     3.82    2.43    40.0\n",
              "3    16.2     4.59    2.63    51.5\n",
              "4    17.4     4.59    2.94    70.0"
            ],
            "text/html": [
              "\n",
              "  <div id=\"df-4791876d-9cca-431a-b1e1-7a823bce276e\" class=\"colab-df-container\">\n",
              "    <div>\n",
              "<style scoped>\n",
              "    .dataframe tbody tr th:only-of-type {\n",
              "        vertical-align: middle;\n",
              "    }\n",
              "\n",
              "    .dataframe tbody tr th {\n",
              "        vertical-align: top;\n",
              "    }\n",
              "\n",
              "    .dataframe thead th {\n",
              "        text-align: right;\n",
              "    }\n",
              "</style>\n",
              "<table border=\"1\" class=\"dataframe\">\n",
              "  <thead>\n",
              "    <tr style=\"text-align: right;\">\n",
              "      <th></th>\n",
              "      <th>length</th>\n",
              "      <th>height</th>\n",
              "      <th>width</th>\n",
              "      <th>weight</th>\n",
              "    </tr>\n",
              "  </thead>\n",
              "  <tbody>\n",
              "    <tr>\n",
              "      <th>0</th>\n",
              "      <td>8.4</td>\n",
              "      <td>2.11</td>\n",
              "      <td>1.41</td>\n",
              "      <td>5.9</td>\n",
              "    </tr>\n",
              "    <tr>\n",
              "      <th>1</th>\n",
              "      <td>13.7</td>\n",
              "      <td>3.53</td>\n",
              "      <td>2.00</td>\n",
              "      <td>32.0</td>\n",
              "    </tr>\n",
              "    <tr>\n",
              "      <th>2</th>\n",
              "      <td>15.0</td>\n",
              "      <td>3.82</td>\n",
              "      <td>2.43</td>\n",
              "      <td>40.0</td>\n",
              "    </tr>\n",
              "    <tr>\n",
              "      <th>3</th>\n",
              "      <td>16.2</td>\n",
              "      <td>4.59</td>\n",
              "      <td>2.63</td>\n",
              "      <td>51.5</td>\n",
              "    </tr>\n",
              "    <tr>\n",
              "      <th>4</th>\n",
              "      <td>17.4</td>\n",
              "      <td>4.59</td>\n",
              "      <td>2.94</td>\n",
              "      <td>70.0</td>\n",
              "    </tr>\n",
              "  </tbody>\n",
              "</table>\n",
              "</div>\n",
              "    <div class=\"colab-df-buttons\">\n",
              "\n",
              "  <div class=\"colab-df-container\">\n",
              "    <button class=\"colab-df-convert\" onclick=\"convertToInteractive('df-4791876d-9cca-431a-b1e1-7a823bce276e')\"\n",
              "            title=\"Convert this dataframe to an interactive table.\"\n",
              "            style=\"display:none;\">\n",
              "\n",
              "  <svg xmlns=\"http://www.w3.org/2000/svg\" height=\"24px\" viewBox=\"0 -960 960 960\">\n",
              "    <path d=\"M120-120v-720h720v720H120Zm60-500h600v-160H180v160Zm220 220h160v-160H400v160Zm0 220h160v-160H400v160ZM180-400h160v-160H180v160Zm440 0h160v-160H620v160ZM180-180h160v-160H180v160Zm440 0h160v-160H620v160Z\"/>\n",
              "  </svg>\n",
              "    </button>\n",
              "\n",
              "  <style>\n",
              "    .colab-df-container {\n",
              "      display:flex;\n",
              "      gap: 12px;\n",
              "    }\n",
              "\n",
              "    .colab-df-convert {\n",
              "      background-color: #E8F0FE;\n",
              "      border: none;\n",
              "      border-radius: 50%;\n",
              "      cursor: pointer;\n",
              "      display: none;\n",
              "      fill: #1967D2;\n",
              "      height: 32px;\n",
              "      padding: 0 0 0 0;\n",
              "      width: 32px;\n",
              "    }\n",
              "\n",
              "    .colab-df-convert:hover {\n",
              "      background-color: #E2EBFA;\n",
              "      box-shadow: 0px 1px 2px rgba(60, 64, 67, 0.3), 0px 1px 3px 1px rgba(60, 64, 67, 0.15);\n",
              "      fill: #174EA6;\n",
              "    }\n",
              "\n",
              "    .colab-df-buttons div {\n",
              "      margin-bottom: 4px;\n",
              "    }\n",
              "\n",
              "    [theme=dark] .colab-df-convert {\n",
              "      background-color: #3B4455;\n",
              "      fill: #D2E3FC;\n",
              "    }\n",
              "\n",
              "    [theme=dark] .colab-df-convert:hover {\n",
              "      background-color: #434B5C;\n",
              "      box-shadow: 0px 1px 3px 1px rgba(0, 0, 0, 0.15);\n",
              "      filter: drop-shadow(0px 1px 2px rgba(0, 0, 0, 0.3));\n",
              "      fill: #FFFFFF;\n",
              "    }\n",
              "  </style>\n",
              "\n",
              "    <script>\n",
              "      const buttonEl =\n",
              "        document.querySelector('#df-4791876d-9cca-431a-b1e1-7a823bce276e button.colab-df-convert');\n",
              "      buttonEl.style.display =\n",
              "        google.colab.kernel.accessAllowed ? 'block' : 'none';\n",
              "\n",
              "      async function convertToInteractive(key) {\n",
              "        const element = document.querySelector('#df-4791876d-9cca-431a-b1e1-7a823bce276e');\n",
              "        const dataTable =\n",
              "          await google.colab.kernel.invokeFunction('convertToInteractive',\n",
              "                                                    [key], {});\n",
              "        if (!dataTable) return;\n",
              "\n",
              "        const docLinkHtml = 'Like what you see? Visit the ' +\n",
              "          '<a target=\"_blank\" href=https://colab.research.google.com/notebooks/data_table.ipynb>data table notebook</a>'\n",
              "          + ' to learn more about interactive tables.';\n",
              "        element.innerHTML = '';\n",
              "        dataTable['output_type'] = 'display_data';\n",
              "        await google.colab.output.renderOutput(dataTable, element);\n",
              "        const docLink = document.createElement('div');\n",
              "        docLink.innerHTML = docLinkHtml;\n",
              "        element.appendChild(docLink);\n",
              "      }\n",
              "    </script>\n",
              "  </div>\n",
              "\n",
              "\n",
              "<div id=\"df-be2fdf0d-d56f-460c-920e-f497a9744f09\">\n",
              "  <button class=\"colab-df-quickchart\" onclick=\"quickchart('df-be2fdf0d-d56f-460c-920e-f497a9744f09')\"\n",
              "            title=\"Suggest charts\"\n",
              "            style=\"display:none;\">\n",
              "\n",
              "<svg xmlns=\"http://www.w3.org/2000/svg\" height=\"24px\"viewBox=\"0 0 24 24\"\n",
              "     width=\"24px\">\n",
              "    <g>\n",
              "        <path d=\"M19 3H5c-1.1 0-2 .9-2 2v14c0 1.1.9 2 2 2h14c1.1 0 2-.9 2-2V5c0-1.1-.9-2-2-2zM9 17H7v-7h2v7zm4 0h-2V7h2v10zm4 0h-2v-4h2v4z\"/>\n",
              "    </g>\n",
              "</svg>\n",
              "  </button>\n",
              "\n",
              "<style>\n",
              "  .colab-df-quickchart {\n",
              "      --bg-color: #E8F0FE;\n",
              "      --fill-color: #1967D2;\n",
              "      --hover-bg-color: #E2EBFA;\n",
              "      --hover-fill-color: #174EA6;\n",
              "      --disabled-fill-color: #AAA;\n",
              "      --disabled-bg-color: #DDD;\n",
              "  }\n",
              "\n",
              "  [theme=dark] .colab-df-quickchart {\n",
              "      --bg-color: #3B4455;\n",
              "      --fill-color: #D2E3FC;\n",
              "      --hover-bg-color: #434B5C;\n",
              "      --hover-fill-color: #FFFFFF;\n",
              "      --disabled-bg-color: #3B4455;\n",
              "      --disabled-fill-color: #666;\n",
              "  }\n",
              "\n",
              "  .colab-df-quickchart {\n",
              "    background-color: var(--bg-color);\n",
              "    border: none;\n",
              "    border-radius: 50%;\n",
              "    cursor: pointer;\n",
              "    display: none;\n",
              "    fill: var(--fill-color);\n",
              "    height: 32px;\n",
              "    padding: 0;\n",
              "    width: 32px;\n",
              "  }\n",
              "\n",
              "  .colab-df-quickchart:hover {\n",
              "    background-color: var(--hover-bg-color);\n",
              "    box-shadow: 0 1px 2px rgba(60, 64, 67, 0.3), 0 1px 3px 1px rgba(60, 64, 67, 0.15);\n",
              "    fill: var(--button-hover-fill-color);\n",
              "  }\n",
              "\n",
              "  .colab-df-quickchart-complete:disabled,\n",
              "  .colab-df-quickchart-complete:disabled:hover {\n",
              "    background-color: var(--disabled-bg-color);\n",
              "    fill: var(--disabled-fill-color);\n",
              "    box-shadow: none;\n",
              "  }\n",
              "\n",
              "  .colab-df-spinner {\n",
              "    border: 2px solid var(--fill-color);\n",
              "    border-color: transparent;\n",
              "    border-bottom-color: var(--fill-color);\n",
              "    animation:\n",
              "      spin 1s steps(1) infinite;\n",
              "  }\n",
              "\n",
              "  @keyframes spin {\n",
              "    0% {\n",
              "      border-color: transparent;\n",
              "      border-bottom-color: var(--fill-color);\n",
              "      border-left-color: var(--fill-color);\n",
              "    }\n",
              "    20% {\n",
              "      border-color: transparent;\n",
              "      border-left-color: var(--fill-color);\n",
              "      border-top-color: var(--fill-color);\n",
              "    }\n",
              "    30% {\n",
              "      border-color: transparent;\n",
              "      border-left-color: var(--fill-color);\n",
              "      border-top-color: var(--fill-color);\n",
              "      border-right-color: var(--fill-color);\n",
              "    }\n",
              "    40% {\n",
              "      border-color: transparent;\n",
              "      border-right-color: var(--fill-color);\n",
              "      border-top-color: var(--fill-color);\n",
              "    }\n",
              "    60% {\n",
              "      border-color: transparent;\n",
              "      border-right-color: var(--fill-color);\n",
              "    }\n",
              "    80% {\n",
              "      border-color: transparent;\n",
              "      border-right-color: var(--fill-color);\n",
              "      border-bottom-color: var(--fill-color);\n",
              "    }\n",
              "    90% {\n",
              "      border-color: transparent;\n",
              "      border-bottom-color: var(--fill-color);\n",
              "    }\n",
              "  }\n",
              "</style>\n",
              "\n",
              "  <script>\n",
              "    async function quickchart(key) {\n",
              "      const quickchartButtonEl =\n",
              "        document.querySelector('#' + key + ' button');\n",
              "      quickchartButtonEl.disabled = true;  // To prevent multiple clicks.\n",
              "      quickchartButtonEl.classList.add('colab-df-spinner');\n",
              "      try {\n",
              "        const charts = await google.colab.kernel.invokeFunction(\n",
              "            'suggestCharts', [key], {});\n",
              "      } catch (error) {\n",
              "        console.error('Error during call to suggestCharts:', error);\n",
              "      }\n",
              "      quickchartButtonEl.classList.remove('colab-df-spinner');\n",
              "      quickchartButtonEl.classList.add('colab-df-quickchart-complete');\n",
              "    }\n",
              "    (() => {\n",
              "      let quickchartButtonEl =\n",
              "        document.querySelector('#df-be2fdf0d-d56f-460c-920e-f497a9744f09 button');\n",
              "      quickchartButtonEl.style.display =\n",
              "        google.colab.kernel.accessAllowed ? 'block' : 'none';\n",
              "    })();\n",
              "  </script>\n",
              "</div>\n",
              "\n",
              "    </div>\n",
              "  </div>\n"
            ]
          },
          "metadata": {},
          "execution_count": 52
        }
      ]
    },
    {
      "cell_type": "code",
      "source": [
        "# 데이터 분할\n",
        "from sklearn.model_selection import train_test_split\n",
        "X_train,X_test,y_train,y_test = train_test_split(df.iloc[:,:-1], df.iloc[:,-1], random_state=50)"
      ],
      "metadata": {
        "id": "-KUTVjGzYcDN"
      },
      "execution_count": 53,
      "outputs": []
    },
    {
      "cell_type": "code",
      "source": [
        "from sklearn.linear_model import LinearRegression\n",
        "lr = LinearRegression()\n",
        "lr.fit(X_train,y_train)\n",
        "lr.score(X_train,y_train), lr.score(X_test,y_test)"
      ],
      "metadata": {
        "colab": {
          "base_uri": "https://localhost:8080/"
        },
        "id": "piu_AXW5Zb52",
        "outputId": "8b585980-48b0-4fe6-877c-ec9420134682"
      },
      "execution_count": 54,
      "outputs": [
        {
          "output_type": "execute_result",
          "data": {
            "text/plain": [
              "(0.9330265234721122, 0.9529720212577252)"
            ]
          },
          "metadata": {},
          "execution_count": 54
        }
      ]
    },
    {
      "cell_type": "code",
      "source": [
        "lr.coef_, lr.intercept_"
      ],
      "metadata": {
        "colab": {
          "base_uri": "https://localhost:8080/"
        },
        "id": "glNbhZTOaIAp",
        "outputId": "14b4fb1f-ff66-4681-ef1a-a89074a9d514"
      },
      "execution_count": 55,
      "outputs": [
        {
          "output_type": "execute_result",
          "data": {
            "text/plain": [
              "(array([-2.37944854, 84.87506161, 63.96408161]), -525.1228773299193)"
            ]
          },
          "metadata": {},
          "execution_count": 55
        }
      ]
    },
    {
      "cell_type": "markdown",
      "source": [
        "y = ax1 + bx2 + cx3 +d"
      ],
      "metadata": {
        "id": "Ld3Bry2DaS74"
      }
    },
    {
      "cell_type": "markdown",
      "source": [
        "특성공학\n",
        "  - 원시데이터의 유용한 특성을 추출하거나 생성하는 과정\n",
        "  - 차원증가 : 새로운 특성 생성"
      ],
      "metadata": {
        "id": "II9YivDhan-C"
      }
    },
    {
      "cell_type": "code",
      "source": [
        "# x1**2. x1*x2, x2**2, x2*x3, x3**2 x3*x1"
      ],
      "metadata": {
        "id": "-wmTyytJaWkd"
      },
      "execution_count": 56,
      "outputs": []
    },
    {
      "cell_type": "code",
      "source": [
        "from sklearn.preprocessing import PolynomialFeatures"
      ],
      "metadata": {
        "id": "T90HM2HsdK-i"
      },
      "execution_count": 57,
      "outputs": []
    },
    {
      "cell_type": "code",
      "source": [
        "poly = PolynomialFeatures()\n",
        "poly.fit([[2,3]]) # 규칙적용\n",
        "poly.transform([[2,3]]) # 데이터 변환\n",
        "# a,b --> a^2, a*b , b^, a, b"
      ],
      "metadata": {
        "colab": {
          "base_uri": "https://localhost:8080/"
        },
        "id": "H6OI9ViUdVUb",
        "outputId": "b20ae8d1-b0bf-4d18-b7bf-a389db4afc60"
      },
      "execution_count": 58,
      "outputs": [
        {
          "output_type": "execute_result",
          "data": {
            "text/plain": [
              "array([[1., 2., 3., 4., 6., 9.]])"
            ]
          },
          "metadata": {},
          "execution_count": 58
        }
      ]
    },
    {
      "cell_type": "code",
      "source": [
        "poly = PolynomialFeatures(include_bias=False)\n",
        "poly.fit([[2,3]]) # 규칙적용\n",
        "print(poly.transform([[2,3]])) # 데이터 변환\n",
        "print( poly.get_feature_names_out() )"
      ],
      "metadata": {
        "colab": {
          "base_uri": "https://localhost:8080/"
        },
        "id": "fprI7XtRdz5G",
        "outputId": "97f2b055-d127-43cc-8e92-9ecd441a4aef"
      },
      "execution_count": 59,
      "outputs": [
        {
          "output_type": "stream",
          "name": "stdout",
          "text": [
            "[[2. 3. 4. 6. 9.]]\n",
            "['x0' 'x1' 'x0^2' 'x0 x1' 'x1^2']\n"
          ]
        }
      ]
    },
    {
      "cell_type": "code",
      "source": [
        "# poly.fit(X_train)\n",
        "# X_train_poly =  poly.transform(X_train)\n",
        "\n",
        "poly = PolynomialFeatures(include_bias=False)\n",
        "X_train_poly = poly.fit_transform(X_train)\n",
        "X_test_poly = poly.transform(X_test)"
      ],
      "metadata": {
        "id": "KJ_-DS1HfXhX"
      },
      "execution_count": 60,
      "outputs": []
    },
    {
      "cell_type": "markdown",
      "source": [
        "다중 회귀 모델 훈련하기"
      ],
      "metadata": {
        "id": "EwwFDlSfgJ6W"
      }
    },
    {
      "cell_type": "code",
      "source": [
        "# 모델선택\n",
        "# 학습 fit\n",
        "# 평가 score  (특성공학을 사용하지 않은 원시데이터 학습성능은 0.9529720212577252)\n",
        "lr = LinearRegression()\n",
        "lr.fit(X_train_poly, y_train)\n",
        "lr.score(X_train_poly,y_train), lr.score(X_test_poly,y_test)"
      ],
      "metadata": {
        "colab": {
          "base_uri": "https://localhost:8080/"
        },
        "id": "mzfO9VY4gA8G",
        "outputId": "f6876c57-d10c-408d-93d0-e8920a2c4285"
      },
      "execution_count": 61,
      "outputs": [
        {
          "output_type": "execute_result",
          "data": {
            "text/plain": [
              "(0.9923200507878617, 0.6904811598921108)"
            ]
          },
          "metadata": {},
          "execution_count": 61
        }
      ]
    },
    {
      "cell_type": "markdown",
      "source": [
        "- 규제\n",
        "  - 과적합을 피하는 방법\n",
        "  - 학습률을 조금 떨어트리고 , 평가용 결과를 조금 높인다.\n",
        "  - 데이터를 표준화하고 규제 알고리즘을 적용\n",
        "- 규제 알고리즘 종류\n",
        "  - 릿지 : L2규제\n",
        "    - objective function 함수에 패널티를 적용\n",
        "    - 회귀계수의 제곱합을 제한\n",
        "  - 라쏘 : L1규제\n",
        "    - objective function 함수에 패널티를 적용\n",
        "    - 회귀계수의 절대값의 합을 제한"
      ],
      "metadata": {
        "id": "H8FuGkVvj1nU"
      }
    },
    {
      "cell_type": "code",
      "source": [
        "from sklearn.preprocessing import StandardScaler\n",
        "ss = StandardScaler()\n",
        "X_train_scaled = ss.fit_transform(X_train)\n",
        "X_test_scaled = ss.transform(X_test)"
      ],
      "metadata": {
        "id": "RFVBNoCWm4ra"
      },
      "execution_count": 67,
      "outputs": []
    },
    {
      "cell_type": "code",
      "source": [
        "poly = PolynomialFeatures(include_bias=False)\n",
        "X_train_scaled_poly = poly.fit_transform(X_train_scaled)\n",
        "X_test_scaled_poly = poly.transform(X_test_scaled)"
      ],
      "metadata": {
        "id": "zkLlIMwnq8JA"
      },
      "execution_count": 68,
      "outputs": []
    },
    {
      "cell_type": "markdown",
      "source": [
        "릿지"
      ],
      "metadata": {
        "id": "9YCfpI27lVm7"
      }
    },
    {
      "cell_type": "code",
      "source": [
        "from sklearn.linear_model import Ridge\n",
        "model = Ridge()\n",
        "model.fit(X_train_scaled_poly, y_train)\n",
        "model.score(X_train_scaled_poly, y_train), model.score(X_test_scaled_poly, y_test)"
      ],
      "metadata": {
        "colab": {
          "base_uri": "https://localhost:8080/"
        },
        "id": "KIU7aC-vhQ8M",
        "outputId": "ae4e2ddc-82fd-4728-e98a-2ce253695f5d"
      },
      "execution_count": 69,
      "outputs": [
        {
          "output_type": "execute_result",
          "data": {
            "text/plain": [
              "(0.9881717145337059, 0.979515437798931)"
            ]
          },
          "metadata": {},
          "execution_count": 69
        }
      ]
    },
    {
      "cell_type": "code",
      "source": [
        "from sklearn.linear_model import Lasso\n",
        "model = Lasso()\n",
        "model.fit(X_train_scaled_poly, y_train)\n",
        "model.score(X_train_scaled_poly, y_train), model.score(X_test_scaled_poly, y_test)"
      ],
      "metadata": {
        "colab": {
          "base_uri": "https://localhost:8080/"
        },
        "id": "Tqb-OPeel2F9",
        "outputId": "e0bc4f44-b665-4080-ef27-e54deb6fba48"
      },
      "execution_count": 70,
      "outputs": [
        {
          "output_type": "execute_result",
          "data": {
            "text/plain": [
              "(0.9884497520254075, 0.9767628389888231)"
            ]
          },
          "metadata": {},
          "execution_count": 70
        }
      ]
    },
    {
      "cell_type": "markdown",
      "source": [
        "- 규제 강도조정\n",
        "\n",
        "- 하이퍼 파라메터\n",
        "  - 머신러닝의 수많은 매개변수는 성능을 결정짓는 중요 요소\n",
        "    - 과연 어떤 값을 쓰면 성능이 더 좋아질까?\n",
        "      - 그래서 성능을 결정짓는 파라메터를 하이퍼 파라메터\n",
        "        - 최적의 값을 찾아서 적용하는 것을 하이퍼 파라메터 튜닝"
      ],
      "metadata": {
        "id": "eLrKnA6MrUEh"
      }
    },
    {
      "cell_type": "code",
      "source": [
        "alpha_list = [0.001,0.01,0.1,1,10,100]\n",
        "train_score,test_score = [],[]\n",
        "\n",
        "for alpha in alpha_list:\n",
        "  # 릿지 모델생성\n",
        "  ridge = Ridge(alpha=alpha)\n",
        "  ridge.fit(X_train_scaled_poly,y_train)\n",
        "  train_score.append( ridge.score(X_train_scaled_poly,y_train) )\n",
        "  test_score.append( ridge.score(X_test_scaled_poly,y_test) )"
      ],
      "metadata": {
        "id": "Slz00qHBmrZL"
      },
      "execution_count": 72,
      "outputs": []
    },
    {
      "cell_type": "code",
      "source": [
        "train_score,test_score"
      ],
      "metadata": {
        "colab": {
          "base_uri": "https://localhost:8080/"
        },
        "id": "Fs64MRJ-t8Z6",
        "outputId": "56cae6b8-35f9-44f0-c485-277a526a95a3"
      },
      "execution_count": 74,
      "outputs": [
        {
          "output_type": "execute_result",
          "data": {
            "text/plain": [
              "([0.9922910867818244,\n",
              "  0.9914543068442363,\n",
              "  0.9892738629525513,\n",
              "  0.9881717145337059,\n",
              "  0.9815957111839705,\n",
              "  0.8596617476146311],\n",
              " [0.7283743083566872,\n",
              "  0.8700572310435811,\n",
              "  0.9632920886448503,\n",
              "  0.979515437798931,\n",
              "  0.981303183640195,\n",
              "  0.8192077889450273])"
            ]
          },
          "metadata": {},
          "execution_count": 74
        }
      ]
    },
    {
      "cell_type": "code",
      "source": [
        "import matplotlib.pyplot as plt\n",
        "import numpy as np\n",
        "print(np.log10(alpha_list))\n",
        "plt.plot(np.log10(alpha_list),train_score,label='train')\n",
        "plt.plot(np.log10(alpha_list),test_score,label='test')\n",
        "plt.legend()\n",
        "plt.show()"
      ],
      "metadata": {
        "colab": {
          "base_uri": "https://localhost:8080/",
          "height": 449
        },
        "id": "Fu49xh83uBvN",
        "outputId": "548f0c94-6330-41c4-c58a-459ebef653ce"
      },
      "execution_count": 77,
      "outputs": [
        {
          "output_type": "stream",
          "name": "stdout",
          "text": [
            "[-3. -2. -1.  0.  1.  2.]\n"
          ]
        },
        {
          "output_type": "display_data",
          "data": {
            "text/plain": [
              "<Figure size 640x480 with 1 Axes>"
            ],
            "image/png": "[encoded data removed]"
          },
          "metadata": {}
        }
      ]
    },
    {
      "cell_type": "code",
      "source": [
        "# 위의 시각화 성능그래프를 보고 alpha는 10일때 최적을 성능을 보인다.--> 파라메터 튜닝을 한것임\n",
        "# alpha = 10\n",
        "ridge = Ridge(alpha=10)\n",
        "ridge.fit(X_train_scaled_poly,y_train)\n",
        "ridge.score(X_train_scaled_poly,y_train), ridge.score(X_test_scaled_poly,y_test)"
      ],
      "metadata": {
        "colab": {
          "base_uri": "https://localhost:8080/"
        },
        "id": "YKmMuFAQuXtx",
        "outputId": "af22d386-4275-436c-a249-938b89af683a"
      },
      "execution_count": 78,
      "outputs": [
        {
          "output_type": "execute_result",
          "data": {
            "text/plain": [
              "(0.9815957111839705, 0.981303183640195)"
            ]
          },
          "metadata": {},
          "execution_count": 78
        }
      ]
    },
    {
      "cell_type": "markdown",
      "source": [
        "라쏘에 대해서 하이퍼 파라메터인 alpha 규제강도를 튜닝 즉 최상의 성능을 내는 값을 찾아보세요"
      ],
      "metadata": {
        "id": "1NgIZU8BwGh1"
      }
    },
    {
      "cell_type": "code",
      "source": [
        "alpha_list = [1,10,100,200,300,400]\n",
        "train_score,test_score = [],[]\n",
        "\n",
        "for alpha in alpha_list:\n",
        "  # 릿지 모델생성\n",
        "  lasso = Lasso(alpha=alpha,max_iter=2000)\n",
        "  lasso.fit(X_train_scaled_poly,y_train)\n",
        "  train_score.append( lasso.score(X_train_scaled_poly,y_train) )\n",
        "  test_score.append( lasso.score(X_test_scaled_poly,y_test) )"
      ],
      "metadata": {
        "id": "mVt1jLXEv2rJ"
      },
      "execution_count": 88,
      "outputs": []
    },
    {
      "cell_type": "code",
      "source": [
        "import matplotlib.pyplot as plt\n",
        "import numpy as np\n",
        "print(np.log10(alpha_list))\n",
        "plt.plot(np.log10(alpha_list),train_score,label='train')\n",
        "plt.plot(np.log10(alpha_list),test_score,label='test')\n",
        "plt.legend()\n",
        "plt.show()"
      ],
      "metadata": {
        "colab": {
          "base_uri": "https://localhost:8080/",
          "height": 449
        },
        "id": "NuNEMELexhx0",
        "outputId": "6e046c36-198e-40eb-bdb0-7070664e9856"
      },
      "execution_count": 89,
      "outputs": [
        {
          "output_type": "stream",
          "name": "stdout",
          "text": [
            "[0.         1.         2.         2.30103    2.47712125 2.60205999]\n"
          ]
        },
        {
          "output_type": "display_data",
          "data": {
            "text/plain": [
              "<Figure size 640x480 with 1 Axes>"
            ],
            "image/png": "[encoded data removed]"
          },
          "metadata": {}
        }
      ]
    },
    {
      "cell_type": "code",
      "source": [
        "lasso = Lasso(alpha=1. ,max_iter=2000)\n",
        "lasso.fit(X_train_scaled_poly,y_train)\n",
        "lasso.score(X_train_scaled_poly,y_train), lasso.score(X_test_scaled_poly,y_test)"
      ],
      "metadata": {
        "colab": {
          "base_uri": "https://localhost:8080/"
        },
        "id": "iG-0JcSdxqc3",
        "outputId": "619733f0-cae7-4089-d18c-aebea81bb8be"
      },
      "execution_count": 90,
      "outputs": [
        {
          "output_type": "execute_result",
          "data": {
            "text/plain": [
              "(0.9884497520254075, 0.9767628389888231)"
            ]
          },
          "metadata": {},
          "execution_count": 90
        }
      ]
    },
    {
      "cell_type": "code",
      "source": [],
      "metadata": {
        "id": "2mdx8kvcy6A4"
      },
      "execution_count": null,
      "outputs": []
    }
  ]
}