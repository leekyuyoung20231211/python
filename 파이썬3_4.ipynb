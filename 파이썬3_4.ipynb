{
  "nbformat": 4,
  "nbformat_minor": 0,
  "metadata": {
    "colab": {
      "provenance": []
    },
    "kernelspec": {
      "name": "python3",
      "display_name": "Python 3"
    },
    "language_info": {
      "name": "python"
    }
  },
  "cells": [
    {
      "cell_type": "code",
      "execution_count": 1,
      "metadata": {
        "id": "VJOt5YriHVoo"
      },
      "outputs": [],
      "source": [
        "# 클래스\n",
        "  # 변수\n",
        "  # 함수\n",
        "\n",
        "# 변수로만 이루어진 클래스"
      ]
    },
    {
      "cell_type": "code",
      "source": [
        "# 클래스 이름 : Student\n",
        "# 이름(name) 나이(age) 학년(grade)  1 2 3 4\n",
        "class Student():\n",
        "  def __init__(self,name,age,grade) -> None:\n",
        "    self.name = name\n",
        "    self.age = age\n",
        "    self.grade = grade"
      ],
      "metadata": {
        "id": "BFjGpLTmHr_T"
      },
      "execution_count": 2,
      "outputs": []
    },
    {
      "cell_type": "code",
      "source": [
        "# 클래스는 객체를 통해 사용된다.\n",
        "# 객체는 변수의 일종\n",
        "a = 10\n",
        "a = 10.5\n",
        "a = True\n",
        "\n",
        "# 참조형 변수\n",
        "a = [1,2,3,4,5]\n",
        "a = (1,2,3,4,5)\n",
        "a = {'k':1,'b':2}\n",
        "\n",
        "# 클래스형 변수 --> 객체\n",
        "a = Student('홍길동',30,2)\n",
        "print(a.name)"
      ],
      "metadata": {
        "colab": {
          "base_uri": "https://localhost:8080/"
        },
        "id": "osCgLVF2JAJm",
        "outputId": "5e77db2f-84db-4559-c1f8-97c865a9c47b"
      },
      "execution_count": 3,
      "outputs": [
        {
          "output_type": "stream",
          "name": "stdout",
          "text": [
            "홍길동\n"
          ]
        }
      ]
    },
    {
      "cell_type": "code",
      "source": [
        "# 과목 Subject\n",
        "# 과목명(name), 학점(credit), 교수명(professor)\n",
        "\n",
        "class Subject():\n",
        "  def __init__(self,name,credit,professor) -> None:\n",
        "    self.name = name\n",
        "    self.credit = credit\n",
        "    self.professor = professor\n",
        "\n",
        "s = Student(\"홍길동\",3,\"교수님\")\n",
        "print(s.name)"
      ],
      "metadata": {
        "colab": {
          "base_uri": "https://localhost:8080/"
        },
        "id": "2Bsr0zBlKJbK",
        "outputId": "d8400075-f6df-4f75-da17-222bc2e522ad"
      },
      "execution_count": 5,
      "outputs": [
        {
          "output_type": "stream",
          "name": "stdout",
          "text": [
            "홍길동\n"
          ]
        }
      ]
    },
    {
      "cell_type": "code",
      "source": [
        "# 학급 클래스  ClassRoom\n",
        "# 학년  class_number, 학생들 students, 과목들  subjects\n",
        "class ClassRoom():\n",
        "  def __init__(self,class_number,students,subjects) -> None:\n",
        "    self.class_number = class_number\n",
        "    self.students = students\n",
        "    self.subjects = subjects\n",
        "\n",
        "c1 = ClassRoom(\"1학년\",['홍길동','홍순이','철이'],['수학','물리학','천문학'])\n",
        "print(c1.students)"
      ],
      "metadata": {
        "colab": {
          "base_uri": "https://localhost:8080/"
        },
        "id": "-RpLU91NLQ3a",
        "outputId": "3e46e639-a0cc-4048-b973-dcc493aabe76"
      },
      "execution_count": 7,
      "outputs": [
        {
          "output_type": "stream",
          "name": "stdout",
          "text": [
            "['홍길동', '홍순이', '철이']\n"
          ]
        }
      ]
    },
    {
      "cell_type": "code",
      "source": [
        "# ClassRoom 객체를 만들때 students 는 student들의 리스트로 만들... subjects도 동일"
      ],
      "metadata": {
        "id": "4jHk2JcbNCe1"
      },
      "execution_count": 8,
      "outputs": []
    },
    {
      "cell_type": "code",
      "source": [
        "c2 = ClassRoom('2학년',[ Student('홍길동1',22,2) , Student('홍길동2',21,2), Student('홍길동3',24,2) ]\n",
        "               , [Subject('컴퓨터',3,'나교수'), Subject('선형대수학',3,'김교수')] )"
      ],
      "metadata": {
        "id": "ctAj9pJUNmlU"
      },
      "execution_count": 9,
      "outputs": []
    },
    {
      "cell_type": "code",
      "source": [
        "for student in c2.students:\n",
        "  print(student.name,student.age)"
      ],
      "metadata": {
        "colab": {
          "base_uri": "https://localhost:8080/"
        },
        "id": "YtOHZDqQPLzW",
        "outputId": "b21759e6-1c25-4aae-9b31-c53a797d0e1a"
      },
      "execution_count": 13,
      "outputs": [
        {
          "output_type": "stream",
          "name": "stdout",
          "text": [
            "홍길동1 22\n",
            "홍길동2 21\n",
            "홍길동3 24\n"
          ]
        }
      ]
    },
    {
      "cell_type": "code",
      "source": [
        "# 계산기 Calculator\n",
        "# 사칙연산"
      ],
      "metadata": {
        "id": "kIVcY4vCPRgi"
      },
      "execution_count": 14,
      "outputs": []
    },
    {
      "cell_type": "code",
      "source": [
        "# 함수만 으로 이루어진 클래스\n",
        "# 문자열 조작 클래스  StringManipulator\n",
        " # 두개 문자열 합치기 concat\n",
        " # 한개 문자열 받아서 첫번째 글자만 대문자  capitalize\n",
        " # 알파벳에서 모음(aeiou)의 수를 세는 함수\n",
        "\n",
        "class StringManipulator():\n",
        "  def concatenate(self, str1, str2):\n",
        "    return str1 + str2\n",
        "\n",
        "  def capitalize(self, text):\n",
        "    return text.capitalize()\n",
        "\n",
        "  def count_vowels(self, text):   # 문자열중에 모음의 개수를 세는 함수\n",
        "    vowels = 'aeiou'\n",
        "    return sum([1 for char in text.lower() if char in vowels])\n",
        "\n",
        "sm = StringManipulator()\n",
        "str1 = \"hello \"\n",
        "str2 = \"word\"\n",
        "print(sm.concatenate(str1, str2))\n",
        "print(sm.capitalize(str1), sm.capitalize(str2))\n",
        "print(sm.count_vowels(str1), sm.count_vowels(str2))"
      ],
      "metadata": {
        "colab": {
          "base_uri": "https://localhost:8080/"
        },
        "id": "dj8suFEQRCsP",
        "outputId": "1a36aa5c-1fc8-4403-addf-5c4cd64f9f4e"
      },
      "execution_count": 17,
      "outputs": [
        {
          "output_type": "stream",
          "name": "stdout",
          "text": [
            "hello word\n",
            "Hello  Word\n",
            "2 1\n"
          ]
        }
      ]
    },
    {
      "cell_type": "code",
      "source": [
        "# 리스트 조작 클래스  ListManipulator\n",
        "  # 수치형 리스트중에 가장 큰값 찾는 함수\n",
        "  # 역순을 출력하는 함수\n",
        "  # 리스트에서 중복을 제거하는 함수\n",
        "class ListManipulator():\n",
        "  def find_max(self, numbers):\n",
        "    return max(numbers)\n",
        "\n",
        "  def reverse(self,list_1):\n",
        "    return list_1[::-1]\n",
        "  def remove_duplicate(self, list_1):\n",
        "    return list(set(list_1))\n",
        "  def get_list(*args):\n",
        "    return list(args)[1:]\n",
        "\n"
      ],
      "metadata": {
        "id": "4RQt_bwlWyqY"
      },
      "execution_count": 34,
      "outputs": []
    },
    {
      "cell_type": "code",
      "source": [
        "lm = ListManipulator()\n",
        "temp = lm.get_list(1,2,3,4,5,6,7,8,9)\n",
        "lm.find_max(temp)"
      ],
      "metadata": {
        "colab": {
          "base_uri": "https://localhost:8080/"
        },
        "id": "2GXK54Qld2JG",
        "outputId": "8f288296-25b2-4fa9-c273-8189005a25b3"
      },
      "execution_count": 36,
      "outputs": [
        {
          "output_type": "execute_result",
          "data": {
            "text/plain": [
              "9"
            ]
          },
          "metadata": {},
          "execution_count": 36
        }
      ]
    },
    {
      "cell_type": "code",
      "source": [
        "lm = ListManipulator()\n",
        "import random\n",
        "numbers = [random.randint(1,15) for i in range(10)]\n",
        "print(\"orginal \", numbers)\n",
        "print(\"max \", lm.find_max(numbers))\n",
        "print(\"revers \", lm.reverse(numbers))\n",
        "print('remove duplicate ', lm.remove_duplicate(numbers))"
      ],
      "metadata": {
        "colab": {
          "base_uri": "https://localhost:8080/"
        },
        "id": "BIVguUhvaCfb",
        "outputId": "6aee796c-2308-4475-fbc5-79d87c19957b"
      },
      "execution_count": 24,
      "outputs": [
        {
          "output_type": "stream",
          "name": "stdout",
          "text": [
            "orginal  [4, 14, 1, 2, 3, 12, 1, 3, 5, 10]\n",
            "max  14\n",
            "revers  [10, 5, 3, 1, 12, 3, 2, 1, 14, 4]\n",
            "remove duplicate  [1, 2, 3, 4, 5, 10, 12, 14]\n"
          ]
        }
      ]
    },
    {
      "cell_type": "code",
      "source": [],
      "metadata": {
        "id": "vAe4dm0RdmR3"
      },
      "execution_count": null,
      "outputs": []
    },
    {
      "cell_type": "markdown",
      "source": [
        "상속\n",
        "  - 기존클래스를 이용해서 확장된 새로운 클래스를 만드는것\n",
        "  - 부모클래스, 수퍼클래스 ....\n",
        "  - 클래스에서 this는 자신을 나타냄... 상속을 받으면 부모는 super 표현  "
      ],
      "metadata": {
        "id": "qRiI_rD9cUQW"
      }
    },
    {
      "cell_type": "code",
      "source": [
        "class Person():\n",
        "  def __init__(self,name) -> None:\n",
        "    self.name = name\n",
        "  def show(self):\n",
        "    print(\"person 입니다.\")\n",
        "\n",
        "class Korean(Person):\n",
        "  def __init__(self, name) -> None:\n",
        "    super().__init__(name)\n",
        ""
      ],
      "metadata": {
        "id": "H_pWmIv5cB96"
      },
      "execution_count": 57,
      "outputs": []
    },
    {
      "cell_type": "code",
      "source": [
        "k = Korean(\"철수\")"
      ],
      "metadata": {
        "id": "yWlws9GmbT94"
      },
      "execution_count": 59,
      "outputs": []
    },
    {
      "cell_type": "code",
      "source": [
        "k.name"
      ],
      "metadata": {
        "colab": {
          "base_uri": "https://localhost:8080/",
          "height": 35
        },
        "id": "742aWfcIituh",
        "outputId": "e1846e3e-71aa-4d5a-9905-09c8ea1afe05"
      },
      "execution_count": 56,
      "outputs": [
        {
          "output_type": "execute_result",
          "data": {
            "text/plain": [
              "'사람이름'"
            ],
            "application/vnd.google.colaboratory.intrinsic+json": {
              "type": "string"
            }
          },
          "metadata": {},
          "execution_count": 56
        }
      ]
    },
    {
      "cell_type": "code",
      "source": [
        "from re import A\n",
        "class Animal():\n",
        "  def show_info(self):\n",
        "    print(\"동물입니다.\")\n",
        "\n",
        "class Cat(Animal):\n",
        "  def show_info(self):     # 오버라이드(override)  재정의, 덮어쓰다  over write라고 이해\n",
        "    print('고양이 입니다.')\n",
        "\n",
        "class Dog(Animal):\n",
        "  pass"
      ],
      "metadata": {
        "id": "cUH1MFmWoddw"
      },
      "execution_count": 75,
      "outputs": []
    },
    {
      "cell_type": "code",
      "source": [
        "c1 = Cat()\n",
        "c1.show_info()\n",
        "d1 = Dog()\n",
        "d1.show_info()"
      ],
      "metadata": {
        "colab": {
          "base_uri": "https://localhost:8080/"
        },
        "id": "3Y5sQKGepJb_",
        "outputId": "ac923685-d248-493c-e244-aba48f163caf"
      },
      "execution_count": 76,
      "outputs": [
        {
          "output_type": "stream",
          "name": "stdout",
          "text": [
            "고양이 입니다.\n",
            "동물입니다.\n"
          ]
        }
      ]
    },
    {
      "cell_type": "code",
      "source": [
        "def show_info():\n",
        "  print(\"동물입니다.\")"
      ],
      "metadata": {
        "id": "xa2VrgIupPzj"
      },
      "execution_count": 71,
      "outputs": []
    },
    {
      "cell_type": "code",
      "source": [
        "show_info()"
      ],
      "metadata": {
        "colab": {
          "base_uri": "https://localhost:8080/"
        },
        "id": "SpiaRScvpwkr",
        "outputId": "aa5d675c-d2ec-49cf-85fd-bc053e5fc2c8"
      },
      "execution_count": 74,
      "outputs": [
        {
          "output_type": "stream",
          "name": "stdout",
          "text": [
            "고양이 입니다.\n"
          ]
        }
      ]
    },
    {
      "cell_type": "code",
      "source": [
        "def show_info():\n",
        "  print('고양이 입니다.')"
      ],
      "metadata": {
        "id": "co6WDn16py-v"
      },
      "execution_count": 73,
      "outputs": []
    },
    {
      "cell_type": "code",
      "source": [
        "# 강아지\n",
        "  # 이름,나이,품종\n",
        "  # 짖는다(멍멍), 먹는다, 잔다, 논다, 좋아하는 먹이(간식)\n",
        "# 고양이\n",
        "  # 이름, 나이, 품종\n",
        "  # 운다(야옹야옹), 먹는다, 잔다, 논다,, 좋아하는 먹이(생선)\n",
        "# 햄스터\n",
        "  # 이름, 나이, 품종\n",
        "  # 운다(찍찍) ,먹는다, 잔다, 논다 ,, 좋아하는 먹이(해바리기씨)\n"
      ],
      "metadata": {
        "id": "fkmbzquJp3cU"
      },
      "execution_count": null,
      "outputs": []
    }
  ]
}