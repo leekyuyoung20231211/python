{
  "nbformat": 4,
  "nbformat_minor": 0,
  "metadata": {
    "colab": {
      "provenance": []
    },
    "kernelspec": {
      "name": "python3",
      "display_name": "Python 3"
    },
    "language_info": {
      "name": "python"
    }
  },
  "cells": [
    {
      "cell_type": "markdown",
      "source": [
        "배깅 : 부스트랩 샘플링을 통한 분류 앙상블"
      ],
      "metadata": {
        "id": "1ClXJ_q5WClE"
      }
    },
    {
      "cell_type": "code",
      "source": [
        "from IPython.display import Image\n",
        "Image(url='https://raw.githubusercontent.com/rickiepark/ml-with-pytorch/main/ch07/figures/07_06.png', width=500)"
      ],
      "metadata": {
        "colab": {
          "base_uri": "https://localhost:8080/",
          "height": 399
        },
        "id": "f3geHFLjWGB4",
        "outputId": "0f8e59b4-e941-480f-cc39-09ea8e04af25"
      },
      "execution_count": 2,
      "outputs": [
        {
          "output_type": "execute_result",
          "data": {
            "text/html": [
              "<img src=\"https://raw.githubusercontent.com/rickiepark/ml-with-pytorch/main/ch07/figures/07_06.png\" width=\"500\"/>"
            ],
            "text/plain": [
              "<IPython.core.display.Image object>"
            ]
          },
          "metadata": {},
          "execution_count": 2
        }
      ]
    },
    {
      "cell_type": "markdown",
      "source": [
        "알고리즘 동작방식"
      ],
      "metadata": {
        "id": "1jpfyrLmWkqn"
      }
    },
    {
      "cell_type": "code",
      "source": [
        "Image(url='https://raw.githubusercontent.com/rickiepark/ml-with-pytorch/main/ch07/figures/07_07.png', width=800)"
      ],
      "metadata": {
        "colab": {
          "base_uri": "https://localhost:8080/",
          "height": 255
        },
        "id": "hSf3LqALWIpM",
        "outputId": "82fe1c03-2c9a-4af5-cb4f-9098bc262c61"
      },
      "execution_count": 3,
      "outputs": [
        {
          "output_type": "execute_result",
          "data": {
            "text/html": [
              "<img src=\"https://raw.githubusercontent.com/rickiepark/ml-with-pytorch/main/ch07/figures/07_07.png\" width=\"800\"/>"
            ],
            "text/plain": [
              "<IPython.core.display.Image object>"
            ]
          },
          "metadata": {},
          "execution_count": 3
        }
      ]
    },
    {
      "cell_type": "markdown",
      "source": [
        "Wine 데이터셋의 샘플 분류"
      ],
      "metadata": {
        "id": "qk3DsW6FW0Pf"
      }
    },
    {
      "cell_type": "code",
      "source": [
        "import pandas as pd\n",
        "df_wine = pd.read_csv('https://archive.ics.uci.edu/ml/machine-learning-databases/wine/wine.data', header=None)\n",
        "df_wine.columns = ['Class label', 'Alcohol', 'Malic acid', 'Ash',\n",
        "                   'Alcalinity of ash', 'Magnesium', 'Total phenols',\n",
        "                   'Flavanoids', 'Nonflavanoid phenols', 'Proanthocyanins',\n",
        "                   'Color intensity', 'Hue', 'OD280/OD315 of diluted wines',\n",
        "                   'Proline']\n",
        "# 클래스 1  제외\n",
        "df_wine = df_wine[df_wine['Class label'] != 1]\n",
        "y = df_wine['Class label'].values\n",
        "X = df_wine[['Alcohol','OD280/OD315 of diluted wines']].values"
      ],
      "metadata": {
        "id": "-ILtUBRuWmYm"
      },
      "execution_count": 7,
      "outputs": []
    },
    {
      "cell_type": "code",
      "source": [
        "df_wine['Class label'].value_counts()"
      ],
      "metadata": {
        "colab": {
          "base_uri": "https://localhost:8080/"
        },
        "id": "7h26nBBhW5VJ",
        "outputId": "e1fbbc8f-04b7-44b3-9791-65c5d318dcf9"
      },
      "execution_count": 6,
      "outputs": [
        {
          "output_type": "execute_result",
          "data": {
            "text/plain": [
              "2    71\n",
              "1    59\n",
              "3    48\n",
              "Name: Class label, dtype: int64"
            ]
          },
          "metadata": {},
          "execution_count": 6
        }
      ]
    },
    {
      "cell_type": "code",
      "source": [
        "from sklearn.preprocessing import LabelEncoder\n",
        "from sklearn.model_selection import train_test_split\n",
        "le = LabelEncoder()\n",
        "y = le.fit_transform(y)\n",
        "\n",
        "X_train,X_test,y_train,y_test = train_test_split(X,y,test_size=0.2,random_state=1,stratify=y)"
      ],
      "metadata": {
        "id": "zDG-A9tMYJtQ"
      },
      "execution_count": 8,
      "outputs": []
    },
    {
      "cell_type": "code",
      "source": [
        "from sklearn.ensemble import BaggingClassifier\n",
        "from sklearn.tree import DecisionTreeClassifier\n",
        "tree = DecisionTreeClassifier(criterion='entropy',max_depth=None, random_state=1)\n",
        "bag = BaggingClassifier(estimator=tree, n_estimators=500,max_samples=1.0,max_features=1.0,\n",
        "                        bootstrap=True,bootstrap_features=False)"
      ],
      "metadata": {
        "id": "j6o8uxvIYpz2"
      },
      "execution_count": 9,
      "outputs": []
    },
    {
      "cell_type": "code",
      "source": [
        "from sklearn.metrics import accuracy_score\n",
        "tree = tree.fit(X_train,y_train)\n",
        "y_train_pred = tree.predict(X_train)\n",
        "y_test_pred = tree.predict(X_test)\n",
        "\n",
        "tree_train = accuracy_score(y_train,y_train_pred)\n",
        "tree_test = accuracy_score(y_test,y_test_pred)\n",
        "print(f\"결정트리의 정확도 : {tree_train} {tree_test}\")\n",
        "\n",
        "bag.fit(X_train,y_train)\n",
        "y_train_pred = bag.predict(X_train)\n",
        "y_test_pred = bag.predict(X_test)\n",
        "\n",
        "bag_train = accuracy_score(y_train,y_train_pred)\n",
        "bag_test = accuracy_score(y_test,y_test_pred)\n",
        "print(f\"베깅의 정확도 : {bag_train} {bag_test}\")"
      ],
      "metadata": {
        "colab": {
          "base_uri": "https://localhost:8080/"
        },
        "id": "Wkx1uU_XZPCp",
        "outputId": "47c4e17b-4ccc-4cb2-aa49-427898fe32fd"
      },
      "execution_count": 13,
      "outputs": [
        {
          "output_type": "stream",
          "name": "stdout",
          "text": [
            "결정트리의 정확도 : 1.0 0.8333333333333334\n",
            "베깅의 정확도 : 1.0 0.9166666666666666\n"
          ]
        }
      ]
    },
    {
      "cell_type": "code",
      "source": [
        "from sklearn.ensemble import RandomForestClassifier\n",
        "rf =  RandomForestClassifier()\n",
        "rf.fit(X_train, y_train)\n",
        "rf_train_score = rf.score(X_train,y_train)\n",
        "rf_test_score = rf.score(X_test,y_test)\n",
        "print(f\"랜덤포레스트 train   test  {rf_train_score} {rf_test_score}\")\n"
      ],
      "metadata": {
        "colab": {
          "base_uri": "https://localhost:8080/"
        },
        "id": "hTEDH-DUbDHh",
        "outputId": "0da580a1-6e1a-416e-cb60-c3b1a9ce4042"
      },
      "execution_count": 14,
      "outputs": [
        {
          "output_type": "stream",
          "name": "stdout",
          "text": [
            "랜덤포레스트 train   test  1.0 0.9166666666666666\n"
          ]
        }
      ]
    },
    {
      "cell_type": "markdown",
      "source": [
        "약한 학습기를 통한 에이다 부스트"
      ],
      "metadata": {
        "id": "z6uTv7HZcjAP"
      }
    },
    {
      "cell_type": "code",
      "source": [
        "Image(url='https://raw.githubusercontent.com/rickiepark/ml-with-pytorch/main/ch07/figures/07_09.png', width=400)"
      ],
      "metadata": {
        "colab": {
          "base_uri": "https://localhost:8080/",
          "height": 361
        },
        "id": "cYr4oZmWcmvr",
        "outputId": "7b9f380b-6d30-4eaa-970a-e494c79492b8"
      },
      "execution_count": 15,
      "outputs": [
        {
          "output_type": "execute_result",
          "data": {
            "text/html": [
              "<img src=\"https://raw.githubusercontent.com/rickiepark/ml-with-pytorch/main/ch07/figures/07_09.png\" width=\"400\"/>"
            ],
            "text/plain": [
              "<IPython.core.display.Image object>"
            ]
          },
          "metadata": {},
          "execution_count": 15
        }
      ]
    },
    {
      "cell_type": "markdown",
      "source": [
        "사이킷런에서 에이다부스트 사용"
      ],
      "metadata": {
        "id": "wBkEOSkrc94E"
      }
    },
    {
      "cell_type": "code",
      "source": [
        "from sklearn.ensemble import AdaBoostClassifier\n",
        "tree = DecisionTreeClassifier(criterion='entropy',\n",
        "                              max_depth = 1,\n",
        "                              random_state=1\n",
        "                              )\n",
        "ada = AdaBoostClassifier(estimator=tree, n_estimators=500,learning_rate=0.1,random_state=1)"
      ],
      "metadata": {
        "id": "sotkrC8ocoC7"
      },
      "execution_count": 17,
      "outputs": []
    },
    {
      "cell_type": "code",
      "source": [
        "# 1. tree 학습하고 예측해서 정확도(훈련/검증)\n",
        "# 2. 에이다부스트 학습하고 예측해서 정확도(훈련/검증)\n",
        "tree_train = accuracy_score(y_train,y_train_pred)\n",
        "tree_test = accuracy_score(y_test,y_test_pred)\n",
        "print(f\"결정트리의 정확도 : {tree_train} {tree_test}\")\n",
        "\n",
        "ada.fit(X_train,y_train)\n",
        "y_train_pred = ada.predict(X_train)\n",
        "y_test_pred = ada.predict(X_test)\n",
        "\n",
        "ada_train = accuracy_score(y_train,y_train_pred)\n",
        "ada_test = accuracy_score(y_test,y_test_pred)\n",
        "print(f\"ada 정확도 : {ada_train} {ada_test}\")"
      ],
      "metadata": {
        "colab": {
          "base_uri": "https://localhost:8080/"
        },
        "id": "YvrnT6DXdmLe",
        "outputId": "4a83693a-e729-4fb9-dff8-3529ee42a417"
      },
      "execution_count": 19,
      "outputs": [
        {
          "output_type": "stream",
          "name": "stdout",
          "text": [
            "결정트리의 정확도 : 1.0 0.9166666666666666\n",
            "ada 정확도 : 1.0 0.9166666666666666\n"
          ]
        }
      ]
    },
    {
      "cell_type": "markdown",
      "source": [
        "그레이디언트 부스팅 - 손실 그레이디언트 기반의 앙상블 훈련\n",
        "  - XGBoost"
      ],
      "metadata": {
        "id": "WdgXTmHRel3P"
      }
    },
    {
      "cell_type": "code",
      "source": [
        "import xgboost as xgb"
      ],
      "metadata": {
        "id": "SKnFe8EpebAJ"
      },
      "execution_count": 21,
      "outputs": []
    },
    {
      "cell_type": "code",
      "source": [
        "xgb.__version__"
      ],
      "metadata": {
        "colab": {
          "base_uri": "https://localhost:8080/",
          "height": 36
        },
        "id": "ltLvu1J9fOYm",
        "outputId": "4c881898-7eac-4abb-8b71-ba45e5f7cc0d"
      },
      "execution_count": 22,
      "outputs": [
        {
          "output_type": "execute_result",
          "data": {
            "text/plain": [
              "'2.0.3'"
            ],
            "application/vnd.google.colaboratory.intrinsic+json": {
              "type": "string"
            }
          },
          "metadata": {},
          "execution_count": 22
        }
      ]
    },
    {
      "cell_type": "code",
      "source": [
        "model = xgb.XGBClassifier(n_estimators=1000,learning_rate=0.01, max_depth=4, random_state=1, use_label_encoder=1)\n",
        "gbm = model.fit(X_train,y_train)\n",
        "y_train_pred =  gbm.predict(X_train)\n",
        "y_test_pred = gbm.predict(X_test)\n",
        "\n",
        "gbm_train = accuracy_score(y_train,y_train_pred)\n",
        "gbm_test = accuracy_score(y_test,y_test_pred)\n",
        "gbm_train,gbm_test\n",
        ""
      ],
      "metadata": {
        "colab": {
          "base_uri": "https://localhost:8080/"
        },
        "id": "u3wVrdH-fTcA",
        "outputId": "50a0e6cb-4988-4e7f-ed3e-85c322bf0b7c"
      },
      "execution_count": 23,
      "outputs": [
        {
          "output_type": "execute_result",
          "data": {
            "text/plain": [
              "(0.968421052631579, 0.9166666666666666)"
            ]
          },
          "metadata": {},
          "execution_count": 23
        }
      ]
    },
    {
      "cell_type": "code",
      "source": [
        "from sklearn.ensemble import GradientBoostingClassifier\n",
        "import numpy as np\n",
        "import matplotlib.pyplot as plt\n",
        "\n",
        "gbr = GradientBoostingClassifier(n_estimators = 100,\n",
        "                                 subsample=0.5,\n",
        "                                 random_state=1\n",
        "                                 )\n",
        "gbr.fit(X_train,y_train)\n",
        "oob_loss = np.cumsum(-gbr.oob_improvement_)   # oob_improvement_ 손실을 양수로 표현\n",
        "plt.plot(range(100),oob_loss)\n",
        "plt.xlabel(\"number of trees\")\n",
        "plt.ylabel(\"loss\")\n",
        "plt.show()"
      ],
      "metadata": {
        "colab": {
          "base_uri": "https://localhost:8080/",
          "height": 449
        },
        "id": "-GucC6RugEgN",
        "outputId": "bfb9cf68-8e3d-4a2f-b974-d934fcdc31d7"
      },
      "execution_count": 28,
      "outputs": [
        {
          "output_type": "display_data",
          "data": {
            "text/plain": [
              "<Figure size 640x480 with 1 Axes>"
            ],
            "image/png": "[encoded data removed]"
          },
          "metadata": {}
        }
      ]
    },
    {
      "cell_type": "code",
      "source": [],
      "metadata": {
        "id": "eYL2LsFEjRZB"
      },
      "execution_count": null,
      "outputs": []
    }
  ]
}