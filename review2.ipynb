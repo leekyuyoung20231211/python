{
  "nbformat": 4,
  "nbformat_minor": 0,
  "metadata": {
    "colab": {
      "provenance": []
    },
    "kernelspec": {
      "name": "python3",
      "display_name": "Python 3"
    },
    "language_info": {
      "name": "python"
    }
  },
  "cells": [
    {
      "cell_type": "code",
      "execution_count": null,
      "metadata": {
        "id": "gFY5i__JmO0N"
      },
      "outputs": [],
      "source": []
    },
    {
      "cell_type": "markdown",
      "source": [
        "파이썬 에서 자주 사용되는 코딩 스타일 또는 라이브러리들.."
      ],
      "metadata": {
        "id": "jf4AbD9GmUdD"
      }
    },
    {
      "cell_type": "code",
      "source": [
        "# map : 집합에대해서 각 원에 함수를 적용\n",
        "list_1 = [1,2,3,4,5,6,7,8,9,10]\n",
        "# 리스트의 각 숫자를 문자로 변경\n",
        "number = 1\n",
        "print(type(number))\n",
        "number = str(number)\n",
        "print(type(number))"
      ],
      "metadata": {
        "colab": {
          "base_uri": "https://localhost:8080/"
        },
        "id": "aFD53Ky0mXw1",
        "outputId": "fba17b78-cf3b-4ec7-c0bf-1d8b03cc44b4"
      },
      "execution_count": 3,
      "outputs": [
        {
          "output_type": "stream",
          "name": "stdout",
          "text": [
            "<class 'int'>\n",
            "<class 'str'>\n"
          ]
        }
      ]
    },
    {
      "cell_type": "code",
      "source": [
        "list_1 = list(map(str, list_1))\n",
        "print(list_1)"
      ],
      "metadata": {
        "colab": {
          "base_uri": "https://localhost:8080/"
        },
        "id": "AEKtAHuInVbq",
        "outputId": "c3eb55b0-2ef8-4c89-a700-539efdf2f205"
      },
      "execution_count": 5,
      "outputs": [
        {
          "output_type": "stream",
          "name": "stdout",
          "text": [
            "['1', '2', '3', '4', '5', '6', '7', '8', '9', '10']\n"
          ]
        }
      ]
    },
    {
      "cell_type": "code",
      "source": [
        "map(str, list_1)  # 순환가능한 객체라서 리스트로 변경하지 않아도 for문으로 사용 가능하다\n",
        "for i in map(str, list_1):\n",
        "  print(i)\n",
        "\n",
        "for i in list(map(str, list_1)):  # list(map(str, list_1)) 리스트로 사용하기 위해선\n",
        "  print(i)\n"
      ],
      "metadata": {
        "id": "hkOkl51ZozQm"
      },
      "execution_count": null,
      "outputs": []
    },
    {
      "cell_type": "code",
      "source": [
        "# 숫자형 문자열 --> 숫자   int()\n",
        "list_1 = list( map(int,list_1) )\n",
        "list_1"
      ],
      "metadata": {
        "colab": {
          "base_uri": "https://localhost:8080/"
        },
        "id": "ZPj22QL8nrR0",
        "outputId": "f3ece7f2-038b-44e8-d48b-840754cffc34"
      },
      "execution_count": 9,
      "outputs": [
        {
          "output_type": "execute_result",
          "data": {
            "text/plain": [
              "[1, 2, 3, 4, 5, 6, 7, 8, 9, 10]"
            ]
          },
          "metadata": {},
          "execution_count": 9
        }
      ]
    },
    {
      "cell_type": "code",
      "source": [
        "words = ['abc','hello','good moring']\n",
        "# 각 문자열의 길이를 구해서 리스트로 저장\n",
        "# for문을 이용한 풀이\n",
        "result = []\n",
        "\n",
        "# for i in range( len(words) ):\n",
        "#   result.append( len(words[i]) )\n",
        "for i in words:\n",
        "  result.append( len(i) )\n",
        "\n",
        "print(result)\n"
      ],
      "metadata": {
        "colab": {
          "base_uri": "https://localhost:8080/"
        },
        "id": "V4XQlLb4pLU6",
        "outputId": "bf592b4d-c2cc-417a-f52c-16e7e4211e41"
      },
      "execution_count": 12,
      "outputs": [
        {
          "output_type": "stream",
          "name": "stdout",
          "text": [
            "[3, 5, 11]\n"
          ]
        }
      ]
    },
    {
      "cell_type": "code",
      "source": [
        "# for문을 개선한 리스트 컴프리핸션  한줄코딩\n",
        "words = ['abc','hello','good moring']\n",
        "# result = [ len(words[i])  for i in range(len(words))   ]\n",
        "result = [ len(i)  for i in words   ]\n",
        "print(result)"
      ],
      "metadata": {
        "colab": {
          "base_uri": "https://localhost:8080/"
        },
        "id": "ZXP8S1bnrLk6",
        "outputId": "79583517-9bd0-47cd-8015-bafd19ca562c"
      },
      "execution_count": 13,
      "outputs": [
        {
          "output_type": "stream",
          "name": "stdout",
          "text": [
            "[3, 5, 11]\n"
          ]
        }
      ]
    },
    {
      "cell_type": "code",
      "source": [
        "# map함수를 이용\n",
        "words = ['abc','hello','good moring']\n",
        "result = list(map( len, words ))  # len('abc')  len('hello')  len('good moring')\n",
        "print(result)"
      ],
      "metadata": {
        "colab": {
          "base_uri": "https://localhost:8080/"
        },
        "id": "6Dme92Qwr7_X",
        "outputId": "364d373a-c38b-4094-ef5d-a3e0f3796318"
      },
      "execution_count": 14,
      "outputs": [
        {
          "output_type": "stream",
          "name": "stdout",
          "text": [
            "[3, 5, 11]\n"
          ]
        }
      ]
    },
    {
      "cell_type": "code",
      "source": [
        "# 다음 주어진 문자열의 각원소를 소문자로 변경하세요\n",
        "sample1 = \"Apple\"\n",
        "sample1.lower()"
      ],
      "metadata": {
        "colab": {
          "base_uri": "https://localhost:8080/",
          "height": 36
        },
        "id": "JUdo70-0sYfn",
        "outputId": "5863d9cf-c761-4412-c4bc-519d29a9f17e"
      },
      "execution_count": 17,
      "outputs": [
        {
          "output_type": "execute_result",
          "data": {
            "text/plain": [
              "'apple'"
            ],
            "application/vnd.google.colaboratory.intrinsic+json": {
              "type": "string"
            }
          },
          "metadata": {},
          "execution_count": 17
        }
      ]
    },
    {
      "cell_type": "code",
      "source": [
        "words = ['Abc','Hello','Good Moring']\n",
        "def changeLower(data):\n",
        "  return data.lower()\n",
        "\n",
        "result = list(map( changeLower, words  ))\n",
        "print(result)"
      ],
      "metadata": {
        "colab": {
          "base_uri": "https://localhost:8080/"
        },
        "id": "BhbXLDIZspND",
        "outputId": "067d1f18-b4c1-466f-954a-316ed5dfd634"
      },
      "execution_count": 18,
      "outputs": [
        {
          "output_type": "stream",
          "name": "stdout",
          "text": [
            "['abc', 'hello', 'good moring']\n"
          ]
        }
      ]
    },
    {
      "cell_type": "code",
      "source": [
        "numbers = [1, 2, 3, 4, 5]\n",
        "# 각 요소에 제곱을 한 값을 리스트로 저장\n",
        "def myF(data):\n",
        "  return data**2\n",
        "\n",
        "result = list(map(myF, numbers)  )\n",
        "print(result)"
      ],
      "metadata": {
        "colab": {
          "base_uri": "https://localhost:8080/"
        },
        "id": "5Ma9ltwLvDQR",
        "outputId": "b054689a-3ec0-45cd-b040-633a25fe8b42"
      },
      "execution_count": 19,
      "outputs": [
        {
          "output_type": "stream",
          "name": "stdout",
          "text": [
            "[1, 4, 9, 16, 25]\n"
          ]
        }
      ]
    },
    {
      "cell_type": "markdown",
      "source": [
        "람다\n",
        "  - 익명의 함수\n",
        "  - 함수이름이 없고 기능만 존재"
      ],
      "metadata": {
        "id": "iaGhTPTywGRR"
      }
    },
    {
      "cell_type": "code",
      "source": [
        "# 람다\n",
        "temp =  lambda data: data**2\n",
        "print( temp(5) )"
      ],
      "metadata": {
        "colab": {
          "base_uri": "https://localhost:8080/"
        },
        "id": "30Uni2lUv05w",
        "outputId": "94499096-0e99-464f-8ff3-a5b1479a5035"
      },
      "execution_count": 21,
      "outputs": [
        {
          "output_type": "stream",
          "name": "stdout",
          "text": [
            "25\n"
          ]
        }
      ]
    },
    {
      "cell_type": "code",
      "source": [
        "numbers = [1, 2, 3, 4, 5]\n",
        "# 각 요소에 제곱을 한 값을 리스트로 저장\n",
        "result = list(   map( lambda x : x**2, numbers  )      )\n",
        "print(result)"
      ],
      "metadata": {
        "colab": {
          "base_uri": "https://localhost:8080/"
        },
        "id": "Z1JfioibwdUf",
        "outputId": "4935c817-c7da-4eaf-ed68-93bc9aeca2ad"
      },
      "execution_count": 22,
      "outputs": [
        {
          "output_type": "stream",
          "name": "stdout",
          "text": [
            "[1, 4, 9, 16, 25]\n"
          ]
        }
      ]
    },
    {
      "cell_type": "code",
      "source": [
        "import random\n",
        "numbers = [ random.randint(1,100) for i in range(10) ]\n",
        "# 짝 홀을 구분해서\n",
        "# ['홀','짝']\n",
        "numbers"
      ],
      "metadata": {
        "colab": {
          "base_uri": "https://localhost:8080/"
        },
        "id": "l6oFYPmrw7po",
        "outputId": "64214f88-11a7-405b-c439-2174220a01e8"
      },
      "execution_count": 23,
      "outputs": [
        {
          "output_type": "execute_result",
          "data": {
            "text/plain": [
              "[46, 96, 56, 43, 11, 32, 97, 19, 50, 3]"
            ]
          },
          "metadata": {},
          "execution_count": 23
        }
      ]
    },
    {
      "cell_type": "code",
      "source": [
        "result = []\n",
        "for i in numbers:\n",
        "  if i%2 == 0:\n",
        "    result.append(\"짝\")\n",
        "  else:\n",
        "    result.append(\"홀\")\n",
        "print(result)"
      ],
      "metadata": {
        "colab": {
          "base_uri": "https://localhost:8080/"
        },
        "id": "rKDwTGuGzVXT",
        "outputId": "3fb4fa32-d419-4dd5-a544-88ddaa1f9c7c"
      },
      "execution_count": 25,
      "outputs": [
        {
          "output_type": "stream",
          "name": "stdout",
          "text": [
            "['짝', '짝', '짝', '홀', '홀', '짝', '홀', '홀', '짝', '홀']\n"
          ]
        }
      ]
    },
    {
      "cell_type": "code",
      "source": [
        "# 리스트 컴프리핸션에서 조건문 사용하기\n",
        "# 단일조건문 if\n",
        "[ '짝' for i in numbers  if i%2 ==0]"
      ],
      "metadata": {
        "colab": {
          "base_uri": "https://localhost:8080/"
        },
        "id": "8UyLIJDUznMa",
        "outputId": "34dfbd18-5495-45d1-e4f1-ae925d0d7753"
      },
      "execution_count": 27,
      "outputs": [
        {
          "output_type": "execute_result",
          "data": {
            "text/plain": [
              "['짝', '짝', '짝', '짝', '짝']"
            ]
          },
          "metadata": {},
          "execution_count": 27
        }
      ]
    },
    {
      "cell_type": "code",
      "source": [
        "# 조건문 if~else\n",
        "result = [  '짝' if i%2 == 0 else '홀'  for i in numbers   ]\n",
        "print(result)"
      ],
      "metadata": {
        "colab": {
          "base_uri": "https://localhost:8080/"
        },
        "id": "5HHytAAW0BJP",
        "outputId": "05d5bded-6a13-426c-931a-3a8126531d31"
      },
      "execution_count": 28,
      "outputs": [
        {
          "output_type": "stream",
          "name": "stdout",
          "text": [
            "['짝', '짝', '짝', '홀', '홀', '짝', '홀', '홀', '짝', '홀']\n"
          ]
        }
      ]
    },
    {
      "cell_type": "code",
      "source": [
        "# 3항 연산자.  if ~ else 를 한줄로 표현\n",
        "# 전달받은 데이터가 짝수면 True 홀수면 False를 리턴하는 함수\n",
        "def isEven(data):\n",
        "  if data %2 == 0:\n",
        "    return True\n",
        "  else:\n",
        "    return False\n",
        "\n",
        "def  isEven(data):\n",
        "  return True if data %2 == 0 else False"
      ],
      "metadata": {
        "id": "PZ1fTL5z0vLx"
      },
      "execution_count": 30,
      "outputs": []
    },
    {
      "cell_type": "code",
      "source": [
        "# 정렬\n",
        "# 임의의 정수 데이터 10개를 생성 1~100사이의\n",
        "import random\n",
        "numbers = [  random.randint(1,100)  for i in range(10)  ]\n",
        "print(\"정렬전\",numbers)\n",
        "\n",
        "numbers = sorted(numbers)\n",
        "\n",
        "print(\"정렬후-오름차순\",numbers)\n",
        "\n",
        "# 아래문장을 사용하지 않고 내림차순으로 정렬해 보기\n",
        "# hint 오름차순을 뒤집기\n",
        "# numbers = sorted(numbers,reverse=True)\n",
        "numbers = numbers[::-1]\n",
        "\n",
        "print(\"정렬후-내림차순\",numbers)"
      ],
      "metadata": {
        "colab": {
          "base_uri": "https://localhost:8080/"
        },
        "id": "mdDjps8u1ZTn",
        "outputId": "c64f0544-88f7-4f82-c66b-e44b3941e254"
      },
      "execution_count": 35,
      "outputs": [
        {
          "output_type": "stream",
          "name": "stdout",
          "text": [
            "정렬전 [66, 16, 13, 3, 8, 76, 3, 82, 8, 3]\n",
            "정렬후-오름차순 [3, 3, 3, 8, 8, 13, 16, 66, 76, 82]\n",
            "정렬후-내림차순 [82, 76, 66, 16, 13, 8, 8, 3, 3, 3]\n"
          ]
        }
      ]
    },
    {
      "cell_type": "code",
      "source": [
        "numbers_copy = numbers\n",
        "print(numbers_copy)\n",
        "print(numbers)\n",
        "numbers_copy[0] = \"가나다\"\n",
        "print(numbers_copy)\n",
        "print(numbers)"
      ],
      "metadata": {
        "colab": {
          "base_uri": "https://localhost:8080/"
        },
        "id": "371e5OH94DBd",
        "outputId": "b12c2403-f896-4068-c367-d93cc0e5a02d"
      },
      "execution_count": 39,
      "outputs": [
        {
          "output_type": "stream",
          "name": "stdout",
          "text": [
            "[82, 76, 66, 16, 13, 8, 8, 3, 3, 3]\n",
            "[82, 76, 66, 16, 13, 8, 8, 3, 3, 3]\n",
            "['가나다', 76, 66, 16, 13, 8, 8, 3, 3, 3]\n",
            "['가나다', 76, 66, 16, 13, 8, 8, 3, 3, 3]\n"
          ]
        }
      ]
    },
    {
      "cell_type": "code",
      "source": [
        "numbers = [  random.randint(1,100)  for i in range(10)  ]\n",
        "numbers_copy = numbers[::]  # 기존  리스트의 데이터를 출력해서 새로운 메모리주소로 변수에 저장한다. 즉. 서로다른 주소.\n",
        "print(numbers_copy)\n",
        "print(numbers)\n",
        "numbers_copy[0] = \"가나다\"\n",
        "print(numbers_copy)\n",
        "print(numbers)"
      ],
      "metadata": {
        "colab": {
          "base_uri": "https://localhost:8080/"
        },
        "id": "S14vXH6g2YKO",
        "outputId": "f86cf76a-f74b-408b-8520-c46bd7ff3401"
      },
      "execution_count": 40,
      "outputs": [
        {
          "output_type": "stream",
          "name": "stdout",
          "text": [
            "[9, 24, 91, 81, 58, 65, 87, 2, 66, 34]\n",
            "[9, 24, 91, 81, 58, 65, 87, 2, 66, 34]\n",
            "['가나다', 24, 91, 81, 58, 65, 87, 2, 66, 34]\n",
            "[9, 24, 91, 81, 58, 65, 87, 2, 66, 34]\n"
          ]
        }
      ]
    },
    {
      "cell_type": "code",
      "source": [
        "# map, split, input, in 를 이용해서 문자열의 각 문자열숫자를 정수로 변환해서 각각의 변수에 저장\n",
        "# 국어 영어 수학 점수를 공백을 기준으로 입력을 받습니다.\n",
        "# 그리고 kor eng math 변수에 정수형태로 각각 저장합니다. - 언패킹\n",
        "\n",
        "kor,eng,math = map(int, input(\"공백을 기준으로 국 영 수 과목을 점수를 입력하세요\").split())\n",
        "print(kor,eng,math)"
      ],
      "metadata": {
        "colab": {
          "base_uri": "https://localhost:8080/"
        },
        "id": "ezsaw8w333x1",
        "outputId": "36042a40-d588-41c9-ad06-33c40f08d689"
      },
      "execution_count": 42,
      "outputs": [
        {
          "output_type": "stream",
          "name": "stdout",
          "text": [
            "공백을 기준으로 국 영 수 과목을 점수를 입력하세요10 20 30\n",
            "10 20 30\n"
          ]
        }
      ]
    },
    {
      "cell_type": "code",
      "source": [
        "input(\"공백을 기준으로 국 영 수 과목을 점수를 입력하세요\")"
      ],
      "metadata": {
        "colab": {
          "base_uri": "https://localhost:8080/",
          "height": 54
        },
        "id": "CLQHwKuV7O6O",
        "outputId": "e622a9be-06e8-4c9b-e653-3654ebe7974d"
      },
      "execution_count": 43,
      "outputs": [
        {
          "name": "stdout",
          "output_type": "stream",
          "text": [
            "공백을 기준으로 국 영 수 과목을 점수를 입력하세요10 20 30\n"
          ]
        },
        {
          "output_type": "execute_result",
          "data": {
            "text/plain": [
              "'10 20 30'"
            ],
            "application/vnd.google.colaboratory.intrinsic+json": {
              "type": "string"
            }
          },
          "metadata": {},
          "execution_count": 43
        }
      ]
    },
    {
      "cell_type": "code",
      "source": [
        "'10 20 30'.split()"
      ],
      "metadata": {
        "colab": {
          "base_uri": "https://localhost:8080/"
        },
        "id": "inbFkDVB7WiR",
        "outputId": "a5c74699-1817-43e1-8465-9a08468d182a"
      },
      "execution_count": 44,
      "outputs": [
        {
          "output_type": "execute_result",
          "data": {
            "text/plain": [
              "['10', '20', '30']"
            ]
          },
          "metadata": {},
          "execution_count": 44
        }
      ]
    },
    {
      "cell_type": "code",
      "source": [
        "kor,eng,math =  map(int,['10', '20', '30'])\n",
        "print(kor,eng,math)"
      ],
      "metadata": {
        "colab": {
          "base_uri": "https://localhost:8080/"
        },
        "id": "N6EhZy5Y7azk",
        "outputId": "d0276882-a628-49c9-8c0f-bf92472c9dce"
      },
      "execution_count": 47,
      "outputs": [
        {
          "output_type": "stream",
          "name": "stdout",
          "text": [
            "10 20 30\n"
          ]
        }
      ]
    },
    {
      "cell_type": "markdown",
      "source": [
        "# 패킹 / 언패킹\n",
        "  - 패킹\n",
        "    - 여러 값을 하나로 묵기(튜플)"
      ],
      "metadata": {
        "id": "G8UwI-pZ7-Pu"
      }
    },
    {
      "cell_type": "code",
      "source": [
        "point = 3 , 4\n",
        "print( point )\n",
        "coordinates = [3, 4, 5]\n",
        "print( coordinates )"
      ],
      "metadata": {
        "colab": {
          "base_uri": "https://localhost:8080/"
        },
        "id": "z5wnzVtL7eDx",
        "outputId": "7e8f978f-5544-4921-ab8e-55cb293b969b"
      },
      "execution_count": 50,
      "outputs": [
        {
          "output_type": "stream",
          "name": "stdout",
          "text": [
            "(3, 4)\n",
            "[3, 4, 5]\n"
          ]
        }
      ]
    },
    {
      "cell_type": "markdown",
      "source": [
        "언패킹\n",
        "  - 패킹된 데이터를 개수만큼 분리하기"
      ],
      "metadata": {
        "id": "DDDHn-Jm8bgl"
      }
    },
    {
      "cell_type": "code",
      "source": [
        "x, y = point\n",
        "print(x,y)\n",
        "a,b,c = coordinates\n",
        "print(a,b,c)"
      ],
      "metadata": {
        "colab": {
          "base_uri": "https://localhost:8080/"
        },
        "id": "9tCDKdhR77gR",
        "outputId": "fd349682-3620-463c-b34e-cc8b956b3a3c"
      },
      "execution_count": 52,
      "outputs": [
        {
          "output_type": "stream",
          "name": "stdout",
          "text": [
            "3 4\n",
            "3 4 5\n"
          ]
        }
      ]
    },
    {
      "cell_type": "markdown",
      "source": [
        "함수에서 패킹과 언패킹의 사용"
      ],
      "metadata": {
        "id": "mdyQ65sn80hE"
      }
    },
    {
      "cell_type": "markdown",
      "source": [
        "패킹"
      ],
      "metadata": {
        "id": "dV1RUWsT87Al"
      }
    },
    {
      "cell_type": "code",
      "source": [
        "def add(*args):  # 패킹\n",
        "  return sum(args)\n",
        "print(add(2,41,25,1,25,4))\n"
      ],
      "metadata": {
        "colab": {
          "base_uri": "https://localhost:8080/"
        },
        "id": "D-EQDRpD8mBn",
        "outputId": "1ba61108-1afa-4690-e307-cb5c22cff83b"
      },
      "execution_count": 62,
      "outputs": [
        {
          "output_type": "stream",
          "name": "stdout",
          "text": [
            "98\n"
          ]
        }
      ]
    },
    {
      "cell_type": "markdown",
      "source": [
        "언패킹"
      ],
      "metadata": {
        "id": "ZS01wv3b-crM"
      }
    },
    {
      "cell_type": "code",
      "source": [
        "numbers = 2,41,25,1,25,4  #패킹\n",
        "print(numbers)\n",
        "print(*numbers)  # 패킹된 데이터를 *붙이면\n",
        "print(2,41,25,1,25,4)"
      ],
      "metadata": {
        "colab": {
          "base_uri": "https://localhost:8080/"
        },
        "id": "w2lyW7_p-byG",
        "outputId": "92c8e94c-8b32-4c0c-8aeb-1f1f788c5e59"
      },
      "execution_count": 66,
      "outputs": [
        {
          "output_type": "stream",
          "name": "stdout",
          "text": [
            "(2, 41, 25, 1, 25, 4)\n",
            "2 41 25 1 25 4\n",
            "2 41 25 1 25 4\n"
          ]
        }
      ]
    },
    {
      "cell_type": "code",
      "source": [
        "def add(*args):  # 패킹\n",
        "  return sum(args)\n",
        "numbers = 2,41,25,1,25,4\n",
        "print(add(*numbers))"
      ],
      "metadata": {
        "colab": {
          "base_uri": "https://localhost:8080/"
        },
        "id": "sGP8gkQj9Sji",
        "outputId": "f6deb975-7f70-44ed-e37d-5dda5e5be2df"
      },
      "execution_count": 61,
      "outputs": [
        {
          "output_type": "stream",
          "name": "stdout",
          "text": [
            "98\n"
          ]
        }
      ]
    },
    {
      "cell_type": "markdown",
      "source": [
        "키워드 가변 매개변수 패킹 / 언패킹"
      ],
      "metadata": {
        "id": "Ky5o2Jo1BLrb"
      }
    },
    {
      "cell_type": "code",
      "source": [
        "# 패킹\n",
        "scores = {\n",
        "    'kor' : 80,\n",
        "    'eng' : 90,\n",
        "    'math' : 95\n",
        "}\n",
        "scores"
      ],
      "metadata": {
        "colab": {
          "base_uri": "https://localhost:8080/"
        },
        "id": "YzHgHk11-a6e",
        "outputId": "46c22b24-3cb4-40c4-e8d1-368e337c6424"
      },
      "execution_count": 63,
      "outputs": [
        {
          "output_type": "execute_result",
          "data": {
            "text/plain": [
              "{'kor': 80, 'eng': 90, 'math': 95}"
            ]
          },
          "metadata": {},
          "execution_count": 63
        }
      ]
    },
    {
      "cell_type": "code",
      "source": [
        "def calcScore(kor,eng,math):\n",
        "  print(kor,eng,math)\n",
        "  return kor+eng+math"
      ],
      "metadata": {
        "id": "mWSjx5C1BkEU"
      },
      "execution_count": 77,
      "outputs": []
    },
    {
      "cell_type": "code",
      "source": [
        "calcScore(10,20,30)\n",
        "\n",
        "calcScore(kor=80,eng=90,math=95)\n",
        "calcScore(**scores) # 언패킹"
      ],
      "metadata": {
        "colab": {
          "base_uri": "https://localhost:8080/"
        },
        "id": "wVc8rVymBuS7",
        "outputId": "f324d9a0-4dab-4165-988c-8e8b15d9f270"
      },
      "execution_count": 78,
      "outputs": [
        {
          "output_type": "stream",
          "name": "stdout",
          "text": [
            "10 20 30\n",
            "80 90 95\n",
            "80 90 95\n"
          ]
        },
        {
          "output_type": "execute_result",
          "data": {
            "text/plain": [
              "265"
            ]
          },
          "metadata": {},
          "execution_count": 78
        }
      ]
    },
    {
      "cell_type": "code",
      "source": [
        "def calcScore(**kargs):  # 키워드 가변인수\n",
        "  print(kor,eng,math)\n",
        "  return kor+eng+math\n",
        "\n",
        "calcScore(kor = 10, eng=20,math=30)\n",
        "calcScore(**scores)"
      ],
      "metadata": {
        "colab": {
          "base_uri": "https://localhost:8080/"
        },
        "id": "6gBdFnC3CIP1",
        "outputId": "39e5b6b5-70db-45d8-8142-a7a75ac3d46b"
      },
      "execution_count": 79,
      "outputs": [
        {
          "output_type": "stream",
          "name": "stdout",
          "text": [
            "10 20 30\n",
            "10 20 30\n"
          ]
        },
        {
          "output_type": "execute_result",
          "data": {
            "text/plain": [
              "60"
            ]
          },
          "metadata": {},
          "execution_count": 79
        }
      ]
    },
    {
      "cell_type": "code",
      "source": [
        "help(sorted)"
      ],
      "metadata": {
        "colab": {
          "base_uri": "https://localhost:8080/"
        },
        "id": "dQy1cmYWEwjY",
        "outputId": "80e89299-704d-442a-886a-039781828b37"
      },
      "execution_count": 87,
      "outputs": [
        {
          "output_type": "stream",
          "name": "stdout",
          "text": [
            "Help on built-in function sorted in module builtins:\n",
            "\n",
            "sorted(iterable, /, *, key=None, reverse=False)\n",
            "    Return a new list containing all items from the iterable in ascending order.\n",
            "    \n",
            "    A custom key function can be supplied to customize the sort order, and the\n",
            "    reverse flag can be set to request the result in descending order.\n",
            "\n"
          ]
        }
      ]
    },
    {
      "cell_type": "code",
      "source": [
        "# dicrionary 정렬\n",
        "a = [1, 1, 1,1,]  # 리스트\n",
        "b = (1,1,1,1,)  # 튜플\n",
        "c = { 'a':1, 'b':2  } # 딕셔너리"
      ],
      "metadata": {
        "id": "LUE5mbdCFIVw"
      },
      "execution_count": 82,
      "outputs": []
    },
    {
      "cell_type": "code",
      "source": [
        "# zip : 두개의 집합 데이터를 각각의 원소끼리 1:1 로 묶는것 - 주로 두개의 리스트로 dictionary만들때 사용\n",
        "scores = [100,95,98,85,88]\n",
        "name = ['홍길동','강감찬','이순신','철이','미애']\n",
        "students = dict(zip( name, scores ))\n",
        "students"
      ],
      "metadata": {
        "colab": {
          "base_uri": "https://localhost:8080/"
        },
        "id": "5i-hln0OFobO",
        "outputId": "0a233543-d454-4744-f5f7-d3031953d39c"
      },
      "execution_count": 85,
      "outputs": [
        {
          "output_type": "execute_result",
          "data": {
            "text/plain": [
              "{'홍길동': 100, '강감찬': 95, '이순신': 98, '철이': 85, '미애': 88}"
            ]
          },
          "metadata": {},
          "execution_count": 85
        }
      ]
    },
    {
      "cell_type": "code",
      "source": [
        "# students 를 정렬하면??\n",
        "sorted(students)"
      ],
      "metadata": {
        "colab": {
          "base_uri": "https://localhost:8080/"
        },
        "id": "-LJhM2NvGSgf",
        "outputId": "d597cf6b-a503-45ee-983b-28f985a7d9bb"
      },
      "execution_count": 88,
      "outputs": [
        {
          "output_type": "execute_result",
          "data": {
            "text/plain": [
              "['강감찬', '미애', '이순신', '철이', '홍길동']"
            ]
          },
          "metadata": {},
          "execution_count": 88
        }
      ]
    },
    {
      "cell_type": "code",
      "source": [
        "def orderDict( data ): # (key,value)\n",
        "  return data[1]"
      ],
      "metadata": {
        "id": "bkrxBcOYHCkR"
      },
      "execution_count": 99,
      "outputs": []
    },
    {
      "cell_type": "code",
      "source": [
        "sorted(students.items(), key= orderDict,reverse=True)"
      ],
      "metadata": {
        "colab": {
          "base_uri": "https://localhost:8080/"
        },
        "id": "iTAWqSIZHSGs",
        "outputId": "e0c1fc51-87d8-4852-e8c9-4ef2cf5b2df6"
      },
      "execution_count": 101,
      "outputs": [
        {
          "output_type": "execute_result",
          "data": {
            "text/plain": [
              "[('홍길동', 100), ('이순신', 98), ('강감찬', 95), ('미애', 88), ('철이', 85)]"
            ]
          },
          "metadata": {},
          "execution_count": 101
        }
      ]
    },
    {
      "cell_type": "code",
      "source": [
        "# 위에 예제를 람다로 변경해서 적용\n",
        "sorted(students.items(), key= lambda data: data[1] ,reverse=True)  # value를 기준으로 내림차순으로 정렬"
      ],
      "metadata": {
        "colab": {
          "base_uri": "https://localhost:8080/"
        },
        "id": "midx4GynH-Uj",
        "outputId": "2774a818-13cf-4cec-e62c-4f9d6f177990"
      },
      "execution_count": 102,
      "outputs": [
        {
          "output_type": "execute_result",
          "data": {
            "text/plain": [
              "[('홍길동', 100), ('이순신', 98), ('강감찬', 95), ('미애', 88), ('철이', 85)]"
            ]
          },
          "metadata": {},
          "execution_count": 102
        }
      ]
    },
    {
      "cell_type": "code",
      "source": [
        "students = dict(sorted(students.items(), key= lambda data: data[1] ,reverse=True))\n",
        "students"
      ],
      "metadata": {
        "colab": {
          "base_uri": "https://localhost:8080/"
        },
        "id": "uaWvwJLCKZ-V",
        "outputId": "8cc912db-8616-4d7f-8d02-428bc50c8514"
      },
      "execution_count": 104,
      "outputs": [
        {
          "output_type": "execute_result",
          "data": {
            "text/plain": [
              "{'홍길동': 100, '이순신': 98, '강감찬': 95, '미애': 88, '철이': 85}"
            ]
          },
          "metadata": {},
          "execution_count": 104
        }
      ]
    },
    {
      "cell_type": "markdown",
      "source": [
        "딕셔너리를 만들고\n",
        "정렬\n",
        "그 값을 다시 원본에 저장"
      ],
      "metadata": {
        "id": "rhgN65E4K13A"
      }
    },
    {
      "cell_type": "code",
      "source": [
        "myDict = dict( zip(['a','c','b' ],[30,20,10 ]) )\n",
        "\n",
        "myDict = dict(sorted(myDict.items(), key = lambda x : x[0]))\n",
        "print(myDict)\n",
        "myDict = dict(sorted(myDict.items(), key = lambda x : x[0], reverse=True))\n",
        "print(myDict)\n",
        "myDict = dict(sorted(myDict.items(), key = lambda x : x[1]))\n",
        "print(myDict)\n",
        "myDict = dict(sorted(myDict.items(), key = lambda x : x[1], reverse=True))\n",
        "print(myDict)"
      ],
      "metadata": {
        "colab": {
          "base_uri": "https://localhost:8080/"
        },
        "id": "GmrdOAPdKvhM",
        "outputId": "0e741dcf-86dc-4503-86e9-28224fe27304"
      },
      "execution_count": 111,
      "outputs": [
        {
          "output_type": "stream",
          "name": "stdout",
          "text": [
            "{'a': 30, 'b': 10, 'c': 20}\n",
            "{'c': 20, 'b': 10, 'a': 30}\n",
            "{'b': 10, 'c': 20, 'a': 30}\n",
            "{'a': 30, 'c': 20, 'b': 10}\n"
          ]
        }
      ]
    },
    {
      "cell_type": "code",
      "source": [],
      "metadata": {
        "id": "N8PZEKL_LrXa"
      },
      "execution_count": null,
      "outputs": []
    }
  ]
}