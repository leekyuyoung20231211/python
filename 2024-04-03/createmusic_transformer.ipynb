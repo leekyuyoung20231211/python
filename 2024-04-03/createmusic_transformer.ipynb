{
  "nbformat": 4,
  "nbformat_minor": 0,
  "metadata": {
    "colab": {
      "provenance": [],
      "gpuType": "T4"
    },
    "kernelspec": {
      "name": "python3",
      "display_name": "Python 3"
    },
    "language_info": {
      "name": "python"
    },
    "accelerator": "GPU"
  },
  "cells": [
    {
      "cell_type": "markdown",
      "source": [
        "## 트랜스 포머를 이용한 음악생성"
      ],
      "metadata": {
        "id": "Rdduc8dyg3GS"
      }
    },
    {
      "cell_type": "markdown",
      "source": [
        "- 파라메터"
      ],
      "metadata": {
        "id": "PLH2f58DhGBK"
      }
    },
    {
      "cell_type": "code",
      "source": [
        "import sys\n",
        "if 'google.colab' in sys.modules:\n",
        "    !wget https://raw.githubusercontent.com/rickiepark/Generative_Deep_Learning_2nd_Edition/main/notebooks/11_music/01_transformer/transformer_utils.py\n",
        "    # output 디렉토리를 만듭니다.\n",
        "    !mkdir bach-cello\n",
        "    !mkdir parsed_data\n",
        "    !mkdir models\n",
        "    !mkdir output\n",
        "    # 악보 이미지 생성을 위해\n",
        "    !apt-get install lilypond > /dev/null"
      ],
      "metadata": {
        "colab": {
          "base_uri": "https://localhost:8080/"
        },
        "id": "sU2Oi-zdjM-s",
        "outputId": "ac9972f6-c293-4c0d-a826-812cee5a2dcd"
      },
      "execution_count": 2,
      "outputs": [
        {
          "output_type": "stream",
          "name": "stdout",
          "text": [
            "--2024-04-03 12:01:15--  https://raw.githubusercontent.com/rickiepark/Generative_Deep_Learning_2nd_Edition/main/notebooks/11_music/01_transformer/transformer_utils.py\n",
            "Resolving raw.githubusercontent.com (raw.githubusercontent.com)... 185.199.108.133, 185.199.109.133, 185.199.110.133, ...\n",
            "Connecting to raw.githubusercontent.com (raw.githubusercontent.com)|185.199.108.133|:443... connected.\n",
            "HTTP request sent, awaiting response... 200 OK\n",
            "Length: 6876 (6.7K) [text/plain]\n",
            "Saving to: ‘transformer_utils.py’\n",
            "\n",
            "\rtransformer_utils.p   0%[                    ]       0  --.-KB/s               \rtransformer_utils.p 100%[===================>]   6.71K  --.-KB/s    in 0s      \n",
            "\n",
            "2024-04-03 12:01:16 (64.3 MB/s) - ‘transformer_utils.py’ saved [6876/6876]\n",
            "\n",
            "Extracting templates from packages: 100%\n"
          ]
        }
      ]
    },
    {
      "cell_type": "code",
      "source": [
        "# 필요한 라이브러리\n",
        "import os\n",
        "import glob\n",
        "import numpy as np\n",
        "import time\n",
        "import sys\n",
        "import matplotlib.pyplot as plt\n",
        "\n",
        "import tensorflow as tf\n",
        "from tensorflow.keras import layers, models, losses, callbacks\n",
        "\n",
        "import music21\n",
        "\n",
        "from transformer_utils  import(\n",
        "    parse_midi_files,\n",
        "    load_parsed_files,\n",
        "    get_midi_note,\n",
        "    SinePositionEncoding\n",
        ")"
      ],
      "metadata": {
        "id": "3zsLEY_YiLlW"
      },
      "execution_count": 3,
      "outputs": []
    },
    {
      "cell_type": "code",
      "source": [
        "PARSE_MIDI_FILES = True\n",
        "PARSED_DATA_PATH = './parsed_data'\n",
        "DATASET_REPETITIONS = 1\n",
        "\n",
        "SEQ_LEN = 50\n",
        "EMBEDDING_DIM = 256\n",
        "KEY_DIM = 256\n",
        "N_HEADS = 5\n",
        "DROPOUT_RATE = 0.3\n",
        "FEED_FORWARD_DIM = 256\n",
        "LOAD_MODEL = False\n",
        "\n",
        "# 최적화\n",
        "EPOCHS = 20\n",
        "BATCH_SIZE = 256\n",
        "GENERATE_LEN = 50"
      ],
      "metadata": {
        "id": "Z6R3QNuJg5wy"
      },
      "execution_count": 4,
      "outputs": []
    },
    {
      "cell_type": "code",
      "source": [
        "if 'google.colab' in sys.modules:\n",
        "    %cd ./bach-cello/\n",
        "    !curl -O http://www.jsbach.net/midi/cs1-1pre.mid -s\n",
        "    !curl -O http://www.jsbach.net/midi/cs1-2all.mid -s\n",
        "    !curl -O http://www.jsbach.net/midi/cs1-3cou.mid -s\n",
        "    !curl -O http://www.jsbach.net/midi/cs1-4sar.mid -s\n",
        "    !curl -O http://www.jsbach.net/midi/cs1-5men.mid -s\n",
        "    !curl -O http://www.jsbach.net/midi/cs1-6gig.mid -s\n",
        "    !curl -O http://www.jsbach.net/midi/cs2-1pre.mid -s\n",
        "    !curl -O http://www.jsbach.net/midi/cs2-2all.mid -s\n",
        "    !curl -O http://www.jsbach.net/midi/cs2-3cou.mid -s\n",
        "    !curl -O http://www.jsbach.net/midi/cs2-4sar.mid -s\n",
        "    !curl -O http://www.jsbach.net/midi/cs2-5men.mid -s\n",
        "    !curl -O http://www.jsbach.net/midi/cs2-6gig.mid -s\n",
        "    !curl -O http://www.jsbach.net/midi/cs3-1pre.mid -s\n",
        "    !curl -O http://www.jsbach.net/midi/cs3-2all.mid -s\n",
        "    !curl -O http://www.jsbach.net/midi/cs3-3cou.mid -s\n",
        "    !curl -O http://www.jsbach.net/midi/cs3-4sar.mid -s\n",
        "    !curl -O http://www.jsbach.net/midi/cs3-5bou.mid -s\n",
        "    !curl -O http://www.jsbach.net/midi/cs3-6gig.mid -s\n",
        "    !curl -O http://www.jsbach.net/midi/cs4-1pre.mid -s\n",
        "    !curl -O http://www.jsbach.net/midi/cs4-2all.mid -s\n",
        "    !curl -O http://www.jsbach.net/midi/cs4-3cou.mid -s\n",
        "    !curl -O http://www.jsbach.net/midi/cs4-4sar.mid -s\n",
        "    !curl -O http://www.jsbach.net/midi/cs4-5bou.mid -s\n",
        "    !curl -O http://www.jsbach.net/midi/cs4-6gig.mid -s\n",
        "    !curl -O http://www.jsbach.net/midi/cs5-1pre.mid -s\n",
        "    !curl -O http://www.jsbach.net/midi/cs5-2all.mid -s\n",
        "    !curl -O http://www.jsbach.net/midi/cs5-3cou.mid -s\n",
        "    !curl -O http://www.jsbach.net/midi/cs5-4sar.mid -s\n",
        "    !curl -O http://www.jsbach.net/midi/cs5-5gav.mid -s\n",
        "    !curl -O http://www.jsbach.net/midi/cs5-6gig.mid -s\n",
        "    !curl -O http://www.jsbach.net/midi/cs6-1pre.mid -s\n",
        "    !curl -O http://www.jsbach.net/midi/cs6-2all.mid -s\n",
        "    !curl -O http://www.jsbach.net/midi/cs6-3cou.mid -s\n",
        "    !curl -O http://www.jsbach.net/midi/cs6-4sar.mid -s\n",
        "    !curl -O http://www.jsbach.net/midi/cs6-5gav.mid -s\n",
        "    !curl -O http://www.jsbach.net/midi/cs6-6gig.mid -s\n",
        "    %cd .."
      ],
      "metadata": {
        "colab": {
          "base_uri": "https://localhost:8080/"
        },
        "id": "vzxr0CLRh7ku",
        "outputId": "8077d50a-ade4-482b-803f-dfb8f8134bcb"
      },
      "execution_count": 5,
      "outputs": [
        {
          "output_type": "stream",
          "name": "stdout",
          "text": [
            "/content/bach-cello\n",
            "/content\n"
          ]
        }
      ]
    },
    {
      "cell_type": "code",
      "source": [
        "# 데이터 로드\n",
        "file_list = glob.glob(\"./bach-cello/*.mid\")\n",
        "len(file_list)"
      ],
      "metadata": {
        "colab": {
          "base_uri": "https://localhost:8080/"
        },
        "id": "_TxMvMxQiBmq",
        "outputId": "ff92640e-8f4f-492e-84b8-f96bad4eff21"
      },
      "execution_count": 6,
      "outputs": [
        {
          "output_type": "execute_result",
          "data": {
            "text/plain": [
              "36"
            ]
          },
          "metadata": {},
          "execution_count": 6
        }
      ]
    },
    {
      "cell_type": "code",
      "source": [
        "parser = music21.converter"
      ],
      "metadata": {
        "id": "tZHabBqDkSXZ"
      },
      "execution_count": 7,
      "outputs": []
    },
    {
      "cell_type": "code",
      "source": [
        "example_score = music21.converter.parse(file_list[1]).splitAtQuarterLength(12)[0].chordify()"
      ],
      "metadata": {
        "id": "mV687H8zkb8s"
      },
      "execution_count": 8,
      "outputs": []
    },
    {
      "cell_type": "code",
      "source": [
        "from IPython.display import Image, Audio"
      ],
      "metadata": {
        "id": "T_ryj7ApkqFM"
      },
      "execution_count": 9,
      "outputs": []
    },
    {
      "cell_type": "code",
      "source": [
        "display(Image(str(example_score.write('lily.png'))))"
      ],
      "metadata": {
        "colab": {
          "base_uri": "https://localhost:8080/",
          "height": 109
        },
        "id": "LuZem3AplBuS",
        "outputId": "c6018de0-a53a-47fa-8026-deaace333213"
      },
      "execution_count": 10,
      "outputs": [
        {
          "output_type": "display_data",
          "data": {
            "image/png": "[encoded data removed]",
            "text/plain": [
              "<IPython.core.display.Image object>"
            ]
          },
          "metadata": {}
        }
      ]
    },
    {
      "cell_type": "code",
      "source": [
        "example_score.show('text')"
      ],
      "metadata": {
        "colab": {
          "base_uri": "https://localhost:8080/"
        },
        "id": "W8KrR4PylOl-",
        "outputId": "5f2e5b4f-a740-4747-e23d-4480b5f8c16d"
      },
      "execution_count": 11,
      "outputs": [
        {
          "output_type": "stream",
          "name": "stdout",
          "text": [
            "{0.0} <music21.metadata.Metadata object at 0x7f8d36220550>\n",
            "{0.0} <music21.stream.Measure 1 offset=0.0>\n",
            "    {0.0} <music21.instrument.Violoncello 'Solo Cello: Solo Cello'>\n",
            "    {0.0} <music21.instrument.Violoncello 'Violoncello'>\n",
            "    {0.0} <music21.clef.BassClef>\n",
            "    {0.0} <music21.tempo.MetronomeMark grave Quarter=40>\n",
            "    {0.0} <music21.key.Key of C major>\n",
            "    {0.0} <music21.meter.TimeSignature 3/4>\n",
            "    {0.0} <music21.chord.Chord C2 G2 E3 C4>\n",
            "    {1.0} <music21.chord.Chord D3 C4>\n",
            "    {1.75} <music21.chord.Chord D3 A3>\n",
            "    {2.0} <music21.chord.Chord B3>\n",
            "{3.0} <music21.stream.Measure 2 offset=3.0>\n",
            "    {0.0} <music21.chord.Chord C2 G2 E3 B-3>\n",
            "    {1.0} <music21.chord.Chord F3 B-3>\n",
            "    {1.75} <music21.chord.Chord F3 G3>\n",
            "    {2.0} <music21.chord.Chord A3>\n",
            "{6.0} <music21.stream.Measure 3 offset=6.0>\n",
            "    {0.0} <music21.chord.Chord B2 D3>\n",
            "    {0.5} <music21.chord.Chord E3>\n",
            "    {0.75} <music21.chord.Chord F3>\n",
            "    {1.0} <music21.chord.Chord C2 G2 F3>\n",
            "    {1.5} <music21.chord.Chord F3>\n",
            "    {1.75} <music21.chord.Chord D3>\n",
            "    {2.0} <music21.chord.Chord E3>\n",
            "    {2.5} <music21.chord.Chord F3>\n",
            "{9.0} <music21.stream.Measure 4 offset=9.0>\n",
            "    {0.0} <music21.chord.Chord C3>\n",
            "    {0.25} <music21.chord.Chord B2>\n",
            "    {0.5} <music21.chord.Chord C3>\n",
            "    {0.75} <music21.chord.Chord A2>\n",
            "    {1.0} <music21.chord.Chord B2>\n",
            "    {1.5} <music21.chord.Chord D3>\n",
            "    {2.0} <music21.chord.Chord G2>\n",
            "    {2.5} <music21.chord.Chord F2>\n"
          ]
        }
      ]
    },
    {
      "cell_type": "code",
      "source": [
        "if PARSE_MIDI_FILES:\n",
        "  notes,durations = parse_midi_files(\n",
        "      file_list, parser, SEQ_LEN+1, PARSED_DATA_PATH\n",
        "  )\n",
        "else:\n",
        "  notes,durations = load_parsed_files()"
      ],
      "metadata": {
        "colab": {
          "base_uri": "https://localhost:8080/"
        },
        "id": "llXVu4LMlah8",
        "outputId": "ef382440-d01a-4924-c25e-36c580110a85"
      },
      "execution_count": 12,
      "outputs": [
        {
          "output_type": "stream",
          "name": "stdout",
          "text": [
            "1 ./bach-cello/cs3-6gig.mid 파싱\n"
          ]
        },
        {
          "output_type": "stream",
          "name": "stderr",
          "text": [
            "<ipython-input-12-248aee80d70d>:2: Music21DeprecationWarning: .flat is deprecated.  Call .flatten() instead\n",
            "  notes,durations = parse_midi_files(\n"
          ]
        },
        {
          "output_type": "stream",
          "name": "stdout",
          "text": [
            "961개 음표 파싱\n",
            "2 ./bach-cello/cs3-4sar.mid 파싱\n",
            "1302개 음표 파싱\n",
            "3 ./bach-cello/cs1-2all.mid 파싱\n",
            "2223개 음표 파싱\n",
            "4 ./bach-cello/cs6-2all.mid 파싱\n",
            "2908개 음표 파싱\n",
            "5 ./bach-cello/cs2-6gig.mid 파싱\n",
            "3643개 음표 파싱\n",
            "6 ./bach-cello/cs2-3cou.mid 파싱\n",
            "4384개 음표 파싱\n",
            "7 ./bach-cello/cs6-6gig.mid 파싱\n",
            "5556개 음표 파싱\n",
            "8 ./bach-cello/cs4-5bou.mid 파싱\n",
            "6880개 음표 파싱\n",
            "9 ./bach-cello/cs1-5men.mid 파싱\n",
            "7527개 음표 파싱\n",
            "10 ./bach-cello/cs2-2all.mid 파싱\n",
            "8220개 음표 파싱\n",
            "11 ./bach-cello/cs1-3cou.mid 파싱\n",
            "9040개 음표 파싱\n",
            "12 ./bach-cello/cs5-5gav.mid 파싱\n",
            "10242개 음표 파싱\n",
            "13 ./bach-cello/cs2-1pre.mid 파싱\n",
            "10880개 음표 파싱\n",
            "14 ./bach-cello/cs6-1pre.mid 파싱\n",
            "12222개 음표 파싱\n",
            "15 ./bach-cello/cs3-2all.mid 파싱\n",
            "12959개 음표 파싱\n",
            "16 ./bach-cello/cs1-4sar.mid 파싱\n",
            "13222개 음표 파싱\n",
            "17 ./bach-cello/cs5-6gig.mid 파싱\n",
            "13671개 음표 파싱\n",
            "18 ./bach-cello/cs4-1pre.mid 파싱\n",
            "14488개 음표 파싱\n",
            "19 ./bach-cello/cs3-5bou.mid 파싱\n",
            "15369개 음표 파싱\n",
            "20 ./bach-cello/cs4-6gig.mid 파싱\n",
            "16340개 음표 파싱\n",
            "21 ./bach-cello/cs4-4sar.mid 파싱\n",
            "16660개 음표 파싱\n",
            "22 ./bach-cello/cs5-1pre.mid 파싱\n",
            "17969개 음표 파싱\n",
            "23 ./bach-cello/cs5-4sar.mid 파싱\n",
            "18188개 음표 파싱\n",
            "24 ./bach-cello/cs1-1pre.mid 파싱\n",
            "18846개 음표 파싱\n",
            "25 ./bach-cello/cs3-3cou.mid 파싱\n",
            "19835개 음표 파싱\n",
            "26 ./bach-cello/cs6-5gav.mid 파싱\n",
            "20641개 음표 파싱\n",
            "27 ./bach-cello/cs2-4sar.mid 파싱\n",
            "20978개 음표 파싱\n",
            "28 ./bach-cello/cs2-5men.mid 파싱\n",
            "21505개 음표 파싱\n",
            "29 ./bach-cello/cs1-6gig.mid 파싱\n",
            "21931개 음표 파싱\n",
            "30 ./bach-cello/cs5-2all.mid 파싱\n",
            "22623개 음표 파싱\n",
            "31 ./bach-cello/cs4-2all.mid 파싱\n",
            "23678개 음표 파싱\n",
            "32 ./bach-cello/cs5-3cou.mid 파싱\n",
            "24108개 음표 파싱\n",
            "33 ./bach-cello/cs4-3cou.mid 파싱\n",
            "25030개 음표 파싱\n",
            "34 ./bach-cello/cs6-3cou.mid 파싱\n",
            "26316개 음표 파싱\n",
            "35 ./bach-cello/cs3-1pre.mid 파싱\n",
            "27297개 음표 파싱\n",
            "36 ./bach-cello/cs6-4sar.mid 파싱\n",
            "27632개 음표 파싱\n",
            "길이가 51인 시퀀스 만들기\n"
          ]
        }
      ]
    },
    {
      "cell_type": "code",
      "source": [
        "example_notes = notes[658]\n",
        "example_durations = durations[658]\n",
        "example_notes,example_durations"
      ],
      "metadata": {
        "colab": {
          "base_uri": "https://localhost:8080/"
        },
        "id": "f6oBZ3ncl4p4",
        "outputId": "886b7a51-43c4-4441-ea29-8acc74860c9b"
      },
      "execution_count": 13,
      "outputs": [
        {
          "output_type": "execute_result",
          "data": {
            "text/plain": [
              "('A3 B3 E3 G3 C4 A3 B-3 G3 A3 F3 D3 F3 E3 D3 G3 D3 B2 A2 G2 F2 E2 G2 C3 E2 D2 B2 C3 E3 G3 C4 D4 C4 B3 C4 A3 B3 G3 A3 F3 G3 E3 F3 D3 E3 C3 G3 A3 B3 C4 D4 E4',\n",
              " '0.5 0.5 0.25 0.25 0.25 0.25 0.25 0.25 0.25 0.25 0.25 0.25 0.25 0.25 0.25 0.25 0.25 0.25 0.25 0.25 0.25 0.25 0.25 0.25 0.25 0.25 0.5 0.5 0.5 1.0 0.25 0.25 0.25 0.25 0.25 0.25 0.25 0.25 0.25 0.25 0.25 0.25 0.25 0.25 0.25 0.25 0.25 0.25 0.25 0.25 0.5')"
            ]
          },
          "metadata": {},
          "execution_count": 13
        }
      ]
    },
    {
      "cell_type": "markdown",
      "source": [
        "데이터 토큰화"
      ],
      "metadata": {
        "id": "lR-_lN1anhbY"
      }
    },
    {
      "cell_type": "code",
      "source": [
        "def create_dataset(elements):\n",
        "  ds = (\n",
        "      tf.data.Dataset.from_tensor_slices(elements)\n",
        "      .batch(BATCH_SIZE,drop_remainder=True)\n",
        "      .shuffle(1000)\n",
        "  )\n",
        "  vectorize_layer = layers.TextVectorization(\n",
        "      standardize=None, output_mode = 'int'\n",
        "  )\n",
        "  vectorize_layer.adapt(ds)\n",
        "  vocab = vectorize_layer.get_vocabulary()\n",
        "  return ds, vectorize_layer, vocab\n",
        "\n",
        "notes_seq_ds, notes_vectorize_layer, notes_vocab =  create_dataset(notes)\n",
        "durations_seq_ds, durations_vectorize_layer, durations_vocab = create_dataset(durations)\n",
        "seq_ds = tf.data.Dataset.zip((notes_seq_ds, durations_seq_ds))\n"
      ],
      "metadata": {
        "id": "dPLdYVQ-m8Xj"
      },
      "execution_count": 14,
      "outputs": []
    },
    {
      "cell_type": "code",
      "source": [
        "# 동일한 음표과 지속시간을 int로 변환해서 표시\n",
        "example_tokenised_notes =  notes_vectorize_layer(example_notes)\n",
        "example_tokenised_durations = durations_vectorize_layer(example_durations)\n",
        "print(f\"{'note token':<10} {'duration token'}\")\n",
        "for i, (note_int, duration_int) in enumerate(\n",
        "    zip(\n",
        "        example_tokenised_notes.numpy()[:11],\n",
        "        example_tokenised_durations.numpy()[:11],\n",
        "    )\n",
        "  ):\n",
        "  print(f\"{note_int:>5} {duration_int:>10}\")\n"
      ],
      "metadata": {
        "colab": {
          "base_uri": "https://localhost:8080/"
        },
        "id": "iUDw_eshorWt",
        "outputId": "73d94aba-27f7-4086-a749-21e545bcf6a6"
      },
      "execution_count": 15,
      "outputs": [
        {
          "output_type": "stream",
          "name": "stdout",
          "text": [
            "note token duration token\n",
            "    3          3\n",
            "    9          3\n",
            "    7          2\n",
            "    2          2\n",
            "    6          2\n",
            "    3          2\n",
            "   11          2\n",
            "    2          2\n",
            "    3          2\n",
            "    5          2\n",
            "    4          2\n"
          ]
        }
      ]
    },
    {
      "cell_type": "code",
      "source": [
        "notes_vocab_size = len(notes_vocab)\n",
        "durations_vocab_size = len(durations_vocab)\n",
        "\n",
        "# token:note 매핑 예시를 출력합니다.\n",
        "print(f\"\\nNOTES_VOCAB: length = {len(notes_vocab)}\")\n",
        "for i, note in enumerate(notes_vocab[:10]):\n",
        "    print(f\"{i}: {note}\")\n",
        "\n",
        "print(f\"\\nDURATIONS_VOCAB: length = {len(durations_vocab)}\")\n",
        "# Display some token:duration mappings\n",
        "for i, note in enumerate(durations_vocab[:10]):\n",
        "    print(f\"{i}: {note}\")"
      ],
      "metadata": {
        "colab": {
          "base_uri": "https://localhost:8080/"
        },
        "id": "slmXv1nHpmLz",
        "outputId": "cd36028c-c4fe-4bed-cf4b-96fb692ba0d3"
      },
      "execution_count": 16,
      "outputs": [
        {
          "output_type": "stream",
          "name": "stdout",
          "text": [
            "\n",
            "NOTES_VOCAB: length = 59\n",
            "0: \n",
            "1: [UNK]\n",
            "2: G3\n",
            "3: A3\n",
            "4: D3\n",
            "5: F3\n",
            "6: C4\n",
            "7: E3\n",
            "8: D4\n",
            "9: B3\n",
            "\n",
            "DURATIONS_VOCAB: length = 24\n",
            "0: \n",
            "1: [UNK]\n",
            "2: 0.25\n",
            "3: 0.5\n",
            "4: 1.0\n",
            "5: 1/3\n",
            "6: 0.75\n",
            "7: 1/12\n",
            "8: 1.5\n",
            "9: 0.0\n"
          ]
        }
      ]
    },
    {
      "cell_type": "markdown",
      "source": [
        "훈련 세트 생성"
      ],
      "metadata": {
        "id": "fwtxk2PWuf11"
      }
    },
    {
      "cell_type": "code",
      "source": [
        "# 시퀀스와 하나의 음표를 이동한 동일한 시퀀스로 훈련 세트를 만듦\n",
        "def prepare_inputs(notes, durations):\n",
        "    notes = tf.expand_dims(notes, -1)\n",
        "    durations = tf.expand_dims(durations, -1)\n",
        "    tokenized_notes = notes_vectorize_layer(notes)\n",
        "    tokenized_durations = durations_vectorize_layer(durations)\n",
        "    x = (tokenized_notes[:, :-1], tokenized_durations[:, :-1])\n",
        "    y = (tokenized_notes[:, 1:], tokenized_durations[:, 1:])\n",
        "    return x, y\n",
        "\n",
        "\n",
        "ds = seq_ds.map(prepare_inputs).repeat(DATASET_REPETITIONS)"
      ],
      "metadata": {
        "id": "FlMvzfCCuT5q"
      },
      "execution_count": 17,
      "outputs": []
    },
    {
      "cell_type": "code",
      "source": [
        "example_input_output = ds.take(1).get_single_element()\n",
        "print(example_input_output)"
      ],
      "metadata": {
        "colab": {
          "base_uri": "https://localhost:8080/"
        },
        "id": "u5d9OBARuucP",
        "outputId": "833f5c9c-279c-4cf7-f240-b7c6b5bb6290"
      },
      "execution_count": 18,
      "outputs": [
        {
          "output_type": "stream",
          "name": "stdout",
          "text": [
            "((<tf.Tensor: shape=(256, 50), dtype=int64, numpy=\n",
            "array([[37, 50, 53, ..., 19,  6,  6],\n",
            "       [50, 53, 33, ...,  6,  6,  7],\n",
            "       [53, 33,  2, ...,  6,  7, 12],\n",
            "       ...,\n",
            "       [19,  6,  6, ...,  4, 18,  4],\n",
            "       [ 6,  6,  7, ..., 18,  4, 19],\n",
            "       [ 6,  7, 12, ...,  4, 19,  4]])>, <tf.Tensor: shape=(256, 50), dtype=int64, numpy=\n",
            "array([[2, 2, 2, ..., 2, 2, 2],\n",
            "       [2, 2, 2, ..., 2, 2, 2],\n",
            "       [2, 2, 2, ..., 2, 2, 2],\n",
            "       ...,\n",
            "       [3, 3, 3, ..., 2, 2, 2],\n",
            "       [3, 3, 3, ..., 2, 2, 2],\n",
            "       [3, 3, 3, ..., 2, 2, 2]])>), (<tf.Tensor: shape=(256, 50), dtype=int64, numpy=\n",
            "array([[50, 53, 33, ...,  6,  6,  7],\n",
            "       [53, 33,  2, ...,  6,  7, 12],\n",
            "       [33,  2,  6, ...,  7, 12,  4],\n",
            "       ...,\n",
            "       [ 6,  6,  7, ..., 18,  4, 19],\n",
            "       [ 6,  7, 12, ...,  4, 19,  4],\n",
            "       [ 7, 12,  4, ..., 19,  4, 18]])>, <tf.Tensor: shape=(256, 50), dtype=int64, numpy=\n",
            "array([[2, 2, 2, ..., 2, 2, 2],\n",
            "       [2, 2, 2, ..., 2, 2, 2],\n",
            "       [2, 2, 2, ..., 2, 2, 2],\n",
            "       ...,\n",
            "       [3, 3, 3, ..., 2, 2, 2],\n",
            "       [3, 3, 3, ..., 2, 2, 2],\n",
            "       [3, 3, 3, ..., 2, 2, 2]])>))\n"
          ]
        }
      ]
    },
    {
      "cell_type": "markdown",
      "source": [
        "- 코잘 어텐션 마스크 함수"
      ],
      "metadata": {
        "id": "dYcrcC7Dvzll"
      }
    },
    {
      "cell_type": "code",
      "source": [
        "def causal_attention_mask(batch_size, n_dest, n_src, dtype):\n",
        "    i = tf.range(n_dest)[:, None]\n",
        "    j = tf.range(n_src)\n",
        "    m = i >= j - n_src + n_dest\n",
        "    mask = tf.cast(m, dtype)\n",
        "    mask = tf.reshape(mask, [1, n_dest, n_src])\n",
        "    mult = tf.concat(\n",
        "        [tf.expand_dims(batch_size, -1), tf.constant([1, 1], dtype=tf.int32)], 0\n",
        "    )\n",
        "    return tf.tile(mask, mult)\n",
        "\n",
        "\n",
        "np.transpose(causal_attention_mask(1, 10, 10, dtype=tf.int32)[0])"
      ],
      "metadata": {
        "colab": {
          "base_uri": "https://localhost:8080/"
        },
        "id": "0F6wdygRvPLk",
        "outputId": "642a20bd-cbf0-457e-d481-4a6c0b5dfe54"
      },
      "execution_count": 19,
      "outputs": [
        {
          "output_type": "execute_result",
          "data": {
            "text/plain": [
              "array([[1, 1, 1, 1, 1, 1, 1, 1, 1, 1],\n",
              "       [0, 1, 1, 1, 1, 1, 1, 1, 1, 1],\n",
              "       [0, 0, 1, 1, 1, 1, 1, 1, 1, 1],\n",
              "       [0, 0, 0, 1, 1, 1, 1, 1, 1, 1],\n",
              "       [0, 0, 0, 0, 1, 1, 1, 1, 1, 1],\n",
              "       [0, 0, 0, 0, 0, 1, 1, 1, 1, 1],\n",
              "       [0, 0, 0, 0, 0, 0, 1, 1, 1, 1],\n",
              "       [0, 0, 0, 0, 0, 0, 0, 1, 1, 1],\n",
              "       [0, 0, 0, 0, 0, 0, 0, 0, 1, 1],\n",
              "       [0, 0, 0, 0, 0, 0, 0, 0, 0, 1]], dtype=int32)"
            ]
          },
          "metadata": {},
          "execution_count": 19
        }
      ]
    },
    {
      "cell_type": "markdown",
      "source": [
        "- 트랜스포커 블록 층"
      ],
      "metadata": {
        "id": "r84qeg6ewRB0"
      }
    },
    {
      "cell_type": "code",
      "source": [
        "class TransformerBlock(layers.Layer):\n",
        "    def __init__(\n",
        "        self,\n",
        "        num_heads,\n",
        "        key_dim,\n",
        "        embed_dim,\n",
        "        ff_dim,\n",
        "        name,\n",
        "        dropout_rate=DROPOUT_RATE,\n",
        "    ):\n",
        "        super(TransformerBlock, self).__init__(name=name)\n",
        "        self.num_heads = num_heads    # 어텐션 해드 개수\n",
        "        self.key_dim = key_dim        # 어텐션 키의 차원\n",
        "        self.embed_dim = embed_dim    # 임베딩 차원\n",
        "        self.ff_dim = ff_dim          # 피드포워드 신경망의 차원\n",
        "        self.dropout_rate = dropout_rate      # 드랍아웃 비율\n",
        "        # 신경망 초기화\n",
        "        self.attn = layers.MultiHeadAttention(\n",
        "            num_heads, key_dim, output_shape=embed_dim\n",
        "        )\n",
        "        self.dropout_1 = layers.Dropout(self.dropout_rate)\n",
        "        self.ln_1 = layers.LayerNormalization(epsilon=1e-6)\n",
        "        self.ffn_1 = layers.Dense(self.ff_dim, activation=\"relu\")\n",
        "        self.ffn_2 = layers.Dense(self.embed_dim)\n",
        "        self.dropout_2 = layers.Dropout(self.dropout_rate)\n",
        "        self.ln_2 = layers.LayerNormalization(epsilon=1e-6)\n",
        "\n",
        "    def call(self, inputs):\n",
        "        input_shape = tf.shape(inputs)\n",
        "        batch_size = input_shape[0]\n",
        "        seq_len = input_shape[1]\n",
        "        # 코잘 어텐션 마스크 생성\n",
        "        causal_mask = causal_attention_mask(\n",
        "            batch_size, seq_len, seq_len, tf.bool\n",
        "        )\n",
        "        # 멀티 해드 어텐션 수행\n",
        "        attention_output, attention_scores = self.attn(\n",
        "            inputs,\n",
        "            inputs,\n",
        "            attention_mask=causal_mask,\n",
        "            return_attention_scores=True,\n",
        "        )\n",
        "        attention_output = self.dropout_1(attention_output)\n",
        "        # 레지듀얼 커넥션과 정규화\n",
        "        out1 = self.ln_1(inputs + attention_output)\n",
        "        # 피드포워드 신경망 수행\n",
        "        ffn_1 = self.ffn_1(out1)\n",
        "        ffn_2 = self.ffn_2(ffn_1)\n",
        "        ffn_output = self.dropout_2(ffn_2)\n",
        "        # 두번째 레지듀얼 커넥션과 정규화\n",
        "        return (self.ln_2(out1 + ffn_output), attention_scores)\n",
        "\n",
        "    # 설정함수, 모델의 설정을 반환\n",
        "    def get_config(self):\n",
        "        config = super().get_config()\n",
        "        config.update(\n",
        "            {\n",
        "                \"key_dim\": self.key_dim,\n",
        "                \"embed_dim\": self.embed_dim,\n",
        "                \"num_heads\": self.num_heads,\n",
        "                \"ff_dim\": self.ff_dim,\n",
        "                \"dropout_rate\": self.dropout_rate,\n",
        "            }\n",
        "        )\n",
        "        return config"
      ],
      "metadata": {
        "id": "iHNGpto_v4lx"
      },
      "execution_count": 20,
      "outputs": []
    },
    {
      "cell_type": "markdown",
      "source": [
        "토큰과 위치 임베딩"
      ],
      "metadata": {
        "id": "L18XxkB0xh_M"
      }
    },
    {
      "cell_type": "code",
      "source": [
        "class TokenAndPositionEmbedding(layers.Layer):\n",
        "    def __init__(self, vocab_size, embed_dim):\n",
        "        super(TokenAndPositionEmbedding, self).__init__()\n",
        "        self.vocab_size = vocab_size\n",
        "        self.embed_dim = embed_dim\n",
        "        self.token_emb = layers.Embedding(\n",
        "            input_dim=vocab_size,\n",
        "            output_dim=embed_dim,\n",
        "            embeddings_initializer=\"he_uniform\",\n",
        "        )\n",
        "        self.pos_emb = SinePositionEncoding()\n",
        "\n",
        "    def call(self, x):\n",
        "        embedding = self.token_emb(x)\n",
        "        positions = self.pos_emb(embedding)\n",
        "        return embedding + positions\n",
        "\n",
        "    def get_config(self):\n",
        "        config = super().get_config()\n",
        "        config.update(\n",
        "            {\n",
        "                \"vocab_size\": self.vocab_size,\n",
        "                \"embed_dim\": self.embed_dim,\n",
        "            }\n",
        "        )\n",
        "        return config"
      ],
      "metadata": {
        "id": "esdjrwbRwX14"
      },
      "execution_count": 21,
      "outputs": []
    },
    {
      "cell_type": "code",
      "source": [
        "tpe = TokenAndPositionEmbedding(notes_vocab_size, 32)\n",
        "token_embedding = tpe.token_emb(example_tokenised_notes)\n",
        "position_embedding = tpe.pos_emb(token_embedding)\n",
        "embedding = tpe(example_tokenised_notes)\n",
        "plt.imshow(\n",
        "    np.transpose(token_embedding),\n",
        "    cmap=\"coolwarm\",\n",
        "    interpolation=\"nearest\",\n",
        "    origin=\"lower\",\n",
        ")\n",
        "plt.show()\n",
        "plt.imshow(\n",
        "    np.transpose(position_embedding),\n",
        "    cmap=\"coolwarm\",\n",
        "    interpolation=\"nearest\",\n",
        "    origin=\"lower\",\n",
        ")\n",
        "plt.show()\n",
        "plt.imshow(\n",
        "    np.transpose(embedding),\n",
        "    cmap=\"coolwarm\",\n",
        "    interpolation=\"nearest\",\n",
        "    origin=\"lower\",\n",
        ")\n",
        "plt.show()"
      ],
      "metadata": {
        "colab": {
          "base_uri": "https://localhost:8080/",
          "height": 1000
        },
        "id": "qSr_vGkxxnrH",
        "outputId": "3ab124fa-8ac9-4e19-f67e-db8983841851"
      },
      "execution_count": 22,
      "outputs": [
        {
          "output_type": "display_data",
          "data": {
            "text/plain": [
              "<Figure size 640x480 with 1 Axes>"
            ],
            "image/png": "[encoded data removed]"
          },
          "metadata": {
            "image/png": {
              "width": 547,
              "height": 354
            }
          }
        },
        {
          "output_type": "display_data",
          "data": {
            "text/plain": [
              "<Figure size 640x480 with 1 Axes>"
            ],
            "image/png": "[encoded data removed]"
          },
          "metadata": {
            "image/png": {
              "width": 547,
              "height": 354
            }
          }
        },
        {
          "output_type": "display_data",
          "data": {
            "text/plain": [
              "<Figure size 640x480 with 1 Axes>"
            ],
            "image/png": "[encoded data removed]"
          },
          "metadata": {
            "image/png": {
              "width": 547,
              "height": 354
            }
          }
        }
      ]
    },
    {
      "cell_type": "markdown",
      "source": [
        "트랜스포머 모델 구축"
      ],
      "metadata": {
        "id": "PCsyKo_1x0GL"
      }
    },
    {
      "cell_type": "code",
      "source": [
        "note_inputs = layers.Input(shape=(None,), dtype=tf.int32)\n",
        "durations_inputs = layers.Input(shape=(None,), dtype=tf.int32)\n",
        "note_embeddings = TokenAndPositionEmbedding(\n",
        "    notes_vocab_size, EMBEDDING_DIM // 2)(note_inputs)\n",
        "duration_embeddings = TokenAndPositionEmbedding(\n",
        "    durations_vocab_size, EMBEDDING_DIM // 2)(durations_inputs)\n",
        "embeddings = layers.Concatenate()([note_embeddings, duration_embeddings])\n",
        "x, attention_scores = TransformerBlock(\n",
        "    N_HEADS, KEY_DIM, EMBEDDING_DIM, FEED_FORWARD_DIM, name=\"attention\")(embeddings)\n",
        "note_outputs = layers.Dense(\n",
        "    notes_vocab_size, activation=\"softmax\", name=\"note_outputs\")(x)\n",
        "duration_outputs = layers.Dense(\n",
        "    durations_vocab_size, activation=\"softmax\", name=\"duration_outputs\")(x)\n",
        "model = models.Model(\n",
        "    inputs=[note_inputs, durations_inputs],\n",
        "    outputs=[note_outputs, duration_outputs],  # attention_scores\n",
        ")\n",
        "model.compile(\n",
        "    \"adam\",\n",
        "    loss=[\n",
        "        losses.SparseCategoricalCrossentropy(),\n",
        "        losses.SparseCategoricalCrossentropy(),\n",
        "    ],\n",
        ")\n",
        "att_model = models.Model(\n",
        "    inputs=[note_inputs, durations_inputs], outputs=attention_scores\n",
        ")"
      ],
      "metadata": {
        "id": "UPRLxA35xslq"
      },
      "execution_count": 23,
      "outputs": []
    },
    {
      "cell_type": "code",
      "source": [
        "model.summary()"
      ],
      "metadata": {
        "colab": {
          "base_uri": "https://localhost:8080/"
        },
        "id": "YscfuwEtx8bP",
        "outputId": "04c4a614-4f78-4073-e060-1f139a1ed7e3"
      },
      "execution_count": 24,
      "outputs": [
        {
          "output_type": "stream",
          "name": "stdout",
          "text": [
            "Model: \"model\"\n",
            "__________________________________________________________________________________________________\n",
            " Layer (type)                Output Shape                 Param #   Connected to                  \n",
            "==================================================================================================\n",
            " input_1 (InputLayer)        [(None, None)]               0         []                            \n",
            "                                                                                                  \n",
            " input_2 (InputLayer)        [(None, None)]               0         []                            \n",
            "                                                                                                  \n",
            " token_and_position_embeddi  (None, None, 128)            7552      ['input_1[0][0]']             \n",
            " ng_1 (TokenAndPositionEmbe                                                                       \n",
            " dding)                                                                                           \n",
            "                                                                                                  \n",
            " token_and_position_embeddi  (None, None, 128)            3072      ['input_2[0][0]']             \n",
            " ng_2 (TokenAndPositionEmbe                                                                       \n",
            " dding)                                                                                           \n",
            "                                                                                                  \n",
            " concatenate (Concatenate)   (None, None, 256)            0         ['token_and_position_embedding\n",
            "                                                                    _1[0][0]',                    \n",
            "                                                                     'token_and_position_embedding\n",
            "                                                                    _2[0][0]']                    \n",
            "                                                                                                  \n",
            " attention (TransformerBloc  ((None, None, 256),          1447424   ['concatenate[0][0]']         \n",
            " k)                           (None, 5, None, None))                                              \n",
            "                                                                                                  \n",
            " note_outputs (Dense)        (None, None, 59)             15163     ['attention[0][0]']           \n",
            "                                                                                                  \n",
            " duration_outputs (Dense)    (None, None, 24)             6168      ['attention[0][0]']           \n",
            "                                                                                                  \n",
            "==================================================================================================\n",
            "Total params: 1479379 (5.64 MB)\n",
            "Trainable params: 1479379 (5.64 MB)\n",
            "Non-trainable params: 0 (0.00 Byte)\n",
            "__________________________________________________________________________________________________\n"
          ]
        }
      ]
    },
    {
      "cell_type": "code",
      "source": [
        "if LOAD_MODEL:\n",
        "  model.load_weights(\"./checkpoint/checkpoint.ckpt\")"
      ],
      "metadata": {
        "id": "lF246Y42yAGo"
      },
      "execution_count": 25,
      "outputs": []
    },
    {
      "cell_type": "markdown",
      "source": [
        "트랜스포머 훈련하기"
      ],
      "metadata": {
        "id": "oH9AIPKey2wb"
      }
    },
    {
      "cell_type": "code",
      "source": [
        "# MusicGenerator 체크포인트 만들기\n",
        "class MusicGenerator(callbacks.Callback):\n",
        "    def __init__(self, index_to_note, index_to_duration, top_k=10):\n",
        "        self.index_to_note = index_to_note\n",
        "        self.note_to_index = {\n",
        "            note: index for index, note in enumerate(index_to_note)\n",
        "        }\n",
        "        self.index_to_duration = index_to_duration\n",
        "        self.duration_to_index = {\n",
        "            duration: index for index, duration in enumerate(index_to_duration)\n",
        "        }\n",
        "\n",
        "    def sample_from(self, probs, temperature):\n",
        "        probs = probs ** (1 / temperature)\n",
        "        probs = probs / np.sum(probs)\n",
        "        return np.random.choice(len(probs), p=probs), probs\n",
        "\n",
        "    def get_note(self, notes, durations, temperature):\n",
        "        sample_note_idx = 1\n",
        "        while sample_note_idx == 1:\n",
        "            sample_note_idx, note_probs = self.sample_from(\n",
        "                notes[0][-1], temperature\n",
        "            )\n",
        "            sample_note = self.index_to_note[sample_note_idx]\n",
        "\n",
        "        sample_duration_idx = 1\n",
        "        while sample_duration_idx == 1:\n",
        "            sample_duration_idx, duration_probs = self.sample_from(\n",
        "                durations[0][-1], temperature\n",
        "            )\n",
        "            sample_duration = self.index_to_duration[sample_duration_idx]\n",
        "\n",
        "        new_note = get_midi_note(sample_note, sample_duration)\n",
        "\n",
        "        return (\n",
        "            new_note,\n",
        "            sample_note_idx,\n",
        "            sample_note,\n",
        "            note_probs,\n",
        "            sample_duration_idx,\n",
        "            sample_duration,\n",
        "            duration_probs,\n",
        "        )\n",
        "\n",
        "    def generate(self, start_notes, start_durations, max_tokens, temperature):\n",
        "        attention_model = models.Model(\n",
        "            inputs=self.model.input,\n",
        "            outputs=self.model.get_layer(\"attention\").output,\n",
        "        )\n",
        "\n",
        "        start_note_tokens = [self.note_to_index.get(x, 1) for x in start_notes]\n",
        "        start_duration_tokens = [\n",
        "            self.duration_to_index.get(x, 1) for x in start_durations\n",
        "        ]\n",
        "        sample_note = None\n",
        "        sample_duration = None\n",
        "        info = []\n",
        "        midi_stream = music21.stream.Stream()\n",
        "\n",
        "        midi_stream.append(music21.clef.BassClef())\n",
        "\n",
        "        for sample_note, sample_duration in zip(start_notes, start_durations):\n",
        "            new_note = get_midi_note(sample_note, sample_duration)\n",
        "            if new_note is not None:\n",
        "                midi_stream.append(new_note)\n",
        "\n",
        "        while len(start_note_tokens) < max_tokens:\n",
        "            x1 = np.array([start_note_tokens])\n",
        "            x2 = np.array([start_duration_tokens])\n",
        "            notes, durations = self.model.predict([x1, x2], verbose=0)\n",
        "\n",
        "            repeat = True\n",
        "\n",
        "            while repeat:\n",
        "                (\n",
        "                    new_note,\n",
        "                    sample_note_idx,\n",
        "                    sample_note,\n",
        "                    note_probs,\n",
        "                    sample_duration_idx,\n",
        "                    sample_duration,\n",
        "                    duration_probs,\n",
        "                ) = self.get_note(notes, durations, temperature)\n",
        "\n",
        "                if (\n",
        "                    isinstance(new_note, music21.chord.Chord)\n",
        "                    or isinstance(new_note, music21.note.Note)\n",
        "                    or isinstance(new_note, music21.note.Rest)\n",
        "                ) and sample_duration == \"0.0\":\n",
        "                    repeat = True\n",
        "                else:\n",
        "                    repeat = False\n",
        "\n",
        "            if new_note is not None:\n",
        "                midi_stream.append(new_note)\n",
        "\n",
        "            _, att = attention_model.predict([x1, x2], verbose=0)\n",
        "\n",
        "            info.append(\n",
        "                {\n",
        "                    \"prompt\": [start_notes.copy(), start_durations.copy()],\n",
        "                    \"midi\": midi_stream,\n",
        "                    \"chosen_note\": (sample_note, sample_duration),\n",
        "                    \"note_probs\": note_probs,\n",
        "                    \"duration_probs\": duration_probs,\n",
        "                    \"atts\": att[0, :, -1, :],\n",
        "                }\n",
        "            )\n",
        "            start_note_tokens.append(sample_note_idx)\n",
        "            start_duration_tokens.append(sample_duration_idx)\n",
        "            start_notes.append(sample_note)\n",
        "            start_durations.append(sample_duration)\n",
        "\n",
        "            if sample_note == \"START\":\n",
        "                break\n",
        "\n",
        "        return info\n",
        "\n",
        "    def on_epoch_end(self, epoch, logs=None):\n",
        "        info = self.generate(\n",
        "            [\"START\"], [\"0.0\"], max_tokens=GENERATE_LEN, temperature=0.5\n",
        "        )\n",
        "        midi_stream = info[-1][\"midi\"].chordify()\n",
        "        print(info[-1][\"prompt\"])\n",
        "\n",
        "        display(Image(str(midi_stream.write('lily.png'))))\n",
        "        midi_stream.write(\n",
        "            \"midi\",\n",
        "            fp=os.path.join(\n",
        "                \"./output\",\n",
        "                \"output-\" + str(epoch).zfill(4) + \".mid\",\n",
        "            ),\n",
        "        )"
      ],
      "metadata": {
        "id": "0tU84qXPyyNG"
      },
      "execution_count": 26,
      "outputs": []
    },
    {
      "cell_type": "markdown",
      "source": [
        "- 모델 저장 체크포인트 만들기"
      ],
      "metadata": {
        "id": "LsfWmOVvzJXg"
      }
    },
    {
      "cell_type": "code",
      "source": [
        "model_checkpoint_callback = callbacks.ModelCheckpoint(\n",
        "    filepath='./checkpoint/checkpoint.ckpt',\n",
        "    save_weights_only=True,\n",
        "    save_freq='epoch',\n",
        "    verbose=0\n",
        ")\n",
        "tensorboard_callback = callbacks.TensorBoard(log_dir='./logs')\n",
        "# 시작프롬프트 토큰화\n",
        "music_generator = MusicGenerator(notes_vocab, durations_vocab)"
      ],
      "metadata": {
        "id": "p4I3gnG9zOcS"
      },
      "execution_count": 27,
      "outputs": []
    },
    {
      "cell_type": "code",
      "source": [
        "model.fit(\n",
        "    ds,epochs=EPOCHS,\n",
        "    callbacks = [\n",
        "        model_checkpoint_callback,\n",
        "        tensorboard_callback,\n",
        "        music_generator\n",
        "    ]\n",
        ")"
      ],
      "metadata": {
        "colab": {
          "base_uri": "https://localhost:8080/",
          "height": 1000
        },
        "id": "9v42Nolq0FuN",
        "outputId": "b3033c11-08c7-43b7-df0f-622cc6b7314b"
      },
      "execution_count": 28,
      "outputs": [
        {
          "output_type": "stream",
          "name": "stdout",
          "text": [
            "Epoch 1/20\n",
            "107/107 [==============================] - ETA: 0s - loss: 4.9008 - note_outputs_loss: 3.4818 - duration_outputs_loss: 1.4190[['START', 'D4', 'E3', 'E-3', 'C4', 'G#3', 'B-3', 'G3', 'G3', 'G3', 'G#3', 'E3', 'B-3', 'D3', 'F3', 'G2', 'G3', 'B-3', 'G3', 'C4', 'F3', 'B-3', 'E-4', 'G3', 'F3', 'G3', 'B-3', 'G3', 'G3', 'A3', 'G3', 'E-3', 'B-3', 'D4', 'D4', 'B-3', 'B-3', 'G3', 'B-3', 'G#3', 'D3', 'E-3', 'B-3', 'E-3', 'C3', 'B3', 'G#3', 'G3', 'D4'], ['0.0', '0.5', '0.5', '0.5', '0.5', '0.5', '0.5', '0.5', '0.5', '0.5', '0.5', '0.5', '0.5', '0.5', '0.5', '0.5', '0.5', '0.5', '0.5', '0.5', '0.5', '0.5', '0.5', '0.5', '0.5', '0.5', '0.5', '0.5', '0.5', '0.5', '0.5', '0.5', '0.5', '0.5', '0.5', '0.5', '0.5', '0.5', '0.5', '0.5', '0.5', '0.5', '0.5', '0.5', '0.5', '0.5', '0.5', '0.5', '0.5']]\n"
          ]
        },
        {
          "output_type": "display_data",
          "data": {
            "image/png": "[encoded data removed]",
            "text/plain": [
              "<IPython.core.display.Image object>"
            ]
          },
          "metadata": {}
        },
        {
          "output_type": "stream",
          "name": "stdout",
          "text": [
            "\b\b\b\b\b\b\b\b\b\b\b\b\b\b\b\b\b\b\b\b\b\b\b\b\b\b\b\b\b\b\b\b\b\b\b\b\b\b\b\b\b\b\b\b\b\b\b\b\b\b\b\b\b\b\b\b\b\b\b\b\b\b\b\b\b\b\b\b\b\b\b\b\b\b\b\b\b\b\b\b\b\b\b\b\b\b\b\b\b\b\b\b\b\b\b\b\b\b\b\b\b\b\b\b\b\b\b\b\b\b\b\b\b\b\b\b\b\b\b\b\b\b\b\b\b\r107/107 [==============================] - 26s 166ms/step - loss: 4.9008 - note_outputs_loss: 3.4818 - duration_outputs_loss: 1.4190\n",
            "Epoch 2/20\n",
            "107/107 [==============================] - ETA: 0s - loss: 4.1124 - note_outputs_loss: 3.2925 - duration_outputs_loss: 0.8200[['START', 'G3', 'B-3', 'E3', 'F3', 'E3', 'F3', 'A2', 'F3', 'D3', 'D3', 'D3', 'C3', 'F3', 'E3', 'D3', 'F3', 'C3', 'F3', 'G3', 'F3', 'D3', 'G3', 'F3', 'F3', 'D3', 'F#3', 'A3', 'F3', 'D3', 'D3', 'C3', 'F3', 'F3', 'D3', 'A3', 'B2', 'B2', 'F3', 'D3', 'E3', 'D3', 'E3', 'D3', 'D3', 'D3', 'B2', 'D3', 'C3'], ['0.0', '0.25', '0.25', '0.25', '0.25', '0.25', '0.25', '0.25', '0.25', '0.25', '0.25', '0.25', '0.25', '0.25', '0.25', '0.25', '0.25', '0.25', '0.25', '0.25', '0.25', '0.25', '0.25', '0.25', '0.25', '0.25', '0.25', '0.25', '0.25', '0.25', '0.25', '0.25', '0.25', '0.25', '0.25', '0.25', '0.25', '0.25', '0.25', '0.25', '0.25', '0.25', '0.25', '0.25', '0.25', '0.25', '0.25', '0.25', '0.25']]\n"
          ]
        },
        {
          "output_type": "display_data",
          "data": {
            "image/png": "[encoded data removed]",
            "text/plain": [
              "<IPython.core.display.Image object>"
            ]
          },
          "metadata": {}
        },
        {
          "output_type": "stream",
          "name": "stdout",
          "text": [
            "\b\b\b\b\b\b\b\b\b\b\b\b\b\b\b\b\b\b\b\b\b\b\b\b\b\b\b\b\b\b\b\b\b\b\b\b\b\b\b\b\b\b\b\b\b\b\b\b\b\b\b\b\b\b\b\b\b\b\b\b\b\b\b\b\b\b\b\b\b\b\b\b\b\b\b\b\b\b\b\b\b\b\b\b\b\b\b\b\b\b\b\b\b\b\b\b\b\b\b\b\b\b\b\b\b\b\b\b\b\b\b\b\b\b\b\b\b\b\b\b\b\b\b\b\b\r107/107 [==============================] - 15s 143ms/step - loss: 4.1124 - note_outputs_loss: 3.2925 - duration_outputs_loss: 0.8200\n",
            "Epoch 3/20\n",
            "107/107 [==============================] - ETA: 0s - loss: 3.6375 - note_outputs_loss: 2.9632 - duration_outputs_loss: 0.6743[['START', 'D3', 'E3', 'F3', 'G3', 'F3', 'D3', 'F3', 'G3', 'C4', 'B-3', 'D3', 'E3', 'D3', 'F3', 'G3', 'F3', 'G3', 'F3', 'G3', 'F3', 'D3', 'E3', 'F3', 'G3', 'F3', 'G3', 'F3', 'E-3', 'F3', 'G3', 'F3', 'F3', 'G3', 'F3', 'G3', 'F3', 'G3', 'F3', 'G3', 'F3', 'D3', 'F3', 'G3', 'F3', 'C3', 'C3', 'G3', 'F3'], ['0.0', '0.25', '0.25', '0.25', '0.25', '0.25', '0.25', '0.25', '0.25', '0.25', '0.25', '0.25', '0.25', '0.25', '0.25', '0.25', '0.25', '0.25', '0.25', '0.25', '0.25', '0.25', '0.25', '0.25', '0.25', '0.25', '0.25', '0.25', '0.25', '0.25', '0.25', '0.25', '0.25', '0.25', '0.25', '0.25', '0.25', '0.25', '0.25', '0.25', '0.25', '0.25', '0.25', '0.25', '0.25', '0.25', '0.25', '0.25', '0.25']]\n"
          ]
        },
        {
          "output_type": "display_data",
          "data": {
            "image/png": "[encoded data removed]",
            "text/plain": [
              "<IPython.core.display.Image object>"
            ]
          },
          "metadata": {}
        },
        {
          "output_type": "stream",
          "name": "stdout",
          "text": [
            "\b\b\b\b\b\b\b\b\b\b\b\b\b\b\b\b\b\b\b\b\b\b\b\b\b\b\b\b\b\b\b\b\b\b\b\b\b\b\b\b\b\b\b\b\b\b\b\b\b\b\b\b\b\b\b\b\b\b\b\b\b\b\b\b\b\b\b\b\b\b\b\b\b\b\b\b\b\b\b\b\b\b\b\b\b\b\b\b\b\b\b\b\b\b\b\b\b\b\b\b\b\b\b\b\b\b\b\b\b\b\b\b\b\b\b\b\b\b\b\b\b\b\b\b\b\r107/107 [==============================] - 15s 142ms/step - loss: 3.6375 - note_outputs_loss: 2.9632 - duration_outputs_loss: 0.6743\n",
            "Epoch 4/20\n",
            "107/107 [==============================] - ETA: 0s - loss: 3.4278 - note_outputs_loss: 2.7701 - duration_outputs_loss: 0.6576[['START', 'A4', 'F#4', 'A3', 'E4', 'F#4', 'F#4', 'E4', 'F#4', 'F#4', 'A3', 'F#4', 'E4', 'F#4', 'F#4', 'D4', 'A3', 'A3', 'A3', 'E4', 'D4', 'A3', 'A3', 'G3', 'E3', 'A3', 'A3', 'A3', 'E3', 'F3', 'G3', 'A3', 'G3', 'A3', 'G3', 'F3', 'G3', 'G#3', 'D3', 'E-3', 'D3', 'E-3', 'E-3', 'D3', 'E-3', 'D3', 'E-3', 'D3', 'E-3'], ['0.0', '0.5', '0.5', '0.5', '0.5', '0.5', '0.5', '0.5', '0.5', '0.5', '0.5', '0.5', '0.5', '0.5', '0.5', '0.5', '0.5', '0.5', '0.5', '0.5', '0.5', '0.5', '0.5', '0.5', '0.5', '0.5', '0.5', '0.5', '0.5', '0.5', '0.5', '0.5', '0.5', '0.5', '0.5', '0.5', '0.5', '0.5', '0.5', '0.5', '0.5', '0.5', '0.5', '0.5', '0.5', '0.5', '0.5', '0.5', '0.5']]\n"
          ]
        },
        {
          "output_type": "display_data",
          "data": {
            "image/png": "[encoded data removed]",
            "text/plain": [
              "<IPython.core.display.Image object>"
            ]
          },
          "metadata": {}
        },
        {
          "output_type": "stream",
          "name": "stdout",
          "text": [
            "\b\b\b\b\b\b\b\b\b\b\b\b\b\b\b\b\b\b\b\b\b\b\b\b\b\b\b\b\b\b\b\b\b\b\b\b\b\b\b\b\b\b\b\b\b\b\b\b\b\b\b\b\b\b\b\b\b\b\b\b\b\b\b\b\b\b\b\b\b\b\b\b\b\b\b\b\b\b\b\b\b\b\b\b\b\b\b\b\b\b\b\b\b\b\b\b\b\b\b\b\b\b\b\b\b\b\b\b\b\b\b\b\b\b\b\b\b\b\b\b\b\b\b\b\b\r107/107 [==============================] - 15s 141ms/step - loss: 3.4278 - note_outputs_loss: 2.7701 - duration_outputs_loss: 0.6576\n",
            "Epoch 5/20\n",
            "107/107 [==============================] - ETA: 0s - loss: 3.2411 - note_outputs_loss: 2.6277 - duration_outputs_loss: 0.6135[['START', 'A4', 'E5', 'A4', 'A4', 'A4', 'A4', 'A4', 'A4', 'A4', 'A4', 'G#4', 'E4', 'D4', 'C#4', 'D4', 'C#4', 'C#4', 'D4', 'E4', 'E4', 'G4', 'E4', 'E4', 'D4', 'E4', 'E4', 'E4', 'E4', 'E4', 'C#4', 'D4', 'C#4', 'E4', 'D4', 'E4', 'E4', 'E4', 'C#4', 'D4', 'C#4', 'D4', 'E4', 'E4', 'A3', 'C#4', 'D4', 'C#4', 'D4'], ['0.0', '0.25', '0.25', '0.25', '0.25', '0.25', '0.25', '0.25', '0.25', '0.25', '0.25', '0.25', '0.25', '0.25', '0.25', '0.25', '0.25', '0.25', '0.25', '0.25', '0.25', '0.25', '0.25', '0.25', '0.25', '0.25', '0.25', '0.25', '0.25', '0.25', '0.25', '0.25', '0.25', '0.25', '0.25', '0.25', '0.25', '0.25', '0.25', '0.25', '0.25', '0.25', '0.25', '0.25', '0.25', '0.25', '0.25', '0.25', '0.25']]\n"
          ]
        },
        {
          "output_type": "display_data",
          "data": {
            "image/png": "[encoded data removed]",
            "text/plain": [
              "<IPython.core.display.Image object>"
            ]
          },
          "metadata": {}
        },
        {
          "output_type": "stream",
          "name": "stdout",
          "text": [
            "\b\b\b\b\b\b\b\b\b\b\b\b\b\b\b\b\b\b\b\b\b\b\b\b\b\b\b\b\b\b\b\b\b\b\b\b\b\b\b\b\b\b\b\b\b\b\b\b\b\b\b\b\b\b\b\b\b\b\b\b\b\b\b\b\b\b\b\b\b\b\b\b\b\b\b\b\b\b\b\b\b\b\b\b\b\b\b\b\b\b\b\b\b\b\b\b\b\b\b\b\b\b\b\b\b\b\b\b\b\b\b\b\b\b\b\b\b\b\b\b\b\b\b\b\b\r107/107 [==============================] - 15s 144ms/step - loss: 3.2411 - note_outputs_loss: 2.6277 - duration_outputs_loss: 0.6135\n",
            "Epoch 6/20\n",
            "107/107 [==============================] - ETA: 0s - loss: 3.1406 - note_outputs_loss: 2.5503 - duration_outputs_loss: 0.5903[['START', '3/4TS', 'G:major', '4/4TS', 'D:major', 'E-:major', '4/4TS', '3/4TS'], ['0.0', '0.0', '0.0', '0.0', '0.0', '0.0', '0.0', '0.0']]\n"
          ]
        },
        {
          "output_type": "display_data",
          "data": {
            "image/png": "[encoded data removed]",
            "text/plain": [
              "<IPython.core.display.Image object>"
            ]
          },
          "metadata": {}
        },
        {
          "output_type": "stream",
          "name": "stdout",
          "text": [
            "\b\b\b\b\b\b\b\b\b\b\b\b\b\b\b\b\b\b\b\b\b\b\b\b\b\b\b\b\b\b\b\b\b\b\b\b\b\b\b\b\b\b\b\b\b\b\b\b\b\b\b\b\b\b\b\b\b\b\b\b\b\b\b\b\b\b\b\b\b\b\b\b\b\b\b\b\b\b\b\b\b\b\b\b\b\b\b\b\b\b\b\b\b\b\b\b\b\b\b\b\b\b\b\b\b\b\b\b\b\b\b\b\b\b\b\b\b\b\b\b\b\b\b\b\b\r107/107 [==============================] - 9s 86ms/step - loss: 3.1406 - note_outputs_loss: 2.5503 - duration_outputs_loss: 0.5903\n",
            "Epoch 7/20\n",
            "107/107 [==============================] - ETA: 0s - loss: 3.0948 - note_outputs_loss: 2.5141 - duration_outputs_loss: 0.5807[['START', '3/4TS', 'G3', 'G2', 'F2', 'A2', 'B2', 'A2', 'D3', 'B2', 'C3', 'B2', 'A2', 'D3', 'G3', 'A3', 'B3', 'A3', 'G3', 'F3', 'E3', 'D3', 'E3', 'F3', 'C4', 'D3', 'B3', 'C4', 'E3', 'F3', 'E3', 'D3', 'E3', 'F3', 'A3', 'G3', 'F3', 'E3', 'D3', 'E3', 'F3', 'D3', 'E3', 'F3', 'D3', 'E3', 'F3', 'E3', 'F3'], ['0.0', '0.5', '0.5', '0.5', '0.5', '0.5', '0.5', '0.5', '0.5', '0.5', '0.5', '0.5', '0.5', '0.5', '0.5', '0.5', '0.5', '0.5', '0.5', '0.5', '0.5', '0.5', '0.5', '0.5', '0.5', '0.5', '0.5', '0.5', '0.5', '0.5', '0.5', '0.5', '0.5', '0.5', '0.5', '0.5', '0.5', '0.5', '0.5', '0.5', '0.5', '0.5', '0.5', '0.5', '0.5', '0.5', '0.5', '0.5', '0.5']]\n"
          ]
        },
        {
          "output_type": "display_data",
          "data": {
            "image/png": "[encoded data removed]",
            "text/plain": [
              "<IPython.core.display.Image object>"
            ]
          },
          "metadata": {}
        },
        {
          "output_type": "stream",
          "name": "stdout",
          "text": [
            "\b\b\b\b\b\b\b\b\b\b\b\b\b\b\b\b\b\b\b\b\b\b\b\b\b\b\b\b\b\b\b\b\b\b\b\b\b\b\b\b\b\b\b\b\b\b\b\b\b\b\b\b\b\b\b\b\b\b\b\b\b\b\b\b\b\b\b\b\b\b\b\b\b\b\b\b\b\b\b\b\b\b\b\b\b\b\b\b\b\b\b\b\b\b\b\b\b\b\b\b\b\b\b\b\b\b\b\b\b\b\b\b\b\b\b\b\b\b\b\b\b\b\b\b\b\r107/107 [==============================] - 15s 139ms/step - loss: 3.0948 - note_outputs_loss: 2.5141 - duration_outputs_loss: 0.5807\n",
            "Epoch 8/20\n",
            "107/107 [==============================] - ETA: 0s - loss: 3.0446 - note_outputs_loss: 2.4759 - duration_outputs_loss: 0.5687[['START', '3/4TS', 'D:major', '3/4TS'], ['0.0', '0.0', '0.0', '0.0']]\n"
          ]
        },
        {
          "output_type": "display_data",
          "data": {
            "image/png": "[encoded data removed]",
            "text/plain": [
              "<IPython.core.display.Image object>"
            ]
          },
          "metadata": {}
        },
        {
          "output_type": "stream",
          "name": "stdout",
          "text": [
            "\b\b\b\b\b\b\b\b\b\b\b\b\b\b\b\b\b\b\b\b\b\b\b\b\b\b\b\b\b\b\b\b\b\b\b\b\b\b\b\b\b\b\b\b\b\b\b\b\b\b\b\b\b\b\b\b\b\b\b\b\b\b\b\b\b\b\b\b\b\b\b\b\b\b\b\b\b\b\b\b\b\b\b\b\b\b\b\b\b\b\b\b\b\b\b\b\b\b\b\b\b\b\b\b\b\b\b\b\b\b\b\b\b\b\b\b\b\b\b\b\b\b\b\b\b\r107/107 [==============================] - 9s 82ms/step - loss: 3.0446 - note_outputs_loss: 2.4759 - duration_outputs_loss: 0.5687\n",
            "Epoch 9/20\n",
            "107/107 [==============================] - ETA: 0s - loss: 3.0047 - note_outputs_loss: 2.4321 - duration_outputs_loss: 0.5726[['START', '3/4TS', '4/4TS', '4/4TS', 'D:major'], ['0.0', '0.0', '0.0', '0.0', '0.0']]\n"
          ]
        },
        {
          "output_type": "display_data",
          "data": {
            "image/png": "[encoded data removed]",
            "text/plain": [
              "<IPython.core.display.Image object>"
            ]
          },
          "metadata": {}
        },
        {
          "output_type": "stream",
          "name": "stdout",
          "text": [
            "\b\b\b\b\b\b\b\b\b\b\b\b\b\b\b\b\b\b\b\b\b\b\b\b\b\b\b\b\b\b\b\b\b\b\b\b\b\b\b\b\b\b\b\b\b\b\b\b\b\b\b\b\b\b\b\b\b\b\b\b\b\b\b\b\b\b\b\b\b\b\b\b\b\b\b\b\b\b\b\b\b\b\b\b\b\b\b\b\b\b\b\b\b\b\b\b\b\b\b\b\b\b\b\b\b\b\b\b\b\b\b\b\b\b\b\b\b\b\b\b\b\b\b\b\b\r107/107 [==============================] - 9s 86ms/step - loss: 3.0047 - note_outputs_loss: 2.4321 - duration_outputs_loss: 0.5726\n",
            "Epoch 10/20\n",
            "107/107 [==============================] - ETA: 0s - loss: 2.9896 - note_outputs_loss: 2.4139 - duration_outputs_loss: 0.5757[['START', 'E-:major', 'E-:major', 'rest'], ['0.0', '1.0', '3.0', '1.0']]\n"
          ]
        },
        {
          "output_type": "display_data",
          "data": {
            "image/png": "[encoded data removed]",
            "text/plain": [
              "<IPython.core.display.Image object>"
            ]
          },
          "metadata": {}
        },
        {
          "output_type": "stream",
          "name": "stdout",
          "text": [
            "\b\b\b\b\b\b\b\b\b\b\b\b\b\b\b\b\b\b\b\b\b\b\b\b\b\b\b\b\b\b\b\b\b\b\b\b\b\b\b\b\b\b\b\b\b\b\b\b\b\b\b\b\b\b\b\b\b\b\b\b\b\b\b\b\b\b\b\b\b\b\b\b\b\b\b\b\b\b\b\b\b\b\b\b\b\b\b\b\b\b\b\b\b\b\b\b\b\b\b\b\b\b\b\b\b\b\b\b\b\b\b\b\b\b\b\b\b\b\b\b\b\b\b\b\b\r107/107 [==============================] - 9s 85ms/step - loss: 2.9896 - note_outputs_loss: 2.4139 - duration_outputs_loss: 0.5757\n",
            "Epoch 11/20\n",
            "107/107 [==============================] - ETA: 0s - loss: 2.9365 - note_outputs_loss: 2.3818 - duration_outputs_loss: 0.5547[['START', '3/4TS'], ['0.0', '0.0']]\n"
          ]
        },
        {
          "output_type": "display_data",
          "data": {
            "image/png": "[encoded data removed]",
            "text/plain": [
              "<IPython.core.display.Image object>"
            ]
          },
          "metadata": {}
        },
        {
          "output_type": "stream",
          "name": "stdout",
          "text": [
            "\b\b\b\b\b\b\b\b\b\b\b\b\b\b\b\b\b\b\b\b\b\b\b\b\b\b\b\b\b\b\b\b\b\b\b\b\b\b\b\b\b\b\b\b\b\b\b\b\b\b\b\b\b\b\b\b\b\b\b\b\b\b\b\b\b\b\b\b\b\b\b\b\b\b\b\b\b\b\b\b\b\b\b\b\b\b\b\b\b\b\b\b\b\b\b\b\b\b\b\b\b\b\b\b\b\b\b\b\b\b\b\b\b\b\b\b\b\b\b\b\b\b\b\b\b\r107/107 [==============================] - 9s 80ms/step - loss: 2.9365 - note_outputs_loss: 2.3818 - duration_outputs_loss: 0.5547\n",
            "Epoch 12/20\n",
            "107/107 [==============================] - ETA: 0s - loss: 2.9109 - note_outputs_loss: 2.3569 - duration_outputs_loss: 0.5540"
          ]
        },
        {
          "output_type": "stream",
          "name": "stderr",
          "text": [
            "WARNING:tensorflow:5 out of the last 13 calls to <function Model.make_predict_function.<locals>.predict_function at 0x7f8d3525c8b0> triggered tf.function retracing. Tracing is expensive and the excessive number of tracings could be due to (1) creating @tf.function repeatedly in a loop, (2) passing tensors with different shapes, (3) passing Python objects instead of tensors. For (1), please define your @tf.function outside of the loop. For (2), @tf.function has reduce_retracing=True option that can avoid unnecessary retracing. For (3), please refer to https://www.tensorflow.org/guide/function#controlling_retracing and https://www.tensorflow.org/api_docs/python/tf/function for  more details.\n"
          ]
        },
        {
          "output_type": "stream",
          "name": "stdout",
          "text": [
            "[['START', 'C:major', '3/4TS', 'rest'], ['0.0', '0.0', '0.0', '3.75']]\n"
          ]
        },
        {
          "output_type": "display_data",
          "data": {
            "image/png": "[encoded data removed]",
            "text/plain": [
              "<IPython.core.display.Image object>"
            ]
          },
          "metadata": {}
        },
        {
          "output_type": "stream",
          "name": "stdout",
          "text": [
            "\b\b\b\b\b\b\b\b\b\b\b\b\b\b\b\b\b\b\b\b\b\b\b\b\b\b\b\b\b\b\b\b\b\b\b\b\b\b\b\b\b\b\b\b\b\b\b\b\b\b\b\b\b\b\b\b\b\b\b\b\b\b\b\b\b\b\b\b\b\b\b\b\b\b\b\b\b\b\b\b\b\b\b\b\b\b\b\b\b\b\b\b\b\b\b\b\b\b\b\b\b\b\b\b\b\b\b\b\b\b\b\b\b\b\b\b\b\b\b\b\b\b\b\b\b\r107/107 [==============================] - 9s 84ms/step - loss: 2.9109 - note_outputs_loss: 2.3569 - duration_outputs_loss: 0.5540\n",
            "Epoch 13/20\n",
            "107/107 [==============================] - ETA: 0s - loss: 2.9082 - note_outputs_loss: 2.3464 - duration_outputs_loss: 0.5618[['START', '3/4TS', 'rest'], ['0.0', '0.0', '3.75']]\n"
          ]
        },
        {
          "output_type": "display_data",
          "data": {
            "image/png": "[encoded data removed]",
            "text/plain": [
              "<IPython.core.display.Image object>"
            ]
          },
          "metadata": {}
        },
        {
          "output_type": "stream",
          "name": "stdout",
          "text": [
            "\b\b\b\b\b\b\b\b\b\b\b\b\b\b\b\b\b\b\b\b\b\b\b\b\b\b\b\b\b\b\b\b\b\b\b\b\b\b\b\b\b\b\b\b\b\b\b\b\b\b\b\b\b\b\b\b\b\b\b\b\b\b\b\b\b\b\b\b\b\b\b\b\b\b\b\b\b\b\b\b\b\b\b\b\b\b\b\b\b\b\b\b\b\b\b\b\b\b\b\b\b\b\b\b\b\b\b\b\b\b\b\b\b\b\b\b\b\b\b\b\b\b\b\b\b\r107/107 [==============================] - 9s 86ms/step - loss: 2.9082 - note_outputs_loss: 2.3464 - duration_outputs_loss: 0.5618\n",
            "Epoch 14/20\n",
            "107/107 [==============================] - ETA: 0s - loss: 2.8802 - note_outputs_loss: 2.3291 - duration_outputs_loss: 0.5511"
          ]
        },
        {
          "output_type": "stream",
          "name": "stderr",
          "text": [
            "WARNING:tensorflow:5 out of the last 15 calls to <function Model.make_predict_function.<locals>.predict_function at 0x7f8d341541f0> triggered tf.function retracing. Tracing is expensive and the excessive number of tracings could be due to (1) creating @tf.function repeatedly in a loop, (2) passing tensors with different shapes, (3) passing Python objects instead of tensors. For (1), please define your @tf.function outside of the loop. For (2), @tf.function has reduce_retracing=True option that can avoid unnecessary retracing. For (3), please refer to https://www.tensorflow.org/guide/function#controlling_retracing and https://www.tensorflow.org/api_docs/python/tf/function for  more details.\n"
          ]
        },
        {
          "output_type": "stream",
          "name": "stdout",
          "text": [
            "[['START', 'E-:major', 'E-:major', '3/4TS', 'C4', 'D4', 'C4', 'B3', 'C4', 'B3', 'G3', 'F3', 'E-3', 'D3', 'C3', 'B2', 'C3', 'E-3', 'F3', 'D3', 'E-3', 'F3', 'G3', 'G#3', 'B-3', 'C4', 'B-3', 'G#3', 'G3', 'F3', 'E-3', 'D3', 'E-3', 'F3', 'G3', 'G#3', 'F3', 'G3', 'F3', 'E-3', 'D3', 'E-3', 'F3', 'E-3', 'D3', 'E-3', 'F3', 'G3', 'G#3'], ['0.0', '0.0', '0.0', '0.0', '3.75', '0.25', '0.25', '0.25', '0.25', '0.25', '0.25', '0.25', '0.25', '0.25', '0.25', '0.25', '0.25', '0.25', '0.25', '0.25', '0.25', '0.25', '0.25', '0.25', '0.25', '0.25', '0.25', '0.25', '0.25', '0.25', '0.25', '0.25', '0.25', '0.25', '0.25', '0.25', '0.25', '0.25', '0.25', '0.25', '0.25', '0.25', '0.25', '0.25', '0.25', '0.25', '0.25', '0.25', '0.25']]\n"
          ]
        },
        {
          "output_type": "display_data",
          "data": {
            "image/png": "[encoded data removed]",
            "text/plain": [
              "<IPython.core.display.Image object>"
            ]
          },
          "metadata": {}
        },
        {
          "output_type": "stream",
          "name": "stdout",
          "text": [
            "\b\b\b\b\b\b\b\b\b\b\b\b\b\b\b\b\b\b\b\b\b\b\b\b\b\b\b\b\b\b\b\b\b\b\b\b\b\b\b\b\b\b\b\b\b\b\b\b\b\b\b\b\b\b\b\b\b\b\b\b\b\b\b\b\b\b\b\b\b\b\b\b\b\b\b\b\b\b\b\b\b\b\b\b\b\b\b\b\b\b\b\b\b\b\b\b\b\b\b\b\b\b\b\b\b\b\b\b\b\b\b\b\b\b\b\b\b\b\b\b\b\b\b\b\b\r107/107 [==============================] - 15s 143ms/step - loss: 2.8802 - note_outputs_loss: 2.3291 - duration_outputs_loss: 0.5511\n",
            "Epoch 15/20\n",
            "107/107 [==============================] - ETA: 0s - loss: 2.8607 - note_outputs_loss: 2.3040 - duration_outputs_loss: 0.5567[['START', 'C:major', '3/4TS', 'G3', 'G#3', 'F3', 'E-3', 'D3', 'E-3', 'F3', 'G3', 'G#3', 'B-3', 'G3', 'G#3', 'F3', 'G3', 'G#3', 'F3', 'E-3', 'D3', 'C3', 'G#3', 'E-3', 'F3', 'E-3', 'D3', 'E-3', 'F3', 'G3', 'E-3', 'F3', 'G3', 'G#3', 'F3', 'G3', 'G#3', 'G3', 'F3', 'E-3', 'D3', 'E-3', 'F3', 'G3', 'G#3', 'F3', 'E-3', 'D3', 'E-3'], ['0.0', '0.0', '3.75', '0.25', '0.25', '0.25', '0.25', '0.25', '0.25', '0.75', '0.25', '0.75', '0.25', '0.25', '0.25', '0.25', '0.25', '0.25', '0.25', '0.25', '0.25', '0.25', '0.25', '0.25', '0.75', '0.25', '0.75', '0.25', '0.75', '0.25', '0.75', '0.25', '0.75', '0.25', '0.75', '0.25', '0.75', '0.25', '0.25', '0.25', '0.25', '0.25', '0.25', '0.25', '0.25', '0.25', '0.25', '0.25', '0.25']]\n"
          ]
        },
        {
          "output_type": "display_data",
          "data": {
            "image/png": "[encoded data removed]",
            "text/plain": [
              "<IPython.core.display.Image object>"
            ]
          },
          "metadata": {}
        },
        {
          "output_type": "stream",
          "name": "stdout",
          "text": [
            "\b\b\b\b\b\b\b\b\b\b\b\b\b\b\b\b\b\b\b\b\b\b\b\b\b\b\b\b\b\b\b\b\b\b\b\b\b\b\b\b\b\b\b\b\b\b\b\b\b\b\b\b\b\b\b\b\b\b\b\b\b\b\b\b\b\b\b\b\b\b\b\b\b\b\b\b\b\b\b\b\b\b\b\b\b\b\b\b\b\b\b\b\b\b\b\b\b\b\b\b\b\b\b\b\b\b\b\b\b\b\b\b\b\b\b\b\b\b\b\b\b\b\b\b\b\r107/107 [==============================] - 16s 145ms/step - loss: 2.8607 - note_outputs_loss: 2.3040 - duration_outputs_loss: 0.5567\n",
            "Epoch 16/20\n",
            "107/107 [==============================] - ETA: 0s - loss: 2.8624 - note_outputs_loss: 2.3032 - duration_outputs_loss: 0.5592[['START', 'E-:major', '4/4TS', '4/4TS', '4/4TS', 'rest'], ['0.0', '0.0', '0.0', '0.0', '0.0', '3.75']]\n"
          ]
        },
        {
          "output_type": "display_data",
          "data": {
            "image/png": "[encoded data removed]",
            "text/plain": [
              "<IPython.core.display.Image object>"
            ]
          },
          "metadata": {}
        },
        {
          "output_type": "stream",
          "name": "stdout",
          "text": [
            "\b\b\b\b\b\b\b\b\b\b\b\b\b\b\b\b\b\b\b\b\b\b\b\b\b\b\b\b\b\b\b\b\b\b\b\b\b\b\b\b\b\b\b\b\b\b\b\b\b\b\b\b\b\b\b\b\b\b\b\b\b\b\b\b\b\b\b\b\b\b\b\b\b\b\b\b\b\b\b\b\b\b\b\b\b\b\b\b\b\b\b\b\b\b\b\b\b\b\b\b\b\b\b\b\b\b\b\b\b\b\b\b\b\b\b\b\b\b\b\b\b\b\b\b\b\r107/107 [==============================] - 9s 86ms/step - loss: 2.8624 - note_outputs_loss: 2.3032 - duration_outputs_loss: 0.5592\n",
            "Epoch 17/20\n",
            "107/107 [==============================] - ETA: 0s - loss: 2.8342 - note_outputs_loss: 2.2808 - duration_outputs_loss: 0.5534[['START', 'E-:major', '4/4TS', 'G#2', 'B-2', 'C3', 'D3', 'E-3', 'F3', 'G3', 'G#3', 'B-3', 'E-3', 'G3', 'F3', 'E-3', 'D3', 'E-3', 'F3', 'G3', 'G#3', 'G3', 'F3', 'E-3', 'D3', 'C3', 'D3', 'E-3', 'F3', 'D3', 'E-3', 'B-2', 'C3', 'D3', 'E-3', 'F3', 'G3', 'E-3', 'F3', 'G3', 'E-3', 'F3', 'G3', 'G#3', 'B-3', 'G3', 'F3', 'E-3', 'D3'], ['0.0', '0.0', '0.0', '3.0', '1.0', '1.0', '0.5', '0.5', '1.0', '1.0', '1.0', '0.5', '0.5', '0.5', '0.5', '1.0', '1.0', '1.0', '1.0', '0.5', '0.5', '0.5', '0.5', '0.5', '0.5', '0.5', '0.5', '0.5', '0.5', '0.5', '0.5', '0.5', '0.5', '0.5', '0.5', '0.5', '0.5', '0.5', '0.5', '0.5', '0.5', '0.5', '0.5', '0.5', '0.5', '0.5', '0.5', '0.5', '0.5']]\n"
          ]
        },
        {
          "output_type": "display_data",
          "data": {
            "image/png": "[encoded data removed]",
            "text/plain": [
              "<IPython.core.display.Image object>"
            ]
          },
          "metadata": {}
        },
        {
          "output_type": "stream",
          "name": "stdout",
          "text": [
            "\b\b\b\b\b\b\b\b\b\b\b\b\b\b\b\b\b\b\b\b\b\b\b\b\b\b\b\b\b\b\b\b\b\b\b\b\b\b\b\b\b\b\b\b\b\b\b\b\b\b\b\b\b\b\b\b\b\b\b\b\b\b\b\b\b\b\b\b\b\b\b\b\b\b\b\b\b\b\b\b\b\b\b\b\b\b\b\b\b\b\b\b\b\b\b\b\b\b\b\b\b\b\b\b\b\b\b\b\b\b\b\b\b\b\b\b\b\b\b\b\b\b\b\b\b\r107/107 [==============================] - 15s 139ms/step - loss: 2.8342 - note_outputs_loss: 2.2808 - duration_outputs_loss: 0.5534\n",
            "Epoch 18/20\n",
            "107/107 [==============================] - ETA: 0s - loss: 2.8192 - note_outputs_loss: 2.2654 - duration_outputs_loss: 0.5539[['START', 'C:major', 'rest'], ['0.0', '2.5', '0.5']]\n"
          ]
        },
        {
          "output_type": "display_data",
          "data": {
            "image/png": "[encoded data removed]",
            "text/plain": [
              "<IPython.core.display.Image object>"
            ]
          },
          "metadata": {}
        },
        {
          "output_type": "stream",
          "name": "stdout",
          "text": [
            "\b\b\b\b\b\b\b\b\b\b\b\b\b\b\b\b\b\b\b\b\b\b\b\b\b\b\b\b\b\b\b\b\b\b\b\b\b\b\b\b\b\b\b\b\b\b\b\b\b\b\b\b\b\b\b\b\b\b\b\b\b\b\b\b\b\b\b\b\b\b\b\b\b\b\b\b\b\b\b\b\b\b\b\b\b\b\b\b\b\b\b\b\b\b\b\b\b\b\b\b\b\b\b\b\b\b\b\b\b\b\b\b\b\b\b\b\b\b\b\b\b\b\b\b\b\r107/107 [==============================] - 9s 84ms/step - loss: 2.8192 - note_outputs_loss: 2.2654 - duration_outputs_loss: 0.5539\n",
            "Epoch 19/20\n",
            "107/107 [==============================] - ETA: 0s - loss: 2.7876 - note_outputs_loss: 2.2447 - duration_outputs_loss: 0.5429[['START', 'D:major', '4/4TS', 'D5', 'C#5', 'D5', 'C#5', 'D5', 'C#5', '6/8TS', 'E4', 'E4', 'E4', 'E4', 'F#4', 'G4', 'E4', 'E4', 'F#4', 'G4', 'E4', 'F#4', 'E4', 'D4', 'C#4', 'D4', 'E4', 'D4', 'C#4', 'D4', 'C#4', 'B3', 'C#4', 'B3', 'C#4', 'D4', 'C#4', 'B3', 'C#4', 'D4', 'C#4', 'D4', 'C#4', 'B3', 'C#4', 'D4', 'C#4', 'B3', 'C#4'], ['0.0', '0.0', '0.0', '3.75', '0.25', '0.25', '0.25', '0.25', '0.25', '0.25', '0.25', '0.25', '0.25', '0.25', '0.25', '0.25', '0.25', '0.25', '0.25', '0.25', '0.25', '0.25', '0.25', '0.25', '0.25', '0.25', '0.25', '0.25', '0.25', '0.25', '0.25', '0.25', '0.25', '0.25', '0.25', '0.25', '0.25', '0.25', '0.25', '0.25', '0.25', '0.25', '0.25', '0.25', '0.25', '0.25', '0.25', '0.25', '0.25']]\n"
          ]
        },
        {
          "output_type": "display_data",
          "data": {
            "image/png": "[encoded data removed]",
            "text/plain": [
              "<IPython.core.display.Image object>"
            ]
          },
          "metadata": {}
        },
        {
          "output_type": "stream",
          "name": "stdout",
          "text": [
            "\b\b\b\b\b\b\b\b\b\b\b\b\b\b\b\b\b\b\b\b\b\b\b\b\b\b\b\b\b\b\b\b\b\b\b\b\b\b\b\b\b\b\b\b\b\b\b\b\b\b\b\b\b\b\b\b\b\b\b\b\b\b\b\b\b\b\b\b\b\b\b\b\b\b\b\b\b\b\b\b\b\b\b\b\b\b\b\b\b\b\b\b\b\b\b\b\b\b\b\b\b\b\b\b\b\b\b\b\b\b\b\b\b\b\b\b\b\b\b\b\b\b\b\b\b\r107/107 [==============================] - 15s 141ms/step - loss: 2.7876 - note_outputs_loss: 2.2447 - duration_outputs_loss: 0.5429\n",
            "Epoch 20/20\n",
            "107/107 [==============================] - ETA: 0s - loss: 2.7652 - note_outputs_loss: 2.2257 - duration_outputs_loss: 0.5395[['START', 'D:major', '3/4TS', 'rest'], ['0.0', '0.5', '0.5', '0.5']]\n"
          ]
        },
        {
          "output_type": "display_data",
          "data": {
            "image/png": "[encoded data removed]",
            "text/plain": [
              "<IPython.core.display.Image object>"
            ]
          },
          "metadata": {}
        },
        {
          "output_type": "stream",
          "name": "stdout",
          "text": [
            "\b\b\b\b\b\b\b\b\b\b\b\b\b\b\b\b\b\b\b\b\b\b\b\b\b\b\b\b\b\b\b\b\b\b\b\b\b\b\b\b\b\b\b\b\b\b\b\b\b\b\b\b\b\b\b\b\b\b\b\b\b\b\b\b\b\b\b\b\b\b\b\b\b\b\b\b\b\b\b\b\b\b\b\b\b\b\b\b\b\b\b\b\b\b\b\b\b\b\b\b\b\b\b\b\b\b\b\b\b\b\b\b\b\b\b\b\b\b\b\b\b\b\b\b\b\r107/107 [==============================] - 9s 84ms/step - loss: 2.7652 - note_outputs_loss: 2.2257 - duration_outputs_loss: 0.5395\n"
          ]
        },
        {
          "output_type": "execute_result",
          "data": {
            "text/plain": [
              "<keras.src.callbacks.History at 0x7f8d35aedf30>"
            ]
          },
          "metadata": {},
          "execution_count": 28
        }
      ]
    },
    {
      "cell_type": "code",
      "source": [
        "model.save('/content/drive/MyDrive/music_transformer.pth')"
      ],
      "metadata": {
        "id": "0Es-aKZQ0U4M"
      },
      "execution_count": 29,
      "outputs": []
    },
    {
      "cell_type": "markdown",
      "source": [
        "- 트랜스포머를 사용하여 음악생성"
      ],
      "metadata": {
        "id": "YgR2vsJZ6k8F"
      }
    },
    {
      "cell_type": "code",
      "source": [
        "info = music_generator.generate(\n",
        "    ['START'],['0.0'],max_tokens=50,temperature=0.5\n",
        ")\n",
        "midi_stream = info[-1]['midi'].chordify()\n",
        "display(Image(str(midi_stream.write('lily.png'))))"
      ],
      "metadata": {
        "colab": {
          "base_uri": "https://localhost:8080/",
          "height": 151
        },
        "id": "nEiGrr766skd",
        "outputId": "010aab07-9b05-40fd-c190-5f417037366e"
      },
      "execution_count": 32,
      "outputs": [
        {
          "output_type": "display_data",
          "data": {
            "image/png": "[encoded data removed]",
            "text/plain": [
              "<IPython.core.display.Image object>"
            ]
          },
          "metadata": {}
        }
      ]
    },
    {
      "cell_type": "markdown",
      "source": [
        "- MIDI파일로 음악 저장"
      ],
      "metadata": {
        "id": "Gg2FJxlE7QAh"
      }
    },
    {
      "cell_type": "code",
      "source": [
        "midi_stream.write(\n",
        "    'midi',\n",
        "    fp=os.path.join(\n",
        "        './output',\n",
        "        'output-'+timestr+'.mid'\n",
        "    )\n",
        ")"
      ],
      "metadata": {
        "colab": {
          "base_uri": "https://localhost:8080/",
          "height": 36
        },
        "id": "TrJOnpVX7hud",
        "outputId": "6c294a25-9cfa-4cf3-ea87-9d83c7780c89"
      },
      "execution_count": 33,
      "outputs": [
        {
          "output_type": "execute_result",
          "data": {
            "text/plain": [
              "'./output/output-20240403-123040.mid'"
            ],
            "application/vnd.google.colaboratory.intrinsic+json": {
              "type": "string"
            }
          },
          "metadata": {},
          "execution_count": 33
        }
      ]
    },
    {
      "cell_type": "markdown",
      "source": [
        " - 바흐 코랄 스타일로 음악을 생성"
      ],
      "metadata": {
        "id": "Tj2D7ApD86Mm"
      }
    },
    {
      "cell_type": "code",
      "source": [
        "import sys\n",
        "\n",
        "# 코랩의 경우 깃허브 저장소로부터 musegan_utils.py를 다운로드 합니다.\n",
        "if 'google.colab' in sys.modules:\n",
        "    !wget https://raw.githubusercontent.com/rickiepark/Generative_Deep_Learning_2nd_Edition/main/notebooks/11_music/02_musegan/musegan_utils.py\n",
        "    # output 디렉토리를 만듭니다.\n",
        "    !mkdir parsed_data\n",
        "    !mkdir output\n",
        "    !mkdir bach-chorales\n",
        "    # 악보 이미지 생성을 위해\n",
        "    !apt-get install lilypond > /dev/null"
      ],
      "metadata": {
        "colab": {
          "base_uri": "https://localhost:8080/"
        },
        "id": "Jk9y9F86_vow",
        "outputId": "85ca29e8-362b-4b3c-9fdc-9927e2ab5a14"
      },
      "execution_count": 46,
      "outputs": [
        {
          "output_type": "stream",
          "name": "stdout",
          "text": [
            "--2024-04-03 12:47:36--  https://raw.githubusercontent.com/rickiepark/Generative_Deep_Learning_2nd_Edition/main/notebooks/11_music/02_musegan/musegan_utils.py\n",
            "Resolving raw.githubusercontent.com (raw.githubusercontent.com)... 185.199.108.133, 185.199.109.133, 185.199.110.133, ...\n",
            "Connecting to raw.githubusercontent.com (raw.githubusercontent.com)|185.199.108.133|:443... connected.\n",
            "HTTP request sent, awaiting response... 200 OK\n",
            "Length: 1833 (1.8K) [text/plain]\n",
            "Saving to: ‘musegan_utils.py’\n",
            "\n",
            "\rmusegan_utils.py      0%[                    ]       0  --.-KB/s               \rmusegan_utils.py    100%[===================>]   1.79K  --.-KB/s    in 0s      \n",
            "\n",
            "2024-04-03 12:47:37 (24.4 MB/s) - ‘musegan_utils.py’ saved [1833/1833]\n",
            "\n",
            "mkdir: cannot create directory ‘parsed_data’: File exists\n",
            "mkdir: cannot create directory ‘output’: File exists\n"
          ]
        }
      ]
    },
    {
      "cell_type": "code",
      "source": [
        "import numpy as np\n",
        "import matplotlib.pyplot as plt\n",
        "\n",
        "plt.style.use(\"seaborn-v0_8-colorblind\")\n",
        "\n",
        "import os\n",
        "import tensorflow as tf\n",
        "from tensorflow.keras import (\n",
        "    layers,\n",
        "    models,\n",
        "    optimizers,\n",
        "    callbacks,\n",
        "    initializers,\n",
        "    metrics,\n",
        ")\n",
        "\n",
        "from musegan_utils import notes_to_midi, draw_score"
      ],
      "metadata": {
        "id": "lgXcqVSZACRU"
      },
      "execution_count": 47,
      "outputs": []
    },
    {
      "cell_type": "markdown",
      "source": [
        "- 파라메터셋팅"
      ],
      "metadata": {
        "id": "FCTDeNlKAH5X"
      }
    },
    {
      "cell_type": "code",
      "source": [
        "BATCH_SIZE = 64\n",
        "\n",
        "N_BARS = 2\n",
        "N_STEPS_PER_BAR = 16\n",
        "MAX_PITCH = 83\n",
        "N_PITCHES = MAX_PITCH + 1\n",
        "Z_DIM = 32\n",
        "\n",
        "\n",
        "CRITIC_STEPS = 5\n",
        "GP_WEIGHT = 10\n",
        "CRITIC_LEARNING_RATE = 0.001\n",
        "GENERATOR_LEARNING_RATE = 0.001\n",
        "ADAM_BETA_1 = 0.5\n",
        "ADAM_BETA_2 = 0.9\n",
        "EPOCHS = 1000\n",
        "LOAD_MODEL = False"
      ],
      "metadata": {
        "id": "iAj8pN39AGQS"
      },
      "execution_count": 48,
      "outputs": []
    },
    {
      "cell_type": "code",
      "source": [
        "if 'google.colab' in sys.modules:\n",
        "    !curl -LO https://github.com/czhuang/JSB-Chorales-dataset/raw/master/Jsb16thSeparated.npz -s\n",
        "    !mv Jsb16thSeparated.npz bach-chorales\n",
        "\n",
        "# 데이터 로드\n",
        "file = os.path.join(\"./bach-chorales/Jsb16thSeparated.npz\")\n",
        "with np.load(file, encoding=\"bytes\", allow_pickle=True) as f:\n",
        "    data = f[\"train\"]\n",
        "\n",
        "N_SONGS = len(data)\n",
        "print(f\"데이터셋에 있는 코랄 개수: {N_SONGS}\")\n",
        "chorale = data[0]\n",
        "N_BEATS, N_TRACKS = chorale.shape\n",
        "print(f\"코랄 0번의 크기: {N_BEATS, N_TRACKS}\")\n",
        "print(\"\\n코랄 0\")\n",
        "print(chorale[:8])\n",
        "\n",
        "two_bars = np.array([x[: (N_STEPS_PER_BAR * N_BARS)] for x in data])\n",
        "two_bars = np.array(np.nan_to_num(two_bars, nan=MAX_PITCH), dtype=int)\n",
        "two_bars = two_bars.reshape([N_SONGS, N_BARS, N_STEPS_PER_BAR, N_TRACKS])\n",
        "print(f\"두 마디 크기: {two_bars.shape}\")\n",
        "\n",
        "data_binary = np.eye(N_PITCHES)[two_bars]\n",
        "data_binary[data_binary == 0] = -1\n",
        "data_binary = data_binary.transpose([0, 1, 2, 4, 3])\n",
        "print(f\"데이터 바이너리 크기: {data_binary.shape}\")\n"
      ],
      "metadata": {
        "colab": {
          "base_uri": "https://localhost:8080/"
        },
        "id": "GbRvg_E6AJ9R",
        "outputId": "6260036c-6956-4e3c-971a-586df772fd34"
      },
      "execution_count": 49,
      "outputs": [
        {
          "output_type": "stream",
          "name": "stdout",
          "text": [
            "데이터셋에 있는 코랄 개수: 229\n",
            "코랄 0번의 크기: (192, 4)\n",
            "\n",
            "코랄 0\n",
            "[[74. 70. 65. 58.]\n",
            " [74. 70. 65. 58.]\n",
            " [74. 70. 65. 58.]\n",
            " [74. 70. 65. 58.]\n",
            " [75. 70. 58. 55.]\n",
            " [75. 70. 58. 55.]\n",
            " [75. 70. 60. 55.]\n",
            " [75. 70. 60. 55.]]\n",
            "두 마디 크기: (229, 2, 16, 4)\n",
            "데이터 바이너리 크기: (229, 2, 16, 84, 4)\n"
          ]
        }
      ]
    },
    {
      "cell_type": "markdown",
      "source": [
        "- GAN 구축"
      ],
      "metadata": {
        "id": "syYS93DTAZon"
      }
    },
    {
      "cell_type": "code",
      "source": [
        "# 헬퍼 함수\n",
        "\n",
        "initializer = initializers.RandomNormal(mean=0.0, stddev=0.02)\n",
        "\n",
        "\n",
        "def conv(x, f, k, s, p):\n",
        "    x = layers.Conv3D(\n",
        "        filters=f,\n",
        "        kernel_size=k,\n",
        "        padding=p,\n",
        "        strides=s,\n",
        "        kernel_initializer=initializer,\n",
        "    )(x)\n",
        "    x = layers.LeakyReLU()(x)\n",
        "    return x\n",
        "\n",
        "\n",
        "def conv_t(x, f, k, s, a, p, bn):\n",
        "    x = layers.Conv2DTranspose(\n",
        "        filters=f,\n",
        "        kernel_size=k,\n",
        "        padding=p,\n",
        "        strides=s,\n",
        "        kernel_initializer=initializer,\n",
        "    )(x)\n",
        "    if bn:\n",
        "        x = layers.BatchNormalization(momentum=0.9)(x)\n",
        "\n",
        "    x = layers.Activation(a)(x)\n",
        "    return x"
      ],
      "metadata": {
        "id": "fNNaDoKEAOvX"
      },
      "execution_count": 50,
      "outputs": []
    },
    {
      "cell_type": "code",
      "source": [
        "def TemporalNetwork():\n",
        "    input_layer = layers.Input(shape=(Z_DIM,), name=\"temporal_input\")\n",
        "    x = layers.Reshape([1, 1, Z_DIM])(input_layer)\n",
        "    x = conv_t(x, f=1024, k=(2, 1), s=(1, 1), a=\"relu\", p=\"valid\", bn=True)\n",
        "    x = conv_t(\n",
        "        x, f=Z_DIM, k=(N_BARS - 1, 1), s=(1, 1), a=\"relu\", p=\"valid\", bn=True\n",
        "    )\n",
        "    output_layer = layers.Reshape([N_BARS, Z_DIM])(x)\n",
        "    return models.Model(input_layer, output_layer)\n",
        "\n",
        "\n",
        "TemporalNetwork().summary()"
      ],
      "metadata": {
        "colab": {
          "base_uri": "https://localhost:8080/"
        },
        "id": "sL2rfHtpAdPh",
        "outputId": "c7dd707d-b115-46bf-b848-70ddbba20644"
      },
      "execution_count": 51,
      "outputs": [
        {
          "output_type": "stream",
          "name": "stdout",
          "text": [
            "Model: \"model_24\"\n",
            "_________________________________________________________________\n",
            " Layer (type)                Output Shape              Param #   \n",
            "=================================================================\n",
            " temporal_input (InputLayer  [(None, 32)]              0         \n",
            " )                                                               \n",
            "                                                                 \n",
            " reshape (Reshape)           (None, 1, 1, 32)          0         \n",
            "                                                                 \n",
            " conv2d_transpose (Conv2DTr  (None, 2, 1, 1024)        66560     \n",
            " anspose)                                                        \n",
            "                                                                 \n",
            " batch_normalization (Batch  (None, 2, 1, 1024)        4096      \n",
            " Normalization)                                                  \n",
            "                                                                 \n",
            " activation (Activation)     (None, 2, 1, 1024)        0         \n",
            "                                                                 \n",
            " conv2d_transpose_1 (Conv2D  (None, 2, 1, 32)          32800     \n",
            " Transpose)                                                      \n",
            "                                                                 \n",
            " batch_normalization_1 (Bat  (None, 2, 1, 32)          128       \n",
            " chNormalization)                                                \n",
            "                                                                 \n",
            " activation_1 (Activation)   (None, 2, 1, 32)          0         \n",
            "                                                                 \n",
            " reshape_1 (Reshape)         (None, 2, 32)             0         \n",
            "                                                                 \n",
            "=================================================================\n",
            "Total params: 103584 (404.62 KB)\n",
            "Trainable params: 101472 (396.38 KB)\n",
            "Non-trainable params: 2112 (8.25 KB)\n",
            "_________________________________________________________________\n"
          ]
        },
        {
          "output_type": "stream",
          "name": "stderr",
          "text": [
            "/usr/local/lib/python3.10/dist-packages/keras/src/initializers/initializers.py:120: UserWarning: The initializer RandomNormal is unseeded and being called multiple times, which will return identical values each time (even if the initializer is unseeded). Please update your code to provide a seed to the initializer, or avoid using the same initializer instance more than once.\n",
            "  warnings.warn(\n"
          ]
        }
      ]
    },
    {
      "cell_type": "code",
      "source": [
        "def BarGenerator():\n",
        "    input_layer = layers.Input(shape=(Z_DIM * 4,), name=\"bar_generator_input\")\n",
        "\n",
        "    x = layers.Dense(1024)(input_layer)\n",
        "    x = layers.BatchNormalization(momentum=0.9)(x)\n",
        "    x = layers.Activation(\"relu\")(x)\n",
        "    x = layers.Reshape([2, 1, 512])(x)\n",
        "\n",
        "    x = conv_t(x, f=512, k=(2, 1), s=(2, 1), a=\"relu\", p=\"same\", bn=True)\n",
        "    x = conv_t(x, f=256, k=(2, 1), s=(2, 1), a=\"relu\", p=\"same\", bn=True)\n",
        "    x = conv_t(x, f=256, k=(2, 1), s=(2, 1), a=\"relu\", p=\"same\", bn=True)\n",
        "    x = conv_t(x, f=256, k=(1, 7), s=(1, 7), a=\"relu\", p=\"same\", bn=True)\n",
        "    x = conv_t(x, f=1, k=(1, 12), s=(1, 12), a=\"tanh\", p=\"same\", bn=False)\n",
        "\n",
        "    output_layer = layers.Reshape([1, N_STEPS_PER_BAR, N_PITCHES, 1])(x)\n",
        "\n",
        "    return models.Model(input_layer, output_layer)\n",
        "\n",
        "\n",
        "BarGenerator().summary()"
      ],
      "metadata": {
        "id": "ioKsp99GAfVB"
      },
      "execution_count": null,
      "outputs": []
    },
    {
      "cell_type": "code",
      "source": [
        "def Generator():\n",
        "    chords_input = layers.Input(shape=(Z_DIM,), name=\"chords_input\")\n",
        "    style_input = layers.Input(shape=(Z_DIM,), name=\"style_input\")\n",
        "    melody_input = layers.Input(shape=(N_TRACKS, Z_DIM), name=\"melody_input\")\n",
        "    groove_input = layers.Input(shape=(N_TRACKS, Z_DIM), name=\"groove_input\")\n",
        "\n",
        "    # 코드 -> TemporalNetwork\n",
        "    chords_tempNetwork = TemporalNetwork()\n",
        "    chords_over_time = chords_tempNetwork(chords_input)  # [n_bars, z_dim]\n",
        "\n",
        "    # 멜로디 -> TemporalNetwork\n",
        "    melody_over_time = [\n",
        "        None\n",
        "    ] * N_TRACKS  # n_tracks개 [n_bars, z_dim] 텐서의 리스트\n",
        "    melody_tempNetwork = [None] * N_TRACKS\n",
        "    for track in range(N_TRACKS):\n",
        "        melody_tempNetwork[track] = TemporalNetwork()\n",
        "        melody_track = layers.Lambda(lambda x, track=track: x[:, track, :])(\n",
        "            melody_input\n",
        "        )\n",
        "        melody_over_time[track] = melody_tempNetwork[track](melody_track)\n",
        "\n",
        "    # 각 트랙에 대한 마디 생성자를 만듭니다.\n",
        "    barGen = [None] * N_TRACKS\n",
        "    for track in range(N_TRACKS):\n",
        "        barGen[track] = BarGenerator()\n",
        "\n",
        "    # 각 트랙과 마디에 대해 출력을 만듭니다.\n",
        "    bars_output = [None] * N_BARS\n",
        "    c = [None] * N_BARS\n",
        "    for bar in range(N_BARS):\n",
        "        track_output = [None] * N_TRACKS\n",
        "\n",
        "        c[bar] = layers.Lambda(lambda x, bar=bar: x[:, bar, :])(\n",
        "            chords_over_time\n",
        "        )  # [z_dim]\n",
        "        s = style_input  # [z_dim]\n",
        "\n",
        "        for track in range(N_TRACKS):\n",
        "            m = layers.Lambda(lambda x, bar=bar: x[:, bar, :])(\n",
        "                melody_over_time[track]\n",
        "            )  # [z_dim]\n",
        "            g = layers.Lambda(lambda x, track=track: x[:, track, :])(\n",
        "                groove_input\n",
        "            )  # [z_dim]\n",
        "\n",
        "            z_input = layers.Concatenate(\n",
        "                axis=1, name=\"total_input_bar_{}_track_{}\".format(bar, track)\n",
        "            )([c[bar], s, m, g])\n",
        "\n",
        "            track_output[track] = barGen[track](z_input)\n",
        "\n",
        "        bars_output[bar] = layers.Concatenate(axis=-1)(track_output)\n",
        "\n",
        "    generator_output = layers.Concatenate(axis=1, name=\"concat_bars\")(\n",
        "        bars_output\n",
        "    )\n",
        "\n",
        "    return models.Model(\n",
        "        [chords_input, style_input, melody_input, groove_input],\n",
        "        generator_output,\n",
        "    )\n",
        "\n",
        "\n",
        "generator = Generator()\n",
        "generator.summary()"
      ],
      "metadata": {
        "colab": {
          "base_uri": "https://localhost:8080/"
        },
        "id": "GhSjzEGrAirl",
        "outputId": "03893bed-b413-413d-8d81-5d764c5e1550"
      },
      "execution_count": 53,
      "outputs": [
        {
          "output_type": "stream",
          "name": "stdout",
          "text": [
            "Model: \"model_35\"\n",
            "__________________________________________________________________________________________________\n",
            " Layer (type)                Output Shape                 Param #   Connected to                  \n",
            "==================================================================================================\n",
            " melody_input (InputLayer)   [(None, 4, 32)]              0         []                            \n",
            "                                                                                                  \n",
            " chords_input (InputLayer)   [(None, 32)]                 0         []                            \n",
            "                                                                                                  \n",
            " lambda (Lambda)             (None, 32)                   0         ['melody_input[0][0]']        \n",
            "                                                                                                  \n",
            " lambda_1 (Lambda)           (None, 32)                   0         ['melody_input[0][0]']        \n",
            "                                                                                                  \n",
            " lambda_2 (Lambda)           (None, 32)                   0         ['melody_input[0][0]']        \n",
            "                                                                                                  \n",
            " lambda_3 (Lambda)           (None, 32)                   0         ['melody_input[0][0]']        \n",
            "                                                                                                  \n",
            " model_26 (Functional)       (None, 2, 32)                103584    ['chords_input[0][0]']        \n",
            "                                                                                                  \n",
            " model_27 (Functional)       (None, 2, 32)                103584    ['lambda[0][0]']              \n",
            "                                                                                                  \n",
            " groove_input (InputLayer)   [(None, 4, 32)]              0         []                            \n",
            "                                                                                                  \n",
            " model_28 (Functional)       (None, 2, 32)                103584    ['lambda_1[0][0]']            \n",
            "                                                                                                  \n",
            " model_29 (Functional)       (None, 2, 32)                103584    ['lambda_2[0][0]']            \n",
            "                                                                                                  \n",
            " model_30 (Functional)       (None, 2, 32)                103584    ['lambda_3[0][0]']            \n",
            "                                                                                                  \n",
            " lambda_4 (Lambda)           (None, 32)                   0         ['model_26[0][0]']            \n",
            "                                                                                                  \n",
            " style_input (InputLayer)    [(None, 32)]                 0         []                            \n",
            "                                                                                                  \n",
            " lambda_5 (Lambda)           (None, 32)                   0         ['model_27[0][0]']            \n",
            "                                                                                                  \n",
            " lambda_6 (Lambda)           (None, 32)                   0         ['groove_input[0][0]']        \n",
            "                                                                                                  \n",
            " lambda_7 (Lambda)           (None, 32)                   0         ['model_28[0][0]']            \n",
            "                                                                                                  \n",
            " lambda_8 (Lambda)           (None, 32)                   0         ['groove_input[0][0]']        \n",
            "                                                                                                  \n",
            " lambda_9 (Lambda)           (None, 32)                   0         ['model_29[0][0]']            \n",
            "                                                                                                  \n",
            " lambda_10 (Lambda)          (None, 32)                   0         ['groove_input[0][0]']        \n",
            "                                                                                                  \n",
            " lambda_11 (Lambda)          (None, 32)                   0         ['model_30[0][0]']            \n",
            "                                                                                                  \n",
            " lambda_12 (Lambda)          (None, 32)                   0         ['groove_input[0][0]']        \n",
            "                                                                                                  \n",
            " lambda_13 (Lambda)          (None, 32)                   0         ['model_26[0][0]']            \n",
            "                                                                                                  \n",
            " lambda_14 (Lambda)          (None, 32)                   0         ['model_27[0][0]']            \n",
            "                                                                                                  \n",
            " lambda_15 (Lambda)          (None, 32)                   0         ['groove_input[0][0]']        \n",
            "                                                                                                  \n",
            " lambda_16 (Lambda)          (None, 32)                   0         ['model_28[0][0]']            \n",
            "                                                                                                  \n",
            " lambda_17 (Lambda)          (None, 32)                   0         ['groove_input[0][0]']        \n",
            "                                                                                                  \n",
            " lambda_18 (Lambda)          (None, 32)                   0         ['model_29[0][0]']            \n",
            "                                                                                                  \n",
            " lambda_19 (Lambda)          (None, 32)                   0         ['groove_input[0][0]']        \n",
            "                                                                                                  \n",
            " lambda_20 (Lambda)          (None, 32)                   0         ['model_30[0][0]']            \n",
            "                                                                                                  \n",
            " lambda_21 (Lambda)          (None, 32)                   0         ['groove_input[0][0]']        \n",
            "                                                                                                  \n",
            " total_input_bar_0_track_0   (None, 128)                  0         ['lambda_4[0][0]',            \n",
            " (Concatenate)                                                       'style_input[0][0]',         \n",
            "                                                                     'lambda_5[0][0]',            \n",
            "                                                                     'lambda_6[0][0]']            \n",
            "                                                                                                  \n",
            " total_input_bar_0_track_1   (None, 128)                  0         ['lambda_4[0][0]',            \n",
            " (Concatenate)                                                       'style_input[0][0]',         \n",
            "                                                                     'lambda_7[0][0]',            \n",
            "                                                                     'lambda_8[0][0]']            \n",
            "                                                                                                  \n",
            " total_input_bar_0_track_2   (None, 128)                  0         ['lambda_4[0][0]',            \n",
            " (Concatenate)                                                       'style_input[0][0]',         \n",
            "                                                                     'lambda_9[0][0]',            \n",
            "                                                                     'lambda_10[0][0]']           \n",
            "                                                                                                  \n",
            " total_input_bar_0_track_3   (None, 128)                  0         ['lambda_4[0][0]',            \n",
            " (Concatenate)                                                       'style_input[0][0]',         \n",
            "                                                                     'lambda_11[0][0]',           \n",
            "                                                                     'lambda_12[0][0]']           \n",
            "                                                                                                  \n",
            " total_input_bar_1_track_0   (None, 128)                  0         ['lambda_13[0][0]',           \n",
            " (Concatenate)                                                       'style_input[0][0]',         \n",
            "                                                                     'lambda_14[0][0]',           \n",
            "                                                                     'lambda_15[0][0]']           \n",
            "                                                                                                  \n",
            " total_input_bar_1_track_1   (None, 128)                  0         ['lambda_13[0][0]',           \n",
            " (Concatenate)                                                       'style_input[0][0]',         \n",
            "                                                                     'lambda_16[0][0]',           \n",
            "                                                                     'lambda_17[0][0]']           \n",
            "                                                                                                  \n",
            " total_input_bar_1_track_2   (None, 128)                  0         ['lambda_13[0][0]',           \n",
            " (Concatenate)                                                       'style_input[0][0]',         \n",
            "                                                                     'lambda_18[0][0]',           \n",
            "                                                                     'lambda_19[0][0]']           \n",
            "                                                                                                  \n",
            " total_input_bar_1_track_3   (None, 128)                  0         ['lambda_13[0][0]',           \n",
            " (Concatenate)                                                       'style_input[0][0]',         \n",
            "                                                                     'lambda_20[0][0]',           \n",
            "                                                                     'lambda_21[0][0]']           \n",
            "                                                                                                  \n",
            " model_31 (Functional)       (None, 1, 16, 84, 1)         1521921   ['total_input_bar_0_track_0[0]\n",
            "                                                                    [0]',                         \n",
            "                                                                     'total_input_bar_1_track_0[0]\n",
            "                                                                    [0]']                         \n",
            "                                                                                                  \n",
            " model_32 (Functional)       (None, 1, 16, 84, 1)         1521921   ['total_input_bar_0_track_1[0]\n",
            "                                                                    [0]',                         \n",
            "                                                                     'total_input_bar_1_track_1[0]\n",
            "                                                                    [0]']                         \n",
            "                                                                                                  \n",
            " model_33 (Functional)       (None, 1, 16, 84, 1)         1521921   ['total_input_bar_0_track_2[0]\n",
            "                                                                    [0]',                         \n",
            "                                                                     'total_input_bar_1_track_2[0]\n",
            "                                                                    [0]']                         \n",
            "                                                                                                  \n",
            " model_34 (Functional)       (None, 1, 16, 84, 1)         1521921   ['total_input_bar_0_track_3[0]\n",
            "                                                                    [0]',                         \n",
            "                                                                     'total_input_bar_1_track_3[0]\n",
            "                                                                    [0]']                         \n",
            "                                                                                                  \n",
            " concatenate_1 (Concatenate  (None, 1, 16, 84, 4)         0         ['model_31[0][0]',            \n",
            " )                                                                   'model_32[0][0]',            \n",
            "                                                                     'model_33[0][0]',            \n",
            "                                                                     'model_34[0][0]']            \n",
            "                                                                                                  \n",
            " concatenate_2 (Concatenate  (None, 1, 16, 84, 4)         0         ['model_31[1][0]',            \n",
            " )                                                                   'model_32[1][0]',            \n",
            "                                                                     'model_33[1][0]',            \n",
            "                                                                     'model_34[1][0]']            \n",
            "                                                                                                  \n",
            " concat_bars (Concatenate)   (None, 2, 16, 84, 4)         0         ['concatenate_1[0][0]',       \n",
            "                                                                     'concatenate_2[0][0]']       \n",
            "                                                                                                  \n",
            "==================================================================================================\n",
            "Total params: 6605604 (25.20 MB)\n",
            "Trainable params: 6576612 (25.09 MB)\n",
            "Non-trainable params: 28992 (113.25 KB)\n",
            "__________________________________________________________________________________________________\n"
          ]
        }
      ]
    },
    {
      "cell_type": "code",
      "source": [
        "def Critic():\n",
        "    critic_input = layers.Input(\n",
        "        shape=(N_BARS, N_STEPS_PER_BAR, N_PITCHES, N_TRACKS),\n",
        "        name=\"critic_input\",\n",
        "    )\n",
        "\n",
        "    x = critic_input\n",
        "\n",
        "    x = conv(x, f=128, k=(2, 1, 1), s=(1, 1, 1), p=\"valid\")\n",
        "    x = conv(x, f=128, k=(N_BARS - 1, 1, 1), s=(1, 1, 1), p=\"valid\")\n",
        "    x = conv(x, f=128, k=(1, 1, 12), s=(1, 1, 12), p=\"same\")\n",
        "    x = conv(x, f=128, k=(1, 1, 7), s=(1, 1, 7), p=\"same\")\n",
        "    x = conv(x, f=128, k=(1, 2, 1), s=(1, 2, 1), p=\"same\")\n",
        "    x = conv(x, f=128, k=(1, 2, 1), s=(1, 2, 1), p=\"same\")\n",
        "    x = conv(x, f=256, k=(1, 4, 1), s=(1, 2, 1), p=\"same\")\n",
        "    x = conv(x, f=512, k=(1, 3, 1), s=(1, 2, 1), p=\"same\")\n",
        "\n",
        "    x = layers.Flatten()(x)\n",
        "\n",
        "    x = layers.Dense(1024, kernel_initializer=initializer)(x)\n",
        "    x = layers.LeakyReLU()(x)\n",
        "\n",
        "    critic_output = layers.Dense(\n",
        "        1, activation=None, kernel_initializer=initializer\n",
        "    )(x)\n",
        "\n",
        "    return models.Model(critic_input, critic_output)\n",
        "\n",
        "\n",
        "critic = Critic()\n",
        "critic.summary()"
      ],
      "metadata": {
        "colab": {
          "base_uri": "https://localhost:8080/"
        },
        "id": "aeeZFyldAprf",
        "outputId": "53f6055a-a8b3-4238-cc09-efe9885b1ac1"
      },
      "execution_count": 54,
      "outputs": [
        {
          "output_type": "stream",
          "name": "stdout",
          "text": [
            "Model: \"model_36\"\n",
            "_________________________________________________________________\n",
            " Layer (type)                Output Shape              Param #   \n",
            "=================================================================\n",
            " critic_input (InputLayer)   [(None, 2, 16, 84, 4)]    0         \n",
            "                                                                 \n",
            " conv3d (Conv3D)             (None, 1, 16, 84, 128)    1152      \n",
            "                                                                 \n",
            " leaky_re_lu (LeakyReLU)     (None, 1, 16, 84, 128)    0         \n",
            "                                                                 \n",
            " conv3d_1 (Conv3D)           (None, 1, 16, 84, 128)    16512     \n",
            "                                                                 \n",
            " leaky_re_lu_1 (LeakyReLU)   (None, 1, 16, 84, 128)    0         \n",
            "                                                                 \n",
            " conv3d_2 (Conv3D)           (None, 1, 16, 7, 128)     196736    \n",
            "                                                                 \n",
            " leaky_re_lu_2 (LeakyReLU)   (None, 1, 16, 7, 128)     0         \n",
            "                                                                 \n",
            " conv3d_3 (Conv3D)           (None, 1, 16, 1, 128)     114816    \n",
            "                                                                 \n",
            " leaky_re_lu_3 (LeakyReLU)   (None, 1, 16, 1, 128)     0         \n",
            "                                                                 \n",
            " conv3d_4 (Conv3D)           (None, 1, 8, 1, 128)      32896     \n",
            "                                                                 \n",
            " leaky_re_lu_4 (LeakyReLU)   (None, 1, 8, 1, 128)      0         \n",
            "                                                                 \n",
            " conv3d_5 (Conv3D)           (None, 1, 4, 1, 128)      32896     \n",
            "                                                                 \n",
            " leaky_re_lu_5 (LeakyReLU)   (None, 1, 4, 1, 128)      0         \n",
            "                                                                 \n",
            " conv3d_6 (Conv3D)           (None, 1, 2, 1, 256)      131328    \n",
            "                                                                 \n",
            " leaky_re_lu_6 (LeakyReLU)   (None, 1, 2, 1, 256)      0         \n",
            "                                                                 \n",
            " conv3d_7 (Conv3D)           (None, 1, 1, 1, 512)      393728    \n",
            "                                                                 \n",
            " leaky_re_lu_7 (LeakyReLU)   (None, 1, 1, 1, 512)      0         \n",
            "                                                                 \n",
            " flatten (Flatten)           (None, 512)               0         \n",
            "                                                                 \n",
            " dense_7 (Dense)             (None, 1024)              525312    \n",
            "                                                                 \n",
            " leaky_re_lu_8 (LeakyReLU)   (None, 1024)              0         \n",
            "                                                                 \n",
            " dense_8 (Dense)             (None, 1)                 1025      \n",
            "                                                                 \n",
            "=================================================================\n",
            "Total params: 1446401 (5.52 MB)\n",
            "Trainable params: 1446401 (5.52 MB)\n",
            "Non-trainable params: 0 (0.00 Byte)\n",
            "_________________________________________________________________\n"
          ]
        }
      ]
    },
    {
      "cell_type": "code",
      "source": [
        "class MuseGAN(models.Model):\n",
        "    def __init__(self, critic, generator, latent_dim, critic_steps, gp_weight):\n",
        "        super(MuseGAN, self).__init__()\n",
        "        self.critic = critic\n",
        "        self.generator = generator\n",
        "        self.latent_dim = latent_dim\n",
        "        self.critic_steps = critic_steps\n",
        "        self.gp_weight = gp_weight\n",
        "\n",
        "    def compile(self, c_optimizer, g_optimizer):\n",
        "        super(MuseGAN, self).compile()\n",
        "        self.c_optimizer = c_optimizer\n",
        "        self.g_optimizer = g_optimizer\n",
        "        self.c_wass_loss_metric = metrics.Mean(name=\"c_wass_loss\")\n",
        "        self.c_gp_metric = metrics.Mean(name=\"c_gp\")\n",
        "        self.c_loss_metric = metrics.Mean(name=\"c_loss\")\n",
        "        self.g_loss_metric = metrics.Mean(name=\"g_loss\")\n",
        "\n",
        "    @property\n",
        "    def metrics(self):\n",
        "        return [\n",
        "            self.c_loss_metric,\n",
        "            self.c_wass_loss_metric,\n",
        "            self.c_gp_metric,\n",
        "            self.g_loss_metric,\n",
        "        ]\n",
        "\n",
        "    def gradient_penalty(self, batch_size, real_images, fake_images):\n",
        "        alpha = tf.random.normal([batch_size, 1, 1, 1, 1], 0.0, 1.0)\n",
        "        diff = fake_images - real_images\n",
        "        interpolated = real_images + alpha * diff\n",
        "\n",
        "        with tf.GradientTape() as gp_tape:\n",
        "            gp_tape.watch(interpolated)\n",
        "            pred = self.critic(interpolated, training=True)\n",
        "\n",
        "        grads = gp_tape.gradient(pred, [interpolated])[0]\n",
        "        norm = tf.sqrt(tf.reduce_sum(tf.square(grads), axis=[1, 2, 3]))\n",
        "        gp = tf.reduce_mean((norm - 1.0) ** 2)\n",
        "        return gp\n",
        "\n",
        "    def train_step(self, real_images):\n",
        "        batch_size = tf.shape(real_images)[0]\n",
        "\n",
        "        for i in range(self.critic_steps):\n",
        "            chords_random_latent_vectors = tf.random.normal(\n",
        "                shape=(batch_size, self.latent_dim)\n",
        "            )\n",
        "            style_random_latent_vectors = tf.random.normal(\n",
        "                shape=(batch_size, self.latent_dim)\n",
        "            )\n",
        "            melody_random_latent_vectors = tf.random.normal(\n",
        "                shape=(batch_size, N_TRACKS, self.latent_dim)\n",
        "            )\n",
        "            groove_random_latent_vectors = tf.random.normal(\n",
        "                shape=(batch_size, N_TRACKS, self.latent_dim)\n",
        "            )\n",
        "\n",
        "            random_latent_vectors = [\n",
        "                chords_random_latent_vectors,\n",
        "                style_random_latent_vectors,\n",
        "                melody_random_latent_vectors,\n",
        "                groove_random_latent_vectors,\n",
        "            ]\n",
        "\n",
        "            with tf.GradientTape() as tape:\n",
        "                fake_images = self.generator(\n",
        "                    random_latent_vectors, training=True\n",
        "                )\n",
        "                fake_predictions = self.critic(fake_images, training=True)\n",
        "                real_predictions = self.critic(real_images, training=True)\n",
        "\n",
        "                c_wass_loss = tf.reduce_mean(fake_predictions) - tf.reduce_mean(\n",
        "                    real_predictions\n",
        "                )\n",
        "                c_gp = self.gradient_penalty(\n",
        "                    batch_size, real_images, fake_images\n",
        "                )\n",
        "                c_loss = c_wass_loss + c_gp * self.gp_weight\n",
        "\n",
        "            c_gradient = tape.gradient(c_loss, self.critic.trainable_variables)\n",
        "            self.c_optimizer.apply_gradients(\n",
        "                zip(c_gradient, self.critic.trainable_variables)\n",
        "            )\n",
        "\n",
        "        chords_random_latent_vectors = tf.random.normal(\n",
        "            shape=(batch_size, self.latent_dim)\n",
        "        )\n",
        "        style_random_latent_vectors = tf.random.normal(\n",
        "            shape=(batch_size, self.latent_dim)\n",
        "        )\n",
        "        melody_random_latent_vectors = tf.random.normal(\n",
        "            shape=(batch_size, N_TRACKS, self.latent_dim)\n",
        "        )\n",
        "        groove_random_latent_vectors = tf.random.normal(\n",
        "            shape=(batch_size, N_TRACKS, self.latent_dim)\n",
        "        )\n",
        "\n",
        "        random_latent_vectors = [\n",
        "            chords_random_latent_vectors,\n",
        "            style_random_latent_vectors,\n",
        "            melody_random_latent_vectors,\n",
        "            groove_random_latent_vectors,\n",
        "        ]\n",
        "\n",
        "        with tf.GradientTape() as tape:\n",
        "            fake_images = self.generator(random_latent_vectors, training=True)\n",
        "            fake_predictions = self.critic(fake_images, training=True)\n",
        "            g_loss = -tf.reduce_mean(fake_predictions)\n",
        "\n",
        "        gen_gradient = tape.gradient(g_loss, self.generator.trainable_variables)\n",
        "        self.g_optimizer.apply_gradients(\n",
        "            zip(gen_gradient, self.generator.trainable_variables)\n",
        "        )\n",
        "\n",
        "        self.c_loss_metric.update_state(c_loss)\n",
        "        self.c_wass_loss_metric.update_state(c_wass_loss)\n",
        "        self.c_gp_metric.update_state(c_gp)\n",
        "        self.g_loss_metric.update_state(g_loss)\n",
        "\n",
        "        return {m.name: m.result() for m in self.metrics}\n",
        "\n",
        "    def generate_piano_roll(self, num_scores):\n",
        "        chords_random_latent_vectors = tf.random.normal(\n",
        "            shape=(num_scores, Z_DIM)\n",
        "        )\n",
        "        style_random_latent_vectors = tf.random.normal(\n",
        "            shape=(num_scores, Z_DIM)\n",
        "        )\n",
        "        melody_random_latent_vectors = tf.random.normal(\n",
        "            shape=(num_scores, N_TRACKS, Z_DIM)\n",
        "        )\n",
        "        groove_random_latent_vectors = tf.random.normal(\n",
        "            shape=(num_scores, N_TRACKS, Z_DIM)\n",
        "        )\n",
        "        random_latent_vectors = [\n",
        "            chords_random_latent_vectors,\n",
        "            style_random_latent_vectors,\n",
        "            melody_random_latent_vectors,\n",
        "            groove_random_latent_vectors,\n",
        "        ]\n",
        "        generated_music = self.generator(random_latent_vectors)\n",
        "        generated_music = generated_music.numpy()\n",
        "        return generated_music"
      ],
      "metadata": {
        "id": "xXBpMr-8AuBG"
      },
      "execution_count": 55,
      "outputs": []
    },
    {
      "cell_type": "code",
      "source": [
        "# MuseGAN 만들기\n",
        "musegan = MuseGAN(\n",
        "    critic=critic,\n",
        "    generator=generator,\n",
        "    latent_dim=Z_DIM,\n",
        "    critic_steps=CRITIC_STEPS,\n",
        "    gp_weight=GP_WEIGHT,\n",
        ")"
      ],
      "metadata": {
        "id": "5_87mRc6Ayf_"
      },
      "execution_count": 56,
      "outputs": []
    },
    {
      "cell_type": "code",
      "source": [
        "if LOAD_MODEL:\n",
        "    musegan.load_weights(\"./checkpoint/checkpoint.ckpt\")"
      ],
      "metadata": {
        "id": "Z9UY7G-jA1Uy"
      },
      "execution_count": 57,
      "outputs": []
    },
    {
      "cell_type": "markdown",
      "source": [
        "- MuseGAN 훈련\n",
        "\n"
      ],
      "metadata": {
        "id": "nAqMs5wFA_Uq"
      }
    },
    {
      "cell_type": "code",
      "source": [
        "# GAN 컴파일\n",
        "musegan.compile(\n",
        "    c_optimizer=optimizers.Adam(\n",
        "        learning_rate=CRITIC_LEARNING_RATE,\n",
        "        beta_1=ADAM_BETA_1,\n",
        "        beta_2=ADAM_BETA_2,\n",
        "    ),\n",
        "    g_optimizer=optimizers.Adam(\n",
        "        learning_rate=GENERATOR_LEARNING_RATE,\n",
        "        beta_1=ADAM_BETA_1,\n",
        "        beta_2=ADAM_BETA_2,\n",
        "    ),\n",
        ")"
      ],
      "metadata": {
        "id": "Fa4p3Al7BFHS"
      },
      "execution_count": 58,
      "outputs": []
    },
    {
      "cell_type": "code",
      "source": [
        "# 모델 저장 체크포인트 만들기\n",
        "model_checkpoint_callback = callbacks.ModelCheckpoint(\n",
        "    filepath=\"./checkpoint/checkpoint.ckpt\",\n",
        "    save_weights_only=True,\n",
        "    save_freq=\"epoch\",\n",
        "    verbose=0,\n",
        ")\n",
        "\n",
        "tensorboard_callback = callbacks.TensorBoard(log_dir=\"./logs\")\n",
        "\n",
        "from IPython.display import Image\n",
        "\n",
        "class MusicGenerator(callbacks.Callback):\n",
        "    def __init__(self, num_scores):\n",
        "        self.num_scores = num_scores\n",
        "\n",
        "    def on_epoch_end(self, epoch, logs=None):\n",
        "        if epoch % 100 == 0:\n",
        "            generated_music = self.model.generate_piano_roll(self.num_scores)\n",
        "            notes_to_midi(\n",
        "                generated_music,\n",
        "                N_BARS,\n",
        "                N_TRACKS,\n",
        "                N_STEPS_PER_BAR,\n",
        "                filename=\"output_\" + str(epoch).zfill(4),\n",
        "            )\n",
        "            display(Image(str(draw_score(\"output_\" + str(epoch).zfill(4), 0).write('lily.png'))))\n",
        "            # draw_score(generated_music, 0)\n",
        "            # display(generated_images, save_to = \"./output/generated_img_%03d.png\" % (epoch), cmap = None)\n",
        "\n",
        "\n",
        "music_generator_callback = MusicGenerator(1)"
      ],
      "metadata": {
        "id": "MFKPPrhJBF56"
      },
      "execution_count": 59,
      "outputs": []
    },
    {
      "cell_type": "code",
      "source": [
        "history = musegan.fit(\n",
        "    data_binary,\n",
        "    epochs=EPOCHS,\n",
        "    callbacks=[\n",
        "        model_checkpoint_callback,\n",
        "        tensorboard_callback,\n",
        "        music_generator_callback,\n",
        "    ],\n",
        ")"
      ],
      "metadata": {
        "colab": {
          "base_uri": "https://localhost:8080/"
        },
        "id": "mEGRIPhKBKDa",
        "outputId": "60e1bfa3-c3d5-4637-8ab5-71d5ed6ffb16"
      },
      "execution_count": null,
      "outputs": [
        {
          "output_type": "stream",
          "name": "stdout",
          "text": [
            "Epoch 1/1000\n"
          ]
        }
      ]
    },
    {
      "cell_type": "code",
      "source": [],
      "metadata": {
        "id": "hqpeiW7gBN6m"
      },
      "execution_count": null,
      "outputs": []
    }
  ]
}