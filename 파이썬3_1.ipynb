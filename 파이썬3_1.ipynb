{
  "nbformat": 4,
  "nbformat_minor": 0,
  "metadata": {
    "colab": {
      "provenance": []
    },
    "kernelspec": {
      "name": "python3",
      "display_name": "Python 3"
    },
    "language_info": {
      "name": "python"
    }
  },
  "cells": [
    {
      "cell_type": "markdown",
      "source": [
        "리듀스\n",
        "  - 어떤 연산을 적용해서 여러값을 하나의 값으로 줄이는 함수\n",
        "  - 리스트 또는 배열같은 데이터 구조"
      ],
      "metadata": {
        "id": "XLroq-9ppylG"
      }
    },
    {
      "cell_type": "code",
      "source": [
        "from functools import reduce\n",
        "numbers = [1,2,3,4,5]\n",
        "total = 1\n",
        "for i in numbers:\n",
        "  total *= i\n",
        "\n",
        "print(total)"
      ],
      "metadata": {
        "colab": {
          "base_uri": "https://localhost:8080/"
        },
        "id": "suLv2LbEpzgi",
        "outputId": "51658578-71c9-4e4f-89f8-13eca0d1c41e"
      },
      "execution_count": 1,
      "outputs": [
        {
          "output_type": "stream",
          "name": "stdout",
          "text": [
            "120\n"
          ]
        }
      ]
    },
    {
      "cell_type": "code",
      "source": [
        "reduce(lambda x,y : x*y, numbers)"
      ],
      "metadata": {
        "colab": {
          "base_uri": "https://localhost:8080/"
        },
        "id": "IPhf0elyrhAv",
        "outputId": "69217439-89c6-46fd-fea8-c4bf1e18a686"
      },
      "execution_count": 2,
      "outputs": [
        {
          "output_type": "execute_result",
          "data": {
            "text/plain": [
              "120"
            ]
          },
          "metadata": {},
          "execution_count": 2
        }
      ]
    },
    {
      "cell_type": "markdown",
      "source": [
        "리듀스는 리스트컴프리핸션 처럼 if문을 사용할 수 있다"
      ],
      "metadata": {
        "id": "hoBQIKtksdRf"
      }
    },
    {
      "cell_type": "code",
      "source": [
        "# 주어진 리스트에서 최대값찾기\n",
        "from functools import reduce\n",
        "numbers = [10,5,8,7,9,25,15]\n",
        "print(max(numbers))\n",
        "\n",
        "reduce(lambda x,y: x if x>y else y, numbers)"
      ],
      "metadata": {
        "colab": {
          "base_uri": "https://localhost:8080/"
        },
        "id": "0p7RtirRrzWn",
        "outputId": "8b150264-a7cf-4899-bdf3-64f81588e2ef"
      },
      "execution_count": 4,
      "outputs": [
        {
          "output_type": "stream",
          "name": "stdout",
          "text": [
            "25\n"
          ]
        },
        {
          "output_type": "execute_result",
          "data": {
            "text/plain": [
              "25"
            ]
          },
          "metadata": {},
          "execution_count": 4
        }
      ]
    },
    {
      "cell_type": "code",
      "source": [
        "numbers = [1,2,3,4,5]\n",
        "[ i**2 if i%2==0 else i   for i in numbers ]"
      ],
      "metadata": {
        "colab": {
          "base_uri": "https://localhost:8080/"
        },
        "id": "27sGw1qetchF",
        "outputId": "458e540d-c676-43a2-988e-7966daaf5414"
      },
      "execution_count": 5,
      "outputs": [
        {
          "output_type": "execute_result",
          "data": {
            "text/plain": [
              "[1, 4, 3, 16, 5]"
            ]
          },
          "metadata": {},
          "execution_count": 5
        }
      ]
    },
    {
      "cell_type": "code",
      "source": [
        "# 문자열 리스트 결합\n",
        "from functools import reduce\n",
        "words = ['Hello',' ','World','!']\n",
        "# join\n",
        "result = ''.join(words)\n",
        "print(result)\n",
        "# reduce\n",
        "result = reduce(lambda x,y : x+y, words)\n",
        "print(result)"
      ],
      "metadata": {
        "colab": {
          "base_uri": "https://localhost:8080/"
        },
        "id": "tPpFK9lItqA2",
        "outputId": "3709d109-de33-4739-e429-fbac158bc12a"
      },
      "execution_count": 7,
      "outputs": [
        {
          "output_type": "stream",
          "name": "stdout",
          "text": [
            "Hello World!\n",
            "Hello World!\n"
          ]
        }
      ]
    },
    {
      "cell_type": "code",
      "source": [
        "# 리스트를 하나로 합 치기\n",
        "list_1 = [\n",
        "    [10,5],[5,3],[1,2],[3,4],[5,6]\n",
        "]\n",
        "# [10,5,5,3,1,2,3,4,5,6]\n",
        "result = reduce(lambda x,y: x + y, list_1)\n",
        "print(result)"
      ],
      "metadata": {
        "colab": {
          "base_uri": "https://localhost:8080/"
        },
        "id": "PFjynRi-uQwJ",
        "outputId": "503569c3-8945-4a08-f74e-eafb8061c3a3"
      },
      "execution_count": 9,
      "outputs": [
        {
          "output_type": "stream",
          "name": "stdout",
          "text": [
            "[10, 5, 5, 3, 1, 2, 3, 4, 5, 6]\n"
          ]
        }
      ]
    },
    {
      "cell_type": "code",
      "source": [
        "# 리스트의 모든 요소를 연결한후 중복을 제거\n",
        "words = ['apple','banana','orange','banana']\n",
        "# ['apple','banana','orange']\n",
        "reduce(lambda x,y : x + [y] if y not in x else x, words, [])"
      ],
      "metadata": {
        "colab": {
          "base_uri": "https://localhost:8080/"
        },
        "id": "h8gfn_Ftu2WI",
        "outputId": "3dc1896a-582a-4f92-fd04-39547a3f54b7"
      },
      "execution_count": 10,
      "outputs": [
        {
          "output_type": "execute_result",
          "data": {
            "text/plain": [
              "['apple', 'banana', 'orange']"
            ]
          },
          "metadata": {},
          "execution_count": 10
        }
      ]
    },
    {
      "cell_type": "code",
      "source": [
        "#     x                     y\n",
        "# 1 ['apple'] + ['banana'] --> ['apple','banana']\n",
        "# 2 ['apple'] + ['banana'] + ['orange'] ->['apple','banana','orange']\n"
      ],
      "metadata": {
        "id": "HjLyHWosv41s"
      },
      "execution_count": null,
      "outputs": []
    },
    {
      "cell_type": "code",
      "source": [
        "# 모든 리스트의 원소의 제곱의 합  2**2 + 3**2 + 4**2\n",
        "numbers = [2,3,4]    # [0,2,3,4]\n",
        "result = reduce(lambda x,y : x + y**2, numbers,0)  # ((0+2**2) + 3**2) + 4**2\n",
        "print(result)"
      ],
      "metadata": {
        "colab": {
          "base_uri": "https://localhost:8080/"
        },
        "id": "NEXaiFV9xC5r",
        "outputId": "9e181996-35e6-4747-b908-cb268fd1154f"
      },
      "execution_count": 11,
      "outputs": [
        {
          "output_type": "stream",
          "name": "stdout",
          "text": [
            "29\n"
          ]
        }
      ]
    },
    {
      "cell_type": "code",
      "source": [
        "# 리스트의 각 요소의 길이의 평균\n",
        "words = ['apple', 'banana', 'orange','melon']\n",
        "# reduce사용 안하고 구하기\n",
        "print( sum([ len(i) for i in words ]) / len(words) )\n",
        "# reduce  사용\n",
        "print( reduce( lambda x,y : x + y,  [ len(i) for i in words ] )  / len(words) )"
      ],
      "metadata": {
        "colab": {
          "base_uri": "https://localhost:8080/"
        },
        "id": "s1EPybPtxjN3",
        "outputId": "baefe42e-8911-46d2-eba3-cbbc05b77e3f"
      },
      "execution_count": 17,
      "outputs": [
        {
          "output_type": "stream",
          "name": "stdout",
          "text": [
            "5.5\n",
            "5.5\n"
          ]
        }
      ]
    },
    {
      "cell_type": "markdown",
      "source": [
        "별표의 사용\n",
        "  - asterisk\n",
        "  - 기본연산자로, 단순곱셈이나 제곱의 연산에 사용\n",
        "  - 특별한 경우 : 함수의 가변인수( * )나 키워드 가변인수(**)\n",
        "  - 패킹"
      ],
      "metadata": {
        "id": "8Jt0G_N10WyK"
      }
    },
    {
      "cell_type": "code",
      "source": [
        "# 가변인수\n",
        "def asterisk_test(a, *args) :\n",
        "  print(a, args)\n",
        "  print(type(args))"
      ],
      "metadata": {
        "id": "3to_jFatz_di"
      },
      "execution_count": 18,
      "outputs": []
    },
    {
      "cell_type": "code",
      "source": [
        "asterisk_test(1,2,3,4,5,6)"
      ],
      "metadata": {
        "colab": {
          "base_uri": "https://localhost:8080/"
        },
        "id": "zLre0EbX3nd3",
        "outputId": "9761da4d-00ad-4d31-e26a-0e5d46f561a2"
      },
      "execution_count": 19,
      "outputs": [
        {
          "output_type": "stream",
          "name": "stdout",
          "text": [
            "1 (2, 3, 4, 5, 6)\n",
            "<class 'tuple'>\n"
          ]
        }
      ]
    },
    {
      "cell_type": "code",
      "source": [
        "# 키워드 가변 인수  받을때 딕셔너리 형태로 이때 키 값은 문자열\n",
        "def asterisk_test(a, **args) :\n",
        "  print(a, args)\n",
        "  print(type(args))"
      ],
      "metadata": {
        "id": "-q_zG1D73qOJ"
      },
      "execution_count": 25,
      "outputs": []
    },
    {
      "cell_type": "code",
      "source": [
        "asterisk_test(1, n1=2, n2=3, n3=4, n4=5, n5=6)"
      ],
      "metadata": {
        "colab": {
          "base_uri": "https://localhost:8080/"
        },
        "id": "ifRzlFFQ4P7m",
        "outputId": "393d4815-4f6c-4b57-a37a-905c41a76348"
      },
      "execution_count": 27,
      "outputs": [
        {
          "output_type": "stream",
          "name": "stdout",
          "text": [
            "1 {'n1': 2, 'n2': 3, 'n3': 4, 'n4': 5, 'n5': 6}\n",
            "<class 'dict'>\n"
          ]
        }
      ]
    },
    {
      "cell_type": "markdown",
      "source": [
        "언패킹"
      ],
      "metadata": {
        "id": "OsITWDMl5jA8"
      }
    },
    {
      "cell_type": "code",
      "source": [
        "def asterisk_test(a, args) :\n",
        "  print(a, *args)\n",
        "  print(type(args))"
      ],
      "metadata": {
        "id": "Xjr8_BTC4Rhb"
      },
      "execution_count": 30,
      "outputs": []
    },
    {
      "cell_type": "code",
      "source": [
        "asterisk_test(1, (2,3,4,5) )"
      ],
      "metadata": {
        "colab": {
          "base_uri": "https://localhost:8080/"
        },
        "id": "Fp-xg9kw5rvA",
        "outputId": "37655959-758a-49c9-f4cb-3f182172a762"
      },
      "execution_count": 31,
      "outputs": [
        {
          "output_type": "stream",
          "name": "stdout",
          "text": [
            "1 2 3 4 5\n",
            "<class 'tuple'>\n"
          ]
        }
      ]
    },
    {
      "cell_type": "code",
      "source": [
        "# 언패킹\n",
        "def asterisk_test(a, **args) :\n",
        "  print(a, args)\n",
        "  print(type(args))\n",
        "\n",
        "args = (1,2,3)\n",
        "print(*args)\n",
        "\n",
        "# 패킹과 언패킹 응용\n",
        "# 함수는 패킹으로 데이터를 받고  **args\n",
        "# 전달할때는 딕셔너리형태를 언패킹해서 함수에 전달한다.\n",
        "args = {\n",
        "    'n1':1,'n2':2,'n3':3,'n4':4, 'n5':6\n",
        "}\n",
        "asterisk_test(1, **args)   # asterisk_test(1, n1=2, n2=3, n3=4, n4=5, n5=6)\n",
        "# 딕셔너리를 * 하나로 언패킹하면 키들의 집합을 나타낸다\n",
        "print(*args)"
      ],
      "metadata": {
        "colab": {
          "base_uri": "https://localhost:8080/"
        },
        "id": "xaWU7qHl5vm8",
        "outputId": "5224c2aa-1e62-4ca6-87d0-19684a0b463d"
      },
      "execution_count": 44,
      "outputs": [
        {
          "output_type": "stream",
          "name": "stdout",
          "text": [
            "1 2 3\n",
            "1 {'n1': 1, 'n2': 2, 'n3': 3, 'n4': 4, 'n5': 6}\n",
            "<class 'dict'>\n",
            "n1 n2 n3 n4 n5\n"
          ]
        }
      ]
    },
    {
      "cell_type": "code",
      "source": [
        "list(zip([1,2],[3,4], [5,6]))"
      ],
      "metadata": {
        "colab": {
          "base_uri": "https://localhost:8080/"
        },
        "id": "E7hbooRh7aSw",
        "outputId": "44d61447-28e6-420d-b40a-9d8b426ec345"
      },
      "execution_count": 49,
      "outputs": [
        {
          "output_type": "execute_result",
          "data": {
            "text/plain": [
              "[(1, 3, 5), (2, 4, 6)]"
            ]
          },
          "metadata": {},
          "execution_count": 49
        }
      ]
    },
    {
      "cell_type": "code",
      "source": [
        "list(zip(*[ [1,2],[3,4], [5,6] ]))"
      ],
      "metadata": {
        "colab": {
          "base_uri": "https://localhost:8080/"
        },
        "id": "B3Q9p9Kz9g6Z",
        "outputId": "4cfcded7-d69d-4c24-ca08-5c36385f4ff1"
      },
      "execution_count": 52,
      "outputs": [
        {
          "output_type": "execute_result",
          "data": {
            "text/plain": [
              "[(1, 3, 5), (2, 4, 6)]"
            ]
          },
          "metadata": {},
          "execution_count": 52
        }
      ]
    },
    {
      "cell_type": "code",
      "source": [
        "for data in zip(*[ [1,2],[3,4], [5,6] ]):\n",
        "  print(data)\n",
        "  print(type(data))"
      ],
      "metadata": {
        "colab": {
          "base_uri": "https://localhost:8080/"
        },
        "id": "Nn3iSz_R-A-4",
        "outputId": "dbf64113-7b51-4e07-cde4-83896285bf98"
      },
      "execution_count": 54,
      "outputs": [
        {
          "output_type": "stream",
          "name": "stdout",
          "text": [
            "(1, 3, 5)\n",
            "<class 'tuple'>\n",
            "(2, 4, 6)\n",
            "<class 'tuple'>\n"
          ]
        }
      ]
    },
    {
      "cell_type": "code",
      "source": [
        "def temp(a,name,age,height,weight,job):\n",
        "  print(a,name,age,height,weight,job)\n",
        "\n",
        "params = {\n",
        "    'name':1,\n",
        "    'age':2,\n",
        "    'height':3,\n",
        "    'weight':4,\n",
        "    'job':5\n",
        "}\n",
        "temp(10,**params)"
      ],
      "metadata": {
        "colab": {
          "base_uri": "https://localhost:8080/"
        },
        "id": "VFrHPMrj-Jtn",
        "outputId": "996fab26-de88-437e-c374-94a9141a58c2"
      },
      "execution_count": 57,
      "outputs": [
        {
          "output_type": "stream",
          "name": "stdout",
          "text": [
            "10 1 2 3 4 5\n"
          ]
        }
      ]
    },
    {
      "cell_type": "markdown",
      "source": [
        "패킹, 언패킹"
      ],
      "metadata": {
        "id": "-1Xc11nb_vPN"
      }
    },
    {
      "cell_type": "code",
      "source": [
        "#언패킹\n",
        "a,b,c = [1,2,3]\n",
        "print(a,b,c)"
      ],
      "metadata": {
        "colab": {
          "base_uri": "https://localhost:8080/"
        },
        "id": "futbiMGd_Awg",
        "outputId": "f6b12bbd-ea9d-4a4e-9deb-abb92f0c0cd4"
      },
      "execution_count": 58,
      "outputs": [
        {
          "output_type": "stream",
          "name": "stdout",
          "text": [
            "1 2 3\n"
          ]
        }
      ]
    },
    {
      "cell_type": "code",
      "source": [
        "numbers = [1,2,3,4,5]\n",
        "first, *rest = numbers\n",
        "print(first)\n",
        "print(rest)"
      ],
      "metadata": {
        "colab": {
          "base_uri": "https://localhost:8080/"
        },
        "id": "-udF8GLB_3up",
        "outputId": "c37abba5-c0d4-4e56-e224-69d276858778"
      },
      "execution_count": 59,
      "outputs": [
        {
          "output_type": "stream",
          "name": "stdout",
          "text": [
            "1\n",
            "[2, 3, 4, 5]\n"
          ]
        }
      ]
    },
    {
      "cell_type": "code",
      "source": [
        "# **\n",
        "info = {'name':'jhone', 'age':30,'city':'seoul'}\n",
        "def temp1(name,age,city):\n",
        "  print(name,age,city)\n",
        "\n",
        "def temp2(**kargs):\n",
        "  for key,value in kargs.items():\n",
        "    print(f\"key : {key}, value:{value}\")\n",
        "\n",
        "temp1(**info)\n",
        "temp2(**info)\n"
      ],
      "metadata": {
        "colab": {
          "base_uri": "https://localhost:8080/"
        },
        "id": "Csx0_k87ALfF",
        "outputId": "18eed150-9612-4739-c90a-470d613d663b"
      },
      "execution_count": 62,
      "outputs": [
        {
          "output_type": "stream",
          "name": "stdout",
          "text": [
            "jhone 30 seoul\n",
            "key : name, value:jhone\n",
            "key : age, value:30\n",
            "key : city, value:seoul\n"
          ]
        }
      ]
    },
    {
      "cell_type": "markdown",
      "source": [
        "벡터의 연산\n",
        "   - 각 위치끼리 더한다.\n",
        "   - [v1,v2...] + [v1,v2...] = [v1+v1,v2+v2...]"
      ],
      "metadata": {
        "id": "7ULEbSFDFBcj"
      }
    },
    {
      "cell_type": "code",
      "source": [
        "a = [2,2]\n",
        "b = [2,3]\n",
        "c = [3,5]\n",
        "#[7,10]\n",
        "# solution 1 for\n",
        "result = []\n",
        "for i in range(len(a)):\n",
        "  result.append(a[i]+b[i]+c[i])\n",
        "print(result)"
      ],
      "metadata": {
        "colab": {
          "base_uri": "https://localhost:8080/"
        },
        "id": "206gfDmKAY_C",
        "outputId": "4f4bd3d2-49c6-42f0-d0e0-6748de296b4f"
      },
      "execution_count": 63,
      "outputs": [
        {
          "output_type": "stream",
          "name": "stdout",
          "text": [
            "[7, 10]\n"
          ]
        }
      ]
    },
    {
      "cell_type": "code",
      "source": [
        "# solution 2\n",
        "# for문에 적용되는 명령어가 한개이면 리스트 컴프리핸션 적용 가능\n",
        "result = [ a[i]+b[i]+c[i] for i in range(len(a)) ]\n",
        "print(result)"
      ],
      "metadata": {
        "colab": {
          "base_uri": "https://localhost:8080/"
        },
        "id": "d2cJWMl6GJVs",
        "outputId": "e6678c71-6e09-4b08-e017-2c8a64a74477"
      },
      "execution_count": 64,
      "outputs": [
        {
          "output_type": "stream",
          "name": "stdout",
          "text": [
            "[7, 10]\n"
          ]
        }
      ]
    },
    {
      "cell_type": "code",
      "source": [
        "# solution 3\n",
        "[ sum(data) for data in zip(a,b,c) ]"
      ],
      "metadata": {
        "colab": {
          "base_uri": "https://localhost:8080/"
        },
        "id": "_lxBg6DiGb_T",
        "outputId": "ed081487-d344-4a23-dd72-0d532540ea25"
      },
      "execution_count": 67,
      "outputs": [
        {
          "output_type": "execute_result",
          "data": {
            "text/plain": [
              "[7, 10]"
            ]
          },
          "metadata": {},
          "execution_count": 67
        }
      ]
    },
    {
      "cell_type": "code",
      "source": [
        "print(*[ a,b, c ])"
      ],
      "metadata": {
        "colab": {
          "base_uri": "https://localhost:8080/"
        },
        "id": "odZgOyqOHk9C",
        "outputId": "92a5fe2d-36d3-4bd4-bbee-802ef88e04d1"
      },
      "execution_count": 68,
      "outputs": [
        {
          "output_type": "stream",
          "name": "stdout",
          "text": [
            "[2, 2] [2, 3] [3, 5]\n"
          ]
        }
      ]
    },
    {
      "cell_type": "code",
      "source": [
        "[ sum(data) for data in zip(*[ a,b, c ]) ]"
      ],
      "metadata": {
        "colab": {
          "base_uri": "https://localhost:8080/"
        },
        "id": "n7zTdXHuHtzQ",
        "outputId": "327f426e-65b6-429e-f9b7-fb1f0f352a68"
      },
      "execution_count": 69,
      "outputs": [
        {
          "output_type": "execute_result",
          "data": {
            "text/plain": [
              "[7, 10]"
            ]
          },
          "metadata": {},
          "execution_count": 69
        }
      ]
    },
    {
      "cell_type": "code",
      "source": [
        "a + b + c  # 리스트 형태끼리 더하는데 벡터 연산으로 취급하는 라이브러리  넘파이....."
      ],
      "metadata": {
        "colab": {
          "base_uri": "https://localhost:8080/"
        },
        "id": "tS95sgY4H6Qx",
        "outputId": "84e29577-fead-4e20-e02c-05a81e8aefbe"
      },
      "execution_count": 70,
      "outputs": [
        {
          "output_type": "execute_result",
          "data": {
            "text/plain": [
              "[2, 2, 2, 3, 3, 5]"
            ]
          },
          "metadata": {},
          "execution_count": 70
        }
      ]
    },
    {
      "cell_type": "markdown",
      "source": [
        "![image.png](data:image/png;base64,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)"
      ],
      "metadata": {
        "id": "9BvwFka9J71Z"
      }
    },
    {
      "cell_type": "code",
      "source": [
        "#벡터의 합과 스칼라의 곱\n",
        "# [1,2,3], [4,4,4]\n",
        "# [2,4,6] + [8,8,8] = [10,12,14]  분배법칙\n",
        "\n",
        "# 2(5,6,7) = [10,12,14]\n",
        "a = [1,2,3]  # 벡터\n",
        "b = [4,4,4]  # 벡터\n",
        "alpha = 2\n",
        "# 2(a+b)\n",
        "result = [2*sum(data) for data in zip(a,b) ]\n",
        "result\n"
      ],
      "metadata": {
        "colab": {
          "base_uri": "https://localhost:8080/"
        },
        "id": "_tLnGNDgIDLV",
        "outputId": "5d112e00-19b6-4942-c828-2a425acccce0"
      },
      "execution_count": 74,
      "outputs": [
        {
          "output_type": "execute_result",
          "data": {
            "text/plain": [
              "[10, 12, 14]"
            ]
          },
          "metadata": {},
          "execution_count": 74
        }
      ]
    },
    {
      "cell_type": "markdown",
      "source": [
        "행렬의 연산\n",
        "  - 벡터 연산처럼 각 위치별로 연산\n",
        "  - 파이썬 이차원 리스트로 표현"
      ],
      "metadata": {
        "id": "0VwuTCKJNo6N"
      }
    },
    {
      "cell_type": "code",
      "source": [
        "ma = [[3,6],[4,5]]\n",
        "mb = [[5,8],[6,7]]\n",
        "#[ [8,14], [10,12] ]\n",
        "# 베이직 솔류션  이중 for문을 이용해서 인덱스를 이용해서 각각의 위치에 해당하는 값을 더한다.\n",
        "# ma[0][0] --> 3"
      ],
      "metadata": {
        "colab": {
          "base_uri": "https://localhost:8080/"
        },
        "id": "I0SXOiAzLsTM",
        "outputId": "6259e2f5-dad6-4aa0-92eb-86e9772b29ef"
      },
      "execution_count": 75,
      "outputs": [
        {
          "output_type": "execute_result",
          "data": {
            "text/plain": [
              "3"
            ]
          },
          "metadata": {},
          "execution_count": 75
        }
      ]
    },
    {
      "cell_type": "code",
      "source": [],
      "metadata": {
        "id": "Dehu2BBFOAK9"
      },
      "execution_count": null,
      "outputs": []
    }
  ]
}