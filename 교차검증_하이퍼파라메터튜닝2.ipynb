{
  "cells": [
    {
      "cell_type": "markdown",
      "metadata": {
        "id": "xWHNdXRgbAcA"
      },
      "source": [
        "*   분류 : 로지스틱회귀\n",
        "*   회귀 : 선형회귀(다항회귀 변경 - poly 추가)\n",
        "*   교차검증, 폴드를 따로 지정해서 적용\n",
        "*   그리드서치, 랜덤서치\n",
        "\n"
      ]
    },
    {
      "cell_type": "markdown",
      "metadata": {
        "id": "2NBMAU7EcvOf"
      },
      "source": [
        "데이콘 문제 풀기"
      ]
    },
    {
      "cell_type": "code",
      "execution_count": 4,
      "metadata": {
        "colab": {
          "base_uri": "https://localhost:8080/"
        },
        "id": "5z_naz6lbIW_",
        "outputId": "5e0e94dd-4c6b-4bfa-b770-6baf01f95de8"
      },
      "outputs": [
        {
          "output_type": "stream",
          "name": "stdout",
          "text": [
            "Archive:  /content/웹로그기반조회수예측.zip\n",
            "   creating: open/\n",
            "  inflating: open/sample_submission.csv  \n",
            "  inflating: open/test.csv           \n",
            "  inflating: open/train.csv          \n"
          ]
        }
      ],
      "source": [
        "!unzip '/content/웹로그기반조회수예측.zip'"
      ]
    },
    {
      "cell_type": "code",
      "execution_count": 5,
      "metadata": {
        "id": "_bZw_61DdMfS"
      },
      "outputs": [],
      "source": [
        "import pandas as pd"
      ]
    },
    {
      "cell_type": "code",
      "execution_count": 6,
      "metadata": {
        "colab": {
          "base_uri": "https://localhost:8080/",
          "height": 118
        },
        "id": "qxCKKZnXgEzp",
        "outputId": "b905f13d-9a9d-4118-9e00-8015199c3b27"
      },
      "outputs": [
        {
          "output_type": "execute_result",
          "data": {
            "text/plain": [
              "        sessionID       userID  TARGET browser         OS   device  new  \\\n",
              "0  SESSION_000000  USER_000000    17.0  Chrome  Macintosh  desktop    0   \n",
              "\n",
              "   quality  duration  bounced  transaction  transaction_revenue continent  \\\n",
              "0     45.0     839.0        0          0.0                  0.0  Americas   \n",
              "\n",
              "       subcontinent        country traffic_source traffic_medium    keyword  \\\n",
              "0  Northern America  United States         google        organic  Category8   \n",
              "\n",
              "  referral_path  \n",
              "0           NaN  "
            ],
            "text/html": [
              "\n",
              "  <div id=\"df-30f9cc30-5d7a-4e76-ad2f-484cf58825ac\" class=\"colab-df-container\">\n",
              "    <div>\n",
              "<style scoped>\n",
              "    .dataframe tbody tr th:only-of-type {\n",
              "        vertical-align: middle;\n",
              "    }\n",
              "\n",
              "    .dataframe tbody tr th {\n",
              "        vertical-align: top;\n",
              "    }\n",
              "\n",
              "    .dataframe thead th {\n",
              "        text-align: right;\n",
              "    }\n",
              "</style>\n",
              "<table border=\"1\" class=\"dataframe\">\n",
              "  <thead>\n",
              "    <tr style=\"text-align: right;\">\n",
              "      <th></th>\n",
              "      <th>sessionID</th>\n",
              "      <th>userID</th>\n",
              "      <th>TARGET</th>\n",
              "      <th>browser</th>\n",
              "      <th>OS</th>\n",
              "      <th>device</th>\n",
              "      <th>new</th>\n",
              "      <th>quality</th>\n",
              "      <th>duration</th>\n",
              "      <th>bounced</th>\n",
              "      <th>transaction</th>\n",
              "      <th>transaction_revenue</th>\n",
              "      <th>continent</th>\n",
              "      <th>subcontinent</th>\n",
              "      <th>country</th>\n",
              "      <th>traffic_source</th>\n",
              "      <th>traffic_medium</th>\n",
              "      <th>keyword</th>\n",
              "      <th>referral_path</th>\n",
              "    </tr>\n",
              "  </thead>\n",
              "  <tbody>\n",
              "    <tr>\n",
              "      <th>0</th>\n",
              "      <td>SESSION_000000</td>\n",
              "      <td>USER_000000</td>\n",
              "      <td>17.0</td>\n",
              "      <td>Chrome</td>\n",
              "      <td>Macintosh</td>\n",
              "      <td>desktop</td>\n",
              "      <td>0</td>\n",
              "      <td>45.0</td>\n",
              "      <td>839.0</td>\n",
              "      <td>0</td>\n",
              "      <td>0.0</td>\n",
              "      <td>0.0</td>\n",
              "      <td>Americas</td>\n",
              "      <td>Northern America</td>\n",
              "      <td>United States</td>\n",
              "      <td>google</td>\n",
              "      <td>organic</td>\n",
              "      <td>Category8</td>\n",
              "      <td>NaN</td>\n",
              "    </tr>\n",
              "  </tbody>\n",
              "</table>\n",
              "</div>\n",
              "    <div class=\"colab-df-buttons\">\n",
              "\n",
              "  <div class=\"colab-df-container\">\n",
              "    <button class=\"colab-df-convert\" onclick=\"convertToInteractive('df-30f9cc30-5d7a-4e76-ad2f-484cf58825ac')\"\n",
              "            title=\"Convert this dataframe to an interactive table.\"\n",
              "            style=\"display:none;\">\n",
              "\n",
              "  <svg xmlns=\"http://www.w3.org/2000/svg\" height=\"24px\" viewBox=\"0 -960 960 960\">\n",
              "    <path d=\"M120-120v-720h720v720H120Zm60-500h600v-160H180v160Zm220 220h160v-160H400v160Zm0 220h160v-160H400v160ZM180-400h160v-160H180v160Zm440 0h160v-160H620v160ZM180-180h160v-160H180v160Zm440 0h160v-160H620v160Z\"/>\n",
              "  </svg>\n",
              "    </button>\n",
              "\n",
              "  <style>\n",
              "    .colab-df-container {\n",
              "      display:flex;\n",
              "      gap: 12px;\n",
              "    }\n",
              "\n",
              "    .colab-df-convert {\n",
              "      background-color: #E8F0FE;\n",
              "      border: none;\n",
              "      border-radius: 50%;\n",
              "      cursor: pointer;\n",
              "      display: none;\n",
              "      fill: #1967D2;\n",
              "      height: 32px;\n",
              "      padding: 0 0 0 0;\n",
              "      width: 32px;\n",
              "    }\n",
              "\n",
              "    .colab-df-convert:hover {\n",
              "      background-color: #E2EBFA;\n",
              "      box-shadow: 0px 1px 2px rgba(60, 64, 67, 0.3), 0px 1px 3px 1px rgba(60, 64, 67, 0.15);\n",
              "      fill: #174EA6;\n",
              "    }\n",
              "\n",
              "    .colab-df-buttons div {\n",
              "      margin-bottom: 4px;\n",
              "    }\n",
              "\n",
              "    [theme=dark] .colab-df-convert {\n",
              "      background-color: #3B4455;\n",
              "      fill: #D2E3FC;\n",
              "    }\n",
              "\n",
              "    [theme=dark] .colab-df-convert:hover {\n",
              "      background-color: #434B5C;\n",
              "      box-shadow: 0px 1px 3px 1px rgba(0, 0, 0, 0.15);\n",
              "      filter: drop-shadow(0px 1px 2px rgba(0, 0, 0, 0.3));\n",
              "      fill: #FFFFFF;\n",
              "    }\n",
              "  </style>\n",
              "\n",
              "    <script>\n",
              "      const buttonEl =\n",
              "        document.querySelector('#df-30f9cc30-5d7a-4e76-ad2f-484cf58825ac button.colab-df-convert');\n",
              "      buttonEl.style.display =\n",
              "        google.colab.kernel.accessAllowed ? 'block' : 'none';\n",
              "\n",
              "      async function convertToInteractive(key) {\n",
              "        const element = document.querySelector('#df-30f9cc30-5d7a-4e76-ad2f-484cf58825ac');\n",
              "        const dataTable =\n",
              "          await google.colab.kernel.invokeFunction('convertToInteractive',\n",
              "                                                    [key], {});\n",
              "        if (!dataTable) return;\n",
              "\n",
              "        const docLinkHtml = 'Like what you see? Visit the ' +\n",
              "          '<a target=\"_blank\" href=https://colab.research.google.com/notebooks/data_table.ipynb>data table notebook</a>'\n",
              "          + ' to learn more about interactive tables.';\n",
              "        element.innerHTML = '';\n",
              "        dataTable['output_type'] = 'display_data';\n",
              "        await google.colab.output.renderOutput(dataTable, element);\n",
              "        const docLink = document.createElement('div');\n",
              "        docLink.innerHTML = docLinkHtml;\n",
              "        element.appendChild(docLink);\n",
              "      }\n",
              "    </script>\n",
              "  </div>\n",
              "\n",
              "\n",
              "    </div>\n",
              "  </div>\n"
            ],
            "application/vnd.google.colaboratory.intrinsic+json": {
              "type": "dataframe",
              "variable_name": "df"
            }
          },
          "metadata": {},
          "execution_count": 6
        }
      ],
      "source": [
        "df = pd.read_csv('/content/open/train.csv')\n",
        "df.head(1)"
      ]
    },
    {
      "cell_type": "code",
      "execution_count": 7,
      "metadata": {
        "colab": {
          "base_uri": "https://localhost:8080/",
          "height": 118
        },
        "id": "XDhKUvixgI5z",
        "outputId": "dc37de81-63d1-4347-cec1-d7f52c9a1489"
      },
      "outputs": [
        {
          "output_type": "execute_result",
          "data": {
            "text/plain": [
              "  browser         OS   device  new  quality  duration  bounced  transaction  \\\n",
              "0  Chrome  Macintosh  desktop    0     45.0     839.0        0          0.0   \n",
              "\n",
              "   transaction_revenue continent      subcontinent        country  \\\n",
              "0                  0.0  Americas  Northern America  United States   \n",
              "\n",
              "  traffic_source traffic_medium    keyword referral_path  \n",
              "0         google        organic  Category8           NaN  "
            ],
            "text/html": [
              "\n",
              "  <div id=\"df-e0a9d389-a5ec-4a17-ac92-259d91aeb3de\" class=\"colab-df-container\">\n",
              "    <div>\n",
              "<style scoped>\n",
              "    .dataframe tbody tr th:only-of-type {\n",
              "        vertical-align: middle;\n",
              "    }\n",
              "\n",
              "    .dataframe tbody tr th {\n",
              "        vertical-align: top;\n",
              "    }\n",
              "\n",
              "    .dataframe thead th {\n",
              "        text-align: right;\n",
              "    }\n",
              "</style>\n",
              "<table border=\"1\" class=\"dataframe\">\n",
              "  <thead>\n",
              "    <tr style=\"text-align: right;\">\n",
              "      <th></th>\n",
              "      <th>browser</th>\n",
              "      <th>OS</th>\n",
              "      <th>device</th>\n",
              "      <th>new</th>\n",
              "      <th>quality</th>\n",
              "      <th>duration</th>\n",
              "      <th>bounced</th>\n",
              "      <th>transaction</th>\n",
              "      <th>transaction_revenue</th>\n",
              "      <th>continent</th>\n",
              "      <th>subcontinent</th>\n",
              "      <th>country</th>\n",
              "      <th>traffic_source</th>\n",
              "      <th>traffic_medium</th>\n",
              "      <th>keyword</th>\n",
              "      <th>referral_path</th>\n",
              "    </tr>\n",
              "  </thead>\n",
              "  <tbody>\n",
              "    <tr>\n",
              "      <th>0</th>\n",
              "      <td>Chrome</td>\n",
              "      <td>Macintosh</td>\n",
              "      <td>desktop</td>\n",
              "      <td>0</td>\n",
              "      <td>45.0</td>\n",
              "      <td>839.0</td>\n",
              "      <td>0</td>\n",
              "      <td>0.0</td>\n",
              "      <td>0.0</td>\n",
              "      <td>Americas</td>\n",
              "      <td>Northern America</td>\n",
              "      <td>United States</td>\n",
              "      <td>google</td>\n",
              "      <td>organic</td>\n",
              "      <td>Category8</td>\n",
              "      <td>NaN</td>\n",
              "    </tr>\n",
              "  </tbody>\n",
              "</table>\n",
              "</div>\n",
              "    <div class=\"colab-df-buttons\">\n",
              "\n",
              "  <div class=\"colab-df-container\">\n",
              "    <button class=\"colab-df-convert\" onclick=\"convertToInteractive('df-e0a9d389-a5ec-4a17-ac92-259d91aeb3de')\"\n",
              "            title=\"Convert this dataframe to an interactive table.\"\n",
              "            style=\"display:none;\">\n",
              "\n",
              "  <svg xmlns=\"http://www.w3.org/2000/svg\" height=\"24px\" viewBox=\"0 -960 960 960\">\n",
              "    <path d=\"M120-120v-720h720v720H120Zm60-500h600v-160H180v160Zm220 220h160v-160H400v160Zm0 220h160v-160H400v160ZM180-400h160v-160H180v160Zm440 0h160v-160H620v160ZM180-180h160v-160H180v160Zm440 0h160v-160H620v160Z\"/>\n",
              "  </svg>\n",
              "    </button>\n",
              "\n",
              "  <style>\n",
              "    .colab-df-container {\n",
              "      display:flex;\n",
              "      gap: 12px;\n",
              "    }\n",
              "\n",
              "    .colab-df-convert {\n",
              "      background-color: #E8F0FE;\n",
              "      border: none;\n",
              "      border-radius: 50%;\n",
              "      cursor: pointer;\n",
              "      display: none;\n",
              "      fill: #1967D2;\n",
              "      height: 32px;\n",
              "      padding: 0 0 0 0;\n",
              "      width: 32px;\n",
              "    }\n",
              "\n",
              "    .colab-df-convert:hover {\n",
              "      background-color: #E2EBFA;\n",
              "      box-shadow: 0px 1px 2px rgba(60, 64, 67, 0.3), 0px 1px 3px 1px rgba(60, 64, 67, 0.15);\n",
              "      fill: #174EA6;\n",
              "    }\n",
              "\n",
              "    .colab-df-buttons div {\n",
              "      margin-bottom: 4px;\n",
              "    }\n",
              "\n",
              "    [theme=dark] .colab-df-convert {\n",
              "      background-color: #3B4455;\n",
              "      fill: #D2E3FC;\n",
              "    }\n",
              "\n",
              "    [theme=dark] .colab-df-convert:hover {\n",
              "      background-color: #434B5C;\n",
              "      box-shadow: 0px 1px 3px 1px rgba(0, 0, 0, 0.15);\n",
              "      filter: drop-shadow(0px 1px 2px rgba(0, 0, 0, 0.3));\n",
              "      fill: #FFFFFF;\n",
              "    }\n",
              "  </style>\n",
              "\n",
              "    <script>\n",
              "      const buttonEl =\n",
              "        document.querySelector('#df-e0a9d389-a5ec-4a17-ac92-259d91aeb3de button.colab-df-convert');\n",
              "      buttonEl.style.display =\n",
              "        google.colab.kernel.accessAllowed ? 'block' : 'none';\n",
              "\n",
              "      async function convertToInteractive(key) {\n",
              "        const element = document.querySelector('#df-e0a9d389-a5ec-4a17-ac92-259d91aeb3de');\n",
              "        const dataTable =\n",
              "          await google.colab.kernel.invokeFunction('convertToInteractive',\n",
              "                                                    [key], {});\n",
              "        if (!dataTable) return;\n",
              "\n",
              "        const docLinkHtml = 'Like what you see? Visit the ' +\n",
              "          '<a target=\"_blank\" href=https://colab.research.google.com/notebooks/data_table.ipynb>data table notebook</a>'\n",
              "          + ' to learn more about interactive tables.';\n",
              "        element.innerHTML = '';\n",
              "        dataTable['output_type'] = 'display_data';\n",
              "        await google.colab.output.renderOutput(dataTable, element);\n",
              "        const docLink = document.createElement('div');\n",
              "        docLink.innerHTML = docLinkHtml;\n",
              "        element.appendChild(docLink);\n",
              "      }\n",
              "    </script>\n",
              "  </div>\n",
              "\n",
              "\n",
              "    </div>\n",
              "  </div>\n"
            ],
            "application/vnd.google.colaboratory.intrinsic+json": {
              "type": "dataframe",
              "variable_name": "X"
            }
          },
          "metadata": {},
          "execution_count": 7
        }
      ],
      "source": [
        "X = df.loc[:,'browser':]\n",
        "y = df['TARGET']\n",
        "X.head(1)"
      ]
    },
    {
      "cell_type": "code",
      "execution_count": 8,
      "metadata": {
        "colab": {
          "base_uri": "https://localhost:8080/",
          "height": 118
        },
        "id": "bso7x_fzyCfs",
        "outputId": "bd186396-d7b2-476a-8bdf-972955abfdb7"
      },
      "outputs": [
        {
          "output_type": "execute_result",
          "data": {
            "text/plain": [
              "  browser     OS   device  new  quality  duration  bounced  transaction  \\\n",
              "0  Chrome  Linux  desktop    1     75.0     698.0        0          0.0   \n",
              "\n",
              "   transaction_revenue continent      subcontinent        country  \\\n",
              "0                  0.0  Americas  Northern America  United States   \n",
              "\n",
              "  traffic_source traffic_medium keyword referral_path  \n",
              "0       (direct)         (none)     NaN     Category1  "
            ],
            "text/html": [
              "\n",
              "  <div id=\"df-021fbfb1-587e-48c4-9759-45bd54d31ad5\" class=\"colab-df-container\">\n",
              "    <div>\n",
              "<style scoped>\n",
              "    .dataframe tbody tr th:only-of-type {\n",
              "        vertical-align: middle;\n",
              "    }\n",
              "\n",
              "    .dataframe tbody tr th {\n",
              "        vertical-align: top;\n",
              "    }\n",
              "\n",
              "    .dataframe thead th {\n",
              "        text-align: right;\n",
              "    }\n",
              "</style>\n",
              "<table border=\"1\" class=\"dataframe\">\n",
              "  <thead>\n",
              "    <tr style=\"text-align: right;\">\n",
              "      <th></th>\n",
              "      <th>browser</th>\n",
              "      <th>OS</th>\n",
              "      <th>device</th>\n",
              "      <th>new</th>\n",
              "      <th>quality</th>\n",
              "      <th>duration</th>\n",
              "      <th>bounced</th>\n",
              "      <th>transaction</th>\n",
              "      <th>transaction_revenue</th>\n",
              "      <th>continent</th>\n",
              "      <th>subcontinent</th>\n",
              "      <th>country</th>\n",
              "      <th>traffic_source</th>\n",
              "      <th>traffic_medium</th>\n",
              "      <th>keyword</th>\n",
              "      <th>referral_path</th>\n",
              "    </tr>\n",
              "  </thead>\n",
              "  <tbody>\n",
              "    <tr>\n",
              "      <th>0</th>\n",
              "      <td>Chrome</td>\n",
              "      <td>Linux</td>\n",
              "      <td>desktop</td>\n",
              "      <td>1</td>\n",
              "      <td>75.0</td>\n",
              "      <td>698.0</td>\n",
              "      <td>0</td>\n",
              "      <td>0.0</td>\n",
              "      <td>0.0</td>\n",
              "      <td>Americas</td>\n",
              "      <td>Northern America</td>\n",
              "      <td>United States</td>\n",
              "      <td>(direct)</td>\n",
              "      <td>(none)</td>\n",
              "      <td>NaN</td>\n",
              "      <td>Category1</td>\n",
              "    </tr>\n",
              "  </tbody>\n",
              "</table>\n",
              "</div>\n",
              "    <div class=\"colab-df-buttons\">\n",
              "\n",
              "  <div class=\"colab-df-container\">\n",
              "    <button class=\"colab-df-convert\" onclick=\"convertToInteractive('df-021fbfb1-587e-48c4-9759-45bd54d31ad5')\"\n",
              "            title=\"Convert this dataframe to an interactive table.\"\n",
              "            style=\"display:none;\">\n",
              "\n",
              "  <svg xmlns=\"http://www.w3.org/2000/svg\" height=\"24px\" viewBox=\"0 -960 960 960\">\n",
              "    <path d=\"M120-120v-720h720v720H120Zm60-500h600v-160H180v160Zm220 220h160v-160H400v160Zm0 220h160v-160H400v160ZM180-400h160v-160H180v160Zm440 0h160v-160H620v160ZM180-180h160v-160H180v160Zm440 0h160v-160H620v160Z\"/>\n",
              "  </svg>\n",
              "    </button>\n",
              "\n",
              "  <style>\n",
              "    .colab-df-container {\n",
              "      display:flex;\n",
              "      gap: 12px;\n",
              "    }\n",
              "\n",
              "    .colab-df-convert {\n",
              "      background-color: #E8F0FE;\n",
              "      border: none;\n",
              "      border-radius: 50%;\n",
              "      cursor: pointer;\n",
              "      display: none;\n",
              "      fill: #1967D2;\n",
              "      height: 32px;\n",
              "      padding: 0 0 0 0;\n",
              "      width: 32px;\n",
              "    }\n",
              "\n",
              "    .colab-df-convert:hover {\n",
              "      background-color: #E2EBFA;\n",
              "      box-shadow: 0px 1px 2px rgba(60, 64, 67, 0.3), 0px 1px 3px 1px rgba(60, 64, 67, 0.15);\n",
              "      fill: #174EA6;\n",
              "    }\n",
              "\n",
              "    .colab-df-buttons div {\n",
              "      margin-bottom: 4px;\n",
              "    }\n",
              "\n",
              "    [theme=dark] .colab-df-convert {\n",
              "      background-color: #3B4455;\n",
              "      fill: #D2E3FC;\n",
              "    }\n",
              "\n",
              "    [theme=dark] .colab-df-convert:hover {\n",
              "      background-color: #434B5C;\n",
              "      box-shadow: 0px 1px 3px 1px rgba(0, 0, 0, 0.15);\n",
              "      filter: drop-shadow(0px 1px 2px rgba(0, 0, 0, 0.3));\n",
              "      fill: #FFFFFF;\n",
              "    }\n",
              "  </style>\n",
              "\n",
              "    <script>\n",
              "      const buttonEl =\n",
              "        document.querySelector('#df-021fbfb1-587e-48c4-9759-45bd54d31ad5 button.colab-df-convert');\n",
              "      buttonEl.style.display =\n",
              "        google.colab.kernel.accessAllowed ? 'block' : 'none';\n",
              "\n",
              "      async function convertToInteractive(key) {\n",
              "        const element = document.querySelector('#df-021fbfb1-587e-48c4-9759-45bd54d31ad5');\n",
              "        const dataTable =\n",
              "          await google.colab.kernel.invokeFunction('convertToInteractive',\n",
              "                                                    [key], {});\n",
              "        if (!dataTable) return;\n",
              "\n",
              "        const docLinkHtml = 'Like what you see? Visit the ' +\n",
              "          '<a target=\"_blank\" href=https://colab.research.google.com/notebooks/data_table.ipynb>data table notebook</a>'\n",
              "          + ' to learn more about interactive tables.';\n",
              "        element.innerHTML = '';\n",
              "        dataTable['output_type'] = 'display_data';\n",
              "        await google.colab.output.renderOutput(dataTable, element);\n",
              "        const docLink = document.createElement('div');\n",
              "        docLink.innerHTML = docLinkHtml;\n",
              "        element.appendChild(docLink);\n",
              "      }\n",
              "    </script>\n",
              "  </div>\n",
              "\n",
              "\n",
              "    </div>\n",
              "  </div>\n"
            ],
            "application/vnd.google.colaboratory.intrinsic+json": {
              "type": "dataframe",
              "variable_name": "test_df",
              "summary": "{\n  \"name\": \"test_df\",\n  \"rows\": 79786,\n  \"fields\": [\n    {\n      \"column\": \"browser\",\n      \"properties\": {\n        \"dtype\": \"category\",\n        \"samples\": [\n          \"ejpxuidzlmagvthsfbqnkwyocr\",\n          \"+Simple Browser\",\n          \"SeaMonkey\"\n        ],\n        \"num_unique_values\": 45,\n        \"semantic_type\": \"\",\n        \"description\": \"\"\n      }\n    },\n    {\n      \"column\": \"OS\",\n      \"properties\": {\n        \"dtype\": \"category\",\n        \"samples\": [\n          \"Linux\",\n          \"iOS\",\n          \"Macintosh\"\n        ],\n        \"num_unique_values\": 16,\n        \"semantic_type\": \"\",\n        \"description\": \"\"\n      }\n    },\n    {\n      \"column\": \"device\",\n      \"properties\": {\n        \"dtype\": \"category\",\n        \"samples\": [\n          \"desktop\",\n          \"tablet\",\n          \"mobile\"\n        ],\n        \"num_unique_values\": 3,\n        \"semantic_type\": \"\",\n        \"description\": \"\"\n      }\n    },\n    {\n      \"column\": \"new\",\n      \"properties\": {\n        \"dtype\": \"number\",\n        \"std\": 0,\n        \"min\": 0,\n        \"max\": 1,\n        \"samples\": [\n          0,\n          1\n        ],\n        \"num_unique_values\": 2,\n        \"semantic_type\": \"\",\n        \"description\": \"\"\n      }\n    },\n    {\n      \"column\": \"quality\",\n      \"properties\": {\n        \"dtype\": \"number\",\n        \"std\": 11.349191607105483,\n        \"min\": 1.0,\n        \"max\": 98.0,\n        \"samples\": [\n          62.0,\n          36.0\n        ],\n        \"num_unique_values\": 98,\n        \"semantic_type\": \"\",\n        \"description\": \"\"\n      }\n    },\n    {\n      \"column\": \"duration\",\n      \"properties\": {\n        \"dtype\": \"number\",\n        \"std\": 349.1687914101353,\n        \"min\": 0.0,\n        \"max\": 9316.0,\n        \"samples\": [\n          200.0,\n          963.0\n        ],\n        \"num_unique_values\": 2272,\n        \"semantic_type\": \"\",\n        \"description\": \"\"\n      }\n    },\n    {\n      \"column\": \"bounced\",\n      \"properties\": {\n        \"dtype\": \"number\",\n        \"std\": 0,\n        \"min\": 0,\n        \"max\": 1,\n        \"samples\": [\n          1,\n          0\n        ],\n        \"num_unique_values\": 2,\n        \"semantic_type\": \"\",\n        \"description\": \"\"\n      }\n    },\n    {\n      \"column\": \"transaction\",\n      \"properties\": {\n        \"dtype\": \"number\",\n        \"std\": 0.09526021320241533,\n        \"min\": 0.0,\n        \"max\": 7.0,\n        \"samples\": [\n          0.0,\n          1.0\n        ],\n        \"num_unique_values\": 6,\n        \"semantic_type\": \"\",\n        \"description\": \"\"\n      }\n    },\n    {\n      \"column\": \"transaction_revenue\",\n      \"properties\": {\n        \"dtype\": \"number\",\n        \"std\": 27140066.237750012,\n        \"min\": 0.0,\n        \"max\": 4609835200.0,\n        \"samples\": [\n          9241760.0,\n          37042560.0\n        ],\n        \"num_unique_values\": 455,\n        \"semantic_type\": \"\",\n        \"description\": \"\"\n      }\n    },\n    {\n      \"column\": \"continent\",\n      \"properties\": {\n        \"dtype\": \"category\",\n        \"samples\": [\n          \"Americas\",\n          \"Asia\"\n        ],\n        \"num_unique_values\": 6,\n        \"semantic_type\": \"\",\n        \"description\": \"\"\n      }\n    },\n    {\n      \"column\": \"subcontinent\",\n      \"properties\": {\n        \"dtype\": \"category\",\n        \"samples\": [\n          \"Caribbean\",\n          \"Eastern Asia\"\n        ],\n        \"num_unique_values\": 23,\n        \"semantic_type\": \"\",\n        \"description\": \"\"\n      }\n    },\n    {\n      \"column\": \"country\",\n      \"properties\": {\n        \"dtype\": \"category\",\n        \"samples\": [\n          \"Sri Lanka\",\n          \"Armenia\"\n        ],\n        \"num_unique_values\": 192,\n        \"semantic_type\": \"\",\n        \"description\": \"\"\n      }\n    },\n    {\n      \"column\": \"traffic_source\",\n      \"properties\": {\n        \"dtype\": \"category\",\n        \"samples\": [\n          \"uk.search.yahoo.com\",\n          \"es.search.yahoo.com\"\n        ],\n        \"num_unique_values\": 97,\n        \"semantic_type\": \"\",\n        \"description\": \"\"\n      }\n    },\n    {\n      \"column\": \"traffic_medium\",\n      \"properties\": {\n        \"dtype\": \"category\",\n        \"samples\": [\n          \"(none)\",\n          \"organic\"\n        ],\n        \"num_unique_values\": 7,\n        \"semantic_type\": \"\",\n        \"description\": \"\"\n      }\n    },\n    {\n      \"column\": \"keyword\",\n      \"properties\": {\n        \"dtype\": \"category\",\n        \"samples\": [\n          \"Category4_Keyword_629\",\n          \"Category4_Keyword_448\"\n        ],\n        \"num_unique_values\": 211,\n        \"semantic_type\": \"\",\n        \"description\": \"\"\n      }\n    },\n    {\n      \"column\": \"referral_path\",\n      \"properties\": {\n        \"dtype\": \"category\",\n        \"samples\": [\n          \"Category6_Path_1651\",\n          \"Category11_Path_0385\"\n        ],\n        \"num_unique_values\": 980,\n        \"semantic_type\": \"\",\n        \"description\": \"\"\n      }\n    }\n  ]\n}"
            }
          },
          "metadata": {},
          "execution_count": 8
        }
      ],
      "source": [
        "test_df = pd.read_csv('/content/open/test.csv')\n",
        "test_df = test_df[ X.columns]\n",
        "test_df.head(1)"
      ]
    },
    {
      "cell_type": "code",
      "source": [
        "X.isna().sum()"
      ],
      "metadata": {
        "colab": {
          "base_uri": "https://localhost:8080/"
        },
        "id": "CTaa3rGFkiYi",
        "outputId": "f5d30edc-abc5-4093-d249-267e7fc17ff1"
      },
      "execution_count": 9,
      "outputs": [
        {
          "output_type": "execute_result",
          "data": {
            "text/plain": [
              "browser                     0\n",
              "OS                          0\n",
              "device                      0\n",
              "new                         0\n",
              "quality                     0\n",
              "duration                    0\n",
              "bounced                     0\n",
              "transaction                 0\n",
              "transaction_revenue         0\n",
              "continent                   0\n",
              "subcontinent                0\n",
              "country                     0\n",
              "traffic_source              0\n",
              "traffic_medium              0\n",
              "keyword                137675\n",
              "referral_path          161107\n",
              "dtype: int64"
            ]
          },
          "metadata": {},
          "execution_count": 9
        }
      ]
    },
    {
      "cell_type": "code",
      "source": [
        "test_df.isna().sum()"
      ],
      "metadata": {
        "colab": {
          "base_uri": "https://localhost:8080/"
        },
        "id": "aGThNmVoko7U",
        "outputId": "8638bf93-5ef4-4fdc-821b-23c6a1197f7c"
      },
      "execution_count": 10,
      "outputs": [
        {
          "output_type": "execute_result",
          "data": {
            "text/plain": [
              "browser                    0\n",
              "OS                         0\n",
              "device                     0\n",
              "new                        0\n",
              "quality                    0\n",
              "duration                   0\n",
              "bounced                    0\n",
              "transaction                0\n",
              "transaction_revenue        0\n",
              "continent                  0\n",
              "subcontinent               0\n",
              "country                    0\n",
              "traffic_source             0\n",
              "traffic_medium             0\n",
              "keyword                43070\n",
              "referral_path          53891\n",
              "dtype: int64"
            ]
          },
          "metadata": {},
          "execution_count": 10
        }
      ]
    },
    {
      "cell_type": "code",
      "execution_count": 11,
      "metadata": {
        "id": "RVHOSA73g0gI"
      },
      "outputs": [],
      "source": [
        "# # 전처리 - 최빈값으로 전처리\n",
        "# temp = X.isna().mean()\n",
        "# for na_obj_col in temp[temp>0].index:\n",
        "#   X[na_obj_col] = X[na_obj_col].fillna(X[na_obj_col].mode()[0])\n",
        "\n",
        "# temp = test_df.isna().mean()\n",
        "# for na_obj_col in temp[temp>0].index:\n",
        "#   test_df[na_obj_col] = test_df[na_obj_col].fillna(test_df[na_obj_col].mode()[0])\n",
        "\n",
        "# 전처리 - 임이의 빈 값으로 전처리\n",
        "temp = X.isna().mean()\n",
        "for na_obj_col in temp[temp>0].index:\n",
        "  X[na_obj_col] = X[na_obj_col].fillna('na')\n",
        "\n",
        "temp = test_df.isna().mean()\n",
        "for na_obj_col in temp[temp>0].index:\n",
        "  test_df[na_obj_col] = test_df[na_obj_col].fillna('na')\n"
      ]
    },
    {
      "cell_type": "code",
      "execution_count": 12,
      "metadata": {
        "colab": {
          "base_uri": "https://localhost:8080/"
        },
        "id": "7pFJ2vymvyQH",
        "outputId": "0dd53e7b-cede-4a6c-b77f-d0efea4fe38b"
      },
      "outputs": [
        {
          "output_type": "execute_result",
          "data": {
            "text/plain": [
              "Index(['browser', 'OS', 'device', 'continent', 'subcontinent', 'country',\n",
              "       'traffic_source', 'traffic_medium', 'keyword', 'referral_path'],\n",
              "      dtype='object')"
            ]
          },
          "metadata": {},
          "execution_count": 12
        }
      ],
      "source": [
        "# 2.전처리 - object를 수치형으로 변경\n",
        "from sklearn.preprocessing import LabelEncoder\n",
        "le = LabelEncoder()\n",
        "\n",
        "object_colunms = X.select_dtypes(include=['object']).columns\n",
        "object_colunms"
      ]
    },
    {
      "cell_type": "code",
      "execution_count": 13,
      "metadata": {
        "colab": {
          "base_uri": "https://localhost:8080/",
          "height": 212
        },
        "id": "KFPLoyrhwg-K",
        "outputId": "87e0d318-acd9-4b86-be80-8c956eaf4f2a"
      },
      "outputs": [
        {
          "output_type": "execute_result",
          "data": {
            "text/plain": [
              "       browser       OS   device continent      subcontinent        country  \\\n",
              "count   252289   252289   252289    252289            252289         252289   \n",
              "unique      70       21        3         6                23            205   \n",
              "top     Chrome  Windows  desktop  Americas  Northern America  United States   \n",
              "freq    174395    88119   167133    126506            111945         104201   \n",
              "\n",
              "       traffic_source traffic_medium keyword referral_path  \n",
              "count          252289         252289  252289        252289  \n",
              "unique            168              7     624          1579  \n",
              "top            google        organic      na            na  \n",
              "freq           116007         107370  137675        161107  "
            ],
            "text/html": [
              "\n",
              "  <div id=\"df-1e24487a-7641-42bc-bd50-d683d2c3b040\" class=\"colab-df-container\">\n",
              "    <div>\n",
              "<style scoped>\n",
              "    .dataframe tbody tr th:only-of-type {\n",
              "        vertical-align: middle;\n",
              "    }\n",
              "\n",
              "    .dataframe tbody tr th {\n",
              "        vertical-align: top;\n",
              "    }\n",
              "\n",
              "    .dataframe thead th {\n",
              "        text-align: right;\n",
              "    }\n",
              "</style>\n",
              "<table border=\"1\" class=\"dataframe\">\n",
              "  <thead>\n",
              "    <tr style=\"text-align: right;\">\n",
              "      <th></th>\n",
              "      <th>browser</th>\n",
              "      <th>OS</th>\n",
              "      <th>device</th>\n",
              "      <th>continent</th>\n",
              "      <th>subcontinent</th>\n",
              "      <th>country</th>\n",
              "      <th>traffic_source</th>\n",
              "      <th>traffic_medium</th>\n",
              "      <th>keyword</th>\n",
              "      <th>referral_path</th>\n",
              "    </tr>\n",
              "  </thead>\n",
              "  <tbody>\n",
              "    <tr>\n",
              "      <th>count</th>\n",
              "      <td>252289</td>\n",
              "      <td>252289</td>\n",
              "      <td>252289</td>\n",
              "      <td>252289</td>\n",
              "      <td>252289</td>\n",
              "      <td>252289</td>\n",
              "      <td>252289</td>\n",
              "      <td>252289</td>\n",
              "      <td>252289</td>\n",
              "      <td>252289</td>\n",
              "    </tr>\n",
              "    <tr>\n",
              "      <th>unique</th>\n",
              "      <td>70</td>\n",
              "      <td>21</td>\n",
              "      <td>3</td>\n",
              "      <td>6</td>\n",
              "      <td>23</td>\n",
              "      <td>205</td>\n",
              "      <td>168</td>\n",
              "      <td>7</td>\n",
              "      <td>624</td>\n",
              "      <td>1579</td>\n",
              "    </tr>\n",
              "    <tr>\n",
              "      <th>top</th>\n",
              "      <td>Chrome</td>\n",
              "      <td>Windows</td>\n",
              "      <td>desktop</td>\n",
              "      <td>Americas</td>\n",
              "      <td>Northern America</td>\n",
              "      <td>United States</td>\n",
              "      <td>google</td>\n",
              "      <td>organic</td>\n",
              "      <td>na</td>\n",
              "      <td>na</td>\n",
              "    </tr>\n",
              "    <tr>\n",
              "      <th>freq</th>\n",
              "      <td>174395</td>\n",
              "      <td>88119</td>\n",
              "      <td>167133</td>\n",
              "      <td>126506</td>\n",
              "      <td>111945</td>\n",
              "      <td>104201</td>\n",
              "      <td>116007</td>\n",
              "      <td>107370</td>\n",
              "      <td>137675</td>\n",
              "      <td>161107</td>\n",
              "    </tr>\n",
              "  </tbody>\n",
              "</table>\n",
              "</div>\n",
              "    <div class=\"colab-df-buttons\">\n",
              "\n",
              "  <div class=\"colab-df-container\">\n",
              "    <button class=\"colab-df-convert\" onclick=\"convertToInteractive('df-1e24487a-7641-42bc-bd50-d683d2c3b040')\"\n",
              "            title=\"Convert this dataframe to an interactive table.\"\n",
              "            style=\"display:none;\">\n",
              "\n",
              "  <svg xmlns=\"http://www.w3.org/2000/svg\" height=\"24px\" viewBox=\"0 -960 960 960\">\n",
              "    <path d=\"M120-120v-720h720v720H120Zm60-500h600v-160H180v160Zm220 220h160v-160H400v160Zm0 220h160v-160H400v160ZM180-400h160v-160H180v160Zm440 0h160v-160H620v160ZM180-180h160v-160H180v160Zm440 0h160v-160H620v160Z\"/>\n",
              "  </svg>\n",
              "    </button>\n",
              "\n",
              "  <style>\n",
              "    .colab-df-container {\n",
              "      display:flex;\n",
              "      gap: 12px;\n",
              "    }\n",
              "\n",
              "    .colab-df-convert {\n",
              "      background-color: #E8F0FE;\n",
              "      border: none;\n",
              "      border-radius: 50%;\n",
              "      cursor: pointer;\n",
              "      display: none;\n",
              "      fill: #1967D2;\n",
              "      height: 32px;\n",
              "      padding: 0 0 0 0;\n",
              "      width: 32px;\n",
              "    }\n",
              "\n",
              "    .colab-df-convert:hover {\n",
              "      background-color: #E2EBFA;\n",
              "      box-shadow: 0px 1px 2px rgba(60, 64, 67, 0.3), 0px 1px 3px 1px rgba(60, 64, 67, 0.15);\n",
              "      fill: #174EA6;\n",
              "    }\n",
              "\n",
              "    .colab-df-buttons div {\n",
              "      margin-bottom: 4px;\n",
              "    }\n",
              "\n",
              "    [theme=dark] .colab-df-convert {\n",
              "      background-color: #3B4455;\n",
              "      fill: #D2E3FC;\n",
              "    }\n",
              "\n",
              "    [theme=dark] .colab-df-convert:hover {\n",
              "      background-color: #434B5C;\n",
              "      box-shadow: 0px 1px 3px 1px rgba(0, 0, 0, 0.15);\n",
              "      filter: drop-shadow(0px 1px 2px rgba(0, 0, 0, 0.3));\n",
              "      fill: #FFFFFF;\n",
              "    }\n",
              "  </style>\n",
              "\n",
              "    <script>\n",
              "      const buttonEl =\n",
              "        document.querySelector('#df-1e24487a-7641-42bc-bd50-d683d2c3b040 button.colab-df-convert');\n",
              "      buttonEl.style.display =\n",
              "        google.colab.kernel.accessAllowed ? 'block' : 'none';\n",
              "\n",
              "      async function convertToInteractive(key) {\n",
              "        const element = document.querySelector('#df-1e24487a-7641-42bc-bd50-d683d2c3b040');\n",
              "        const dataTable =\n",
              "          await google.colab.kernel.invokeFunction('convertToInteractive',\n",
              "                                                    [key], {});\n",
              "        if (!dataTable) return;\n",
              "\n",
              "        const docLinkHtml = 'Like what you see? Visit the ' +\n",
              "          '<a target=\"_blank\" href=https://colab.research.google.com/notebooks/data_table.ipynb>data table notebook</a>'\n",
              "          + ' to learn more about interactive tables.';\n",
              "        element.innerHTML = '';\n",
              "        dataTable['output_type'] = 'display_data';\n",
              "        await google.colab.output.renderOutput(dataTable, element);\n",
              "        const docLink = document.createElement('div');\n",
              "        docLink.innerHTML = docLinkHtml;\n",
              "        element.appendChild(docLink);\n",
              "      }\n",
              "    </script>\n",
              "  </div>\n",
              "\n",
              "\n",
              "<div id=\"df-155b9a60-e705-437f-bd25-89a8a1eceae3\">\n",
              "  <button class=\"colab-df-quickchart\" onclick=\"quickchart('df-155b9a60-e705-437f-bd25-89a8a1eceae3')\"\n",
              "            title=\"Suggest charts\"\n",
              "            style=\"display:none;\">\n",
              "\n",
              "<svg xmlns=\"http://www.w3.org/2000/svg\" height=\"24px\"viewBox=\"0 0 24 24\"\n",
              "     width=\"24px\">\n",
              "    <g>\n",
              "        <path d=\"M19 3H5c-1.1 0-2 .9-2 2v14c0 1.1.9 2 2 2h14c1.1 0 2-.9 2-2V5c0-1.1-.9-2-2-2zM9 17H7v-7h2v7zm4 0h-2V7h2v10zm4 0h-2v-4h2v4z\"/>\n",
              "    </g>\n",
              "</svg>\n",
              "  </button>\n",
              "\n",
              "<style>\n",
              "  .colab-df-quickchart {\n",
              "      --bg-color: #E8F0FE;\n",
              "      --fill-color: #1967D2;\n",
              "      --hover-bg-color: #E2EBFA;\n",
              "      --hover-fill-color: #174EA6;\n",
              "      --disabled-fill-color: #AAA;\n",
              "      --disabled-bg-color: #DDD;\n",
              "  }\n",
              "\n",
              "  [theme=dark] .colab-df-quickchart {\n",
              "      --bg-color: #3B4455;\n",
              "      --fill-color: #D2E3FC;\n",
              "      --hover-bg-color: #434B5C;\n",
              "      --hover-fill-color: #FFFFFF;\n",
              "      --disabled-bg-color: #3B4455;\n",
              "      --disabled-fill-color: #666;\n",
              "  }\n",
              "\n",
              "  .colab-df-quickchart {\n",
              "    background-color: var(--bg-color);\n",
              "    border: none;\n",
              "    border-radius: 50%;\n",
              "    cursor: pointer;\n",
              "    display: none;\n",
              "    fill: var(--fill-color);\n",
              "    height: 32px;\n",
              "    padding: 0;\n",
              "    width: 32px;\n",
              "  }\n",
              "\n",
              "  .colab-df-quickchart:hover {\n",
              "    background-color: var(--hover-bg-color);\n",
              "    box-shadow: 0 1px 2px rgba(60, 64, 67, 0.3), 0 1px 3px 1px rgba(60, 64, 67, 0.15);\n",
              "    fill: var(--button-hover-fill-color);\n",
              "  }\n",
              "\n",
              "  .colab-df-quickchart-complete:disabled,\n",
              "  .colab-df-quickchart-complete:disabled:hover {\n",
              "    background-color: var(--disabled-bg-color);\n",
              "    fill: var(--disabled-fill-color);\n",
              "    box-shadow: none;\n",
              "  }\n",
              "\n",
              "  .colab-df-spinner {\n",
              "    border: 2px solid var(--fill-color);\n",
              "    border-color: transparent;\n",
              "    border-bottom-color: var(--fill-color);\n",
              "    animation:\n",
              "      spin 1s steps(1) infinite;\n",
              "  }\n",
              "\n",
              "  @keyframes spin {\n",
              "    0% {\n",
              "      border-color: transparent;\n",
              "      border-bottom-color: var(--fill-color);\n",
              "      border-left-color: var(--fill-color);\n",
              "    }\n",
              "    20% {\n",
              "      border-color: transparent;\n",
              "      border-left-color: var(--fill-color);\n",
              "      border-top-color: var(--fill-color);\n",
              "    }\n",
              "    30% {\n",
              "      border-color: transparent;\n",
              "      border-left-color: var(--fill-color);\n",
              "      border-top-color: var(--fill-color);\n",
              "      border-right-color: var(--fill-color);\n",
              "    }\n",
              "    40% {\n",
              "      border-color: transparent;\n",
              "      border-right-color: var(--fill-color);\n",
              "      border-top-color: var(--fill-color);\n",
              "    }\n",
              "    60% {\n",
              "      border-color: transparent;\n",
              "      border-right-color: var(--fill-color);\n",
              "    }\n",
              "    80% {\n",
              "      border-color: transparent;\n",
              "      border-right-color: var(--fill-color);\n",
              "      border-bottom-color: var(--fill-color);\n",
              "    }\n",
              "    90% {\n",
              "      border-color: transparent;\n",
              "      border-bottom-color: var(--fill-color);\n",
              "    }\n",
              "  }\n",
              "</style>\n",
              "\n",
              "  <script>\n",
              "    async function quickchart(key) {\n",
              "      const quickchartButtonEl =\n",
              "        document.querySelector('#' + key + ' button');\n",
              "      quickchartButtonEl.disabled = true;  // To prevent multiple clicks.\n",
              "      quickchartButtonEl.classList.add('colab-df-spinner');\n",
              "      try {\n",
              "        const charts = await google.colab.kernel.invokeFunction(\n",
              "            'suggestCharts', [key], {});\n",
              "      } catch (error) {\n",
              "        console.error('Error during call to suggestCharts:', error);\n",
              "      }\n",
              "      quickchartButtonEl.classList.remove('colab-df-spinner');\n",
              "      quickchartButtonEl.classList.add('colab-df-quickchart-complete');\n",
              "    }\n",
              "    (() => {\n",
              "      let quickchartButtonEl =\n",
              "        document.querySelector('#df-155b9a60-e705-437f-bd25-89a8a1eceae3 button');\n",
              "      quickchartButtonEl.style.display =\n",
              "        google.colab.kernel.accessAllowed ? 'block' : 'none';\n",
              "    })();\n",
              "  </script>\n",
              "</div>\n",
              "\n",
              "    </div>\n",
              "  </div>\n"
            ],
            "application/vnd.google.colaboratory.intrinsic+json": {
              "type": "dataframe",
              "summary": "{\n  \"name\": \"X\",\n  \"rows\": 4,\n  \"fields\": [\n    {\n      \"column\": \"browser\",\n      \"properties\": {\n        \"dtype\": \"string\",\n        \"samples\": [\n          70,\n          \"174395\",\n          \"252289\"\n        ],\n        \"num_unique_values\": 4,\n        \"semantic_type\": \"\",\n        \"description\": \"\"\n      }\n    },\n    {\n      \"column\": \"OS\",\n      \"properties\": {\n        \"dtype\": \"string\",\n        \"samples\": [\n          21,\n          \"88119\",\n          \"252289\"\n        ],\n        \"num_unique_values\": 4,\n        \"semantic_type\": \"\",\n        \"description\": \"\"\n      }\n    },\n    {\n      \"column\": \"device\",\n      \"properties\": {\n        \"dtype\": \"string\",\n        \"samples\": [\n          3,\n          \"167133\",\n          \"252289\"\n        ],\n        \"num_unique_values\": 4,\n        \"semantic_type\": \"\",\n        \"description\": \"\"\n      }\n    },\n    {\n      \"column\": \"continent\",\n      \"properties\": {\n        \"dtype\": \"string\",\n        \"samples\": [\n          6,\n          \"126506\",\n          \"252289\"\n        ],\n        \"num_unique_values\": 4,\n        \"semantic_type\": \"\",\n        \"description\": \"\"\n      }\n    },\n    {\n      \"column\": \"subcontinent\",\n      \"properties\": {\n        \"dtype\": \"string\",\n        \"samples\": [\n          23,\n          \"111945\",\n          \"252289\"\n        ],\n        \"num_unique_values\": 4,\n        \"semantic_type\": \"\",\n        \"description\": \"\"\n      }\n    },\n    {\n      \"column\": \"country\",\n      \"properties\": {\n        \"dtype\": \"string\",\n        \"samples\": [\n          205,\n          \"104201\",\n          \"252289\"\n        ],\n        \"num_unique_values\": 4,\n        \"semantic_type\": \"\",\n        \"description\": \"\"\n      }\n    },\n    {\n      \"column\": \"traffic_source\",\n      \"properties\": {\n        \"dtype\": \"string\",\n        \"samples\": [\n          168,\n          \"116007\",\n          \"252289\"\n        ],\n        \"num_unique_values\": 4,\n        \"semantic_type\": \"\",\n        \"description\": \"\"\n      }\n    },\n    {\n      \"column\": \"traffic_medium\",\n      \"properties\": {\n        \"dtype\": \"string\",\n        \"samples\": [\n          7,\n          \"107370\",\n          \"252289\"\n        ],\n        \"num_unique_values\": 4,\n        \"semantic_type\": \"\",\n        \"description\": \"\"\n      }\n    },\n    {\n      \"column\": \"keyword\",\n      \"properties\": {\n        \"dtype\": \"string\",\n        \"samples\": [\n          624,\n          \"137675\",\n          \"252289\"\n        ],\n        \"num_unique_values\": 4,\n        \"semantic_type\": \"\",\n        \"description\": \"\"\n      }\n    },\n    {\n      \"column\": \"referral_path\",\n      \"properties\": {\n        \"dtype\": \"string\",\n        \"samples\": [\n          1579,\n          \"161107\",\n          \"252289\"\n        ],\n        \"num_unique_values\": 4,\n        \"semantic_type\": \"\",\n        \"description\": \"\"\n      }\n    }\n  ]\n}"
            }
          },
          "metadata": {},
          "execution_count": 13
        }
      ],
      "source": [
        "X.describe(include='object')"
      ]
    },
    {
      "cell_type": "code",
      "execution_count": 14,
      "metadata": {
        "id": "Q3iLN_Rexj46",
        "colab": {
          "base_uri": "https://localhost:8080/"
        },
        "outputId": "c06c0b61-da99-4ba8-f4ed-656d0428899e"
      },
      "outputs": [
        {
          "output_type": "stream",
          "name": "stdout",
          "text": [
            "browser\n",
            "OS\n",
            "device\n",
            "continent\n",
            "subcontinent\n",
            "country\n",
            "traffic_source\n",
            "traffic_medium\n",
            "keyword\n",
            "referral_path\n"
          ]
        }
      ],
      "source": [
        "for colname in object_colunms:\n",
        "  try:\n",
        "    np.unique(test_df[colname])\n",
        "  except:\n",
        "    print(colname)"
      ]
    },
    {
      "cell_type": "code",
      "execution_count": 15,
      "metadata": {
        "id": "GSHhoGdyi2-d"
      },
      "outputs": [],
      "source": [
        "# 학습용데이터를 기준으로 라벨인코딩을하는데 검증용데이터중에 추가되는 범주형 데이터가 있으면 라벨인코더에 추가한다\n",
        "import numpy as np\n",
        "for colname in object_colunms:\n",
        "  le.fit(X[colname])\n",
        "  X[colname] = le.transform(X[colname])\n",
        "\n",
        "  for case_ in np.unique(test_df[colname]):\n",
        "    if case_ not in le.classes_:\n",
        "      le.classes_ = np.append(le.classes_,case_)\n",
        "\n",
        "  test_df[colname]  =  le.transform(test_df[colname])\n"
      ]
    },
    {
      "cell_type": "code",
      "execution_count": 16,
      "metadata": {
        "id": "bPN1SshxjOuV"
      },
      "outputs": [],
      "source": [
        "from sklearn.preprocessing import StandardScaler\n",
        "ss = StandardScaler()\n",
        "ss.fit(X)\n",
        "X_scaled = ss.transform(X)\n",
        "X_test_scaled = ss.transform(test_df)"
      ]
    },
    {
      "cell_type": "code",
      "execution_count": 17,
      "metadata": {
        "colab": {
          "base_uri": "https://localhost:8080/"
        },
        "id": "55YMlveD24uZ",
        "outputId": "406d4f29-bee5-425d-ba7e-24d5dd1c9cfc"
      },
      "outputs": [
        {
          "output_type": "stream",
          "name": "stdout",
          "text": [
            "0.5770001943898533\n",
            "0.5770002814718613\n",
            "0.5157652805225847\n",
            "0.5213792864333219\n"
          ]
        }
      ],
      "source": [
        "from sklearn.linear_model import LinearRegression,Ridge,Lasso\n",
        "from sklearn.tree import DecisionTreeRegressor\n",
        "from sklearn.neighbors import KNeighborsRegressor\n",
        "from sklearn.model_selection import cross_validate\n",
        "\n",
        "\n",
        "\n",
        "lr = LinearRegression();ridge = Ridge();lasso = Lasso()\n",
        "dtree = DecisionTreeRegressor();\n",
        "# knr = KNeighborsRegressor()\n",
        "print(cross_validate(lr,X_scaled,y)['test_score'].mean())\n",
        "print(cross_validate(ridge,X_scaled,y)['test_score'].mean())\n",
        "print(cross_validate(lasso,X_scaled,y)['test_score'].mean())\n",
        "print(cross_validate(dtree,X_scaled,y)['test_score'].mean())\n",
        "# print(cross_validate(knr,X_scaled,y)['test_score'].mean())"
      ]
    },
    {
      "cell_type": "code",
      "source": [
        "from xgboost import XGBRegressor,XGBRFRegressor\n",
        "from lightgbm import LGBMRegressor,DaskLGBMRegressor\n",
        "from sklearn.ensemble import VotingRegressor,BaggingRegressor,AdaBoostRegressor,StackingRegressor,ExtraTreesRegressor,RandomForestRegressor,GradientBoostingRegressor,HistGradientBoostingRegressor"
      ],
      "metadata": {
        "id": "jtJ50mMwmigB"
      },
      "execution_count": 18,
      "outputs": []
    },
    {
      "cell_type": "code",
      "source": [
        "# xgbb,xgbrf = XGBRegressor(),XGBRFRegressor()\n",
        "# lbgmr = LGBMRegressor(force_col_wise=True)\n",
        "# print(cross_validate(xgbb,X_scaled,y)['test_score'].mean())\n",
        "# print(cross_validate(xgbrf,X_scaled,y)['test_score'].mean())\n",
        "# print(cross_validate(lbgmr,X_scaled,y)['test_score'].mean())"
      ],
      "metadata": {
        "id": "iOQHaWG8mijh"
      },
      "execution_count": 19,
      "outputs": []
    },
    {
      "cell_type": "code",
      "source": [
        "# for model in [ExtraTreesRegressor(),RandomForestRegressor(),GradientBoostingRegressor(),HistGradientBoostingRegressor()]:\n",
        "#   print(cross_validate(model,X_scaled,y)['test_score'].mean())"
      ],
      "metadata": {
        "id": "zEvPbLrzminB"
      },
      "execution_count": null,
      "outputs": []
    },
    {
      "cell_type": "code",
      "source": [
        "best_model = LGBMRegressor(force_col_wise=True)\n",
        "best_model.fit(X_scaled,y)"
      ],
      "metadata": {
        "id": "ltyFUVNFmirB",
        "colab": {
          "base_uri": "https://localhost:8080/",
          "height": 130
        },
        "outputId": "d9d3bd88-02a8-48db-e425-c95411363767"
      },
      "execution_count": 21,
      "outputs": [
        {
          "output_type": "stream",
          "name": "stdout",
          "text": [
            "[LightGBM] [Info] Total Bins 1177\n",
            "[LightGBM] [Info] Number of data points in the train set: 252289, number of used features: 16\n",
            "[LightGBM] [Info] Start training from score 3.592626\n"
          ]
        },
        {
          "output_type": "execute_result",
          "data": {
            "text/plain": [
              "LGBMRegressor(force_col_wise=True)"
            ],
            "text/html": [
              "<style>#sk-container-id-1 {color: black;background-color: white;}#sk-container-id-1 pre{padding: 0;}#sk-container-id-1 div.sk-toggleable {background-color: white;}#sk-container-id-1 label.sk-toggleable__label {cursor: pointer;display: block;width: 100%;margin-bottom: 0;padding: 0.3em;box-sizing: border-box;text-align: center;}#sk-container-id-1 label.sk-toggleable__label-arrow:before {content: \"▸\";float: left;margin-right: 0.25em;color: #696969;}#sk-container-id-1 label.sk-toggleable__label-arrow:hover:before {color: black;}#sk-container-id-1 div.sk-estimator:hover label.sk-toggleable__label-arrow:before {color: black;}#sk-container-id-1 div.sk-toggleable__content {max-height: 0;max-width: 0;overflow: hidden;text-align: left;background-color: #f0f8ff;}#sk-container-id-1 div.sk-toggleable__content pre {margin: 0.2em;color: black;border-radius: 0.25em;background-color: #f0f8ff;}#sk-container-id-1 input.sk-toggleable__control:checked~div.sk-toggleable__content {max-height: 200px;max-width: 100%;overflow: auto;}#sk-container-id-1 input.sk-toggleable__control:checked~label.sk-toggleable__label-arrow:before {content: \"▾\";}#sk-container-id-1 div.sk-estimator input.sk-toggleable__control:checked~label.sk-toggleable__label {background-color: #d4ebff;}#sk-container-id-1 div.sk-label input.sk-toggleable__control:checked~label.sk-toggleable__label {background-color: #d4ebff;}#sk-container-id-1 input.sk-hidden--visually {border: 0;clip: rect(1px 1px 1px 1px);clip: rect(1px, 1px, 1px, 1px);height: 1px;margin: -1px;overflow: hidden;padding: 0;position: absolute;width: 1px;}#sk-container-id-1 div.sk-estimator {font-family: monospace;background-color: #f0f8ff;border: 1px dotted black;border-radius: 0.25em;box-sizing: border-box;margin-bottom: 0.5em;}#sk-container-id-1 div.sk-estimator:hover {background-color: #d4ebff;}#sk-container-id-1 div.sk-parallel-item::after {content: \"\";width: 100%;border-bottom: 1px solid gray;flex-grow: 1;}#sk-container-id-1 div.sk-label:hover label.sk-toggleable__label {background-color: #d4ebff;}#sk-container-id-1 div.sk-serial::before {content: \"\";position: absolute;border-left: 1px solid gray;box-sizing: border-box;top: 0;bottom: 0;left: 50%;z-index: 0;}#sk-container-id-1 div.sk-serial {display: flex;flex-direction: column;align-items: center;background-color: white;padding-right: 0.2em;padding-left: 0.2em;position: relative;}#sk-container-id-1 div.sk-item {position: relative;z-index: 1;}#sk-container-id-1 div.sk-parallel {display: flex;align-items: stretch;justify-content: center;background-color: white;position: relative;}#sk-container-id-1 div.sk-item::before, #sk-container-id-1 div.sk-parallel-item::before {content: \"\";position: absolute;border-left: 1px solid gray;box-sizing: border-box;top: 0;bottom: 0;left: 50%;z-index: -1;}#sk-container-id-1 div.sk-parallel-item {display: flex;flex-direction: column;z-index: 1;position: relative;background-color: white;}#sk-container-id-1 div.sk-parallel-item:first-child::after {align-self: flex-end;width: 50%;}#sk-container-id-1 div.sk-parallel-item:last-child::after {align-self: flex-start;width: 50%;}#sk-container-id-1 div.sk-parallel-item:only-child::after {width: 0;}#sk-container-id-1 div.sk-dashed-wrapped {border: 1px dashed gray;margin: 0 0.4em 0.5em 0.4em;box-sizing: border-box;padding-bottom: 0.4em;background-color: white;}#sk-container-id-1 div.sk-label label {font-family: monospace;font-weight: bold;display: inline-block;line-height: 1.2em;}#sk-container-id-1 div.sk-label-container {text-align: center;}#sk-container-id-1 div.sk-container {/* jupyter's `normalize.less` sets `[hidden] { display: none; }` but bootstrap.min.css set `[hidden] { display: none !important; }` so we also need the `!important` here to be able to override the default hidden behavior on the sphinx rendered scikit-learn.org. See: https://github.com/scikit-learn/scikit-learn/issues/21755 */display: inline-block !important;position: relative;}#sk-container-id-1 div.sk-text-repr-fallback {display: none;}</style><div id=\"sk-container-id-1\" class=\"sk-top-container\"><div class=\"sk-text-repr-fallback\"><pre>LGBMRegressor(force_col_wise=True)</pre><b>In a Jupyter environment, please rerun this cell to show the HTML representation or trust the notebook. <br />On GitHub, the HTML representation is unable to render, please try loading this page with nbviewer.org.</b></div><div class=\"sk-container\" hidden><div class=\"sk-item\"><div class=\"sk-estimator sk-toggleable\"><input class=\"sk-toggleable__control sk-hidden--visually\" id=\"sk-estimator-id-1\" type=\"checkbox\" checked><label for=\"sk-estimator-id-1\" class=\"sk-toggleable__label sk-toggleable__label-arrow\">LGBMRegressor</label><div class=\"sk-toggleable__content\"><pre>LGBMRegressor(force_col_wise=True)</pre></div></div></div></div></div>"
            ]
          },
          "metadata": {},
          "execution_count": 21
        }
      ]
    },
    {
      "cell_type": "code",
      "execution_count": null,
      "metadata": {
        "id": "F48Q_xpFjzZH"
      },
      "outputs": [],
      "source": [
        "\n",
        "# # 파이퍼 파라메터 튜닝\n",
        "# from sklearn.model_selection import GridSearchCV\n",
        "# param_grid = {\n",
        "#     'learning_rate': [0.05, 0.1, 0.2],\n",
        "#     'n_estimators': [100, 500, 1000],\n",
        "#     'num_leaves': [31, 50, 100],\n",
        "#     'max_depth': [-1, 5, 10],\n",
        "#     'min_child_samples': [20, 50, 100],\n",
        "#     'subsample': [0.8, 0.9, 1.0],\n",
        "#     'colsample_bytree': [0.8, 0.9, 1.0],\n",
        "#     'reg_alpha': [0.1, 0.5, 1.0],\n",
        "#     'reg_lambda': [0.1, 0.5, 1.0]\n",
        "# }\n",
        "# search = GridSearchCV(LGBMRegressor(),param_grid=param_grid ,n_jobs=-1 )\n",
        "# search.fit(X_scaled,y)\n",
        "# best_model = search.best_estimator_"
      ]
    },
    {
      "cell_type": "code",
      "execution_count": 22,
      "metadata": {
        "id": "UncVBA_Ez1ry"
      },
      "outputs": [],
      "source": [
        "predict = best_model.predict(X_test_scaled)\n",
        "submission_df = pd.read_csv('/content/open/sample_submission.csv')\n",
        "submission_df['TARGET'] = predict\n",
        "submission_df.to_csv(\"제출.csv\",index=False)"
      ]
    },
    {
      "cell_type": "markdown",
      "source": [
        "Voting\n",
        "  - 여러모델중에 높은성능을 보이는 모델에 투표를 해서 평가"
      ],
      "metadata": {
        "id": "sjutv74gxRx7"
      }
    },
    {
      "cell_type": "code",
      "source": [
        "!pip install catboost\n",
        "from catboost import CatBoostRegressor"
      ],
      "metadata": {
        "id": "LKE95BX4xQ31"
      },
      "execution_count": null,
      "outputs": []
    },
    {
      "cell_type": "code",
      "source": [
        "from xgboost import XGBRegressor\n",
        "from lightgbm import LGBMRegressor"
      ],
      "metadata": {
        "id": "Y6o4EHcExq1t"
      },
      "execution_count": 27,
      "outputs": []
    },
    {
      "cell_type": "code",
      "source": [
        "from sklearn.ensemble import VotingRegressor\n",
        "vote_clf = VotingRegressor(\n",
        "    estimators=[ ('catbosst',CatBoostRegressor()),('xgb',XGBRegressor()),('lgb',LGBMRegressor())  ]\n",
        ")"
      ],
      "metadata": {
        "id": "JVQzj3hHyB-6"
      },
      "execution_count": 29,
      "outputs": []
    },
    {
      "cell_type": "code",
      "source": [
        "vote_clf.fit(X_scaled,y)"
      ],
      "metadata": {
        "id": "EjscLKkbyxC1"
      },
      "execution_count": null,
      "outputs": []
    },
    {
      "cell_type": "code",
      "source": [
        "predict = vote_clf.predict(X_test_scaled)\n",
        "submission_df = pd.read_csv('/content/open/sample_submission.csv')\n",
        "submission_df['TARGET'] = predict\n",
        "submission_df.to_csv(\"제출2.csv\",index=False)"
      ],
      "metadata": {
        "id": "DQ6qu4_1y5f6"
      },
      "execution_count": 32,
      "outputs": []
    },
    {
      "cell_type": "code",
      "source": [
        "gbr = GradientBoostingRegressor()\n",
        "crv =cross_validate(gbr,X_scaled,y, return_train_score=True)\n",
        "crv"
      ],
      "metadata": {
        "colab": {
          "base_uri": "https://localhost:8080/"
        },
        "id": "YK4rXAk6zSYg",
        "outputId": "8e74e9aa-2894-4dd9-a866-721f2c6fda2b"
      },
      "execution_count": 33,
      "outputs": [
        {
          "output_type": "execute_result",
          "data": {
            "text/plain": [
              "{'fit_time': array([18.81723094, 17.84079957, 18.8724227 , 18.11762428, 17.90701199]),\n",
              " 'score_time': array([0.05209589, 0.05253434, 0.05297375, 0.05151415, 0.05354834]),\n",
              " 'test_score': array([0.67174008, 0.75067748, 0.74282857, 0.71121618, 0.72398044]),\n",
              " 'train_score': array([0.77062014, 0.76496576, 0.77039984, 0.77450302, 0.7721482 ])}"
            ]
          },
          "metadata": {},
          "execution_count": 33
        }
      ]
    },
    {
      "cell_type": "code",
      "source": [
        "np.mean(crv['train_score']), np.mean(crv['test_score'])"
      ],
      "metadata": {
        "colab": {
          "base_uri": "https://localhost:8080/"
        },
        "id": "GBopRrX348XQ",
        "outputId": "e8bf6346-ab2f-478e-a7aa-bb6ecbb44e10"
      },
      "execution_count": 34,
      "outputs": [
        {
          "output_type": "execute_result",
          "data": {
            "text/plain": [
              "(0.7705273887001631, 0.7200885501746097)"
            ]
          },
          "metadata": {},
          "execution_count": 34
        }
      ]
    },
    {
      "cell_type": "code",
      "source": [
        "gbr.fit(X_scaled,y)"
      ],
      "metadata": {
        "colab": {
          "base_uri": "https://localhost:8080/",
          "height": 74
        },
        "id": "8Q0Q9Ueq5pvI",
        "outputId": "b7593fe4-8028-449f-9f07-7bd4038d7fb4"
      },
      "execution_count": 36,
      "outputs": [
        {
          "output_type": "execute_result",
          "data": {
            "text/plain": [
              "GradientBoostingRegressor()"
            ],
            "text/html": [
              "<style>#sk-container-id-3 {color: black;background-color: white;}#sk-container-id-3 pre{padding: 0;}#sk-container-id-3 div.sk-toggleable {background-color: white;}#sk-container-id-3 label.sk-toggleable__label {cursor: pointer;display: block;width: 100%;margin-bottom: 0;padding: 0.3em;box-sizing: border-box;text-align: center;}#sk-container-id-3 label.sk-toggleable__label-arrow:before {content: \"▸\";float: left;margin-right: 0.25em;color: #696969;}#sk-container-id-3 label.sk-toggleable__label-arrow:hover:before {color: black;}#sk-container-id-3 div.sk-estimator:hover label.sk-toggleable__label-arrow:before {color: black;}#sk-container-id-3 div.sk-toggleable__content {max-height: 0;max-width: 0;overflow: hidden;text-align: left;background-color: #f0f8ff;}#sk-container-id-3 div.sk-toggleable__content pre {margin: 0.2em;color: black;border-radius: 0.25em;background-color: #f0f8ff;}#sk-container-id-3 input.sk-toggleable__control:checked~div.sk-toggleable__content {max-height: 200px;max-width: 100%;overflow: auto;}#sk-container-id-3 input.sk-toggleable__control:checked~label.sk-toggleable__label-arrow:before {content: \"▾\";}#sk-container-id-3 div.sk-estimator input.sk-toggleable__control:checked~label.sk-toggleable__label {background-color: #d4ebff;}#sk-container-id-3 div.sk-label input.sk-toggleable__control:checked~label.sk-toggleable__label {background-color: #d4ebff;}#sk-container-id-3 input.sk-hidden--visually {border: 0;clip: rect(1px 1px 1px 1px);clip: rect(1px, 1px, 1px, 1px);height: 1px;margin: -1px;overflow: hidden;padding: 0;position: absolute;width: 1px;}#sk-container-id-3 div.sk-estimator {font-family: monospace;background-color: #f0f8ff;border: 1px dotted black;border-radius: 0.25em;box-sizing: border-box;margin-bottom: 0.5em;}#sk-container-id-3 div.sk-estimator:hover {background-color: #d4ebff;}#sk-container-id-3 div.sk-parallel-item::after {content: \"\";width: 100%;border-bottom: 1px solid gray;flex-grow: 1;}#sk-container-id-3 div.sk-label:hover label.sk-toggleable__label {background-color: #d4ebff;}#sk-container-id-3 div.sk-serial::before {content: \"\";position: absolute;border-left: 1px solid gray;box-sizing: border-box;top: 0;bottom: 0;left: 50%;z-index: 0;}#sk-container-id-3 div.sk-serial {display: flex;flex-direction: column;align-items: center;background-color: white;padding-right: 0.2em;padding-left: 0.2em;position: relative;}#sk-container-id-3 div.sk-item {position: relative;z-index: 1;}#sk-container-id-3 div.sk-parallel {display: flex;align-items: stretch;justify-content: center;background-color: white;position: relative;}#sk-container-id-3 div.sk-item::before, #sk-container-id-3 div.sk-parallel-item::before {content: \"\";position: absolute;border-left: 1px solid gray;box-sizing: border-box;top: 0;bottom: 0;left: 50%;z-index: -1;}#sk-container-id-3 div.sk-parallel-item {display: flex;flex-direction: column;z-index: 1;position: relative;background-color: white;}#sk-container-id-3 div.sk-parallel-item:first-child::after {align-self: flex-end;width: 50%;}#sk-container-id-3 div.sk-parallel-item:last-child::after {align-self: flex-start;width: 50%;}#sk-container-id-3 div.sk-parallel-item:only-child::after {width: 0;}#sk-container-id-3 div.sk-dashed-wrapped {border: 1px dashed gray;margin: 0 0.4em 0.5em 0.4em;box-sizing: border-box;padding-bottom: 0.4em;background-color: white;}#sk-container-id-3 div.sk-label label {font-family: monospace;font-weight: bold;display: inline-block;line-height: 1.2em;}#sk-container-id-3 div.sk-label-container {text-align: center;}#sk-container-id-3 div.sk-container {/* jupyter's `normalize.less` sets `[hidden] { display: none; }` but bootstrap.min.css set `[hidden] { display: none !important; }` so we also need the `!important` here to be able to override the default hidden behavior on the sphinx rendered scikit-learn.org. See: https://github.com/scikit-learn/scikit-learn/issues/21755 */display: inline-block !important;position: relative;}#sk-container-id-3 div.sk-text-repr-fallback {display: none;}</style><div id=\"sk-container-id-3\" class=\"sk-top-container\"><div class=\"sk-text-repr-fallback\"><pre>GradientBoostingRegressor()</pre><b>In a Jupyter environment, please rerun this cell to show the HTML representation or trust the notebook. <br />On GitHub, the HTML representation is unable to render, please try loading this page with nbviewer.org.</b></div><div class=\"sk-container\" hidden><div class=\"sk-item\"><div class=\"sk-estimator sk-toggleable\"><input class=\"sk-toggleable__control sk-hidden--visually\" id=\"sk-estimator-id-6\" type=\"checkbox\" checked><label for=\"sk-estimator-id-6\" class=\"sk-toggleable__label sk-toggleable__label-arrow\">GradientBoostingRegressor</label><div class=\"sk-toggleable__content\"><pre>GradientBoostingRegressor()</pre></div></div></div></div></div>"
            ]
          },
          "metadata": {},
          "execution_count": 36
        }
      ]
    },
    {
      "cell_type": "code",
      "source": [
        "predict = gbr.predict(X_test_scaled)\n",
        "submission_df = pd.read_csv('/content/open/sample_submission.csv')\n",
        "submission_df['TARGET'] = predict\n",
        "submission_df.to_csv(\"제출3.csv\",index=False)"
      ],
      "metadata": {
        "id": "uhtv8iTU5fOy"
      },
      "execution_count": 37,
      "outputs": []
    },
    {
      "cell_type": "code",
      "source": [],
      "metadata": {
        "id": "sCimq-se5l8K"
      },
      "execution_count": null,
      "outputs": []
    }
  ],
  "metadata": {
    "colab": {
      "provenance": []
    },
    "kernelspec": {
      "display_name": "Python 3",
      "name": "python3"
    },
    "language_info": {
      "name": "python"
    }
  },
  "nbformat": 4,
  "nbformat_minor": 0
}