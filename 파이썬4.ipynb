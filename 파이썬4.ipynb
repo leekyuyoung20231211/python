{
  "nbformat": 4,
  "nbformat_minor": 0,
  "metadata": {
    "colab": {
      "provenance": []
    },
    "kernelspec": {
      "name": "python3",
      "display_name": "Python 3"
    },
    "language_info": {
      "name": "python"
    }
  },
  "cells": [
    {
      "source": [
        "x = 11\n",
        "print(x > 10)\n",
        "if x > 10:\n",
        "  print(\"x is greater than 10\")"
      ],
      "cell_type": "code",
      "metadata": {
        "colab": {
          "base_uri": "https://localhost:8080/"
        },
        "id": "laPVpSsf6DTw",
        "outputId": "2a3f0788-29b5-4713-bf16-9ffcf63d723b"
      },
      "execution_count": 6,
      "outputs": [
        {
          "output_type": "stream",
          "name": "stdout",
          "text": [
            "True\n",
            "x is greater than 10\n"
          ]
        }
      ]
    },
    {
      "source": [
        "x = 10\n",
        "if x > 10:\n",
        "  print(\"x is greater than 10\")\n",
        "elif x < 10:\n",
        "  print(\"x is less than 10\")\n",
        "else:\n",
        "  print(\"x is equal to 10\")\n",
        "\n",
        "print('if문과 상관없는 문장입니다.')"
      ],
      "cell_type": "code",
      "metadata": {
        "colab": {
          "base_uri": "https://localhost:8080/"
        },
        "id": "TuRZ7uFB6W5p",
        "outputId": "7781a564-acef-4bf0-923c-56d141d662ff"
      },
      "execution_count": 10,
      "outputs": [
        {
          "output_type": "stream",
          "name": "stdout",
          "text": [
            "x is equal to 10\n",
            "if문과 상관없는 문장입니다.\n"
          ]
        }
      ]
    },
    {
      "cell_type": "code",
      "source": [
        "# 점수를 입력받아서 60점 이상이면 success를 출력하고 그렇지 않으면 faile를 출력\n",
        "jumsu = int( input(\"점수를 입력하세요: \"))\n",
        "if jumsu >= 60:\n",
        "  print(\"success\")\n",
        "else:\n",
        "  print(\"faile\")"
      ],
      "metadata": {
        "colab": {
          "base_uri": "https://localhost:8080/"
        },
        "id": "NKTMlTfK7OmT",
        "outputId": "e6809a48-fab1-4c96-f0bf-777973cf334f"
      },
      "execution_count": 16,
      "outputs": [
        {
          "output_type": "stream",
          "name": "stdout",
          "text": [
            "점수를 입력하세요: 20\n",
            "faile\n"
          ]
        }
      ]
    },
    {
      "source": [
        "# 진리표\n",
        "# 논리곱\n",
        "# 전부 true 가 되어야 true\n",
        "print(True and True)  # True    1 x 1  = 1\n",
        "print(True and False)  # False  1 x 0 = 0\n",
        "print(False and True)  # False  0 x 1 = 0\n",
        "print(False and False)  # False  0 x 0 = 0\n",
        "\n",
        "# 논리합\n",
        "# 하나이상 true가 되면 true\n",
        "print(True or True)  # True 1 + 1  = 2\n",
        "print(True or False)  # True 1 + 0 = 1\n",
        "print(False or True)  # True   0 + 1 = 1\n",
        "print(False or False)  # False 0 + 0 = 0\n",
        "\n",
        "print(not True)  # False\n",
        "print(not False)  # True"
      ],
      "cell_type": "code",
      "metadata": {
        "id": "X8f9zwhM_0uJ"
      },
      "execution_count": null,
      "outputs": []
    },
    {
      "cell_type": "markdown",
      "source": [
        "조건문은 조건에 따라서 명령어를 실행한다\n",
        "  - if 조건식|값:\n",
        "    - 실행할 코드"
      ],
      "metadata": {
        "id": "h4LhxqSDA8wo"
      }
    },
    {
      "cell_type": "code",
      "source": [
        "# ----------------"
      ],
      "metadata": {
        "id": "01oK72JtBUmY"
      },
      "execution_count": 17,
      "outputs": []
    },
    {
      "cell_type": "markdown",
      "source": [
        "  - if 조건식|값:\n",
        "    - 실행할 코드\n",
        "  - else:\n",
        "    - if 문장을 만족하지 않은 모든경우"
      ],
      "metadata": {
        "id": "J9-zOeVuBLzz"
      }
    },
    {
      "cell_type": "code",
      "source": [
        "# and 연산자\n",
        "# 1.  국어 영어 수학점수를 입력받는다\n",
        "# 2. 합격의 기준은 다음과 같다\n",
        "# 3. 평균이 60점이상이고 각 과목별 점수가 40점 이상이면 합격 그렇지 않으면 불합격"
      ],
      "metadata": {
        "id": "fBJ1ixKVEDgy"
      },
      "execution_count": 18,
      "outputs": []
    },
    {
      "cell_type": "code",
      "source": [
        "# prompt: 위의 조건을 만족하는 코드\n",
        "\n",
        "kor = int(input(\"국어 점수를 입력하세요: \"))\n",
        "eng = int(input(\"영어 점수를 입력하세요: \"))\n",
        "math = int(input(\"수학 점수를 입력하세요: \"))\n",
        "avg = (kor+eng+math) / 3\n",
        "if avg >= 60 and kor >= 40 and eng >= 40 and math >= 40:\n",
        "  print(\"합격\")\n",
        "else:\n",
        "  print(\"불합격\")\n"
      ],
      "metadata": {
        "colab": {
          "base_uri": "https://localhost:8080/"
        },
        "id": "z9tyYxwwERvZ",
        "outputId": "fe5a47a0-c95c-4e2f-8d0f-d9a4c9876a13"
      },
      "execution_count": 19,
      "outputs": [
        {
          "output_type": "stream",
          "name": "stdout",
          "text": [
            "국어 점수를 입력하세요: 10\n",
            "영어 점수를 입력하세요: 20\n",
            "수학 점수를 입력하세요: 30\n",
            "불합격\n"
          ]
        }
      ]
    },
    {
      "cell_type": "code",
      "source": [
        "# prompt: 위의 코드를 리스트를 사용해서 변경\n",
        "\n",
        "점수 = [int( input(\"점수를 입력하세요: \")) for _ in range(3)]\n",
        "avg = sum(점수) / 3\n",
        "if avg >= 60 and min(점수) >= 40:\n",
        "  print(\"합격\")\n",
        "else:\n",
        "  print(\"불합격\")\n"
      ],
      "metadata": {
        "id": "8hcKMskYGke4"
      },
      "execution_count": null,
      "outputs": []
    },
    {
      "cell_type": "code",
      "source": [
        "# 리스트를 이용해서 점수 3개의 변수를 한개의 리스트로 표현\n",
        "scores = []\n",
        "scores.append( int(input(\"국어 점수를 입력하세요: \"))  )\n",
        "scores.append( int(input(\"영어 점수를 입력하세요: \"))  )\n",
        "scores.append( int(input(\"수학 점수를 입력하세요: \"))  )\n",
        "avg = sum(scores) / len(scores)\n",
        "if avg >=60 and scores[0] >=40 and scores[1] >=40 and scores[2] >=40:\n",
        "  print(\"합격\")\n",
        "else:\n",
        "  print(\"불합격\")"
      ],
      "metadata": {
        "colab": {
          "base_uri": "https://localhost:8080/"
        },
        "id": "27SrJmTgFNEN",
        "outputId": "fc0fb3c1-0988-4b0b-8ba0-e6e87176c7a3"
      },
      "execution_count": 21,
      "outputs": [
        {
          "output_type": "stream",
          "name": "stdout",
          "text": [
            "국어 점수를 입력하세요: 10\n",
            "영어 점수를 입력하세요: 20\n",
            "수학 점수를 입력하세요: 30\n",
            "불합격\n"
          ]
        }
      ]
    },
    {
      "cell_type": "code",
      "source": [
        "# 조건문 연습\n",
        "x = 10\n",
        "if x > 5:\n",
        "  print(\"x는 5보다 큽니다.\")"
      ],
      "metadata": {
        "colab": {
          "base_uri": "https://localhost:8080/"
        },
        "id": "ltEHlWsAHAxz",
        "outputId": "26907468-dcde-464a-97a3-cd7019a77eae"
      },
      "execution_count": 22,
      "outputs": [
        {
          "output_type": "stream",
          "name": "stdout",
          "text": [
            "x는 5보다 큽니다.\n"
          ]
        }
      ]
    },
    {
      "cell_type": "code",
      "source": [
        "y = int( input(\"정수를 입력하세요 : \") )\n",
        "if y % 2 == 0:\n",
        "  print(\"y는 짝수 입니다.\")\n",
        "else:\n",
        "  print(\"y는 홀수 입니다.\")"
      ],
      "metadata": {
        "colab": {
          "base_uri": "https://localhost:8080/"
        },
        "id": "JbIb0yxUKLTD",
        "outputId": "96c1edb9-6f5d-4286-abc4-3fb0ebb0f794"
      },
      "execution_count": 25,
      "outputs": [
        {
          "output_type": "stream",
          "name": "stdout",
          "text": [
            "정수를 입력하세요 : 145165432869162\n",
            "y는 짝수 입니다.\n"
          ]
        }
      ]
    },
    {
      "cell_type": "code",
      "source": [
        "age = int( input(\"나이를 입력하세요 : \"))\n",
        "if age >=18 and age <= 35:\n",
        "  print(\"청년층 입니다.\")"
      ],
      "metadata": {
        "colab": {
          "base_uri": "https://localhost:8080/"
        },
        "id": "TbfntnpMKm_u",
        "outputId": "b08642a0-d1c0-4fad-f7a6-1d3573f3d7e8"
      },
      "execution_count": 26,
      "outputs": [
        {
          "output_type": "stream",
          "name": "stdout",
          "text": [
            "나이를 입력하세요 : 28\n",
            "청년층 입니다.\n"
          ]
        }
      ]
    },
    {
      "cell_type": "code",
      "source": [
        "fruit = ['사과','바나나','딸기']\n",
        "favorite_fruit = '딸기'\n",
        "if favorite_fruit in fruit:\n",
        "  print(\"좋아하는 과일 목록에 포함되어 있습니다.\")"
      ],
      "metadata": {
        "colab": {
          "base_uri": "https://localhost:8080/"
        },
        "id": "tVHHM_kuLs8H",
        "outputId": "764124d7-6b9d-4edd-efbd-5842d6f564ef"
      },
      "execution_count": 27,
      "outputs": [
        {
          "output_type": "stream",
          "name": "stdout",
          "text": [
            "좋아하는 과일 목록에 포함되어 있습니다.\n"
          ]
        }
      ]
    },
    {
      "cell_type": "code",
      "source": [
        "id = 'admin'\n",
        "psw = '1234'\n",
        "if id == 'admin' and psw == '1234':\n",
        "  print('로그인 성공')"
      ],
      "metadata": {
        "colab": {
          "base_uri": "https://localhost:8080/"
        },
        "id": "bWfNZp3gMCi6",
        "outputId": "89007c95-795e-4da4-ea4c-4ea20a41ee61"
      },
      "execution_count": 29,
      "outputs": [
        {
          "output_type": "stream",
          "name": "stdout",
          "text": [
            "로그인 성공\n"
          ]
        }
      ]
    },
    {
      "cell_type": "code",
      "source": [
        "num = 27\n",
        "if num > 0:\n",
        "  if num % 3 == 0:\n",
        "    print('3의 양의 배수')\n",
        "  else:\n",
        "    print('양수지만 3의 배수가 아님')\n",
        "else:\n",
        "  print('음수 또는 0')"
      ],
      "metadata": {
        "colab": {
          "base_uri": "https://localhost:8080/"
        },
        "id": "znt3qtRgMPcB",
        "outputId": "2cb4c7d7-40c7-4fef-ca4e-78780b48adbe"
      },
      "execution_count": 30,
      "outputs": [
        {
          "output_type": "stream",
          "name": "stdout",
          "text": [
            "3의 양의 배수\n"
          ]
        }
      ]
    },
    {
      "cell_type": "code",
      "source": [
        "# 율리우스력의 윤년 추가 규칙은 다음과 같다.\n",
        "# 4로 나누어 떨어지는 해는 윤년, 그 밖의 해는 평년으로 한다.\n",
        "\n",
        "# 그레고리력은 다음과 같은 예외 규칙을 추가하였다.\n",
        "# 100으로 나누어 떨어지되 400으로 나누어 떨어지지 않는 해는 평년으로 한다.\n",
        "\n",
        "# 가령 400으로 나누어 떨어지는 2000년은 그레고리력으로 윤년이지만, 100으로는 나누어 떨어지되 400으로는 나누어 떨어지지 않는 1900년은 평년이다.\n",
        "# 물론 율리우스력으로는 1900년이든 2000년이든 모두 윤년이다."
      ],
      "metadata": {
        "id": "sgz7i_MAMnvG"
      },
      "execution_count": null,
      "outputs": []
    },
    {
      "cell_type": "code",
      "source": [
        "#  년도를 입력받아서 해당 년도가 윤년인지 판단  그레고리력을 기준으로\n",
        "year = 2023\n",
        "# if year % 4 == 0 and not (year % 100 ==0 and year % 400 != 0) :\n",
        "if year % 4 == 0 and not (year % 100 ==0 and year % 400 != 0) :\n",
        "  print(\"윤년\")\n",
        "else:\n",
        "  print(\"평년\")\n"
      ],
      "metadata": {
        "colab": {
          "base_uri": "https://localhost:8080/"
        },
        "id": "GWTCTAmMNDzw",
        "outputId": "83bace4b-cb4c-49a0-b727-b78ed0903b0f"
      },
      "execution_count": 39,
      "outputs": [
        {
          "output_type": "stream",
          "name": "stdout",
          "text": [
            "평년\n"
          ]
        }
      ]
    },
    {
      "cell_type": "code",
      "source": [
        "#  bmi 공식\n",
        "#  몸무게(kg) / 키(m)의제곱\n",
        "#  25.0~  비만\n",
        "#  23.0 ~ 24.9 과체중\n",
        "#  18.5 ~ 22.9 정상\n",
        "#  그외 저체중"
      ],
      "metadata": {
        "id": "g561JFFBN61a"
      },
      "execution_count": 40,
      "outputs": []
    },
    {
      "cell_type": "code",
      "source": [
        "# 키와 몸무게 입력받아서 bmi 계산하고 미반 또는 정상 여부 출력\n",
        "height = float(input(\"키를 입력하세요(cm)\"))\n",
        "weight = float(input(\"몸무게를 입력하세요(kg)\"))\n",
        "bmi = weight /  ( (height*0.01)**2 )\n",
        "print('bmi',round(bmi,2) )\n",
        "if bmi >=25.0:\n",
        "  print('비만')\n",
        "elif bmi >= 23.0:\n",
        "  print('과체중')\n",
        "elif bmi >= 18.5:  # 18.5 ~ 22.9\n",
        "  print('정상')\n",
        "else:\n",
        "  print('저체중')"
      ],
      "metadata": {
        "colab": {
          "base_uri": "https://localhost:8080/"
        },
        "id": "pOpLSLzGSPaC",
        "outputId": "61e21e88-2530-4958-d926-7ce41c1db908"
      },
      "execution_count": 48,
      "outputs": [
        {
          "output_type": "stream",
          "name": "stdout",
          "text": [
            "키를 입력하세요(cm)180\n",
            "몸무게를 입력하세요(kg)70\n",
            "bmi 21.6\n",
            "정상\n"
          ]
        }
      ]
    },
    {
      "cell_type": "code",
      "source": [
        "# 키를 입력하면 bmi계산법에 의해서 정상이려면 몸무게의 범위\n",
        "# y = 18.5 * ( (x*0.01)**2 )\n",
        "# y = 22.9*( (x*0.01)**2 )\n",
        "x = float(input(\"키를 입력하세요\"))\n",
        "start = 18.5 * ( (x*0.01)**2 )\n",
        "end = 22.9*( (x*0.01)**2 )\n",
        "print('bmi 기준 정상범위의 몸무게는',round(start,1),'~', round(end,1),'입니다')"
      ],
      "metadata": {
        "colab": {
          "base_uri": "https://localhost:8080/"
        },
        "id": "logWik38SaUC",
        "outputId": "7dca824f-913c-42ad-9d9d-0b1b3d9491b2"
      },
      "execution_count": 51,
      "outputs": [
        {
          "output_type": "stream",
          "name": "stdout",
          "text": [
            "키를 입력하세요180\n",
            "bmi 기준 정상범위의 몸무게는 59.9 ~ 74.2 입니다\n"
          ]
        }
      ]
    },
    {
      "cell_type": "code",
      "source": [
        "# 나이는 (2023 - 태어난 연도)로 계산\n",
        "# 26세 이하 20세 이상이면 ‘대학생’\n",
        "# 20세 미만 17세 이상이면 ‘고등학생’ ⦁\n",
        "# 17세 미만 14세 이상이면 ‘중학생’ ⦁\n",
        "# 14세 미만 8세 이상이면 ‘초등학생’\n",
        "# 그 외의 경우는 ‘학생이 아닙니다.’ 출력\n",
        "\n",
        "year = int(input(\"태어난 년도를 입력하세요:\"))\n",
        "year = 2023 - year\n",
        "if year >=27:\n",
        "  print('‘학생이 아닙니다')\n",
        "elif year >= 20:   # 20 ~ 26\n",
        "  print(\"대학생\")\n",
        "elif year >=17:   # 17 ~ 19\n",
        "  print(\"고등학생\")\n",
        "elif year >=14:  # 14 ~ 16\n",
        "  print(\"중학생\")\n",
        "elif year >=8:  # 8 ~ 13\n",
        "  print(\"초등학생\")\n",
        "else:\n",
        "  print('학생이 아닙니다.')"
      ],
      "metadata": {
        "colab": {
          "base_uri": "https://localhost:8080/"
        },
        "id": "X-Y9ZdQ8VVV6",
        "outputId": "e58b5952-51b1-498d-867e-79561da80e05"
      },
      "execution_count": 57,
      "outputs": [
        {
          "output_type": "stream",
          "name": "stdout",
          "text": [
            "태어난 년도를 입력하세요:2003\n",
            "대학생\n"
          ]
        }
      ]
    },
    {
      "cell_type": "code",
      "source": [],
      "metadata": {
        "id": "IIVH7vmBaD2C"
      },
      "execution_count": 56,
      "outputs": []
    }
  ]
}