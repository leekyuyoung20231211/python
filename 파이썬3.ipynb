{
  "nbformat": 4,
  "nbformat_minor": 0,
  "metadata": {
    "colab": {
      "provenance": []
    },
    "kernelspec": {
      "name": "python3",
      "display_name": "Python 3"
    },
    "language_info": {
      "name": "python"
    }
  },
  "cells": [
    {
      "cell_type": "code",
      "execution_count": 1,
      "metadata": {
        "colab": {
          "base_uri": "https://localhost:8080/"
        },
        "id": "Vc9gC4gKt5cN",
        "outputId": "4d69344b-1a0b-401b-a9bd-0756ba3fd620"
      },
      "outputs": [
        {
          "output_type": "stream",
          "name": "stdout",
          "text": [
            "정렬전: [10, 5, 4, 8, 7, 9, 5, 2, 1]\n",
            "오름차순으로 정렬: [1, 2, 4, 5, 5, 7, 8, 9, 10]\n",
            "내림차순으로 정렬: [10, 9, 8, 7, 5, 5, 4, 2, 1]\n"
          ]
        }
      ],
      "source": [
        "list1 = [10,5,4,8,7,9,5,2,1]\n",
        "print('정렬전:',list1)\n",
        "list1 = sorted(list1)\n",
        "print('오름차순으로 정렬:',list1)\n",
        "list1 = list1[::-1]  # 뒤집기\n",
        "print('내림차순으로 정렬:',list1)"
      ]
    },
    {
      "cell_type": "markdown",
      "source": [
        "리스트의 연산\n",
        "  - + : 두개의 리스트를 합쳐 새로운 리스트를 만든다\n",
        "  - * : 리스트를 반복해서 새로운 리스트를 만든다"
      ],
      "metadata": {
        "id": "dGjyN8DWwdWH"
      }
    },
    {
      "cell_type": "code",
      "source": [
        "color1 = ['red','blue','green']\n",
        "color2 = ['orange','black','white']\n",
        "total_color = color1 + color2\n",
        "print('total_color : ', total_color)"
      ],
      "metadata": {
        "colab": {
          "base_uri": "https://localhost:8080/"
        },
        "id": "l-hyJy2Hvg0I",
        "outputId": "063b3e9e-722b-43a6-aa2f-dc1e45db8530"
      },
      "execution_count": 2,
      "outputs": [
        {
          "output_type": "stream",
          "name": "stdout",
          "text": [
            "total_color :  ['red', 'blue', 'green', 'orange', 'black', 'white']\n"
          ]
        }
      ]
    },
    {
      "cell_type": "code",
      "source": [
        "# color1 + 2   # 리스트끼리만 더할수 있음\n",
        "color1 + [2]"
      ],
      "metadata": {
        "colab": {
          "base_uri": "https://localhost:8080/"
        },
        "id": "Lse1NHT1w1Pr",
        "outputId": "d2c6637a-eaa6-4daf-a08c-dd10ef9d9864"
      },
      "execution_count": 4,
      "outputs": [
        {
          "output_type": "execute_result",
          "data": {
            "text/plain": [
              "['red', 'blue', 'green', 2]"
            ]
          },
          "metadata": {},
          "execution_count": 4
        }
      ]
    },
    {
      "cell_type": "code",
      "source": [
        "print('blue' in color2)\n",
        "print('blue' in color1)"
      ],
      "metadata": {
        "colab": {
          "base_uri": "https://localhost:8080/"
        },
        "id": "r2kZaZpyw5Nc",
        "outputId": "8a62f9d1-0b6b-48f3-ec5b-04ba33a466d4"
      },
      "execution_count": 5,
      "outputs": [
        {
          "output_type": "stream",
          "name": "stdout",
          "text": [
            "False\n",
            "True\n"
          ]
        }
      ]
    },
    {
      "cell_type": "markdown",
      "source": [
        "리스트 추가\n",
        "  - append\n",
        "    - 값 자체를 추가 : 표현한 그대로 추가\n",
        "  - extend\n",
        "    - 값이 아니라 리스트로 추가\n",
        "    - 그런데. 추가하려는게 값이면 특히 문자열이면\n",
        "    - 문자열 자체를 리스트로 간주하고 추가한다\n",
        "      - 숫자와 같이 연속적인 데이터집합형태가 아니면 에러"
      ],
      "metadata": {
        "id": "cI-7b3RZy9f1"
      }
    },
    {
      "cell_type": "code",
      "source": [
        "color = ['red','blue','green']\n",
        "color.append('white')\n",
        "print(color)"
      ],
      "metadata": {
        "colab": {
          "base_uri": "https://localhost:8080/"
        },
        "id": "jt6oYL9ryuGQ",
        "outputId": "0e15de8c-f6aa-40ed-ca74-9f5bebd6fc94"
      },
      "execution_count": 9,
      "outputs": [
        {
          "output_type": "stream",
          "name": "stdout",
          "text": [
            "['red', 'blue', 'green', 'white']\n"
          ]
        }
      ]
    },
    {
      "cell_type": "code",
      "source": [
        "color = ['red','blue','green']\n",
        "color.append(['white'])\n",
        "print(color)"
      ],
      "metadata": {
        "colab": {
          "base_uri": "https://localhost:8080/"
        },
        "id": "4nbYyX_Iyaln",
        "outputId": "347700a0-1d60-4e62-bd39-44150aa284cd"
      },
      "execution_count": 7,
      "outputs": [
        {
          "output_type": "stream",
          "name": "stdout",
          "text": [
            "['red', 'blue', 'green', ['white']]\n"
          ]
        }
      ]
    },
    {
      "cell_type": "code",
      "source": [
        "color = ['red','blue','green']\n",
        "color.extend(['white'])\n",
        "print(color)"
      ],
      "metadata": {
        "colab": {
          "base_uri": "https://localhost:8080/"
        },
        "id": "Yt0-o2XhynuM",
        "outputId": "0e5850e2-af46-4460-eda2-92a941afb85c"
      },
      "execution_count": 10,
      "outputs": [
        {
          "output_type": "stream",
          "name": "stdout",
          "text": [
            "['red', 'blue', 'green', 'white']\n"
          ]
        }
      ]
    },
    {
      "cell_type": "code",
      "source": [
        "color = ['red','blue','green']\n",
        "color.extend('white')  # 문자열은 문자의 집합\n",
        "print(color)"
      ],
      "metadata": {
        "colab": {
          "base_uri": "https://localhost:8080/"
        },
        "id": "wta885zuyqsU",
        "outputId": "d814cbfd-fe43-444e-f591-c5b981b7cb28"
      },
      "execution_count": 11,
      "outputs": [
        {
          "output_type": "stream",
          "name": "stdout",
          "text": [
            "['red', 'blue', 'green', 'w', 'h', 'i', 't', 'e']\n"
          ]
        }
      ]
    },
    {
      "cell_type": "code",
      "source": [
        "color = ['red','blue','green']\n",
        "color.extend(100)\n",
        "print(color)"
      ],
      "metadata": {
        "colab": {
          "base_uri": "https://localhost:8080/",
          "height": 216
        },
        "id": "ViJ-8EBly1T2",
        "outputId": "c3b2eee6-f65e-4aee-e12c-44f285d6f497"
      },
      "execution_count": 12,
      "outputs": [
        {
          "output_type": "error",
          "ename": "TypeError",
          "evalue": "ignored",
          "traceback": [
            "\u001b[0;31m---------------------------------------------------------------------------\u001b[0m",
            "\u001b[0;31mTypeError\u001b[0m                                 Traceback (most recent call last)",
            "\u001b[0;32m<ipython-input-12-932930706a26>\u001b[0m in \u001b[0;36m<cell line: 2>\u001b[0;34m()\u001b[0m\n\u001b[1;32m      1\u001b[0m \u001b[0mcolor\u001b[0m \u001b[0;34m=\u001b[0m \u001b[0;34m[\u001b[0m\u001b[0;34m'red'\u001b[0m\u001b[0;34m,\u001b[0m\u001b[0;34m'blue'\u001b[0m\u001b[0;34m,\u001b[0m\u001b[0;34m'green'\u001b[0m\u001b[0;34m]\u001b[0m\u001b[0;34m\u001b[0m\u001b[0;34m\u001b[0m\u001b[0m\n\u001b[0;32m----> 2\u001b[0;31m \u001b[0mcolor\u001b[0m\u001b[0;34m.\u001b[0m\u001b[0mextend\u001b[0m\u001b[0;34m(\u001b[0m\u001b[0;36m100\u001b[0m\u001b[0;34m)\u001b[0m\u001b[0;34m\u001b[0m\u001b[0;34m\u001b[0m\u001b[0m\n\u001b[0m\u001b[1;32m      3\u001b[0m \u001b[0mprint\u001b[0m\u001b[0;34m(\u001b[0m\u001b[0mcolor\u001b[0m\u001b[0;34m)\u001b[0m\u001b[0;34m\u001b[0m\u001b[0;34m\u001b[0m\u001b[0m\n",
            "\u001b[0;31mTypeError\u001b[0m: 'int' object is not iterable"
          ]
        }
      ]
    },
    {
      "cell_type": "code",
      "source": [
        "temp = 'white'  # 문자로 이루어진 리스트\n",
        "print(temp[0])\n",
        "print(temp[-1])\n",
        "print(temp[ 2 : ])"
      ],
      "metadata": {
        "colab": {
          "base_uri": "https://localhost:8080/"
        },
        "id": "Vf3X8BjXza0l",
        "outputId": "8c8d4fc7-7273-4c35-8dfc-b882e59940fe"
      },
      "execution_count": 16,
      "outputs": [
        {
          "output_type": "stream",
          "name": "stdout",
          "text": [
            "w\n",
            "e\n",
            "ite\n"
          ]
        }
      ]
    },
    {
      "cell_type": "markdown",
      "source": [
        "문자열은 문자들로 구성된 리스트"
      ],
      "metadata": {
        "id": "MqLx6OfQ0h0N"
      }
    },
    {
      "cell_type": "markdown",
      "source": [
        "추가 및 삭제\n",
        "  - 원하는 위치에 값을 추가\n",
        "    - insert(인덱스, 값)\n",
        "  - 삭제는 리스트에 있는 원소의 이름으로 삭제\n",
        "    - remove(원소의 값) : 처음 만나는 원소의 값만 삭제"
      ],
      "metadata": {
        "id": "aYvcdTYY1di1"
      }
    },
    {
      "cell_type": "code",
      "source": [
        "color = ['red','blue','green']\n",
        "color.insert(0,'orange')\n",
        "print(color)\n",
        "color.insert(3,'red')\n",
        "print(color)"
      ],
      "metadata": {
        "colab": {
          "base_uri": "https://localhost:8080/"
        },
        "id": "u6X3TXbh0HAB",
        "outputId": "c66aca2c-0566-44eb-e830-1f21feb42edd"
      },
      "execution_count": 29,
      "outputs": [
        {
          "output_type": "stream",
          "name": "stdout",
          "text": [
            "['orange', 'red', 'blue', 'green']\n",
            "['orange', 'red', 'blue', 'red', 'green']\n"
          ]
        }
      ]
    },
    {
      "cell_type": "code",
      "source": [
        "color.remove('red')\n",
        "print(color)"
      ],
      "metadata": {
        "colab": {
          "base_uri": "https://localhost:8080/"
        },
        "id": "uWefNTMP11-M",
        "outputId": "f7404efb-801b-4622-be84-0b82ea4b354d"
      },
      "execution_count": 30,
      "outputs": [
        {
          "output_type": "stream",
          "name": "stdout",
          "text": [
            "['orange', 'blue', 'red', 'green']\n"
          ]
        }
      ]
    },
    {
      "cell_type": "code",
      "source": [
        "# 값을 수정\n",
        "color = ['red','blue','green']\n",
        "color[0] = 'orange'\n",
        "print(color)"
      ],
      "metadata": {
        "colab": {
          "base_uri": "https://localhost:8080/"
        },
        "id": "gvqoDj862L3E",
        "outputId": "614a8d01-03a0-4e7c-be06-8774144a8199"
      },
      "execution_count": 31,
      "outputs": [
        {
          "output_type": "stream",
          "name": "stdout",
          "text": [
            "['orange', 'blue', 'green']\n"
          ]
        }
      ]
    },
    {
      "cell_type": "code",
      "source": [
        "del color[0]\n",
        "print(color)"
      ],
      "metadata": {
        "colab": {
          "base_uri": "https://localhost:8080/"
        },
        "id": "pNLkKied3iqy",
        "outputId": "b49322b5-89da-4359-e554-dff7d0ff14d1"
      },
      "execution_count": 32,
      "outputs": [
        {
          "output_type": "stream",
          "name": "stdout",
          "text": [
            "['blue', 'green']\n"
          ]
        }
      ]
    },
    {
      "cell_type": "markdown",
      "source": [
        "- 2차원 리스트\n",
        "  - 데이터로 리스트를 가지는 리스트\n",
        "- 1차원 리스트\n",
        "  - 데이터가 리스트가 아닌 실제 값"
      ],
      "metadata": {
        "id": "citJiwuB7xSq"
      }
    },
    {
      "cell_type": "code",
      "source": [
        "list1 = [1 , 2]   # 1차원 리스트\n",
        "list2 = [ [1 , 2],  [1 , 2]   ]  # 1차원 리스트를 원소로 하는 리스트 --> 2차원 리스트0\n",
        "list3 = [  [ [1 , 2],  [1 , 2]   ],  [ [1 , 2],  [1 , 2]   ]   ]  # 3차원 리스트\n",
        "# ....."
      ],
      "metadata": {
        "id": "wzY333lO3lqu"
      },
      "execution_count": 34,
      "outputs": []
    },
    {
      "cell_type": "code",
      "source": [
        "kor_score = [50,40,60,70,80]\n",
        "math_score = [55,45,65,75,85]\n",
        "eng_score = [53,43,63,73,83]\n",
        "midterm_score = [ kor_score, math_score, eng_score]\n",
        "print(midterm_score)"
      ],
      "metadata": {
        "colab": {
          "base_uri": "https://localhost:8080/"
        },
        "id": "XyWzDHvh8LWT",
        "outputId": "075fe2b9-455d-4336-830e-6a11c9843502"
      },
      "execution_count": 35,
      "outputs": [
        {
          "output_type": "stream",
          "name": "stdout",
          "text": [
            "[[50, 40, 60, 70, 80], [55, 45, 65, 75, 85], [53, 43, 63, 73, 83]]\n"
          ]
        }
      ]
    },
    {
      "cell_type": "code",
      "source": [
        "print( midterm_score[2][3] )"
      ],
      "metadata": {
        "colab": {
          "base_uri": "https://localhost:8080/"
        },
        "id": "Ja3ZWM-b-CE9",
        "outputId": "fcbcee52-7c26-44fb-c7df-c2c3c2d2fd8b"
      },
      "execution_count": 48,
      "outputs": [
        {
          "output_type": "stream",
          "name": "stdout",
          "text": [
            "73\n"
          ]
        }
      ]
    },
    {
      "cell_type": "markdown",
      "source": [
        "리스트의 메모리 방식\n",
        "  - 여러데이터를 생성한 실제 메모리를 참조한다.\n",
        "  - 변수는 데이터 한개만 저장가능하기 때문에\n",
        "  - 집합성 데이터는 주소값을 가지고 있다\n",
        "  - 그래서 주소를 알면 원본데이터를 수정할 수 있다"
      ],
      "metadata": {
        "id": "VQu_K4LqFMTW"
      }
    },
    {
      "cell_type": "code",
      "source": [
        "num1 = 10; num2 = 20\n",
        "numary = [ num1, num2 ]\n",
        "print(numary)\n",
        "num1 = 1000\n",
        "print(numary)"
      ],
      "metadata": {
        "colab": {
          "base_uri": "https://localhost:8080/"
        },
        "id": "NVg8Mymr-Hit",
        "outputId": "f9f151d5-8245-4f93-8a28-d1ebb34b3b1c"
      },
      "execution_count": 55,
      "outputs": [
        {
          "output_type": "stream",
          "name": "stdout",
          "text": [
            "[10, 20]\n",
            "[10, 20]\n"
          ]
        }
      ]
    },
    {
      "cell_type": "code",
      "source": [
        "num1 = [10]; num2 = [20]\n",
        "numary = [ num1, num2 ]\n",
        "print(numary)\n",
        "num1[0] = 1000\n",
        "print(numary)"
      ],
      "metadata": {
        "colab": {
          "base_uri": "https://localhost:8080/"
        },
        "id": "p1J3oNLv-OB3",
        "outputId": "f5320c88-6136-4116-937f-03012888fb91"
      },
      "execution_count": 56,
      "outputs": [
        {
          "output_type": "stream",
          "name": "stdout",
          "text": [
            "[[10], [20]]\n",
            "[[1000], [20]]\n"
          ]
        }
      ]
    },
    {
      "cell_type": "code",
      "source": [
        "num1 = 10\n",
        "num2 = num1\n",
        "print(num1, num2)\n",
        "num1 = 50\n",
        "print(num1, num2)"
      ],
      "metadata": {
        "colab": {
          "base_uri": "https://localhost:8080/"
        },
        "id": "gShP6j5wCgq9",
        "outputId": "970f4e42-643c-4542-cbe9-547210266077"
      },
      "execution_count": 58,
      "outputs": [
        {
          "output_type": "stream",
          "name": "stdout",
          "text": [
            "10 10\n",
            "50 10\n"
          ]
        }
      ]
    },
    {
      "cell_type": "code",
      "source": [
        "num1 = [10]\n",
        "num2 = num1\n",
        "print(num1, num2)\n",
        "num1[0] = 50\n",
        "print(num1, num2)"
      ],
      "metadata": {
        "colab": {
          "base_uri": "https://localhost:8080/"
        },
        "id": "8PMD9nrEH-Oe",
        "outputId": "beaf635a-6451-4175-c2e2-b58af9c645d3"
      },
      "execution_count": 59,
      "outputs": [
        {
          "output_type": "stream",
          "name": "stdout",
          "text": [
            "[10] [10]\n",
            "[50] [50]\n"
          ]
        }
      ]
    },
    {
      "cell_type": "code",
      "source": [
        "num1 = [10,20]\n",
        "num2 = [30,40]\n",
        "num3 = [ num1, num2 ]\n",
        "print(num3)\n",
        "num1[0] = 123\n",
        "print(num3)"
      ],
      "metadata": {
        "colab": {
          "base_uri": "https://localhost:8080/"
        },
        "id": "7MnSETE3IdHS",
        "outputId": "66f281dc-739c-46f5-9881-a29ae5811eeb"
      },
      "execution_count": 61,
      "outputs": [
        {
          "output_type": "stream",
          "name": "stdout",
          "text": [
            "[[10, 20], [30, 40]]\n",
            "[[123, 20], [30, 40]]\n"
          ]
        }
      ]
    },
    {
      "cell_type": "markdown",
      "source": [
        "- 파이썬에서 기본데이터 타입에 해당하는 데이터를 제외한\n",
        "- 리스트,튜플,익셔너리,set,객체(Object)는 모두 주소방식 이며 이러한 것을 참조형이라 한다\n",
        "- 정수형,실수형,부울형을 제외한 모든 타입은 참조형"
      ],
      "metadata": {
        "id": "W3Ot2KHHKKtf"
      }
    },
    {
      "cell_type": "code",
      "source": [
        "a = [5,4,3,2,1]\n",
        "b = [1,2,3,4,5]\n",
        "b = a   # 같은주소를 가지는 동일변수  둘다 a동 101호\n",
        "print(b)\n",
        "# b는 건들지 않고 a만 수정을 가하면 즉 a를 이용해서 정렬하면\n",
        "a.sort()\n",
        "# b도 a와 같은 변수이기때문에.. b를 출력하면 a로 정렬한 값을 출력한다.\n",
        "# 왜나면 둘다 같은 값을 가릭키는 동일 주소를 가지고 있기 때문\n",
        "print(b)"
      ],
      "metadata": {
        "colab": {
          "base_uri": "https://localhost:8080/"
        },
        "id": "IPypAetWJVZB",
        "outputId": "1869b5a3-528b-4181-a07b-14784fdcb9a5"
      },
      "execution_count": 62,
      "outputs": [
        {
          "output_type": "stream",
          "name": "stdout",
          "text": [
            "[5, 4, 3, 2, 1]\n",
            "[1, 2, 3, 4, 5]\n"
          ]
        }
      ]
    },
    {
      "cell_type": "code",
      "source": [
        "a = [5,4,3,2,1]\n",
        "b = [1,2,3,4,5]\n",
        "b = a[:]   # 값만 같게 하고 서로 주소는 다르게 하는 독립적인 변수로 만듦\n",
        "print(a)\n",
        "print(b)\n",
        "# a 리스트를 정렬\n",
        "a.sort()\n",
        "# b를 출력하면\n",
        "print(b)"
      ],
      "metadata": {
        "colab": {
          "base_uri": "https://localhost:8080/"
        },
        "id": "R2atvGFzNAzg",
        "outputId": "11a46481-2e54-476f-d0ac-3284f4145d8b"
      },
      "execution_count": 64,
      "outputs": [
        {
          "output_type": "stream",
          "name": "stdout",
          "text": [
            "[5, 4, 3, 2, 1]\n",
            "[5, 4, 3, 2, 1]\n",
            "[5, 4, 3, 2, 1]\n"
          ]
        }
      ]
    },
    {
      "cell_type": "code",
      "source": [
        "# input()을 이용해서 학생의 점수를 입력받는다. -- 총 5명\n",
        "# 5명의 점수중에서 가장 높은 점수는?\n",
        "# 1등과 2등의 점수는?\n",
        "# 모든학생들의 평균점수는?\n",
        "scores = []\n",
        "scores.append( int(input(\"점수를 입력하세요:\")) )\n",
        "scores.append( int(input(\"점수를 입력하세요:\")) )\n",
        "scores.append( int(input(\"점수를 입력하세요:\")) )\n",
        "scores.append( int(input(\"점수를 입력하세요:\")) )\n",
        "scores.append( int(input(\"점수를 입력하세요:\")) )\n",
        "print(\"가장높은 점수는 : \", max(scores) )\n",
        "# 내림차순으로 정렬해서 가장 앞에 있는 점수가 1등. 그 다음이 2등  [0], [1]\n",
        "scores = sorted(scores,reverse=True)  # 내림차순\n",
        "print(\"1등점수는:\",scores[0],\"2등점수는:\",scores[1])\n",
        "print(\"평균은:\",sum(scores) / len(scores))"
      ],
      "metadata": {
        "id": "ghU_DjtINhz_"
      },
      "execution_count": null,
      "outputs": []
    },
    {
      "cell_type": "markdown",
      "source": [
        "- 리스트 합치기 및 정렬 :\n",
        "  - 두개의 리스트를만들고 합쳐서 새로운 리스트를 만들고,\n",
        "  - 합친 리스트를 정렬, 역순으로 출력\n",
        "- 리스트에서 특정값을 찾기 :\n",
        "  - 주어진 리스트에서 특정 값의 인덱스를 통해서값을 출력,\n",
        "  - 특정한 값이 리스트에 있는지 in 연산자를 통해 확인\n",
        "- 2차원 리스트를 만들기\n",
        "  - [][] 이렇게 특정 위치의 값을 출력  \n"
      ],
      "metadata": {
        "id": "i_S99tlwPsis"
      }
    },
    {
      "cell_type": "code",
      "source": [],
      "metadata": {
        "id": "_rR45fdFPryg"
      },
      "execution_count": null,
      "outputs": []
    }
  ]
}