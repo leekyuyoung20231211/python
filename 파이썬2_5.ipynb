{
  "nbformat": 4,
  "nbformat_minor": 0,
  "metadata": {
    "colab": {
      "provenance": []
    },
    "kernelspec": {
      "name": "python3",
      "display_name": "Python 3"
    },
    "language_info": {
      "name": "python"
    }
  },
  "cells": [
    {
      "cell_type": "markdown",
      "source": [
        "람다 함수"
      ],
      "metadata": {
        "id": "EtQdjkbaU_Hq"
      }
    },
    {
      "cell_type": "code",
      "execution_count": 3,
      "metadata": {
        "colab": {
          "base_uri": "https://localhost:8080/"
        },
        "id": "-IB6hgLXU8yD",
        "outputId": "196037bf-5b1e-4454-ab06-4230f28a697a"
      },
      "outputs": [
        {
          "output_type": "execute_result",
          "data": {
            "text/plain": [
              "({'다': 10, '가': 100, '나': 15}, dict_items([('다', 10), ('가', 100), ('나', 15)]))"
            ]
          },
          "metadata": {},
          "execution_count": 3
        }
      ],
      "source": [
        "a = { \"다\":10, \"가\":100, \"나\" : 15  }\n",
        "a, a.items()"
      ]
    },
    {
      "cell_type": "code",
      "source": [
        "def s(x):\n",
        "  return x[1]  #  (키, 벨류)  에서 벨류를 뜻한다\n",
        "\n",
        "sorted(a.items(),key = s)   # 딕셔너리 정렬은 items()의 데이터들중에 키 또는 값을 기준을 할건지 정한다\n",
        "# 정할때는 items의 (키,벨류) 구조를 전달받는 함수로 기준을 표현"
      ],
      "metadata": {
        "colab": {
          "base_uri": "https://localhost:8080/"
        },
        "id": "P2l5DvH9VAU1",
        "outputId": "5378a4a8-b620-48de-c160-0ff04f375ff7"
      },
      "execution_count": 8,
      "outputs": [
        {
          "output_type": "execute_result",
          "data": {
            "text/plain": [
              "[('다', 10), ('나', 15), ('가', 100)]"
            ]
          },
          "metadata": {},
          "execution_count": 8
        }
      ]
    },
    {
      "cell_type": "code",
      "source": [
        "# 키를 기준으로 정렬\n",
        "def s(x):\n",
        "  return x[0]  #  (키, 벨류)  에서 벨류를 뜻한다\n",
        "sorted(a.items(),key = s)"
      ],
      "metadata": {
        "colab": {
          "base_uri": "https://localhost:8080/"
        },
        "id": "zKWacYsQaYY0",
        "outputId": "b36bdcf1-0254-46ad-d99c-87a3efa8e46c"
      },
      "execution_count": 9,
      "outputs": [
        {
          "output_type": "execute_result",
          "data": {
            "text/plain": [
              "[('가', 100), ('나', 15), ('다', 10)]"
            ]
          },
          "metadata": {},
          "execution_count": 9
        }
      ]
    },
    {
      "cell_type": "code",
      "source": [
        "sorted(a.items(),key = lambda x: x[0])   # a 라는 딕셔너리의 키 값을 기준으로"
      ],
      "metadata": {
        "colab": {
          "base_uri": "https://localhost:8080/"
        },
        "id": "8b3LHpEladQG",
        "outputId": "49eefd94-c581-4061-f2fc-7fb8c0173427"
      },
      "execution_count": 14,
      "outputs": [
        {
          "output_type": "execute_result",
          "data": {
            "text/plain": [
              "[('가', 100), ('나', 15), ('다', 10)]"
            ]
          },
          "metadata": {},
          "execution_count": 14
        }
      ]
    },
    {
      "cell_type": "code",
      "source": [
        "sorted(a.items(),key = lambda x: x[1])"
      ],
      "metadata": {
        "colab": {
          "base_uri": "https://localhost:8080/"
        },
        "id": "38cx26QYcD68",
        "outputId": "d68c4e85-3d0b-4ebf-9eb1-ddf5c68a45e7"
      },
      "execution_count": 15,
      "outputs": [
        {
          "output_type": "execute_result",
          "data": {
            "text/plain": [
              "[('다', 10), ('나', 15), ('가', 100)]"
            ]
          },
          "metadata": {},
          "execution_count": 15
        }
      ]
    },
    {
      "cell_type": "code",
      "source": [
        "# 인수는 x, y 라는 값으로 2개 받고 f라는 인수는\n",
        "def calc( x, y , f ):\n",
        "  return f(x,y)   # 함수로 사용한다. 즉 함수를 전달받는다"
      ],
      "metadata": {
        "id": "a6VQnat1cNIL"
      },
      "execution_count": 17,
      "outputs": []
    },
    {
      "cell_type": "code",
      "source": [
        "print( calc(10,2,f = lambda x,y: x+y) )\n",
        "print( calc(10,2,f = lambda x,y: x-y) )\n",
        "print( calc(10,2,f = lambda x,y: x*y) )\n",
        "print( calc(10,2,f = lambda x,y: x/y) )"
      ],
      "metadata": {
        "colab": {
          "base_uri": "https://localhost:8080/"
        },
        "id": "JJNuXPG7dAEs",
        "outputId": "55c9c742-9772-409f-bf05-fb0bad311039"
      },
      "execution_count": 23,
      "outputs": [
        {
          "output_type": "stream",
          "name": "stdout",
          "text": [
            "12\n",
            "8\n",
            "20\n",
            "5.0\n"
          ]
        }
      ]
    },
    {
      "cell_type": "markdown",
      "source": [
        "Map() 함수 이용하기"
      ],
      "metadata": {
        "id": "-q3wWw9Wf5I4"
      }
    },
    {
      "cell_type": "code",
      "source": [
        "list_1 = [1, 2, 3, 4, 5]\n",
        "list(map(lambda x:x**2, list_1))"
      ],
      "metadata": {
        "colab": {
          "base_uri": "https://localhost:8080/"
        },
        "id": "z_J395fdfq7H",
        "outputId": "3f0db6b9-1a85-45d1-ed4c-eac93a177d92"
      },
      "execution_count": 25,
      "outputs": [
        {
          "output_type": "execute_result",
          "data": {
            "text/plain": [
              "[1, 4, 9, 16, 25]"
            ]
          },
          "metadata": {},
          "execution_count": 25
        }
      ]
    },
    {
      "cell_type": "code",
      "source": [
        "list(map(lambda x:x+10, list_1))"
      ],
      "metadata": {
        "colab": {
          "base_uri": "https://localhost:8080/"
        },
        "id": "b18jww1ghCK_",
        "outputId": "8c6ea65d-37da-4390-c8f1-9481e6058e75"
      },
      "execution_count": 26,
      "outputs": [
        {
          "output_type": "execute_result",
          "data": {
            "text/plain": [
              "[11, 12, 13, 14, 15]"
            ]
          },
          "metadata": {},
          "execution_count": 26
        }
      ]
    },
    {
      "cell_type": "code",
      "source": [
        "list_1 = ['1', '2', '3', '4', '5']\n",
        "# 리스트에 있는 문자형 숫자를 숫자로 변경   int('1')\n",
        "list(map( lambda x : int(x)  , list_1 ))"
      ],
      "metadata": {
        "colab": {
          "base_uri": "https://localhost:8080/"
        },
        "id": "degd1suIhDvw",
        "outputId": "87307242-fb83-4c75-f87b-bfdc5d2edb0b"
      },
      "execution_count": 28,
      "outputs": [
        {
          "output_type": "execute_result",
          "data": {
            "text/plain": [
              "[1, 2, 3, 4, 5]"
            ]
          },
          "metadata": {},
          "execution_count": 28
        }
      ]
    },
    {
      "cell_type": "code",
      "source": [
        "[ int(i)     for i in list_1      ]"
      ],
      "metadata": {
        "colab": {
          "base_uri": "https://localhost:8080/"
        },
        "id": "fVUhJ67yh_3a",
        "outputId": "55e2660a-1293-43dc-9084-316deaaaa3ea"
      },
      "execution_count": 29,
      "outputs": [
        {
          "output_type": "execute_result",
          "data": {
            "text/plain": [
              "[1, 2, 3, 4, 5]"
            ]
          },
          "metadata": {},
          "execution_count": 29
        }
      ]
    },
    {
      "cell_type": "code",
      "source": [
        "# 공백을 기준으로 국 영 수 과목의 점수를 입력해서 kor eng math 라는 변수에 넣고\n",
        "# 모든 과목을 더하세요  kor+eng+math\n",
        "data = input(\"국 영 수 점수를 공백을 기준으로 한줄에 입력하세요\")   # \"80 90 95\"\n",
        "kor,eng,math = [ int(i) for i in  data.split()]\n",
        "kor+eng+math"
      ],
      "metadata": {
        "colab": {
          "base_uri": "https://localhost:8080/"
        },
        "id": "wYAVnNBtiTLx",
        "outputId": "13d2ba0d-7430-4a2d-d8ba-bc17b93d7b98"
      },
      "execution_count": 30,
      "outputs": [
        {
          "name": "stdout",
          "output_type": "stream",
          "text": [
            "국 영 수 점수를 공백을 기준으로 한줄에 입력하세요50 60 70\n"
          ]
        },
        {
          "output_type": "execute_result",
          "data": {
            "text/plain": [
              "180"
            ]
          },
          "metadata": {},
          "execution_count": 30
        }
      ]
    },
    {
      "cell_type": "code",
      "source": [
        "data = input(\"국 영 수 점수를 공백을 기준으로 한줄에 입력하세요\")\n",
        "kor,eng,math =  map(lambda x : int(x), data.split()  )\n",
        "kor+eng+math"
      ],
      "metadata": {
        "colab": {
          "base_uri": "https://localhost:8080/"
        },
        "id": "jkFRGmE7kb9_",
        "outputId": "dd4794b4-9342-4382-af6f-2d0aa5ca7502"
      },
      "execution_count": 33,
      "outputs": [
        {
          "name": "stdout",
          "output_type": "stream",
          "text": [
            "국 영 수 점수를 공백을 기준으로 한줄에 입력하세요50 60 70\n"
          ]
        },
        {
          "output_type": "execute_result",
          "data": {
            "text/plain": [
              "180"
            ]
          },
          "metadata": {},
          "execution_count": 33
        }
      ]
    },
    {
      "cell_type": "markdown",
      "source": [
        "map\n",
        "  - 단일 리스트 뿐만 아니라 2개 이상의 시퀀스 자료(리스트나 튜플, 문자열처럼 집합형태)\n",
        "  - 단일 집합이면 각 원소에 함수를 적용\n",
        "  - 여러개면 각 집합의 1:1로 원소들을 함수를 적용"
      ],
      "metadata": {
        "id": "E7sZWg8VmNiX"
      }
    },
    {
      "cell_type": "code",
      "source": [
        "a = [1, 2, 3]\n",
        "b = [4, 5, 6]\n",
        "c = [7, 8, 9]\n",
        "list(map(lambda x,y,z : x+y+z, a,b,c))"
      ],
      "metadata": {
        "colab": {
          "base_uri": "https://localhost:8080/"
        },
        "id": "77FujjZyknoJ",
        "outputId": "5382e76a-7e95-4071-a95c-5c11d151238f"
      },
      "execution_count": 35,
      "outputs": [
        {
          "output_type": "execute_result",
          "data": {
            "text/plain": [
              "[12, 15, 18]"
            ]
          },
          "metadata": {},
          "execution_count": 35
        }
      ]
    },
    {
      "cell_type": "code",
      "source": [
        "[ a+b+c for a,b,c in  list(zip(a,b,c)) ]"
      ],
      "metadata": {
        "colab": {
          "base_uri": "https://localhost:8080/"
        },
        "id": "V9xI-Z6LnKEJ",
        "outputId": "f4a99537-ef6c-467b-e5a8-e75e3e946922"
      },
      "execution_count": 38,
      "outputs": [
        {
          "output_type": "execute_result",
          "data": {
            "text/plain": [
              "[12, 15, 18]"
            ]
          },
          "metadata": {},
          "execution_count": 38
        }
      ]
    },
    {
      "cell_type": "markdown",
      "source": [
        "- 람다\n",
        "  - 이름없는 함수로 주로 함수를 인수로 받는 함수에 적용\n",
        "  - map, sorted, ..\n",
        "- zip()\n",
        "  - 시퀀스 자료형을 튜플로 각각 1:1로 묶는다\n",
        "- map\n",
        "  - 시퀀스 자료형에 함수를 적용한다\n",
        "\n",
        "- 리스트 컴프리핸션\n",
        "  - for문을 이용해서 간단한 작업을 리스트로 쉽게 변환"
      ],
      "metadata": {
        "id": "viVMk-9Wn4rw"
      }
    },
    {
      "cell_type": "code",
      "source": [],
      "metadata": {
        "id": "-jhd8rpLoWEp"
      },
      "execution_count": null,
      "outputs": []
    }
  ]
}