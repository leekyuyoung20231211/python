{
  "nbformat": 4,
  "nbformat_minor": 0,
  "metadata": {
    "colab": {
      "provenance": []
    },
    "kernelspec": {
      "name": "python3",
      "display_name": "Python 3"
    },
    "language_info": {
      "name": "python"
    }
  },
  "cells": [
    {
      "cell_type": "code",
      "execution_count": 1,
      "metadata": {
        "id": "OyI80oFSdNsH"
      },
      "outputs": [],
      "source": [
        "from IPython.display import Image"
      ]
    },
    {
      "cell_type": "code",
      "source": [
        "Image(url='https://raw.githubusercontent.com/rickiepark/ml-with-pytorch/main/ch15/figures/15_01.png', width=500)"
      ],
      "metadata": {
        "colab": {
          "base_uri": "https://localhost:8080/",
          "height": 207
        },
        "id": "LfOrnMzjdVxk",
        "outputId": "29b1eb68-a310-4552-d9b4-928abdff8ea7"
      },
      "execution_count": 2,
      "outputs": [
        {
          "output_type": "execute_result",
          "data": {
            "text/html": [
              "<img src=\"https://raw.githubusercontent.com/rickiepark/ml-with-pytorch/main/ch15/figures/15_01.png\" width=\"500\"/>"
            ],
            "text/plain": [
              "<IPython.core.display.Image object>"
            ]
          },
          "metadata": {},
          "execution_count": 2
        }
      ]
    },
    {
      "cell_type": "code",
      "source": [],
      "metadata": {
        "id": "mEo5jMvHeHHV"
      },
      "execution_count": null,
      "outputs": []
    },
    {
      "cell_type": "markdown",
      "source": [
        "순차데이터 VS 시계열 데이터"
      ],
      "metadata": {
        "id": "j_hsJEQCeRPR"
      }
    },
    {
      "cell_type": "markdown",
      "source": [
        "시권스 모델링 종류"
      ],
      "metadata": {
        "id": "r1nmQJU6eaDD"
      }
    },
    {
      "cell_type": "code",
      "source": [
        "Image(url='https://raw.githubusercontent.com/rickiepark/ml-with-pytorch/main/ch15/figures/15_02.png', width=500)"
      ],
      "metadata": {
        "colab": {
          "base_uri": "https://localhost:8080/",
          "height": 310
        },
        "id": "-yZ6svtSeTlH",
        "outputId": "13afec94-125d-4b9d-fb8e-fb363e1e1167"
      },
      "execution_count": 3,
      "outputs": [
        {
          "output_type": "execute_result",
          "data": {
            "text/html": [
              "<img src=\"https://raw.githubusercontent.com/rickiepark/ml-with-pytorch/main/ch15/figures/15_02.png\" width=\"500\"/>"
            ],
            "text/plain": [
              "<IPython.core.display.Image object>"
            ]
          },
          "metadata": {},
          "execution_count": 3
        }
      ]
    },
    {
      "cell_type": "markdown",
      "source": [
        "RNN"
      ],
      "metadata": {
        "id": "8bYPZDNsesGw"
      }
    },
    {
      "cell_type": "code",
      "source": [
        "Image(url='https://raw.githubusercontent.com/rickiepark/ml-with-pytorch/main/ch15/figures/15_03.png', width=500)"
      ],
      "metadata": {
        "colab": {
          "base_uri": "https://localhost:8080/",
          "height": 227
        },
        "id": "k6AScEAkec86",
        "outputId": "0553944d-6275-48e9-d486-98c3e4cd5594"
      },
      "execution_count": 4,
      "outputs": [
        {
          "output_type": "execute_result",
          "data": {
            "text/html": [
              "<img src=\"https://raw.githubusercontent.com/rickiepark/ml-with-pytorch/main/ch15/figures/15_03.png\" width=\"500\"/>"
            ],
            "text/plain": [
              "<IPython.core.display.Image object>"
            ]
          },
          "metadata": {},
          "execution_count": 4
        }
      ]
    },
    {
      "cell_type": "code",
      "source": [
        "Image(url='https://raw.githubusercontent.com/rickiepark/ml-with-pytorch/main/ch15/figures/15_04.png', width=500)"
      ],
      "metadata": {
        "colab": {
          "base_uri": "https://localhost:8080/",
          "height": 443
        },
        "id": "nDT-u3flfAj3",
        "outputId": "d673a52f-0c10-402e-f1ad-ae8f5572a3bd"
      },
      "execution_count": 5,
      "outputs": [
        {
          "output_type": "execute_result",
          "data": {
            "text/html": [
              "<img src=\"https://raw.githubusercontent.com/rickiepark/ml-with-pytorch/main/ch15/figures/15_04.png\" width=\"500\"/>"
            ],
            "text/plain": [
              "<IPython.core.display.Image object>"
            ]
          },
          "metadata": {},
          "execution_count": 5
        }
      ]
    },
    {
      "cell_type": "markdown",
      "source": [
        "RNN의 활성화 출력 계산"
      ],
      "metadata": {
        "id": "x64USsKSfRLH"
      }
    },
    {
      "cell_type": "code",
      "source": [
        "Image(url='https://raw.githubusercontent.com/rickiepark/ml-with-pytorch/main/ch15/figures/15_05.png', width=500)"
      ],
      "metadata": {
        "colab": {
          "base_uri": "https://localhost:8080/",
          "height": 216
        },
        "id": "3FtScLYDfrM_",
        "outputId": "0fd1a268-7971-4dba-f6a5-a38eb64edb11"
      },
      "execution_count": 6,
      "outputs": [
        {
          "output_type": "execute_result",
          "data": {
            "text/html": [
              "<img src=\"https://raw.githubusercontent.com/rickiepark/ml-with-pytorch/main/ch15/figures/15_05.png\" width=\"500\"/>"
            ],
            "text/plain": [
              "<IPython.core.display.Image object>"
            ]
          },
          "metadata": {},
          "execution_count": 6
        }
      ]
    },
    {
      "cell_type": "code",
      "source": [
        "import torch\n",
        "import torch.nn as nn\n",
        "torch.manual_seed(1)"
      ],
      "metadata": {
        "colab": {
          "base_uri": "https://localhost:8080/"
        },
        "id": "_ZbnnZMvfr2k",
        "outputId": "f7e4a1b6-abd6-4be5-92f3-b4fc7d9975a7"
      },
      "execution_count": 7,
      "outputs": [
        {
          "output_type": "execute_result",
          "data": {
            "text/plain": [
              "<torch._C.Generator at 0x7adaba1a1fd0>"
            ]
          },
          "metadata": {},
          "execution_count": 7
        }
      ]
    },
    {
      "cell_type": "code",
      "source": [
        "rnn_layer = nn.RNN(input_size=5, hidden_size=2, num_layers=1, batch_first=True)\n",
        "#(배치크기, 시퀀스길이,특징벡터크기)"
      ],
      "metadata": {
        "id": "BrlZAV9AgDI9"
      },
      "execution_count": 8,
      "outputs": []
    },
    {
      "cell_type": "code",
      "source": [
        "layer_name = ['입력에대한 가중치','은닉상태에 대한 가중치','바이어스','추가적인 바이어스(역방향 순환연결)']\n",
        "for idx,weight in enumerate(rnn_layer.all_weights[0]):\n",
        "  print(f\"{layer_name[idx]}\\ndata:{weight}\\n\\n\")"
      ],
      "metadata": {
        "colab": {
          "base_uri": "https://localhost:8080/"
        },
        "id": "5qP_iNxzghxf",
        "outputId": "6381f3af-7a58-48ec-dc44-de14109daa34"
      },
      "execution_count": 17,
      "outputs": [
        {
          "output_type": "stream",
          "name": "stdout",
          "text": [
            "입력에대한 가중치\n",
            "data:Parameter containing:\n",
            "tensor([[ 0.3643, -0.3121, -0.1371,  0.3319, -0.6657],\n",
            "        [ 0.4241, -0.1455,  0.3597,  0.0983, -0.0866]], requires_grad=True)\n",
            "\n",
            "\n",
            "은닉상태에 대한 가중치\n",
            "data:Parameter containing:\n",
            "tensor([[ 0.1961,  0.0349],\n",
            "        [ 0.2583, -0.2756]], requires_grad=True)\n",
            "\n",
            "\n",
            "바이어스\n",
            "data:Parameter containing:\n",
            "tensor([-0.0516, -0.0637], requires_grad=True)\n",
            "\n",
            "\n",
            "추가적인 바이어스(역방향 순환연결)\n",
            "data:Parameter containing:\n",
            "tensor([ 0.1025, -0.0028], requires_grad=True)\n",
            "\n",
            "\n"
          ]
        }
      ]
    },
    {
      "cell_type": "code",
      "source": [
        "w_xh = rnn_layer.weight_ih_l0\n",
        "w_hh = rnn_layer.weight_hh_l0\n",
        "b_xh = rnn_layer.bias_ih_l0\n",
        "b_hh = rnn_layer.bias_hh_l0\n",
        "print(f'w_xh size {w_xh.shape}')\n",
        "print(f'w_hh size {w_hh.shape}')\n",
        "print(f'b_xh size {b_xh.shape}')\n",
        "print(f'b_hh size {b_hh.shape}')"
      ],
      "metadata": {
        "colab": {
          "base_uri": "https://localhost:8080/"
        },
        "id": "Ugg9qm88gvjM",
        "outputId": "def25666-0727-4243-cec8-05813e32183c"
      },
      "execution_count": 20,
      "outputs": [
        {
          "output_type": "stream",
          "name": "stdout",
          "text": [
            "w_xh size torch.Size([2, 5])\n",
            "w_hh size torch.Size([2, 2])\n",
            "b_xh size torch.Size([2])\n",
            "b_hh size torch.Size([2])\n"
          ]
        }
      ]
    },
    {
      "cell_type": "code",
      "source": [
        "# 각 시간 단계에서 길이가 5인 벡터로 이루어진 시퀀스\n",
        "x_seq = torch.tensor([ [1.0]*5, [2.0]*5, [3.0]*5  ]  ).float()\n",
        "x_seq"
      ],
      "metadata": {
        "colab": {
          "base_uri": "https://localhost:8080/"
        },
        "id": "XobtG7S3irOF",
        "outputId": "935ece58-3b84-4fc0-d002-330a371f851b"
      },
      "execution_count": 21,
      "outputs": [
        {
          "output_type": "execute_result",
          "data": {
            "text/plain": [
              "tensor([[1., 1., 1., 1., 1.],\n",
              "        [2., 2., 2., 2., 2.],\n",
              "        [3., 3., 3., 3., 3.]])"
            ]
          },
          "metadata": {},
          "execution_count": 21
        }
      ]
    },
    {
      "cell_type": "code",
      "source": [
        "# 간단한 RNN 출력\n",
        "torch.reshape(x_seq, (1,3,5) ).shape  # 배치크기, 시퀀스 길이, 특징벡터의 크기"
      ],
      "metadata": {
        "colab": {
          "base_uri": "https://localhost:8080/"
        },
        "id": "Pxbrm5gQjmMP",
        "outputId": "04ed8c70-db95-49bd-afb0-27bedee31c84"
      },
      "execution_count": 23,
      "outputs": [
        {
          "output_type": "execute_result",
          "data": {
            "text/plain": [
              "torch.Size([1, 3, 5])"
            ]
          },
          "metadata": {},
          "execution_count": 23
        }
      ]
    },
    {
      "cell_type": "code",
      "source": [
        "output, hn = rnn_layer(torch.reshape(x_seq, (1,3,5) ))  # 배치크기, 시퀀스길이, 은닉상태의 크기"
      ],
      "metadata": {
        "id": "4EGemlObkEdF"
      },
      "execution_count": 29,
      "outputs": []
    },
    {
      "cell_type": "code",
      "source": [
        "# 수동으로 출력 계산\n",
        "out_man = []\n",
        "for t in range(3):\n",
        "  xt = torch.reshape(x_seq[t], (1,5))\n",
        "  print(f'타임스텝{t}=>')\n",
        "  print('   입력      :',xt.numpy())\n",
        "\n",
        "  ht = torch.matmul(xt, torch.transpose(w_xh, 0, 1)) + b_xh\n",
        "  print('   은닉    :',ht.detach().numpy())\n",
        "\n",
        "  if t>0:\n",
        "    prev_h = out_man[t-1]\n",
        "  else:\n",
        "    prev_h = torch.zeros((ht.shape))\n",
        "  ot = ht + torch.matmul(prev_h, torch.transpose(w_hh, 0, 1)) + b_hh\n",
        "  ot = torch.tanh(ot)\n",
        "  out_man.append(ot)\n",
        "  print(' 출력(수동) : ', ot.detach().numpy())\n",
        "  print(' RNN 출력 : ', output[:,t].detach().numpy() )\n",
        "  print()\n",
        "\n",
        "\n"
      ],
      "metadata": {
        "colab": {
          "base_uri": "https://localhost:8080/"
        },
        "id": "ohzIRa3UlZnv",
        "outputId": "23bcccfa-6d34-485a-c031-b14515d67639"
      },
      "execution_count": 30,
      "outputs": [
        {
          "output_type": "stream",
          "name": "stdout",
          "text": [
            "타임스텝0=>\n",
            "   입력      : [[1. 1. 1. 1. 1.]]\n",
            "   은닉    : [[-0.4701929   0.58639044]]\n",
            " 출력(수동) :  [[-0.3519801   0.52525216]]\n",
            " RNN 출력 :  [[-0.3519801   0.52525216]]\n",
            "\n",
            "타임스텝1=>\n",
            "   입력      : [[2. 2. 2. 2. 2.]]\n",
            "   은닉    : [[-0.88883156  1.2364398 ]]\n",
            " 출력(수동) :  [[-0.68424344  0.76074266]]\n",
            " RNN 출력 :  [[-0.68424344  0.76074266]]\n",
            "\n",
            "타임스텝2=>\n",
            "   입력      : [[3. 3. 3. 3. 3.]]\n",
            "   은닉    : [[-1.3074702  1.8864892]]\n",
            " 출력(수동) :  [[-0.8649416  0.9046636]]\n",
            " RNN 출력 :  [[-0.8649416  0.9046636]]\n",
            "\n"
          ]
        }
      ]
    },
    {
      "cell_type": "markdown",
      "source": [
        "긴 시퀀스 학습의 어려움"
      ],
      "metadata": {
        "id": "CG_vidavqG8G"
      }
    },
    {
      "cell_type": "code",
      "source": [
        "Image(url='https://raw.githubusercontent.com/rickiepark/ml-with-pytorch/main/ch15/figures/15_08.png', width=500)"
      ],
      "metadata": {
        "colab": {
          "base_uri": "https://localhost:8080/",
          "height": 256
        },
        "id": "b-x1Z-kHlyR5",
        "outputId": "c5d418a5-6c05-4a42-b829-dfe74b1bdae3"
      },
      "execution_count": 31,
      "outputs": [
        {
          "output_type": "execute_result",
          "data": {
            "text/html": [
              "<img src=\"https://raw.githubusercontent.com/rickiepark/ml-with-pytorch/main/ch15/figures/15_08.png\" width=\"500\"/>"
            ],
            "text/plain": [
              "<IPython.core.display.Image object>"
            ]
          },
          "metadata": {},
          "execution_count": 31
        }
      ]
    },
    {
      "cell_type": "markdown",
      "source": [
        "LSTM 셀"
      ],
      "metadata": {
        "id": "FJKxvmWuqL_L"
      }
    },
    {
      "cell_type": "code",
      "source": [
        "Image(url='https://raw.githubusercontent.com/rickiepark/ml-with-pytorch/main/ch15/figures/15_09.png', width=500)"
      ],
      "metadata": {
        "colab": {
          "base_uri": "https://localhost:8080/",
          "height": 277
        },
        "id": "Rp2fktTpqXxt",
        "outputId": "cc2228eb-d555-4f00-a7f8-9de82173905c"
      },
      "execution_count": 32,
      "outputs": [
        {
          "output_type": "execute_result",
          "data": {
            "text/html": [
              "<img src=\"https://raw.githubusercontent.com/rickiepark/ml-with-pytorch/main/ch15/figures/15_09.png\" width=\"500\"/>"
            ],
            "text/plain": [
              "<IPython.core.display.Image object>"
            ]
          },
          "metadata": {},
          "execution_count": 32
        }
      ]
    },
    {
      "cell_type": "code",
      "source": [],
      "metadata": {
        "id": "GJ16GZQMqaSc"
      },
      "execution_count": null,
      "outputs": []
    }
  ]
}