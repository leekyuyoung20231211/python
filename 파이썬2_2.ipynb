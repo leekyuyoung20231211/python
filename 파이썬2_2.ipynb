{
  "nbformat": 4,
  "nbformat_minor": 0,
  "metadata": {
    "colab": {
      "provenance": []
    },
    "kernelspec": {
      "name": "python3",
      "display_name": "Python 3"
    },
    "language_info": {
      "name": "python"
    }
  },
  "cells": [
    {
      "cell_type": "code",
      "execution_count": 2,
      "metadata": {
        "id": "5h5llbX_mveu"
      },
      "outputs": [],
      "source": [
        "def f1(x):\n",
        "  if x == 1:\n",
        "    return 1\n",
        "  return x + f1(x-1)"
      ]
    },
    {
      "cell_type": "code",
      "source": [
        "# f1(5)\n",
        "# f1(5) = 5 + f1(4)\n",
        "# f1(4) = 4 + f1(3)\n",
        "# f1(3) = 3 + f1(2)\n",
        "# f1(2) = 2 + f1(1)\n",
        "# f1(1) = 1\n",
        "\n",
        "# f1(2) = 2 + 1\n",
        "# f1(3) = 3 + 2 + 1\n",
        "# f1(4) = 4 + 3 + 2 + 1\n",
        "# f1(5) = 5 + 4 + 3 + 2 + 1"
      ],
      "metadata": {
        "id": "WUUwZgIam5IL"
      },
      "execution_count": null,
      "outputs": []
    },
    {
      "cell_type": "code",
      "source": [
        "f1(5)"
      ],
      "metadata": {
        "colab": {
          "base_uri": "https://localhost:8080/"
        },
        "id": "QvpmkTMkoBJX",
        "outputId": "d4e2f5b2-db6c-4003-db30-3152701b9674"
      },
      "execution_count": 3,
      "outputs": [
        {
          "output_type": "execute_result",
          "data": {
            "text/plain": [
              "15"
            ]
          },
          "metadata": {},
          "execution_count": 3
        }
      ]
    },
    {
      "cell_type": "markdown",
      "source": [
        "함수의 인수,매개변수,argument, parameter"
      ],
      "metadata": {
        "id": "KqOHCHdloVoC"
      }
    },
    {
      "cell_type": "code",
      "source": [
        "def f2( number, name ):\n",
        "  print(f'숫자는:{number} 이름은:{name}')"
      ],
      "metadata": {
        "id": "EpoOaReqoL7w"
      },
      "execution_count": 4,
      "outputs": []
    },
    {
      "cell_type": "markdown",
      "source": [
        "키워드 매개변수\n",
        "  - 사용할때 매개변수를 지정해서 값을 할당한다\n",
        "  - 일반매개변수는 키워드 매개변수 다음에 올수 없다\n",
        "  - 키워드 매개변수와 일반매개변수를 혼용해서 사용할때는 일반 매개변수 다음에 반드시 키워드 매개변수를 사용한다.  "
      ],
      "metadata": {
        "id": "R_7txlvtp2M3"
      }
    },
    {
      "cell_type": "code",
      "source": [
        "f2('홍길동', 20)\n",
        "f2(20, '홍길동')"
      ],
      "metadata": {
        "colab": {
          "base_uri": "https://localhost:8080/"
        },
        "id": "V54hOWjGpQCT",
        "outputId": "28b6f8db-818f-4aa4-9340-98d84ac67109"
      },
      "execution_count": 6,
      "outputs": [
        {
          "output_type": "stream",
          "name": "stdout",
          "text": [
            "숫자는:홍길동 이름은:20\n",
            "숫자는:20 이름은:홍길동\n"
          ]
        }
      ]
    },
    {
      "cell_type": "code",
      "source": [
        "f2(name ='홍길동', number = 20)"
      ],
      "metadata": {
        "colab": {
          "base_uri": "https://localhost:8080/"
        },
        "id": "rFtNVHe1pVce",
        "outputId": "5f6919bc-6e83-4086-afa8-fb909f10a973"
      },
      "execution_count": 7,
      "outputs": [
        {
          "output_type": "stream",
          "name": "stdout",
          "text": [
            "숫자는:20 이름은:홍길동\n"
          ]
        }
      ]
    },
    {
      "cell_type": "code",
      "source": [
        "def f3(x1, x2, x3):\n",
        "  pass"
      ],
      "metadata": {
        "id": "eshXB8iBqPiF"
      },
      "execution_count": 10,
      "outputs": []
    },
    {
      "cell_type": "code",
      "source": [
        "f3(5, x2 = 6, x3 = 10 ) # ok\n",
        "# f3(x2 = 6, 10, 20 ) # Positional argument cannot appear after keyword arguments"
      ],
      "metadata": {
        "id": "5diQRxE1qPlG"
      },
      "execution_count": null,
      "outputs": []
    },
    {
      "cell_type": "markdown",
      "source": [
        "디폴트 매개변수\n",
        "  - 디폴트 매개변수와 일반매개변수가 같이 있으면\n",
        "  - 디폴트 매개변수는 맨 마지막 부터 설정한다."
      ],
      "metadata": {
        "id": "jGLuDyDusnBl"
      }
    },
    {
      "cell_type": "code",
      "source": [
        "def add( x, y = 10):\n",
        "  return x + y"
      ],
      "metadata": {
        "id": "PogXrBNBp1bB"
      },
      "execution_count": 14,
      "outputs": []
    },
    {
      "cell_type": "code",
      "source": [
        "add( 10 )"
      ],
      "metadata": {
        "colab": {
          "base_uri": "https://localhost:8080/"
        },
        "id": "XvZwkAJFsT9I",
        "outputId": "fb566337-edb1-40b5-dab4-90226503af2c"
      },
      "execution_count": 20,
      "outputs": [
        {
          "output_type": "execute_result",
          "data": {
            "text/plain": [
              "20"
            ]
          },
          "metadata": {},
          "execution_count": 20
        }
      ]
    },
    {
      "cell_type": "code",
      "source": [
        "# 일반매개변수는 디폴트 매개변수 다음에 와야 한다\n",
        "def add( y = 10, x):  # Non-default argument follows default argument\n",
        "  return x + y"
      ],
      "metadata": {
        "colab": {
          "base_uri": "https://localhost:8080/",
          "height": 145
        },
        "id": "n9M9_NYjsW0k",
        "outputId": "d82cbab8-782a-4f37-d12d-2238fb0bf031"
      },
      "execution_count": 21,
      "outputs": [
        {
          "output_type": "error",
          "ename": "SyntaxError",
          "evalue": "ignored",
          "traceback": [
            "\u001b[0;36m  File \u001b[0;32m\"<ipython-input-21-5d15f17040d3>\"\u001b[0;36m, line \u001b[0;32m2\u001b[0m\n\u001b[0;31m    def add( y = 10, x):  # Non-default argument follows default argument\u001b[0m\n\u001b[0m                     ^\u001b[0m\n\u001b[0;31mSyntaxError\u001b[0m\u001b[0;31m:\u001b[0m non-default argument follows default argument\n"
          ]
        }
      ]
    },
    {
      "cell_type": "code",
      "source": [
        "# z부터 설정하고 그다음 y 설정\n",
        "def add(x, y=0 , z=0):\n",
        "  pass"
      ],
      "metadata": {
        "id": "kYtDKiAotRKT"
      },
      "execution_count": 22,
      "outputs": []
    },
    {
      "cell_type": "code",
      "source": [
        "add(1,2)"
      ],
      "metadata": {
        "id": "zmF8A0rgtxNs"
      },
      "execution_count": null,
      "outputs": []
    },
    {
      "cell_type": "markdown",
      "source": [
        "가변 인수\n",
        "  - 매개변수명에 *(에스트트리크)를 붙여서 만든다\n",
        "  - 개수에 상관없이 받아들인다."
      ],
      "metadata": {
        "id": "map3wJwqu_LE"
      }
    },
    {
      "cell_type": "code",
      "source": [
        "def add(*args):\n",
        "  print(f\"전달받은 매개변수들은 {args}\")\n",
        "  print(f\"전달받은 매개변수들의 합은 : {sum(args)}\")\n",
        "  print(f\"전달받은 매개변수의 타입은 : {type(args)}\")\n",
        "  print(f\"전달받은 매개변수들은 args라는 이름의 리스트와 같은 집합이 된다\")"
      ],
      "metadata": {
        "id": "GRYNEonfucGl"
      },
      "execution_count": 30,
      "outputs": []
    },
    {
      "cell_type": "code",
      "source": [
        "add(1,2,4,5)"
      ],
      "metadata": {
        "colab": {
          "base_uri": "https://localhost:8080/"
        },
        "id": "cVfKcXZwvcjH",
        "outputId": "364abfb3-9ca8-45db-b97a-a889c85fa5d3"
      },
      "execution_count": 34,
      "outputs": [
        {
          "output_type": "stream",
          "name": "stdout",
          "text": [
            "전달받은 매개변수들은 (1, 2, 4, 5)\n",
            "전달받은 매개변수들의 합은 : 12\n",
            "전달받은 매개변수의 타입은 : <class 'tuple'>\n",
            "전달받은 매개변수들은 args라는 이름의 리스트와 같은 집합이 된다\n"
          ]
        }
      ]
    },
    {
      "cell_type": "code",
      "source": [
        "def add(x, *args):\n",
        "  print(f\"일반매개변수 x : {x}\")\n",
        "  print(f\"가변매개변수 args : {args}\")"
      ],
      "metadata": {
        "id": "tpzPzlMBvfhU"
      },
      "execution_count": 35,
      "outputs": []
    },
    {
      "cell_type": "code",
      "source": [
        "add(1,2,3,4,5,6,7,8,9,10)"
      ],
      "metadata": {
        "colab": {
          "base_uri": "https://localhost:8080/"
        },
        "id": "6stc-gBxwfbV",
        "outputId": "59c5682f-956d-43d8-f3ff-917a12fa98fd"
      },
      "execution_count": 36,
      "outputs": [
        {
          "output_type": "stream",
          "name": "stdout",
          "text": [
            "일반매개변수 x : 1\n",
            "가변매개변수 args : (2, 3, 4, 5, 6, 7, 8, 9, 10)\n"
          ]
        }
      ]
    },
    {
      "cell_type": "code",
      "source": [
        "def add(*args, x):\n",
        "  print(f\"일반매개변수 x : {x}\")\n",
        "  print(f\"가변매개변수 args : {args}\")"
      ],
      "metadata": {
        "id": "WYrX_Y1kwmsM"
      },
      "execution_count": 43,
      "outputs": []
    },
    {
      "cell_type": "code",
      "source": [
        "add(1,2,3,4,5,6,7,8,9,10)"
      ],
      "metadata": {
        "colab": {
          "base_uri": "https://localhost:8080/",
          "height": 181
        },
        "id": "koEt7RlRwhb1",
        "outputId": "9005c888-8498-4a35-f5c6-842eee939259"
      },
      "execution_count": 42,
      "outputs": [
        {
          "output_type": "error",
          "ename": "TypeError",
          "evalue": "ignored",
          "traceback": [
            "\u001b[0;31m---------------------------------------------------------------------------\u001b[0m",
            "\u001b[0;31mTypeError\u001b[0m                                 Traceback (most recent call last)",
            "\u001b[0;32m<ipython-input-42-a9328976ee69>\u001b[0m in \u001b[0;36m<cell line: 1>\u001b[0;34m()\u001b[0m\n\u001b[0;32m----> 1\u001b[0;31m \u001b[0madd\u001b[0m\u001b[0;34m(\u001b[0m\u001b[0;36m1\u001b[0m\u001b[0;34m,\u001b[0m\u001b[0;36m2\u001b[0m\u001b[0;34m,\u001b[0m\u001b[0;36m3\u001b[0m\u001b[0;34m,\u001b[0m\u001b[0;36m4\u001b[0m\u001b[0;34m,\u001b[0m\u001b[0;36m5\u001b[0m\u001b[0;34m,\u001b[0m\u001b[0;36m6\u001b[0m\u001b[0;34m,\u001b[0m\u001b[0;36m7\u001b[0m\u001b[0;34m,\u001b[0m\u001b[0;36m8\u001b[0m\u001b[0;34m,\u001b[0m\u001b[0;36m9\u001b[0m\u001b[0;34m,\u001b[0m\u001b[0;36m10\u001b[0m\u001b[0;34m)\u001b[0m\u001b[0;34m\u001b[0m\u001b[0;34m\u001b[0m\u001b[0m\n\u001b[0m",
            "\u001b[0;31mTypeError\u001b[0m: add() missing 2 required keyword-only arguments: 'x' and 'y'"
          ]
        }
      ]
    },
    {
      "cell_type": "code",
      "source": [
        "add(1,2,3,4,5,6,7,8,9,x = 10)"
      ],
      "metadata": {
        "colab": {
          "base_uri": "https://localhost:8080/"
        },
        "id": "AQGRWuRRwrZn",
        "outputId": "3671e5c3-c1f8-4cbc-9d63-bd608dc4cfe7"
      },
      "execution_count": 44,
      "outputs": [
        {
          "output_type": "stream",
          "name": "stdout",
          "text": [
            "일반매개변수 x : 10\n",
            "가변매개변수 args : (1, 2, 3, 4, 5, 6, 7, 8, 9)\n"
          ]
        }
      ]
    },
    {
      "cell_type": "markdown",
      "source": [
        "키워드 가변 인수\n",
        "  - 키워드 + 가변 인수\n",
        "  - **인수명\n",
        "  - 함수의 매개변수로 **인수명 을 사용하면\n",
        "  - 함수를 호출하는 쪽에서 키워드 인수를 이용해서 값을 지정해 주면 함수 내부에서 사용한다."
      ],
      "metadata": {
        "id": "KzRB9QgW0JNz"
      }
    },
    {
      "cell_type": "code",
      "source": [
        "def add(**kargs):\n",
        "  print(f'키워드 가변인수:{kargs}')\n",
        "  print(f'x:{kargs[\"x\"]}')\n",
        "  print(f'x:{kargs[\"y\"]}')\n",
        "  print(f'x:{kargs[\"z\"]}')\n",
        "  print( kargs['x'] + kargs['y'] + kargs['z']  )"
      ],
      "metadata": {
        "id": "UCsphpABz0Hi"
      },
      "execution_count": 48,
      "outputs": []
    },
    {
      "cell_type": "code",
      "source": [
        "add(x=10, y=20, z=30 )"
      ],
      "metadata": {
        "colab": {
          "base_uri": "https://localhost:8080/"
        },
        "id": "ykA1OoPk1AhL",
        "outputId": "d308f3e3-c4bf-41d3-8091-f10653e1c9c3"
      },
      "execution_count": 49,
      "outputs": [
        {
          "output_type": "stream",
          "name": "stdout",
          "text": [
            "키워드 가변인수:{'x': 10, 'y': 20, 'z': 30}\n",
            "x:10\n",
            "x:20\n",
            "x:30\n",
            "60\n"
          ]
        }
      ]
    },
    {
      "cell_type": "markdown",
      "source": [
        "키워드 인수 사용 해 보기"
      ],
      "metadata": {
        "id": "5LoCPmLC2mS5"
      }
    },
    {
      "cell_type": "code",
      "source": [
        "def greet(name, greeting = '안녕하세요'):\n",
        "  print(f'{greeting}, {name}')\n",
        "\n",
        "greet(name = '홍길동')"
      ],
      "metadata": {
        "colab": {
          "base_uri": "https://localhost:8080/"
        },
        "id": "-QjAIF6b1Hny",
        "outputId": "e55bc5ea-d5fd-4e82-8171-cf4ca9617bde"
      },
      "execution_count": 51,
      "outputs": [
        {
          "output_type": "stream",
          "name": "stdout",
          "text": [
            "안녕하세요, 홍길동\n"
          ]
        }
      ]
    },
    {
      "cell_type": "code",
      "source": [
        "def display_info(name, age, city):\n",
        "  print(f'이름:{name} 나이:{age} 도시:{city}')"
      ],
      "metadata": {
        "id": "Dg7byqtQ26rY"
      },
      "execution_count": 52,
      "outputs": []
    },
    {
      "cell_type": "code",
      "source": [
        "display_info(age = 20, city = '서울', name='홍길동')"
      ],
      "metadata": {
        "colab": {
          "base_uri": "https://localhost:8080/"
        },
        "id": "wZY2pqC83IoT",
        "outputId": "8034cedd-9e4c-4fc4-f51a-12a10fc38855"
      },
      "execution_count": 53,
      "outputs": [
        {
          "output_type": "stream",
          "name": "stdout",
          "text": [
            "이름:홍길동 나이:20 도시:서울\n"
          ]
        }
      ]
    },
    {
      "cell_type": "markdown",
      "source": [
        "디폴트 인수"
      ],
      "metadata": {
        "id": "gBoxYZ_v3Wfy"
      }
    },
    {
      "cell_type": "code",
      "source": [
        "# 계산기\n",
        "def calc(x , y, operation = 'add'):\n",
        "  if operation == 'add':\n",
        "    return x + y\n",
        "  elif operation == 'sub':\n",
        "    return x / y\n",
        "  elif operation == 'minus':\n",
        "    return x - y\n",
        "  elif operation == 'multi':\n",
        "    return x * y\n",
        "  else:\n",
        "    return None"
      ],
      "metadata": {
        "id": "fyqzGc1G3OiP"
      },
      "execution_count": 55,
      "outputs": []
    },
    {
      "cell_type": "code",
      "source": [
        "print( calc(10,20,'minus')  )\n",
        "print( calc(10,20,operation='minus')  )  # 추천.... 함수는"
      ],
      "metadata": {
        "colab": {
          "base_uri": "https://localhost:8080/"
        },
        "id": "PAykYUC84CcJ",
        "outputId": "8e786b48-c757-4085-d784-40b459c279da"
      },
      "execution_count": 58,
      "outputs": [
        {
          "output_type": "stream",
          "name": "stdout",
          "text": [
            "-10\n"
          ]
        }
      ]
    },
    {
      "cell_type": "code",
      "source": [
        "# dictionary를 배울때 키워드 가변 인수를 적극 사용할 예정"
      ],
      "metadata": {
        "id": "bu4F54zC4HLP"
      },
      "execution_count": 59,
      "outputs": []
    },
    {
      "cell_type": "markdown",
      "source": [
        "함수 적용해 보기"
      ],
      "metadata": {
        "id": "q6Xlakn35S5J"
      }
    },
    {
      "cell_type": "code",
      "source": [
        "def getUserData():\n",
        "  height = float(input(\"키를 입력하세요(cm)\"))\n",
        "  weight = float(input(\"몸무게를 입력하세요(kg)\"))\n",
        "  return height, weight\n",
        "\n",
        "def proceeBMI(height, weight):\n",
        "  return weight /  ( (height*0.01)**2 )\n",
        "\n",
        "def checkBMI(bmi):\n",
        "  if bmi >=25.0:\n",
        "    return '비만'\n",
        "  elif bmi >= 23.0:\n",
        "    return '과체중'\n",
        "  elif bmi >= 18.5:  # 18.5 ~ 22.9\n",
        "    return '정상'\n",
        "  else:\n",
        "    return '저체중'"
      ],
      "metadata": {
        "id": "v-61ogQd5Ak5"
      },
      "execution_count": 61,
      "outputs": []
    },
    {
      "cell_type": "code",
      "source": [
        "# 미만도를 측정하기 위해서 사용자로부터 데이터를 입력받는다\n",
        "height,weight =  getUserData()\n",
        "\n",
        "# bmi를 계산한다\n",
        "bmi = proceeBMI(height,weight)\n",
        "\n",
        "# bmi에 따른 비만여부를 출력한다\n",
        "print(f'현재 bmi 지수를 이용한 비만도는 : {checkBMI(bmi)}')"
      ],
      "metadata": {
        "colab": {
          "base_uri": "https://localhost:8080/"
        },
        "id": "K5OdohQx5p8i",
        "outputId": "fa84f2bd-4801-42c8-9928-16d8d49d1c08"
      },
      "execution_count": 63,
      "outputs": [
        {
          "output_type": "stream",
          "name": "stdout",
          "text": [
            "키를 입력하세요(cm)180\n",
            "몸무게를 입력하세요(kg)78\n",
            "현재 bmi 지수를 이용한 비만도는 : 과체중\n"
          ]
        }
      ]
    },
    {
      "cell_type": "code",
      "source": [
        "# 중복없이 특정 범위를 지정하면 해당 범위의 값중에 랜덤하게 리스트로 만들어주는 함수\n",
        "# 매개변수는 start, end, n\n",
        "import random\n",
        "list1 = [1,2,3,4,5,6,7,8,9]\n",
        "random.shuffle(list1)\n",
        "print(list1)"
      ],
      "metadata": {
        "colab": {
          "base_uri": "https://localhost:8080/"
        },
        "id": "e2beOrQ77K6E",
        "outputId": "2a89d9a5-c924-44db-80d3-30a693d7d3e1"
      },
      "execution_count": 69,
      "outputs": [
        {
          "output_type": "stream",
          "name": "stdout",
          "text": [
            "[4, 6, 3, 7, 5, 2, 9, 8, 1]\n"
          ]
        }
      ]
    },
    {
      "cell_type": "code",
      "source": [
        "import random\n",
        "def randomRange(start, end , n):\n",
        "  list1 = []\n",
        "  for i in range(start, end):\n",
        "    list1.append(i)\n",
        "  # 섞는다\n",
        "  random.shuffle(list1)\n",
        "  return sorted(list1[ : n])"
      ],
      "metadata": {
        "id": "bX0oOFsT-voX"
      },
      "execution_count": 113,
      "outputs": []
    },
    {
      "cell_type": "code",
      "source": [
        "for i in range(5):\n",
        "  print(randomRange(1,46,6))"
      ],
      "metadata": {
        "colab": {
          "base_uri": "https://localhost:8080/"
        },
        "id": "XJERuc9s-755",
        "outputId": "0247caee-44a7-41a4-91e7-2b7ffeb2191b"
      },
      "execution_count": 114,
      "outputs": [
        {
          "output_type": "stream",
          "name": "stdout",
          "text": [
            "[3, 11, 13, 36, 37, 39]\n",
            "[2, 20, 22, 34, 36, 45]\n",
            "[6, 10, 15, 18, 19, 28]\n",
            "[10, 22, 26, 28, 30, 44]\n",
            "[1, 7, 22, 28, 33, 37]\n"
          ]
        }
      ]
    },
    {
      "cell_type": "code",
      "source": [
        "list1 = [36, 11, 45, 41, 1, 2]\n",
        "random.shuffle(list1)\n",
        "list1.sort()\n",
        "list1[:3]"
      ],
      "metadata": {
        "colab": {
          "base_uri": "https://localhost:8080/"
        },
        "id": "3KKYFJ5jCtN6",
        "outputId": "e6450807-44de-4ad3-beba-9e58cd35b340"
      },
      "execution_count": 98,
      "outputs": [
        {
          "output_type": "execute_result",
          "data": {
            "text/plain": [
              "[1, 2, 11]"
            ]
          },
          "metadata": {},
          "execution_count": 98
        }
      ]
    },
    {
      "cell_type": "code",
      "source": [
        "def exchange(won,rate=1305.54):\n",
        "  dollar =  won // rate\n",
        "  ex_won = won % rate\n",
        "  return dollar,round(ex_won)"
      ],
      "metadata": {
        "id": "y2hOeFWpDtH2"
      },
      "execution_count": 122,
      "outputs": []
    },
    {
      "cell_type": "code",
      "source": [
        "exchange(1000000)"
      ],
      "metadata": {
        "colab": {
          "base_uri": "https://localhost:8080/"
        },
        "id": "ZjUI39tvF0xP",
        "outputId": "ffbfa8c1-e2e2-4314-8795-5f6e571194db"
      },
      "execution_count": 123,
      "outputs": [
        {
          "output_type": "execute_result",
          "data": {
            "text/plain": [
              "(765.0, 1262)"
            ]
          },
          "metadata": {},
          "execution_count": 123
        }
      ]
    },
    {
      "cell_type": "code",
      "source": [
        "exchange(1000000,rate=9.03)"
      ],
      "metadata": {
        "colab": {
          "base_uri": "https://localhost:8080/"
        },
        "id": "4okLZVwEGJuZ",
        "outputId": "38d8be6b-60bb-4a82-e010-067146ba1e0c"
      },
      "execution_count": 124,
      "outputs": [
        {
          "output_type": "execute_result",
          "data": {
            "text/plain": [
              "(110741.0, 9)"
            ]
          },
          "metadata": {},
          "execution_count": 124
        }
      ]
    },
    {
      "cell_type": "code",
      "source": [
        "exchange(1000000,rate=1429.41)"
      ],
      "metadata": {
        "colab": {
          "base_uri": "https://localhost:8080/"
        },
        "id": "pDgKmIK7GriY",
        "outputId": "fbdf153c-4a78-485a-934d-7d51e4062ef6"
      },
      "execution_count": 125,
      "outputs": [
        {
          "output_type": "execute_result",
          "data": {
            "text/plain": [
              "(699.0, 842)"
            ]
          },
          "metadata": {},
          "execution_count": 125
        }
      ]
    },
    {
      "cell_type": "code",
      "source": [
        "exchange(1000000,rate=1660.98)"
      ],
      "metadata": {
        "colab": {
          "base_uri": "https://localhost:8080/"
        },
        "id": "Zay6TN7yHBai",
        "outputId": "62a497a8-1a1e-4827-c306-8bacf287a29d"
      },
      "execution_count": 126,
      "outputs": [
        {
          "output_type": "execute_result",
          "data": {
            "text/plain": [
              "(602.0, 90)"
            ]
          },
          "metadata": {},
          "execution_count": 126
        }
      ]
    },
    {
      "cell_type": "code",
      "source": [
        "exchange(1000000,rate=1.63)"
      ],
      "metadata": {
        "colab": {
          "base_uri": "https://localhost:8080/"
        },
        "id": "Sv_6unjAHIk_",
        "outputId": "95a06f9e-6684-44a1-c702-a90289d2cfbd"
      },
      "execution_count": 128,
      "outputs": [
        {
          "output_type": "execute_result",
          "data": {
            "text/plain": [
              "(613496.0, 2)"
            ]
          },
          "metadata": {},
          "execution_count": 128
        }
      ]
    },
    {
      "cell_type": "code",
      "source": [
        "print(\"It\\ts ok\")"
      ],
      "metadata": {
        "colab": {
          "base_uri": "https://localhost:8080/"
        },
        "id": "ufAGm_hUHYw6",
        "outputId": "40083dda-ef51-406a-d720-654a0f5c94b9"
      },
      "execution_count": 132,
      "outputs": [
        {
          "output_type": "stream",
          "name": "stdout",
          "text": [
            "It\ts ok\n"
          ]
        }
      ]
    },
    {
      "cell_type": "code",
      "source": [
        "a = \"동해물과 백두산이\\n\"\n",
        "a += \"마르고 닿도록\\n\"\n",
        "a += \"하느님이 보우하사\"\n",
        "print(a)"
      ],
      "metadata": {
        "colab": {
          "base_uri": "https://localhost:8080/"
        },
        "id": "3juZW2SKJ31d",
        "outputId": "0ec1e738-2b32-434e-eca4-bc96a16e8960"
      },
      "execution_count": 133,
      "outputs": [
        {
          "output_type": "stream",
          "name": "stdout",
          "text": [
            "동해물과 백두산이\n",
            "마르고 닿도록\n",
            "하느님이 보우하사\n"
          ]
        }
      ]
    },
    {
      "cell_type": "code",
      "source": [
        "print(\"-\"*100)\n",
        "a = '''동해물과 백두산이\n",
        "마르고 닿도록\n",
        "하느님이 보우하사'''\n",
        "print(a)\n",
        "print(\"-\"*100)"
      ],
      "metadata": {
        "colab": {
          "base_uri": "https://localhost:8080/"
        },
        "id": "hJ_EmHbFKZqs",
        "outputId": "656c5f44-5745-4346-f3d7-fd214fe9d95e"
      },
      "execution_count": 140,
      "outputs": [
        {
          "output_type": "stream",
          "name": "stdout",
          "text": [
            "----------------------------------------------------------------------------------------------------\n",
            "동해물과 백두산이\n",
            "마르고 닿도록\n",
            "하느님이 보우하사\n",
            "----------------------------------------------------------------------------------------------------\n"
          ]
        }
      ]
    },
    {
      "cell_type": "code",
      "source": [],
      "metadata": {
        "id": "ETQEjOs_Kese"
      },
      "execution_count": null,
      "outputs": []
    }
  ]
}