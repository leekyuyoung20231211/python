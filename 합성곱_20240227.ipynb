{
  "nbformat": 4,
  "nbformat_minor": 0,
  "metadata": {
    "colab": {
      "provenance": [],
      "gpuType": "T4"
    },
    "kernelspec": {
      "name": "python3",
      "display_name": "Python 3"
    },
    "language_info": {
      "name": "python"
    },
    "accelerator": "GPU"
  },
  "cells": [
    {
      "cell_type": "code",
      "execution_count": null,
      "metadata": {
        "id": "N6WG9moGFcM6"
      },
      "outputs": [],
      "source": []
    },
    {
      "cell_type": "markdown",
      "source": [
        "합성곱 신경망을 이용한 이미지 분류"
      ],
      "metadata": {
        "id": "341gkgMhLGes"
      }
    },
    {
      "cell_type": "code",
      "source": [
        "import tensorflow as tf\n",
        "tf.keras.utils.set_random_seed(42)\n",
        "tf.config.experimental.enable_op_determinism()"
      ],
      "metadata": {
        "id": "t314k5f_LI7l"
      },
      "execution_count": 1,
      "outputs": []
    },
    {
      "cell_type": "code",
      "source": [
        "from tensorflow import keras\n",
        "from sklearn.model_selection import train_test_split\n",
        "(X_train,y_train),(X_test,y_test) =  keras.datasets.fashion_mnist.load_data()"
      ],
      "metadata": {
        "colab": {
          "base_uri": "https://localhost:8080/"
        },
        "id": "b5za9GaHLjwP",
        "outputId": "fb2b9a43-a8d0-4c2f-ea6a-f4dec47bd86e"
      },
      "execution_count": 2,
      "outputs": [
        {
          "output_type": "stream",
          "name": "stdout",
          "text": [
            "Downloading data from https://storage.googleapis.com/tensorflow/tf-keras-datasets/train-labels-idx1-ubyte.gz\n",
            "29515/29515 [==============================] - 0s 0us/step\n",
            "Downloading data from https://storage.googleapis.com/tensorflow/tf-keras-datasets/train-images-idx3-ubyte.gz\n",
            "26421880/26421880 [==============================] - 0s 0us/step\n",
            "Downloading data from https://storage.googleapis.com/tensorflow/tf-keras-datasets/t10k-labels-idx1-ubyte.gz\n",
            "5148/5148 [==============================] - 0s 0us/step\n",
            "Downloading data from https://storage.googleapis.com/tensorflow/tf-keras-datasets/t10k-images-idx3-ubyte.gz\n",
            "4422102/4422102 [==============================] - 0s 0us/step\n"
          ]
        }
      ]
    },
    {
      "cell_type": "code",
      "source": [
        "X_train.shape"
      ],
      "metadata": {
        "colab": {
          "base_uri": "https://localhost:8080/"
        },
        "id": "5ttDchPNMDLD",
        "outputId": "48d1a90f-9e8f-4705-92e9-d9c06c329df0"
      },
      "execution_count": 3,
      "outputs": [
        {
          "output_type": "execute_result",
          "data": {
            "text/plain": [
              "(60000, 28, 28)"
            ]
          },
          "metadata": {},
          "execution_count": 3
        }
      ]
    },
    {
      "cell_type": "markdown",
      "source": [
        "Convolution 은 차수를 3차원으로 맞춰야 함"
      ],
      "metadata": {
        "id": "OPL3S4K9MInP"
      }
    },
    {
      "cell_type": "code",
      "source": [
        "X_train_scaled = X_train.reshape(-1,28,28,1) / 255.0\n",
        "XTrain,XVal,yTrain,yVal =  train_test_split(X_train_scaled,y_train,test_size=0.2,random_state=2)"
      ],
      "metadata": {
        "id": "ySXRahTUMTTu"
      },
      "execution_count": 4,
      "outputs": []
    },
    {
      "cell_type": "code",
      "source": [
        "X_train_scaled.shape"
      ],
      "metadata": {
        "colab": {
          "base_uri": "https://localhost:8080/"
        },
        "id": "xjbQBq5wNzSv",
        "outputId": "d13c16e0-951d-415f-b3bd-fb2235f55937"
      },
      "execution_count": 5,
      "outputs": [
        {
          "output_type": "execute_result",
          "data": {
            "text/plain": [
              "(60000, 28, 28, 1)"
            ]
          },
          "metadata": {},
          "execution_count": 5
        }
      ]
    },
    {
      "cell_type": "markdown",
      "source": [
        "합성곱 신경망 만들기"
      ],
      "metadata": {
        "id": "Bimq-GeiM-eO"
      }
    },
    {
      "cell_type": "code",
      "source": [
        "def make_model():\n",
        "  model = keras.Sequential()\n",
        "  # 커널수\n",
        "  model.add(keras.layers.Conv2D(32,kernel_size=3 ,activation='relu',padding='same', input_shape=(28,28,1) )  )\n",
        "  model.add( keras.layers.MaxPool2D(2)  )  # 반으로 줄인다.\n",
        "\n",
        "  model.add(keras.layers.Conv2D(64,kernel_size=3 ,activation='relu',padding='same' )  )\n",
        "  model.add( keras.layers.MaxPool2D(2)  )  # 반으로 줄인다.\n",
        "\n",
        "  model.add(keras.layers.Flatten())\n",
        "\n",
        "  model.add(keras.layers.Dense(100,activation='relu')    )\n",
        "  model.add(keras.layers.Dropout(0.4)   )\n",
        "  model.add(keras.layers.Dense(10,activation='softmax')    )\n",
        "  return model\n"
      ],
      "metadata": {
        "id": "5BJQ1C4pMYQT"
      },
      "execution_count": 14,
      "outputs": []
    },
    {
      "cell_type": "code",
      "source": [
        "model = make_model()\n",
        "model.summary()"
      ],
      "metadata": {
        "colab": {
          "base_uri": "https://localhost:8080/"
        },
        "id": "hYXGA9T-O9Sq",
        "outputId": "4ee2441f-f4fa-4ba7-a9b4-3aa576e16f6f"
      },
      "execution_count": 15,
      "outputs": [
        {
          "output_type": "stream",
          "name": "stdout",
          "text": [
            "Model: \"sequential_1\"\n",
            "_________________________________________________________________\n",
            " Layer (type)                Output Shape              Param #   \n",
            "=================================================================\n",
            " conv2d_2 (Conv2D)           (None, 28, 28, 32)        320       \n",
            "                                                                 \n",
            " max_pooling2d_2 (MaxPoolin  (None, 14, 14, 32)        0         \n",
            " g2D)                                                            \n",
            "                                                                 \n",
            " conv2d_3 (Conv2D)           (None, 14, 14, 64)        18496     \n",
            "                                                                 \n",
            " max_pooling2d_3 (MaxPoolin  (None, 7, 7, 64)          0         \n",
            " g2D)                                                            \n",
            "                                                                 \n",
            " flatten_1 (Flatten)         (None, 3136)              0         \n",
            "                                                                 \n",
            " dense_2 (Dense)             (None, 100)               313700    \n",
            "                                                                 \n",
            " dropout_1 (Dropout)         (None, 100)               0         \n",
            "                                                                 \n",
            " dense_3 (Dense)             (None, 10)                1010      \n",
            "                                                                 \n",
            "=================================================================\n",
            "Total params: 333526 (1.27 MB)\n",
            "Trainable params: 333526 (1.27 MB)\n",
            "Non-trainable params: 0 (0.00 Byte)\n",
            "_________________________________________________________________\n"
          ]
        }
      ]
    },
    {
      "cell_type": "code",
      "source": [
        "\n",
        "# conv2d_1 (Conv2D)           (None, 28, 28, 32)        320\n",
        "# (input_channel x kernel_size + 1)*output_channel\n",
        "(3*3+1)*32\n",
        "\n",
        "# (None, 14, 14, 64)\n",
        "(3*3*32+1)*64"
      ],
      "metadata": {
        "colab": {
          "base_uri": "https://localhost:8080/"
        },
        "id": "diIvMNG8PIwD",
        "outputId": "48680fc8-e7e1-4c50-cca1-0bd14fb138aa"
      },
      "execution_count": 16,
      "outputs": [
        {
          "output_type": "execute_result",
          "data": {
            "text/plain": [
              "18496"
            ]
          },
          "metadata": {},
          "execution_count": 16
        }
      ]
    },
    {
      "cell_type": "markdown",
      "source": [
        "모델 컴파일 과 훈련"
      ],
      "metadata": {
        "id": "6uOyZcnpQfZ8"
      }
    },
    {
      "cell_type": "code",
      "source": [
        "model = make_model()\n",
        "model.compile(optimizer='adam', loss='sparse_categorical_crossentropy', metrics='accuracy')\n",
        "checkpoint_cb = keras.callbacks.ModelCheckpoint('cnn_model.keras',save_best_only=True)\n",
        "early_stopping_cb = keras.callbacks.EarlyStopping(patience=3,restore_best_weights=True)\n",
        "history = model.fit(XTrain,yTrain,epochs=100, validation_data=(XVal,yVal), callbacks=[checkpoint_cb, early_stopping_cb]    )"
      ],
      "metadata": {
        "colab": {
          "base_uri": "https://localhost:8080/"
        },
        "id": "XrPpdLVXP7rm",
        "outputId": "94ed8043-3ced-4101-f156-96fc5d6d6946"
      },
      "execution_count": 17,
      "outputs": [
        {
          "output_type": "stream",
          "name": "stdout",
          "text": [
            "Epoch 1/100\n",
            "1500/1500 [==============================] - 10s 6ms/step - loss: 0.5299 - accuracy: 0.8110 - val_loss: 0.3256 - val_accuracy: 0.8796\n",
            "Epoch 2/100\n",
            "1500/1500 [==============================] - 7s 5ms/step - loss: 0.3523 - accuracy: 0.8742 - val_loss: 0.2950 - val_accuracy: 0.8879\n",
            "Epoch 3/100\n",
            "1500/1500 [==============================] - 7s 5ms/step - loss: 0.3043 - accuracy: 0.8901 - val_loss: 0.2579 - val_accuracy: 0.9053\n",
            "Epoch 4/100\n",
            "1500/1500 [==============================] - 7s 5ms/step - loss: 0.2660 - accuracy: 0.9028 - val_loss: 0.2389 - val_accuracy: 0.9120\n",
            "Epoch 5/100\n",
            "1500/1500 [==============================] - 7s 5ms/step - loss: 0.2436 - accuracy: 0.9110 - val_loss: 0.2302 - val_accuracy: 0.9152\n",
            "Epoch 6/100\n",
            "1500/1500 [==============================] - 8s 5ms/step - loss: 0.2219 - accuracy: 0.9184 - val_loss: 0.2261 - val_accuracy: 0.9150\n",
            "Epoch 7/100\n",
            "1500/1500 [==============================] - 7s 5ms/step - loss: 0.2049 - accuracy: 0.9243 - val_loss: 0.2261 - val_accuracy: 0.9188\n",
            "Epoch 8/100\n",
            "1500/1500 [==============================] - 9s 6ms/step - loss: 0.1890 - accuracy: 0.9295 - val_loss: 0.2299 - val_accuracy: 0.9212\n",
            "Epoch 9/100\n",
            "1500/1500 [==============================] - 7s 5ms/step - loss: 0.1734 - accuracy: 0.9361 - val_loss: 0.2209 - val_accuracy: 0.9207\n",
            "Epoch 10/100\n",
            "1500/1500 [==============================] - 7s 5ms/step - loss: 0.1641 - accuracy: 0.9372 - val_loss: 0.2187 - val_accuracy: 0.9211\n",
            "Epoch 11/100\n",
            "1500/1500 [==============================] - 8s 5ms/step - loss: 0.1528 - accuracy: 0.9433 - val_loss: 0.2239 - val_accuracy: 0.9233\n",
            "Epoch 12/100\n",
            "1500/1500 [==============================] - 7s 5ms/step - loss: 0.1440 - accuracy: 0.9447 - val_loss: 0.2486 - val_accuracy: 0.9197\n",
            "Epoch 13/100\n",
            "1500/1500 [==============================] - 7s 5ms/step - loss: 0.1337 - accuracy: 0.9486 - val_loss: 0.2411 - val_accuracy: 0.9227\n"
          ]
        }
      ]
    },
    {
      "cell_type": "code",
      "source": [
        "import matplotlib.pyplot as plt\n",
        "plt.plot(history.history['loss'],label='train')\n",
        "plt.plot(history.history['val_loss'],label='val')\n",
        "plt.xlabel('epoch')\n",
        "plt.ylabel('loss')\n",
        "plt.legend()\n",
        "plt.show()"
      ],
      "metadata": {
        "colab": {
          "base_uri": "https://localhost:8080/",
          "height": 449
        },
        "id": "Zm7oInfYQiMU",
        "outputId": "85475bff-33cc-405a-9b8f-0160b712f127"
      },
      "execution_count": 18,
      "outputs": [
        {
          "output_type": "display_data",
          "data": {
            "text/plain": [
              "<Figure size 640x480 with 1 Axes>"
            ],
            "image/png": "[encoded data removed]"
          },
          "metadata": {}
        }
      ]
    },
    {
      "cell_type": "code",
      "source": [
        "X_test_scaled = X_test.reshape(-1,28,28,1)/255.0\n",
        "\n",
        "model.evaluate(X_test_scaled,y_test)"
      ],
      "metadata": {
        "id": "LtQ5NTGMVSEU",
        "outputId": "7cf42bd6-30be-4276-ba2d-e709025627e2",
        "colab": {
          "base_uri": "https://localhost:8080/"
        }
      },
      "execution_count": 20,
      "outputs": [
        {
          "output_type": "stream",
          "name": "stdout",
          "text": [
            "313/313 [==============================] - 1s 3ms/step - loss: 0.2450 - accuracy: 0.9161\n"
          ]
        },
        {
          "output_type": "execute_result",
          "data": {
            "text/plain": [
              "[0.2450222671031952, 0.916100025177002]"
            ]
          },
          "metadata": {},
          "execution_count": 20
        }
      ]
    },
    {
      "cell_type": "code",
      "source": [],
      "metadata": {
        "id": "uRXJyi2jW5k_"
      },
      "execution_count": null,
      "outputs": []
    }
  ]
}