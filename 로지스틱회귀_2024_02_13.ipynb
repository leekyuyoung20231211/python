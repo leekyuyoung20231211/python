{
  "nbformat": 4,
  "nbformat_minor": 0,
  "metadata": {
    "colab": {
      "provenance": []
    },
    "kernelspec": {
      "name": "python3",
      "display_name": "Python 3"
    },
    "language_info": {
      "name": "python"
    }
  },
  "cells": [
    {
      "cell_type": "markdown",
      "source": [
        "로지스틱회귀는 대표적인 분류문제를 푸는 알고리즘\n",
        "  - 주로 이진 분류 / 다중분류도 가능\n",
        "  - 회귀알고리즘을 분류로 변경한것임 : 값을 연속적으로 예측  \n",
        "  - 연속적인 값의 범위를 예측하는 것이 아니라 입력특성의 가중치의 합을 확률로 예측 이때 연속값을 확률로 변경하기위해서 시그모이드 함수 또는 로지스틱 함수\n",
        "  - 확률은 0과 1사이다 : 값이 0.5이상이면 1, 그 이하면 0\n",
        "  - 장점\n",
        "    - 단순하고 해석하기 쉬운모델\n",
        "  - 단점\n",
        "    - 복잡한 패턴을 모델링하기에 적합하지 않음\n",
        "    - 이상치나 잘못된 레이블에 민감할 수 있음"
      ],
      "metadata": {
        "id": "zyJWWwLH_sE1"
      }
    },
    {
      "cell_type": "markdown",
      "source": [
        "![image.png](data:image/png;base64,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)"
      ],
      "metadata": {
        "id": "qZWLhxR0AoEH"
      }
    },
    {
      "cell_type": "code",
      "source": [
        "import pandas as pd\n",
        "df = pd.read_csv('https://raw.githubusercontent.com/leekyuyoung20231211/python/main/data/logistic_data.csv')\n",
        "df.head()"
      ],
      "metadata": {
        "colab": {
          "base_uri": "https://localhost:8080/",
          "height": 206
        },
        "id": "OrFoVamDARIM",
        "outputId": "3977a6ce-e40e-47be-f562-f9fa7d9485b7"
      },
      "execution_count": 14,
      "outputs": [
        {
          "output_type": "execute_result",
          "data": {
            "text/plain": [
              "  Target  Weight  Length  Diagonal   Height   Width\n",
              "0      a   242.0    25.4      30.0  11.5200  4.0200\n",
              "1      a   290.0    26.3      31.2  12.4800  4.3056\n",
              "2      a   340.0    26.5      31.1  12.3778  4.6961\n",
              "3      a   363.0    29.0      33.5  12.7300  4.4555\n",
              "4      a   430.0    29.0      34.0  12.4440  5.1340"
            ],
            "text/html": [
              "\n",
              "  <div id=\"df-0b048b47-d413-42ed-bb4d-df39fa3978bf\" class=\"colab-df-container\">\n",
              "    <div>\n",
              "<style scoped>\n",
              "    .dataframe tbody tr th:only-of-type {\n",
              "        vertical-align: middle;\n",
              "    }\n",
              "\n",
              "    .dataframe tbody tr th {\n",
              "        vertical-align: top;\n",
              "    }\n",
              "\n",
              "    .dataframe thead th {\n",
              "        text-align: right;\n",
              "    }\n",
              "</style>\n",
              "<table border=\"1\" class=\"dataframe\">\n",
              "  <thead>\n",
              "    <tr style=\"text-align: right;\">\n",
              "      <th></th>\n",
              "      <th>Target</th>\n",
              "      <th>Weight</th>\n",
              "      <th>Length</th>\n",
              "      <th>Diagonal</th>\n",
              "      <th>Height</th>\n",
              "      <th>Width</th>\n",
              "    </tr>\n",
              "  </thead>\n",
              "  <tbody>\n",
              "    <tr>\n",
              "      <th>0</th>\n",
              "      <td>a</td>\n",
              "      <td>242.0</td>\n",
              "      <td>25.4</td>\n",
              "      <td>30.0</td>\n",
              "      <td>11.5200</td>\n",
              "      <td>4.0200</td>\n",
              "    </tr>\n",
              "    <tr>\n",
              "      <th>1</th>\n",
              "      <td>a</td>\n",
              "      <td>290.0</td>\n",
              "      <td>26.3</td>\n",
              "      <td>31.2</td>\n",
              "      <td>12.4800</td>\n",
              "      <td>4.3056</td>\n",
              "    </tr>\n",
              "    <tr>\n",
              "      <th>2</th>\n",
              "      <td>a</td>\n",
              "      <td>340.0</td>\n",
              "      <td>26.5</td>\n",
              "      <td>31.1</td>\n",
              "      <td>12.3778</td>\n",
              "      <td>4.6961</td>\n",
              "    </tr>\n",
              "    <tr>\n",
              "      <th>3</th>\n",
              "      <td>a</td>\n",
              "      <td>363.0</td>\n",
              "      <td>29.0</td>\n",
              "      <td>33.5</td>\n",
              "      <td>12.7300</td>\n",
              "      <td>4.4555</td>\n",
              "    </tr>\n",
              "    <tr>\n",
              "      <th>4</th>\n",
              "      <td>a</td>\n",
              "      <td>430.0</td>\n",
              "      <td>29.0</td>\n",
              "      <td>34.0</td>\n",
              "      <td>12.4440</td>\n",
              "      <td>5.1340</td>\n",
              "    </tr>\n",
              "  </tbody>\n",
              "</table>\n",
              "</div>\n",
              "    <div class=\"colab-df-buttons\">\n",
              "\n",
              "  <div class=\"colab-df-container\">\n",
              "    <button class=\"colab-df-convert\" onclick=\"convertToInteractive('df-0b048b47-d413-42ed-bb4d-df39fa3978bf')\"\n",
              "            title=\"Convert this dataframe to an interactive table.\"\n",
              "            style=\"display:none;\">\n",
              "\n",
              "  <svg xmlns=\"http://www.w3.org/2000/svg\" height=\"24px\" viewBox=\"0 -960 960 960\">\n",
              "    <path d=\"M120-120v-720h720v720H120Zm60-500h600v-160H180v160Zm220 220h160v-160H400v160Zm0 220h160v-160H400v160ZM180-400h160v-160H180v160Zm440 0h160v-160H620v160ZM180-180h160v-160H180v160Zm440 0h160v-160H620v160Z\"/>\n",
              "  </svg>\n",
              "    </button>\n",
              "\n",
              "  <style>\n",
              "    .colab-df-container {\n",
              "      display:flex;\n",
              "      gap: 12px;\n",
              "    }\n",
              "\n",
              "    .colab-df-convert {\n",
              "      background-color: #E8F0FE;\n",
              "      border: none;\n",
              "      border-radius: 50%;\n",
              "      cursor: pointer;\n",
              "      display: none;\n",
              "      fill: #1967D2;\n",
              "      height: 32px;\n",
              "      padding: 0 0 0 0;\n",
              "      width: 32px;\n",
              "    }\n",
              "\n",
              "    .colab-df-convert:hover {\n",
              "      background-color: #E2EBFA;\n",
              "      box-shadow: 0px 1px 2px rgba(60, 64, 67, 0.3), 0px 1px 3px 1px rgba(60, 64, 67, 0.15);\n",
              "      fill: #174EA6;\n",
              "    }\n",
              "\n",
              "    .colab-df-buttons div {\n",
              "      margin-bottom: 4px;\n",
              "    }\n",
              "\n",
              "    [theme=dark] .colab-df-convert {\n",
              "      background-color: #3B4455;\n",
              "      fill: #D2E3FC;\n",
              "    }\n",
              "\n",
              "    [theme=dark] .colab-df-convert:hover {\n",
              "      background-color: #434B5C;\n",
              "      box-shadow: 0px 1px 3px 1px rgba(0, 0, 0, 0.15);\n",
              "      filter: drop-shadow(0px 1px 2px rgba(0, 0, 0, 0.3));\n",
              "      fill: #FFFFFF;\n",
              "    }\n",
              "  </style>\n",
              "\n",
              "    <script>\n",
              "      const buttonEl =\n",
              "        document.querySelector('#df-0b048b47-d413-42ed-bb4d-df39fa3978bf button.colab-df-convert');\n",
              "      buttonEl.style.display =\n",
              "        google.colab.kernel.accessAllowed ? 'block' : 'none';\n",
              "\n",
              "      async function convertToInteractive(key) {\n",
              "        const element = document.querySelector('#df-0b048b47-d413-42ed-bb4d-df39fa3978bf');\n",
              "        const dataTable =\n",
              "          await google.colab.kernel.invokeFunction('convertToInteractive',\n",
              "                                                    [key], {});\n",
              "        if (!dataTable) return;\n",
              "\n",
              "        const docLinkHtml = 'Like what you see? Visit the ' +\n",
              "          '<a target=\"_blank\" href=https://colab.research.google.com/notebooks/data_table.ipynb>data table notebook</a>'\n",
              "          + ' to learn more about interactive tables.';\n",
              "        element.innerHTML = '';\n",
              "        dataTable['output_type'] = 'display_data';\n",
              "        await google.colab.output.renderOutput(dataTable, element);\n",
              "        const docLink = document.createElement('div');\n",
              "        docLink.innerHTML = docLinkHtml;\n",
              "        element.appendChild(docLink);\n",
              "      }\n",
              "    </script>\n",
              "  </div>\n",
              "\n",
              "\n",
              "<div id=\"df-7347c43d-ef76-424c-9213-fbe53b7392dd\">\n",
              "  <button class=\"colab-df-quickchart\" onclick=\"quickchart('df-7347c43d-ef76-424c-9213-fbe53b7392dd')\"\n",
              "            title=\"Suggest charts\"\n",
              "            style=\"display:none;\">\n",
              "\n",
              "<svg xmlns=\"http://www.w3.org/2000/svg\" height=\"24px\"viewBox=\"0 0 24 24\"\n",
              "     width=\"24px\">\n",
              "    <g>\n",
              "        <path d=\"M19 3H5c-1.1 0-2 .9-2 2v14c0 1.1.9 2 2 2h14c1.1 0 2-.9 2-2V5c0-1.1-.9-2-2-2zM9 17H7v-7h2v7zm4 0h-2V7h2v10zm4 0h-2v-4h2v4z\"/>\n",
              "    </g>\n",
              "</svg>\n",
              "  </button>\n",
              "\n",
              "<style>\n",
              "  .colab-df-quickchart {\n",
              "      --bg-color: #E8F0FE;\n",
              "      --fill-color: #1967D2;\n",
              "      --hover-bg-color: #E2EBFA;\n",
              "      --hover-fill-color: #174EA6;\n",
              "      --disabled-fill-color: #AAA;\n",
              "      --disabled-bg-color: #DDD;\n",
              "  }\n",
              "\n",
              "  [theme=dark] .colab-df-quickchart {\n",
              "      --bg-color: #3B4455;\n",
              "      --fill-color: #D2E3FC;\n",
              "      --hover-bg-color: #434B5C;\n",
              "      --hover-fill-color: #FFFFFF;\n",
              "      --disabled-bg-color: #3B4455;\n",
              "      --disabled-fill-color: #666;\n",
              "  }\n",
              "\n",
              "  .colab-df-quickchart {\n",
              "    background-color: var(--bg-color);\n",
              "    border: none;\n",
              "    border-radius: 50%;\n",
              "    cursor: pointer;\n",
              "    display: none;\n",
              "    fill: var(--fill-color);\n",
              "    height: 32px;\n",
              "    padding: 0;\n",
              "    width: 32px;\n",
              "  }\n",
              "\n",
              "  .colab-df-quickchart:hover {\n",
              "    background-color: var(--hover-bg-color);\n",
              "    box-shadow: 0 1px 2px rgba(60, 64, 67, 0.3), 0 1px 3px 1px rgba(60, 64, 67, 0.15);\n",
              "    fill: var(--button-hover-fill-color);\n",
              "  }\n",
              "\n",
              "  .colab-df-quickchart-complete:disabled,\n",
              "  .colab-df-quickchart-complete:disabled:hover {\n",
              "    background-color: var(--disabled-bg-color);\n",
              "    fill: var(--disabled-fill-color);\n",
              "    box-shadow: none;\n",
              "  }\n",
              "\n",
              "  .colab-df-spinner {\n",
              "    border: 2px solid var(--fill-color);\n",
              "    border-color: transparent;\n",
              "    border-bottom-color: var(--fill-color);\n",
              "    animation:\n",
              "      spin 1s steps(1) infinite;\n",
              "  }\n",
              "\n",
              "  @keyframes spin {\n",
              "    0% {\n",
              "      border-color: transparent;\n",
              "      border-bottom-color: var(--fill-color);\n",
              "      border-left-color: var(--fill-color);\n",
              "    }\n",
              "    20% {\n",
              "      border-color: transparent;\n",
              "      border-left-color: var(--fill-color);\n",
              "      border-top-color: var(--fill-color);\n",
              "    }\n",
              "    30% {\n",
              "      border-color: transparent;\n",
              "      border-left-color: var(--fill-color);\n",
              "      border-top-color: var(--fill-color);\n",
              "      border-right-color: var(--fill-color);\n",
              "    }\n",
              "    40% {\n",
              "      border-color: transparent;\n",
              "      border-right-color: var(--fill-color);\n",
              "      border-top-color: var(--fill-color);\n",
              "    }\n",
              "    60% {\n",
              "      border-color: transparent;\n",
              "      border-right-color: var(--fill-color);\n",
              "    }\n",
              "    80% {\n",
              "      border-color: transparent;\n",
              "      border-right-color: var(--fill-color);\n",
              "      border-bottom-color: var(--fill-color);\n",
              "    }\n",
              "    90% {\n",
              "      border-color: transparent;\n",
              "      border-bottom-color: var(--fill-color);\n",
              "    }\n",
              "  }\n",
              "</style>\n",
              "\n",
              "  <script>\n",
              "    async function quickchart(key) {\n",
              "      const quickchartButtonEl =\n",
              "        document.querySelector('#' + key + ' button');\n",
              "      quickchartButtonEl.disabled = true;  // To prevent multiple clicks.\n",
              "      quickchartButtonEl.classList.add('colab-df-spinner');\n",
              "      try {\n",
              "        const charts = await google.colab.kernel.invokeFunction(\n",
              "            'suggestCharts', [key], {});\n",
              "      } catch (error) {\n",
              "        console.error('Error during call to suggestCharts:', error);\n",
              "      }\n",
              "      quickchartButtonEl.classList.remove('colab-df-spinner');\n",
              "      quickchartButtonEl.classList.add('colab-df-quickchart-complete');\n",
              "    }\n",
              "    (() => {\n",
              "      let quickchartButtonEl =\n",
              "        document.querySelector('#df-7347c43d-ef76-424c-9213-fbe53b7392dd button');\n",
              "      quickchartButtonEl.style.display =\n",
              "        google.colab.kernel.accessAllowed ? 'block' : 'none';\n",
              "    })();\n",
              "  </script>\n",
              "</div>\n",
              "\n",
              "    </div>\n",
              "  </div>\n"
            ]
          },
          "metadata": {},
          "execution_count": 14
        }
      ]
    },
    {
      "cell_type": "code",
      "source": [
        "df.tail()"
      ],
      "metadata": {
        "colab": {
          "base_uri": "https://localhost:8080/",
          "height": 206
        },
        "id": "mQr5ICTPBcZ7",
        "outputId": "cccf9255-1879-4264-b00f-26270764d06c"
      },
      "execution_count": 15,
      "outputs": [
        {
          "output_type": "execute_result",
          "data": {
            "text/plain": [
              "    Target  Weight  Length  Diagonal  Height   Width\n",
              "154      g    12.2    12.2      13.4  2.0904  1.3936\n",
              "155      g    13.4    12.4      13.5  2.4300  1.2690\n",
              "156      g    12.2    13.0      13.8  2.2770  1.2558\n",
              "157      g    19.7    14.3      15.2  2.8728  2.0672\n",
              "158      g    19.9    15.0      16.2  2.9322  1.8792"
            ],
            "text/html": [
              "\n",
              "  <div id=\"df-5c367049-e819-4de3-88c0-d8b87514d206\" class=\"colab-df-container\">\n",
              "    <div>\n",
              "<style scoped>\n",
              "    .dataframe tbody tr th:only-of-type {\n",
              "        vertical-align: middle;\n",
              "    }\n",
              "\n",
              "    .dataframe tbody tr th {\n",
              "        vertical-align: top;\n",
              "    }\n",
              "\n",
              "    .dataframe thead th {\n",
              "        text-align: right;\n",
              "    }\n",
              "</style>\n",
              "<table border=\"1\" class=\"dataframe\">\n",
              "  <thead>\n",
              "    <tr style=\"text-align: right;\">\n",
              "      <th></th>\n",
              "      <th>Target</th>\n",
              "      <th>Weight</th>\n",
              "      <th>Length</th>\n",
              "      <th>Diagonal</th>\n",
              "      <th>Height</th>\n",
              "      <th>Width</th>\n",
              "    </tr>\n",
              "  </thead>\n",
              "  <tbody>\n",
              "    <tr>\n",
              "      <th>154</th>\n",
              "      <td>g</td>\n",
              "      <td>12.2</td>\n",
              "      <td>12.2</td>\n",
              "      <td>13.4</td>\n",
              "      <td>2.0904</td>\n",
              "      <td>1.3936</td>\n",
              "    </tr>\n",
              "    <tr>\n",
              "      <th>155</th>\n",
              "      <td>g</td>\n",
              "      <td>13.4</td>\n",
              "      <td>12.4</td>\n",
              "      <td>13.5</td>\n",
              "      <td>2.4300</td>\n",
              "      <td>1.2690</td>\n",
              "    </tr>\n",
              "    <tr>\n",
              "      <th>156</th>\n",
              "      <td>g</td>\n",
              "      <td>12.2</td>\n",
              "      <td>13.0</td>\n",
              "      <td>13.8</td>\n",
              "      <td>2.2770</td>\n",
              "      <td>1.2558</td>\n",
              "    </tr>\n",
              "    <tr>\n",
              "      <th>157</th>\n",
              "      <td>g</td>\n",
              "      <td>19.7</td>\n",
              "      <td>14.3</td>\n",
              "      <td>15.2</td>\n",
              "      <td>2.8728</td>\n",
              "      <td>2.0672</td>\n",
              "    </tr>\n",
              "    <tr>\n",
              "      <th>158</th>\n",
              "      <td>g</td>\n",
              "      <td>19.9</td>\n",
              "      <td>15.0</td>\n",
              "      <td>16.2</td>\n",
              "      <td>2.9322</td>\n",
              "      <td>1.8792</td>\n",
              "    </tr>\n",
              "  </tbody>\n",
              "</table>\n",
              "</div>\n",
              "    <div class=\"colab-df-buttons\">\n",
              "\n",
              "  <div class=\"colab-df-container\">\n",
              "    <button class=\"colab-df-convert\" onclick=\"convertToInteractive('df-5c367049-e819-4de3-88c0-d8b87514d206')\"\n",
              "            title=\"Convert this dataframe to an interactive table.\"\n",
              "            style=\"display:none;\">\n",
              "\n",
              "  <svg xmlns=\"http://www.w3.org/2000/svg\" height=\"24px\" viewBox=\"0 -960 960 960\">\n",
              "    <path d=\"M120-120v-720h720v720H120Zm60-500h600v-160H180v160Zm220 220h160v-160H400v160Zm0 220h160v-160H400v160ZM180-400h160v-160H180v160Zm440 0h160v-160H620v160ZM180-180h160v-160H180v160Zm440 0h160v-160H620v160Z\"/>\n",
              "  </svg>\n",
              "    </button>\n",
              "\n",
              "  <style>\n",
              "    .colab-df-container {\n",
              "      display:flex;\n",
              "      gap: 12px;\n",
              "    }\n",
              "\n",
              "    .colab-df-convert {\n",
              "      background-color: #E8F0FE;\n",
              "      border: none;\n",
              "      border-radius: 50%;\n",
              "      cursor: pointer;\n",
              "      display: none;\n",
              "      fill: #1967D2;\n",
              "      height: 32px;\n",
              "      padding: 0 0 0 0;\n",
              "      width: 32px;\n",
              "    }\n",
              "\n",
              "    .colab-df-convert:hover {\n",
              "      background-color: #E2EBFA;\n",
              "      box-shadow: 0px 1px 2px rgba(60, 64, 67, 0.3), 0px 1px 3px 1px rgba(60, 64, 67, 0.15);\n",
              "      fill: #174EA6;\n",
              "    }\n",
              "\n",
              "    .colab-df-buttons div {\n",
              "      margin-bottom: 4px;\n",
              "    }\n",
              "\n",
              "    [theme=dark] .colab-df-convert {\n",
              "      background-color: #3B4455;\n",
              "      fill: #D2E3FC;\n",
              "    }\n",
              "\n",
              "    [theme=dark] .colab-df-convert:hover {\n",
              "      background-color: #434B5C;\n",
              "      box-shadow: 0px 1px 3px 1px rgba(0, 0, 0, 0.15);\n",
              "      filter: drop-shadow(0px 1px 2px rgba(0, 0, 0, 0.3));\n",
              "      fill: #FFFFFF;\n",
              "    }\n",
              "  </style>\n",
              "\n",
              "    <script>\n",
              "      const buttonEl =\n",
              "        document.querySelector('#df-5c367049-e819-4de3-88c0-d8b87514d206 button.colab-df-convert');\n",
              "      buttonEl.style.display =\n",
              "        google.colab.kernel.accessAllowed ? 'block' : 'none';\n",
              "\n",
              "      async function convertToInteractive(key) {\n",
              "        const element = document.querySelector('#df-5c367049-e819-4de3-88c0-d8b87514d206');\n",
              "        const dataTable =\n",
              "          await google.colab.kernel.invokeFunction('convertToInteractive',\n",
              "                                                    [key], {});\n",
              "        if (!dataTable) return;\n",
              "\n",
              "        const docLinkHtml = 'Like what you see? Visit the ' +\n",
              "          '<a target=\"_blank\" href=https://colab.research.google.com/notebooks/data_table.ipynb>data table notebook</a>'\n",
              "          + ' to learn more about interactive tables.';\n",
              "        element.innerHTML = '';\n",
              "        dataTable['output_type'] = 'display_data';\n",
              "        await google.colab.output.renderOutput(dataTable, element);\n",
              "        const docLink = document.createElement('div');\n",
              "        docLink.innerHTML = docLinkHtml;\n",
              "        element.appendChild(docLink);\n",
              "      }\n",
              "    </script>\n",
              "  </div>\n",
              "\n",
              "\n",
              "<div id=\"df-34f53eed-37ba-4f2c-bfa5-ffcfe0a6ca99\">\n",
              "  <button class=\"colab-df-quickchart\" onclick=\"quickchart('df-34f53eed-37ba-4f2c-bfa5-ffcfe0a6ca99')\"\n",
              "            title=\"Suggest charts\"\n",
              "            style=\"display:none;\">\n",
              "\n",
              "<svg xmlns=\"http://www.w3.org/2000/svg\" height=\"24px\"viewBox=\"0 0 24 24\"\n",
              "     width=\"24px\">\n",
              "    <g>\n",
              "        <path d=\"M19 3H5c-1.1 0-2 .9-2 2v14c0 1.1.9 2 2 2h14c1.1 0 2-.9 2-2V5c0-1.1-.9-2-2-2zM9 17H7v-7h2v7zm4 0h-2V7h2v10zm4 0h-2v-4h2v4z\"/>\n",
              "    </g>\n",
              "</svg>\n",
              "  </button>\n",
              "\n",
              "<style>\n",
              "  .colab-df-quickchart {\n",
              "      --bg-color: #E8F0FE;\n",
              "      --fill-color: #1967D2;\n",
              "      --hover-bg-color: #E2EBFA;\n",
              "      --hover-fill-color: #174EA6;\n",
              "      --disabled-fill-color: #AAA;\n",
              "      --disabled-bg-color: #DDD;\n",
              "  }\n",
              "\n",
              "  [theme=dark] .colab-df-quickchart {\n",
              "      --bg-color: #3B4455;\n",
              "      --fill-color: #D2E3FC;\n",
              "      --hover-bg-color: #434B5C;\n",
              "      --hover-fill-color: #FFFFFF;\n",
              "      --disabled-bg-color: #3B4455;\n",
              "      --disabled-fill-color: #666;\n",
              "  }\n",
              "\n",
              "  .colab-df-quickchart {\n",
              "    background-color: var(--bg-color);\n",
              "    border: none;\n",
              "    border-radius: 50%;\n",
              "    cursor: pointer;\n",
              "    display: none;\n",
              "    fill: var(--fill-color);\n",
              "    height: 32px;\n",
              "    padding: 0;\n",
              "    width: 32px;\n",
              "  }\n",
              "\n",
              "  .colab-df-quickchart:hover {\n",
              "    background-color: var(--hover-bg-color);\n",
              "    box-shadow: 0 1px 2px rgba(60, 64, 67, 0.3), 0 1px 3px 1px rgba(60, 64, 67, 0.15);\n",
              "    fill: var(--button-hover-fill-color);\n",
              "  }\n",
              "\n",
              "  .colab-df-quickchart-complete:disabled,\n",
              "  .colab-df-quickchart-complete:disabled:hover {\n",
              "    background-color: var(--disabled-bg-color);\n",
              "    fill: var(--disabled-fill-color);\n",
              "    box-shadow: none;\n",
              "  }\n",
              "\n",
              "  .colab-df-spinner {\n",
              "    border: 2px solid var(--fill-color);\n",
              "    border-color: transparent;\n",
              "    border-bottom-color: var(--fill-color);\n",
              "    animation:\n",
              "      spin 1s steps(1) infinite;\n",
              "  }\n",
              "\n",
              "  @keyframes spin {\n",
              "    0% {\n",
              "      border-color: transparent;\n",
              "      border-bottom-color: var(--fill-color);\n",
              "      border-left-color: var(--fill-color);\n",
              "    }\n",
              "    20% {\n",
              "      border-color: transparent;\n",
              "      border-left-color: var(--fill-color);\n",
              "      border-top-color: var(--fill-color);\n",
              "    }\n",
              "    30% {\n",
              "      border-color: transparent;\n",
              "      border-left-color: var(--fill-color);\n",
              "      border-top-color: var(--fill-color);\n",
              "      border-right-color: var(--fill-color);\n",
              "    }\n",
              "    40% {\n",
              "      border-color: transparent;\n",
              "      border-right-color: var(--fill-color);\n",
              "      border-top-color: var(--fill-color);\n",
              "    }\n",
              "    60% {\n",
              "      border-color: transparent;\n",
              "      border-right-color: var(--fill-color);\n",
              "    }\n",
              "    80% {\n",
              "      border-color: transparent;\n",
              "      border-right-color: var(--fill-color);\n",
              "      border-bottom-color: var(--fill-color);\n",
              "    }\n",
              "    90% {\n",
              "      border-color: transparent;\n",
              "      border-bottom-color: var(--fill-color);\n",
              "    }\n",
              "  }\n",
              "</style>\n",
              "\n",
              "  <script>\n",
              "    async function quickchart(key) {\n",
              "      const quickchartButtonEl =\n",
              "        document.querySelector('#' + key + ' button');\n",
              "      quickchartButtonEl.disabled = true;  // To prevent multiple clicks.\n",
              "      quickchartButtonEl.classList.add('colab-df-spinner');\n",
              "      try {\n",
              "        const charts = await google.colab.kernel.invokeFunction(\n",
              "            'suggestCharts', [key], {});\n",
              "      } catch (error) {\n",
              "        console.error('Error during call to suggestCharts:', error);\n",
              "      }\n",
              "      quickchartButtonEl.classList.remove('colab-df-spinner');\n",
              "      quickchartButtonEl.classList.add('colab-df-quickchart-complete');\n",
              "    }\n",
              "    (() => {\n",
              "      let quickchartButtonEl =\n",
              "        document.querySelector('#df-34f53eed-37ba-4f2c-bfa5-ffcfe0a6ca99 button');\n",
              "      quickchartButtonEl.style.display =\n",
              "        google.colab.kernel.accessAllowed ? 'block' : 'none';\n",
              "    })();\n",
              "  </script>\n",
              "</div>\n",
              "\n",
              "    </div>\n",
              "  </div>\n"
            ]
          },
          "metadata": {},
          "execution_count": 15
        }
      ]
    },
    {
      "cell_type": "code",
      "source": [
        "df['Target'].value_counts()"
      ],
      "metadata": {
        "colab": {
          "base_uri": "https://localhost:8080/"
        },
        "id": "tmENS7YEBiHf",
        "outputId": "89103183-04ff-4e52-bbdf-15d323df2c8c"
      },
      "execution_count": 17,
      "outputs": [
        {
          "output_type": "execute_result",
          "data": {
            "text/plain": [
              "e    56\n",
              "a    35\n",
              "b    20\n",
              "f    17\n",
              "g    14\n",
              "d    11\n",
              "c     6\n",
              "Name: Target, dtype: int64"
            ]
          },
          "metadata": {},
          "execution_count": 17
        }
      ]
    },
    {
      "cell_type": "code",
      "source": [
        "X = df.iloc[:,1:]\n",
        "y = df['Target']"
      ],
      "metadata": {
        "id": "zVgzUFzACmGN"
      },
      "execution_count": 25,
      "outputs": []
    },
    {
      "cell_type": "markdown",
      "source": [
        "- 학습할때의 데이터모양이 나중에 예측할때도 동일한 모양이되어야 한다.\n",
        "- 그래서 데이터프레임을 -> 넘파이형태로 변경"
      ],
      "metadata": {
        "id": "COjEXJ8fDJxn"
      }
    },
    {
      "cell_type": "code",
      "source": [
        "X_np = X.to_numpy()\n",
        "X_np[:5]"
      ],
      "metadata": {
        "colab": {
          "base_uri": "https://localhost:8080/"
        },
        "id": "BJ-Ef4GCC_vQ",
        "outputId": "bb8ca73a-74ed-49b8-e415-1967975d6b14"
      },
      "execution_count": 26,
      "outputs": [
        {
          "output_type": "execute_result",
          "data": {
            "text/plain": [
              "array([[242.    ,  25.4   ,  30.    ,  11.52  ,   4.02  ],\n",
              "       [290.    ,  26.3   ,  31.2   ,  12.48  ,   4.3056],\n",
              "       [340.    ,  26.5   ,  31.1   ,  12.3778,   4.6961],\n",
              "       [363.    ,  29.    ,  33.5   ,  12.73  ,   4.4555],\n",
              "       [430.    ,  29.    ,  34.    ,  12.444 ,   5.134 ]])"
            ]
          },
          "metadata": {},
          "execution_count": 26
        }
      ]
    },
    {
      "cell_type": "code",
      "source": [
        "y_np = y.to_numpy()\n",
        "y_np[:5]"
      ],
      "metadata": {
        "colab": {
          "base_uri": "https://localhost:8080/"
        },
        "id": "azwKoLD1DGhE",
        "outputId": "13a7355f-bbf3-4c1d-a36e-db57579409a0"
      },
      "execution_count": 28,
      "outputs": [
        {
          "output_type": "execute_result",
          "data": {
            "text/plain": [
              "array(['a', 'a', 'a', 'a', 'a'], dtype=object)"
            ]
          },
          "metadata": {},
          "execution_count": 28
        }
      ]
    },
    {
      "cell_type": "markdown",
      "source": [
        "학습용 테스트용 데이터로 섞고 분리한다."
      ],
      "metadata": {
        "id": "Hd39KSuvD1au"
      }
    },
    {
      "cell_type": "code",
      "source": [
        "from sklearn.preprocessing import StandardScaler\n",
        "X_np_scaled = StandardScaler().fit_transform(X_np)"
      ],
      "metadata": {
        "id": "PObeqRs0EQdi"
      },
      "execution_count": 30,
      "outputs": []
    },
    {
      "cell_type": "code",
      "source": [
        "from sklearn.model_selection import train_test_split\n",
        "X_train,X_test, y_train,y_test =  train_test_split(X_np_scaled, y_np,random_state=50,stratify=y_np)"
      ],
      "metadata": {
        "id": "2sq8WxlnDram"
      },
      "execution_count": 52,
      "outputs": []
    },
    {
      "cell_type": "markdown",
      "source": [
        "k-최근접 이웃 알고리즘을 이용해서 분류모델 생성"
      ],
      "metadata": {
        "id": "DI_zJ_glFAJD"
      }
    },
    {
      "cell_type": "code",
      "source": [
        "from sklearn.neighbors import KNeighborsClassifier\n",
        "# 객체생성\n",
        "knc = KNeighborsClassifier()\n",
        "# 학습\n",
        "knc.fit(X_train, y_train)\n",
        "# 평가 - 훈련데이터\n",
        "print(knc.score(X_train, y_train))\n",
        "# 평가 - 테스트데이터\n",
        "print(knc.score(X_test, y_test))"
      ],
      "metadata": {
        "colab": {
          "base_uri": "https://localhost:8080/"
        },
        "id": "8aRmur17E2Zy",
        "outputId": "85309602-f5f9-411e-92b9-97d7a7e80f57"
      },
      "execution_count": 53,
      "outputs": [
        {
          "output_type": "stream",
          "name": "stdout",
          "text": [
            "0.8403361344537815\n",
            "0.8\n"
          ]
        }
      ]
    },
    {
      "cell_type": "code",
      "source": [
        "import numpy as np\n",
        "np.unique(y_train,return_counts=True)"
      ],
      "metadata": {
        "colab": {
          "base_uri": "https://localhost:8080/"
        },
        "id": "nK3CRaD_GjnS",
        "outputId": "071d84d8-69c2-4636-dff6-47cab9b047ab"
      },
      "execution_count": 54,
      "outputs": [
        {
          "output_type": "execute_result",
          "data": {
            "text/plain": [
              "(array(['a', 'b', 'c', 'd', 'e', 'f', 'g'], dtype=object),\n",
              " array([26, 15,  5,  8, 42, 13, 10]))"
            ]
          },
          "metadata": {},
          "execution_count": 54
        }
      ]
    },
    {
      "cell_type": "code",
      "source": [
        "np.unique(y_test,return_counts=True)"
      ],
      "metadata": {
        "colab": {
          "base_uri": "https://localhost:8080/"
        },
        "id": "4fKaKmQsHFC6",
        "outputId": "0b3cc193-1699-44f0-da0c-20174f280ada"
      },
      "execution_count": 55,
      "outputs": [
        {
          "output_type": "execute_result",
          "data": {
            "text/plain": [
              "(array(['a', 'b', 'c', 'd', 'e', 'f', 'g'], dtype=object),\n",
              " array([ 9,  5,  1,  3, 14,  4,  4]))"
            ]
          },
          "metadata": {},
          "execution_count": 55
        }
      ]
    },
    {
      "cell_type": "code",
      "source": [
        "knc.predict(X_test[:5])"
      ],
      "metadata": {
        "colab": {
          "base_uri": "https://localhost:8080/"
        },
        "id": "o5bxK5IwHgcr",
        "outputId": "f3c0925f-8b08-422c-bca7-8479e0587e47"
      },
      "execution_count": 56,
      "outputs": [
        {
          "output_type": "execute_result",
          "data": {
            "text/plain": [
              "array(['g', 'a', 'g', 'e', 'e'], dtype=object)"
            ]
          },
          "metadata": {},
          "execution_count": 56
        }
      ]
    },
    {
      "cell_type": "markdown",
      "source": [
        "분류모델에서  why 테스트데이터를 a 또는 b 라고 분류(예측)할까?\n",
        "  - 각 클래스에 대한 확률로 값을 표현 - proba"
      ],
      "metadata": {
        "id": "3MPlwQdnIdcB"
      }
    },
    {
      "cell_type": "code",
      "source": [
        "knc.predict_proba(X_test[:5])"
      ],
      "metadata": {
        "colab": {
          "base_uri": "https://localhost:8080/"
        },
        "id": "WjvZl8OXIWLP",
        "outputId": "949be37f-7327-412e-a892-5bd99a5b7809"
      },
      "execution_count": 57,
      "outputs": [
        {
          "output_type": "execute_result",
          "data": {
            "text/plain": [
              "array([[0. , 0.2, 0. , 0. , 0.2, 0. , 0.6],\n",
              "       [1. , 0. , 0. , 0. , 0. , 0. , 0. ],\n",
              "       [0. , 0. , 0. , 0. , 0. , 0. , 1. ],\n",
              "       [0. , 0.2, 0. , 0. , 0.8, 0. , 0. ],\n",
              "       [0. , 0.2, 0. , 0. , 0.8, 0. , 0. ]])"
            ]
          },
          "metadata": {},
          "execution_count": 57
        }
      ]
    },
    {
      "cell_type": "markdown",
      "source": [
        "로지스틱회귀는 이진분류에 특화되어 있다\n",
        "  - 기존 데이터중에 분류 두개를 뽑아서 적용"
      ],
      "metadata": {
        "id": "ZZq7m1EuJWe2"
      }
    },
    {
      "cell_type": "code",
      "source": [
        "import pandas as pd\n",
        "df = pd.read_csv('https://raw.githubusercontent.com/leekyuyoung20231211/python/main/data/logistic_data.csv')\n",
        "df['Target'].value_counts()"
      ],
      "metadata": {
        "colab": {
          "base_uri": "https://localhost:8080/"
        },
        "id": "phjGLkQLJCUC",
        "outputId": "65f17f2d-8426-4cdc-ff77-2f43189eef2f"
      },
      "execution_count": 59,
      "outputs": [
        {
          "output_type": "execute_result",
          "data": {
            "text/plain": [
              "e    56\n",
              "a    35\n",
              "b    20\n",
              "f    17\n",
              "g    14\n",
              "d    11\n",
              "c     6\n",
              "Name: Target, dtype: int64"
            ]
          },
          "metadata": {},
          "execution_count": 59
        }
      ]
    },
    {
      "cell_type": "code",
      "source": [
        "df[(df['Target'] == 'e') | (df['Target'] == 'a')]"
      ],
      "metadata": {
        "id": "srZMpi_MJxr6"
      },
      "execution_count": null,
      "outputs": []
    },
    {
      "cell_type": "code",
      "source": [
        "# prompt: df[(df['Target'] == 'e') | (df['Target'] == 'a')]  간단하게 개선\n",
        "\n",
        "logistic_df =  df[df['Target'].isin(['e','a'])]\n",
        "logistic_df.head()"
      ],
      "metadata": {
        "colab": {
          "base_uri": "https://localhost:8080/",
          "height": 206
        },
        "id": "_wHGLqzQKgvZ",
        "outputId": "20b7f3f0-6006-45cb-c284-1c6bd9522941"
      },
      "execution_count": 65,
      "outputs": [
        {
          "output_type": "execute_result",
          "data": {
            "text/plain": [
              "  Target  Weight  Length  Diagonal   Height   Width\n",
              "0      a   242.0    25.4      30.0  11.5200  4.0200\n",
              "1      a   290.0    26.3      31.2  12.4800  4.3056\n",
              "2      a   340.0    26.5      31.1  12.3778  4.6961\n",
              "3      a   363.0    29.0      33.5  12.7300  4.4555\n",
              "4      a   430.0    29.0      34.0  12.4440  5.1340"
            ],
            "text/html": [
              "\n",
              "  <div id=\"df-455ad20f-3198-4b6b-8235-3f6d893fcfff\" class=\"colab-df-container\">\n",
              "    <div>\n",
              "<style scoped>\n",
              "    .dataframe tbody tr th:only-of-type {\n",
              "        vertical-align: middle;\n",
              "    }\n",
              "\n",
              "    .dataframe tbody tr th {\n",
              "        vertical-align: top;\n",
              "    }\n",
              "\n",
              "    .dataframe thead th {\n",
              "        text-align: right;\n",
              "    }\n",
              "</style>\n",
              "<table border=\"1\" class=\"dataframe\">\n",
              "  <thead>\n",
              "    <tr style=\"text-align: right;\">\n",
              "      <th></th>\n",
              "      <th>Target</th>\n",
              "      <th>Weight</th>\n",
              "      <th>Length</th>\n",
              "      <th>Diagonal</th>\n",
              "      <th>Height</th>\n",
              "      <th>Width</th>\n",
              "    </tr>\n",
              "  </thead>\n",
              "  <tbody>\n",
              "    <tr>\n",
              "      <th>0</th>\n",
              "      <td>a</td>\n",
              "      <td>242.0</td>\n",
              "      <td>25.4</td>\n",
              "      <td>30.0</td>\n",
              "      <td>11.5200</td>\n",
              "      <td>4.0200</td>\n",
              "    </tr>\n",
              "    <tr>\n",
              "      <th>1</th>\n",
              "      <td>a</td>\n",
              "      <td>290.0</td>\n",
              "      <td>26.3</td>\n",
              "      <td>31.2</td>\n",
              "      <td>12.4800</td>\n",
              "      <td>4.3056</td>\n",
              "    </tr>\n",
              "    <tr>\n",
              "      <th>2</th>\n",
              "      <td>a</td>\n",
              "      <td>340.0</td>\n",
              "      <td>26.5</td>\n",
              "      <td>31.1</td>\n",
              "      <td>12.3778</td>\n",
              "      <td>4.6961</td>\n",
              "    </tr>\n",
              "    <tr>\n",
              "      <th>3</th>\n",
              "      <td>a</td>\n",
              "      <td>363.0</td>\n",
              "      <td>29.0</td>\n",
              "      <td>33.5</td>\n",
              "      <td>12.7300</td>\n",
              "      <td>4.4555</td>\n",
              "    </tr>\n",
              "    <tr>\n",
              "      <th>4</th>\n",
              "      <td>a</td>\n",
              "      <td>430.0</td>\n",
              "      <td>29.0</td>\n",
              "      <td>34.0</td>\n",
              "      <td>12.4440</td>\n",
              "      <td>5.1340</td>\n",
              "    </tr>\n",
              "  </tbody>\n",
              "</table>\n",
              "</div>\n",
              "    <div class=\"colab-df-buttons\">\n",
              "\n",
              "  <div class=\"colab-df-container\">\n",
              "    <button class=\"colab-df-convert\" onclick=\"convertToInteractive('df-455ad20f-3198-4b6b-8235-3f6d893fcfff')\"\n",
              "            title=\"Convert this dataframe to an interactive table.\"\n",
              "            style=\"display:none;\">\n",
              "\n",
              "  <svg xmlns=\"http://www.w3.org/2000/svg\" height=\"24px\" viewBox=\"0 -960 960 960\">\n",
              "    <path d=\"M120-120v-720h720v720H120Zm60-500h600v-160H180v160Zm220 220h160v-160H400v160Zm0 220h160v-160H400v160ZM180-400h160v-160H180v160Zm440 0h160v-160H620v160ZM180-180h160v-160H180v160Zm440 0h160v-160H620v160Z\"/>\n",
              "  </svg>\n",
              "    </button>\n",
              "\n",
              "  <style>\n",
              "    .colab-df-container {\n",
              "      display:flex;\n",
              "      gap: 12px;\n",
              "    }\n",
              "\n",
              "    .colab-df-convert {\n",
              "      background-color: #E8F0FE;\n",
              "      border: none;\n",
              "      border-radius: 50%;\n",
              "      cursor: pointer;\n",
              "      display: none;\n",
              "      fill: #1967D2;\n",
              "      height: 32px;\n",
              "      padding: 0 0 0 0;\n",
              "      width: 32px;\n",
              "    }\n",
              "\n",
              "    .colab-df-convert:hover {\n",
              "      background-color: #E2EBFA;\n",
              "      box-shadow: 0px 1px 2px rgba(60, 64, 67, 0.3), 0px 1px 3px 1px rgba(60, 64, 67, 0.15);\n",
              "      fill: #174EA6;\n",
              "    }\n",
              "\n",
              "    .colab-df-buttons div {\n",
              "      margin-bottom: 4px;\n",
              "    }\n",
              "\n",
              "    [theme=dark] .colab-df-convert {\n",
              "      background-color: #3B4455;\n",
              "      fill: #D2E3FC;\n",
              "    }\n",
              "\n",
              "    [theme=dark] .colab-df-convert:hover {\n",
              "      background-color: #434B5C;\n",
              "      box-shadow: 0px 1px 3px 1px rgba(0, 0, 0, 0.15);\n",
              "      filter: drop-shadow(0px 1px 2px rgba(0, 0, 0, 0.3));\n",
              "      fill: #FFFFFF;\n",
              "    }\n",
              "  </style>\n",
              "\n",
              "    <script>\n",
              "      const buttonEl =\n",
              "        document.querySelector('#df-455ad20f-3198-4b6b-8235-3f6d893fcfff button.colab-df-convert');\n",
              "      buttonEl.style.display =\n",
              "        google.colab.kernel.accessAllowed ? 'block' : 'none';\n",
              "\n",
              "      async function convertToInteractive(key) {\n",
              "        const element = document.querySelector('#df-455ad20f-3198-4b6b-8235-3f6d893fcfff');\n",
              "        const dataTable =\n",
              "          await google.colab.kernel.invokeFunction('convertToInteractive',\n",
              "                                                    [key], {});\n",
              "        if (!dataTable) return;\n",
              "\n",
              "        const docLinkHtml = 'Like what you see? Visit the ' +\n",
              "          '<a target=\"_blank\" href=https://colab.research.google.com/notebooks/data_table.ipynb>data table notebook</a>'\n",
              "          + ' to learn more about interactive tables.';\n",
              "        element.innerHTML = '';\n",
              "        dataTable['output_type'] = 'display_data';\n",
              "        await google.colab.output.renderOutput(dataTable, element);\n",
              "        const docLink = document.createElement('div');\n",
              "        docLink.innerHTML = docLinkHtml;\n",
              "        element.appendChild(docLink);\n",
              "      }\n",
              "    </script>\n",
              "  </div>\n",
              "\n",
              "\n",
              "<div id=\"df-0d0c5d12-f3e9-4d9c-bb22-fd4ac2120323\">\n",
              "  <button class=\"colab-df-quickchart\" onclick=\"quickchart('df-0d0c5d12-f3e9-4d9c-bb22-fd4ac2120323')\"\n",
              "            title=\"Suggest charts\"\n",
              "            style=\"display:none;\">\n",
              "\n",
              "<svg xmlns=\"http://www.w3.org/2000/svg\" height=\"24px\"viewBox=\"0 0 24 24\"\n",
              "     width=\"24px\">\n",
              "    <g>\n",
              "        <path d=\"M19 3H5c-1.1 0-2 .9-2 2v14c0 1.1.9 2 2 2h14c1.1 0 2-.9 2-2V5c0-1.1-.9-2-2-2zM9 17H7v-7h2v7zm4 0h-2V7h2v10zm4 0h-2v-4h2v4z\"/>\n",
              "    </g>\n",
              "</svg>\n",
              "  </button>\n",
              "\n",
              "<style>\n",
              "  .colab-df-quickchart {\n",
              "      --bg-color: #E8F0FE;\n",
              "      --fill-color: #1967D2;\n",
              "      --hover-bg-color: #E2EBFA;\n",
              "      --hover-fill-color: #174EA6;\n",
              "      --disabled-fill-color: #AAA;\n",
              "      --disabled-bg-color: #DDD;\n",
              "  }\n",
              "\n",
              "  [theme=dark] .colab-df-quickchart {\n",
              "      --bg-color: #3B4455;\n",
              "      --fill-color: #D2E3FC;\n",
              "      --hover-bg-color: #434B5C;\n",
              "      --hover-fill-color: #FFFFFF;\n",
              "      --disabled-bg-color: #3B4455;\n",
              "      --disabled-fill-color: #666;\n",
              "  }\n",
              "\n",
              "  .colab-df-quickchart {\n",
              "    background-color: var(--bg-color);\n",
              "    border: none;\n",
              "    border-radius: 50%;\n",
              "    cursor: pointer;\n",
              "    display: none;\n",
              "    fill: var(--fill-color);\n",
              "    height: 32px;\n",
              "    padding: 0;\n",
              "    width: 32px;\n",
              "  }\n",
              "\n",
              "  .colab-df-quickchart:hover {\n",
              "    background-color: var(--hover-bg-color);\n",
              "    box-shadow: 0 1px 2px rgba(60, 64, 67, 0.3), 0 1px 3px 1px rgba(60, 64, 67, 0.15);\n",
              "    fill: var(--button-hover-fill-color);\n",
              "  }\n",
              "\n",
              "  .colab-df-quickchart-complete:disabled,\n",
              "  .colab-df-quickchart-complete:disabled:hover {\n",
              "    background-color: var(--disabled-bg-color);\n",
              "    fill: var(--disabled-fill-color);\n",
              "    box-shadow: none;\n",
              "  }\n",
              "\n",
              "  .colab-df-spinner {\n",
              "    border: 2px solid var(--fill-color);\n",
              "    border-color: transparent;\n",
              "    border-bottom-color: var(--fill-color);\n",
              "    animation:\n",
              "      spin 1s steps(1) infinite;\n",
              "  }\n",
              "\n",
              "  @keyframes spin {\n",
              "    0% {\n",
              "      border-color: transparent;\n",
              "      border-bottom-color: var(--fill-color);\n",
              "      border-left-color: var(--fill-color);\n",
              "    }\n",
              "    20% {\n",
              "      border-color: transparent;\n",
              "      border-left-color: var(--fill-color);\n",
              "      border-top-color: var(--fill-color);\n",
              "    }\n",
              "    30% {\n",
              "      border-color: transparent;\n",
              "      border-left-color: var(--fill-color);\n",
              "      border-top-color: var(--fill-color);\n",
              "      border-right-color: var(--fill-color);\n",
              "    }\n",
              "    40% {\n",
              "      border-color: transparent;\n",
              "      border-right-color: var(--fill-color);\n",
              "      border-top-color: var(--fill-color);\n",
              "    }\n",
              "    60% {\n",
              "      border-color: transparent;\n",
              "      border-right-color: var(--fill-color);\n",
              "    }\n",
              "    80% {\n",
              "      border-color: transparent;\n",
              "      border-right-color: var(--fill-color);\n",
              "      border-bottom-color: var(--fill-color);\n",
              "    }\n",
              "    90% {\n",
              "      border-color: transparent;\n",
              "      border-bottom-color: var(--fill-color);\n",
              "    }\n",
              "  }\n",
              "</style>\n",
              "\n",
              "  <script>\n",
              "    async function quickchart(key) {\n",
              "      const quickchartButtonEl =\n",
              "        document.querySelector('#' + key + ' button');\n",
              "      quickchartButtonEl.disabled = true;  // To prevent multiple clicks.\n",
              "      quickchartButtonEl.classList.add('colab-df-spinner');\n",
              "      try {\n",
              "        const charts = await google.colab.kernel.invokeFunction(\n",
              "            'suggestCharts', [key], {});\n",
              "      } catch (error) {\n",
              "        console.error('Error during call to suggestCharts:', error);\n",
              "      }\n",
              "      quickchartButtonEl.classList.remove('colab-df-spinner');\n",
              "      quickchartButtonEl.classList.add('colab-df-quickchart-complete');\n",
              "    }\n",
              "    (() => {\n",
              "      let quickchartButtonEl =\n",
              "        document.querySelector('#df-0d0c5d12-f3e9-4d9c-bb22-fd4ac2120323 button');\n",
              "      quickchartButtonEl.style.display =\n",
              "        google.colab.kernel.accessAllowed ? 'block' : 'none';\n",
              "    })();\n",
              "  </script>\n",
              "</div>\n",
              "\n",
              "    </div>\n",
              "  </div>\n"
            ]
          },
          "metadata": {},
          "execution_count": 65
        }
      ]
    },
    {
      "cell_type": "code",
      "source": [
        "# 로지스틱회귀\n",
        "from sklearn.linear_model import LogisticRegression  # 분류모델"
      ],
      "metadata": {
        "id": "CGa1w4RmKnS8"
      },
      "execution_count": 66,
      "outputs": []
    },
    {
      "cell_type": "code",
      "source": [
        "# 데이터 분리\n",
        "logistic_X = logistic_df.iloc[:,1:].to_numpy()\n",
        "logistic_y = logistic_df['Target'].to_numpy()"
      ],
      "metadata": {
        "id": "XjJ0GIuUNmH9"
      },
      "execution_count": 69,
      "outputs": []
    },
    {
      "cell_type": "code",
      "source": [
        "# 데이터 표준화\n",
        "logistic_X_scaled = StandardScaler().fit_transform(logistic_X)"
      ],
      "metadata": {
        "id": "yEgYNTdDOQKR"
      },
      "execution_count": 70,
      "outputs": []
    },
    {
      "cell_type": "code",
      "source": [
        "# 학습용 테슽용 데이터 만들기\n",
        "X_train,X_test,y_train,y_test =  train_test_split(logistic_X_scaled,logistic_y,stratify=logistic_y, random_state=20)"
      ],
      "metadata": {
        "id": "SPTl9jOMOjIy"
      },
      "execution_count": 79,
      "outputs": []
    },
    {
      "cell_type": "code",
      "source": [
        "# 모델객체 만들고 학습하기\n",
        "lr = LogisticRegression()\n",
        "lr.fit(X_train,y_train)"
      ],
      "metadata": {
        "colab": {
          "base_uri": "https://localhost:8080/",
          "height": 74
        },
        "id": "BXsu1gvxO1Wk",
        "outputId": "9be3ed8c-483c-4e65-b688-4d1664e30ede"
      },
      "execution_count": 80,
      "outputs": [
        {
          "output_type": "execute_result",
          "data": {
            "text/plain": [
              "LogisticRegression()"
            ],
            "text/html": [
              "<style>#sk-container-id-3 {color: black;background-color: white;}#sk-container-id-3 pre{padding: 0;}#sk-container-id-3 div.sk-toggleable {background-color: white;}#sk-container-id-3 label.sk-toggleable__label {cursor: pointer;display: block;width: 100%;margin-bottom: 0;padding: 0.3em;box-sizing: border-box;text-align: center;}#sk-container-id-3 label.sk-toggleable__label-arrow:before {content: \"▸\";float: left;margin-right: 0.25em;color: #696969;}#sk-container-id-3 label.sk-toggleable__label-arrow:hover:before {color: black;}#sk-container-id-3 div.sk-estimator:hover label.sk-toggleable__label-arrow:before {color: black;}#sk-container-id-3 div.sk-toggleable__content {max-height: 0;max-width: 0;overflow: hidden;text-align: left;background-color: #f0f8ff;}#sk-container-id-3 div.sk-toggleable__content pre {margin: 0.2em;color: black;border-radius: 0.25em;background-color: #f0f8ff;}#sk-container-id-3 input.sk-toggleable__control:checked~div.sk-toggleable__content {max-height: 200px;max-width: 100%;overflow: auto;}#sk-container-id-3 input.sk-toggleable__control:checked~label.sk-toggleable__label-arrow:before {content: \"▾\";}#sk-container-id-3 div.sk-estimator input.sk-toggleable__control:checked~label.sk-toggleable__label {background-color: #d4ebff;}#sk-container-id-3 div.sk-label input.sk-toggleable__control:checked~label.sk-toggleable__label {background-color: #d4ebff;}#sk-container-id-3 input.sk-hidden--visually {border: 0;clip: rect(1px 1px 1px 1px);clip: rect(1px, 1px, 1px, 1px);height: 1px;margin: -1px;overflow: hidden;padding: 0;position: absolute;width: 1px;}#sk-container-id-3 div.sk-estimator {font-family: monospace;background-color: #f0f8ff;border: 1px dotted black;border-radius: 0.25em;box-sizing: border-box;margin-bottom: 0.5em;}#sk-container-id-3 div.sk-estimator:hover {background-color: #d4ebff;}#sk-container-id-3 div.sk-parallel-item::after {content: \"\";width: 100%;border-bottom: 1px solid gray;flex-grow: 1;}#sk-container-id-3 div.sk-label:hover label.sk-toggleable__label {background-color: #d4ebff;}#sk-container-id-3 div.sk-serial::before {content: \"\";position: absolute;border-left: 1px solid gray;box-sizing: border-box;top: 0;bottom: 0;left: 50%;z-index: 0;}#sk-container-id-3 div.sk-serial {display: flex;flex-direction: column;align-items: center;background-color: white;padding-right: 0.2em;padding-left: 0.2em;position: relative;}#sk-container-id-3 div.sk-item {position: relative;z-index: 1;}#sk-container-id-3 div.sk-parallel {display: flex;align-items: stretch;justify-content: center;background-color: white;position: relative;}#sk-container-id-3 div.sk-item::before, #sk-container-id-3 div.sk-parallel-item::before {content: \"\";position: absolute;border-left: 1px solid gray;box-sizing: border-box;top: 0;bottom: 0;left: 50%;z-index: -1;}#sk-container-id-3 div.sk-parallel-item {display: flex;flex-direction: column;z-index: 1;position: relative;background-color: white;}#sk-container-id-3 div.sk-parallel-item:first-child::after {align-self: flex-end;width: 50%;}#sk-container-id-3 div.sk-parallel-item:last-child::after {align-self: flex-start;width: 50%;}#sk-container-id-3 div.sk-parallel-item:only-child::after {width: 0;}#sk-container-id-3 div.sk-dashed-wrapped {border: 1px dashed gray;margin: 0 0.4em 0.5em 0.4em;box-sizing: border-box;padding-bottom: 0.4em;background-color: white;}#sk-container-id-3 div.sk-label label {font-family: monospace;font-weight: bold;display: inline-block;line-height: 1.2em;}#sk-container-id-3 div.sk-label-container {text-align: center;}#sk-container-id-3 div.sk-container {/* jupyter's `normalize.less` sets `[hidden] { display: none; }` but bootstrap.min.css set `[hidden] { display: none !important; }` so we also need the `!important` here to be able to override the default hidden behavior on the sphinx rendered scikit-learn.org. See: https://github.com/scikit-learn/scikit-learn/issues/21755 */display: inline-block !important;position: relative;}#sk-container-id-3 div.sk-text-repr-fallback {display: none;}</style><div id=\"sk-container-id-3\" class=\"sk-top-container\"><div class=\"sk-text-repr-fallback\"><pre>LogisticRegression()</pre><b>In a Jupyter environment, please rerun this cell to show the HTML representation or trust the notebook. <br />On GitHub, the HTML representation is unable to render, please try loading this page with nbviewer.org.</b></div><div class=\"sk-container\" hidden><div class=\"sk-item\"><div class=\"sk-estimator sk-toggleable\"><input class=\"sk-toggleable__control sk-hidden--visually\" id=\"sk-estimator-id-3\" type=\"checkbox\" checked><label for=\"sk-estimator-id-3\" class=\"sk-toggleable__label sk-toggleable__label-arrow\">LogisticRegression</label><div class=\"sk-toggleable__content\"><pre>LogisticRegression()</pre></div></div></div></div></div>"
            ]
          },
          "metadata": {},
          "execution_count": 80
        }
      ]
    },
    {
      "cell_type": "code",
      "source": [
        "print(lr.score(X_train,y_train))\n",
        "print(lr.score(X_test,y_test))"
      ],
      "metadata": {
        "colab": {
          "base_uri": "https://localhost:8080/"
        },
        "id": "ROnakrfiPW6M",
        "outputId": "f0b8069c-8338-44fb-cef5-fed18e03a756"
      },
      "execution_count": 81,
      "outputs": [
        {
          "output_type": "stream",
          "name": "stdout",
          "text": [
            "1.0\n",
            "1.0\n"
          ]
        }
      ]
    },
    {
      "cell_type": "code",
      "source": [
        "lr.classes_,"
      ],
      "metadata": {
        "colab": {
          "base_uri": "https://localhost:8080/"
        },
        "id": "G4nnEXqzPd17",
        "outputId": "148f8713-80bb-4983-ecb3-132b3906956c"
      },
      "execution_count": 83,
      "outputs": [
        {
          "output_type": "execute_result",
          "data": {
            "text/plain": [
              "(array(['a', 'e'], dtype=object), None)"
            ]
          },
          "metadata": {},
          "execution_count": 83
        }
      ]
    },
    {
      "cell_type": "code",
      "source": [
        "lr.predict(X_test[:5]), lr.predict_proba(X_test[:5]), lr.predict_log_proba(X_test[:5])"
      ],
      "metadata": {
        "colab": {
          "base_uri": "https://localhost:8080/"
        },
        "id": "c6gkWawEPs3s",
        "outputId": "2ddb7936-39d3-450c-b63a-70b695325e6f"
      },
      "execution_count": 86,
      "outputs": [
        {
          "output_type": "execute_result",
          "data": {
            "text/plain": [
              "(array(['a', 'e', 'e', 'a', 'e'], dtype=object),\n",
              " array([[0.91722845, 0.08277155],\n",
              "        [0.09895822, 0.90104178],\n",
              "        [0.04653441, 0.95346559],\n",
              "        [0.92933969, 0.07066031],\n",
              "        [0.0424492 , 0.9575508 ]]),\n",
              " array([[-0.08639871, -2.49167085],\n",
              "        [-2.31305758, -0.10420365],\n",
              "        [-3.06756314, -0.04765195],\n",
              "        [-0.07328095, -2.64987132],\n",
              "        [-3.1594472 , -0.04337651]]))"
            ]
          },
          "metadata": {},
          "execution_count": 86
        }
      ]
    },
    {
      "cell_type": "code",
      "source": [
        "# 선형계수(R-square)와 절편(bias)\n",
        "lr.coef_, lr.intercept_"
      ],
      "metadata": {
        "colab": {
          "base_uri": "https://localhost:8080/"
        },
        "id": "wNHuKs_dP21t",
        "outputId": "6b60e673-35ad-4e03-e819-c5071d452ec1"
      },
      "execution_count": 87,
      "outputs": [
        {
          "output_type": "execute_result",
          "data": {
            "text/plain": [
              "(array([[ 0.46188215,  0.60831737, -0.59998815, -3.32032289,  1.02678571]]),\n",
              " array([0.75184225]))"
            ]
          },
          "metadata": {},
          "execution_count": 87
        }
      ]
    },
    {
      "cell_type": "markdown",
      "source": [
        "로지스틱 회귀로 다중분류"
      ],
      "metadata": {
        "id": "UCXIauq0Qv0e"
      }
    },
    {
      "cell_type": "code",
      "source": [
        "lr = LogisticRegression(C=20,max_iter=1000)  # C는 규제알고리즘의 규제 강도 작을수록 규제가 크다 max_iter를 100 보다 높게 설정한다\n",
        "# 원본데이터에서 X, y 구분하고\n",
        "import pandas as pd\n",
        "df = pd.read_csv('https://raw.githubusercontent.com/leekyuyoung20231211/python/main/data/logistic_data.csv')\n",
        "# 학습용 테스트용 데이터 만들고\n",
        "X = df.iloc[:,1:].to_numpy()\n",
        "y = df.iloc[:,0].to_numpy()\n",
        "X_scaled =  StandardScaler().fit_transform(X)\n",
        "X_train,X_test,y_train,y_test =  train_test_split(X_scaled,y,random_state=50)\n",
        "# 학습\n",
        "lr.fit(X_train,y_train)\n",
        "# 평가\n",
        "print(lr.score(X_train,y_train))\n",
        "print(lr.score(X_test,y_test))\n",
        "# 예측\n",
        "print(lr.predict(X_test[-5:]))"
      ],
      "metadata": {
        "colab": {
          "base_uri": "https://localhost:8080/"
        },
        "id": "KBAQ7IRaQeD4",
        "outputId": "5c74ca4d-a5c9-4d35-e839-ab5b4ebd212e"
      },
      "execution_count": 92,
      "outputs": [
        {
          "output_type": "stream",
          "name": "stdout",
          "text": [
            "0.9411764705882353\n",
            "0.9\n",
            "['g' 'f' 'f' 'e' 'e']\n"
          ]
        }
      ]
    },
    {
      "cell_type": "code",
      "source": [
        "np.round(lr.predict_proba(X_test[-5:]), decimals=3)"
      ],
      "metadata": {
        "colab": {
          "base_uri": "https://localhost:8080/"
        },
        "id": "cAUP_zI1TvoD",
        "outputId": "13c0d9c8-444b-486b-a459-63e77f041f0f"
      },
      "execution_count": 99,
      "outputs": [
        {
          "output_type": "execute_result",
          "data": {
            "text/plain": [
              "array([[0.   , 0.007, 0.   , 0.002, 0.006, 0.   , 0.985],\n",
              "       [0.   , 0.   , 0.   , 0.   , 0.035, 0.965, 0.   ],\n",
              "       [0.   , 0.   , 0.   , 0.   , 0.018, 0.982, 0.   ],\n",
              "       [0.   , 0.363, 0.023, 0.018, 0.591, 0.004, 0.001],\n",
              "       [0.   , 0.193, 0.018, 0.003, 0.772, 0.013, 0.   ]])"
            ]
          },
          "metadata": {},
          "execution_count": 99
        }
      ]
    },
    {
      "cell_type": "code",
      "source": [],
      "metadata": {
        "id": "P2rybjo3U9Nq"
      },
      "execution_count": null,
      "outputs": []
    }
  ]
}