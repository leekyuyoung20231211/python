{
  "nbformat": 4,
  "nbformat_minor": 0,
  "metadata": {
    "colab": {
      "provenance": []
    },
    "kernelspec": {
      "name": "python3",
      "display_name": "Python 3"
    },
    "language_info": {
      "name": "python"
    }
  },
  "cells": [
    {
      "cell_type": "code",
      "execution_count": 1,
      "metadata": {
        "id": "UQGBwTcguGtr"
      },
      "outputs": [],
      "source": [
        "from IPython.display import Image"
      ]
    },
    {
      "cell_type": "code",
      "source": [
        "Image(url='https://raw.githubusercontent.com/rickiepark/ml-with-pytorch/main/ch13/figures/13_01.png', width=400)"
      ],
      "metadata": {
        "colab": {
          "base_uri": "https://localhost:8080/",
          "height": 341
        },
        "id": "hjgHuMHCuN5j",
        "outputId": "1c91d8f3-0d19-420d-a2bf-b3b8219291cd"
      },
      "execution_count": 4,
      "outputs": [
        {
          "output_type": "execute_result",
          "data": {
            "text/html": [
              "<img src=\"https://raw.githubusercontent.com/rickiepark/ml-with-pytorch/main/ch13/figures/13_01.png\" width=\"400\"/>"
            ],
            "text/plain": [
              "<IPython.core.display.Image object>"
            ]
          },
          "metadata": {},
          "execution_count": 4
        }
      ]
    },
    {
      "cell_type": "markdown",
      "source": [
        "파이토치로 구현"
      ],
      "metadata": {
        "id": "dKYQp3juu55B"
      }
    },
    {
      "cell_type": "code",
      "source": [
        "import torch"
      ],
      "metadata": {
        "id": "fPCI58LuuRCB"
      },
      "execution_count": 5,
      "outputs": []
    },
    {
      "cell_type": "code",
      "source": [
        "def compute_z(a, b, c):\n",
        "  r1 = torch.sub(a,b)\n",
        "  r2 = torch.mul(r1,2)\n",
        "  z = torch.add(r2,c)\n",
        "  return z"
      ],
      "metadata": {
        "id": "C1wbrdGNu9vo"
      },
      "execution_count": 6,
      "outputs": []
    },
    {
      "cell_type": "code",
      "source": [
        "a,b,c = torch.tensor(1),torch.tensor(2), torch.tensor(3)\n",
        "print(\"스칼라 입력 : \",  compute_z(a,b,c) )\n",
        "a,b,c = torch.tensor([1]),torch.tensor([2]), torch.tensor([3])\n",
        "print(\"랭크 1 입력 : \",  compute_z(a,b,c) )\n",
        "a,b,c = torch.tensor([[1]]),torch.tensor([[2]]), torch.tensor([[3]])\n",
        "print(\"랭크 2 입력 : \",  compute_z(a,b,c) )"
      ],
      "metadata": {
        "colab": {
          "base_uri": "https://localhost:8080/"
        },
        "id": "bsnU49wgvPxD",
        "outputId": "4bde0361-231a-4646-f8cd-495631a09a00"
      },
      "execution_count": 7,
      "outputs": [
        {
          "output_type": "stream",
          "name": "stdout",
          "text": [
            "스칼라 입력 :  tensor(1)\n",
            "랭크 1 입력 :  tensor([1])\n",
            "랭크 2 입력 :  tensor([[1]])\n"
          ]
        }
      ]
    },
    {
      "cell_type": "code",
      "source": [
        "a = torch.tensor(3.14, requires_grad=True)\n",
        "b = torch.tensor([1.0, 2.0, 3.0], requires_grad=True)\n",
        "print(a)\n",
        "print(b)"
      ],
      "metadata": {
        "colab": {
          "base_uri": "https://localhost:8080/"
        },
        "id": "tsa9razKv0KV",
        "outputId": "253e5417-60e0-4941-c579-79d316068f4e"
      },
      "execution_count": 8,
      "outputs": [
        {
          "output_type": "stream",
          "name": "stdout",
          "text": [
            "tensor(3.1400, requires_grad=True)\n",
            "tensor([1., 2., 3.], requires_grad=True)\n"
          ]
        }
      ]
    },
    {
      "cell_type": "code",
      "source": [
        "a.requires_grad"
      ],
      "metadata": {
        "colab": {
          "base_uri": "https://localhost:8080/"
        },
        "id": "XNV4LgJown86",
        "outputId": "860d78e8-e0f4-4555-8bf0-7eea19067bcc"
      },
      "execution_count": 11,
      "outputs": [
        {
          "output_type": "execute_result",
          "data": {
            "text/plain": [
              "True"
            ]
          },
          "metadata": {},
          "execution_count": 11
        }
      ]
    },
    {
      "cell_type": "code",
      "source": [
        "w = torch.tensor([1.0, 2.0, 3.0])\n",
        "w.requires_grad"
      ],
      "metadata": {
        "colab": {
          "base_uri": "https://localhost:8080/"
        },
        "id": "H6WhefQTwutE",
        "outputId": "2293b162-0c81-4bac-c9c7-32b6419be332"
      },
      "execution_count": 12,
      "outputs": [
        {
          "output_type": "execute_result",
          "data": {
            "text/plain": [
              "False"
            ]
          },
          "metadata": {},
          "execution_count": 12
        }
      ]
    },
    {
      "cell_type": "code",
      "source": [
        "w.requires_grad_()  # 그레이드 적용\n",
        "w.requires_grad"
      ],
      "metadata": {
        "colab": {
          "base_uri": "https://localhost:8080/"
        },
        "id": "G2vuwn-Cw4Rw",
        "outputId": "256f7321-0a3d-461a-928c-966bc6cda61b"
      },
      "execution_count": 13,
      "outputs": [
        {
          "output_type": "execute_result",
          "data": {
            "text/plain": [
              "True"
            ]
          },
          "metadata": {},
          "execution_count": 13
        }
      ]
    },
    {
      "cell_type": "code",
      "source": [
        "import torch.nn as nn\n",
        "torch.manual_seed(1)\n",
        "w = torch.empty(2,3)\n",
        "print(w)\n",
        "nn.init.xavier_normal_(w)  # xavier초기화를 적용해서 w의 값을 초기화  , xavier초기화는 신경망의 가중치를 적절하게 초기화해서 그레이디언트의 전파를 개선\n",
        "print(w)"
      ],
      "metadata": {
        "colab": {
          "base_uri": "https://localhost:8080/"
        },
        "id": "gIOW5QC6w_eo",
        "outputId": "13917364-628b-4288-ba67-a90358cc8278"
      },
      "execution_count": 15,
      "outputs": [
        {
          "output_type": "stream",
          "name": "stdout",
          "text": [
            "tensor([[-3.1350e+29,  4.5891e-41, -1.3772e-14],\n",
            "        [ 3.0890e-41,  4.4842e-44,  0.0000e+00]])\n",
            "tensor([[ 0.4183,  0.1688,  0.0390],\n",
            "        [ 0.3930, -0.2858, -0.1051]])\n"
          ]
        }
      ]
    },
    {
      "cell_type": "code",
      "source": [
        "class MyModule(nn.Module):\n",
        "  def __init__(self):\n",
        "    self.w1 = torch.empty(2,3, requires_grad=True)\n",
        "    nn.init.xavier_normal_(self.w1)\n",
        "    self.w2 = torch.empty(1,2, requires_grad=True)\n",
        "    nn.init.xavier_normal_(self.w2)"
      ],
      "metadata": {
        "id": "WqT5srPjxfyY"
      },
      "execution_count": 16,
      "outputs": []
    },
    {
      "cell_type": "markdown",
      "source": [
        "자동 미분으로 그레이디언트 계산"
      ],
      "metadata": {
        "id": "2AVaPRQlyHXJ"
      }
    },
    {
      "cell_type": "code",
      "source": [
        "w = torch.tensor(1.0, requires_grad=True)\n",
        "b = torch.tensor(0.5, requires_grad=True)\n",
        "\n",
        "x = torch.tensor([1.4])\n",
        "y = torch.tensor([2.1])\n",
        "\n",
        "z = torch.add(torch.mul(w,x), b)\n",
        "\n",
        "loss = (y- z).pow(2).sum()\n",
        "loss.backward()\n",
        "\n",
        "print(\"dL/dW :\",w.grad)\n",
        "print(\"dL/db :\",b.grad)"
      ],
      "metadata": {
        "colab": {
          "base_uri": "https://localhost:8080/"
        },
        "id": "hVx1LaWHyBn-",
        "outputId": "0c454e14-eef3-4334-f85a-2164bab3a43c"
      },
      "execution_count": 20,
      "outputs": [
        {
          "output_type": "stream",
          "name": "stdout",
          "text": [
            "dL/dW : tensor(-0.5600)\n",
            "dL/db : tensor(-0.4000)\n"
          ]
        }
      ]
    },
    {
      "cell_type": "code",
      "source": [
        "2*x*((w*x+b) - y)"
      ],
      "metadata": {
        "colab": {
          "base_uri": "https://localhost:8080/"
        },
        "id": "Z73eyKu0zOAi",
        "outputId": "8717fbe2-c462-4afb-8599-4f5d23362665"
      },
      "execution_count": 22,
      "outputs": [
        {
          "output_type": "execute_result",
          "data": {
            "text/plain": [
              "tensor([-0.5600], grad_fn=<MulBackward0>)"
            ]
          },
          "metadata": {},
          "execution_count": 22
        }
      ]
    },
    {
      "cell_type": "code",
      "source": [],
      "metadata": {
        "id": "8eGhBW4Bz8ci"
      },
      "execution_count": null,
      "outputs": []
    }
  ]
}