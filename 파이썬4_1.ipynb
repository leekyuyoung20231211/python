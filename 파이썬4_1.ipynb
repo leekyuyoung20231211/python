{
  "nbformat": 4,
  "nbformat_minor": 0,
  "metadata": {
    "colab": {
      "provenance": []
    },
    "kernelspec": {
      "name": "python3",
      "display_name": "Python 3"
    },
    "language_info": {
      "name": "python"
    }
  },
  "cells": [
    {
      "cell_type": "code",
      "source": [
        "# 구글 드라이버를 마운트해서 모듈 경로를 인식\n",
        "import sys\n",
        "sys.path.append('/content/drive/MyDrive/module')"
      ],
      "metadata": {
        "id": "GVh1qTvmxVn3"
      },
      "execution_count": null,
      "outputs": []
    },
    {
      "cell_type": "code",
      "execution_count": null,
      "metadata": {
        "id": "PTEmkbvntnAy"
      },
      "outputs": [],
      "source": [
        "import fag_converter"
      ]
    },
    {
      "cell_type": "code",
      "source": [
        "fag_converter.convert_c_to_f(12)"
      ],
      "metadata": {
        "colab": {
          "base_uri": "https://localhost:8080/"
        },
        "id": "3XuMhuY1wpG2",
        "outputId": "67976642-ad3e-47e3-c491-9e78777da3fc"
      },
      "execution_count": null,
      "outputs": [
        {
          "output_type": "execute_result",
          "data": {
            "text/plain": [
              "53.6"
            ]
          },
          "metadata": {},
          "execution_count": 3
        }
      ]
    },
    {
      "cell_type": "code",
      "source": [
        "import fag_converter as fah"
      ],
      "metadata": {
        "id": "2k2Nq-c3ww22"
      },
      "execution_count": null,
      "outputs": []
    },
    {
      "cell_type": "code",
      "source": [
        "fah.convert_c_to_f(12)"
      ],
      "metadata": {
        "colab": {
          "base_uri": "https://localhost:8080/"
        },
        "id": "1Dax2yC4zU4J",
        "outputId": "abf9441f-9ad3-4d0a-bb41-118c12b7ed4b"
      },
      "execution_count": null,
      "outputs": [
        {
          "output_type": "execute_result",
          "data": {
            "text/plain": [
              "53.6"
            ]
          },
          "metadata": {},
          "execution_count": 5
        }
      ]
    },
    {
      "cell_type": "code",
      "source": [
        "from fag_converter import convert_c_to_f\n",
        "convert_c_to_f(12)"
      ],
      "metadata": {
        "colab": {
          "base_uri": "https://localhost:8080/"
        },
        "id": "xmlFXstVzYkp",
        "outputId": "b045add6-66f6-41af-ff4a-f351290e8dd8"
      },
      "execution_count": null,
      "outputs": [
        {
          "output_type": "execute_result",
          "data": {
            "text/plain": [
              "53.6"
            ]
          },
          "metadata": {},
          "execution_count": 6
        }
      ]
    },
    {
      "cell_type": "code",
      "source": [
        "from fag_converter import *\n",
        "convert_c_to_f(12)"
      ],
      "metadata": {
        "colab": {
          "base_uri": "https://localhost:8080/"
        },
        "id": "7VZhD_Tn0LhM",
        "outputId": "9d4c0347-c2b2-4fb1-df8b-95ecfb387282"
      },
      "execution_count": null,
      "outputs": [
        {
          "output_type": "execute_result",
          "data": {
            "text/plain": [
              "53.6"
            ]
          },
          "metadata": {},
          "execution_count": 7
        }
      ]
    },
    {
      "cell_type": "code",
      "source": [
        "testMethod()"
      ],
      "metadata": {
        "colab": {
          "base_uri": "https://localhost:8080/"
        },
        "id": "bai3tdds0aIu",
        "outputId": "667ccfe6-ce76-480a-bbc0-9a14791068f4"
      },
      "execution_count": null,
      "outputs": [
        {
          "output_type": "stream",
          "name": "stdout",
          "text": [
            "testMethod\n"
          ]
        }
      ]
    },
    {
      "cell_type": "code",
      "source": [
        "# make directory\n",
        "!mkdir roboadvisor"
      ],
      "metadata": {
        "id": "6mGEJMNg02Uu"
      },
      "execution_count": null,
      "outputs": []
    },
    {
      "cell_type": "code",
      "source": [
        "!cd roboadvisor/"
      ],
      "metadata": {
        "colab": {
          "base_uri": "https://localhost:8080/"
        },
        "id": "PQWRbyUt7C3q",
        "outputId": "14f933cf-cf58-47dc-e3ee-9870facae06f"
      },
      "execution_count": null,
      "outputs": [
        {
          "output_type": "stream",
          "name": "stdout",
          "text": [
            "/content/roboadvisor\n"
          ]
        }
      ]
    },
    {
      "cell_type": "code",
      "source": [
        "# 상위경로로 이동\n",
        "# import os\n",
        "# os.chdir('..')"
      ],
      "metadata": {
        "id": "dsTy9i2t3Nfy"
      },
      "execution_count": null,
      "outputs": []
    },
    {
      "cell_type": "code",
      "source": [
        "# 현재경로 출력하기\n",
        "import os\n",
        "os.getcwd()"
      ],
      "metadata": {
        "colab": {
          "base_uri": "https://localhost:8080/",
          "height": 35
        },
        "id": "rVCqUsK63Rhl",
        "outputId": "9a227533-ba10-4157-d631-6bb1f6771ff0"
      },
      "execution_count": null,
      "outputs": [
        {
          "output_type": "execute_result",
          "data": {
            "text/plain": [
              "'/content/roboadvisor'"
            ],
            "application/vnd.google.colaboratory.intrinsic+json": {
              "type": "string"
            }
          },
          "metadata": {},
          "execution_count": 25
        }
      ]
    },
    {
      "cell_type": "code",
      "source": [
        "# crawling 디렉터리 만들기\n",
        "!mkdir crawling\n",
        "!mkdir database\n",
        "!mkdir analysis"
      ],
      "metadata": {
        "id": "lgm9QB2b3ldN"
      },
      "execution_count": null,
      "outputs": []
    },
    {
      "cell_type": "markdown",
      "source": [
        "패키지 만들기 실습\n",
        "  - 원할한 실습을 위해서 초기화\n",
        "  - 런타임- 런타임연결 해제 및 삭제"
      ],
      "metadata": {
        "id": "HOavDe5Q7p67"
      }
    },
    {
      "cell_type": "code",
      "source": [
        "!mkdir roboadvisor"
      ],
      "metadata": {
        "id": "CKQ65w1P7QQm"
      },
      "execution_count": null,
      "outputs": []
    },
    {
      "cell_type": "code",
      "source": [
        "cd roboadvisor"
      ],
      "metadata": {
        "colab": {
          "base_uri": "https://localhost:8080/"
        },
        "id": "phLg_Xg38bsS",
        "outputId": "6fa61a92-ef83-4737-a9fc-b33bf1118d5c"
      },
      "execution_count": null,
      "outputs": [
        {
          "output_type": "stream",
          "name": "stdout",
          "text": [
            "/content/roboadvisor\n"
          ]
        }
      ]
    },
    {
      "cell_type": "code",
      "source": [
        "import os\n",
        "os.getcwd()"
      ],
      "metadata": {
        "colab": {
          "base_uri": "https://localhost:8080/",
          "height": 35
        },
        "id": "uFuKN_H08dly",
        "outputId": "35b4f657-04eb-4199-f94a-98fce51db118"
      },
      "execution_count": null,
      "outputs": [
        {
          "output_type": "execute_result",
          "data": {
            "text/plain": [
              "'/content/roboadvisor'"
            ],
            "application/vnd.google.colaboratory.intrinsic+json": {
              "type": "string"
            }
          },
          "metadata": {},
          "execution_count": 3
        }
      ]
    },
    {
      "cell_type": "code",
      "source": [
        "!mkdir crawling\n",
        "!mkdir database\n",
        "!mkdir analisys"
      ],
      "metadata": {
        "id": "GM6YI4QT8SnG"
      },
      "execution_count": null,
      "outputs": []
    },
    {
      "cell_type": "code",
      "source": [
        "from roboadvisor.analisys import series"
      ],
      "metadata": {
        "id": "ETnyG9Eq8xEQ"
      },
      "execution_count": null,
      "outputs": []
    },
    {
      "cell_type": "code",
      "source": [
        "series.series_test()"
      ],
      "metadata": {
        "colab": {
          "base_uri": "https://localhost:8080/"
        },
        "id": "Py1znKyl-g5Y",
        "outputId": "0fb3c875-cc1f-4466-9615-f5a004c2c7ec"
      },
      "execution_count": null,
      "outputs": [
        {
          "output_type": "stream",
          "name": "stdout",
          "text": [
            "series\n"
          ]
        }
      ]
    },
    {
      "cell_type": "markdown",
      "source": [
        "예외처리"
      ],
      "metadata": {
        "id": "YKFIXRwVBSZs"
      }
    },
    {
      "cell_type": "code",
      "source": [],
      "metadata": {
        "id": "2SxI9yYZ-ruD"
      },
      "execution_count": null,
      "outputs": []
    }
  ]
}