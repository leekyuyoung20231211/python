{
  "nbformat": 4,
  "nbformat_minor": 0,
  "metadata": {
    "colab": {
      "provenance": []
    },
    "kernelspec": {
      "name": "python3",
      "display_name": "Python 3"
    },
    "language_info": {
      "name": "python"
    }
  },
  "cells": [
    {
      "cell_type": "code",
      "execution_count": 17,
      "metadata": {
        "id": "PWYgjGTkvk6V"
      },
      "outputs": [],
      "source": [
        "from IPython.display import Image\n",
        "%matplotlib inline"
      ]
    },
    {
      "cell_type": "markdown",
      "source": [
        "단층신경망"
      ],
      "metadata": {
        "id": "QGAPiWYFvwXE"
      }
    },
    {
      "cell_type": "code",
      "source": [
        "Image(url='https://raw.githubusercontent.com/rickiepark/ml-with-pytorch/main/ch11/figures/11_01.png', width=600)"
      ],
      "metadata": {
        "colab": {
          "base_uri": "https://localhost:8080/",
          "height": 325
        },
        "id": "VcJjTQ_Xvx2H",
        "outputId": "a840b3bd-cfa4-4779-8c40-6bfcc43150f3"
      },
      "execution_count": 18,
      "outputs": [
        {
          "output_type": "execute_result",
          "data": {
            "text/html": [
              "<img src=\"https://raw.githubusercontent.com/rickiepark/ml-with-pytorch/main/ch11/figures/11_01.png\" width=\"600\"/>"
            ],
            "text/plain": [
              "<IPython.core.display.Image object>"
            ]
          },
          "metadata": {},
          "execution_count": 18
        }
      ]
    },
    {
      "cell_type": "markdown",
      "source": [
        "다층신경망"
      ],
      "metadata": {
        "id": "7exHHDSxv1sk"
      }
    },
    {
      "cell_type": "code",
      "source": [
        "Image(url='https://raw.githubusercontent.com/rickiepark/ml-with-pytorch/main/ch11/figures/11_02.png', width=600)"
      ],
      "metadata": {
        "colab": {
          "base_uri": "https://localhost:8080/",
          "height": 476
        },
        "id": "Q14LG9Hov0B3",
        "outputId": "87ad4251-5dcb-42ee-da78-68b4b133f0a6"
      },
      "execution_count": 19,
      "outputs": [
        {
          "output_type": "execute_result",
          "data": {
            "text/html": [
              "<img src=\"https://raw.githubusercontent.com/rickiepark/ml-with-pytorch/main/ch11/figures/11_02.png\" width=\"600\"/>"
            ],
            "text/plain": [
              "<IPython.core.display.Image object>"
            ]
          },
          "metadata": {},
          "execution_count": 19
        }
      ]
    },
    {
      "cell_type": "markdown",
      "source": [
        "정방향 계산으로 신경망 활성화 출력 계산"
      ],
      "metadata": {
        "id": "3NHE23jJwUC9"
      }
    },
    {
      "cell_type": "code",
      "source": [
        "from sklearn.datasets import fetch_openml\n",
        "X,y = fetch_openml('mnist_784',version=1, return_X_y=True, parser='auto')\n",
        "X=X.values\n",
        "y=y.astype(int).values\n",
        "\n",
        "print(X.shape)\n",
        "print(y.shape)"
      ],
      "metadata": {
        "colab": {
          "base_uri": "https://localhost:8080/"
        },
        "id": "YpjQfQQ5wD7a",
        "outputId": "698a2226-28e4-48d0-ab66-0a432736e0d8"
      },
      "execution_count": 20,
      "outputs": [
        {
          "output_type": "stream",
          "name": "stdout",
          "text": [
            "(70000, 784)\n",
            "(70000,)\n"
          ]
        }
      ]
    },
    {
      "cell_type": "code",
      "source": [
        "X = ((X / 255) - 0.5)*2"
      ],
      "metadata": {
        "id": "Ff8Ua_q0xA-2"
      },
      "execution_count": 21,
      "outputs": []
    },
    {
      "cell_type": "markdown",
      "source": [
        "각 클래스의 첫 번째 이미지를 그린다"
      ],
      "metadata": {
        "id": "EuQ1SE3expeN"
      }
    },
    {
      "cell_type": "code",
      "source": [
        "import matplotlib.pyplot as plt\n",
        "fig,ax = plt.subplots(2,5)\n",
        "ax = ax.flatten()\n",
        "for i in range(10):\n",
        "  img = X[y==i][0].reshape(28,28)\n",
        "  ax[i].imshow(img, cmap='Greys')\n",
        "  ax[i].set_xticks([])\n",
        "  ax[i].set_yticks([])\n",
        "plt.tight_layout()\n",
        "plt.show()"
      ],
      "metadata": {
        "colab": {
          "base_uri": "https://localhost:8080/",
          "height": 338
        },
        "id": "TTA68xpZxSN5",
        "outputId": "4fa33314-10d0-4dcd-d622-9f69bdf0df38"
      },
      "execution_count": 22,
      "outputs": [
        {
          "output_type": "display_data",
          "data": {
            "text/plain": [
              "<Figure size 640x480 with 10 Axes>"
            ],
            "image/png": "[encoded data removed]"
          },
          "metadata": {}
        }
      ]
    },
    {
      "cell_type": "code",
      "source": [
        "from sklearn.model_selection import train_test_split\n",
        "X_temp, X_test,y_temp,y_test =  train_test_split(X,y,test_size=10000,random_state=123,stratify=y)\n",
        "X_train, X_valid,y_train,y_valid =  train_test_split(X_temp,y_temp,test_size=5000,random_state=123,stratify=y_temp)\n",
        "\n",
        "# 데이터 분할용으로 사용한 변수는 삭제해서  memory 용량 확보\n",
        "del X_temp, y_temp, X,y"
      ],
      "metadata": {
        "id": "XBWmNkpsym1r"
      },
      "execution_count": 23,
      "outputs": []
    },
    {
      "cell_type": "markdown",
      "source": [
        "다층 퍼셉트론 구현"
      ],
      "metadata": {
        "id": "GECLS8UhzwR9"
      }
    },
    {
      "cell_type": "code",
      "source": [
        "import numpy as np"
      ],
      "metadata": {
        "id": "o_s5sXCZzr-_"
      },
      "execution_count": 24,
      "outputs": []
    },
    {
      "cell_type": "code",
      "source": [
        "rng = np.random.RandomState(10)\n",
        "rng.normal(\n",
        "        loc=0.0, scale=0.1,size=(10,10))"
      ],
      "metadata": {
        "id": "0n9v6sH8CqY-",
        "colab": {
          "base_uri": "https://localhost:8080/"
        },
        "outputId": "7ca2457a-0694-4c45-983f-9c245ad2bfb1"
      },
      "execution_count": 25,
      "outputs": [
        {
          "output_type": "execute_result",
          "data": {
            "text/plain": [
              "array([[ 0.13315865,  0.0715279 , -0.15454003, -0.00083838,  0.0621336 ,\n",
              "        -0.07200856,  0.02655116,  0.01085485,  0.00042914, -0.01746002],\n",
              "       [ 0.04330262,  0.12030374, -0.09650657,  0.10282741,  0.02286301,\n",
              "         0.04451376, -0.11366022,  0.01351369,  0.1484537 , -0.10798049],\n",
              "       [-0.19777283, -0.17433723,  0.02660702,  0.23849673,  0.11236913,\n",
              "         0.16726222,  0.00991492,  0.13979964, -0.0271248 ,  0.06132042],\n",
              "       [-0.02673172, -0.0549309 ,  0.01327083, -0.0476142 ,  0.13084731,\n",
              "         0.01950133,  0.040021  , -0.03376323,  0.12564723, -0.07319695],\n",
              "       [ 0.06602316, -0.03508719, -0.09394334, -0.04893372, -0.08045911,\n",
              "        -0.02126976, -0.03391402,  0.03121699,  0.05651527, -0.01474203],\n",
              "       [-0.00259053,  0.02890942, -0.05398791,  0.070816  ,  0.08422247,\n",
              "         0.02035808,  0.23947037,  0.09174589, -0.01122725, -0.03621804],\n",
              "       [-0.02321823, -0.05017289,  0.11287852, -0.069781  , -0.00811222,\n",
              "        -0.05292961,  0.10461829, -0.1418556 , -0.03624992, -0.01219057],\n",
              "       [ 0.03193564,  0.04609029, -0.02157899,  0.09890725,  0.03147538,\n",
              "         0.24676511, -0.15083215,  0.06206007, -0.10451325, -0.07980088],\n",
              "       [ 0.19850846,  0.17448141, -0.18561855, -0.02227737, -0.00658478,\n",
              "        -0.21317121, -0.00488305,  0.03933412,  0.02172651, -0.19943938],\n",
              "       [ 0.11077082,  0.0244544 , -0.0061912 , -0.0753893 ,  0.0711959 ,\n",
              "         0.09182692, -0.04820931,  0.00895876,  0.08269986, -0.19545121]])"
            ]
          },
          "metadata": {},
          "execution_count": 25
        }
      ]
    },
    {
      "cell_type": "code",
      "source": [
        "def sigmoid(z):\n",
        "    return 1. / (1. + np.exp(-z))\n",
        "\n",
        "\n",
        "def int_to_onehot(y, num_labels):\n",
        "\n",
        "    ary = np.zeros((y.shape[0], num_labels))\n",
        "    for i, val in enumerate(y):\n",
        "        ary[i, val] = 1\n",
        "\n",
        "    return ary\n",
        "\n",
        "\n",
        "class NeuralNetMLP:\n",
        "\n",
        "    def __init__(self, num_features, num_hidden, num_classes, random_seed=123):\n",
        "        super().__init__()\n",
        "\n",
        "        self.num_classes = num_classes\n",
        "\n",
        "        # 은닉층\n",
        "        rng = np.random.RandomState(random_seed)\n",
        "\n",
        "        self.weight_h = rng.normal(\n",
        "            loc=0.0, scale=0.1, size=(num_hidden, num_features))\n",
        "        self.bias_h = np.zeros(num_hidden)\n",
        "\n",
        "        # 출력층\n",
        "        self.weight_out = rng.normal(\n",
        "            loc=0.0, scale=0.1, size=(num_classes, num_hidden))\n",
        "        self.bias_out = np.zeros(num_classes)\n",
        "\n",
        "    def forward(self, x):\n",
        "        # 은닉층\n",
        "        # 입력 차원: [n_examples, n_features] dot [n_hidden, n_features].T\n",
        "        # 출력 차원: [n_examples, n_hidden]\n",
        "        z_h = np.dot(x, self.weight_h.T) + self.bias_h\n",
        "        a_h = sigmoid(z_h)\n",
        "\n",
        "        # 출력층\n",
        "        # 입력 차원: [n_examples, n_hidden] dot [n_classes, n_hidden].T\n",
        "        # 출력 차원: [n_examples, n_classes]\n",
        "        z_out = np.dot(a_h, self.weight_out.T) + self.bias_out\n",
        "        a_out = sigmoid(z_out)\n",
        "        return a_h, a_out\n",
        "\n",
        "    def backward(self, x, a_h, a_out, y):\n",
        "\n",
        "        #########################\n",
        "        ### 출력층 가중치\n",
        "        #########################\n",
        "\n",
        "        # 원-핫 인코딩\n",
        "        y_onehot = int_to_onehot(y, self.num_classes)\n",
        "\n",
        "        # 파트 1: dLoss/dOutWeights\n",
        "        ## = dLoss/dOutAct * dOutAct/dOutNet * dOutNet/dOutWeight\n",
        "        ## 재사용을 위해 DeltaOut = dLoss/dOutAct * dOutAct/dOutNet\n",
        "\n",
        "        # 입력/출력 차원: [n_examples, n_classes]\n",
        "        d_loss__d_a_out = 2.*(a_out - y_onehot) / y.shape[0]\n",
        "\n",
        "        # 입력/출력 차원: [n_examples, n_classes]\n",
        "        d_a_out__d_z_out = a_out * (1. - a_out) # sigmoid derivative\n",
        "\n",
        "        # 출력 차원: [n_examples, n_classes]\n",
        "        delta_out = d_loss__d_a_out * d_a_out__d_z_out # \"delta (rule) placeholder\"\n",
        "\n",
        "        # 출력 가중치를 위한 그레이디언트\n",
        "\n",
        "        # [n_examples, n_hidden]\n",
        "        d_z_out__dw_out = a_h\n",
        "\n",
        "        # 입력 차원: [n_classes, n_examples] dot [n_examples, n_hidden]\n",
        "        # 출력 차원: [n_classes, n_hidden]\n",
        "        d_loss__dw_out = np.dot(delta_out.T, d_z_out__dw_out)\n",
        "        d_loss__db_out = np.sum(delta_out, axis=0)\n",
        "\n",
        "\n",
        "        #################################\n",
        "        # 파트 2: dLoss/dHiddenWeights\n",
        "        ## = DeltaOut * dOutNet/dHiddenAct * dHiddenAct/dHiddenNet * dHiddenNet/dWeight\n",
        "\n",
        "        # [n_classes, n_hidden]\n",
        "        d_z_out__a_h = self.weight_out\n",
        "\n",
        "        # 출력 차원: [n_examples, n_hidden]\n",
        "        d_loss__a_h = np.dot(delta_out, d_z_out__a_h)\n",
        "\n",
        "        # [n_examples, n_hidden]\n",
        "        d_a_h__d_z_h = a_h * (1. - a_h) # sigmoid derivative\n",
        "\n",
        "        # [n_examples, n_features]\n",
        "        d_z_h__d_w_h = x\n",
        "\n",
        "        # 출력 차원: [n_hidden, n_features]\n",
        "        d_loss__d_w_h = np.dot((d_loss__a_h * d_a_h__d_z_h).T, d_z_h__d_w_h)\n",
        "        d_loss__d_b_h = np.sum((d_loss__a_h * d_a_h__d_z_h), axis=0)\n",
        "\n",
        "        return (d_loss__dw_out, d_loss__db_out,\n",
        "                d_loss__d_w_h, d_loss__d_b_h)\n"
      ],
      "metadata": {
        "id": "5P0fgfm6zz35"
      },
      "execution_count": 35,
      "outputs": []
    },
    {
      "cell_type": "code",
      "source": [
        "model = NeuralNetMLP(num_features=28*28,num_hidden=50,num_classes=10)"
      ],
      "metadata": {
        "id": "ADq7Hjxn8pmn"
      },
      "execution_count": 36,
      "outputs": []
    },
    {
      "cell_type": "markdown",
      "source": [
        "신경망 훈련 루프 코딩\n",
        "  - 데이터 로더 정의하기"
      ],
      "metadata": {
        "id": "RJPXHfby8-Js"
      }
    },
    {
      "cell_type": "code",
      "source": [
        "import numpy as np\n",
        "num_epochs = 50\n",
        "minibatch_size = 100"
      ],
      "metadata": {
        "id": "iefNWkeg89pq"
      },
      "execution_count": 37,
      "outputs": []
    },
    {
      "cell_type": "code",
      "source": [
        "def minibatch_generator(X, y, minibatch_size):\n",
        "  indices = np.arange(X.shape[0])\n",
        "  np.random.shuffle(indices)\n",
        "  for start_idx in range(0, indices.shape[0] - minibatch_size + 1, minibatch_size):\n",
        "    batch_idx = indices[start_idx:start_idx + minibatch_size]\n",
        "    yield X[batch_idx], y[batch_idx]\n",
        "\n",
        "# 훈련 에포크를 반복\n",
        "for i in range(num_epochs):\n",
        "  # 미니배치 반복\n",
        "  minibach_gen = minibatch_generator(X_train,y_train,minibatch_size)\n",
        "  for X_train_mini, y_train_mini in minibach_gen:\n",
        "    break\n",
        "  break\n",
        "print(X_train_mini.shape)\n",
        "print(y_train_mini.shape)"
      ],
      "metadata": {
        "colab": {
          "base_uri": "https://localhost:8080/"
        },
        "id": "UdclA_we86Y7",
        "outputId": "cf1e4009-0372-4e37-e67e-6fa680dff9ef"
      },
      "execution_count": 38,
      "outputs": [
        {
          "output_type": "stream",
          "name": "stdout",
          "text": [
            "(100, 784)\n",
            "(100,)\n"
          ]
        }
      ]
    },
    {
      "cell_type": "markdown",
      "source": [
        "손실 및 정확도를 계산하는 함수 정의하기"
      ],
      "metadata": {
        "id": "ssO1A2Ph_S8s"
      }
    },
    {
      "cell_type": "code",
      "source": [
        "def mse_loss(targets,probas,num_labels=10):\n",
        "  onehot_targets = int_to_onehot(targets, num_labels=num_labels)\n",
        "  return np.mean((onehot_targets - probas)**2)\n",
        "\n",
        "def accuracy(targets,predicted_labels)  :\n",
        "  return np.mean(predicted_labels == targets)\n",
        "\n",
        "_,probas =  model.forward(X_valid)\n",
        "mse = mse_loss(y_valid, probas)\n",
        "\n",
        "predicted_labels = np.argmax(probas, axis=1)\n",
        "acc = accuracy(y_valid, predicted_labels)\n",
        "print(f\"검증 세트 MSE : {mse:.1f}\")\n",
        "print(f\"검증 세트 정확도:{acc*100: .1f}\")"
      ],
      "metadata": {
        "colab": {
          "base_uri": "https://localhost:8080/"
        },
        "id": "RpMYX1gX_NGQ",
        "outputId": "ea69efff-6fb5-4f7e-8e3e-c1e6a75337b5"
      },
      "execution_count": 39,
      "outputs": [
        {
          "output_type": "stream",
          "name": "stdout",
          "text": [
            "검증 세트 MSE : 0.3\n",
            "검증 세트 정확도: 9.4\n"
          ]
        }
      ]
    },
    {
      "cell_type": "code",
      "source": [
        "def compute_mse_and_acc(nnet, X, y ,num_labels=10, minibatch_size=100):\n",
        "  mse,correct_pred, num_examples = 0,0,0\n",
        "  minibatch_gen = minibatch_generator(X,y,minibatch_size)\n",
        "  for i, (features, targets) in enumerate(minibatch_gen):\n",
        "    _, probas = nnet.forward(features)\n",
        "    predicted_labels = np.argmax(probas, axis=1)\n",
        "    onehot_targets = int_to_onehot(targets,num_labels = num_labels)\n",
        "    loss = np.mean((onehot_targets - probas)**2)\n",
        "    correct_pred += (predicted_labels == targets).sum()\n",
        "    num_examples += targets.shape[0]\n",
        "  mse = mse/i\n",
        "  acc = correct_pred / num_examples\n",
        "  return mse, acc"
      ],
      "metadata": {
        "id": "fV1OqHlDAnfF"
      },
      "execution_count": 40,
      "outputs": []
    },
    {
      "cell_type": "code",
      "source": [
        "mse,acc = compute_mse_and_acc(model,X_valid,y_valid)\n",
        "print(f\"검증 세트 MSE:{mse:.5f}\")\n",
        "print(f\"검증 세트 정확도:{acc*100:.5f}\")"
      ],
      "metadata": {
        "colab": {
          "base_uri": "https://localhost:8080/"
        },
        "id": "OzycI7LmByof",
        "outputId": "49305ed0-b9d2-40e5-91ef-1e519f859ee2"
      },
      "execution_count": 41,
      "outputs": [
        {
          "output_type": "stream",
          "name": "stdout",
          "text": [
            "검증 세트 MSE:0.00000\n",
            "검증 세트 정확도:9.36000\n"
          ]
        }
      ]
    },
    {
      "cell_type": "markdown",
      "source": [
        "훈련함수 정의\n",
        "  - 에포크 수 만큼 순환"
      ],
      "metadata": {
        "id": "fea7VWieEYsV"
      }
    },
    {
      "cell_type": "code",
      "source": [
        "def train(model, X_train, y_train, X_valid,y_valid, num_epochs, learning_rate = 0.1):\n",
        "  epoch_loss = []\n",
        "  epoch_train_acc = []\n",
        "  epoch_valid_acc = []\n",
        "  for e in range(num_epochs):\n",
        "    # 미니배치를 반복합니다.\n",
        "    minibatch_gen = minibatch_generator(\n",
        "        X_train,y_train, minibatch_size\n",
        "    )\n",
        "    for X_train_mini, y_train_mini in minibatch_gen:\n",
        "      ### 출력 계산 ###\n",
        "      a_h, a_out = model.forward(X_train_mini)\n",
        "\n",
        "      ### 그레이디언트 계산 ###\n",
        "      d_loss__d_w_out, d_loss__d_b_out, d_loss__d_w_h, d_loss__d_b_h = \\\n",
        "        model.backward(X_train_mini, a_h, a_out, y_train_mini)\n",
        "\n",
        "      ### 가중치 업데이트 ###\n",
        "      model.weight_h -= learning_rate * d_loss__d_w_h\n",
        "      model.bias_h -= learning_rate * d_loss__d_b_h\n",
        "      model.weight_out -= learning_rate * d_loss__d_w_out\n",
        "      model.bias_out -= learning_rate * d_loss__d_b_out\n",
        "    ### 에포크 로깅 ###\n",
        "    train_mse, train_acc = compute_mse_and_acc(model, X_train, y_train)\n",
        "    valid_mse, valid_acc = compute_mse_and_acc(model, X_valid, y_valid)\n",
        "    train_acc, valid_acc = train_acc*100, valid_acc * 100\n",
        "    epoch_train_acc.append(train_acc)\n",
        "    epoch_valid_acc.append(valid_acc)\n",
        "    epoch_loss.append(train_mse)\n",
        "    print(f\"에포크 : {e+1:03d} / {num_epochs:03d} | 훈련mse:{train_mse:.2f} | 훈련 정확도 ㅣ {train_acc : .2f} | 검증 정확도 : {valid_acc:.2f}\" )\n",
        "  return epoch_loss, epoch_train_acc, epoch_valid_acc"
      ],
      "metadata": {
        "id": "wS6CqrY6CN25"
      },
      "execution_count": 42,
      "outputs": []
    },
    {
      "cell_type": "code",
      "source": [
        "np.random.seed(123)\n",
        "epoch_loss, epoch_train_acc , epoch_valid_acc = train(\n",
        "    model, X_train, y_train, X_valid, y_valid, num_epochs=50,  learning_rate = 0.1\n",
        ")"
      ],
      "metadata": {
        "colab": {
          "base_uri": "https://localhost:8080/"
        },
        "id": "uxaNJ_-usptD",
        "outputId": "32c90fc6-c603-40b4-fe0c-b72710abc147"
      },
      "execution_count": 44,
      "outputs": [
        {
          "output_type": "stream",
          "name": "stdout",
          "text": [
            "에포크 : 001 / 050 | 훈련mse:0.00 | 훈련 정확도 ㅣ  90.11 | 검증 정확도 : 89.94\n",
            "에포크 : 002 / 050 | 훈련mse:0.00 | 훈련 정확도 ㅣ  90.56 | 검증 정확도 : 90.30\n",
            "에포크 : 003 / 050 | 훈련mse:0.00 | 훈련 정확도 ㅣ  91.09 | 검증 정확도 : 90.94\n",
            "에포크 : 004 / 050 | 훈련mse:0.00 | 훈련 정확도 ㅣ  91.50 | 검증 정확도 : 91.22\n",
            "에포크 : 005 / 050 | 훈련mse:0.00 | 훈련 정확도 ㅣ  91.85 | 검증 정확도 : 91.44\n",
            "에포크 : 006 / 050 | 훈련mse:0.00 | 훈련 정확도 ㅣ  91.98 | 검증 정확도 : 91.74\n",
            "에포크 : 007 / 050 | 훈련mse:0.00 | 훈련 정확도 ㅣ  92.25 | 검증 정확도 : 91.84\n",
            "에포크 : 008 / 050 | 훈련mse:0.00 | 훈련 정확도 ㅣ  92.44 | 검증 정확도 : 92.10\n",
            "에포크 : 009 / 050 | 훈련mse:0.00 | 훈련 정확도 ㅣ  92.68 | 검증 정확도 : 92.26\n",
            "에포크 : 010 / 050 | 훈련mse:0.00 | 훈련 정확도 ㅣ  92.87 | 검증 정확도 : 92.64\n",
            "에포크 : 011 / 050 | 훈련mse:0.00 | 훈련 정확도 ㅣ  93.04 | 검증 정확도 : 92.78\n",
            "에포크 : 012 / 050 | 훈련mse:0.00 | 훈련 정확도 ㅣ  93.15 | 검증 정확도 : 92.78\n",
            "에포크 : 013 / 050 | 훈련mse:0.00 | 훈련 정확도 ㅣ  93.21 | 검증 정확도 : 92.92\n",
            "에포크 : 014 / 050 | 훈련mse:0.00 | 훈련 정확도 ㅣ  93.36 | 검증 정확도 : 93.18\n",
            "에포크 : 015 / 050 | 훈련mse:0.00 | 훈련 정확도 ㅣ  93.50 | 검증 정확도 : 93.32\n",
            "에포크 : 016 / 050 | 훈련mse:0.00 | 훈련 정확도 ㅣ  93.61 | 검증 정확도 : 93.20\n",
            "에포크 : 017 / 050 | 훈련mse:0.00 | 훈련 정확도 ㅣ  93.73 | 검증 정확도 : 93.40\n",
            "에포크 : 018 / 050 | 훈련mse:0.00 | 훈련 정확도 ㅣ  93.82 | 검증 정확도 : 93.50\n",
            "에포크 : 019 / 050 | 훈련mse:0.00 | 훈련 정확도 ㅣ  93.90 | 검증 정확도 : 93.60\n",
            "에포크 : 020 / 050 | 훈련mse:0.00 | 훈련 정확도 ㅣ  94.05 | 검증 정확도 : 93.72\n",
            "에포크 : 021 / 050 | 훈련mse:0.00 | 훈련 정확도 ㅣ  94.11 | 검증 정확도 : 93.76\n",
            "에포크 : 022 / 050 | 훈련mse:0.00 | 훈련 정확도 ㅣ  94.20 | 검증 정확도 : 93.94\n",
            "에포크 : 023 / 050 | 훈련mse:0.00 | 훈련 정확도 ㅣ  94.33 | 검증 정확도 : 94.00\n",
            "에포크 : 024 / 050 | 훈련mse:0.00 | 훈련 정확도 ㅣ  94.43 | 검증 정확도 : 94.04\n",
            "에포크 : 025 / 050 | 훈련mse:0.00 | 훈련 정확도 ㅣ  94.45 | 검증 정확도 : 93.92\n",
            "에포크 : 026 / 050 | 훈련mse:0.00 | 훈련 정확도 ㅣ  94.62 | 검증 정확도 : 94.08\n",
            "에포크 : 027 / 050 | 훈련mse:0.00 | 훈련 정확도 ㅣ  94.59 | 검증 정확도 : 94.06\n",
            "에포크 : 028 / 050 | 훈련mse:0.00 | 훈련 정확도 ㅣ  94.69 | 검증 정확도 : 94.22\n",
            "에포크 : 029 / 050 | 훈련mse:0.00 | 훈련 정확도 ㅣ  94.76 | 검증 정확도 : 94.20\n",
            "에포크 : 030 / 050 | 훈련mse:0.00 | 훈련 정확도 ㅣ  94.86 | 검증 정확도 : 94.14\n",
            "에포크 : 031 / 050 | 훈련mse:0.00 | 훈련 정확도 ㅣ  94.89 | 검증 정확도 : 94.24\n",
            "에포크 : 032 / 050 | 훈련mse:0.00 | 훈련 정확도 ㅣ  94.98 | 검증 정확도 : 94.34\n",
            "에포크 : 033 / 050 | 훈련mse:0.00 | 훈련 정확도 ㅣ  94.96 | 검증 정확도 : 94.12\n",
            "에포크 : 034 / 050 | 훈련mse:0.00 | 훈련 정확도 ㅣ  95.08 | 검증 정확도 : 94.28\n",
            "에포크 : 035 / 050 | 훈련mse:0.00 | 훈련 정확도 ㅣ  95.11 | 검증 정확도 : 94.34\n",
            "에포크 : 036 / 050 | 훈련mse:0.00 | 훈련 정확도 ㅣ  95.21 | 검증 정확도 : 94.30\n",
            "에포크 : 037 / 050 | 훈련mse:0.00 | 훈련 정확도 ㅣ  95.25 | 검증 정확도 : 94.40\n",
            "에포크 : 038 / 050 | 훈련mse:0.00 | 훈련 정확도 ㅣ  95.31 | 검증 정확도 : 94.50\n",
            "에포크 : 039 / 050 | 훈련mse:0.00 | 훈련 정확도 ㅣ  95.37 | 검증 정확도 : 94.38\n",
            "에포크 : 040 / 050 | 훈련mse:0.00 | 훈련 정확도 ㅣ  95.37 | 검증 정확도 : 94.36\n",
            "에포크 : 041 / 050 | 훈련mse:0.00 | 훈련 정확도 ㅣ  95.42 | 검증 정확도 : 94.64\n",
            "에포크 : 042 / 050 | 훈련mse:0.00 | 훈련 정확도 ㅣ  95.47 | 검증 정확도 : 94.58\n",
            "에포크 : 043 / 050 | 훈련mse:0.00 | 훈련 정확도 ㅣ  95.54 | 검증 정확도 : 94.46\n",
            "에포크 : 044 / 050 | 훈련mse:0.00 | 훈련 정확도 ㅣ  95.57 | 검증 정확도 : 94.58\n",
            "에포크 : 045 / 050 | 훈련mse:0.00 | 훈련 정확도 ㅣ  95.61 | 검증 정확도 : 94.66\n",
            "에포크 : 046 / 050 | 훈련mse:0.00 | 훈련 정확도 ㅣ  95.66 | 검증 정확도 : 94.72\n",
            "에포크 : 047 / 050 | 훈련mse:0.00 | 훈련 정확도 ㅣ  95.71 | 검증 정확도 : 94.72\n",
            "에포크 : 048 / 050 | 훈련mse:0.00 | 훈련 정확도 ㅣ  95.76 | 검증 정확도 : 94.74\n",
            "에포크 : 049 / 050 | 훈련mse:0.00 | 훈련 정확도 ㅣ  95.76 | 검증 정확도 : 94.80\n",
            "에포크 : 050 / 050 | 훈련mse:0.00 | 훈련 정확도 ㅣ  95.78 | 검증 정확도 : 94.90\n"
          ]
        }
      ]
    },
    {
      "cell_type": "markdown",
      "source": [
        "모델 성능평가"
      ],
      "metadata": {
        "id": "sLQ-tRbuubPZ"
      }
    },
    {
      "cell_type": "code",
      "source": [
        "epoch_loss"
      ],
      "metadata": {
        "id": "jrfqR5cyvLJp"
      },
      "execution_count": null,
      "outputs": []
    },
    {
      "cell_type": "code",
      "source": [
        "plt.plot(range(len(epoch_loss)), epoch_loss)\n",
        "plt.ylabel('Mean squared error')\n",
        "plt.xlabel('Epoch')\n",
        "plt.show()"
      ],
      "metadata": {
        "colab": {
          "base_uri": "https://localhost:8080/",
          "height": 449
        },
        "id": "0uASopvRs9fd",
        "outputId": "37f884e4-497a-42e7-8874-b0f91b611b63"
      },
      "execution_count": 46,
      "outputs": [
        {
          "output_type": "display_data",
          "data": {
            "text/plain": [
              "<Figure size 640x480 with 1 Axes>"
            ],
            "image/png": "[encoded data removed]"
          },
          "metadata": {}
        }
      ]
    },
    {
      "cell_type": "code",
      "source": [
        "plt.plot(range(len(epoch_train_acc)), epoch_train_acc, label='Training'  )\n",
        "plt.plot(range(len(epoch_valid_acc)), epoch_valid_acc, label='Validation'  )\n",
        "plt.ylabel(\"Accuracy\")\n",
        "plt.xlabel(\"Epochs\")\n",
        "plt.legend()\n",
        "plt.show()"
      ],
      "metadata": {
        "colab": {
          "base_uri": "https://localhost:8080/",
          "height": 451
        },
        "id": "sMam_9gSvaga",
        "outputId": "afaa8f32-fe2f-4a59-e6a2-b7af14c180f0"
      },
      "execution_count": 48,
      "outputs": [
        {
          "output_type": "display_data",
          "data": {
            "text/plain": [
              "<Figure size 640x480 with 1 Axes>"
            ],
            "image/png": "[encoded data removed]"
          },
          "metadata": {}
        }
      ]
    },
    {
      "cell_type": "code",
      "source": [
        "test_mse, test_acc =  compute_mse_and_acc(model, X_test, y_test)\n",
        "print(f'테스트 정확도 : {test_acc*100: .2f}')"
      ],
      "metadata": {
        "colab": {
          "base_uri": "https://localhost:8080/"
        },
        "id": "4BQ_zPC2v6jy",
        "outputId": "4b016561-719f-4d79-e11a-05e440186329"
      },
      "execution_count": 50,
      "outputs": [
        {
          "output_type": "stream",
          "name": "stdout",
          "text": [
            "테스트 정확도 :  94.70\n"
          ]
        }
      ]
    },
    {
      "cell_type": "markdown",
      "source": [
        "예측 실패 샘플 출력하기"
      ],
      "metadata": {
        "id": "ffu-8VQ7vqP4"
      }
    },
    {
      "cell_type": "code",
      "source": [
        "X_test_subset = X_test[:1000, :]\n",
        "y_test_subset = y_test[:1000]\n",
        "_,probas =  model.forward(X_test_subset)\n",
        "test_pred = np.argmax(probas, axis=1)\n",
        "misclassified_images =  X_test_subset[y_test_subset != test_pred][:25]\n",
        "misclassified_labels = test_pred[y_test_subset != test_pred][:25]\n",
        "\n",
        "correct_labels = y_test_subset[y_test_subset != test_pred][:25]"
      ],
      "metadata": {
        "id": "sa1lMc4WwRPK"
      },
      "execution_count": 51,
      "outputs": []
    },
    {
      "cell_type": "code",
      "source": [
        "fig,ax =  plt.subplots(5,5,sharex=True, sharey=True, figsize=(8,8))\n",
        "ax = ax.flatten()\n",
        "for i in range(25):\n",
        "  img = misclassified_images[i].reshape(28,28)\n",
        "  ax[i].imshow(img, cmap='Greys', interpolation='nearest')\n",
        "  ax[i].set_title(f'{i+1} True:{correct_labels[i]} \\nPredicted:{misclassified_labels[i]}')\n",
        "\n",
        "ax[0].set_xticks([])\n",
        "ax[0].set_yticks([])\n",
        "plt.tight_layout()\n",
        "plt.show()"
      ],
      "metadata": {
        "colab": {
          "base_uri": "https://localhost:8080/",
          "height": 806
        },
        "id": "qvAGENp0w7zr",
        "outputId": "f2883fb2-21d1-4bd6-b787-fb378fac83af"
      },
      "execution_count": 54,
      "outputs": [
        {
          "output_type": "display_data",
          "data": {
            "text/plain": [
              "<Figure size 800x800 with 25 Axes>"
            ],
            "image/png": "[encoded data removed]"
          },
          "metadata": {}
        }
      ]
    },
    {
      "cell_type": "markdown",
      "source": [
        "인공신경망 훈련\n",
        "  - 손실함수 계산"
      ],
      "metadata": {
        "id": "CbJi256-ybs8"
      }
    },
    {
      "cell_type": "code",
      "source": [
        "Image(url='https://raw.githubusercontent.com/rickiepark/ml-with-pytorch/main/ch11/figures/11_10.png', width=300)"
      ],
      "metadata": {
        "colab": {
          "base_uri": "https://localhost:8080/",
          "height": 327
        },
        "id": "UG8DXm93yBaE",
        "outputId": "34d01f80-5cf9-4d28-b8aa-58dda4898a19"
      },
      "execution_count": 55,
      "outputs": [
        {
          "output_type": "execute_result",
          "data": {
            "text/html": [
              "<img src=\"https://raw.githubusercontent.com/rickiepark/ml-with-pytorch/main/ch11/figures/11_10.png\" width=\"300\"/>"
            ],
            "text/plain": [
              "<IPython.core.display.Image object>"
            ]
          },
          "metadata": {},
          "execution_count": 55
        }
      ]
    },
    {
      "cell_type": "code",
      "source": [
        "Image(url='https://raw.githubusercontent.com/rickiepark/ml-with-pytorch/main/ch11/figures/11_11.png', width=400)"
      ],
      "metadata": {
        "colab": {
          "base_uri": "https://localhost:8080/",
          "height": 255
        },
        "id": "8HPJqsk2yjSM",
        "outputId": "7d93f50d-cd80-44d4-8fc9-7ab022c68159"
      },
      "execution_count": 56,
      "outputs": [
        {
          "output_type": "execute_result",
          "data": {
            "text/html": [
              "<img src=\"https://raw.githubusercontent.com/rickiepark/ml-with-pytorch/main/ch11/figures/11_11.png\" width=\"400\"/>"
            ],
            "text/plain": [
              "<IPython.core.display.Image object>"
            ]
          },
          "metadata": {},
          "execution_count": 56
        }
      ]
    },
    {
      "cell_type": "code",
      "source": [
        "Image(url='https://raw.githubusercontent.com/rickiepark/ml-with-pytorch/main/ch11/figures/11_12.png', width=500)"
      ],
      "metadata": {
        "colab": {
          "base_uri": "https://localhost:8080/",
          "height": 183
        },
        "id": "jRNcRb5zy9tj",
        "outputId": "6fd470db-eaf2-4c96-8ce4-8db2a88d9e63"
      },
      "execution_count": 57,
      "outputs": [
        {
          "output_type": "execute_result",
          "data": {
            "text/html": [
              "<img src=\"https://raw.githubusercontent.com/rickiepark/ml-with-pytorch/main/ch11/figures/11_12.png\" width=\"500\"/>"
            ],
            "text/plain": [
              "<IPython.core.display.Image object>"
            ]
          },
          "metadata": {},
          "execution_count": 57
        }
      ]
    },
    {
      "cell_type": "code",
      "source": [
        "Image(url='https://raw.githubusercontent.com/rickiepark/ml-with-pytorch/main/ch11/figures/11_13.png', width=500)"
      ],
      "metadata": {
        "colab": {
          "base_uri": "https://localhost:8080/",
          "height": 198
        },
        "id": "9-5pooZ3zALj",
        "outputId": "af5d0a5e-a473-42c0-f6ed-34cdf2e6eeee"
      },
      "execution_count": 58,
      "outputs": [
        {
          "output_type": "execute_result",
          "data": {
            "text/html": [
              "<img src=\"https://raw.githubusercontent.com/rickiepark/ml-with-pytorch/main/ch11/figures/11_13.png\" width=\"500\"/>"
            ],
            "text/plain": [
              "<IPython.core.display.Image object>"
            ]
          },
          "metadata": {},
          "execution_count": 58
        }
      ]
    },
    {
      "cell_type": "markdown",
      "source": [
        "신경망의 수렴"
      ],
      "metadata": {
        "id": "VkyUvaO0zJeZ"
      }
    },
    {
      "cell_type": "code",
      "source": [
        "Image(url='https://raw.githubusercontent.com/rickiepark/ml-with-pytorch/main/ch11/figures/11_14.png', width=500)"
      ],
      "metadata": {
        "colab": {
          "base_uri": "https://localhost:8080/",
          "height": 316
        },
        "id": "X77sLiRizCs2",
        "outputId": "f53d88ec-ddb1-42bd-fda7-8751feb10b41"
      },
      "execution_count": 59,
      "outputs": [
        {
          "output_type": "execute_result",
          "data": {
            "text/html": [
              "<img src=\"https://raw.githubusercontent.com/rickiepark/ml-with-pytorch/main/ch11/figures/11_14.png\" width=\"500\"/>"
            ],
            "text/plain": [
              "<IPython.core.display.Image object>"
            ]
          },
          "metadata": {},
          "execution_count": 59
        }
      ]
    },
    {
      "cell_type": "code",
      "source": [],
      "metadata": {
        "id": "9ZBIW7wUzMiJ"
      },
      "execution_count": null,
      "outputs": []
    }
  ]
}