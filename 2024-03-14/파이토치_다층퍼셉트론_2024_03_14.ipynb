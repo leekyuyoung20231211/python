{
  "nbformat": 4,
  "nbformat_minor": 0,
  "metadata": {
    "colab": {
      "provenance": []
    },
    "kernelspec": {
      "name": "python3",
      "display_name": "Python 3"
    },
    "language_info": {
      "name": "python"
    }
  },
  "cells": [
    {
      "cell_type": "code",
      "execution_count": 2,
      "metadata": {
        "id": "PWYgjGTkvk6V"
      },
      "outputs": [],
      "source": [
        "from IPython.display import Image\n",
        "%matplotlib inline"
      ]
    },
    {
      "cell_type": "markdown",
      "source": [
        "단층신경망"
      ],
      "metadata": {
        "id": "QGAPiWYFvwXE"
      }
    },
    {
      "cell_type": "code",
      "source": [
        "Image(url='https://raw.githubusercontent.com/rickiepark/ml-with-pytorch/main/ch11/figures/11_01.png', width=600)"
      ],
      "metadata": {
        "colab": {
          "base_uri": "https://localhost:8080/",
          "height": 325
        },
        "id": "VcJjTQ_Xvx2H",
        "outputId": "f223e480-a0d8-4f74-961c-f617b8d96ceb"
      },
      "execution_count": 3,
      "outputs": [
        {
          "output_type": "execute_result",
          "data": {
            "text/html": [
              "<img src=\"https://raw.githubusercontent.com/rickiepark/ml-with-pytorch/main/ch11/figures/11_01.png\" width=\"600\"/>"
            ],
            "text/plain": [
              "<IPython.core.display.Image object>"
            ]
          },
          "metadata": {},
          "execution_count": 3
        }
      ]
    },
    {
      "cell_type": "markdown",
      "source": [
        "다층신경망"
      ],
      "metadata": {
        "id": "7exHHDSxv1sk"
      }
    },
    {
      "cell_type": "code",
      "source": [
        "Image(url='https://raw.githubusercontent.com/rickiepark/ml-with-pytorch/main/ch11/figures/11_02.png', width=600)"
      ],
      "metadata": {
        "colab": {
          "base_uri": "https://localhost:8080/",
          "height": 476
        },
        "id": "Q14LG9Hov0B3",
        "outputId": "446e6527-93e6-4c7f-d642-73c75474f268"
      },
      "execution_count": 4,
      "outputs": [
        {
          "output_type": "execute_result",
          "data": {
            "text/html": [
              "<img src=\"https://raw.githubusercontent.com/rickiepark/ml-with-pytorch/main/ch11/figures/11_02.png\" width=\"600\"/>"
            ],
            "text/plain": [
              "<IPython.core.display.Image object>"
            ]
          },
          "metadata": {},
          "execution_count": 4
        }
      ]
    },
    {
      "cell_type": "markdown",
      "source": [
        "정방향 계산으로 신경망 활성화 출력 계산"
      ],
      "metadata": {
        "id": "3NHE23jJwUC9"
      }
    },
    {
      "cell_type": "code",
      "source": [
        "from sklearn.datasets import fetch_openml\n",
        "X,y = fetch_openml('mnist_784',version=1, return_X_y=True, parser='auto')\n",
        "X=X.values\n",
        "y=y.astype(int).values\n",
        "\n",
        "print(X.shape)\n",
        "print(y.shape)"
      ],
      "metadata": {
        "colab": {
          "base_uri": "https://localhost:8080/"
        },
        "id": "YpjQfQQ5wD7a",
        "outputId": "71f6c5fb-6aba-4108-f474-2ed2855deaf7"
      },
      "execution_count": 23,
      "outputs": [
        {
          "output_type": "stream",
          "name": "stdout",
          "text": [
            "(70000, 784)\n",
            "(70000,)\n"
          ]
        }
      ]
    },
    {
      "cell_type": "code",
      "source": [
        "X = ((X / 255) - 0.5)*2"
      ],
      "metadata": {
        "id": "Ff8Ua_q0xA-2"
      },
      "execution_count": 24,
      "outputs": []
    },
    {
      "cell_type": "markdown",
      "source": [
        "각 클래스의 첫 번째 이미지를 그린다"
      ],
      "metadata": {
        "id": "EuQ1SE3expeN"
      }
    },
    {
      "cell_type": "code",
      "source": [
        "import matplotlib.pyplot as plt\n",
        "fig,ax = plt.subplots(2,5)\n",
        "ax = ax.flatten()\n",
        "for i in range(10):\n",
        "  img = X[y==i][0].reshape(28,28)\n",
        "  ax[i].imshow(img, cmap='Greys')\n",
        "  ax[i].set_xticks([])\n",
        "  ax[i].set_yticks([])\n",
        "plt.tight_layout()\n",
        "plt.show()"
      ],
      "metadata": {
        "colab": {
          "base_uri": "https://localhost:8080/",
          "height": 338
        },
        "id": "TTA68xpZxSN5",
        "outputId": "fa6e974d-3bb6-4d40-835e-5088165d1de0"
      },
      "execution_count": 15,
      "outputs": [
        {
          "output_type": "display_data",
          "data": {
            "text/plain": [
              "<Figure size 640x480 with 10 Axes>"
            ],
            "image/png": "[encoded data removed]"
          },
          "metadata": {}
        }
      ]
    },
    {
      "cell_type": "code",
      "source": [
        "from sklearn.model_selection import train_test_split\n",
        "X_temp, X_test,y_temp,y_test =  train_test_split(X,y,test_size=10000,random_state=123,stratify=y)\n",
        "X_train, X_valid,y_train,y_valid =  train_test_split(X_temp,y_temp,test_size=5000,random_state=123,stratify=y_temp)\n",
        "\n",
        "# 데이터 분할용으로 사용한 변수는 삭제해서  memory 용량 확보\n",
        "del X_temp, y_temp, X,y"
      ],
      "metadata": {
        "id": "XBWmNkpsym1r"
      },
      "execution_count": 25,
      "outputs": []
    },
    {
      "cell_type": "markdown",
      "source": [
        "다층 퍼셉트론 구현"
      ],
      "metadata": {
        "id": "GECLS8UhzwR9"
      }
    },
    {
      "cell_type": "code",
      "source": [
        "import numpy as np"
      ],
      "metadata": {
        "id": "o_s5sXCZzr-_"
      },
      "execution_count": 17,
      "outputs": []
    },
    {
      "cell_type": "code",
      "source": [
        "rng = np.random.RandomState(10)\n",
        "rng.normal(\n",
        "        loc=0.0, scale=0.1,size=(10,10))"
      ],
      "metadata": {
        "id": "0n9v6sH8CqY-"
      },
      "execution_count": null,
      "outputs": []
    },
    {
      "cell_type": "code",
      "source": [
        "def sigmoid(z):\n",
        "  return 1. / (1. + np.exp(-z))\n",
        "\n",
        "def int_to_onehot(y, num_labels):\n",
        "  ary = np.zeros( (y.shape[0], num_labels))\n",
        "  for i, val in enumerate(y):\n",
        "    ary[i, val] = 1\n",
        "  return ary\n",
        "\n",
        "class NeuralNetMLP:\n",
        "  def __init__(self,num_features, num_hidden, num_classes, random_seed=123) -> None:\n",
        "    super().__init__()\n",
        "    self.num_classes = num_classes\n",
        "    # 은닉층\n",
        "    rng = np.random.RandomState(random_seed)\n",
        "\n",
        "    self.weight_h = rng.normal(\n",
        "        loc=0.0, scale=0.1,size=(num_hidden,num_features))\n",
        "    self.bias_h = np.zeros(num_hidden)\n",
        "    # 출력층\n",
        "    self.weight_out = rng.normal(\n",
        "        loc=0.0,scale=0.1,size=(num_classes,num_hidden))\n",
        "    self.bias_out = np.zeros(num_classes)\n",
        "\n",
        "  def forward(self,x):\n",
        "    # 은닉층\n",
        "    z_h = np.dot(x, self.weight_h.T) + self.bias_h\n",
        "    a_h = sigmoid(z_h)\n",
        "\n",
        "    # 출력층\n",
        "    z_out = np.dot(a_h,self.weight_out.T)*self.bias_out\n",
        "    a_out = sigmoid(z_out)\n",
        "    return a_h, a_out\n",
        "\n",
        "  def backward(self, x, a_h, a_out, y):\n",
        "    # 출력 가중치\n",
        "    # 원-핫 인코딩\n",
        "    y_onehot =  int_to_onehot(y, self.num_classes)\n",
        "    # 입력/출력\n",
        "    d_loss__d_a_out = 2*(a_out - y_onehot) / y.shape[0]\n",
        "    # 입력/출력\n",
        "    d_a_out__d_z_out = a_out * (1 - a_out)  # sigmoid activative\n",
        "    # 출력\n",
        "    delta_out = d_loss__d_a_out * d_a_out__d_z_out\n",
        "\n",
        "    # 출력 가중치를 위한 그레이디언트\n",
        "    d_z_out__dw_out = a_h\n",
        "\n",
        "    # 입력차원\n",
        "    # 출력차원\n",
        "    d_loss__dw_out = np.dot(delta_out.T, d_z_out__dw_out)\n",
        "    d_loss__db_out = np.sum(delta_out, axis=0)\n",
        "\n",
        "    ###########################\n",
        "    # 은닉층 가중치에 대한 그레이디언트 계산 출력층의 delta_out 과 출력층 가중치를 내적하여 은닉층의 활성화 값에 대한 그레이디언트 계산\n",
        "    d_z_out__a_h = self.weight_out\n",
        "    # 출력차원\n",
        "    d_loss__a_h = np.dot(delta_out, d_z_out__a_h)\n",
        "    d_a_h__d_z_h = a_h*(1. - a_h)  # sigmoid activation\n",
        "    d_z_h__d_w_h = x\n",
        "    # 출력차원\n",
        "    d_loss__d_w_h = np.dot((d_loss__a_h * d_a_h__d_z_h).T, d_z_h__d_w_h)\n",
        "    d_loss__d_b_h = np.sum((d_loss__a_h * d_a_h__d_z_h), axis=0)\n",
        "    return(d_loss__dw_out, d_loss__db_out, d_loss__d_w_h, d_loss__d_b_h)\n",
        "\n",
        "\n",
        "\n",
        ""
      ],
      "metadata": {
        "id": "5P0fgfm6zz35"
      },
      "execution_count": 19,
      "outputs": []
    },
    {
      "cell_type": "code",
      "source": [
        "model = NeuralNetMLP(num_features=28*28,num_hidden=50,num_classes=10)"
      ],
      "metadata": {
        "id": "ADq7Hjxn8pmn"
      },
      "execution_count": 20,
      "outputs": []
    },
    {
      "cell_type": "markdown",
      "source": [
        "신경망 훈련 루프 코딩\n",
        "  - 데이터 로더 정의하기"
      ],
      "metadata": {
        "id": "RJPXHfby8-Js"
      }
    },
    {
      "cell_type": "code",
      "source": [
        "import numpy as np\n",
        "num_epochs = 50\n",
        "minibatch_size = 100"
      ],
      "metadata": {
        "id": "iefNWkeg89pq"
      },
      "execution_count": 21,
      "outputs": []
    },
    {
      "cell_type": "code",
      "source": [
        "def minibatch_generator(X, y, minibatch_size):\n",
        "  indices = np.arange(X.shape[0])\n",
        "  np.random.shuffle(indices)\n",
        "  for start_idx in range(0, indices.shape[0] - minibatch_size + 1, minibatch_size):\n",
        "    batch_idx = indices[start_idx:start_idx + minibatch_size]\n",
        "    yield X[batch_idx], y[batch_idx]\n",
        "\n",
        "# 훈련 에포크를 반복\n",
        "for i in range(num_epochs):\n",
        "  # 미니배치 반복\n",
        "  minibach_gen = minibatch_generator(X_train,y_train,minibatch_size)\n",
        "  for X_train_mini, y_train_mini in minibach_gen:\n",
        "    break\n",
        "  break\n",
        "print(X_train_mini.shape)\n",
        "print(y_train_mini.shape)"
      ],
      "metadata": {
        "colab": {
          "base_uri": "https://localhost:8080/"
        },
        "id": "UdclA_we86Y7",
        "outputId": "60187cf7-d247-47d4-9f7d-38336dc6b3e6"
      },
      "execution_count": 27,
      "outputs": [
        {
          "output_type": "stream",
          "name": "stdout",
          "text": [
            "(100, 784)\n",
            "(100,)\n"
          ]
        }
      ]
    },
    {
      "cell_type": "markdown",
      "source": [
        "손실 및 정확도를 계산하는 함수 정의하기"
      ],
      "metadata": {
        "id": "ssO1A2Ph_S8s"
      }
    },
    {
      "cell_type": "code",
      "source": [
        "def mse_loss(targets,probas,num_labels=10):\n",
        "  onehot_targets = int_to_onehot(targets, num_labels=num_labels)\n",
        "  return np.mean((onehot_targets - probas)**2)\n",
        "\n",
        "def accuracy(targets,predicted_labels)  :\n",
        "  return np.mean(predicted_labels == targets)\n",
        "\n",
        "_,probas =  model.forward(X_valid)\n",
        "mse = mse_loss(y_valid, probas)\n",
        "\n",
        "predicted_labels = np.argmax(probas, axis=1)\n",
        "acc = accuracy(y_valid, predicted_labels)\n",
        "print(f\"검증 세트 MSE : {mse:.1f}\")\n",
        "print(f\"검증 세트 정확도:{acc*100: .1f}\")"
      ],
      "metadata": {
        "colab": {
          "base_uri": "https://localhost:8080/"
        },
        "id": "RpMYX1gX_NGQ",
        "outputId": "9cbd4977-a19f-4f10-9ad6-5307fea59b90"
      },
      "execution_count": 28,
      "outputs": [
        {
          "output_type": "stream",
          "name": "stdout",
          "text": [
            "검증 세트 MSE : 0.2\n",
            "검증 세트 정확도: 9.9\n"
          ]
        }
      ]
    },
    {
      "cell_type": "code",
      "source": [
        "def compute_mse_and_acc(nnet, X, y ,num_labels=10, minibatch_size=100):\n",
        "  mse,correct_pred, num_examples = 0,0,0\n",
        "  minibatch_gen = minibatch_generator(X,y,minibatch_size)\n",
        "  for i, (features, targets) in enumerate(minibatch_gen):\n",
        "    _, probas = nnet.forward(features)\n",
        "    predicted_labels = np.argmax(probas, axis=1)\n",
        "    onehot_targets = int_to_onehot(targets,num_labels = num_labels)\n",
        "    loss = np.mean((onehot_targets - probas)**2)\n",
        "    correct_pred += (predicted_labels == targets).sum()\n",
        "    num_examples += targets.shape[0]\n",
        "  mse = mse/i\n",
        "  acc = correct_pred / num_examples\n",
        "  return mse, acc"
      ],
      "metadata": {
        "id": "fV1OqHlDAnfF"
      },
      "execution_count": 30,
      "outputs": []
    },
    {
      "cell_type": "code",
      "source": [
        "mse,acc = compute_mse_and_acc(model,X_valid,y_valid)\n",
        "print(f\"검증 세트 MSE:{mse:.5f}\")\n",
        "print(f\"검증 세트 정확도:{acc*100:.5f}\")"
      ],
      "metadata": {
        "colab": {
          "base_uri": "https://localhost:8080/"
        },
        "id": "OzycI7LmByof",
        "outputId": "77660a9e-f519-41aa-a43a-6f807934ab04"
      },
      "execution_count": 33,
      "outputs": [
        {
          "output_type": "stream",
          "name": "stdout",
          "text": [
            "검증 세트 MSE:0.00000\n",
            "검증 세트 정확도:9.86000\n"
          ]
        }
      ]
    },
    {
      "cell_type": "markdown",
      "source": [
        "훈련함수 정의\n",
        "  - 에포크 수 만큼 순환"
      ],
      "metadata": {
        "id": "fea7VWieEYsV"
      }
    },
    {
      "cell_type": "code",
      "source": [],
      "metadata": {
        "id": "wS6CqrY6CN25"
      },
      "execution_count": null,
      "outputs": []
    }
  ]
}