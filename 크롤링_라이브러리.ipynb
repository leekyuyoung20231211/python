{
  "nbformat": 4,
  "nbformat_minor": 0,
  "metadata": {
    "colab": {
      "provenance": []
    },
    "kernelspec": {
      "name": "python3",
      "display_name": "Python 3"
    },
    "language_info": {
      "name": "python"
    }
  },
  "cells": [
    {
      "cell_type": "code",
      "execution_count": 67,
      "metadata": {
        "id": "uoH7Ry0Oq0px"
      },
      "outputs": [],
      "source": []
    },
    {
      "cell_type": "markdown",
      "source": [
        "- 정적 웹페이지\n",
        "  - javascript 로 화면구성이 안된 페이지\n",
        "  - 매장리스트\n",
        "    - Text기반의 페이지\n",
        "  - BeautifulSoup\n",
        "\n",
        "- 동적 웹페이지\n",
        "  - javascript 를 이용해서 화면 구성을 한 페이지\n",
        "    - 지도 및 위치정보를 이용해서 화면구성\n",
        "    - javascript를 호출해서 정보를 취득\n",
        "  - Selenium\n"
      ],
      "metadata": {
        "id": "FuyP5CpGsOj_"
      }
    },
    {
      "cell_type": "code",
      "source": [
        "html = '''\n",
        "<h1 id=\"title\">한빛출판네트워크</h1><div class=\"top\">\n",
        "<ul class=\"menu\">\n",
        "  <li><a href=http://www.hanbit.co.kr/member/login.html class=\"login\">로그인 </a>\n",
        "  </li>\n",
        "</ul>\n",
        "<ul class=\"brand\">\n",
        "  <li><a href=\"http://www.hanbit.co.kr/media/\">한빛미디어</a></li>\n",
        "  <li><a href=\"http://www.hanbit.co.kr/academy/\">한빛아카데미</a></li>\n",
        "</ul>\n",
        "</div>'''"
      ],
      "metadata": {
        "id": "rE-9nDu5sjs-"
      },
      "execution_count": 126,
      "outputs": []
    },
    {
      "cell_type": "code",
      "source": [
        "html"
      ],
      "metadata": {
        "colab": {
          "base_uri": "https://localhost:8080/",
          "height": 73
        },
        "id": "tp-cmmIytQvs",
        "outputId": "815fc0b3-1cf2-4166-a1ba-09f5dcb2a8b5"
      },
      "execution_count": 127,
      "outputs": [
        {
          "output_type": "execute_result",
          "data": {
            "text/plain": [
              "'\\n<h1 id=\"title\">한빛출판네트워크</h1><div class=\"top\">\\n<ul class=\"menu\">\\n  <li><a href=http://www.hanbit.co.kr/member/login.html class=\"login\">로그인 </a>\\n  </li>\\n</ul>\\n<ul class=\"brand\">\\n  <li><a href=\"http://www.hanbit.co.kr/media/\">한빛미디어</a></li>\\n  <li><a href=\"http://www.hanbit.co.kr/academy/\">한빛아카데미</a></li>\\n</ul>\\n</div>'"
            ],
            "application/vnd.google.colaboratory.intrinsic+json": {
              "type": "string"
            }
          },
          "metadata": {},
          "execution_count": 127
        }
      ]
    },
    {
      "cell_type": "code",
      "source": [
        "!pip install beautifulsoup4"
      ],
      "metadata": {
        "colab": {
          "base_uri": "https://localhost:8080/"
        },
        "id": "hZXdW8ZSteWT",
        "outputId": "939ffe74-b7f3-4b42-a27e-ce4ae1e87291"
      },
      "execution_count": 128,
      "outputs": [
        {
          "output_type": "stream",
          "name": "stdout",
          "text": [
            "Requirement already satisfied: beautifulsoup4 in /usr/local/lib/python3.10/dist-packages (4.11.2)\n",
            "Requirement already satisfied: soupsieve>1.2 in /usr/local/lib/python3.10/dist-packages (from beautifulsoup4) (2.5)\n"
          ]
        }
      ]
    },
    {
      "cell_type": "code",
      "source": [
        "from bs4 import BeautifulSoup"
      ],
      "metadata": {
        "id": "D8h5hTwmtjgQ"
      },
      "execution_count": 129,
      "outputs": []
    },
    {
      "cell_type": "code",
      "source": [
        "soup = BeautifulSoup(html,'html.parser')"
      ],
      "metadata": {
        "id": "0_c-uAf8tuyW"
      },
      "execution_count": 130,
      "outputs": []
    },
    {
      "cell_type": "code",
      "source": [
        "print(soup.prettify())"
      ],
      "metadata": {
        "colab": {
          "base_uri": "https://localhost:8080/"
        },
        "id": "TooIMSyAuGUd",
        "outputId": "e384338f-65ba-4b22-c3f1-7b048484dff7"
      },
      "execution_count": 131,
      "outputs": [
        {
          "output_type": "stream",
          "name": "stdout",
          "text": [
            "<h1 id=\"title\">\n",
            " 한빛출판네트워크\n",
            "</h1>\n",
            "<div class=\"top\">\n",
            " <ul class=\"menu\">\n",
            "  <li>\n",
            "   <a class=\"login\" href=\"http://www.hanbit.co.kr/member/login.html\">\n",
            "    로그인\n",
            "   </a>\n",
            "  </li>\n",
            " </ul>\n",
            " <ul class=\"brand\">\n",
            "  <li>\n",
            "   <a href=\"http://www.hanbit.co.kr/media/\">\n",
            "    한빛미디어\n",
            "   </a>\n",
            "  </li>\n",
            "  <li>\n",
            "   <a href=\"http://www.hanbit.co.kr/academy/\">\n",
            "    한빛아카데미\n",
            "   </a>\n",
            "  </li>\n",
            " </ul>\n",
            "</div>\n"
          ]
        }
      ]
    },
    {
      "cell_type": "code",
      "source": [
        "# 태그파싱 - 지정된 한 개의 태그만 파싱"
      ],
      "metadata": {
        "id": "_3V8MtdEuAP8"
      },
      "execution_count": 97,
      "outputs": []
    },
    {
      "cell_type": "code",
      "source": [
        "tag_h1 = soup.h1\n",
        "tag_h1"
      ],
      "metadata": {
        "colab": {
          "base_uri": "https://localhost:8080/"
        },
        "id": "o60mSZU8uemT",
        "outputId": "be368191-4367-4a26-fd44-0ad4c4441959"
      },
      "execution_count": 98,
      "outputs": [
        {
          "output_type": "execute_result",
          "data": {
            "text/plain": [
              "<h1 id=\"title\">한빛출판네트워크</h1>"
            ]
          },
          "metadata": {},
          "execution_count": 98
        }
      ]
    },
    {
      "cell_type": "code",
      "source": [
        "tag_div = soup.div\n",
        "tag_div"
      ],
      "metadata": {
        "colab": {
          "base_uri": "https://localhost:8080/"
        },
        "id": "xivKKpnGuw41",
        "outputId": "dd805333-50ec-447e-a080-e075213e149c"
      },
      "execution_count": 99,
      "outputs": [
        {
          "output_type": "execute_result",
          "data": {
            "text/plain": [
              "<div class=\"top\">\n",
              "<ul class=\"menu\">\n",
              "<li><a class=\"login\" href=\"http://www.hanbit.co.kr/member/login.html\">로그인 </a>\n",
              "</li>\n",
              "</ul>\n",
              "<ul class=\"brand\">\n",
              "<li><a \"=\"\" academy=\"\" href=\"http://www.hanbit.co.kr/media/&gt;한빛미디어&lt;/a&gt;&lt;/li&gt;\n",
              "  &lt;li&gt;&lt;a href=\" http:=\"\" www.hanbit.co.kr=\"\">한빛아카데미</a></li>\n",
              "</ul>\n",
              "</div>"
            ]
          },
          "metadata": {},
          "execution_count": 99
        }
      ]
    },
    {
      "cell_type": "code",
      "source": [
        "tag_ul = soup.ul\n",
        "tag_ul"
      ],
      "metadata": {
        "colab": {
          "base_uri": "https://localhost:8080/"
        },
        "id": "D5_u53Rvu2uF",
        "outputId": "3e7f4d0e-d0e4-4d98-dbb7-a3569f455b83"
      },
      "execution_count": 100,
      "outputs": [
        {
          "output_type": "execute_result",
          "data": {
            "text/plain": [
              "<ul class=\"menu\">\n",
              "<li><a class=\"login\" href=\"http://www.hanbit.co.kr/member/login.html\">로그인 </a>\n",
              "</li>\n",
              "</ul>"
            ]
          },
          "metadata": {},
          "execution_count": 100
        }
      ]
    },
    {
      "cell_type": "code",
      "source": [
        "tag_li = soup.li\n",
        "tag_li"
      ],
      "metadata": {
        "colab": {
          "base_uri": "https://localhost:8080/"
        },
        "id": "V5b5UOFku_sL",
        "outputId": "22fb97cd-7683-4012-ef27-31a5aa4c3bd2"
      },
      "execution_count": 101,
      "outputs": [
        {
          "output_type": "execute_result",
          "data": {
            "text/plain": [
              "<li><a class=\"login\" href=\"http://www.hanbit.co.kr/member/login.html\">로그인 </a>\n",
              "</li>"
            ]
          },
          "metadata": {},
          "execution_count": 101
        }
      ]
    },
    {
      "cell_type": "code",
      "source": [
        "tag_a = soup.a\n",
        "tag_a"
      ],
      "metadata": {
        "colab": {
          "base_uri": "https://localhost:8080/"
        },
        "id": "B0q_rPRYvGZ8",
        "outputId": "c56ccba6-dd41-4dad-d60e-3134b796d484"
      },
      "execution_count": 102,
      "outputs": [
        {
          "output_type": "execute_result",
          "data": {
            "text/plain": [
              "<a class=\"login\" href=\"http://www.hanbit.co.kr/member/login.html\">로그인 </a>"
            ]
          },
          "metadata": {},
          "execution_count": 102
        }
      ]
    },
    {
      "cell_type": "code",
      "source": [
        "# 지정된 태그를 모두 파싱"
      ],
      "metadata": {
        "id": "oIyXFQY5vIlc"
      },
      "execution_count": 103,
      "outputs": []
    },
    {
      "cell_type": "code",
      "source": [
        "tag_ul_all = soup.find_all('ul')\n",
        "tag_ul_all"
      ],
      "metadata": {
        "colab": {
          "base_uri": "https://localhost:8080/"
        },
        "id": "BaYyqtZcvQWd",
        "outputId": "62ed207e-3f8e-4510-cf57-3a2e83b2e678"
      },
      "execution_count": 104,
      "outputs": [
        {
          "output_type": "execute_result",
          "data": {
            "text/plain": [
              "[<ul class=\"menu\">\n",
              " <li><a class=\"login\" href=\"http://www.hanbit.co.kr/member/login.html\">로그인 </a>\n",
              " </li>\n",
              " </ul>,\n",
              " <ul class=\"brand\">\n",
              " <li><a \"=\"\" academy=\"\" href=\"http://www.hanbit.co.kr/media/&gt;한빛미디어&lt;/a&gt;&lt;/li&gt;\n",
              "   &lt;li&gt;&lt;a href=\" http:=\"\" www.hanbit.co.kr=\"\">한빛아카데미</a></li>\n",
              " </ul>]"
            ]
          },
          "metadata": {},
          "execution_count": 104
        }
      ]
    },
    {
      "cell_type": "code",
      "source": [
        "# li  태그 전부 가져오기\n",
        "# a 태그 전부 가져오기"
      ],
      "metadata": {
        "id": "lQALq0XrvXRm"
      },
      "execution_count": 105,
      "outputs": []
    },
    {
      "cell_type": "markdown",
      "source": [
        "속성을 이용한 파싱\n",
        "  - attrs : 속성이름과 값으로 구성(dictionary)\n",
        "  - find() : 속성을 이용해서 특정 태그를 파싱\n",
        "  - select() : 지정한 태그를 모두 파싱해서 리스트로구성"
      ],
      "metadata": {
        "id": "n7h4DPJVv5WF"
      }
    },
    {
      "cell_type": "code",
      "source": [
        "tag_a.attrs"
      ],
      "metadata": {
        "colab": {
          "base_uri": "https://localhost:8080/"
        },
        "id": "7pONfKfavhcr",
        "outputId": "d55dc80f-0d69-4706-b3e3-d85e11dbe818"
      },
      "execution_count": 106,
      "outputs": [
        {
          "output_type": "execute_result",
          "data": {
            "text/plain": [
              "{'href': 'http://www.hanbit.co.kr/member/login.html', 'class': ['login']}"
            ]
          },
          "metadata": {},
          "execution_count": 106
        }
      ]
    },
    {
      "cell_type": "code",
      "source": [
        "tag_a.attrs['href']"
      ],
      "metadata": {
        "colab": {
          "base_uri": "https://localhost:8080/",
          "height": 36
        },
        "id": "XM8CbyvhwXYP",
        "outputId": "34597a33-b0ac-4239-de90-9575e4c83487"
      },
      "execution_count": 107,
      "outputs": [
        {
          "output_type": "execute_result",
          "data": {
            "text/plain": [
              "'http://www.hanbit.co.kr/member/login.html'"
            ],
            "application/vnd.google.colaboratory.intrinsic+json": {
              "type": "string"
            }
          },
          "metadata": {},
          "execution_count": 107
        }
      ]
    },
    {
      "cell_type": "code",
      "source": [
        "# html에서 클래스는 여러개를 사용할수 있다.... class = \"btn btn-primary\"\n",
        "tag_a.attrs['class']"
      ],
      "metadata": {
        "colab": {
          "base_uri": "https://localhost:8080/"
        },
        "id": "H6_eqxcmwbMJ",
        "outputId": "9cc4828e-e6df-4577-c677-f4b52e61b73e"
      },
      "execution_count": 108,
      "outputs": [
        {
          "output_type": "execute_result",
          "data": {
            "text/plain": [
              "['login']"
            ]
          },
          "metadata": {},
          "execution_count": 108
        }
      ]
    },
    {
      "cell_type": "code",
      "source": [
        "test_html = '<a class=\"login login-test\" href=\"http://www.hanbit.co.kr/member/login.html\">로그인 </a>'\n",
        "temp_soup = BeautifulSoup(test_html,'html.parser')\n",
        "temp_soup.a,  temp_soup.a.attrs"
      ],
      "metadata": {
        "colab": {
          "base_uri": "https://localhost:8080/"
        },
        "id": "VTCJ9fF0w0wt",
        "outputId": "0f6af468-85b2-4818-a5f4-4eb3908d2ffe"
      },
      "execution_count": 109,
      "outputs": [
        {
          "output_type": "execute_result",
          "data": {
            "text/plain": [
              "(<a class=\"login login-test\" href=\"http://www.hanbit.co.kr/member/login.html\">로그인 </a>,\n",
              " {'class': ['login', 'login-test'],\n",
              "  'href': 'http://www.hanbit.co.kr/member/login.html'})"
            ]
          },
          "metadata": {},
          "execution_count": 109
        }
      ]
    },
    {
      "cell_type": "code",
      "source": [
        "print(soup.find('ul',attrs = {'class':'brand'}  )) # html에있는 ui중에 속성이 class이고 값이 brand인 ui태그를 출력\n",
        "print(soup.ul.attrs['class'])  # html 에서 가장 첫번째 나타나는 ul태그정보중에 속성이 class인 값"
      ],
      "metadata": {
        "colab": {
          "base_uri": "https://localhost:8080/"
        },
        "id": "pwvhwyaCw1C9",
        "outputId": "4f37c3a9-2b54-46c5-9b50-8143b4d21e9f"
      },
      "execution_count": 110,
      "outputs": [
        {
          "output_type": "stream",
          "name": "stdout",
          "text": [
            "<ul class=\"brand\">\n",
            "<li><a \"=\"\" academy=\"\" href=\"http://www.hanbit.co.kr/media/&gt;한빛미디어&lt;/a&gt;&lt;/li&gt;\n",
            "  &lt;li&gt;&lt;a href=\" http:=\"\" www.hanbit.co.kr=\"\">한빛아카데미</a></li>\n",
            "</ul>\n",
            "['menu']\n"
          ]
        }
      ]
    },
    {
      "cell_type": "code",
      "source": [
        "title = soup.find(id='title')  # 모든 태그중에 id값이 title인 태그중에 첫번째를 출력\n",
        "title"
      ],
      "metadata": {
        "colab": {
          "base_uri": "https://localhost:8080/"
        },
        "id": "7i4efDGrxki2",
        "outputId": "f83cb4ef-c510-4156-94a7-f9b997a6ea91"
      },
      "execution_count": 111,
      "outputs": [
        {
          "output_type": "execute_result",
          "data": {
            "text/plain": [
              "<h1 id=\"title\">한빛출판네트워크</h1>"
            ]
          },
          "metadata": {},
          "execution_count": 111
        }
      ]
    },
    {
      "cell_type": "code",
      "source": [
        "# 트리구조를 사용  select\n",
        "# 태그.값   class=값\n",
        "# 태그#값   id=값\n",
        "li_list = soup.select(\"div>ul.brand>li\")  # div 태그안에 있는 ul 태그의 id속성값이  brand인 태그중에 li 태그\n",
        "li_list"
      ],
      "metadata": {
        "colab": {
          "base_uri": "https://localhost:8080/"
        },
        "id": "midMw8NTyhlR",
        "outputId": "f338ac48-7bb0-4565-ef1e-2374cfd229b5"
      },
      "execution_count": 132,
      "outputs": [
        {
          "output_type": "execute_result",
          "data": {
            "text/plain": [
              "[<li><a href=\"http://www.hanbit.co.kr/media/\">한빛미디어</a></li>,\n",
              " <li><a href=\"http://www.hanbit.co.kr/academy/\">한빛아카데미</a></li>]"
            ]
          },
          "metadata": {},
          "execution_count": 132
        }
      ]
    },
    {
      "cell_type": "markdown",
      "source": [
        "웹사이트가 크롤링을 허용하는지 여부 확인하기\n",
        "  - 주소/robots.txt\n",
        "    - Allow : 허용\n",
        "    - Disallow : 접근금지"
      ],
      "metadata": {
        "id": "jR_KjblB1ctL"
      }
    },
    {
      "cell_type": "markdown",
      "source": [
        "매장정보 크롤링"
      ],
      "metadata": {
        "id": "UWP1xXQ95tQ2"
      }
    },
    {
      "cell_type": "code",
      "source": [
        "from bs4 import BeautifulSoup\n",
        "from urllib.request import urlopen\n",
        "result = []"
      ],
      "metadata": {
        "id": "ii0Izo5SzLJS"
      },
      "execution_count": 134,
      "outputs": []
    },
    {
      "cell_type": "code",
      "source": [
        "url = 'https://www.hollys.co.kr/store/korea/korStore2.do?pageNo=1'\n",
        "html = urlopen(url)\n",
        "html"
      ],
      "metadata": {
        "colab": {
          "base_uri": "https://localhost:8080/"
        },
        "id": "noU0XkZN51hv",
        "outputId": "a2aab7fe-77ef-4e03-87b7-6f543cab9d41"
      },
      "execution_count": 139,
      "outputs": [
        {
          "output_type": "execute_result",
          "data": {
            "text/plain": [
              "<http.client.HTTPResponse at 0x780287fc7df0>"
            ]
          },
          "metadata": {},
          "execution_count": 139
        }
      ]
    },
    {
      "cell_type": "code",
      "source": [
        "soup =  BeautifulSoup(html,'html.parser')\n",
        "print(soup.prettify())"
      ],
      "metadata": {
        "id": "vaGcjDL46GR7"
      },
      "execution_count": null,
      "outputs": []
    },
    {
      "cell_type": "code",
      "source": [
        "#contents > div.content > fieldset > fieldset > div.tableType01 > table > tbody\n",
        "stores = soup.select(\"#contents > div.content > fieldset > fieldset > div.tableType01 > table > tbody>tr\")"
      ],
      "metadata": {
        "id": "w6NACmkm6WaZ"
      },
      "execution_count": 146,
      "outputs": []
    },
    {
      "cell_type": "code",
      "source": [
        "type(stores[0])"
      ],
      "metadata": {
        "colab": {
          "base_uri": "https://localhost:8080/"
        },
        "id": "URBJJikJ7JgX",
        "outputId": "0ffe0e36-6696-4b82-9993-32f998c1debc"
      },
      "execution_count": 147,
      "outputs": [
        {
          "output_type": "execute_result",
          "data": {
            "text/plain": [
              "bs4.element.Tag"
            ]
          },
          "metadata": {},
          "execution_count": 147
        }
      ]
    },
    {
      "cell_type": "code",
      "source": [
        "stores[0].find_all(\"td\")"
      ],
      "metadata": {
        "colab": {
          "base_uri": "https://localhost:8080/"
        },
        "id": "3wRtgMs67iV-",
        "outputId": "56bc9a6b-2235-445d-9068-9f18defeb908"
      },
      "execution_count": 148,
      "outputs": [
        {
          "output_type": "execute_result",
          "data": {
            "text/plain": [
              "[<td class=\"noline center_t\">경기 하남시</td>,\n",
              " <td class=\"center_t\"><a href=\"#\" onclick=\"javascript:storeView(1116); return false;\">하남덕풍점</a></td>,\n",
              " <td class=\"center_t tdp0\">영업중</td>,\n",
              " <td class=\"center_t\"><a href=\"#\" onclick=\"javascript:storeView(1116); return false;\">경기도 하남시 덕풍북로 2 (덕풍동) .</a></td>,\n",
              " <td class=\"center_t\">\n",
              " <img alt=\"주차\" src=\"https://www.hollys.co.kr/websrc/images/store/img_store_s08.png\" style=\"margin-right:1px\"/>\n",
              " </td>,\n",
              " <td class=\"center_t\">070-4791-4731</td>]"
            ]
          },
          "metadata": {},
          "execution_count": 148
        }
      ]
    },
    {
      "cell_type": "code",
      "source": [
        "stores[0].find_all(\"td\")[0]"
      ],
      "metadata": {
        "colab": {
          "base_uri": "https://localhost:8080/"
        },
        "id": "gj6x7jSu7zNE",
        "outputId": "c1a14eef-1291-4d25-8d5d-96ff8e64e22f"
      },
      "execution_count": 149,
      "outputs": [
        {
          "output_type": "execute_result",
          "data": {
            "text/plain": [
              "<td class=\"noline center_t\">경기 하남시</td>"
            ]
          },
          "metadata": {},
          "execution_count": 149
        }
      ]
    },
    {
      "cell_type": "code",
      "source": [
        "stores[0].find_all(\"td\")[0].text"
      ],
      "metadata": {
        "colab": {
          "base_uri": "https://localhost:8080/",
          "height": 36
        },
        "id": "RAsf1bVH72s1",
        "outputId": "70ff8f1d-5523-4907-ef2b-49036e1febb8"
      },
      "execution_count": 150,
      "outputs": [
        {
          "output_type": "execute_result",
          "data": {
            "text/plain": [
              "'경기 하남시'"
            ],
            "application/vnd.google.colaboratory.intrinsic+json": {
              "type": "string"
            }
          },
          "metadata": {},
          "execution_count": 150
        }
      ]
    },
    {
      "cell_type": "code",
      "source": [
        "#  지역명, 매장, 현황, 주소, 전화번호\n",
        "#   [0]    [1]   [2]  [3]    [5]\n",
        "# DataFrame으로 만들고 csv 저장하기"
      ],
      "metadata": {
        "id": "MFkzexgt79rc"
      },
      "execution_count": 151,
      "outputs": []
    },
    {
      "cell_type": "code",
      "source": [
        "for tag in stores:\n",
        "  sublist = []\n",
        "  for index,td in enumerate(tag.find_all(\"td\")):\n",
        "    if index == 4:\n",
        "      continue\n",
        "    print(td.text, end=\" / \")\n",
        "  print()"
      ],
      "metadata": {
        "colab": {
          "base_uri": "https://localhost:8080/"
        },
        "id": "LJH5MfJj8RZ3",
        "outputId": "507aaa38-628a-4ae5-e6af-27e5dec50074"
      },
      "execution_count": 155,
      "outputs": [
        {
          "output_type": "stream",
          "name": "stdout",
          "text": [
            "경기 하남시 / 하남덕풍점 / 영업중 / 경기도 하남시 덕풍북로 2 (덕풍동) . / 070-4791-4731 / \n",
            "대전 중구 / 대전오류점 / 영업중 / 대전광역시 중구 계룡로 876 메종드메디컬빌딩 104호, 202호 . / 042-522-3141 / \n",
            "충남 계룡시 / 계룡대점 / 영업중 / 충청남도 계룡시 신도안면 신도안1길 43 (계룡스포츠센터) 계룡스포츠센터 1층 / 042-551-5508 / \n",
            "경기 고양시 덕양구 / 화정DI점 / 영업중 / 경기도 고양시 덕양구 화신로 254 (화정동)  / 031-971-4097 / \n",
            "부산 중구 / 부산광복점 / 영업중 / 부산광역시 중구 광복로 70 (광복동2가) . / 051-253-8033 / \n",
            "경기 양평군 / 양평북한강DI점 / 영업중 / 경기도 양평군 양서면 양수로118번길 29 할리스 / 031-8079-7090 / \n",
            "전북 완주군 / 완주삼봉점 / 영업중 / 전라북도 완주군 삼례읍 신기길 5-3 수계리 1212-4 / 063-261-2003 / \n",
            "서울 송파구 / 잠실새내역점 / 영업중 / 서울특별시 송파구 올림픽로12길 8 (잠실동, 제일빌딩) . / 02-416-2085 / \n",
            "경기 화성시 / 화성남양점 / 영업중 / 경기도 화성시 남양읍2279-2 . / 031-8067-7760 / \n",
            "서울 중랑구 / 중랑역점 / 영업중 / 서울특별시 중랑구 망우로 210 (상봉동) . / 02.6085.7858 / \n"
          ]
        }
      ]
    },
    {
      "cell_type": "code",
      "source": [
        "for tag in stores:\n",
        "  sublist = []\n",
        "  for index,td in enumerate(tag.find_all(\"td\")):\n",
        "    if index == 4:\n",
        "      continue\n",
        "    sublist.append(td.text)\n",
        "  result.append(sublist)"
      ],
      "metadata": {
        "id": "-wyuNwpE9UPx"
      },
      "execution_count": 156,
      "outputs": []
    },
    {
      "cell_type": "code",
      "source": [
        "import pandas as pd\n",
        "df = pd.DataFrame(result)\n",
        "df.columns = ['지역','매장명','상태','주소','전화번호']\n",
        "df.head()"
      ],
      "metadata": {
        "colab": {
          "base_uri": "https://localhost:8080/",
          "height": 206
        },
        "id": "XZ1avfrmAQmU",
        "outputId": "b0cfb2eb-6980-41c0-fccc-feacdccc63c2"
      },
      "execution_count": 159,
      "outputs": [
        {
          "output_type": "execute_result",
          "data": {
            "text/plain": [
              "           지역    매장명   상태                                           주소  \\\n",
              "0      경기 하남시  하남덕풍점  영업중                       경기도 하남시 덕풍북로 2 (덕풍동) .   \n",
              "1       대전 중구  대전오류점  영업중       대전광역시 중구 계룡로 876 메종드메디컬빌딩 104호, 202호 .   \n",
              "2      충남 계룡시   계룡대점  영업중  충청남도 계룡시 신도안면 신도안1길 43 (계룡스포츠센터) 계룡스포츠센터 1층   \n",
              "3  경기 고양시 덕양구  화정DI점  영업중                   경기도 고양시 덕양구 화신로 254 (화정동)    \n",
              "4       부산 중구  부산광복점  영업중                    부산광역시 중구 광복로 70 (광복동2가) .   \n",
              "\n",
              "            전화번호  \n",
              "0  070-4791-4731  \n",
              "1   042-522-3141  \n",
              "2   042-551-5508  \n",
              "3   031-971-4097  \n",
              "4   051-253-8033  "
            ],
            "text/html": [
              "\n",
              "  <div id=\"df-ac132504-07e7-4fee-8a5e-29d69119329d\" class=\"colab-df-container\">\n",
              "    <div>\n",
              "<style scoped>\n",
              "    .dataframe tbody tr th:only-of-type {\n",
              "        vertical-align: middle;\n",
              "    }\n",
              "\n",
              "    .dataframe tbody tr th {\n",
              "        vertical-align: top;\n",
              "    }\n",
              "\n",
              "    .dataframe thead th {\n",
              "        text-align: right;\n",
              "    }\n",
              "</style>\n",
              "<table border=\"1\" class=\"dataframe\">\n",
              "  <thead>\n",
              "    <tr style=\"text-align: right;\">\n",
              "      <th></th>\n",
              "      <th>지역</th>\n",
              "      <th>매장명</th>\n",
              "      <th>상태</th>\n",
              "      <th>주소</th>\n",
              "      <th>전화번호</th>\n",
              "    </tr>\n",
              "  </thead>\n",
              "  <tbody>\n",
              "    <tr>\n",
              "      <th>0</th>\n",
              "      <td>경기 하남시</td>\n",
              "      <td>하남덕풍점</td>\n",
              "      <td>영업중</td>\n",
              "      <td>경기도 하남시 덕풍북로 2 (덕풍동) .</td>\n",
              "      <td>070-4791-4731</td>\n",
              "    </tr>\n",
              "    <tr>\n",
              "      <th>1</th>\n",
              "      <td>대전 중구</td>\n",
              "      <td>대전오류점</td>\n",
              "      <td>영업중</td>\n",
              "      <td>대전광역시 중구 계룡로 876 메종드메디컬빌딩 104호, 202호 .</td>\n",
              "      <td>042-522-3141</td>\n",
              "    </tr>\n",
              "    <tr>\n",
              "      <th>2</th>\n",
              "      <td>충남 계룡시</td>\n",
              "      <td>계룡대점</td>\n",
              "      <td>영업중</td>\n",
              "      <td>충청남도 계룡시 신도안면 신도안1길 43 (계룡스포츠센터) 계룡스포츠센터 1층</td>\n",
              "      <td>042-551-5508</td>\n",
              "    </tr>\n",
              "    <tr>\n",
              "      <th>3</th>\n",
              "      <td>경기 고양시 덕양구</td>\n",
              "      <td>화정DI점</td>\n",
              "      <td>영업중</td>\n",
              "      <td>경기도 고양시 덕양구 화신로 254 (화정동)</td>\n",
              "      <td>031-971-4097</td>\n",
              "    </tr>\n",
              "    <tr>\n",
              "      <th>4</th>\n",
              "      <td>부산 중구</td>\n",
              "      <td>부산광복점</td>\n",
              "      <td>영업중</td>\n",
              "      <td>부산광역시 중구 광복로 70 (광복동2가) .</td>\n",
              "      <td>051-253-8033</td>\n",
              "    </tr>\n",
              "  </tbody>\n",
              "</table>\n",
              "</div>\n",
              "    <div class=\"colab-df-buttons\">\n",
              "\n",
              "  <div class=\"colab-df-container\">\n",
              "    <button class=\"colab-df-convert\" onclick=\"convertToInteractive('df-ac132504-07e7-4fee-8a5e-29d69119329d')\"\n",
              "            title=\"Convert this dataframe to an interactive table.\"\n",
              "            style=\"display:none;\">\n",
              "\n",
              "  <svg xmlns=\"http://www.w3.org/2000/svg\" height=\"24px\" viewBox=\"0 -960 960 960\">\n",
              "    <path d=\"M120-120v-720h720v720H120Zm60-500h600v-160H180v160Zm220 220h160v-160H400v160Zm0 220h160v-160H400v160ZM180-400h160v-160H180v160Zm440 0h160v-160H620v160ZM180-180h160v-160H180v160Zm440 0h160v-160H620v160Z\"/>\n",
              "  </svg>\n",
              "    </button>\n",
              "\n",
              "  <style>\n",
              "    .colab-df-container {\n",
              "      display:flex;\n",
              "      gap: 12px;\n",
              "    }\n",
              "\n",
              "    .colab-df-convert {\n",
              "      background-color: #E8F0FE;\n",
              "      border: none;\n",
              "      border-radius: 50%;\n",
              "      cursor: pointer;\n",
              "      display: none;\n",
              "      fill: #1967D2;\n",
              "      height: 32px;\n",
              "      padding: 0 0 0 0;\n",
              "      width: 32px;\n",
              "    }\n",
              "\n",
              "    .colab-df-convert:hover {\n",
              "      background-color: #E2EBFA;\n",
              "      box-shadow: 0px 1px 2px rgba(60, 64, 67, 0.3), 0px 1px 3px 1px rgba(60, 64, 67, 0.15);\n",
              "      fill: #174EA6;\n",
              "    }\n",
              "\n",
              "    .colab-df-buttons div {\n",
              "      margin-bottom: 4px;\n",
              "    }\n",
              "\n",
              "    [theme=dark] .colab-df-convert {\n",
              "      background-color: #3B4455;\n",
              "      fill: #D2E3FC;\n",
              "    }\n",
              "\n",
              "    [theme=dark] .colab-df-convert:hover {\n",
              "      background-color: #434B5C;\n",
              "      box-shadow: 0px 1px 3px 1px rgba(0, 0, 0, 0.15);\n",
              "      filter: drop-shadow(0px 1px 2px rgba(0, 0, 0, 0.3));\n",
              "      fill: #FFFFFF;\n",
              "    }\n",
              "  </style>\n",
              "\n",
              "    <script>\n",
              "      const buttonEl =\n",
              "        document.querySelector('#df-ac132504-07e7-4fee-8a5e-29d69119329d button.colab-df-convert');\n",
              "      buttonEl.style.display =\n",
              "        google.colab.kernel.accessAllowed ? 'block' : 'none';\n",
              "\n",
              "      async function convertToInteractive(key) {\n",
              "        const element = document.querySelector('#df-ac132504-07e7-4fee-8a5e-29d69119329d');\n",
              "        const dataTable =\n",
              "          await google.colab.kernel.invokeFunction('convertToInteractive',\n",
              "                                                    [key], {});\n",
              "        if (!dataTable) return;\n",
              "\n",
              "        const docLinkHtml = 'Like what you see? Visit the ' +\n",
              "          '<a target=\"_blank\" href=https://colab.research.google.com/notebooks/data_table.ipynb>data table notebook</a>'\n",
              "          + ' to learn more about interactive tables.';\n",
              "        element.innerHTML = '';\n",
              "        dataTable['output_type'] = 'display_data';\n",
              "        await google.colab.output.renderOutput(dataTable, element);\n",
              "        const docLink = document.createElement('div');\n",
              "        docLink.innerHTML = docLinkHtml;\n",
              "        element.appendChild(docLink);\n",
              "      }\n",
              "    </script>\n",
              "  </div>\n",
              "\n",
              "\n",
              "<div id=\"df-81a311eb-2aea-4cdf-b95c-d3e094409047\">\n",
              "  <button class=\"colab-df-quickchart\" onclick=\"quickchart('df-81a311eb-2aea-4cdf-b95c-d3e094409047')\"\n",
              "            title=\"Suggest charts\"\n",
              "            style=\"display:none;\">\n",
              "\n",
              "<svg xmlns=\"http://www.w3.org/2000/svg\" height=\"24px\"viewBox=\"0 0 24 24\"\n",
              "     width=\"24px\">\n",
              "    <g>\n",
              "        <path d=\"M19 3H5c-1.1 0-2 .9-2 2v14c0 1.1.9 2 2 2h14c1.1 0 2-.9 2-2V5c0-1.1-.9-2-2-2zM9 17H7v-7h2v7zm4 0h-2V7h2v10zm4 0h-2v-4h2v4z\"/>\n",
              "    </g>\n",
              "</svg>\n",
              "  </button>\n",
              "\n",
              "<style>\n",
              "  .colab-df-quickchart {\n",
              "      --bg-color: #E8F0FE;\n",
              "      --fill-color: #1967D2;\n",
              "      --hover-bg-color: #E2EBFA;\n",
              "      --hover-fill-color: #174EA6;\n",
              "      --disabled-fill-color: #AAA;\n",
              "      --disabled-bg-color: #DDD;\n",
              "  }\n",
              "\n",
              "  [theme=dark] .colab-df-quickchart {\n",
              "      --bg-color: #3B4455;\n",
              "      --fill-color: #D2E3FC;\n",
              "      --hover-bg-color: #434B5C;\n",
              "      --hover-fill-color: #FFFFFF;\n",
              "      --disabled-bg-color: #3B4455;\n",
              "      --disabled-fill-color: #666;\n",
              "  }\n",
              "\n",
              "  .colab-df-quickchart {\n",
              "    background-color: var(--bg-color);\n",
              "    border: none;\n",
              "    border-radius: 50%;\n",
              "    cursor: pointer;\n",
              "    display: none;\n",
              "    fill: var(--fill-color);\n",
              "    height: 32px;\n",
              "    padding: 0;\n",
              "    width: 32px;\n",
              "  }\n",
              "\n",
              "  .colab-df-quickchart:hover {\n",
              "    background-color: var(--hover-bg-color);\n",
              "    box-shadow: 0 1px 2px rgba(60, 64, 67, 0.3), 0 1px 3px 1px rgba(60, 64, 67, 0.15);\n",
              "    fill: var(--button-hover-fill-color);\n",
              "  }\n",
              "\n",
              "  .colab-df-quickchart-complete:disabled,\n",
              "  .colab-df-quickchart-complete:disabled:hover {\n",
              "    background-color: var(--disabled-bg-color);\n",
              "    fill: var(--disabled-fill-color);\n",
              "    box-shadow: none;\n",
              "  }\n",
              "\n",
              "  .colab-df-spinner {\n",
              "    border: 2px solid var(--fill-color);\n",
              "    border-color: transparent;\n",
              "    border-bottom-color: var(--fill-color);\n",
              "    animation:\n",
              "      spin 1s steps(1) infinite;\n",
              "  }\n",
              "\n",
              "  @keyframes spin {\n",
              "    0% {\n",
              "      border-color: transparent;\n",
              "      border-bottom-color: var(--fill-color);\n",
              "      border-left-color: var(--fill-color);\n",
              "    }\n",
              "    20% {\n",
              "      border-color: transparent;\n",
              "      border-left-color: var(--fill-color);\n",
              "      border-top-color: var(--fill-color);\n",
              "    }\n",
              "    30% {\n",
              "      border-color: transparent;\n",
              "      border-left-color: var(--fill-color);\n",
              "      border-top-color: var(--fill-color);\n",
              "      border-right-color: var(--fill-color);\n",
              "    }\n",
              "    40% {\n",
              "      border-color: transparent;\n",
              "      border-right-color: var(--fill-color);\n",
              "      border-top-color: var(--fill-color);\n",
              "    }\n",
              "    60% {\n",
              "      border-color: transparent;\n",
              "      border-right-color: var(--fill-color);\n",
              "    }\n",
              "    80% {\n",
              "      border-color: transparent;\n",
              "      border-right-color: var(--fill-color);\n",
              "      border-bottom-color: var(--fill-color);\n",
              "    }\n",
              "    90% {\n",
              "      border-color: transparent;\n",
              "      border-bottom-color: var(--fill-color);\n",
              "    }\n",
              "  }\n",
              "</style>\n",
              "\n",
              "  <script>\n",
              "    async function quickchart(key) {\n",
              "      const quickchartButtonEl =\n",
              "        document.querySelector('#' + key + ' button');\n",
              "      quickchartButtonEl.disabled = true;  // To prevent multiple clicks.\n",
              "      quickchartButtonEl.classList.add('colab-df-spinner');\n",
              "      try {\n",
              "        const charts = await google.colab.kernel.invokeFunction(\n",
              "            'suggestCharts', [key], {});\n",
              "      } catch (error) {\n",
              "        console.error('Error during call to suggestCharts:', error);\n",
              "      }\n",
              "      quickchartButtonEl.classList.remove('colab-df-spinner');\n",
              "      quickchartButtonEl.classList.add('colab-df-quickchart-complete');\n",
              "    }\n",
              "    (() => {\n",
              "      let quickchartButtonEl =\n",
              "        document.querySelector('#df-81a311eb-2aea-4cdf-b95c-d3e094409047 button');\n",
              "      quickchartButtonEl.style.display =\n",
              "        google.colab.kernel.accessAllowed ? 'block' : 'none';\n",
              "    })();\n",
              "  </script>\n",
              "</div>\n",
              "\n",
              "    </div>\n",
              "  </div>\n"
            ]
          },
          "metadata": {},
          "execution_count": 159
        }
      ]
    },
    {
      "cell_type": "code",
      "source": [
        "url = 'https://www.hollys.co.kr/store/korea/korStore2.do?pageNo=2'\n",
        "# pd.concat()"
      ],
      "metadata": {
        "id": "__QJ2YcJAzpj"
      },
      "execution_count": null,
      "outputs": []
    },
    {
      "cell_type": "code",
      "source": [
        "# 크롤링할 주소\n",
        "def getStoreHollysCoffe(page):\n",
        "  result = []\n",
        "  url = f'https://www.hollys.co.kr/store/korea/korStore2.do?pageNo={page}'\n",
        "  # 주소를 가지고 웹에 접근해서 데이터를 읽음\n",
        "  html = urlopen(url)\n",
        "  # 태그를 파싱하도록 beatifulsoup객체 생성\n",
        "  soup =  BeautifulSoup(html,'html.parser')\n",
        "  # 원하는 위치의 태그정보를 통해 데이터 접근\n",
        "  stores = soup.select(\"#contents > div.content > fieldset > fieldset > div.tableType01 > table > tbody>tr\")\n",
        "  for tag in stores:\n",
        "    sublist = []\n",
        "    for index,td in enumerate(tag.find_all(\"td\")):\n",
        "      if index == 4:\n",
        "        continue\n",
        "      sublist.append(td.text)\n",
        "    result.append(sublist)\n",
        "\n",
        "  df = pd.DataFrame(result)\n",
        "  df.columns = ['지역','매장명','상태','주소','전화번호']\n",
        "  return df"
      ],
      "metadata": {
        "id": "rVjAdBNJDIwy"
      },
      "execution_count": 192,
      "outputs": []
    },
    {
      "cell_type": "code",
      "source": [
        "from tqdm import tqdm\n",
        "df_lists = []\n",
        "for page in tqdm(range(1,52)):\n",
        "  df_lists.append( getStoreHollysCoffe(page)  )"
      ],
      "metadata": {
        "colab": {
          "base_uri": "https://localhost:8080/"
        },
        "id": "7Cgx7cZyEEHX",
        "outputId": "047dab2e-6617-45b4-b8b3-d3bffe319c56"
      },
      "execution_count": 193,
      "outputs": [
        {
          "output_type": "stream",
          "name": "stderr",
          "text": [
            "100%|██████████| 51/51 [01:57<00:00,  2.29s/it]\n"
          ]
        }
      ]
    },
    {
      "cell_type": "code",
      "source": [
        "holly_sotres = pd.concat(df_lists)\n",
        "holly_sotres = holly_sotres.reset_index(drop=True)\n",
        "holly_sotres"
      ],
      "metadata": {
        "colab": {
          "base_uri": "https://localhost:8080/",
          "height": 423
        },
        "id": "MEAilADlHNi7",
        "outputId": "fa9fdb8e-6dec-4305-802f-14996f8de05a"
      },
      "execution_count": 194,
      "outputs": [
        {
          "output_type": "execute_result",
          "data": {
            "text/plain": [
              "             지역     매장명   상태                                           주소  \\\n",
              "0        경기 하남시   하남덕풍점  영업중                       경기도 하남시 덕풍북로 2 (덕풍동) .   \n",
              "1         대전 중구   대전오류점  영업중       대전광역시 중구 계룡로 876 메종드메디컬빌딩 104호, 202호 .   \n",
              "2        충남 계룡시    계룡대점  영업중  충청남도 계룡시 신도안면 신도안1길 43 (계룡스포츠센터) 계룡스포츠센터 1층   \n",
              "3    경기 고양시 덕양구   화정DI점  영업중                   경기도 고양시 덕양구 화신로 254 (화정동)    \n",
              "4         부산 중구   부산광복점  영업중                    부산광역시 중구 광복로 70 (광복동2가) .   \n",
              "..          ...     ...  ...                                          ...   \n",
              "499      서울 마포구    합정역점  영업중             서울특별시 마포구 양화로 36 (합정동 374-1) 할리스   \n",
              "500     부산 해운대구  부산달맞이점  영업중   부산광역시 해운대구 달맞이길 199, 2~3층 (중동 1488-14) 할리스   \n",
              "501      서울 관악구     신림점  영업중                          서울특별시 관악구 신림로 353-1   \n",
              "502       서울 중구    태평로점  영업중   서울특별시 중구 세종대로 64, 해남빌딩 1층 (태평로2가 70-5) 할리스   \n",
              "503     서울 서대문구     신촌점  영업중           서울특별시 서대문구 연세로 34 (창천동 31-12)  할리스   \n",
              "\n",
              "              전화번호  \n",
              "0    070-4791-4731  \n",
              "1     042-522-3141  \n",
              "2     042-551-5508  \n",
              "3     031-971-4097  \n",
              "4     051-253-8033  \n",
              "..             ...  \n",
              "499   02-6204-1234  \n",
              "500   051-731-3410  \n",
              "501    02-877-0019  \n",
              "502    02-755-7795  \n",
              "503    02-393-2004  \n",
              "\n",
              "[504 rows x 5 columns]"
            ],
            "text/html": [
              "\n",
              "  <div id=\"df-1e936a8c-6ec5-44f6-b992-bb8c4c282f27\" class=\"colab-df-container\">\n",
              "    <div>\n",
              "<style scoped>\n",
              "    .dataframe tbody tr th:only-of-type {\n",
              "        vertical-align: middle;\n",
              "    }\n",
              "\n",
              "    .dataframe tbody tr th {\n",
              "        vertical-align: top;\n",
              "    }\n",
              "\n",
              "    .dataframe thead th {\n",
              "        text-align: right;\n",
              "    }\n",
              "</style>\n",
              "<table border=\"1\" class=\"dataframe\">\n",
              "  <thead>\n",
              "    <tr style=\"text-align: right;\">\n",
              "      <th></th>\n",
              "      <th>지역</th>\n",
              "      <th>매장명</th>\n",
              "      <th>상태</th>\n",
              "      <th>주소</th>\n",
              "      <th>전화번호</th>\n",
              "    </tr>\n",
              "  </thead>\n",
              "  <tbody>\n",
              "    <tr>\n",
              "      <th>0</th>\n",
              "      <td>경기 하남시</td>\n",
              "      <td>하남덕풍점</td>\n",
              "      <td>영업중</td>\n",
              "      <td>경기도 하남시 덕풍북로 2 (덕풍동) .</td>\n",
              "      <td>070-4791-4731</td>\n",
              "    </tr>\n",
              "    <tr>\n",
              "      <th>1</th>\n",
              "      <td>대전 중구</td>\n",
              "      <td>대전오류점</td>\n",
              "      <td>영업중</td>\n",
              "      <td>대전광역시 중구 계룡로 876 메종드메디컬빌딩 104호, 202호 .</td>\n",
              "      <td>042-522-3141</td>\n",
              "    </tr>\n",
              "    <tr>\n",
              "      <th>2</th>\n",
              "      <td>충남 계룡시</td>\n",
              "      <td>계룡대점</td>\n",
              "      <td>영업중</td>\n",
              "      <td>충청남도 계룡시 신도안면 신도안1길 43 (계룡스포츠센터) 계룡스포츠센터 1층</td>\n",
              "      <td>042-551-5508</td>\n",
              "    </tr>\n",
              "    <tr>\n",
              "      <th>3</th>\n",
              "      <td>경기 고양시 덕양구</td>\n",
              "      <td>화정DI점</td>\n",
              "      <td>영업중</td>\n",
              "      <td>경기도 고양시 덕양구 화신로 254 (화정동)</td>\n",
              "      <td>031-971-4097</td>\n",
              "    </tr>\n",
              "    <tr>\n",
              "      <th>4</th>\n",
              "      <td>부산 중구</td>\n",
              "      <td>부산광복점</td>\n",
              "      <td>영업중</td>\n",
              "      <td>부산광역시 중구 광복로 70 (광복동2가) .</td>\n",
              "      <td>051-253-8033</td>\n",
              "    </tr>\n",
              "    <tr>\n",
              "      <th>...</th>\n",
              "      <td>...</td>\n",
              "      <td>...</td>\n",
              "      <td>...</td>\n",
              "      <td>...</td>\n",
              "      <td>...</td>\n",
              "    </tr>\n",
              "    <tr>\n",
              "      <th>499</th>\n",
              "      <td>서울 마포구</td>\n",
              "      <td>합정역점</td>\n",
              "      <td>영업중</td>\n",
              "      <td>서울특별시 마포구 양화로 36 (합정동 374-1) 할리스</td>\n",
              "      <td>02-6204-1234</td>\n",
              "    </tr>\n",
              "    <tr>\n",
              "      <th>500</th>\n",
              "      <td>부산 해운대구</td>\n",
              "      <td>부산달맞이점</td>\n",
              "      <td>영업중</td>\n",
              "      <td>부산광역시 해운대구 달맞이길 199, 2~3층 (중동 1488-14) 할리스</td>\n",
              "      <td>051-731-3410</td>\n",
              "    </tr>\n",
              "    <tr>\n",
              "      <th>501</th>\n",
              "      <td>서울 관악구</td>\n",
              "      <td>신림점</td>\n",
              "      <td>영업중</td>\n",
              "      <td>서울특별시 관악구 신림로 353-1</td>\n",
              "      <td>02-877-0019</td>\n",
              "    </tr>\n",
              "    <tr>\n",
              "      <th>502</th>\n",
              "      <td>서울 중구</td>\n",
              "      <td>태평로점</td>\n",
              "      <td>영업중</td>\n",
              "      <td>서울특별시 중구 세종대로 64, 해남빌딩 1층 (태평로2가 70-5) 할리스</td>\n",
              "      <td>02-755-7795</td>\n",
              "    </tr>\n",
              "    <tr>\n",
              "      <th>503</th>\n",
              "      <td>서울 서대문구</td>\n",
              "      <td>신촌점</td>\n",
              "      <td>영업중</td>\n",
              "      <td>서울특별시 서대문구 연세로 34 (창천동 31-12)  할리스</td>\n",
              "      <td>02-393-2004</td>\n",
              "    </tr>\n",
              "  </tbody>\n",
              "</table>\n",
              "<p>504 rows × 5 columns</p>\n",
              "</div>\n",
              "    <div class=\"colab-df-buttons\">\n",
              "\n",
              "  <div class=\"colab-df-container\">\n",
              "    <button class=\"colab-df-convert\" onclick=\"convertToInteractive('df-1e936a8c-6ec5-44f6-b992-bb8c4c282f27')\"\n",
              "            title=\"Convert this dataframe to an interactive table.\"\n",
              "            style=\"display:none;\">\n",
              "\n",
              "  <svg xmlns=\"http://www.w3.org/2000/svg\" height=\"24px\" viewBox=\"0 -960 960 960\">\n",
              "    <path d=\"M120-120v-720h720v720H120Zm60-500h600v-160H180v160Zm220 220h160v-160H400v160Zm0 220h160v-160H400v160ZM180-400h160v-160H180v160Zm440 0h160v-160H620v160ZM180-180h160v-160H180v160Zm440 0h160v-160H620v160Z\"/>\n",
              "  </svg>\n",
              "    </button>\n",
              "\n",
              "  <style>\n",
              "    .colab-df-container {\n",
              "      display:flex;\n",
              "      gap: 12px;\n",
              "    }\n",
              "\n",
              "    .colab-df-convert {\n",
              "      background-color: #E8F0FE;\n",
              "      border: none;\n",
              "      border-radius: 50%;\n",
              "      cursor: pointer;\n",
              "      display: none;\n",
              "      fill: #1967D2;\n",
              "      height: 32px;\n",
              "      padding: 0 0 0 0;\n",
              "      width: 32px;\n",
              "    }\n",
              "\n",
              "    .colab-df-convert:hover {\n",
              "      background-color: #E2EBFA;\n",
              "      box-shadow: 0px 1px 2px rgba(60, 64, 67, 0.3), 0px 1px 3px 1px rgba(60, 64, 67, 0.15);\n",
              "      fill: #174EA6;\n",
              "    }\n",
              "\n",
              "    .colab-df-buttons div {\n",
              "      margin-bottom: 4px;\n",
              "    }\n",
              "\n",
              "    [theme=dark] .colab-df-convert {\n",
              "      background-color: #3B4455;\n",
              "      fill: #D2E3FC;\n",
              "    }\n",
              "\n",
              "    [theme=dark] .colab-df-convert:hover {\n",
              "      background-color: #434B5C;\n",
              "      box-shadow: 0px 1px 3px 1px rgba(0, 0, 0, 0.15);\n",
              "      filter: drop-shadow(0px 1px 2px rgba(0, 0, 0, 0.3));\n",
              "      fill: #FFFFFF;\n",
              "    }\n",
              "  </style>\n",
              "\n",
              "    <script>\n",
              "      const buttonEl =\n",
              "        document.querySelector('#df-1e936a8c-6ec5-44f6-b992-bb8c4c282f27 button.colab-df-convert');\n",
              "      buttonEl.style.display =\n",
              "        google.colab.kernel.accessAllowed ? 'block' : 'none';\n",
              "\n",
              "      async function convertToInteractive(key) {\n",
              "        const element = document.querySelector('#df-1e936a8c-6ec5-44f6-b992-bb8c4c282f27');\n",
              "        const dataTable =\n",
              "          await google.colab.kernel.invokeFunction('convertToInteractive',\n",
              "                                                    [key], {});\n",
              "        if (!dataTable) return;\n",
              "\n",
              "        const docLinkHtml = 'Like what you see? Visit the ' +\n",
              "          '<a target=\"_blank\" href=https://colab.research.google.com/notebooks/data_table.ipynb>data table notebook</a>'\n",
              "          + ' to learn more about interactive tables.';\n",
              "        element.innerHTML = '';\n",
              "        dataTable['output_type'] = 'display_data';\n",
              "        await google.colab.output.renderOutput(dataTable, element);\n",
              "        const docLink = document.createElement('div');\n",
              "        docLink.innerHTML = docLinkHtml;\n",
              "        element.appendChild(docLink);\n",
              "      }\n",
              "    </script>\n",
              "  </div>\n",
              "\n",
              "\n",
              "<div id=\"df-28fbe584-3050-4968-b550-1f33d41a6d61\">\n",
              "  <button class=\"colab-df-quickchart\" onclick=\"quickchart('df-28fbe584-3050-4968-b550-1f33d41a6d61')\"\n",
              "            title=\"Suggest charts\"\n",
              "            style=\"display:none;\">\n",
              "\n",
              "<svg xmlns=\"http://www.w3.org/2000/svg\" height=\"24px\"viewBox=\"0 0 24 24\"\n",
              "     width=\"24px\">\n",
              "    <g>\n",
              "        <path d=\"M19 3H5c-1.1 0-2 .9-2 2v14c0 1.1.9 2 2 2h14c1.1 0 2-.9 2-2V5c0-1.1-.9-2-2-2zM9 17H7v-7h2v7zm4 0h-2V7h2v10zm4 0h-2v-4h2v4z\"/>\n",
              "    </g>\n",
              "</svg>\n",
              "  </button>\n",
              "\n",
              "<style>\n",
              "  .colab-df-quickchart {\n",
              "      --bg-color: #E8F0FE;\n",
              "      --fill-color: #1967D2;\n",
              "      --hover-bg-color: #E2EBFA;\n",
              "      --hover-fill-color: #174EA6;\n",
              "      --disabled-fill-color: #AAA;\n",
              "      --disabled-bg-color: #DDD;\n",
              "  }\n",
              "\n",
              "  [theme=dark] .colab-df-quickchart {\n",
              "      --bg-color: #3B4455;\n",
              "      --fill-color: #D2E3FC;\n",
              "      --hover-bg-color: #434B5C;\n",
              "      --hover-fill-color: #FFFFFF;\n",
              "      --disabled-bg-color: #3B4455;\n",
              "      --disabled-fill-color: #666;\n",
              "  }\n",
              "\n",
              "  .colab-df-quickchart {\n",
              "    background-color: var(--bg-color);\n",
              "    border: none;\n",
              "    border-radius: 50%;\n",
              "    cursor: pointer;\n",
              "    display: none;\n",
              "    fill: var(--fill-color);\n",
              "    height: 32px;\n",
              "    padding: 0;\n",
              "    width: 32px;\n",
              "  }\n",
              "\n",
              "  .colab-df-quickchart:hover {\n",
              "    background-color: var(--hover-bg-color);\n",
              "    box-shadow: 0 1px 2px rgba(60, 64, 67, 0.3), 0 1px 3px 1px rgba(60, 64, 67, 0.15);\n",
              "    fill: var(--button-hover-fill-color);\n",
              "  }\n",
              "\n",
              "  .colab-df-quickchart-complete:disabled,\n",
              "  .colab-df-quickchart-complete:disabled:hover {\n",
              "    background-color: var(--disabled-bg-color);\n",
              "    fill: var(--disabled-fill-color);\n",
              "    box-shadow: none;\n",
              "  }\n",
              "\n",
              "  .colab-df-spinner {\n",
              "    border: 2px solid var(--fill-color);\n",
              "    border-color: transparent;\n",
              "    border-bottom-color: var(--fill-color);\n",
              "    animation:\n",
              "      spin 1s steps(1) infinite;\n",
              "  }\n",
              "\n",
              "  @keyframes spin {\n",
              "    0% {\n",
              "      border-color: transparent;\n",
              "      border-bottom-color: var(--fill-color);\n",
              "      border-left-color: var(--fill-color);\n",
              "    }\n",
              "    20% {\n",
              "      border-color: transparent;\n",
              "      border-left-color: var(--fill-color);\n",
              "      border-top-color: var(--fill-color);\n",
              "    }\n",
              "    30% {\n",
              "      border-color: transparent;\n",
              "      border-left-color: var(--fill-color);\n",
              "      border-top-color: var(--fill-color);\n",
              "      border-right-color: var(--fill-color);\n",
              "    }\n",
              "    40% {\n",
              "      border-color: transparent;\n",
              "      border-right-color: var(--fill-color);\n",
              "      border-top-color: var(--fill-color);\n",
              "    }\n",
              "    60% {\n",
              "      border-color: transparent;\n",
              "      border-right-color: var(--fill-color);\n",
              "    }\n",
              "    80% {\n",
              "      border-color: transparent;\n",
              "      border-right-color: var(--fill-color);\n",
              "      border-bottom-color: var(--fill-color);\n",
              "    }\n",
              "    90% {\n",
              "      border-color: transparent;\n",
              "      border-bottom-color: var(--fill-color);\n",
              "    }\n",
              "  }\n",
              "</style>\n",
              "\n",
              "  <script>\n",
              "    async function quickchart(key) {\n",
              "      const quickchartButtonEl =\n",
              "        document.querySelector('#' + key + ' button');\n",
              "      quickchartButtonEl.disabled = true;  // To prevent multiple clicks.\n",
              "      quickchartButtonEl.classList.add('colab-df-spinner');\n",
              "      try {\n",
              "        const charts = await google.colab.kernel.invokeFunction(\n",
              "            'suggestCharts', [key], {});\n",
              "      } catch (error) {\n",
              "        console.error('Error during call to suggestCharts:', error);\n",
              "      }\n",
              "      quickchartButtonEl.classList.remove('colab-df-spinner');\n",
              "      quickchartButtonEl.classList.add('colab-df-quickchart-complete');\n",
              "    }\n",
              "    (() => {\n",
              "      let quickchartButtonEl =\n",
              "        document.querySelector('#df-28fbe584-3050-4968-b550-1f33d41a6d61 button');\n",
              "      quickchartButtonEl.style.display =\n",
              "        google.colab.kernel.accessAllowed ? 'block' : 'none';\n",
              "    })();\n",
              "  </script>\n",
              "</div>\n",
              "\n",
              "  <div id=\"id_add42095-3a1f-4ec7-9b7a-8b54c9db91ae\">\n",
              "    <style>\n",
              "      .colab-df-generate {\n",
              "        background-color: #E8F0FE;\n",
              "        border: none;\n",
              "        border-radius: 50%;\n",
              "        cursor: pointer;\n",
              "        display: none;\n",
              "        fill: #1967D2;\n",
              "        height: 32px;\n",
              "        padding: 0 0 0 0;\n",
              "        width: 32px;\n",
              "      }\n",
              "\n",
              "      .colab-df-generate:hover {\n",
              "        background-color: #E2EBFA;\n",
              "        box-shadow: 0px 1px 2px rgba(60, 64, 67, 0.3), 0px 1px 3px 1px rgba(60, 64, 67, 0.15);\n",
              "        fill: #174EA6;\n",
              "      }\n",
              "\n",
              "      [theme=dark] .colab-df-generate {\n",
              "        background-color: #3B4455;\n",
              "        fill: #D2E3FC;\n",
              "      }\n",
              "\n",
              "      [theme=dark] .colab-df-generate:hover {\n",
              "        background-color: #434B5C;\n",
              "        box-shadow: 0px 1px 3px 1px rgba(0, 0, 0, 0.15);\n",
              "        filter: drop-shadow(0px 1px 2px rgba(0, 0, 0, 0.3));\n",
              "        fill: #FFFFFF;\n",
              "      }\n",
              "    </style>\n",
              "    <button class=\"colab-df-generate\" onclick=\"generateWithVariable('holly_sotres')\"\n",
              "            title=\"Generate code using this dataframe.\"\n",
              "            style=\"display:none;\">\n",
              "\n",
              "  <svg xmlns=\"http://www.w3.org/2000/svg\" height=\"24px\"viewBox=\"0 0 24 24\"\n",
              "       width=\"24px\">\n",
              "    <path d=\"M7,19H8.4L18.45,9,17,7.55,7,17.6ZM5,21V16.75L18.45,3.32a2,2,0,0,1,2.83,0l1.4,1.43a1.91,1.91,0,0,1,.58,1.4,1.91,1.91,0,0,1-.58,1.4L9.25,21ZM18.45,9,17,7.55Zm-12,3A5.31,5.31,0,0,0,4.9,8.1,5.31,5.31,0,0,0,1,6.5,5.31,5.31,0,0,0,4.9,4.9,5.31,5.31,0,0,0,6.5,1,5.31,5.31,0,0,0,8.1,4.9,5.31,5.31,0,0,0,12,6.5,5.46,5.46,0,0,0,6.5,12Z\"/>\n",
              "  </svg>\n",
              "    </button>\n",
              "    <script>\n",
              "      (() => {\n",
              "      const buttonEl =\n",
              "        document.querySelector('#id_add42095-3a1f-4ec7-9b7a-8b54c9db91ae button.colab-df-generate');\n",
              "      buttonEl.style.display =\n",
              "        google.colab.kernel.accessAllowed ? 'block' : 'none';\n",
              "\n",
              "      buttonEl.onclick = () => {\n",
              "        google.colab.notebook.generateWithVariable('holly_sotres');\n",
              "      }\n",
              "      })();\n",
              "    </script>\n",
              "  </div>\n",
              "\n",
              "    </div>\n",
              "  </div>\n"
            ]
          },
          "metadata": {},
          "execution_count": 194
        }
      ]
    },
    {
      "cell_type": "code",
      "source": [
        "holly_sotres[holly_sotres['지역'] == '경기 하남시']"
      ],
      "metadata": {
        "colab": {
          "base_uri": "https://localhost:8080/",
          "height": 112
        },
        "id": "pjyzWrjsIkB0",
        "outputId": "8acd8761-6170-4b40-96ad-03b3a67607b4"
      },
      "execution_count": 195,
      "outputs": [
        {
          "output_type": "execute_result",
          "data": {
            "text/plain": [
              "         지역       매장명   상태                                      주소  \\\n",
              "0    경기 하남시     하남덕풍점  영업중                  경기도 하남시 덕풍북로 2 (덕풍동) .   \n",
              "101  경기 하남시  미사효성해링턴점  영업중  경기도 하남시 아리수로 570,1~2층 망월동 미사효성해링턴타워더퍼스   \n",
              "\n",
              "              전화번호  \n",
              "0    070-4791-4731  \n",
              "101  070-7733-9710  "
            ],
            "text/html": [
              "\n",
              "  <div id=\"df-78b7d813-9714-4a50-98ee-84599b328753\" class=\"colab-df-container\">\n",
              "    <div>\n",
              "<style scoped>\n",
              "    .dataframe tbody tr th:only-of-type {\n",
              "        vertical-align: middle;\n",
              "    }\n",
              "\n",
              "    .dataframe tbody tr th {\n",
              "        vertical-align: top;\n",
              "    }\n",
              "\n",
              "    .dataframe thead th {\n",
              "        text-align: right;\n",
              "    }\n",
              "</style>\n",
              "<table border=\"1\" class=\"dataframe\">\n",
              "  <thead>\n",
              "    <tr style=\"text-align: right;\">\n",
              "      <th></th>\n",
              "      <th>지역</th>\n",
              "      <th>매장명</th>\n",
              "      <th>상태</th>\n",
              "      <th>주소</th>\n",
              "      <th>전화번호</th>\n",
              "    </tr>\n",
              "  </thead>\n",
              "  <tbody>\n",
              "    <tr>\n",
              "      <th>0</th>\n",
              "      <td>경기 하남시</td>\n",
              "      <td>하남덕풍점</td>\n",
              "      <td>영업중</td>\n",
              "      <td>경기도 하남시 덕풍북로 2 (덕풍동) .</td>\n",
              "      <td>070-4791-4731</td>\n",
              "    </tr>\n",
              "    <tr>\n",
              "      <th>101</th>\n",
              "      <td>경기 하남시</td>\n",
              "      <td>미사효성해링턴점</td>\n",
              "      <td>영업중</td>\n",
              "      <td>경기도 하남시 아리수로 570,1~2층 망월동 미사효성해링턴타워더퍼스</td>\n",
              "      <td>070-7733-9710</td>\n",
              "    </tr>\n",
              "  </tbody>\n",
              "</table>\n",
              "</div>\n",
              "    <div class=\"colab-df-buttons\">\n",
              "\n",
              "  <div class=\"colab-df-container\">\n",
              "    <button class=\"colab-df-convert\" onclick=\"convertToInteractive('df-78b7d813-9714-4a50-98ee-84599b328753')\"\n",
              "            title=\"Convert this dataframe to an interactive table.\"\n",
              "            style=\"display:none;\">\n",
              "\n",
              "  <svg xmlns=\"http://www.w3.org/2000/svg\" height=\"24px\" viewBox=\"0 -960 960 960\">\n",
              "    <path d=\"M120-120v-720h720v720H120Zm60-500h600v-160H180v160Zm220 220h160v-160H400v160Zm0 220h160v-160H400v160ZM180-400h160v-160H180v160Zm440 0h160v-160H620v160ZM180-180h160v-160H180v160Zm440 0h160v-160H620v160Z\"/>\n",
              "  </svg>\n",
              "    </button>\n",
              "\n",
              "  <style>\n",
              "    .colab-df-container {\n",
              "      display:flex;\n",
              "      gap: 12px;\n",
              "    }\n",
              "\n",
              "    .colab-df-convert {\n",
              "      background-color: #E8F0FE;\n",
              "      border: none;\n",
              "      border-radius: 50%;\n",
              "      cursor: pointer;\n",
              "      display: none;\n",
              "      fill: #1967D2;\n",
              "      height: 32px;\n",
              "      padding: 0 0 0 0;\n",
              "      width: 32px;\n",
              "    }\n",
              "\n",
              "    .colab-df-convert:hover {\n",
              "      background-color: #E2EBFA;\n",
              "      box-shadow: 0px 1px 2px rgba(60, 64, 67, 0.3), 0px 1px 3px 1px rgba(60, 64, 67, 0.15);\n",
              "      fill: #174EA6;\n",
              "    }\n",
              "\n",
              "    .colab-df-buttons div {\n",
              "      margin-bottom: 4px;\n",
              "    }\n",
              "\n",
              "    [theme=dark] .colab-df-convert {\n",
              "      background-color: #3B4455;\n",
              "      fill: #D2E3FC;\n",
              "    }\n",
              "\n",
              "    [theme=dark] .colab-df-convert:hover {\n",
              "      background-color: #434B5C;\n",
              "      box-shadow: 0px 1px 3px 1px rgba(0, 0, 0, 0.15);\n",
              "      filter: drop-shadow(0px 1px 2px rgba(0, 0, 0, 0.3));\n",
              "      fill: #FFFFFF;\n",
              "    }\n",
              "  </style>\n",
              "\n",
              "    <script>\n",
              "      const buttonEl =\n",
              "        document.querySelector('#df-78b7d813-9714-4a50-98ee-84599b328753 button.colab-df-convert');\n",
              "      buttonEl.style.display =\n",
              "        google.colab.kernel.accessAllowed ? 'block' : 'none';\n",
              "\n",
              "      async function convertToInteractive(key) {\n",
              "        const element = document.querySelector('#df-78b7d813-9714-4a50-98ee-84599b328753');\n",
              "        const dataTable =\n",
              "          await google.colab.kernel.invokeFunction('convertToInteractive',\n",
              "                                                    [key], {});\n",
              "        if (!dataTable) return;\n",
              "\n",
              "        const docLinkHtml = 'Like what you see? Visit the ' +\n",
              "          '<a target=\"_blank\" href=https://colab.research.google.com/notebooks/data_table.ipynb>data table notebook</a>'\n",
              "          + ' to learn more about interactive tables.';\n",
              "        element.innerHTML = '';\n",
              "        dataTable['output_type'] = 'display_data';\n",
              "        await google.colab.output.renderOutput(dataTable, element);\n",
              "        const docLink = document.createElement('div');\n",
              "        docLink.innerHTML = docLinkHtml;\n",
              "        element.appendChild(docLink);\n",
              "      }\n",
              "    </script>\n",
              "  </div>\n",
              "\n",
              "\n",
              "<div id=\"df-b47d9eff-ded3-40a3-8881-173bde317385\">\n",
              "  <button class=\"colab-df-quickchart\" onclick=\"quickchart('df-b47d9eff-ded3-40a3-8881-173bde317385')\"\n",
              "            title=\"Suggest charts\"\n",
              "            style=\"display:none;\">\n",
              "\n",
              "<svg xmlns=\"http://www.w3.org/2000/svg\" height=\"24px\"viewBox=\"0 0 24 24\"\n",
              "     width=\"24px\">\n",
              "    <g>\n",
              "        <path d=\"M19 3H5c-1.1 0-2 .9-2 2v14c0 1.1.9 2 2 2h14c1.1 0 2-.9 2-2V5c0-1.1-.9-2-2-2zM9 17H7v-7h2v7zm4 0h-2V7h2v10zm4 0h-2v-4h2v4z\"/>\n",
              "    </g>\n",
              "</svg>\n",
              "  </button>\n",
              "\n",
              "<style>\n",
              "  .colab-df-quickchart {\n",
              "      --bg-color: #E8F0FE;\n",
              "      --fill-color: #1967D2;\n",
              "      --hover-bg-color: #E2EBFA;\n",
              "      --hover-fill-color: #174EA6;\n",
              "      --disabled-fill-color: #AAA;\n",
              "      --disabled-bg-color: #DDD;\n",
              "  }\n",
              "\n",
              "  [theme=dark] .colab-df-quickchart {\n",
              "      --bg-color: #3B4455;\n",
              "      --fill-color: #D2E3FC;\n",
              "      --hover-bg-color: #434B5C;\n",
              "      --hover-fill-color: #FFFFFF;\n",
              "      --disabled-bg-color: #3B4455;\n",
              "      --disabled-fill-color: #666;\n",
              "  }\n",
              "\n",
              "  .colab-df-quickchart {\n",
              "    background-color: var(--bg-color);\n",
              "    border: none;\n",
              "    border-radius: 50%;\n",
              "    cursor: pointer;\n",
              "    display: none;\n",
              "    fill: var(--fill-color);\n",
              "    height: 32px;\n",
              "    padding: 0;\n",
              "    width: 32px;\n",
              "  }\n",
              "\n",
              "  .colab-df-quickchart:hover {\n",
              "    background-color: var(--hover-bg-color);\n",
              "    box-shadow: 0 1px 2px rgba(60, 64, 67, 0.3), 0 1px 3px 1px rgba(60, 64, 67, 0.15);\n",
              "    fill: var(--button-hover-fill-color);\n",
              "  }\n",
              "\n",
              "  .colab-df-quickchart-complete:disabled,\n",
              "  .colab-df-quickchart-complete:disabled:hover {\n",
              "    background-color: var(--disabled-bg-color);\n",
              "    fill: var(--disabled-fill-color);\n",
              "    box-shadow: none;\n",
              "  }\n",
              "\n",
              "  .colab-df-spinner {\n",
              "    border: 2px solid var(--fill-color);\n",
              "    border-color: transparent;\n",
              "    border-bottom-color: var(--fill-color);\n",
              "    animation:\n",
              "      spin 1s steps(1) infinite;\n",
              "  }\n",
              "\n",
              "  @keyframes spin {\n",
              "    0% {\n",
              "      border-color: transparent;\n",
              "      border-bottom-color: var(--fill-color);\n",
              "      border-left-color: var(--fill-color);\n",
              "    }\n",
              "    20% {\n",
              "      border-color: transparent;\n",
              "      border-left-color: var(--fill-color);\n",
              "      border-top-color: var(--fill-color);\n",
              "    }\n",
              "    30% {\n",
              "      border-color: transparent;\n",
              "      border-left-color: var(--fill-color);\n",
              "      border-top-color: var(--fill-color);\n",
              "      border-right-color: var(--fill-color);\n",
              "    }\n",
              "    40% {\n",
              "      border-color: transparent;\n",
              "      border-right-color: var(--fill-color);\n",
              "      border-top-color: var(--fill-color);\n",
              "    }\n",
              "    60% {\n",
              "      border-color: transparent;\n",
              "      border-right-color: var(--fill-color);\n",
              "    }\n",
              "    80% {\n",
              "      border-color: transparent;\n",
              "      border-right-color: var(--fill-color);\n",
              "      border-bottom-color: var(--fill-color);\n",
              "    }\n",
              "    90% {\n",
              "      border-color: transparent;\n",
              "      border-bottom-color: var(--fill-color);\n",
              "    }\n",
              "  }\n",
              "</style>\n",
              "\n",
              "  <script>\n",
              "    async function quickchart(key) {\n",
              "      const quickchartButtonEl =\n",
              "        document.querySelector('#' + key + ' button');\n",
              "      quickchartButtonEl.disabled = true;  // To prevent multiple clicks.\n",
              "      quickchartButtonEl.classList.add('colab-df-spinner');\n",
              "      try {\n",
              "        const charts = await google.colab.kernel.invokeFunction(\n",
              "            'suggestCharts', [key], {});\n",
              "      } catch (error) {\n",
              "        console.error('Error during call to suggestCharts:', error);\n",
              "      }\n",
              "      quickchartButtonEl.classList.remove('colab-df-spinner');\n",
              "      quickchartButtonEl.classList.add('colab-df-quickchart-complete');\n",
              "    }\n",
              "    (() => {\n",
              "      let quickchartButtonEl =\n",
              "        document.querySelector('#df-b47d9eff-ded3-40a3-8881-173bde317385 button');\n",
              "      quickchartButtonEl.style.display =\n",
              "        google.colab.kernel.accessAllowed ? 'block' : 'none';\n",
              "    })();\n",
              "  </script>\n",
              "</div>\n",
              "\n",
              "    </div>\n",
              "  </div>\n"
            ]
          },
          "metadata": {},
          "execution_count": 195
        }
      ]
    },
    {
      "cell_type": "code",
      "source": [
        "# 지역별 매장수"
      ],
      "metadata": {
        "id": "7bJFzueoHWSI"
      },
      "execution_count": 180,
      "outputs": []
    },
    {
      "cell_type": "code",
      "source": [
        "holly_sotres.groupby(\"지역\")['지역'].count()"
      ],
      "metadata": {
        "colab": {
          "base_uri": "https://localhost:8080/"
        },
        "id": "tLwOwhCYHmnV",
        "outputId": "76f3c9a7-4f83-4ed9-f7c4-9a09acca4026"
      },
      "execution_count": 196,
      "outputs": [
        {
          "output_type": "execute_result",
          "data": {
            "text/plain": [
              "지역\n",
              "강원 동해시        2\n",
              "강원 속초시        2\n",
              "강원 양양군        1\n",
              "강원 원주시        5\n",
              "강원 인제군        1\n",
              "             ..\n",
              "충북 진천군        1\n",
              "충북 청주시 상당구    1\n",
              "충북 청주시 서원구    2\n",
              "충북 청주시 청원구    3\n",
              "충북 청주시 흥덕구    5\n",
              "Name: 지역, Length: 158, dtype: int64"
            ]
          },
          "metadata": {},
          "execution_count": 196
        }
      ]
    },
    {
      "cell_type": "code",
      "source": [
        "holly_sotres['지역'].value_counts()"
      ],
      "metadata": {
        "colab": {
          "base_uri": "https://localhost:8080/"
        },
        "id": "jZskQ9CzIPC7",
        "outputId": "6107dd2a-6d9a-488b-f1d6-2433a4dd03fd"
      },
      "execution_count": 197,
      "outputs": [
        {
          "output_type": "execute_result",
          "data": {
            "text/plain": [
              "서울 강남구         16\n",
              "서울 마포구         11\n",
              "서울 종로구         10\n",
              "경기 고양시 일산동구    10\n",
              "서울 서초구          9\n",
              "               ..\n",
              "경기 양주시          1\n",
              "전북 김제시          1\n",
              "대구 달성군          1\n",
              "전남 장흥군          1\n",
              "경남 거제시          1\n",
              "Name: 지역, Length: 158, dtype: int64"
            ]
          },
          "metadata": {},
          "execution_count": 197
        }
      ]
    },
    {
      "cell_type": "markdown",
      "source": [
        "다음뉴스 검색\n",
        "  - https://search.daum.net/search?w=news&nil_search=btn&DA=PGD&enc=utf8&cluster=y&cluster_page=1&q=%EC%B6%95%EA%B5%AC&p=1"
      ],
      "metadata": {
        "id": "L-I35C5CK1n8"
      }
    },
    {
      "cell_type": "code",
      "source": [
        "from urllib.parse import quote\n",
        "url = 'https://search.naver.com/search.naver?where=news&ie=utf8&sm=nws_hty&query=축구'\n",
        "# Encode the URL\n",
        "encoded_url = quote(url, safe=':/?&=')\n",
        "html = urlopen(encoded_url)\n",
        "soup = BeautifulSoup(html,'html.parser')\n",
        "parents = soup.select('#main_pack > section > div.api_subject_bx > div.group_news > ul')\n",
        "\n",
        "news_dict = {\n",
        "    '제목':[],\n",
        "    '내용':[]\n",
        "}\n",
        "\n",
        "for tag in parents[0].select('a.news_tit'):\n",
        "  print(tag.text)\n",
        "  news_dict['제목'].append(tag.text)\n",
        "print('-'*50)\n",
        "for tag in parents[0].select('div.news_contents > div > div > a'):\n",
        "  print(tag.text)\n",
        "  news_dict['내용'].append(tag.text)"
      ],
      "metadata": {
        "colab": {
          "base_uri": "https://localhost:8080/"
        },
        "id": "yl6Lqh_vIR9_",
        "outputId": "cda1a1f3-8c72-4c3c-a29a-2dce12f4103a"
      },
      "execution_count": 244,
      "outputs": [
        {
          "output_type": "stream",
          "name": "stdout",
          "text": [
            "北에 경고장 날린 FIFA “축구 공짜로 보지 마”\n",
            "“예능 나갈 시간에 축구나 해”… 조규성 악플 도배\n",
            "“머리 기르지 마” “예능 말고 축구나 해라” 조규성 SNS 악플 도배\n",
            "\"축구엔 치맥\" 요르단전 BBQ치킨 판매 전월비 87.4% 폭증\n",
            "세븐일레븐, 축구 이어 프로농구·프로배구 포토카드 출시\n",
            "역시 ‘축구에 치맥’은 진리…요르단전 판매량 가장 급증한 치킨은\n",
            "'사우디전 급파' 축구대표팀‥'경고에 부상까지'\n",
            "중국축구, 48년 만의 굴욕 위기…'벼랑 끝' 몰린 채 카타르와 최종전 [아시안...\n",
            "경고 5장에 벌금 400만원 내야 하는 韓 축구…中은 축제 분위기\n",
            "프로축구 수원FC 김현, 라이벌 수원삼성으로 깜짝 이적\n",
            "--------------------------------------------------\n",
            "국제축구연맹(FIFA)이 지난해 7월 호주·뉴질랜드에서 열렸던 여자 월드컵 축구 경기를 무단 중계한 북한에 재발 방지를 촉구하는 경고장을 날렸다. 22일(현지시간) FIFA에 따르면 FIFA는 북한이 당시 방영했던 여자 월드컵 중계화면을 확보하고 그간 경위를 조사한 결과 중계권을 구매하지 않은 채 무단...\n",
            "카타르 도하에서 열린 2023 아시아축구연맹(AFC) 카타르 아시안컵 조별 리그 2차전에서 국가대표팀이 요르단과 2대 2 무승부를 거둔 가운데 아쉽게 골... 축구선수가 본업인 축구에 집중하지 않고 겉돌다 보니 기량이 떨어진 게 아니냐는 주장이다. 조규성의 인스타그램 게시물에 달린 댓글을 보면 한 네티즌은...\n",
            "20일 카타르 도하에서 열린 2023 아시아축구연맹(AFC) 카타르 아시안컵 조별리그 2차전에서 한국 축구대표팀이 요르단에 2대2로 비긴 가운데, 스트라이커로 나선 조규성(미트윌란)의 소셜미디어는 악플로 도배됐다. 조규성은 이날 4-2-3-1 포메이션의 원톱으로 선발 출격했다. 그러나 바레인전과 마찬가지로...\n",
            "제너시스BBQ 그룹은 대한민국 대 요르단의 경기가 열린 지난 20일 축구 대회에서 당일 매출이 전월 대비 87.4%, 전주대비 67.9% 상승률을 보였다고 21일 밝혔다. 이날 매출 증가를 견인한 메뉴는 시그니처 메뉴인 '황금올리브 치킨'과 '황금올리브 치킨 콤보' 'BBQ 양념치킨'으로 분석됐다. 또 아시아 축구대회...\n",
            "오는 24일부터 내달 말까지는 앱에서 포토 카드를 구매하고 스탬프를 적립하면 추첨을 통해 선수들의 사인이 들어간 유니폼과 굿즈를 경품으로 준다. 세븐일레븐은 지난해 업계 최초로 축구 포토 카드를 출시해 200만팩 이상을 판매하는 등 스포츠 포토 카드 상품을 지속해서 선보이고 있다.\n",
            "BBQ 등 치킨 빅3 매출 상승 25일 말레이시아전 기대감↑ 2023 아시아축구연맹(AFC) 아시안컵의 열기가 점점 뜨거워지면서 치킨집도 호황을 누리고 있다. 통상 굵직한 국제 스포츠 경기가 있는 날이면 집관족(집에서 경기를 보는 사람들) 덕에 치킨 배달 수요가 늘어난다. 이번 아시안컵은 한국 축구...\n",
            "◀ 앵커 ▶ 64년 만에 아시안컵 우승을 노리는 축구대표팀이 주전들의 연이은 부상과 경고에 고민입니다. 또 향후 대진도 예상과 달라지면서 일본과... [클린스만 / 축구대표팀 감독] \"저는 말레이시아전에만 집중하고 있습니다. 어떤 상황이 펼쳐지든지 반드시 승점 3점을 따서 조 1위로 16강에 가길 기대하고...\n",
            "벼랑 끝에 몰린 중국 축구대표팀이 극적인 16강 진출에 도전한다. 개막 2경기 연속 무득점 무승부에 그친 중국의 운명이 걸린 최종전 상대는 개최국이자... 중국 축구대표팀은 22일 자정(한국시간) 카타르 알라이얀의 칼리파 인터내셔널 스타디움에서 열린 2023 아시아축구연맹(AFC) 아시안컵 조별리그 A조...\n",
            "지난 15일(한국시각) 있었던 바레인과의 아시안컵 E조 조별리그 1차전에서 5장의 옐로카드를 받고 21일 아시아축구연맹(AFC)으로부터 약 3000달러의 벌금을 내라는 명령을 받은 한국 축구 국가대표팀. 연합뉴스 ‘2023 아시아축구연맹(AFC) 카타르 아시안컵’에 참가 중인 한국 축구 국가대표팀이 조별리그...\n",
            "지난해 프로축구 K리그1 수원FC에서 뛴 공격수 김현(31)이 2부리그로 강등된 지역 라이벌팀 수원삼성으로 깜짝 이적했다. 수원삼성은 김현과 2년 계약을... 김현 \"수원삼성은 수원 세류초에서 축구를 시작할 때부터 빅버드를 자주 찾아 응원했던 팀이었다. 지난해 강등되는 모습을 보며 마음이 많이 아프고...\n"
          ]
        }
      ]
    },
    {
      "cell_type": "code",
      "source": [
        "pd.DataFrame(news_dict)"
      ],
      "metadata": {
        "colab": {
          "base_uri": "https://localhost:8080/",
          "height": 363
        },
        "id": "0OwN77BEN_WE",
        "outputId": "df630d2e-9895-41c1-e92d-7b6c5421126b"
      },
      "execution_count": 246,
      "outputs": [
        {
          "output_type": "execute_result",
          "data": {
            "text/plain": [
              "                                                제목  \\\n",
              "0                     北에 경고장 날린 FIFA “축구 공짜로 보지 마”   \n",
              "1                     “예능 나갈 시간에 축구나 해”… 조규성 악플 도배   \n",
              "2          “머리 기르지 마” “예능 말고 축구나 해라” 조규성 SNS 악플 도배   \n",
              "3              \"축구엔 치맥\" 요르단전 BBQ치킨 판매 전월비 87.4% 폭증   \n",
              "4                   세븐일레븐, 축구 이어 프로농구·프로배구 포토카드 출시   \n",
              "5              역시 ‘축구에 치맥’은 진리…요르단전 판매량 가장 급증한 치킨은   \n",
              "6                       '사우디전 급파' 축구대표팀‥'경고에 부상까지'   \n",
              "7  중국축구, 48년 만의 굴욕 위기…'벼랑 끝' 몰린 채 카타르와 최종전 [아시안...   \n",
              "8             경고 5장에 벌금 400만원 내야 하는 韓 축구…中은 축제 분위기   \n",
              "9                   프로축구 수원FC 김현, 라이벌 수원삼성으로 깜짝 이적   \n",
              "\n",
              "                                                  내용  \n",
              "0  국제축구연맹(FIFA)이 지난해 7월 호주·뉴질랜드에서 열렸던 여자 월드컵 축구 경...  \n",
              "1  카타르 도하에서 열린 2023 아시아축구연맹(AFC) 카타르 아시안컵 조별 리그 2...  \n",
              "2  20일 카타르 도하에서 열린 2023 아시아축구연맹(AFC) 카타르 아시안컵 조별리...  \n",
              "3  제너시스BBQ 그룹은 대한민국 대 요르단의 경기가 열린 지난 20일 축구 대회에서 ...  \n",
              "4  오는 24일부터 내달 말까지는 앱에서 포토 카드를 구매하고 스탬프를 적립하면 추첨을...  \n",
              "5  BBQ 등 치킨 빅3 매출 상승 25일 말레이시아전 기대감↑ 2023 아시아축구연맹...  \n",
              "6  ◀ 앵커 ▶ 64년 만에 아시안컵 우승을 노리는 축구대표팀이 주전들의 연이은 부상과...  \n",
              "7  벼랑 끝에 몰린 중국 축구대표팀이 극적인 16강 진출에 도전한다. 개막 2경기 연속...  \n",
              "8  지난 15일(한국시각) 있었던 바레인과의 아시안컵 E조 조별리그 1차전에서 5장의 ...  \n",
              "9  지난해 프로축구 K리그1 수원FC에서 뛴 공격수 김현(31)이 2부리그로 강등된 지...  "
            ],
            "text/html": [
              "\n",
              "  <div id=\"df-e2330d8d-fb8c-4bd9-9e53-c522340c121c\" class=\"colab-df-container\">\n",
              "    <div>\n",
              "<style scoped>\n",
              "    .dataframe tbody tr th:only-of-type {\n",
              "        vertical-align: middle;\n",
              "    }\n",
              "\n",
              "    .dataframe tbody tr th {\n",
              "        vertical-align: top;\n",
              "    }\n",
              "\n",
              "    .dataframe thead th {\n",
              "        text-align: right;\n",
              "    }\n",
              "</style>\n",
              "<table border=\"1\" class=\"dataframe\">\n",
              "  <thead>\n",
              "    <tr style=\"text-align: right;\">\n",
              "      <th></th>\n",
              "      <th>제목</th>\n",
              "      <th>내용</th>\n",
              "    </tr>\n",
              "  </thead>\n",
              "  <tbody>\n",
              "    <tr>\n",
              "      <th>0</th>\n",
              "      <td>北에 경고장 날린 FIFA “축구 공짜로 보지 마”</td>\n",
              "      <td>국제축구연맹(FIFA)이 지난해 7월 호주·뉴질랜드에서 열렸던 여자 월드컵 축구 경...</td>\n",
              "    </tr>\n",
              "    <tr>\n",
              "      <th>1</th>\n",
              "      <td>“예능 나갈 시간에 축구나 해”… 조규성 악플 도배</td>\n",
              "      <td>카타르 도하에서 열린 2023 아시아축구연맹(AFC) 카타르 아시안컵 조별 리그 2...</td>\n",
              "    </tr>\n",
              "    <tr>\n",
              "      <th>2</th>\n",
              "      <td>“머리 기르지 마” “예능 말고 축구나 해라” 조규성 SNS 악플 도배</td>\n",
              "      <td>20일 카타르 도하에서 열린 2023 아시아축구연맹(AFC) 카타르 아시안컵 조별리...</td>\n",
              "    </tr>\n",
              "    <tr>\n",
              "      <th>3</th>\n",
              "      <td>\"축구엔 치맥\" 요르단전 BBQ치킨 판매 전월비 87.4% 폭증</td>\n",
              "      <td>제너시스BBQ 그룹은 대한민국 대 요르단의 경기가 열린 지난 20일 축구 대회에서 ...</td>\n",
              "    </tr>\n",
              "    <tr>\n",
              "      <th>4</th>\n",
              "      <td>세븐일레븐, 축구 이어 프로농구·프로배구 포토카드 출시</td>\n",
              "      <td>오는 24일부터 내달 말까지는 앱에서 포토 카드를 구매하고 스탬프를 적립하면 추첨을...</td>\n",
              "    </tr>\n",
              "    <tr>\n",
              "      <th>5</th>\n",
              "      <td>역시 ‘축구에 치맥’은 진리…요르단전 판매량 가장 급증한 치킨은</td>\n",
              "      <td>BBQ 등 치킨 빅3 매출 상승 25일 말레이시아전 기대감↑ 2023 아시아축구연맹...</td>\n",
              "    </tr>\n",
              "    <tr>\n",
              "      <th>6</th>\n",
              "      <td>'사우디전 급파' 축구대표팀‥'경고에 부상까지'</td>\n",
              "      <td>◀ 앵커 ▶ 64년 만에 아시안컵 우승을 노리는 축구대표팀이 주전들의 연이은 부상과...</td>\n",
              "    </tr>\n",
              "    <tr>\n",
              "      <th>7</th>\n",
              "      <td>중국축구, 48년 만의 굴욕 위기…'벼랑 끝' 몰린 채 카타르와 최종전 [아시안...</td>\n",
              "      <td>벼랑 끝에 몰린 중국 축구대표팀이 극적인 16강 진출에 도전한다. 개막 2경기 연속...</td>\n",
              "    </tr>\n",
              "    <tr>\n",
              "      <th>8</th>\n",
              "      <td>경고 5장에 벌금 400만원 내야 하는 韓 축구…中은 축제 분위기</td>\n",
              "      <td>지난 15일(한국시각) 있었던 바레인과의 아시안컵 E조 조별리그 1차전에서 5장의 ...</td>\n",
              "    </tr>\n",
              "    <tr>\n",
              "      <th>9</th>\n",
              "      <td>프로축구 수원FC 김현, 라이벌 수원삼성으로 깜짝 이적</td>\n",
              "      <td>지난해 프로축구 K리그1 수원FC에서 뛴 공격수 김현(31)이 2부리그로 강등된 지...</td>\n",
              "    </tr>\n",
              "  </tbody>\n",
              "</table>\n",
              "</div>\n",
              "    <div class=\"colab-df-buttons\">\n",
              "\n",
              "  <div class=\"colab-df-container\">\n",
              "    <button class=\"colab-df-convert\" onclick=\"convertToInteractive('df-e2330d8d-fb8c-4bd9-9e53-c522340c121c')\"\n",
              "            title=\"Convert this dataframe to an interactive table.\"\n",
              "            style=\"display:none;\">\n",
              "\n",
              "  <svg xmlns=\"http://www.w3.org/2000/svg\" height=\"24px\" viewBox=\"0 -960 960 960\">\n",
              "    <path d=\"M120-120v-720h720v720H120Zm60-500h600v-160H180v160Zm220 220h160v-160H400v160Zm0 220h160v-160H400v160ZM180-400h160v-160H180v160Zm440 0h160v-160H620v160ZM180-180h160v-160H180v160Zm440 0h160v-160H620v160Z\"/>\n",
              "  </svg>\n",
              "    </button>\n",
              "\n",
              "  <style>\n",
              "    .colab-df-container {\n",
              "      display:flex;\n",
              "      gap: 12px;\n",
              "    }\n",
              "\n",
              "    .colab-df-convert {\n",
              "      background-color: #E8F0FE;\n",
              "      border: none;\n",
              "      border-radius: 50%;\n",
              "      cursor: pointer;\n",
              "      display: none;\n",
              "      fill: #1967D2;\n",
              "      height: 32px;\n",
              "      padding: 0 0 0 0;\n",
              "      width: 32px;\n",
              "    }\n",
              "\n",
              "    .colab-df-convert:hover {\n",
              "      background-color: #E2EBFA;\n",
              "      box-shadow: 0px 1px 2px rgba(60, 64, 67, 0.3), 0px 1px 3px 1px rgba(60, 64, 67, 0.15);\n",
              "      fill: #174EA6;\n",
              "    }\n",
              "\n",
              "    .colab-df-buttons div {\n",
              "      margin-bottom: 4px;\n",
              "    }\n",
              "\n",
              "    [theme=dark] .colab-df-convert {\n",
              "      background-color: #3B4455;\n",
              "      fill: #D2E3FC;\n",
              "    }\n",
              "\n",
              "    [theme=dark] .colab-df-convert:hover {\n",
              "      background-color: #434B5C;\n",
              "      box-shadow: 0px 1px 3px 1px rgba(0, 0, 0, 0.15);\n",
              "      filter: drop-shadow(0px 1px 2px rgba(0, 0, 0, 0.3));\n",
              "      fill: #FFFFFF;\n",
              "    }\n",
              "  </style>\n",
              "\n",
              "    <script>\n",
              "      const buttonEl =\n",
              "        document.querySelector('#df-e2330d8d-fb8c-4bd9-9e53-c522340c121c button.colab-df-convert');\n",
              "      buttonEl.style.display =\n",
              "        google.colab.kernel.accessAllowed ? 'block' : 'none';\n",
              "\n",
              "      async function convertToInteractive(key) {\n",
              "        const element = document.querySelector('#df-e2330d8d-fb8c-4bd9-9e53-c522340c121c');\n",
              "        const dataTable =\n",
              "          await google.colab.kernel.invokeFunction('convertToInteractive',\n",
              "                                                    [key], {});\n",
              "        if (!dataTable) return;\n",
              "\n",
              "        const docLinkHtml = 'Like what you see? Visit the ' +\n",
              "          '<a target=\"_blank\" href=https://colab.research.google.com/notebooks/data_table.ipynb>data table notebook</a>'\n",
              "          + ' to learn more about interactive tables.';\n",
              "        element.innerHTML = '';\n",
              "        dataTable['output_type'] = 'display_data';\n",
              "        await google.colab.output.renderOutput(dataTable, element);\n",
              "        const docLink = document.createElement('div');\n",
              "        docLink.innerHTML = docLinkHtml;\n",
              "        element.appendChild(docLink);\n",
              "      }\n",
              "    </script>\n",
              "  </div>\n",
              "\n",
              "\n",
              "<div id=\"df-9c5c6d97-a439-4ce2-ab6a-7a9af2854d69\">\n",
              "  <button class=\"colab-df-quickchart\" onclick=\"quickchart('df-9c5c6d97-a439-4ce2-ab6a-7a9af2854d69')\"\n",
              "            title=\"Suggest charts\"\n",
              "            style=\"display:none;\">\n",
              "\n",
              "<svg xmlns=\"http://www.w3.org/2000/svg\" height=\"24px\"viewBox=\"0 0 24 24\"\n",
              "     width=\"24px\">\n",
              "    <g>\n",
              "        <path d=\"M19 3H5c-1.1 0-2 .9-2 2v14c0 1.1.9 2 2 2h14c1.1 0 2-.9 2-2V5c0-1.1-.9-2-2-2zM9 17H7v-7h2v7zm4 0h-2V7h2v10zm4 0h-2v-4h2v4z\"/>\n",
              "    </g>\n",
              "</svg>\n",
              "  </button>\n",
              "\n",
              "<style>\n",
              "  .colab-df-quickchart {\n",
              "      --bg-color: #E8F0FE;\n",
              "      --fill-color: #1967D2;\n",
              "      --hover-bg-color: #E2EBFA;\n",
              "      --hover-fill-color: #174EA6;\n",
              "      --disabled-fill-color: #AAA;\n",
              "      --disabled-bg-color: #DDD;\n",
              "  }\n",
              "\n",
              "  [theme=dark] .colab-df-quickchart {\n",
              "      --bg-color: #3B4455;\n",
              "      --fill-color: #D2E3FC;\n",
              "      --hover-bg-color: #434B5C;\n",
              "      --hover-fill-color: #FFFFFF;\n",
              "      --disabled-bg-color: #3B4455;\n",
              "      --disabled-fill-color: #666;\n",
              "  }\n",
              "\n",
              "  .colab-df-quickchart {\n",
              "    background-color: var(--bg-color);\n",
              "    border: none;\n",
              "    border-radius: 50%;\n",
              "    cursor: pointer;\n",
              "    display: none;\n",
              "    fill: var(--fill-color);\n",
              "    height: 32px;\n",
              "    padding: 0;\n",
              "    width: 32px;\n",
              "  }\n",
              "\n",
              "  .colab-df-quickchart:hover {\n",
              "    background-color: var(--hover-bg-color);\n",
              "    box-shadow: 0 1px 2px rgba(60, 64, 67, 0.3), 0 1px 3px 1px rgba(60, 64, 67, 0.15);\n",
              "    fill: var(--button-hover-fill-color);\n",
              "  }\n",
              "\n",
              "  .colab-df-quickchart-complete:disabled,\n",
              "  .colab-df-quickchart-complete:disabled:hover {\n",
              "    background-color: var(--disabled-bg-color);\n",
              "    fill: var(--disabled-fill-color);\n",
              "    box-shadow: none;\n",
              "  }\n",
              "\n",
              "  .colab-df-spinner {\n",
              "    border: 2px solid var(--fill-color);\n",
              "    border-color: transparent;\n",
              "    border-bottom-color: var(--fill-color);\n",
              "    animation:\n",
              "      spin 1s steps(1) infinite;\n",
              "  }\n",
              "\n",
              "  @keyframes spin {\n",
              "    0% {\n",
              "      border-color: transparent;\n",
              "      border-bottom-color: var(--fill-color);\n",
              "      border-left-color: var(--fill-color);\n",
              "    }\n",
              "    20% {\n",
              "      border-color: transparent;\n",
              "      border-left-color: var(--fill-color);\n",
              "      border-top-color: var(--fill-color);\n",
              "    }\n",
              "    30% {\n",
              "      border-color: transparent;\n",
              "      border-left-color: var(--fill-color);\n",
              "      border-top-color: var(--fill-color);\n",
              "      border-right-color: var(--fill-color);\n",
              "    }\n",
              "    40% {\n",
              "      border-color: transparent;\n",
              "      border-right-color: var(--fill-color);\n",
              "      border-top-color: var(--fill-color);\n",
              "    }\n",
              "    60% {\n",
              "      border-color: transparent;\n",
              "      border-right-color: var(--fill-color);\n",
              "    }\n",
              "    80% {\n",
              "      border-color: transparent;\n",
              "      border-right-color: var(--fill-color);\n",
              "      border-bottom-color: var(--fill-color);\n",
              "    }\n",
              "    90% {\n",
              "      border-color: transparent;\n",
              "      border-bottom-color: var(--fill-color);\n",
              "    }\n",
              "  }\n",
              "</style>\n",
              "\n",
              "  <script>\n",
              "    async function quickchart(key) {\n",
              "      const quickchartButtonEl =\n",
              "        document.querySelector('#' + key + ' button');\n",
              "      quickchartButtonEl.disabled = true;  // To prevent multiple clicks.\n",
              "      quickchartButtonEl.classList.add('colab-df-spinner');\n",
              "      try {\n",
              "        const charts = await google.colab.kernel.invokeFunction(\n",
              "            'suggestCharts', [key], {});\n",
              "      } catch (error) {\n",
              "        console.error('Error during call to suggestCharts:', error);\n",
              "      }\n",
              "      quickchartButtonEl.classList.remove('colab-df-spinner');\n",
              "      quickchartButtonEl.classList.add('colab-df-quickchart-complete');\n",
              "    }\n",
              "    (() => {\n",
              "      let quickchartButtonEl =\n",
              "        document.querySelector('#df-9c5c6d97-a439-4ce2-ab6a-7a9af2854d69 button');\n",
              "      quickchartButtonEl.style.display =\n",
              "        google.colab.kernel.accessAllowed ? 'block' : 'none';\n",
              "    })();\n",
              "  </script>\n",
              "</div>\n",
              "\n",
              "    </div>\n",
              "  </div>\n"
            ]
          },
          "metadata": {},
          "execution_count": 246
        }
      ]
    },
    {
      "cell_type": "code",
      "source": [],
      "metadata": {
        "id": "BLl1nQ39Ra5E"
      },
      "execution_count": null,
      "outputs": []
    }
  ]
}