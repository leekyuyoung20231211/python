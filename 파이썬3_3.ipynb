{
  "nbformat": 4,
  "nbformat_minor": 0,
  "metadata": {
    "colab": {
      "provenance": []
    },
    "kernelspec": {
      "name": "python3",
      "display_name": "Python 3"
    },
    "language_info": {
      "name": "python"
    }
  },
  "cells": [
    {
      "cell_type": "markdown",
      "source": [
        "클래스\n",
        "  - 변수\n",
        "  - 함수\n",
        "  - 특징\n",
        "    - 클래스() 형태로 객체를생성\n",
        "    - 이때 생성자라고 하는 함수가 호출\n",
        "    - 프로그래머가 호출X 그래서 이름이 정해져 있다\n",
        "    - 이러한 특정 사건이 발생할때 호출되는 함수가 정해져 있다"
      ],
      "metadata": {
        "id": "bt05yhMv9O9a"
      }
    },
    {
      "cell_type": "code",
      "source": [
        "# 직사각형 클래스  Rectangle\n",
        "  #  가로,세로, 면적계산\n",
        "# 도서관리 클래스 Book\n",
        "  # 책이름, 저자, 책정보 출력\n",
        "# 은행계좌 클래스  BankAccount\n",
        "  # 잔액, 출금, 예금\n",
        "# 자동차 클래스  Car\n",
        "  # 제조사, 모델명, 주행\n",
        "# 게시판 클래스 Post\n",
        "  # 제목,내용,작성자, 내용출력\n",
        "# 직원 클래스  Employee\n",
        "  # 이름,연봉  ,보너스적용"
      ],
      "metadata": {
        "id": "YYmUL3hg9fc7"
      },
      "execution_count": 2,
      "outputs": []
    },
    {
      "cell_type": "code",
      "source": [
        "class Rectangle():\n",
        "  def __init__(self,length=1,height=1) -> None:\n",
        "    self.length =length\n",
        "    self.height =height\n",
        "  def getArea(self):\n",
        "    return self.length * self.height\n",
        "\n",
        "class Book():\n",
        "  def __init__(self,title,author) -> None:\n",
        "    self.title = title\n",
        "    self.author = author\n",
        "  def __str__(self) -> str:\n",
        "    return f\"제목 : {self.title} / 저자 : {self.author}\"\n",
        "\n",
        "class BankAccount():\n",
        "  def __init__(self,balance = 0) -> None:\n",
        "    self.balance = balance\n",
        "  def deposit(self,amount):\n",
        "    self.balance += amount;\n",
        "  def withraw(self,amount):\n",
        "    if self.balance >= amount:\n",
        "      self.balance -= amount\n",
        "    else:\n",
        "      print(\"잔액이 부족합니다.\")\n",
        "  def __str__(self) -> str:\n",
        "    return f\"잔액은 : {self.balance} 입니다.\"\n",
        "\n",
        "class Car():\n",
        "  def __init__(self,maker,model) -> None:\n",
        "    self.maker = maker\n",
        "    self.model = model\n",
        "    self.mileage = 0\n",
        "\n",
        "  def drive(self,miles):\n",
        "    self.mileage += miles\n",
        "\n",
        "\n",
        "class Post():  # 제목(title) 내용(content) 작성자(author)  내용 출력\n",
        "  def __init__(self,title,content,author) -> None:\n",
        "    self.title = title\n",
        "    self.content = content\n",
        "    self.author = author\n",
        "  def info(self):\n",
        "    print(f\"제목:{self.title} / 작성자:{self.author}\\n {self.content}\")\n",
        "\n",
        "class Employee(): # 이름(name) 연봉(salary)\n",
        "  def __init__(self,name,salary) -> None:\n",
        "    self.name = name\n",
        "    self.salary = salary\n",
        "\n",
        "  def bonus(self,bonus_rate):\n",
        "    return self.salary + self.salary *(bonus_rate / 100)"
      ],
      "metadata": {
        "id": "kh5Z6AAg-tDE"
      },
      "execution_count": 3,
      "outputs": []
    },
    {
      "cell_type": "markdown",
      "source": [
        "노트북 만들기\n",
        "- 노트(note)를 정리하는 프로그램이다.\n",
        "- 사용자는 노트에 콘텐츠를 적을 수 있다.\n",
        "- 노트는 노트북(notebook)에 삽입된다.\n",
        "- 노트북은 타이틀(title)이 있다.\n",
        "- 노트북은 노트가 삽입될 때 페이지를 생성하며,\n",
        "- 최대 300페이지까지 저장할 수 있다.\n",
        "- 300페이지를 넘기면 노트를 더이상 삽입하지 못한다."
      ],
      "metadata": {
        "id": "TbVOKHoTLEEP"
      }
    },
    {
      "cell_type": "code",
      "source": [
        "class Note():\n",
        "  def __init__(self,content=None) -> None:\n",
        "    self.content = content\n",
        "  def write_content(self,content):\n",
        "    self.content = content\n",
        "  def remove_all(self):\n",
        "    self.content = \"\"\n",
        "  def __str__(self) -> str:\n",
        "    return self.content"
      ],
      "metadata": {
        "id": "wiDgM7f3E3AX"
      },
      "execution_count": 7,
      "outputs": []
    },
    {
      "cell_type": "code",
      "source": [
        "# 변수\n",
        "  # 페이지번호, 노트들, 제목\n",
        "# note를 {페이지번호:노트} 형태로\n",
        "# 300 페이지 넘지못하고\n",
        "# note 추가\n",
        "# note 제거\n",
        "class NoteBook():\n",
        "  def __init__(self,title,note=None) -> None:\n",
        "    self.title = title\n",
        "    if note != None:\n",
        "      self.notes = {self.page:note}\n",
        "      self.page = 1\n",
        "    else:\n",
        "      self.notes = {}\n",
        "      self.page = 0\n",
        "\n",
        "  def add_note(self,note):\n",
        "    if len(self.notes) < 300:\n",
        "      self.page += 1\n",
        "      self.notes[self.page] = note\n",
        "    else:\n",
        "      print('페이지가 모두 채워졌습니다.')\n",
        "  def remove_note(self,page):\n",
        "    if page in self.notes.keys():\n",
        "      del self.notes[page]\n",
        "    else:\n",
        "      print('해당페이지의 노트가 없습니다.')\n",
        "  def get_all_note(self):\n",
        "    return self.notes\n",
        "  def info(self):\n",
        "    print(f\"제목 : {self.title} 노트수:{len(self.notes)} \")\n",
        ""
      ],
      "metadata": {
        "id": "TTKzyD1COZRi"
      },
      "execution_count": 10,
      "outputs": []
    },
    {
      "cell_type": "code",
      "source": [
        "note1 = Note(\"오늘의 할일\")\n",
        "note2 = Note(\"이번주 할일\")\n",
        "noteBook = NoteBook('일기장')\n",
        "noteBook.add_note(note1);noteBook.add_note(note1);noteBook.add_note(note1);noteBook.add_note(note1)\n",
        "noteBook.add_note(note2);noteBook.add_note(note2);noteBook.add_note(note2);noteBook.add_note(note2)\n",
        "noteBook.info()"
      ],
      "metadata": {
        "colab": {
          "base_uri": "https://localhost:8080/"
        },
        "id": "jev-RdzoQyzS",
        "outputId": "47c463b6-1abb-406a-8a6e-1a8b633f0972"
      },
      "execution_count": 14,
      "outputs": [
        {
          "output_type": "stream",
          "name": "stdout",
          "text": [
            "제목 : 일기장 노트수:8 \n"
          ]
        }
      ]
    },
    {
      "cell_type": "code",
      "source": [
        "noteBook.remove_note(5)\n",
        "noteBook.info()"
      ],
      "metadata": {
        "colab": {
          "base_uri": "https://localhost:8080/"
        },
        "id": "9o452zAQQ4KV",
        "outputId": "172416ba-f2e1-4d85-8a84-c71820015e46"
      },
      "execution_count": 15,
      "outputs": [
        {
          "output_type": "stream",
          "name": "stdout",
          "text": [
            "제목 : 일기장 노트수:7 \n"
          ]
        }
      ]
    },
    {
      "cell_type": "code",
      "source": [
        "result = noteBook.get_all_note()\n",
        "for page,note in result.items():\n",
        "  print(page,note)"
      ],
      "metadata": {
        "colab": {
          "base_uri": "https://localhost:8080/"
        },
        "id": "ldekPiZ3TKCd",
        "outputId": "e4ad6fde-e527-4394-dccc-fb0177ad69bf"
      },
      "execution_count": 19,
      "outputs": [
        {
          "output_type": "stream",
          "name": "stdout",
          "text": [
            "1 오늘의 할일\n",
            "2 오늘의 할일\n",
            "3 오늘의 할일\n",
            "4 오늘의 할일\n",
            "6 이번주 할일\n",
            "7 이번주 할일\n",
            "8 이번주 할일\n"
          ]
        }
      ]
    },
    {
      "cell_type": "code",
      "source": [
        "# 도서관 : Library\n",
        "  # 책 클래스의 객체를 변수로 가짐\n",
        "  # 책 추가\n",
        "  # 책 삭제\n",
        "  # 책 대여\n",
        "  # 책 반납\n",
        "\n",
        "\n",
        "# 책 :     Book\n",
        "  # id : 책을 추가할때마다 하나씩 증가한다.. 즉 중복허용안되는 고유한값\n",
        "  # 제목 저자\n",
        "  # 대여가능 여부(0:불가, 1:가능)"
      ],
      "metadata": {
        "id": "KuCjuWZlTT0C"
      },
      "execution_count": 20,
      "outputs": []
    },
    {
      "cell_type": "code",
      "source": [
        "class Library():\n",
        "  def __init__(self) -> None:\n",
        "    self.book = {}\n",
        "  def add_book(self, book):\n",
        "    if len(self.book.keys()) == 0:\n",
        "      book.id = 1\n",
        "    else:\n",
        "      id = max(self.book.keys())+1\n",
        "      book.id = id\n",
        "    self.book[book.id] = book\n",
        "\n",
        "  def remove_book(self,book_id):\n",
        "    del self.book[book_id]\n",
        "  def rental_book(self,book_id):\n",
        "    self.book[book_id].able = 0\n",
        "  def return_book(self,book_id):\n",
        "    self.book[book_id].able = 1\n",
        "  def show_all_books(self):\n",
        "    for book_id,book in self.book.items():\n",
        "      print(f\"번호:{book_id} 제목:{book.title} 저자:{book.author} 대출가능여부 : {'대출가능' if book.able == 1 else '대출불가'} \")"
      ],
      "metadata": {
        "id": "0DcpMLxCUkSa"
      },
      "execution_count": 27,
      "outputs": []
    },
    {
      "cell_type": "code",
      "source": [
        "class Book():\n",
        "  def __init__(self,title,author) -> None:\n",
        "    self.title = title\n",
        "    self.author = author\n",
        "    self.able = 1\n",
        "    self.id = 0"
      ],
      "metadata": {
        "id": "AeTiypMIX6GQ"
      },
      "execution_count": 28,
      "outputs": []
    },
    {
      "cell_type": "code",
      "source": [
        "book1 = Book(\"파이썬 이해하기\",'홍길동1')\n",
        "book2 = Book(\"파이썬 정복하기\",'홍길동2')\n",
        "book3 = Book(\"데이터분석하기\",'홍길동3')\n",
        "book4 = Book(\"선형대수\",'홍길동4')\n",
        "book5 = Book(\"넘파이\",'홍길동5')\n",
        "book6 = Book(\"판다스\",'홍길동6')"
      ],
      "metadata": {
        "id": "puS-5yB7akJ7"
      },
      "execution_count": 29,
      "outputs": []
    },
    {
      "cell_type": "code",
      "source": [
        "lib = Library()\n",
        "lib.add_book(book1);lib.add_book(book2);lib.add_book(book3);lib.add_book(book4)\n",
        "lib.add_book(book5);lib.add_book(book6)"
      ],
      "metadata": {
        "id": "LVVgBxaicejs"
      },
      "execution_count": 30,
      "outputs": []
    },
    {
      "cell_type": "code",
      "source": [
        "lib.show_all_books()"
      ],
      "metadata": {
        "colab": {
          "base_uri": "https://localhost:8080/"
        },
        "id": "xrHF-3F6ct_E",
        "outputId": "97722655-9e33-4e20-b0d4-46532d6c2de4"
      },
      "execution_count": 31,
      "outputs": [
        {
          "output_type": "stream",
          "name": "stdout",
          "text": [
            "번호:1 제목:파이썬 이해하기 저자:홍길동1 대출가능여부 : 대출가능 \n",
            "번호:2 제목:파이썬 정복하기 저자:홍길동2 대출가능여부 : 대출가능 \n",
            "번호:3 제목:데이터분석하기 저자:홍길동3 대출가능여부 : 대출가능 \n",
            "번호:4 제목:선형대수 저자:홍길동4 대출가능여부 : 대출가능 \n",
            "번호:5 제목:넘파이 저자:홍길동5 대출가능여부 : 대출가능 \n",
            "번호:6 제목:판다스 저자:홍길동6 대출가능여부 : 대출가능 \n"
          ]
        }
      ]
    },
    {
      "cell_type": "code",
      "source": [
        "lib.rental_book(4)\n",
        "lib.show_all_books()"
      ],
      "metadata": {
        "colab": {
          "base_uri": "https://localhost:8080/"
        },
        "id": "gvFR9Iwacy9P",
        "outputId": "acd805e3-fb85-4e13-f13b-8e111e490727"
      },
      "execution_count": 32,
      "outputs": [
        {
          "output_type": "stream",
          "name": "stdout",
          "text": [
            "번호:1 제목:파이썬 이해하기 저자:홍길동1 대출가능여부 : 대출가능 \n",
            "번호:2 제목:파이썬 정복하기 저자:홍길동2 대출가능여부 : 대출가능 \n",
            "번호:3 제목:데이터분석하기 저자:홍길동3 대출가능여부 : 대출가능 \n",
            "번호:4 제목:선형대수 저자:홍길동4 대출가능여부 : 대출불가 \n",
            "번호:5 제목:넘파이 저자:홍길동5 대출가능여부 : 대출가능 \n",
            "번호:6 제목:판다스 저자:홍길동6 대출가능여부 : 대출가능 \n"
          ]
        }
      ]
    },
    {
      "cell_type": "code",
      "source": [
        "lib.rental_book(1);lib.rental_book(3);lib.rental_book(6)\n",
        "lib.show_all_books()"
      ],
      "metadata": {
        "colab": {
          "base_uri": "https://localhost:8080/"
        },
        "id": "tH-wlUK_dQs5",
        "outputId": "19564562-f7cf-4c24-ef5a-f9c330ba6a1b"
      },
      "execution_count": 33,
      "outputs": [
        {
          "output_type": "stream",
          "name": "stdout",
          "text": [
            "번호:1 제목:파이썬 이해하기 저자:홍길동1 대출가능여부 : 대출불가 \n",
            "번호:2 제목:파이썬 정복하기 저자:홍길동2 대출가능여부 : 대출가능 \n",
            "번호:3 제목:데이터분석하기 저자:홍길동3 대출가능여부 : 대출불가 \n",
            "번호:4 제목:선형대수 저자:홍길동4 대출가능여부 : 대출불가 \n",
            "번호:5 제목:넘파이 저자:홍길동5 대출가능여부 : 대출가능 \n",
            "번호:6 제목:판다스 저자:홍길동6 대출가능여부 : 대출불가 \n"
          ]
        }
      ]
    },
    {
      "cell_type": "code",
      "source": [
        "lib.return_book(1);lib.return_book(6);\n",
        "lib.show_all_books()"
      ],
      "metadata": {
        "colab": {
          "base_uri": "https://localhost:8080/"
        },
        "id": "LWW8E08WdnA2",
        "outputId": "870f99cb-01d6-435f-8a4e-1bb8c8cec009"
      },
      "execution_count": 34,
      "outputs": [
        {
          "output_type": "stream",
          "name": "stdout",
          "text": [
            "번호:1 제목:파이썬 이해하기 저자:홍길동1 대출가능여부 : 대출가능 \n",
            "번호:2 제목:파이썬 정복하기 저자:홍길동2 대출가능여부 : 대출가능 \n",
            "번호:3 제목:데이터분석하기 저자:홍길동3 대출가능여부 : 대출불가 \n",
            "번호:4 제목:선형대수 저자:홍길동4 대출가능여부 : 대출불가 \n",
            "번호:5 제목:넘파이 저자:홍길동5 대출가능여부 : 대출가능 \n",
            "번호:6 제목:판다스 저자:홍길동6 대출가능여부 : 대출가능 \n"
          ]
        }
      ]
    },
    {
      "cell_type": "markdown",
      "source": [
        "도서관 대여시스템 만들기\n",
        "  - 사용자한테 현재 대출가능한 목록 보여주기\n",
        "  - 대출목록 보여주기  \n",
        "    - 대출하기\n",
        "    - 반납하기\n",
        "  - 사용자 입력 처리하기"
      ],
      "metadata": {
        "id": "XzY8R0gkeCYt"
      }
    },
    {
      "cell_type": "code",
      "source": [
        "print(\"1.도서정보 열람\\t\\t2.대출목록\")\n",
        "print(\"3.대출하기\\t\\t4.반납하기\")\n",
        "print(\"5.종료하기\")"
      ],
      "metadata": {
        "colab": {
          "base_uri": "https://localhost:8080/"
        },
        "id": "qSKrX5p1dupL",
        "outputId": "0f679c5b-afa7-4ac9-cdef-87a57f2cb394"
      },
      "execution_count": 37,
      "outputs": [
        {
          "output_type": "stream",
          "name": "stdout",
          "text": [
            "1.도서정보 열람\t\t2.대출목록\n",
            "3.대출하기\t\t4.반납하기\n",
            "5.종료하기\n"
          ]
        }
      ]
    },
    {
      "cell_type": "code",
      "source": [
        "class LibraryRentanSystem():\n",
        "  def __init__(self,library) -> None:\n",
        "    self.library = library\n",
        "  def library_info(self): #1.도서정보 열람\n",
        "    self.library.show_all_books()\n",
        "  def library_rental_list(self): #2.대출목록  book 객체의 able 의 값이 0인 book 의 정보만 출력\n",
        "    pass\n",
        "  def library_rental(self,book_id): #3.대출하기\n",
        "    self.library.rental_book(book_id)\n",
        "  def library_return(self,book_id): #4.반납하기\n",
        "    self.library.return_book(book_id)\n",
        "  def show_menu(self):\n",
        "    print(\"1.도서정보 열람\\t\\t2.대출목록\")\n",
        "    print(\"3.대출하기\\t\\t4.반납하기\")\n",
        "    print(\"5.종료하기\")"
      ],
      "metadata": {
        "id": "UiGtaxHsfCO7"
      },
      "execution_count": null,
      "outputs": []
    }
  ]
}