{
  "nbformat": 4,
  "nbformat_minor": 0,
  "metadata": {
    "colab": {
      "provenance": [],
      "gpuType": "T4"
    },
    "kernelspec": {
      "name": "python3",
      "display_name": "Python 3"
    },
    "language_info": {
      "name": "python"
    },
    "accelerator": "GPU"
  },
  "cells": [
    {
      "cell_type": "code",
      "execution_count": null,
      "metadata": {
        "id": "N6WG9moGFcM6"
      },
      "outputs": [],
      "source": []
    },
    {
      "cell_type": "markdown",
      "source": [
        "합성곱 신경망을 이용한 이미지 분류"
      ],
      "metadata": {
        "id": "341gkgMhLGes"
      }
    },
    {
      "cell_type": "code",
      "source": [
        "import tensorflow as tf\n",
        "tf.keras.utils.set_random_seed(42)\n",
        "tf.config.experimental.enable_op_determinism()"
      ],
      "metadata": {
        "id": "t314k5f_LI7l"
      },
      "execution_count": 1,
      "outputs": []
    },
    {
      "cell_type": "code",
      "source": [
        "from tensorflow import keras\n",
        "from sklearn.model_selection import train_test_split\n",
        "(X_train,y_train),(X_test,y_test) =  keras.datasets.fashion_mnist.load_data()"
      ],
      "metadata": {
        "colab": {
          "base_uri": "https://localhost:8080/"
        },
        "id": "b5za9GaHLjwP",
        "outputId": "fb2b9a43-a8d0-4c2f-ea6a-f4dec47bd86e"
      },
      "execution_count": 2,
      "outputs": [
        {
          "output_type": "stream",
          "name": "stdout",
          "text": [
            "Downloading data from https://storage.googleapis.com/tensorflow/tf-keras-datasets/train-labels-idx1-ubyte.gz\n",
            "29515/29515 [==============================] - 0s 0us/step\n",
            "Downloading data from https://storage.googleapis.com/tensorflow/tf-keras-datasets/train-images-idx3-ubyte.gz\n",
            "26421880/26421880 [==============================] - 0s 0us/step\n",
            "Downloading data from https://storage.googleapis.com/tensorflow/tf-keras-datasets/t10k-labels-idx1-ubyte.gz\n",
            "5148/5148 [==============================] - 0s 0us/step\n",
            "Downloading data from https://storage.googleapis.com/tensorflow/tf-keras-datasets/t10k-images-idx3-ubyte.gz\n",
            "4422102/4422102 [==============================] - 0s 0us/step\n"
          ]
        }
      ]
    },
    {
      "cell_type": "code",
      "source": [
        "X_train.shape"
      ],
      "metadata": {
        "colab": {
          "base_uri": "https://localhost:8080/"
        },
        "id": "5ttDchPNMDLD",
        "outputId": "48d1a90f-9e8f-4705-92e9-d9c06c329df0"
      },
      "execution_count": 3,
      "outputs": [
        {
          "output_type": "execute_result",
          "data": {
            "text/plain": [
              "(60000, 28, 28)"
            ]
          },
          "metadata": {},
          "execution_count": 3
        }
      ]
    },
    {
      "cell_type": "markdown",
      "source": [
        "Convolution 은 차수를 3차원으로 맞춰야 함"
      ],
      "metadata": {
        "id": "OPL3S4K9MInP"
      }
    },
    {
      "cell_type": "code",
      "source": [
        "X_train_scaled = X_train.reshape(-1,28,28,1) / 255.0\n",
        "XTrain,XVal,yTrain,yVal =  train_test_split(X_train_scaled,y_train,test_size=0.2,random_state=2)"
      ],
      "metadata": {
        "id": "ySXRahTUMTTu"
      },
      "execution_count": 4,
      "outputs": []
    },
    {
      "cell_type": "code",
      "source": [
        "X_train_scaled.shape"
      ],
      "metadata": {
        "colab": {
          "base_uri": "https://localhost:8080/"
        },
        "id": "xjbQBq5wNzSv",
        "outputId": "d13c16e0-951d-415f-b3bd-fb2235f55937"
      },
      "execution_count": 5,
      "outputs": [
        {
          "output_type": "execute_result",
          "data": {
            "text/plain": [
              "(60000, 28, 28, 1)"
            ]
          },
          "metadata": {},
          "execution_count": 5
        }
      ]
    },
    {
      "cell_type": "markdown",
      "source": [
        "합성곱 신경망 만들기"
      ],
      "metadata": {
        "id": "Bimq-GeiM-eO"
      }
    },
    {
      "cell_type": "code",
      "source": [
        "def make_model():\n",
        "  model = keras.Sequential()\n",
        "  # 커널수\n",
        "  model.add(keras.layers.Conv2D(32,kernel_size=3 ,activation='relu',padding='same', input_shape=(28,28,1) )  )\n",
        "  model.add( keras.layers.MaxPool2D(2)  )  # 반으로 줄인다.\n",
        "  model.add(keras.layers.Dropout(0.4))\n",
        "\n",
        "  model.add(keras.layers.Conv2D(64,kernel_size=3 ,activation='relu',padding='same' )  )\n",
        "  model.add( keras.layers.MaxPool2D(2)  )  # 반으로 줄인다.\n",
        "  model.add(keras.layers.Dropout(0.4))\n",
        "\n",
        "  model.add(keras.layers.Flatten())\n",
        "\n",
        "  model.add(keras.layers.Dense(100,activation='relu')    )\n",
        "  model.add(keras.layers.Dropout(0.4)   )\n",
        "  model.add(keras.layers.Dense(10,activation='softmax')    )\n",
        "  return model\n"
      ],
      "metadata": {
        "id": "5BJQ1C4pMYQT"
      },
      "execution_count": 22,
      "outputs": []
    },
    {
      "cell_type": "code",
      "source": [
        "model = make_model()\n",
        "model.summary()"
      ],
      "metadata": {
        "colab": {
          "base_uri": "https://localhost:8080/"
        },
        "id": "hYXGA9T-O9Sq",
        "outputId": "4ee2441f-f4fa-4ba7-a9b4-3aa576e16f6f"
      },
      "execution_count": 15,
      "outputs": [
        {
          "output_type": "stream",
          "name": "stdout",
          "text": [
            "Model: \"sequential_1\"\n",
            "_________________________________________________________________\n",
            " Layer (type)                Output Shape              Param #   \n",
            "=================================================================\n",
            " conv2d_2 (Conv2D)           (None, 28, 28, 32)        320       \n",
            "                                                                 \n",
            " max_pooling2d_2 (MaxPoolin  (None, 14, 14, 32)        0         \n",
            " g2D)                                                            \n",
            "                                                                 \n",
            " conv2d_3 (Conv2D)           (None, 14, 14, 64)        18496     \n",
            "                                                                 \n",
            " max_pooling2d_3 (MaxPoolin  (None, 7, 7, 64)          0         \n",
            " g2D)                                                            \n",
            "                                                                 \n",
            " flatten_1 (Flatten)         (None, 3136)              0         \n",
            "                                                                 \n",
            " dense_2 (Dense)             (None, 100)               313700    \n",
            "                                                                 \n",
            " dropout_1 (Dropout)         (None, 100)               0         \n",
            "                                                                 \n",
            " dense_3 (Dense)             (None, 10)                1010      \n",
            "                                                                 \n",
            "=================================================================\n",
            "Total params: 333526 (1.27 MB)\n",
            "Trainable params: 333526 (1.27 MB)\n",
            "Non-trainable params: 0 (0.00 Byte)\n",
            "_________________________________________________________________\n"
          ]
        }
      ]
    },
    {
      "cell_type": "code",
      "source": [
        "\n",
        "# conv2d_1 (Conv2D)           (None, 28, 28, 32)        320\n",
        "# (input_channel x kernel_size + 1)*output_channel\n",
        "(3*3+1)*32\n",
        "\n",
        "# (None, 14, 14, 64)\n",
        "(3*3*32+1)*64"
      ],
      "metadata": {
        "colab": {
          "base_uri": "https://localhost:8080/"
        },
        "id": "diIvMNG8PIwD",
        "outputId": "48680fc8-e7e1-4c50-cca1-0bd14fb138aa"
      },
      "execution_count": 16,
      "outputs": [
        {
          "output_type": "execute_result",
          "data": {
            "text/plain": [
              "18496"
            ]
          },
          "metadata": {},
          "execution_count": 16
        }
      ]
    },
    {
      "cell_type": "markdown",
      "source": [
        "모델 컴파일 과 훈련"
      ],
      "metadata": {
        "id": "6uOyZcnpQfZ8"
      }
    },
    {
      "cell_type": "code",
      "source": [
        "model = make_model()\n",
        "model.compile(optimizer='adam', loss='sparse_categorical_crossentropy', metrics='accuracy')\n",
        "checkpoint_cb = keras.callbacks.ModelCheckpoint('cnn_model.keras',save_best_only=True)\n",
        "early_stopping_cb = keras.callbacks.EarlyStopping(patience=3,restore_best_weights=True)\n",
        "history = model.fit(XTrain,yTrain,epochs=100, validation_data=(XVal,yVal), callbacks=[checkpoint_cb, early_stopping_cb]    )"
      ],
      "metadata": {
        "colab": {
          "base_uri": "https://localhost:8080/"
        },
        "id": "XrPpdLVXP7rm",
        "outputId": "17a26eda-efe0-4353-ab4f-3215f3432b19"
      },
      "execution_count": 23,
      "outputs": [
        {
          "output_type": "stream",
          "name": "stdout",
          "text": [
            "Epoch 1/100\n",
            "1500/1500 [==============================] - 10s 6ms/step - loss: 0.6296 - accuracy: 0.7666 - val_loss: 0.3787 - val_accuracy: 0.8610\n",
            "Epoch 2/100\n",
            "1500/1500 [==============================] - 7s 5ms/step - loss: 0.4302 - accuracy: 0.8445 - val_loss: 0.3149 - val_accuracy: 0.8818\n",
            "Epoch 3/100\n",
            "1500/1500 [==============================] - 8s 6ms/step - loss: 0.3801 - accuracy: 0.8631 - val_loss: 0.2965 - val_accuracy: 0.8913\n",
            "Epoch 4/100\n",
            "1500/1500 [==============================] - 7s 5ms/step - loss: 0.3526 - accuracy: 0.8719 - val_loss: 0.2796 - val_accuracy: 0.8946\n",
            "Epoch 5/100\n",
            "1500/1500 [==============================] - 7s 5ms/step - loss: 0.3268 - accuracy: 0.8809 - val_loss: 0.2682 - val_accuracy: 0.9028\n",
            "Epoch 6/100\n",
            "1500/1500 [==============================] - 8s 5ms/step - loss: 0.3143 - accuracy: 0.8862 - val_loss: 0.2492 - val_accuracy: 0.9066\n",
            "Epoch 7/100\n",
            "1500/1500 [==============================] - 7s 5ms/step - loss: 0.3066 - accuracy: 0.8866 - val_loss: 0.2420 - val_accuracy: 0.9107\n",
            "Epoch 8/100\n",
            "1500/1500 [==============================] - 7s 5ms/step - loss: 0.2937 - accuracy: 0.8926 - val_loss: 0.2343 - val_accuracy: 0.9137\n",
            "Epoch 9/100\n",
            "1500/1500 [==============================] - 8s 5ms/step - loss: 0.2863 - accuracy: 0.8956 - val_loss: 0.2302 - val_accuracy: 0.9140\n",
            "Epoch 10/100\n",
            "1500/1500 [==============================] - 7s 4ms/step - loss: 0.2814 - accuracy: 0.8961 - val_loss: 0.2276 - val_accuracy: 0.9162\n",
            "Epoch 11/100\n",
            "1500/1500 [==============================] - 8s 5ms/step - loss: 0.2720 - accuracy: 0.9001 - val_loss: 0.2228 - val_accuracy: 0.9181\n",
            "Epoch 12/100\n",
            "1500/1500 [==============================] - 7s 5ms/step - loss: 0.2682 - accuracy: 0.9032 - val_loss: 0.2237 - val_accuracy: 0.9172\n",
            "Epoch 13/100\n",
            "1500/1500 [==============================] - 7s 5ms/step - loss: 0.2667 - accuracy: 0.9017 - val_loss: 0.2222 - val_accuracy: 0.9190\n",
            "Epoch 14/100\n",
            "1500/1500 [==============================] - 8s 5ms/step - loss: 0.2653 - accuracy: 0.9017 - val_loss: 0.2290 - val_accuracy: 0.9163\n",
            "Epoch 15/100\n",
            "1500/1500 [==============================] - 7s 5ms/step - loss: 0.2567 - accuracy: 0.9056 - val_loss: 0.2228 - val_accuracy: 0.9193\n",
            "Epoch 16/100\n",
            "1500/1500 [==============================] - 8s 5ms/step - loss: 0.2574 - accuracy: 0.9072 - val_loss: 0.2173 - val_accuracy: 0.9196\n",
            "Epoch 17/100\n",
            "1500/1500 [==============================] - 7s 5ms/step - loss: 0.2503 - accuracy: 0.9078 - val_loss: 0.2156 - val_accuracy: 0.9233\n",
            "Epoch 18/100\n",
            "1500/1500 [==============================] - 8s 5ms/step - loss: 0.2509 - accuracy: 0.9050 - val_loss: 0.2143 - val_accuracy: 0.9227\n",
            "Epoch 19/100\n",
            "1500/1500 [==============================] - 8s 5ms/step - loss: 0.2462 - accuracy: 0.9077 - val_loss: 0.2137 - val_accuracy: 0.9213\n",
            "Epoch 20/100\n",
            "1500/1500 [==============================] - 7s 5ms/step - loss: 0.2451 - accuracy: 0.9079 - val_loss: 0.2140 - val_accuracy: 0.9207\n",
            "Epoch 21/100\n",
            "1500/1500 [==============================] - 8s 5ms/step - loss: 0.2417 - accuracy: 0.9093 - val_loss: 0.2105 - val_accuracy: 0.9223\n",
            "Epoch 22/100\n",
            "1500/1500 [==============================] - 8s 5ms/step - loss: 0.2396 - accuracy: 0.9106 - val_loss: 0.2147 - val_accuracy: 0.9211\n",
            "Epoch 23/100\n",
            "1500/1500 [==============================] - 7s 5ms/step - loss: 0.2375 - accuracy: 0.9101 - val_loss: 0.2141 - val_accuracy: 0.9225\n",
            "Epoch 24/100\n",
            "1500/1500 [==============================] - 8s 5ms/step - loss: 0.2369 - accuracy: 0.9121 - val_loss: 0.2158 - val_accuracy: 0.9236\n"
          ]
        }
      ]
    },
    {
      "cell_type": "code",
      "source": [
        "import matplotlib.pyplot as plt\n",
        "plt.plot(history.history['loss'],label='train')\n",
        "plt.plot(history.history['val_loss'],label='val')\n",
        "plt.xlabel('epoch')\n",
        "plt.ylabel('loss')\n",
        "plt.legend()\n",
        "plt.show()"
      ],
      "metadata": {
        "colab": {
          "base_uri": "https://localhost:8080/",
          "height": 449
        },
        "id": "Zm7oInfYQiMU",
        "outputId": "e2f4f4d5-87f3-4e98-ad8c-a94a092a0f60"
      },
      "execution_count": 24,
      "outputs": [
        {
          "output_type": "display_data",
          "data": {
            "text/plain": [
              "<Figure size 640x480 with 1 Axes>"
            ],
            "image/png": "[encoded data removed]"
          },
          "metadata": {}
        }
      ]
    },
    {
      "cell_type": "code",
      "source": [
        "X_test_scaled = X_test.reshape(-1,28,28,1)/255.0\n",
        "\n",
        "model.evaluate(X_test_scaled,y_test)"
      ],
      "metadata": {
        "colab": {
          "base_uri": "https://localhost:8080/"
        },
        "id": "LtQ5NTGMVSEU",
        "outputId": "6fe3467c-5f93-45e9-88a9-14ca528e5be4"
      },
      "execution_count": 25,
      "outputs": [
        {
          "output_type": "stream",
          "name": "stdout",
          "text": [
            "313/313 [==============================] - 1s 4ms/step - loss: 0.2233 - accuracy: 0.9185\n"
          ]
        },
        {
          "output_type": "execute_result",
          "data": {
            "text/plain": [
              "[0.22326591610908508, 0.9185000061988831]"
            ]
          },
          "metadata": {},
          "execution_count": 25
        }
      ]
    },
    {
      "cell_type": "code",
      "source": [],
      "metadata": {
        "id": "uRXJyi2jW5k_"
      },
      "execution_count": null,
      "outputs": []
    }
  ]
}