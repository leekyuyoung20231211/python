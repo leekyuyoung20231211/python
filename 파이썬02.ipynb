{
  "nbformat": 4,
  "nbformat_minor": 0,
  "metadata": {
    "colab": {
      "provenance": []
    },
    "kernelspec": {
      "name": "python3",
      "display_name": "Python 3"
    },
    "language_info": {
      "name": "python"
    }
  },
  "cells": [
    {
      "cell_type": "code",
      "execution_count": 3,
      "metadata": {
        "colab": {
          "base_uri": "https://localhost:8080/"
        },
        "id": "MCMnQAZblnHg",
        "outputId": "2e3eff69-781e-4705-a0a1-2e6a64a16ffa"
      },
      "outputs": [
        {
          "output_type": "stream",
          "name": "stdout",
          "text": [
            "Enter your name:\n",
            "3.14\n",
            "hi 3.14 how are you today?\n"
          ]
        }
      ],
      "source": [
        "print(\"Enter your name:\")\n",
        "somebody = input()\n",
        "print(\"hi\",somebody,\"how are you today?\")"
      ]
    },
    {
      "cell_type": "code",
      "source": [
        "type(somebody), somebody"
      ],
      "metadata": {
        "colab": {
          "base_uri": "https://localhost:8080/"
        },
        "id": "hB8USG8KmCL4",
        "outputId": "1af2a157-df5d-40ce-dd48-f840438bf82c"
      },
      "execution_count": 5,
      "outputs": [
        {
          "output_type": "execute_result",
          "data": {
            "text/plain": [
              "(str, '3.14')"
            ]
          },
          "metadata": {},
          "execution_count": 5
        }
      ]
    },
    {
      "cell_type": "code",
      "source": [
        "# 두개의 값을 받아서 4칙연산을 수행 + - * /\n",
        "print(\"첫번째 정수를 입력하세요\")\n",
        "num1 = int( input() )\n",
        "print(\"두번째 정수를 입력하세요\")\n",
        "num2 = int( input() )\n",
        "\n",
        "\n",
        "# 두수를 더해서 출력하고  - print(  )\n",
        "print( num1 + num2 )\n",
        "# 두수를 빼서 출력하고\n",
        "print( num1 - num2 )\n",
        "# 두수를 곱해서 출력하고\n",
        "print( num1 * num2 )\n",
        "# 두수를 나눠서 출력하고\n",
        "print( num1 / num2 )"
      ],
      "metadata": {
        "colab": {
          "base_uri": "https://localhost:8080/"
        },
        "id": "czcldkitnGB5",
        "outputId": "b96c261b-079f-4134-b8f5-fc210f550643"
      },
      "execution_count": 10,
      "outputs": [
        {
          "output_type": "stream",
          "name": "stdout",
          "text": [
            "첫번째 정수를 입력하세요\n",
            "20\n",
            "두번째 정수를 입력하세요\n",
            "10\n",
            "30\n",
            "10\n",
            "200\n",
            "2.0\n"
          ]
        }
      ]
    },
    {
      "cell_type": "markdown",
      "source": [
        "화씨 온도 변환기\n",
        "  - 사용자로부터 섭씨온도를 받아서 화씨 온도로 변환\n",
        "  - 화씨온도 = (섭씨온도 * 1.8 ) +32"
      ],
      "metadata": {
        "id": "Eg8FMhWFqvah"
      }
    },
    {
      "cell_type": "code",
      "source": [
        "temp1 = float(input(\"섭씨온도를 입력하세요:\"))  # 실수로변경한후 변수에 담는다   float()\n",
        "# 공식을 이용해서 화씨온도로 변환\n",
        "temp2 = (temp1 * 1.8) + 32\n",
        "# 출력을 한다\n",
        "print(\"화씨온도는\",temp2,\"입니다.\")"
      ],
      "metadata": {
        "colab": {
          "base_uri": "https://localhost:8080/"
        },
        "id": "ZkAmkGqKnilA",
        "outputId": "4d12ed68-8a7a-465d-c54f-f6a44e57f8a7"
      },
      "execution_count": 12,
      "outputs": [
        {
          "output_type": "stream",
          "name": "stdout",
          "text": [
            "섭씨온도를 입력하세요:7\n",
            "화씨온도는 44.6 입니다.\n"
          ]
        }
      ]
    },
    {
      "cell_type": "markdown",
      "source": [
        "리스트\n",
        "  - 한개의 이름으로 여러개의 데이터를 다루는 자료구조\n",
        "  - 각각의 데이터는 인덱스라는 0번부터 시작하는 번호로 접근한다"
      ],
      "metadata": {
        "id": "GnSEZ7Kly6UY"
      }
    },
    {
      "cell_type": "code",
      "source": [
        "colors = ['red','blue','green']\n",
        "print(colors)"
      ],
      "metadata": {
        "colab": {
          "base_uri": "https://localhost:8080/"
        },
        "id": "tH9bckkVq7mk",
        "outputId": "a301fdff-abb3-421e-81e8-1f58124dc7f8"
      },
      "execution_count": 13,
      "outputs": [
        {
          "output_type": "stream",
          "name": "stdout",
          "text": [
            "['red', 'blue', 'green']\n"
          ]
        }
      ]
    },
    {
      "cell_type": "code",
      "source": [
        "print(colors[0]) # red\n",
        "print(colors[1]) # blue\n",
        "print(colors[2]) # green"
      ],
      "metadata": {
        "colab": {
          "base_uri": "https://localhost:8080/"
        },
        "id": "mtn31MEtzKGu",
        "outputId": "71d8e162-f974-4211-95d5-7688a531cb22"
      },
      "execution_count": 14,
      "outputs": [
        {
          "output_type": "stream",
          "name": "stdout",
          "text": [
            "red\n",
            "blue\n",
            "green\n"
          ]
        }
      ]
    },
    {
      "cell_type": "code",
      "source": [
        "print(colors[3])"
      ],
      "metadata": {
        "colab": {
          "base_uri": "https://localhost:8080/",
          "height": 181
        },
        "id": "EyC9gQtEzWnG",
        "outputId": "c646bb40-7a31-438e-c2ae-2bee8e324043"
      },
      "execution_count": 15,
      "outputs": [
        {
          "output_type": "error",
          "ename": "IndexError",
          "evalue": "ignored",
          "traceback": [
            "\u001b[0;31m---------------------------------------------------------------------------\u001b[0m",
            "\u001b[0;31mIndexError\u001b[0m                                Traceback (most recent call last)",
            "\u001b[0;32m<ipython-input-15-08c460e34ca7>\u001b[0m in \u001b[0;36m<cell line: 1>\u001b[0;34m()\u001b[0m\n\u001b[0;32m----> 1\u001b[0;31m \u001b[0mprint\u001b[0m\u001b[0;34m(\u001b[0m\u001b[0mcolors\u001b[0m\u001b[0;34m[\u001b[0m\u001b[0;36m3\u001b[0m\u001b[0;34m]\u001b[0m\u001b[0;34m)\u001b[0m\u001b[0;34m\u001b[0m\u001b[0;34m\u001b[0m\u001b[0m\n\u001b[0m",
            "\u001b[0;31mIndexError\u001b[0m: list index out of range"
          ]
        }
      ]
    },
    {
      "cell_type": "code",
      "source": [
        "# 리스트의 마지막 인덱스는   리스트의 개수 - 1  why?? -> 0부터시작하니깐."
      ],
      "metadata": {
        "id": "X5h3JVPRzZPH"
      },
      "execution_count": null,
      "outputs": []
    },
    {
      "cell_type": "code",
      "source": [
        "# 5명의 점수를 관리하는 scores 를 만들어 보자\n",
        "scores = [80, 90, 70, 85, 95]\n",
        "print(\"점수들의 합은:\",sum(scores))\n",
        "print(\"평균은 : \", sum(scores) / len(scores) )\n",
        "print(\"최대값은 :\",max(scores) )\n",
        "print(\"최소값은 :\",min(scores) )\n",
        "print(\"오름차순으로 정렬하면 : \", sorted(scores))\n",
        "print(\"내림차순으로 정렬하면 : \", sorted(scores,reverse=True))\n",
        "print(\"원본은 변하지 않음  scores : \",scores)\n",
        "# 원본을 정렬한 상태로 만들려면?  scores = sorted(scores)"
      ],
      "metadata": {
        "colab": {
          "base_uri": "https://localhost:8080/"
        },
        "id": "BciCQhZAz2z3",
        "outputId": "3c731274-a036-4b9f-b3bf-5082bacc7439"
      },
      "execution_count": 23,
      "outputs": [
        {
          "output_type": "stream",
          "name": "stdout",
          "text": [
            "점수들의 합은: 420\n",
            "평균은 :  84.0\n",
            "최대값은 : 95\n",
            "최소값은 : 70\n",
            "오름차순으로 정렬하면 :  [70, 80, 85, 90, 95]\n",
            "내림차순으로 정렬하면 :  [95, 90, 85, 80, 70]\n",
            "원본은 변하지 않음  scores :  [80, 90, 70, 85, 95]\n"
          ]
        }
      ]
    },
    {
      "cell_type": "code",
      "source": [
        "# 다양한 리스트 만들기 : 리스트는 데이터의 집합이다.  그리고 인덱스로 각각의 데이터를 관리한다\n",
        "city = ['서울','대전','대구','부산','광주','제주']\n",
        "# 대구를 출력해 보세요.. print(  city[2]  )\n",
        "print(  city[2]  )\n",
        "# 마지막 값을 출력해 보세요\n",
        "print( city[5]  )\n",
        "print( city[ len(city)-1 ] )"
      ],
      "metadata": {
        "colab": {
          "base_uri": "https://localhost:8080/"
        },
        "id": "s1iQME1q0JUv",
        "outputId": "aa2cb3b9-e4e5-4e5e-9326-b0af79e02a14"
      },
      "execution_count": 26,
      "outputs": [
        {
          "output_type": "stream",
          "name": "stdout",
          "text": [
            "대구\n",
            "제주\n",
            "제주\n"
          ]
        }
      ]
    },
    {
      "cell_type": "code",
      "source": [
        "# 숫자들로 이루어진 리스트를 만들어 보세요\n",
        "numbers = [1,2,3,4,5]\n",
        "# 리스트의 첫번째 데이터부터 마지막까지 출력\n",
        "print( numbers[0],numbers[1],numbers[2],numbers[3],numbers[4]   )"
      ],
      "metadata": {
        "colab": {
          "base_uri": "https://localhost:8080/"
        },
        "id": "IdlKesCZ2lPK",
        "outputId": "23ca33af-2339-4ff0-9a21-e38b2d408b79"
      },
      "execution_count": 27,
      "outputs": [
        {
          "output_type": "stream",
          "name": "stdout",
          "text": [
            "1 2 3 4 5\n"
          ]
        }
      ]
    },
    {
      "cell_type": "code",
      "source": [
        "# 문자열로 이루어진 리스트를 만들어 보세요 과일목록\n",
        "fruits = ['사과','바나나','파인애플','포도','딸기']\n",
        "# 리스트의 첫번째 데이터부터 마지막까지 출력\n",
        "print(fruits[0],fruits[1],fruits[2],fruits[3],fruits[4])"
      ],
      "metadata": {
        "colab": {
          "base_uri": "https://localhost:8080/"
        },
        "id": "9pKu0VhP4Z9D",
        "outputId": "2dacbb2f-69c8-40b7-d089-a1da2e7ff51e"
      },
      "execution_count": 28,
      "outputs": [
        {
          "output_type": "stream",
          "name": "stdout",
          "text": [
            "사과 바나나 파인애플 포도 딸기\n"
          ]
        }
      ]
    },
    {
      "cell_type": "code",
      "source": [
        "# 숫자와 문자열로 이루어진 즉 다양한 데이터의 리스트를 만들어 보세요\n",
        "# 리스트의 첫번째 데이터부터 마지막까지 출력\n",
        "list1 = [10, 12.5 ,\"test\",True]\n",
        "print(list1[0], list1[1], list1[2], list1[3])"
      ],
      "metadata": {
        "colab": {
          "base_uri": "https://localhost:8080/"
        },
        "id": "elRWSxOm5Ife",
        "outputId": "c929262d-885a-4931-8bf4-329d6224554e"
      },
      "execution_count": 29,
      "outputs": [
        {
          "output_type": "stream",
          "name": "stdout",
          "text": [
            "10 12.5 test True\n"
          ]
        }
      ]
    },
    {
      "cell_type": "code",
      "source": [
        "# input()을 이용해서 학생의 점수를 입력받는다. -- 총 5명\n",
        "# 5명의 점수중에서 가장 높은 점수는?\n",
        "# 1등과 2등의 점수는?\n",
        "# 모든학생들의 평균점수는?\n",
        "\n",
        "num1 =  int(input(\"점수를 입력하세요:\"))\n",
        "num2 =  int(input(\"점수를 입력하세요:\"))\n",
        "num3 =  int(input(\"점수를 입력하세요:\"))\n",
        "num4 =  int(input(\"점수를 입력하세요:\"))\n",
        "num5 =  int(input(\"점수를 입력하세요:\"))\n",
        "scores = [num1, num2, num3, num4, num5]\n",
        "print(\"가장높은 점수는 : \", max(scores) )\n",
        "# 내림차순으로 정렬해서 가장 앞에 있는 점수가 1등. 그 다음이 2등  [0], [1]\n",
        "scores = sorted(scores,reverse=True)  # 내림차순\n",
        "print(\"1등점수는:\",scores[0],\"2등점수는:\",scores[1])\n",
        "print(\"평균은:\",sum(scores) / len(scores))"
      ],
      "metadata": {
        "colab": {
          "base_uri": "https://localhost:8080/"
        },
        "id": "c38cCV4h5_N8",
        "outputId": "9a9a0d88-b23f-4a5d-a276-73b1b616239e"
      },
      "execution_count": 30,
      "outputs": [
        {
          "output_type": "stream",
          "name": "stdout",
          "text": [
            "점수를 입력하세요:85\n",
            "점수를 입력하세요:78\n",
            "점수를 입력하세요:88\n",
            "점수를 입력하세요:92\n",
            "점수를 입력하세요:91\n",
            "가장높은 점수는 :  92\n",
            "1등점수는: 92 2등점수는: 91\n",
            "평균은: 86.8\n"
          ]
        }
      ]
    },
    {
      "cell_type": "markdown",
      "source": [
        "인덱스\n",
        "  - 리스트의 각 순서  0번부터 시작한다."
      ],
      "metadata": {
        "id": "jPdebnoo_li2"
      }
    },
    {
      "cell_type": "code",
      "source": [
        "list1 = [1,2,3,4,5]\n",
        "print(list1[2])\n",
        "list1[2] = 100\n",
        "print(list1)"
      ],
      "metadata": {
        "colab": {
          "base_uri": "https://localhost:8080/"
        },
        "id": "BFKFABjI_Y2y",
        "outputId": "7b505986-454f-405f-9d58-7f555719d25e"
      },
      "execution_count": 32,
      "outputs": [
        {
          "output_type": "stream",
          "name": "stdout",
          "text": [
            "3\n",
            "[1, 2, 100, 4, 5]\n"
          ]
        }
      ]
    },
    {
      "cell_type": "code",
      "source": [
        "# 리스트 만들고 특정 위치(인덱스)의 값을 읽고 변경\n"
      ],
      "metadata": {
        "id": "u1dAHmvJ_uDT"
      },
      "execution_count": null,
      "outputs": []
    },
    {
      "cell_type": "code",
      "source": [
        "cities = ['서울','부산','인천','대구','대전','광주','울산','수원']\n",
        "print(cities[0:6])\n",
        "print(cities[:6])"
      ],
      "metadata": {
        "colab": {
          "base_uri": "https://localhost:8080/"
        },
        "id": "e6zn1XCkAnlu",
        "outputId": "301ae1a0-292b-41ea-9b0f-690651f3d2ea"
      },
      "execution_count": 33,
      "outputs": [
        {
          "output_type": "stream",
          "name": "stdout",
          "text": [
            "['서울', '부산', '인천', '대구', '대전', '광주']\n",
            "['서울', '부산', '인천', '대구', '대전', '광주']\n"
          ]
        }
      ]
    },
    {
      "cell_type": "code",
      "source": [
        "print(cities[6:8])\n",
        "print(cities[6:])"
      ],
      "metadata": {
        "colab": {
          "base_uri": "https://localhost:8080/"
        },
        "id": "H6m-gX7VC5Rf",
        "outputId": "8a1acd71-60d6-4ac3-9ef8-b11393c970bb"
      },
      "execution_count": 35,
      "outputs": [
        {
          "output_type": "stream",
          "name": "stdout",
          "text": [
            "['울산', '수원']\n",
            "['울산', '수원']\n"
          ]
        }
      ]
    },
    {
      "cell_type": "code",
      "source": [
        "print(cities[:])"
      ],
      "metadata": {
        "colab": {
          "base_uri": "https://localhost:8080/"
        },
        "id": "aSQdPoAnDAyd",
        "outputId": "f4403ce0-1c2c-4108-a82a-bfcbc9b60145"
      },
      "execution_count": 36,
      "outputs": [
        {
          "output_type": "stream",
          "name": "stdout",
          "text": [
            "['서울', '부산', '인천', '대구', '대전', '광주', '울산', '수원']\n"
          ]
        }
      ]
    },
    {
      "cell_type": "code",
      "source": [
        "numbers = [1,2,3,4,5,10,20,30,40,50]\n",
        "# 8:2로 분할\n",
        "train = numbers[ : 8]\n",
        "test = numbers[8 : ]\n",
        "print(train)\n",
        "print(test)"
      ],
      "metadata": {
        "colab": {
          "base_uri": "https://localhost:8080/"
        },
        "id": "I0_q0u3mDQfV",
        "outputId": "e85f342e-77ae-4e6e-940c-f867a4b50765"
      },
      "execution_count": 38,
      "outputs": [
        {
          "output_type": "stream",
          "name": "stdout",
          "text": [
            "[1, 2, 3, 4, 5, 10, 20, 30]\n",
            "[40, 50]\n"
          ]
        }
      ]
    },
    {
      "cell_type": "code",
      "source": [
        "# 2:8로 분할하면\n",
        "train = numbers[ : 2]\n",
        "test = numbers[ 2 : ]\n",
        "print(train)\n",
        "print(test)"
      ],
      "metadata": {
        "colab": {
          "base_uri": "https://localhost:8080/"
        },
        "id": "y7E_zCwxD-Ns",
        "outputId": "03c53ba3-172f-4d97-a0a5-9f4b5abebc92"
      },
      "execution_count": 39,
      "outputs": [
        {
          "output_type": "stream",
          "name": "stdout",
          "text": [
            "[1, 2]\n",
            "[3, 4, 5, 10, 20, 30, 40, 50]\n"
          ]
        }
      ]
    },
    {
      "cell_type": "code",
      "source": [
        "# cities 의 데이터를 7:3로 분할\n",
        "splitnum =  int(len(cities)*0.7)\n",
        "train = cities[ : splitnum]\n",
        "test =  cities[splitnum : ]\n",
        "print(train)\n",
        "print(test)"
      ],
      "metadata": {
        "colab": {
          "base_uri": "https://localhost:8080/"
        },
        "id": "JKOW-q63EweO",
        "outputId": "4561625e-7227-4b0c-c1cb-bf5974a1ad03"
      },
      "execution_count": 44,
      "outputs": [
        {
          "output_type": "stream",
          "name": "stdout",
          "text": [
            "['서울', '부산', '인천', '대구', '대전']\n",
            "['광주', '울산', '수원']\n"
          ]
        }
      ]
    },
    {
      "cell_type": "code",
      "source": [
        "# cities 리스트의 처음 데이터만 출력\n",
        "print(cities [0] )\n",
        "# cities 리스트의 처음 3개 데이터만 출력\n",
        "print(cities[ : 3])\n",
        "\n",
        "# cities 리스트의 마지막 데이터만 출력\n",
        "print(cities [-1] )\n",
        "# cities 리스트의 마지막 3개 데이터만 출력\n",
        "print(cities [-3 : ] )"
      ],
      "metadata": {
        "colab": {
          "base_uri": "https://localhost:8080/"
        },
        "id": "pt6R2kNTE0r8",
        "outputId": "9eef593e-197c-4661-b4cc-f02ae32b8985"
      },
      "execution_count": 46,
      "outputs": [
        {
          "output_type": "stream",
          "name": "stdout",
          "text": [
            "서울\n",
            "['서울', '부산', '인천']\n",
            "수원\n",
            "['광주', '울산', '수원']\n"
          ]
        }
      ]
    },
    {
      "cell_type": "code",
      "source": [
        "# 임의의 정수형 데이털 12개를 가지는 리스트 생성\n",
        "list1 = [2,5,8,4,1,6,5,7,8,9,5,4]\n",
        "# 앞에서 3개, 뒤에서 3개 출력\n",
        "print(list1[ : 3])\n",
        "print(list1[ -3 : ])\n",
        "# 리스트를 6:4로 분할  전체 개수에서 60%에 해당하는 숫자를 구해서 슬라이싱\n",
        "splitnum = int(len(list1)*0.6)\n",
        "print( list1[ : splitnum] )\n",
        "print( list1[splitnum : ] )"
      ],
      "metadata": {
        "colab": {
          "base_uri": "https://localhost:8080/"
        },
        "id": "D7vc7kb8GyI1",
        "outputId": "f0ad0df8-c94b-4ad6-b055-84cc43b00281"
      },
      "execution_count": 48,
      "outputs": [
        {
          "output_type": "stream",
          "name": "stdout",
          "text": [
            "[2, 5, 8]\n",
            "[9, 5, 4]\n",
            "[2, 5, 8, 4, 1, 6, 5]\n",
            "[7, 8, 9, 5, 4]\n"
          ]
        }
      ]
    },
    {
      "cell_type": "code",
      "source": [],
      "metadata": {
        "id": "Wx9Iu2CDIKea"
      },
      "execution_count": null,
      "outputs": []
    }
  ]
}