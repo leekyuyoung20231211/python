{
  "nbformat": 4,
  "nbformat_minor": 0,
  "metadata": {
    "colab": {
      "provenance": []
    },
    "kernelspec": {
      "name": "python3",
      "display_name": "Python 3"
    },
    "language_info": {
      "name": "python"
    }
  },
  "cells": [
    {
      "cell_type": "code",
      "execution_count": null,
      "metadata": {
        "id": "91t3_WIhcFFN"
      },
      "outputs": [],
      "source": []
    },
    {
      "cell_type": "markdown",
      "source": [
        "- 변수\n",
        "- 다양한 자료형\n",
        "  - 튜플, 리스트, 딕셔너리,셋 기타등등\n",
        "  - xml, json\n",
        "  - 리스트 : 슬라이싱\n",
        "\n",
        "- 제어문\n",
        "  - 조건문\n",
        "  - 순환문\n",
        "\n",
        "- 다양한 모듈 및 함수\n",
        "  - map, reduce, filter\n",
        "  - 리스트 컴프리핸션\n",
        "  - 람다\n",
        "\n",
        "- 예외처리\n",
        "\n",
        "- 파일 입출력\n",
        "  - csv파일\n",
        "\n",
        "- 객체지향\n",
        "  - 클래스\n",
        "    - 생성자\n",
        "    - 상속\n",
        "- 모듈 및 패키지\n",
        "  - 파이썬 파일\n",
        "  - install, import\n",
        "\n",
        "- 정규식\n",
        "  - re 모듈\n",
        "\n",
        "- 크롤링\n",
        "  - bs4\n",
        "  - urllib.request\n"
      ],
      "metadata": {
        "id": "u6nLosLHcVSZ"
      }
    },
    {
      "cell_type": "code",
      "source": [
        "# 학생정보를 튜플,리스트,딕셔너리로 다양하게 표현\n",
        "# 이름과 나이\n",
        "tuple_1 = ('홍길동',20)\n",
        "list_1 = ['홍길동',20]\n",
        "dict_1 = { '홍길동':20  }\n",
        "\n",
        "names = ['김씨','박씨','이씨']\n",
        "ages = [20,21,22]\n",
        "\n",
        "# 두개의 순차적인 리스트를 가지고 zip 함수를 통해 dictionary 데이터 만들기\n",
        "dict(zip(names,ages))"
      ],
      "metadata": {
        "colab": {
          "base_uri": "https://localhost:8080/"
        },
        "id": "PBu8o3-_dLPN",
        "outputId": "76b30fa2-07da-4b66-cff5-a9823d6c16bb"
      },
      "execution_count": 3,
      "outputs": [
        {
          "output_type": "execute_result",
          "data": {
            "text/plain": [
              "{'김씨': 20, '박씨': 21, '이씨': 22}"
            ]
          },
          "metadata": {},
          "execution_count": 3
        }
      ]
    },
    {
      "cell_type": "code",
      "source": [
        "# 리스트를 이용한 슬라이싱 연습\n",
        "# 데이터를 랜덤하게 20개 만들어서 리스트로 저장\n",
        "import random\n",
        "random.randint(0,100)  #  20번실행하면서 리스트에 저장\n",
        "\n",
        "list_1 = []\n",
        "for i in range(20):\n",
        "  list_1.append( random.randint(0,100) )\n",
        "list_1"
      ],
      "metadata": {
        "colab": {
          "base_uri": "https://localhost:8080/"
        },
        "id": "w02gCKMNd-Y-",
        "outputId": "9df1c6fb-c498-44b4-81c0-6dba5922ebb6"
      },
      "execution_count": 6,
      "outputs": [
        {
          "output_type": "execute_result",
          "data": {
            "text/plain": [
              "[13, 60, 6, 61, 71, 59, 18, 55, 93, 36, 17, 68, 5, 2, 94, 77, 12, 77, 13, 93]"
            ]
          },
          "metadata": {},
          "execution_count": 6
        }
      ]
    },
    {
      "cell_type": "code",
      "source": [
        "# list_1[시작인덱스 : 끝인덱스]\n",
        "# 시작인덱스를 생략하면 처음부터  list_1[ : 끝인덱스]   -->  ~~~ 끝은 끝인덱스-1\n",
        "# 끝인덱스를 생략하면 마지막  list_1[ 시작인덱스 : ]    --> 시작인덱스 부터 시작\n",
        "# list_1[ : ]  --> list_1의 데이터를 처음부터 끝까지 읽어서 새로운 변수에 할당 또는 출력.. 기타등등\n",
        "list_1[ : 5]  # 인덱스가 0 1 2 3 4"
      ],
      "metadata": {
        "colab": {
          "base_uri": "https://localhost:8080/"
        },
        "id": "kjWFgtEfg0En",
        "outputId": "34739b72-3a1d-4a59-bfe8-534f9ddc3ee8"
      },
      "execution_count": 7,
      "outputs": [
        {
          "output_type": "execute_result",
          "data": {
            "text/plain": [
              "[13, 60, 6, 61, 71]"
            ]
          },
          "metadata": {},
          "execution_count": 7
        }
      ]
    },
    {
      "cell_type": "code",
      "source": [
        "list_1[ 5: ]"
      ],
      "metadata": {
        "colab": {
          "base_uri": "https://localhost:8080/"
        },
        "id": "ZKy1xrqGlgpU",
        "outputId": "511b6952-c435-4d01-b601-2b42d1618938"
      },
      "execution_count": 8,
      "outputs": [
        {
          "output_type": "execute_result",
          "data": {
            "text/plain": [
              "[59, 18, 55, 93, 36, 17, 68, 5, 2, 94, 77, 12, 77, 13, 93]"
            ]
          },
          "metadata": {},
          "execution_count": 8
        }
      ]
    },
    {
      "cell_type": "code",
      "source": [
        "list_1[ 5: 10]"
      ],
      "metadata": {
        "colab": {
          "base_uri": "https://localhost:8080/"
        },
        "id": "tYeThuxClpJP",
        "outputId": "93360385-9eb4-4728-8b24-df05deae25eb"
      },
      "execution_count": 9,
      "outputs": [
        {
          "output_type": "execute_result",
          "data": {
            "text/plain": [
              "[59, 18, 55, 93, 36]"
            ]
          },
          "metadata": {},
          "execution_count": 9
        }
      ]
    },
    {
      "cell_type": "code",
      "source": [
        "# 리스트의 맨 마지막 데이터 : -1\n",
        "list_1[-1]"
      ],
      "metadata": {
        "colab": {
          "base_uri": "https://localhost:8080/"
        },
        "id": "S7JfIqRtl8jq",
        "outputId": "962dbff8-439f-421d-f13b-b7f5120b9b18"
      },
      "execution_count": 10,
      "outputs": [
        {
          "output_type": "execute_result",
          "data": {
            "text/plain": [
              "93"
            ]
          },
          "metadata": {},
          "execution_count": 10
        }
      ]
    },
    {
      "cell_type": "code",
      "source": [
        "#리스트의 앞에서 3개 그리고 뒤에서 3개만 추출\n",
        "list_1[:3], list_1[-3:]"
      ],
      "metadata": {
        "colab": {
          "base_uri": "https://localhost:8080/"
        },
        "id": "LjJS2tqumMpt",
        "outputId": "084c041d-c3ab-4173-8fb3-79c1c6dc39d7"
      },
      "execution_count": 11,
      "outputs": [
        {
          "output_type": "execute_result",
          "data": {
            "text/plain": [
              "([13, 60, 6], [77, 13, 93])"
            ]
          },
          "metadata": {},
          "execution_count": 11
        }
      ]
    },
    {
      "cell_type": "code",
      "source": [
        "# 인덱스 3 5 7 9 11 인 데이터를 출력\n",
        "# list_1[ 시작:끝:스텝]   스텝은 생략하면 기본이 1\n",
        "# 인덱스 3 4 5 6 7 8 9 10 11  --> list_1[3:12 : 1]\n",
        "list_1[3: 12: 2]"
      ],
      "metadata": {
        "colab": {
          "base_uri": "https://localhost:8080/"
        },
        "id": "eb-wTZWkmznh",
        "outputId": "ebf69758-70d7-45f0-ea02-f1d3d0fec0f1"
      },
      "execution_count": 14,
      "outputs": [
        {
          "output_type": "execute_result",
          "data": {
            "text/plain": [
              "[61, 59, 55, 36, 68]"
            ]
          },
          "metadata": {},
          "execution_count": 14
        }
      ]
    },
    {
      "cell_type": "code",
      "source": [
        "# 스텝을 -1을 사용하면---> reverse\n",
        "list_1[::-1]"
      ],
      "metadata": {
        "colab": {
          "base_uri": "https://localhost:8080/"
        },
        "id": "FT5I1seGnNP-",
        "outputId": "da09f5d5-7853-4e7d-8d9f-c127f3351fb2"
      },
      "execution_count": 15,
      "outputs": [
        {
          "output_type": "execute_result",
          "data": {
            "text/plain": [
              "[93, 13, 77, 12, 77, 94, 2, 5, 68, 17, 36, 93, 55, 18, 59, 71, 61, 6, 60, 13]"
            ]
          },
          "metadata": {},
          "execution_count": 15
        }
      ]
    },
    {
      "cell_type": "code",
      "source": [
        "# 정렬\n",
        "# 오름차순 asc  -->기본\n",
        "print( sorted(list_1) )\n",
        "# 내림차순 desc\n",
        "print( sorted(list_1,reverse=True))"
      ],
      "metadata": {
        "colab": {
          "base_uri": "https://localhost:8080/"
        },
        "id": "bhaqo9Kanv4N",
        "outputId": "ec89ec28-02d8-44c0-be20-8f3e0086a1be"
      },
      "execution_count": 18,
      "outputs": [
        {
          "output_type": "stream",
          "name": "stdout",
          "text": [
            "[2, 5, 6, 12, 13, 13, 17, 18, 36, 55, 59, 60, 61, 68, 71, 77, 77, 93, 93, 94]\n",
            "[94, 93, 93, 77, 77, 71, 68, 61, 60, 59, 55, 36, 18, 17, 13, 13, 12, 6, 5, 2]\n"
          ]
        }
      ]
    },
    {
      "cell_type": "code",
      "source": [
        "# 내림차순으로 정렬한 데이터를 7:3의 비율로\n",
        "# train, test 라는 변수에 저장해 보자\n",
        "# 만약에 데이턱 10라면 7:3 이면...  train 은 7개 test는 3\n",
        "# train = temp[: 7]\n",
        "# test = temp[7 : ]\n",
        "list_1_desc = sorted(list_1,reverse=True)\n",
        "split_index = len(list_1_desc)*7//10   #int(len(list_1_desc)*0.7)\n",
        "train = list_1_desc[: split_index]\n",
        "test = list_1_desc[split_index : ]\n",
        "print(train)\n",
        "print(test)"
      ],
      "metadata": {
        "colab": {
          "base_uri": "https://localhost:8080/"
        },
        "id": "tQs6i2IQn6Oo",
        "outputId": "c5e01ba3-8750-4f30-bf09-d484df50064c"
      },
      "execution_count": 19,
      "outputs": [
        {
          "output_type": "stream",
          "name": "stdout",
          "text": [
            "[94, 93, 93, 77, 77, 71, 68, 61, 60, 59, 55, 36, 18, 17]\n",
            "[13, 13, 12, 6, 5, 2]\n"
          ]
        }
      ]
    },
    {
      "cell_type": "code",
      "source": [
        "# 리스트 데이터 사용시 주의사항\n",
        "# 아래는 수치형 변수\n",
        "a = 10\n",
        "b = a   # ---------> 데이터 복사\n",
        "# a와 b는 같다\n",
        "print(a==b,a,b)\n",
        "a= 20\n",
        "print(a==b,a,b)"
      ],
      "metadata": {
        "colab": {
          "base_uri": "https://localhost:8080/"
        },
        "id": "1_bAqQ6_rDdq",
        "outputId": "51615353-b3e2-49e7-f2e0-89348c2b03e5"
      },
      "execution_count": 22,
      "outputs": [
        {
          "output_type": "stream",
          "name": "stdout",
          "text": [
            "True 10 10\n",
            "False 20 10\n"
          ]
        }
      ]
    },
    {
      "cell_type": "code",
      "source": [
        "# 자료구조형 변수들... 리스트 튜플 딕셔너리, 클래스의 객체등등.. 참조형 변수\n",
        "list_1 = [1,2,3,4]\n",
        "list_2 = list_1          # ----------------------> list_1과  list_2는 동일한 변수\n",
        "print(list_1==list_2, list_1, list_2)\n",
        "list_1[0] = 100\n",
        "print(list_1==list_2, list_1, list_2)"
      ],
      "metadata": {
        "colab": {
          "base_uri": "https://localhost:8080/"
        },
        "id": "ch7rLYoYrSet",
        "outputId": "9cdc84e8-c510-4cfb-8cd6-1cd2988198e4"
      },
      "execution_count": 25,
      "outputs": [
        {
          "output_type": "stream",
          "name": "stdout",
          "text": [
            "True [1, 2, 3, 4] [1, 2, 3, 4]\n",
            "True [100, 2, 3, 4] [100, 2, 3, 4]\n"
          ]
        }
      ]
    },
    {
      "cell_type": "code",
      "source": [
        "def changeInt(x):\n",
        "  x = 100\n",
        "  return x\n",
        "\n",
        "def changeList(x):\n",
        "  x[0] = 100\n",
        "\n",
        "x = 0\n",
        "x = changeInt(x)\n",
        "print(x) # -->\n",
        "\n",
        "x = [1,2,3,4]\n",
        "changeList(x)\n",
        "print(x) # -->"
      ],
      "metadata": {
        "colab": {
          "base_uri": "https://localhost:8080/"
        },
        "id": "zWt10OC5rwcA",
        "outputId": "b875f900-6394-4d92-f715-a0ded81986bf"
      },
      "execution_count": 27,
      "outputs": [
        {
          "output_type": "stream",
          "name": "stdout",
          "text": [
            "100\n",
            "[100, 2, 3, 4]\n"
          ]
        }
      ]
    },
    {
      "cell_type": "code",
      "source": [
        "# 나눗셈 함수를 만든다.. 매개 변수는 2개\n",
        "def divide(x,y):\n",
        "  if y!=0:\n",
        "    return int(x / y)\n",
        "  else:\n",
        "    return -1\n",
        "\n",
        "divide(-1,1)\n"
      ],
      "metadata": {
        "colab": {
          "base_uri": "https://localhost:8080/"
        },
        "id": "qcV_SRAdtoKn",
        "outputId": "8a361440-086b-4bfd-a47c-53fbf7d51fc5"
      },
      "execution_count": 38,
      "outputs": [
        {
          "output_type": "execute_result",
          "data": {
            "text/plain": [
              "-1"
            ]
          },
          "metadata": {},
          "execution_count": 38
        }
      ]
    },
    {
      "cell_type": "code",
      "source": [
        "def divide(args):\n",
        "  if args[1]!=0:\n",
        "    args[2] = args[0] / args[1]\n",
        "    return True\n",
        "  else:\n",
        "    return False\n",
        "\n",
        "args = [5,0,0]\n",
        "if divide(args):\n",
        "  print(args[2])\n",
        "else:\n",
        "  print('0으로 나눌수 없습니다.')"
      ],
      "metadata": {
        "colab": {
          "base_uri": "https://localhost:8080/"
        },
        "id": "hfLKqfDPuYu8",
        "outputId": "2244b256-8b93-4b46-e102-f6927ef1047c"
      },
      "execution_count": 43,
      "outputs": [
        {
          "output_type": "stream",
          "name": "stdout",
          "text": [
            "0으로 나눌수 없습니다.\n"
          ]
        }
      ]
    },
    {
      "cell_type": "code",
      "source": [],
      "metadata": {
        "id": "IoRGFjnkvNzs"
      },
      "execution_count": null,
      "outputs": []
    }
  ]
}