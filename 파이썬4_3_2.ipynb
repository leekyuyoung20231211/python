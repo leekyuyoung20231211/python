{
  "nbformat": 4,
  "nbformat_minor": 0,
  "metadata": {
    "colab": {
      "provenance": []
    },
    "kernelspec": {
      "name": "python3",
      "display_name": "Python 3"
    },
    "language_info": {
      "name": "python"
    }
  },
  "cells": [
    {
      "cell_type": "code",
      "execution_count": 1,
      "metadata": {
        "id": "3rToS-4tItmX"
      },
      "outputs": [],
      "source": [
        "# 구글 드라이버를 마운트해서 모듈 경로를 인식\n",
        "import sys\n",
        "sys.path.append('/content/drive/MyDrive/module')"
      ]
    },
    {
      "cell_type": "code",
      "source": [
        "import url_utils"
      ],
      "metadata": {
        "id": "SqVoGot3JwKq"
      },
      "execution_count": 2,
      "outputs": []
    },
    {
      "cell_type": "code",
      "source": [
        "url_utils.download_zip('https://github.com/leekyuyoung20231211/python/blob/main/downloadTest.zip')"
      ],
      "metadata": {
        "colab": {
          "base_uri": "https://localhost:8080/"
        },
        "id": "pcm6eaHMJzc5",
        "outputId": "58533ca9-aca2-4971-977b-8802613bf30e"
      },
      "execution_count": 3,
      "outputs": [
        {
          "output_type": "stream",
          "name": "stdout",
          "text": [
            "success download: downloadTest.zip\n"
          ]
        }
      ]
    },
    {
      "cell_type": "code",
      "source": [
        "import requests\n",
        "url = 'https://github.com/leekyuyoung20231211/python/blob/main/downloadTest.zip'\n",
        "response = requests.get(url)\n",
        "filename = url.split('/')[-1]\n",
        "# 바이너리 형태로 데이터를 쓰기\n",
        "with open(filename,'wb') as f:\n",
        "  f.write(response.content)"
      ],
      "metadata": {
        "id": "jWh7qKajJ5oT"
      },
      "execution_count": 4,
      "outputs": []
    },
    {
      "cell_type": "code",
      "source": [
        "!unzip '/content/downloadTest.zip'"
      ],
      "metadata": {
        "colab": {
          "base_uri": "https://localhost:8080/"
        },
        "id": "27zMG7h_Oaw0",
        "outputId": "9c170ab9-04c1-4543-b05e-01bfb54b18da"
      },
      "execution_count": 5,
      "outputs": [
        {
          "output_type": "stream",
          "name": "stdout",
          "text": [
            "Archive:  /content/downloadTest.zip\n",
            "  End-of-central-directory signature not found.  Either this file is not\n",
            "  a zipfile, or it constitutes one disk of a multi-part archive.  In the\n",
            "  latter case the central directory and zipfile comment will be found on\n",
            "  the last disk(s) of this archive.\n",
            "unzip:  cannot find zipfile directory in one of /content/downloadTest.zip or\n",
            "        /content/downloadTest.zip.zip, and cannot find /content/downloadTest.zip.ZIP, period.\n"
          ]
        }
      ]
    },
    {
      "cell_type": "markdown",
      "source": [
        "정규표현식을 써서 웹사이트 의 데이터 파싱하기"
      ],
      "metadata": {
        "id": "rGtVoJwzUFGT"
      }
    },
    {
      "cell_type": "code",
      "source": [
        "import re # 정규표현식 적용해 주는 모듈\n",
        "import urllib.request  # 웹사이트에 url 주소를 요청해서 각종정보를 취득하는 모듈"
      ],
      "metadata": {
        "id": "RdrsdNAMPEhE"
      },
      "execution_count": 6,
      "outputs": []
    },
    {
      "cell_type": "code",
      "source": [
        "# https형태가 아닌 url 은 보안상 코렙에서 거부\n",
        "# 가상환경을 설치하고 로컬에서는 가능\n",
        "url = 'http://www.itemmania.com/notice/view.html?pub=PORTAL&type=all&nowPage=1&id=1542'\n",
        "html = urllib.request.urlopen(url)  # 객체로 저장된다\n",
        "html_contents = str(html.read())  # 사이트정보를 읽어옮\n",
        "# 읽어온 데이터중에 문자열*** 형태로 되어 있는 문자열을 parsing 한다\n",
        "id_results = re.findall(r\"([A-Za-z0-9]+\\*\\*\\*)\" , html_contents)\n",
        "id_results"
      ],
      "metadata": {
        "id": "zeTKkHgoUXto"
      },
      "execution_count": null,
      "outputs": []
    },
    {
      "cell_type": "code",
      "source": [
        "# /content/아이템매니아.html 읽어서 정규표현식에 적용\n",
        "with open('/content/아이템매니아.html', 'r')  as f:\n",
        "  html_contents = f.read()\n",
        "  id_results = re.findall(r\"([A-Za-z0-9]+\\*\\*\\*)\" , html_contents)\n",
        "id_results"
      ],
      "metadata": {
        "colab": {
          "base_uri": "https://localhost:8080/"
        },
        "id": "ra0t0TqkVh9l",
        "outputId": "7869322e-2e0d-4563-d07b-d5811d0855aa"
      },
      "execution_count": 13,
      "outputs": [
        {
          "output_type": "execute_result",
          "data": {
            "text/plain": [
              "['codo***',\n",
              " 'outb7***',\n",
              " 'dubba4***',\n",
              " 'multicuspi***',\n",
              " 'crownm***',\n",
              " 'triformo***',\n",
              " 'spania***',\n",
              " 'magazin***',\n",
              " 'presby***',\n",
              " 'trophody***',\n",
              " 'nontr***',\n",
              " 'enranck***',\n",
              " 'canc***',\n",
              " 'uncanker***',\n",
              " 'wrymo***',\n",
              " 'non***',\n",
              " 'luminat***',\n",
              " 'oblig***',\n",
              " 'anna***',\n",
              " 'hyperth***',\n",
              " 'toplabl***',\n",
              " 'dolce0***',\n",
              " 'rudals2***',\n",
              " 'jjw980***',\n",
              " 'elvlz***',\n",
              " 'skmid***',\n",
              " 'qkep***',\n",
              " 'kisslov***',\n",
              " 'maskman***',\n",
              " 'sungt***']"
            ]
          },
          "metadata": {},
          "execution_count": 13
        }
      ]
    },
    {
      "cell_type": "code",
      "source": [],
      "metadata": {
        "id": "vIQPISzEXgrZ"
      },
      "execution_count": null,
      "outputs": []
    }
  ]
}