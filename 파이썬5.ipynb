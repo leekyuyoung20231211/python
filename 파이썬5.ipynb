{
  "nbformat": 4,
  "nbformat_minor": 0,
  "metadata": {
    "colab": {
      "provenance": []
    },
    "kernelspec": {
      "name": "python3",
      "display_name": "Python 3"
    },
    "language_info": {
      "name": "python"
    }
  },
  "cells": [
    {
      "cell_type": "markdown",
      "source": [
        "순환문"
      ],
      "metadata": {
        "id": "S62UDYAjAz1V"
      }
    },
    {
      "cell_type": "code",
      "source": [
        "range(10)  # 0 ~ 9"
      ],
      "metadata": {
        "colab": {
          "base_uri": "https://localhost:8080/"
        },
        "id": "yRwjSQJgBUXl",
        "outputId": "2cafa202-c799-4a78-ee7b-30e6042adf71"
      },
      "execution_count": null,
      "outputs": [
        {
          "output_type": "execute_result",
          "data": {
            "text/plain": [
              "range(0, 10)"
            ]
          },
          "metadata": {},
          "execution_count": 3
        }
      ]
    },
    {
      "cell_type": "code",
      "source": [
        "list( range(10) )"
      ],
      "metadata": {
        "colab": {
          "base_uri": "https://localhost:8080/"
        },
        "id": "Nzf27NwbCCge",
        "outputId": "c3966873-abf5-4e42-f2fc-3332a8ef0e2b"
      },
      "execution_count": null,
      "outputs": [
        {
          "output_type": "execute_result",
          "data": {
            "text/plain": [
              "[0, 1, 2, 3, 4, 5, 6, 7, 8, 9]"
            ]
          },
          "metadata": {},
          "execution_count": 4
        }
      ]
    },
    {
      "cell_type": "code",
      "source": [
        "list( range(1,11) )"
      ],
      "metadata": {
        "colab": {
          "base_uri": "https://localhost:8080/"
        },
        "id": "wlqwxZxiCGzM",
        "outputId": "6055f209-ec8b-4d85-9cb8-2463458fab1a"
      },
      "execution_count": null,
      "outputs": [
        {
          "output_type": "execute_result",
          "data": {
            "text/plain": [
              "[1, 2, 3, 4, 5, 6, 7, 8, 9, 10]"
            ]
          },
          "metadata": {},
          "execution_count": 6
        }
      ]
    },
    {
      "cell_type": "code",
      "source": [
        "for i in range(1,11):\n",
        "  print(i)"
      ],
      "metadata": {
        "colab": {
          "base_uri": "https://localhost:8080/"
        },
        "id": "OwZe0EoQCN4M",
        "outputId": "7842d6a5-c2f0-47f8-c1b0-176fb2f75db8"
      },
      "execution_count": null,
      "outputs": [
        {
          "output_type": "stream",
          "name": "stdout",
          "text": [
            "1\n",
            "2\n",
            "3\n",
            "4\n",
            "5\n",
            "6\n",
            "7\n",
            "8\n",
            "9\n",
            "10\n"
          ]
        }
      ]
    },
    {
      "cell_type": "code",
      "source": [
        "for i in [10, 5, 8, 9, 1]:\n",
        "  print(i)"
      ],
      "metadata": {
        "colab": {
          "base_uri": "https://localhost:8080/"
        },
        "id": "Iv7IPQSkCwTd",
        "outputId": "cc88ae6c-bd13-4e4b-e382-c59922e5ef9e"
      },
      "execution_count": null,
      "outputs": [
        {
          "output_type": "stream",
          "name": "stdout",
          "text": [
            "10\n",
            "5\n",
            "8\n",
            "9\n",
            "1\n"
          ]
        }
      ]
    },
    {
      "cell_type": "markdown",
      "source": [
        "for문의 문법은   for  변수 in 집합:\n",
        "  - for i in range(5): --> 5번 반복\n",
        "  - for i in [1,2,3] :  --> 3번 반복"
      ],
      "metadata": {
        "id": "bQeU94UkGwIK"
      }
    },
    {
      "cell_type": "code",
      "source": [
        "# 3개의 점수를 받아서.. .....\n",
        "list1 = []\n",
        "list1.append( int( input(\"점수를 입력하세요:\") )   )\n",
        "list1.append( int( input(\"점수를 입력하세요:\") )   )\n",
        "list1.append( int( input(\"점수를 입력하세요:\") )   )\n",
        "print('총점은 :',sum(list1)  )\n"
      ],
      "metadata": {
        "colab": {
          "base_uri": "https://localhost:8080/"
        },
        "id": "u6mEx1hAC_oc",
        "outputId": "1f6a6b70-5140-4cd0-fb2b-b5ca558413aa"
      },
      "execution_count": null,
      "outputs": [
        {
          "output_type": "stream",
          "name": "stdout",
          "text": [
            "점수를 입력하세요:10\n",
            "점수를 입력하세요:20\n",
            "점수를 입력하세요:30\n",
            "총점은 : 60\n"
          ]
        }
      ]
    },
    {
      "cell_type": "code",
      "source": [
        "list1 = []\n",
        "for i in range(3):\n",
        "  list1.append( int( input(\"점수를 입력하세요:\") )   )\n",
        "print('총점은 :',sum(list1)  )"
      ],
      "metadata": {
        "colab": {
          "base_uri": "https://localhost:8080/"
        },
        "id": "QQF7HeOmHWbR",
        "outputId": "ba5abf7d-e2f6-4295-e0b8-9efd7ee8e5dd"
      },
      "execution_count": null,
      "outputs": [
        {
          "output_type": "stream",
          "name": "stdout",
          "text": [
            "점수를 입력하세요:10\n",
            "점수를 입력하세요:20\n",
            "점수를 입력하세요:30\n",
            "총점은 : 60\n"
          ]
        }
      ]
    },
    {
      "cell_type": "code",
      "source": [
        "#구구단 중에 5단\n",
        "# print('5 x 1 = 5')\n",
        "# print('5 x 2 = 10')\n",
        "# print('5 x 3 = 15')\n",
        "# print('5 x 4 = 20')\n",
        "# # ....\n",
        "# print('5 x 9 = 45')\n",
        "# -->\n",
        "i = 1\n",
        "print('5 x',i,'=',5*i)\n",
        "i = 2\n",
        "print('5 x',i,'=',5*i)\n",
        "i = 3\n",
        "print('5 x',i,'=',5*i)"
      ],
      "metadata": {
        "colab": {
          "base_uri": "https://localhost:8080/"
        },
        "id": "Hp3k5cCyHsj-",
        "outputId": "64804c38-c6d6-43e0-b852-8aad99fe7b31"
      },
      "execution_count": null,
      "outputs": [
        {
          "output_type": "stream",
          "name": "stdout",
          "text": [
            "5 x 1 = 5\n",
            "5 x 2 = 10\n",
            "5 x 3 = 15\n"
          ]
        }
      ]
    },
    {
      "cell_type": "code",
      "source": [
        "for i in range(1,10):\n",
        "  print('5 x',i,'=',5*i)"
      ],
      "metadata": {
        "colab": {
          "base_uri": "https://localhost:8080/"
        },
        "id": "2ylsACx7IP2Q",
        "outputId": "4e1e782a-19a2-4e2b-964f-56022a7d5a10"
      },
      "execution_count": null,
      "outputs": [
        {
          "output_type": "stream",
          "name": "stdout",
          "text": [
            "5 x 1 = 5\n",
            "5 x 2 = 10\n",
            "5 x 3 = 15\n",
            "5 x 4 = 20\n",
            "5 x 5 = 25\n",
            "5 x 6 = 30\n",
            "5 x 7 = 35\n",
            "5 x 8 = 40\n",
            "5 x 9 = 45\n"
          ]
        }
      ]
    },
    {
      "cell_type": "code",
      "source": [
        "i = 1\n",
        "i += 2\n",
        "i += 3\n",
        "#  1 + 2 + 3\n",
        "# 1 부터 10까지 더한 합은?\n",
        "print(1+2+3+4+5+6+7+8+9+10)"
      ],
      "metadata": {
        "colab": {
          "base_uri": "https://localhost:8080/"
        },
        "id": "TKNxZNjbIqlk",
        "outputId": "ae72cbe2-ce40-44db-975e-9d260c7d19e2"
      },
      "execution_count": null,
      "outputs": [
        {
          "output_type": "stream",
          "name": "stdout",
          "text": [
            "55\n"
          ]
        }
      ]
    },
    {
      "cell_type": "code",
      "source": [
        "# sum = 0  예약어는 항상 조심 또 조심\n",
        "total = 0\n",
        "for i in range(1,11):\n",
        "  total += i\n",
        "print('1부터 10까지의 합은 : ', total)"
      ],
      "metadata": {
        "colab": {
          "base_uri": "https://localhost:8080/"
        },
        "id": "DDW2JoD8JLnx",
        "outputId": "799cd040-404f-47b3-e30e-c9a08c917708"
      },
      "execution_count": null,
      "outputs": [
        {
          "output_type": "stream",
          "name": "stdout",
          "text": [
            "1부터 10까지의 합은 :  55\n"
          ]
        }
      ]
    },
    {
      "cell_type": "code",
      "source": [
        "# 1부터 10까지의 숫자중에 짝수만 출력\n",
        "for i in range(1,11):\n",
        "  if i % 2 ==0: # 짝수조건\n",
        "    print(i)"
      ],
      "metadata": {
        "colab": {
          "base_uri": "https://localhost:8080/"
        },
        "id": "cbKBnx2DJsyX",
        "outputId": "0161bb2b-5255-44f0-be22-18afcc011ef8"
      },
      "execution_count": null,
      "outputs": [
        {
          "output_type": "stream",
          "name": "stdout",
          "text": [
            "2\n",
            "4\n",
            "6\n",
            "8\n",
            "10\n"
          ]
        }
      ]
    },
    {
      "cell_type": "code",
      "source": [
        "# 2000년도부터 올해2050년 중에 윤년에 해당하는 년도만 출력\n",
        "for year in range(2000, 2051):\n",
        "  if year % 4 == 0 and not (year % 100 ==0 and year % 400 != 0) :\n",
        "    print(year)"
      ],
      "metadata": {
        "colab": {
          "base_uri": "https://localhost:8080/"
        },
        "id": "sZKiU-M9KG3D",
        "outputId": "1f4c334b-febe-4272-8a5a-852d68b46b18"
      },
      "execution_count": null,
      "outputs": [
        {
          "output_type": "stream",
          "name": "stdout",
          "text": [
            "2000\n",
            "2004\n",
            "2008\n",
            "2012\n",
            "2016\n",
            "2020\n",
            "2024\n",
            "2028\n",
            "2032\n",
            "2036\n",
            "2040\n",
            "2044\n",
            "2048\n"
          ]
        }
      ]
    },
    {
      "cell_type": "markdown",
      "source": [
        "- for 문은 순서대로 반복할 수 있는 객체의 각 요소에 대해\n",
        "- while 문은 특정 조건이 충족될 때까지"
      ],
      "metadata": {
        "id": "omrDIso6N-bS"
      }
    },
    {
      "cell_type": "code",
      "source": [
        "i = 1\n",
        "while i <= 10:\n",
        "  print(i)\n",
        "  i += 1"
      ],
      "metadata": {
        "id": "SfWCuwlkNkG8"
      },
      "execution_count": null,
      "outputs": []
    },
    {
      "cell_type": "code",
      "source": [
        "for i in range(1,11):\n",
        "  print(i)"
      ],
      "metadata": {
        "id": "2tTrtphdORj5"
      },
      "execution_count": null,
      "outputs": []
    },
    {
      "cell_type": "code",
      "source": [
        "data = 'y'\n",
        "while data == 'y':\n",
        "  print(\"hello\")\n",
        "  data = input(\"계속하시겠습니까(y):\")\n",
        "\n",
        "print(\"순환문이 종료되었습니다.\")"
      ],
      "metadata": {
        "id": "EPqocgTwOcz8"
      },
      "execution_count": null,
      "outputs": []
    },
    {
      "cell_type": "code",
      "source": [
        "# 3명의 점수를 입력받아서 평균을 출력  --> for 문\n",
        "# 그 과정을 매번 물어봐서 계속하겠다고 하면 반복  for문 자체를 while문이 감싸는 구조\n",
        "\n",
        "isContinue = 'y'\n",
        "count = 0\n",
        "all_avg = 0.0;\n",
        "while isContinue == 'y':\n",
        "  count += 1\n",
        "  scores = []\n",
        "  for i in range(3):\n",
        "    scores.append( int( input(\"점수를 입력하세요:\") )  )\n",
        "  print('평균은:', round(sum(scores) / len(scores), 2) )\n",
        "  all_avg += round(sum(scores) / len(scores), 2)\n",
        "  isContinue = input(\"계속하시겠습니까?(y)\")\n",
        "\n",
        "print('총',count,'만큼 실행했고 전체평균은',round(all_avg / count,2))\n"
      ],
      "metadata": {
        "id": "uxPglAdKPWMa"
      },
      "execution_count": null,
      "outputs": []
    },
    {
      "cell_type": "code",
      "source": [
        "while True:\n",
        "  print(\"hello\")\n",
        "  if input('계속하시겠습니까(y)') != 'y':\n",
        "    break"
      ],
      "metadata": {
        "colab": {
          "base_uri": "https://localhost:8080/"
        },
        "id": "21s9N3YrTxYo",
        "outputId": "c330aaa4-ac60-4175-f49b-7e6e05b0b009"
      },
      "execution_count": null,
      "outputs": [
        {
          "name": "stdout",
          "output_type": "stream",
          "text": [
            "hello\n",
            "계속하시겠습니까(y)y\n",
            "hello\n",
            "계속하시겠습니까(y)y\n",
            "hello\n",
            "계속하시겠습니까(y)y\n",
            "hello\n",
            "계속하시겠습니까(y)n\n"
          ]
        }
      ]
    },
    {
      "cell_type": "markdown",
      "source": [
        "- break 문은 루프를 즉시 종료합니다.\n",
        "- 루프에서 break 문을 만나면 루프 내부의 나머지 코드는 실행되지 않습니다."
      ],
      "metadata": {
        "id": "fEWwIQ91WK5C"
      }
    },
    {
      "cell_type": "code",
      "source": [
        "for i in range(10):\n",
        "  print(i,end=\" \")"
      ],
      "metadata": {
        "colab": {
          "base_uri": "https://localhost:8080/"
        },
        "id": "y_nLeAZFXbzh",
        "outputId": "e363b579-099f-46e6-a387-467868c10ffa"
      },
      "execution_count": 49,
      "outputs": [
        {
          "output_type": "stream",
          "name": "stdout",
          "text": [
            "0 1 2 3 4 5 6 7 8 9 "
          ]
        }
      ]
    },
    {
      "cell_type": "code",
      "source": [
        "for i in range(10):\n",
        "  if i == 5:  # 5일때 break 실행\n",
        "    break\n",
        "  print(i,end=\" \")"
      ],
      "metadata": {
        "colab": {
          "base_uri": "https://localhost:8080/"
        },
        "id": "llt-Sjk0VKxf",
        "outputId": "6f86ad1d-f645-41cd-ff94-b85fdd66471a"
      },
      "execution_count": 52,
      "outputs": [
        {
          "output_type": "stream",
          "name": "stdout",
          "text": [
            "0 1 2 3 4 "
          ]
        }
      ]
    },
    {
      "cell_type": "code",
      "source": [
        "for i in range(10):\n",
        "  if i == 5:  # 5일때 continue 실행\n",
        "    continue\n",
        "  print(i, end=\" \")"
      ],
      "metadata": {
        "id": "5KySaehQWhqg",
        "colab": {
          "base_uri": "https://localhost:8080/"
        },
        "outputId": "bdbec769-86ad-467c-a997-5bba2994d022"
      },
      "execution_count": 53,
      "outputs": [
        {
          "output_type": "stream",
          "name": "stdout",
          "text": [
            "0 1 2 3 4 6 7 8 9 "
          ]
        }
      ]
    },
    {
      "cell_type": "code",
      "source": [
        "for i in range(10):\n",
        "  if i == 3 or i == 7:\n",
        "    continue\n",
        "  print(i, end=\" \")"
      ],
      "metadata": {
        "colab": {
          "base_uri": "https://localhost:8080/"
        },
        "id": "85gh6EZOXYa_",
        "outputId": "9a6dad23-6538-461f-f44c-0b9745e3f013"
      },
      "execution_count": 54,
      "outputs": [
        {
          "output_type": "stream",
          "name": "stdout",
          "text": [
            "0 1 2 4 5 6 8 9 "
          ]
        }
      ]
    },
    {
      "cell_type": "markdown",
      "source": [
        "모든 블럭은 중첩이 가능하다\n",
        "  - 조건문 안에 조건문\n",
        "  - 조건문 안에 순환도\n",
        "  - 순환문 안에 조건문\n",
        "  - 순환문 안에 순환문"
      ],
      "metadata": {
        "id": "wedN8cs2bTKY"
      }
    },
    {
      "cell_type": "code",
      "source": [
        "for i in range(3):\n",
        "  for j in range(4):\n",
        "    print('i:',i,\" j:\",j, end=\"\\t\")\n",
        "  print()\n"
      ],
      "metadata": {
        "colab": {
          "base_uri": "https://localhost:8080/"
        },
        "id": "P7ELZknoYtu0",
        "outputId": "348496ce-0a40-44bd-f267-2b16927aab79"
      },
      "execution_count": 56,
      "outputs": [
        {
          "output_type": "stream",
          "name": "stdout",
          "text": [
            "i: 0  j: 0\ti: 0  j: 1\ti: 0  j: 2\ti: 0  j: 3\t\n",
            "i: 1  j: 0\ti: 1  j: 1\ti: 1  j: 2\ti: 1  j: 3\t\n",
            "i: 2  j: 0\ti: 2  j: 1\ti: 2  j: 2\ti: 2  j: 3\t\n"
          ]
        }
      ]
    },
    {
      "cell_type": "code",
      "source": [
        "i = 1\n",
        "print(f'2 x {i} = {2*i}')\n",
        "\n",
        "i = 2\n",
        "print(f'2 x {i} = {2*i}')\n",
        "\n",
        "# for i in range(1,10):\n",
        "#   print(f'2 x {i} = {2*i}')"
      ],
      "metadata": {
        "colab": {
          "base_uri": "https://localhost:8080/"
        },
        "id": "G541Agalc7yP",
        "outputId": "32fcac06-e211-4c6b-8cf0-7ee54bf05b37"
      },
      "execution_count": 64,
      "outputs": [
        {
          "output_type": "stream",
          "name": "stdout",
          "text": [
            "2 x 1 = 2\n",
            "2 x 2 = 4\n"
          ]
        }
      ]
    },
    {
      "cell_type": "code",
      "source": [
        "# 2단 출력\n",
        "i = 2\n",
        "for j in range(1,10):\n",
        "  print(f'{i} x {j} = {i*j}')\n",
        "print()\n",
        "\n",
        "i = 3\n",
        "for j in range(1,10):\n",
        "  print(f'{i} x {j} = {i*j}')\n",
        "print()\n",
        "\n",
        "i = 4\n",
        "for j in range(1,10):\n",
        "  print(f'{i} x {j} = {i*j}')\n",
        "print()"
      ],
      "metadata": {
        "id": "ExxglgXEbpO9"
      },
      "execution_count": null,
      "outputs": []
    },
    {
      "cell_type": "code",
      "source": [
        "for i in range(2,10):\n",
        "  for j in range(1,10):\n",
        "    print(f'{i} x {j} = {i*j}')\n",
        "  print()"
      ],
      "metadata": {
        "id": "xHl91Gm4ca54"
      },
      "execution_count": null,
      "outputs": []
    },
    {
      "cell_type": "code",
      "source": [
        "sentence = \"i love you\"\n",
        "# sentence[::-1]\n",
        "for i in range(-1,-len(sentence)-1,-1):\n",
        "  print(sentence[i],end=\"\")"
      ],
      "metadata": {
        "colab": {
          "base_uri": "https://localhost:8080/"
        },
        "id": "l67w88QNfGPy",
        "outputId": "b345770e-f945-45bd-e7cd-0e3a9466e2df"
      },
      "execution_count": 82,
      "outputs": [
        {
          "output_type": "stream",
          "name": "stdout",
          "text": [
            "uoy evol i"
          ]
        }
      ]
    },
    {
      "cell_type": "code",
      "source": [
        "sentence = \"i love you\"\n",
        "reverse_sentence = \"\"\n",
        "for char in sentence:\n",
        "  reverse_sentence = char + reverse_sentence\n",
        "print(reverse_sentence)"
      ],
      "metadata": {
        "colab": {
          "base_uri": "https://localhost:8080/"
        },
        "id": "MPTJPL-gf_Te",
        "outputId": "416af753-3efa-4332-c71d-dc9940e11d8b"
      },
      "execution_count": 81,
      "outputs": [
        {
          "output_type": "stream",
          "name": "stdout",
          "text": [
            "uoy evol i\n"
          ]
        }
      ]
    },
    {
      "cell_type": "code",
      "source": [
        "# 회문...... 앞뒤가 같은 문장.\n",
        "str = 'olo'\n",
        "# 문자열을 입력받아서 그 문자열이 회문인지 판단하는 로직\n",
        "str = input(\"문자열을 입력하세요:\")\n",
        "reverse_str = str[::-1]\n",
        "if str == reverse_str:\n",
        "  print(\"회문 입니다.\")"
      ],
      "metadata": {
        "colab": {
          "base_uri": "https://localhost:8080/"
        },
        "id": "T8jY_PmXhVgY",
        "outputId": "3872309e-adee-4c6a-e29f-decaf04dfe8e"
      },
      "execution_count": 84,
      "outputs": [
        {
          "output_type": "stream",
          "name": "stdout",
          "text": [
            "문자열을 입력하세요:aba\n",
            "회문 입니다.\n"
          ]
        }
      ]
    },
    {
      "cell_type": "code",
      "source": [
        "# 0과 10사이의 임의의 수를 입력받아서\n",
        "num = int(input(\"0~10사이의 정수를 입력하세요:\"))\n",
        "# 해당값의 합이 50을 넘어가면 종료하고 그 합을 출력하고 몇번 했는지 카운트도세서 출력\n",
        "\n",
        "\n"
      ],
      "metadata": {
        "id": "wtzmMDDziqIa"
      },
      "execution_count": null,
      "outputs": []
    }
  ]
}