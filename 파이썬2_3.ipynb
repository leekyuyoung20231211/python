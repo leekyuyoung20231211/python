{
  "nbformat": 4,
  "nbformat_minor": 0,
  "metadata": {
    "colab": {
      "provenance": []
    },
    "kernelspec": {
      "name": "python3",
      "display_name": "Python 3"
    },
    "language_info": {
      "name": "python"
    }
  },
  "cells": [
    {
      "cell_type": "code",
      "execution_count": null,
      "metadata": {
        "colab": {
          "base_uri": "https://localhost:8080/",
          "height": 35
        },
        "id": "huvwm37Nw-wk",
        "outputId": "60be54f5-234e-4a22-c919-dbfe1a39d30e"
      },
      "outputs": [
        {
          "output_type": "execute_result",
          "data": {
            "text/plain": [
              "'12121212abc'"
            ],
            "application/vnd.google.colaboratory.intrinsic+json": {
              "type": "string"
            }
          },
          "metadata": {},
          "execution_count": 1
        }
      ],
      "source": [
        "str(12121212) + \"abc\""
      ]
    },
    {
      "cell_type": "code",
      "source": [
        "temp = \"abcdefg\"\n",
        "print(temp[0])"
      ],
      "metadata": {
        "colab": {
          "base_uri": "https://localhost:8080/"
        },
        "id": "s2PvTem3xLVq",
        "outputId": "32b1f3b4-972a-4730-d80c-b397b1c4eb28"
      },
      "execution_count": null,
      "outputs": [
        {
          "output_type": "stream",
          "name": "stdout",
          "text": [
            "a\n"
          ]
        }
      ]
    },
    {
      "cell_type": "code",
      "source": [
        "for i in temp:\n",
        "  print(i)"
      ],
      "metadata": {
        "colab": {
          "base_uri": "https://localhost:8080/"
        },
        "id": "n2U1MWJZxVS3",
        "outputId": "9f8e7bb9-d3ee-4f9b-e5ce-687a20ff301c"
      },
      "execution_count": null,
      "outputs": [
        {
          "output_type": "stream",
          "name": "stdout",
          "text": [
            "a\n",
            "b\n",
            "c\n",
            "d\n",
            "e\n",
            "f\n",
            "g\n"
          ]
        }
      ]
    },
    {
      "cell_type": "code",
      "source": [
        "'b' in temp"
      ],
      "metadata": {
        "colab": {
          "base_uri": "https://localhost:8080/"
        },
        "id": "mhQXysv2xcYs",
        "outputId": "f9411f8f-20cd-473c-9d8c-d146b776eda9"
      },
      "execution_count": null,
      "outputs": [
        {
          "output_type": "execute_result",
          "data": {
            "text/plain": [
              "True"
            ]
          },
          "metadata": {},
          "execution_count": 4
        }
      ]
    },
    {
      "cell_type": "code",
      "source": [
        "temp = 'abc def ghi jkl mno'\n",
        "temp.split()  # 기본이 공백  split은 공백을 기준으로 분리해서 리스로 반환"
      ],
      "metadata": {
        "colab": {
          "base_uri": "https://localhost:8080/"
        },
        "id": "sfA5M_BOxga7",
        "outputId": "2ccc3605-50eb-4cda-d392-009d6f263cfc"
      },
      "execution_count": null,
      "outputs": [
        {
          "output_type": "execute_result",
          "data": {
            "text/plain": [
              "['abc', 'def', 'ghi', 'jkl', 'mno']"
            ]
          },
          "metadata": {},
          "execution_count": 6
        }
      ]
    },
    {
      "cell_type": "code",
      "source": [
        "temp = 'abc,def,ghi,jkl,mno'\n",
        "temp.split(\",\")"
      ],
      "metadata": {
        "colab": {
          "base_uri": "https://localhost:8080/"
        },
        "id": "xOpUG7QFxrlj",
        "outputId": "136ae057-262f-40bf-9509-da92ca5d3bf2"
      },
      "execution_count": null,
      "outputs": [
        {
          "output_type": "execute_result",
          "data": {
            "text/plain": [
              "['abc', 'def', 'ghi', 'jkl', 'mno']"
            ]
          },
          "metadata": {},
          "execution_count": 7
        }
      ]
    },
    {
      "cell_type": "code",
      "source": [
        "temp = input(\"공백을 기준으로 숫자를 3개 입력하세요\")\n",
        "print(temp)"
      ],
      "metadata": {
        "colab": {
          "base_uri": "https://localhost:8080/"
        },
        "id": "_Voud33hxxgV",
        "outputId": "c8d282de-1e6b-4b0d-f126-1f6ae3142b85"
      },
      "execution_count": null,
      "outputs": [
        {
          "output_type": "stream",
          "name": "stdout",
          "text": [
            "공백을 기준으로 숫자를 3개 입력하세요10 20 30\n",
            "10 20 30\n"
          ]
        }
      ]
    },
    {
      "cell_type": "code",
      "source": [
        "temp = input(\"공백을 기준으로 숫자를 3개 입력하세요\").split()\n",
        "print(temp)"
      ],
      "metadata": {
        "colab": {
          "base_uri": "https://localhost:8080/"
        },
        "id": "FP0I3sqfyGjH",
        "outputId": "3574e001-1e2c-4312-9291-163ee545b720"
      },
      "execution_count": null,
      "outputs": [
        {
          "output_type": "stream",
          "name": "stdout",
          "text": [
            "공백을 기준으로 숫자를 3개 입력하세요10 20 30\n",
            "['10', '20', '30']\n"
          ]
        }
      ]
    },
    {
      "cell_type": "code",
      "source": [
        "temp = input(\"공백을 기준으로 숫자를 3개 입력하세요\").split()\n",
        "number_list = []\n",
        "for i in temp:\n",
        "  number_list.append(int(i))\n",
        "\n",
        "print(number_list)\n"
      ],
      "metadata": {
        "colab": {
          "base_uri": "https://localhost:8080/"
        },
        "id": "puTQB9s7yTIH",
        "outputId": "07b7ec13-b521-4dc7-964c-3c5307985025"
      },
      "execution_count": null,
      "outputs": [
        {
          "output_type": "stream",
          "name": "stdout",
          "text": [
            "공백을 기준으로 숫자를 3개 입력하세요10 20 30\n",
            "[10, 20, 30]\n"
          ]
        }
      ]
    },
    {
      "cell_type": "markdown",
      "source": [
        "fotmatting\n",
        "  - python 3.0 이후부터는 f-string을 사용"
      ],
      "metadata": {
        "id": "_TEn6Eg5yuDo"
      }
    },
    {
      "cell_type": "code",
      "source": [
        "price = 320000\n",
        "dong = 1200\n",
        "ho = 101"
      ],
      "metadata": {
        "id": "QxxSCEcmymOD"
      },
      "execution_count": null,
      "outputs": []
    },
    {
      "cell_type": "code",
      "source": [
        "f\"이번달 {dong}동 {ho}호 관리비는 {price}입니다.\""
      ],
      "metadata": {
        "colab": {
          "base_uri": "https://localhost:8080/",
          "height": 35
        },
        "id": "hHDpPbt4y7g8",
        "outputId": "dfa12292-6987-4901-8f76-787f40a8c319"
      },
      "execution_count": null,
      "outputs": [
        {
          "output_type": "execute_result",
          "data": {
            "text/plain": [
              "'이번달 1200동 101호 관리비는 320000입니다.'"
            ],
            "application/vnd.google.colaboratory.intrinsic+json": {
              "type": "string"
            }
          },
          "metadata": {},
          "execution_count": 13
        }
      ]
    },
    {
      "cell_type": "code",
      "source": [
        "\"1이번달 \"+str(dong)+\"동 \"+str(ho)+\"호 관리비는 \"+str(price)+\"입니다.\""
      ],
      "metadata": {
        "colab": {
          "base_uri": "https://localhost:8080/",
          "height": 35
        },
        "id": "9wxtWbygzEAh",
        "outputId": "bb7265fd-c222-4cf7-f9d5-334a02976b5f"
      },
      "execution_count": null,
      "outputs": [
        {
          "output_type": "execute_result",
          "data": {
            "text/plain": [
              "'1이번달 1200동 101호 관리비는 320000입니다.'"
            ],
            "application/vnd.google.colaboratory.intrinsic+json": {
              "type": "string"
            }
          },
          "metadata": {},
          "execution_count": 14
        }
      ]
    },
    {
      "cell_type": "markdown",
      "source": [
        "자료구조\n",
        "  - 스택 과 큐\n",
        "  - 튜플과 세트\n",
        "  - 딕셔너리\n",
        "  - collections모듈"
      ],
      "metadata": {
        "id": "Otv0z_g2ziOD"
      }
    },
    {
      "cell_type": "code",
      "source": [
        "list(\"abc\")"
      ],
      "metadata": {
        "colab": {
          "base_uri": "https://localhost:8080/"
        },
        "id": "8jyVdnjVzQxE",
        "outputId": "bffa04b4-9922-4cc0-d02d-616472e72b90"
      },
      "execution_count": null,
      "outputs": [
        {
          "output_type": "execute_result",
          "data": {
            "text/plain": [
              "['a', 'b', 'c']"
            ]
          },
          "metadata": {},
          "execution_count": 15
        }
      ]
    },
    {
      "cell_type": "code",
      "source": [
        "for i in range(5):\n",
        "  print(i)"
      ],
      "metadata": {
        "colab": {
          "base_uri": "https://localhost:8080/"
        },
        "id": "CIvbX4tU3tMK",
        "outputId": "ff56a0c8-ece5-44d4-8ad3-f01b557c2ba2"
      },
      "execution_count": null,
      "outputs": [
        {
          "output_type": "stream",
          "name": "stdout",
          "text": [
            "0\n",
            "1\n",
            "2\n",
            "3\n",
            "4\n"
          ]
        }
      ]
    },
    {
      "cell_type": "code",
      "source": [
        "for i in [0,1,2,3,4]:\n",
        "  print(i)\n"
      ],
      "metadata": {
        "colab": {
          "base_uri": "https://localhost:8080/"
        },
        "id": "saxqs4Fg34eC",
        "outputId": "a0c44065-7ae6-43b1-9c64-7ebafec678f2"
      },
      "execution_count": null,
      "outputs": [
        {
          "output_type": "stream",
          "name": "stdout",
          "text": [
            "0\n",
            "1\n",
            "2\n",
            "3\n",
            "4\n"
          ]
        }
      ]
    },
    {
      "cell_type": "code",
      "source": [
        "range(5)"
      ],
      "metadata": {
        "colab": {
          "base_uri": "https://localhost:8080/"
        },
        "id": "Mo9M5p6p3y2k",
        "outputId": "c2dfe001-4169-4557-a76d-46b60105742d"
      },
      "execution_count": null,
      "outputs": [
        {
          "output_type": "execute_result",
          "data": {
            "text/plain": [
              "range(0, 5)"
            ]
          },
          "metadata": {},
          "execution_count": 17
        }
      ]
    },
    {
      "cell_type": "code",
      "source": [
        "list(range(5))"
      ],
      "metadata": {
        "colab": {
          "base_uri": "https://localhost:8080/"
        },
        "id": "caNqQ3eR30sb",
        "outputId": "da813b85-7687-4383-d53b-4d630af3cc0d"
      },
      "execution_count": null,
      "outputs": [
        {
          "output_type": "execute_result",
          "data": {
            "text/plain": [
              "[0, 1, 2, 3, 4]"
            ]
          },
          "metadata": {},
          "execution_count": 19
        }
      ]
    },
    {
      "cell_type": "code",
      "source": [
        "import random\n",
        "random_list = list(range(1,46))\n",
        "random.shuffle( random_list)\n",
        "random_list"
      ],
      "metadata": {
        "colab": {
          "base_uri": "https://localhost:8080/"
        },
        "id": "PBX1uifw4AtJ",
        "outputId": "c1e3e032-7b62-495d-a1bf-009dc2d3268b"
      },
      "execution_count": null,
      "outputs": [
        {
          "output_type": "execute_result",
          "data": {
            "text/plain": [
              "[9,\n",
              " 41,\n",
              " 21,\n",
              " 29,\n",
              " 40,\n",
              " 7,\n",
              " 43,\n",
              " 38,\n",
              " 33,\n",
              " 13,\n",
              " 18,\n",
              " 31,\n",
              " 23,\n",
              " 35,\n",
              " 16,\n",
              " 1,\n",
              " 10,\n",
              " 4,\n",
              " 30,\n",
              " 34,\n",
              " 39,\n",
              " 32,\n",
              " 26,\n",
              " 3,\n",
              " 45,\n",
              " 15,\n",
              " 24,\n",
              " 2,\n",
              " 6,\n",
              " 11,\n",
              " 8,\n",
              " 22,\n",
              " 19,\n",
              " 28,\n",
              " 14,\n",
              " 27,\n",
              " 5,\n",
              " 25,\n",
              " 36,\n",
              " 42,\n",
              " 20,\n",
              " 37,\n",
              " 17,\n",
              " 44,\n",
              " 12]"
            ]
          },
          "metadata": {},
          "execution_count": 23
        }
      ]
    },
    {
      "cell_type": "code",
      "source": [
        "word = \"PYTHON\"\n",
        "word_list = list(word)\n",
        "print(word_list)\n",
        "word_list[::-1]"
      ],
      "metadata": {
        "colab": {
          "base_uri": "https://localhost:8080/"
        },
        "id": "_oJ5tLbA4HTq",
        "outputId": "71dc64e5-2ac2-438b-a152-dec7d4f3f9e4"
      },
      "execution_count": null,
      "outputs": [
        {
          "output_type": "stream",
          "name": "stdout",
          "text": [
            "['P', 'Y', 'T', 'H', 'O', 'N']\n"
          ]
        },
        {
          "output_type": "execute_result",
          "data": {
            "text/plain": [
              "['N', 'O', 'H', 'T', 'Y', 'P']"
            ]
          },
          "metadata": {},
          "execution_count": 25
        }
      ]
    },
    {
      "cell_type": "code",
      "source": [
        "# 스택\n",
        "result = []\n",
        "for i in range(len(word_list)):\n",
        "  result.append(word_list.pop())\n",
        "print(result)"
      ],
      "metadata": {
        "colab": {
          "base_uri": "https://localhost:8080/"
        },
        "id": "U2f_SAjk5N0T",
        "outputId": "f119d02f-cf97-4c78-e14b-79071b73c92e"
      },
      "execution_count": null,
      "outputs": [
        {
          "output_type": "stream",
          "name": "stdout",
          "text": [
            "['N', 'O', 'H', 'T', 'Y', 'P']\n"
          ]
        }
      ]
    },
    {
      "cell_type": "code",
      "source": [
        "# ['N', 'O', 'H', 'T', 'Y', 'P'] 리스트에 있는 문자들을 합쳐서 하나의 문장으로만들면\n",
        "\"NOHTYP\"\n",
        "result[0] + result[1]"
      ],
      "metadata": {
        "colab": {
          "base_uri": "https://localhost:8080/",
          "height": 35
        },
        "id": "JleBGB_75s-H",
        "outputId": "e9e95888-6eb7-4c98-b857-3625fa88fca6"
      },
      "execution_count": null,
      "outputs": [
        {
          "output_type": "execute_result",
          "data": {
            "text/plain": [
              "'NO'"
            ],
            "application/vnd.google.colaboratory.intrinsic+json": {
              "type": "string"
            }
          },
          "metadata": {},
          "execution_count": 27
        }
      ]
    },
    {
      "cell_type": "code",
      "source": [
        "\"\".join(result)"
      ],
      "metadata": {
        "colab": {
          "base_uri": "https://localhost:8080/",
          "height": 35
        },
        "id": "J0dcxQs558FV",
        "outputId": "d06fb2c8-afdf-43da-d663-011c3c7340c0"
      },
      "execution_count": null,
      "outputs": [
        {
          "output_type": "execute_result",
          "data": {
            "text/plain": [
              "'NOHTYP'"
            ],
            "application/vnd.google.colaboratory.intrinsic+json": {
              "type": "string"
            }
          },
          "metadata": {},
          "execution_count": 28
        }
      ]
    },
    {
      "cell_type": "code",
      "source": [
        "\",\".join(result)"
      ],
      "metadata": {
        "colab": {
          "base_uri": "https://localhost:8080/",
          "height": 35
        },
        "id": "WcxQHi3C6rUQ",
        "outputId": "3d6b3b8a-ffcc-4e8f-edf3-0abbfa5b1ed3"
      },
      "execution_count": null,
      "outputs": [
        {
          "output_type": "execute_result",
          "data": {
            "text/plain": [
              "'N,O,H,T,Y,P'"
            ],
            "application/vnd.google.colaboratory.intrinsic+json": {
              "type": "string"
            }
          },
          "metadata": {},
          "execution_count": 29
        }
      ]
    },
    {
      "cell_type": "code",
      "source": [
        "\" \".join(result)"
      ],
      "metadata": {
        "colab": {
          "base_uri": "https://localhost:8080/",
          "height": 35
        },
        "id": "zt264wsf6tTE",
        "outputId": "86e3e8fe-5a52-4758-fc25-d851add8724e"
      },
      "execution_count": null,
      "outputs": [
        {
          "output_type": "execute_result",
          "data": {
            "text/plain": [
              "'N O H T Y P'"
            ],
            "application/vnd.google.colaboratory.intrinsic+json": {
              "type": "string"
            }
          },
          "metadata": {},
          "execution_count": 30
        }
      ]
    },
    {
      "cell_type": "markdown",
      "source": [
        "파이썬 큐"
      ],
      "metadata": {
        "id": "OWD2ustn969l"
      }
    },
    {
      "cell_type": "code",
      "source": [
        "a = [1, 2, 3, 4, 5]\n",
        "a.append(10)\n",
        "# 데이터를 맨 앞에 있는 값을 가져온다.\n",
        "print(a.pop(0))  # 인덱스가 0인 즉 맨 앞의 데이터를 가져온다\n",
        "print(a.pop(0))\n",
        "print(a.pop(0))\n",
        "print(a.pop(0))\n",
        "print(a.pop(0))\n",
        "print(a.pop(0))"
      ],
      "metadata": {
        "id": "JYoI0twq6u_1"
      },
      "execution_count": null,
      "outputs": []
    },
    {
      "cell_type": "markdown",
      "source": [
        "스텍(stack)\n",
        "  - first in - last out\n",
        "  - 입력 : 리스트에 데이터추가는 맨 뒤에서 차례로  append() 이용\n",
        "  - 출력 : 뒤에서부터 값을 리스트에서 제거하면서 값을 읽어온다\n",
        "    - pop()\n",
        "\n",
        "큐(Queue)\n",
        "  - first in - first out\n",
        "  - 입력 : 리스트에 데이터추가는 맨 뒤에서 차례로  append() 이용\n",
        "  - 출력 : 앞에서부터 값을 리스트에서 제거하면서 값을 읽어온다\n",
        "    - pop(0)"
      ],
      "metadata": {
        "id": "4KHKs6xF-pPF"
      }
    },
    {
      "cell_type": "markdown",
      "source": [
        "튜플\n",
        "  - 리스트와 동일하게 자료를 집합형태로 관리\n",
        "  - 튜플은 읽기 전용으로서 수정을 할 수 없고 나머지 기능은 리스트와 동일\n",
        "  - 리스트 -> 튜플로 변경, 튜플 -> 리스트로 변경"
      ],
      "metadata": {
        "id": "hL5j5Xm5AT49"
      }
    },
    {
      "cell_type": "code",
      "source": [
        "# 리스트\n",
        "a = [1, 2, 3, 4]\n",
        "print(a + [10, 20])  # [1,2,3,4,10,20]\n",
        "print(a * 2)  #[1,2,3,4,1,2,3,4]\n",
        "print(a[0])\n",
        "a[0] = 10\n",
        "print(a)"
      ],
      "metadata": {
        "colab": {
          "base_uri": "https://localhost:8080/"
        },
        "id": "QPnu6tEU-Th-",
        "outputId": "a43b238a-9baa-47f9-e4cc-f4a6df55bc21"
      },
      "execution_count": null,
      "outputs": [
        {
          "output_type": "stream",
          "name": "stdout",
          "text": [
            "[1, 2, 3, 4, 10, 20]\n",
            "[1, 2, 3, 4, 1, 2, 3, 4]\n",
            "1\n",
            "[10, 2, 3, 4]\n"
          ]
        }
      ]
    },
    {
      "cell_type": "code",
      "source": [
        "# 튜플\n",
        "a = (1, 2, 3, 4)\n",
        "print(a + (10, 20) )  # (1,2,3,4,10,20)\n",
        "print(a * 2)  #([1,2,3,4,1,2,3,4)\n",
        "print(a[0])\n",
        "a[0] = 10  # 튜플은 값을 할당할수 없다. 즉 변경 불가능\n",
        "print(a)"
      ],
      "metadata": {
        "colab": {
          "base_uri": "https://localhost:8080/",
          "height": 288
        },
        "id": "Ymn-d7oIBBs4",
        "outputId": "351fca85-a26d-484e-af34-1e27eb3030f2"
      },
      "execution_count": null,
      "outputs": [
        {
          "output_type": "stream",
          "name": "stdout",
          "text": [
            "(1, 2, 3, 4, 10, 20)\n",
            "(1, 2, 3, 4, 1, 2, 3, 4)\n",
            "1\n"
          ]
        },
        {
          "output_type": "error",
          "ename": "TypeError",
          "evalue": "ignored",
          "traceback": [
            "\u001b[0;31m---------------------------------------------------------------------------\u001b[0m",
            "\u001b[0;31mTypeError\u001b[0m                                 Traceback (most recent call last)",
            "\u001b[0;32m<ipython-input-41-a267603c81ae>\u001b[0m in \u001b[0;36m<cell line: 6>\u001b[0;34m()\u001b[0m\n\u001b[1;32m      4\u001b[0m \u001b[0mprint\u001b[0m\u001b[0;34m(\u001b[0m\u001b[0ma\u001b[0m \u001b[0;34m*\u001b[0m \u001b[0;36m2\u001b[0m\u001b[0;34m)\u001b[0m  \u001b[0;31m#([1,2,3,4,1,2,3,4)\u001b[0m\u001b[0;34m\u001b[0m\u001b[0;34m\u001b[0m\u001b[0m\n\u001b[1;32m      5\u001b[0m \u001b[0mprint\u001b[0m\u001b[0;34m(\u001b[0m\u001b[0ma\u001b[0m\u001b[0;34m[\u001b[0m\u001b[0;36m0\u001b[0m\u001b[0;34m]\u001b[0m\u001b[0;34m)\u001b[0m\u001b[0;34m\u001b[0m\u001b[0;34m\u001b[0m\u001b[0m\n\u001b[0;32m----> 6\u001b[0;31m \u001b[0ma\u001b[0m\u001b[0;34m[\u001b[0m\u001b[0;36m0\u001b[0m\u001b[0;34m]\u001b[0m \u001b[0;34m=\u001b[0m \u001b[0;36m10\u001b[0m\u001b[0;34m\u001b[0m\u001b[0;34m\u001b[0m\u001b[0m\n\u001b[0m\u001b[1;32m      7\u001b[0m \u001b[0mprint\u001b[0m\u001b[0;34m(\u001b[0m\u001b[0ma\u001b[0m\u001b[0;34m)\u001b[0m\u001b[0;34m\u001b[0m\u001b[0;34m\u001b[0m\u001b[0m\n",
            "\u001b[0;31mTypeError\u001b[0m: 'tuple' object does not support item assignment"
          ]
        }
      ]
    },
    {
      "cell_type": "code",
      "source": [
        "# 리스트 --> 튜플\n",
        "print( list(range(5)) )\n",
        "print( tuple(range(5))  )\n",
        "\n",
        "list_1 = [10,20]\n",
        "list_1 = tuple(list_1)\n",
        "print(list_1)"
      ],
      "metadata": {
        "colab": {
          "base_uri": "https://localhost:8080/"
        },
        "id": "oNUpzJg2BRlc",
        "outputId": "b71e3c5e-96bb-43e6-966c-46a56fbae954"
      },
      "execution_count": null,
      "outputs": [
        {
          "output_type": "stream",
          "name": "stdout",
          "text": [
            "[0, 1, 2, 3, 4]\n",
            "(0, 1, 2, 3, 4)\n",
            "(10, 20)\n"
          ]
        }
      ]
    },
    {
      "cell_type": "code",
      "source": [
        "# 튜플 --> 리스트\n",
        "tuple_1 = (1,2,3)\n",
        "tuple_1 = list(tuple_1)\n",
        "print(tuple_1)"
      ],
      "metadata": {
        "colab": {
          "base_uri": "https://localhost:8080/"
        },
        "id": "6lrQ9PgyCIZ0",
        "outputId": "336e5c78-8e89-4dbc-cab2-7c5468e20cc6"
      },
      "execution_count": null,
      "outputs": [
        {
          "output_type": "stream",
          "name": "stdout",
          "text": [
            "[1, 2, 3]\n"
          ]
        }
      ]
    },
    {
      "cell_type": "markdown",
      "source": [
        "set\n",
        "  - 중복을 허용하지 않는다"
      ],
      "metadata": {
        "id": "_BfkRYsuCtBA"
      }
    },
    {
      "cell_type": "code",
      "source": [
        "list_1 = [ 1,2,3]*5\n",
        "print(list_1)"
      ],
      "metadata": {
        "colab": {
          "base_uri": "https://localhost:8080/"
        },
        "id": "n6fdL3X9CfvO",
        "outputId": "6205bbf6-c6ee-4c75-8a49-3da6db47d8f3"
      },
      "execution_count": null,
      "outputs": [
        {
          "output_type": "stream",
          "name": "stdout",
          "text": [
            "[1, 2, 3, 1, 2, 3, 1, 2, 3, 1, 2, 3, 1, 2, 3]\n"
          ]
        }
      ]
    },
    {
      "cell_type": "code",
      "source": [
        "set_1 = set(list_1)\n",
        "print(set_1)"
      ],
      "metadata": {
        "colab": {
          "base_uri": "https://localhost:8080/"
        },
        "id": "JlquDWsjESvL",
        "outputId": "b3b4e43c-81fb-4a93-b6a0-3e3dfb4d2b8a"
      },
      "execution_count": null,
      "outputs": [
        {
          "output_type": "stream",
          "name": "stdout",
          "text": [
            "{1, 2, 3}\n"
          ]
        }
      ]
    },
    {
      "cell_type": "code",
      "source": [
        "# 리스트 <--> 튜플 <--> 셋\n",
        "# list()    tuple()   set()"
      ],
      "metadata": {
        "id": "KnhRYgHwEYrC"
      },
      "execution_count": null,
      "outputs": []
    },
    {
      "cell_type": "code",
      "source": [
        "# 중복되지 않은 랜덤한 값 5개를 리스트로 저장\n",
        "# 랜덤한 값을 생성해서 set형태의 자료구조에 넣는다.\n",
        "# 그 자료구조의 길이가 5개가 될때까지 반복해서 랜덤한 값을 넣는다 (add 이용)\n",
        "import random\n",
        "set_random_6 = set()  # 비어 있는 기본 set형태의 변수\n",
        "\n",
        "while len(set_random_6) <= 6:\n",
        "  set_random_6.add(random.randint(1,46))\n",
        "\n",
        "print(set_random_6)"
      ],
      "metadata": {
        "colab": {
          "base_uri": "https://localhost:8080/"
        },
        "id": "BzI9VU0yE0xP",
        "outputId": "6c14b635-4111-4fc1-a723-4099e5fbfd0e"
      },
      "execution_count": null,
      "outputs": [
        {
          "output_type": "stream",
          "name": "stdout",
          "text": [
            "{33, 39, 40, 15, 19, 25, 28}\n"
          ]
        }
      ]
    },
    {
      "cell_type": "code",
      "source": [
        "# 리스트 또는 튜플에서.. 중복을 제거할때\n",
        "list_1 = [1,2,3,1,2,3]\n",
        "tuple_1 = (1,2,3,1,2,3)\n",
        "\n",
        "list_1 = list(set(list_1))\n",
        "tuple_1 = tuple(set(tuple_1))\n",
        "\n",
        "print(list_1)\n",
        "print(tuple_1)\n"
      ],
      "metadata": {
        "colab": {
          "base_uri": "https://localhost:8080/"
        },
        "id": "rZjJjW6gFhG7",
        "outputId": "d02e1fff-7dae-49da-cafa-8950c9f1896c"
      },
      "execution_count": null,
      "outputs": [
        {
          "output_type": "stream",
          "name": "stdout",
          "text": [
            "[1, 2, 3]\n",
            "(1, 2, 3)\n"
          ]
        }
      ]
    },
    {
      "cell_type": "code",
      "source": [
        "list_a = [1,2,3,4,5,6,7]\n",
        "list_b = [4,5,7,9,10,15]\n",
        "# 교집합  &\n",
        "print( set(list_a) & set(list_b) )\n",
        "# 차집합\n",
        "print( set(list_a) - set(list_b) )\n",
        "# 합집합\n",
        "print( set(list_a) | set(list_b) )   # 중복 허용 안함...\n"
      ],
      "metadata": {
        "colab": {
          "base_uri": "https://localhost:8080/"
        },
        "id": "KttUcGoeK_WZ",
        "outputId": "796cfde5-67a6-43bc-d5bd-997671e12866"
      },
      "execution_count": null,
      "outputs": [
        {
          "output_type": "stream",
          "name": "stdout",
          "text": [
            "{4, 5, 7}\n",
            "{1, 2, 3, 6}\n",
            "{1, 2, 3, 4, 5, 6, 7, 9, 10, 15}\n"
          ]
        }
      ]
    },
    {
      "cell_type": "markdown",
      "source": [
        "딕셔너리\n",
        "  - {키:값, 키:값 }\n",
        "  - keys() : 키 값만 리스트로 출력\n",
        "  - values() : 값만 리스트로 출력\n",
        "  - items() : (key,value)를 출력\n",
        "  - 특정 데이터 읽기  변수[키값]\n",
        "  - 데이터 변경하기 : 변수[키값] = 변경할 값\n",
        "  - 데이터 추가하기 : 변경하기위 동일 단 리스트에 키가 없으면 추가한다"
      ],
      "metadata": {
        "id": "22hs2xNgQuak"
      }
    },
    {
      "cell_type": "code",
      "source": [
        "# 딕셔너리 만드는 방법\n",
        "dict_1 = {}\n",
        "dict_1 = dict()"
      ],
      "metadata": {
        "id": "4PkvH2tHMjK7"
      },
      "execution_count": null,
      "outputs": []
    },
    {
      "cell_type": "code",
      "source": [
        "# 추가\n",
        "dict_1['영어'] = 100\n",
        "# 출력\n",
        "print(dict_1)"
      ],
      "metadata": {
        "colab": {
          "base_uri": "https://localhost:8080/"
        },
        "id": "mJ1bKessRexB",
        "outputId": "a9abbebd-1b36-452f-85a5-84c9cf1e76c1"
      },
      "execution_count": null,
      "outputs": [
        {
          "output_type": "stream",
          "name": "stdout",
          "text": [
            "{'영어': 100}\n"
          ]
        }
      ]
    },
    {
      "cell_type": "code",
      "source": [
        "# 추가\n",
        "dict_1['수학'] = 100\n",
        "# 출력\n",
        "print(dict_1)"
      ],
      "metadata": {
        "colab": {
          "base_uri": "https://localhost:8080/"
        },
        "id": "fODyJIhWRnkP",
        "outputId": "73dae7fc-6d37-40cd-bbc4-6b4a23c81a90"
      },
      "execution_count": null,
      "outputs": [
        {
          "output_type": "stream",
          "name": "stdout",
          "text": [
            "{'영어': 100, '수학': 100}\n"
          ]
        }
      ]
    },
    {
      "cell_type": "code",
      "source": [
        "# 수정\n",
        "dict_1['수학'] = 200\n",
        "# 출력\n",
        "print(dict_1)"
      ],
      "metadata": {
        "colab": {
          "base_uri": "https://localhost:8080/"
        },
        "id": "tPghL8voRqC6",
        "outputId": "d8ea71ab-1c5c-404d-daac-e3697589dbea"
      },
      "execution_count": null,
      "outputs": [
        {
          "output_type": "stream",
          "name": "stdout",
          "text": [
            "{'영어': 100, '수학': 200}\n"
          ]
        }
      ]
    },
    {
      "cell_type": "code",
      "source": [
        "print(dict_1['수학'])\n",
        "print(dict_1['과학'])  # 없는 키에 대한 값을 출력하려고 하면 오류"
      ],
      "metadata": {
        "colab": {
          "base_uri": "https://localhost:8080/",
          "height": 216
        },
        "id": "A_d7gVZYRvzj",
        "outputId": "70847f8b-16d8-4a7a-8396-dfd7d234f02d"
      },
      "execution_count": null,
      "outputs": [
        {
          "output_type": "stream",
          "name": "stdout",
          "text": [
            "200\n"
          ]
        },
        {
          "output_type": "error",
          "ename": "KeyError",
          "evalue": "ignored",
          "traceback": [
            "\u001b[0;31m---------------------------------------------------------------------------\u001b[0m",
            "\u001b[0;31mKeyError\u001b[0m                                  Traceback (most recent call last)",
            "\u001b[0;32m<ipython-input-84-64400bea75b2>\u001b[0m in \u001b[0;36m<cell line: 2>\u001b[0;34m()\u001b[0m\n\u001b[1;32m      1\u001b[0m \u001b[0mprint\u001b[0m\u001b[0;34m(\u001b[0m\u001b[0mdict_1\u001b[0m\u001b[0;34m[\u001b[0m\u001b[0;34m'수학'\u001b[0m\u001b[0;34m]\u001b[0m\u001b[0;34m)\u001b[0m\u001b[0;34m\u001b[0m\u001b[0;34m\u001b[0m\u001b[0m\n\u001b[0;32m----> 2\u001b[0;31m \u001b[0mprint\u001b[0m\u001b[0;34m(\u001b[0m\u001b[0mdict_1\u001b[0m\u001b[0;34m[\u001b[0m\u001b[0;34m'과학'\u001b[0m\u001b[0;34m]\u001b[0m\u001b[0;34m)\u001b[0m\u001b[0;34m\u001b[0m\u001b[0;34m\u001b[0m\u001b[0m\n\u001b[0m",
            "\u001b[0;31mKeyError\u001b[0m: '과학'"
          ]
        }
      ]
    },
    {
      "cell_type": "code",
      "source": [
        "# 키가 있는지 판단\n",
        "'과학' in dict_1.keys()"
      ],
      "metadata": {
        "colab": {
          "base_uri": "https://localhost:8080/"
        },
        "id": "JLgRxIPQSJL7",
        "outputId": "5a90afe9-ed1e-414f-ba44-24edf568af95"
      },
      "execution_count": null,
      "outputs": [
        {
          "output_type": "execute_result",
          "data": {
            "text/plain": [
              "False"
            ]
          },
          "metadata": {},
          "execution_count": 85
        }
      ]
    },
    {
      "cell_type": "code",
      "source": [
        "#  키들만 출력\n",
        "list(dict_1.keys())"
      ],
      "metadata": {
        "colab": {
          "base_uri": "https://localhost:8080/"
        },
        "id": "8Oz5PSh1SYiw",
        "outputId": "c5d6cc75-c581-4141-bf32-2521899c9f1c"
      },
      "execution_count": null,
      "outputs": [
        {
          "output_type": "execute_result",
          "data": {
            "text/plain": [
              "['영어', '수학']"
            ]
          },
          "metadata": {},
          "execution_count": 87
        }
      ]
    },
    {
      "cell_type": "code",
      "source": [
        "# 값만 출력\n",
        "list(dict_1.values())"
      ],
      "metadata": {
        "colab": {
          "base_uri": "https://localhost:8080/"
        },
        "id": "lTHsT9f6SkVs",
        "outputId": "dd92cacb-0b77-495d-bdf5-4cb747c658b4"
      },
      "execution_count": null,
      "outputs": [
        {
          "output_type": "execute_result",
          "data": {
            "text/plain": [
              "[100, 200]"
            ]
          },
          "metadata": {},
          "execution_count": 89
        }
      ]
    },
    {
      "cell_type": "code",
      "source": [
        "# 키와 벨류를 같이 쌍으로 출력\n",
        "dict_1.items()"
      ],
      "metadata": {
        "colab": {
          "base_uri": "https://localhost:8080/"
        },
        "id": "MJeeYISISsWs",
        "outputId": "c91cb670-99b3-4413-88d9-5a7f4668949a"
      },
      "execution_count": null,
      "outputs": [
        {
          "output_type": "execute_result",
          "data": {
            "text/plain": [
              "dict_items([('영어', 100), ('수학', 200)])"
            ]
          },
          "metadata": {},
          "execution_count": 90
        }
      ]
    },
    {
      "cell_type": "code",
      "source": [
        "# 키와 벨류를 전부 각각 출력\n",
        "# key: ooo  value: ooo\n",
        "for key in dict_1.keys():\n",
        "  print(f\"key : {key}  value:{dict_1[key]}\")\n"
      ],
      "metadata": {
        "colab": {
          "base_uri": "https://localhost:8080/"
        },
        "id": "AX_Ee0ujS2hj",
        "outputId": "74691b37-768a-4c33-8d83-cf8a80066784"
      },
      "execution_count": null,
      "outputs": [
        {
          "output_type": "stream",
          "name": "stdout",
          "text": [
            "key : 영어  value:100\n",
            "key : 수학  value:200\n"
          ]
        }
      ]
    },
    {
      "cell_type": "code",
      "source": [
        "for item in dict_1.items():  # [('영어', 100), ('수학', 200)]\n",
        "  print(f\"key : {item[0]}  value : {item[1]}\" )"
      ],
      "metadata": {
        "colab": {
          "base_uri": "https://localhost:8080/"
        },
        "id": "CV8HCALrTF_6",
        "outputId": "4d0fed3d-6446-473a-b38c-40bc7629f439"
      },
      "execution_count": null,
      "outputs": [
        {
          "output_type": "stream",
          "name": "stdout",
          "text": [
            "key : 영어  value : 100\n",
            "key : 수학  value : 200\n"
          ]
        }
      ]
    },
    {
      "cell_type": "code",
      "source": [
        "key,value = ('영어', 100)\n",
        "print(key)\n",
        "print(value)"
      ],
      "metadata": {
        "colab": {
          "base_uri": "https://localhost:8080/"
        },
        "id": "rpVNDqLmTltc",
        "outputId": "e16ca8d9-aac5-45b0-b15c-0249cadad158"
      },
      "execution_count": null,
      "outputs": [
        {
          "output_type": "stream",
          "name": "stdout",
          "text": [
            "영어\n",
            "100\n"
          ]
        }
      ]
    },
    {
      "cell_type": "code",
      "source": [
        "for key,value in dict_1.items():  # [('영어', 100), ('수학', 200)]\n",
        "  print(f\"key : {key}  value : {value}\" )"
      ],
      "metadata": {
        "colab": {
          "base_uri": "https://localhost:8080/"
        },
        "id": "adpJq4tTTrfR",
        "outputId": "127b9fbb-b064-4180-d0bc-4b210b3c9b50"
      },
      "execution_count": null,
      "outputs": [
        {
          "output_type": "stream",
          "name": "stdout",
          "text": [
            "key : 영어  value : 100\n",
            "key : 수학  value : 200\n"
          ]
        }
      ]
    },
    {
      "cell_type": "code",
      "source": [
        "a = [1,2,3,2,3,1,1,1,5,4]\n",
        "a.count(1)"
      ],
      "metadata": {
        "colab": {
          "base_uri": "https://localhost:8080/"
        },
        "id": "hJ_dokY5UBU3",
        "outputId": "254fbc6c-df3f-48bf-cc63-300aed037e75"
      },
      "execution_count": null,
      "outputs": [
        {
          "output_type": "execute_result",
          "data": {
            "text/plain": [
              "4"
            ]
          },
          "metadata": {},
          "execution_count": 101
        }
      ]
    },
    {
      "cell_type": "code",
      "source": [
        "b = {}\n",
        "for i in a:\n",
        "  if i in b.keys():\n",
        "    b[i] += 1\n",
        "  else:\n",
        "    b[i] = 1\n",
        "\n",
        "print(b)\n"
      ],
      "metadata": {
        "colab": {
          "base_uri": "https://localhost:8080/"
        },
        "id": "YID_N9e0Uhgt",
        "outputId": "9560d646-b263-4abd-b5fd-d37f04a0280f"
      },
      "execution_count": null,
      "outputs": [
        {
          "output_type": "stream",
          "name": "stdout",
          "text": [
            "{1: 4, 2: 2, 3: 2, 5: 1, 4: 1}\n"
          ]
        }
      ]
    },
    {
      "cell_type": "code",
      "source": [
        "# 투표 시스템"
      ],
      "metadata": {
        "id": "zDX3pAOtUx3g"
      },
      "execution_count": null,
      "outputs": []
    },
    {
      "cell_type": "code",
      "source": [
        "# 1. 홍길동  2. 강감찬 3.이순신\n",
        "# 유권자가 20명 으로 부터 표를 받아서 개표\n",
        "# 홍길동 : 00, 강감찬 : 00, 이순신 : 00\n",
        "# 딕셔너리 정렬 , 당선자 추출"
      ],
      "metadata": {
        "id": "4CVQyVEM6UwQ"
      },
      "execution_count": 1,
      "outputs": []
    },
    {
      "cell_type": "code",
      "source": [
        "candidate = ['홍길동', '강감찬', '이순신']\n",
        "vote = {1:0, 2:0, 3:0}\n",
        "for i in range(5):\n",
        "  num = int(input('후보자에 투표를 하세요(1~3)'))\n",
        "  vote[num] += 1"
      ],
      "metadata": {
        "colab": {
          "base_uri": "https://localhost:8080/"
        },
        "id": "1spZP_CO6VkQ",
        "outputId": "946668c0-fe12-4ee0-8681-52985425e349"
      },
      "execution_count": 9,
      "outputs": [
        {
          "name": "stdout",
          "output_type": "stream",
          "text": [
            "후보자에 투표를 하세요(1~3)1\n",
            "후보자에 투표를 하세요(1~3)1\n",
            "후보자에 투표를 하세요(1~3)1\n",
            "후보자에 투표를 하세요(1~3)2\n",
            "후보자에 투표를 하세요(1~3)2\n",
            "후보자에 투표를 하세요(1~3)3\n",
            "후보자에 투표를 하세요(1~3)3\n",
            "후보자에 투표를 하세요(1~3)3\n",
            "후보자에 투표를 하세요(1~3)3\n",
            "후보자에 투표를 하세요(1~3)3\n"
          ]
        }
      ]
    },
    {
      "cell_type": "code",
      "source": [
        "# vote변수를 출력해 보세요\n",
        "print(vote)"
      ],
      "metadata": {
        "colab": {
          "base_uri": "https://localhost:8080/"
        },
        "id": "tv5htrjq6teJ",
        "outputId": "e0b382ec-0db7-4afd-ba33-7e6942e5e48b"
      },
      "execution_count": 10,
      "outputs": [
        {
          "output_type": "stream",
          "name": "stdout",
          "text": [
            "{1: 3, 2: 2, 3: 5}\n"
          ]
        }
      ]
    },
    {
      "cell_type": "code",
      "source": [
        "# 개표\n",
        "for i in range(3):\n",
        "  print(f\"{candidate[i]}:{vote[i+1]}\")\n"
      ],
      "metadata": {
        "colab": {
          "base_uri": "https://localhost:8080/"
        },
        "id": "NpfGaP4X6tip",
        "outputId": "92afbeba-b094-43b9-ff67-4b46b88a95b4"
      },
      "execution_count": 11,
      "outputs": [
        {
          "output_type": "stream",
          "name": "stdout",
          "text": [
            "홍길동:3\n",
            "강감찬:2\n",
            "이순신:5\n"
          ]
        }
      ]
    },
    {
      "cell_type": "code",
      "source": [
        "dic_1 = {}\n",
        "dic_1[1] = 100\n",
        "dic_1[2] = 100\n",
        "print(dic_1)\n",
        "dic_1[1] += 10\n",
        "print(dic_1)"
      ],
      "metadata": {
        "colab": {
          "base_uri": "https://localhost:8080/"
        },
        "id": "SvhUBGPR6tmH",
        "outputId": "57059eba-7338-4413-8a32-6044995a5e8a"
      },
      "execution_count": 13,
      "outputs": [
        {
          "output_type": "stream",
          "name": "stdout",
          "text": [
            "{1: 100, 2: 100}\n",
            "{1: 110, 2: 100}\n"
          ]
        }
      ]
    },
    {
      "cell_type": "code",
      "source": [
        "# 숫자 카운트"
      ],
      "metadata": {
        "id": "XvcRtKdv6U0x"
      },
      "execution_count": 2,
      "outputs": []
    },
    {
      "cell_type": "code",
      "source": [
        "import random\n",
        "random_list = []\n",
        "for i in range(20):\n",
        "  random_list.append( random.randint(1,30)  )"
      ],
      "metadata": {
        "id": "trZyJhGl6suh"
      },
      "execution_count": 22,
      "outputs": []
    },
    {
      "cell_type": "code",
      "source": [
        "# 랜덤하게 생성된 번호들 중에서 각 번호들이 몇번 반복되었는지\n",
        "# dictionary의 특징을 이용해서 계산\n",
        "count_dic = {}\n",
        "for i in random_list:\n",
        "  if i not in count_dic.keys():\n",
        "    count_dic[i] = 1\n",
        "  else:\n",
        "    count_dic[i] += 1"
      ],
      "metadata": {
        "id": "X5LpkZNI_Rjx"
      },
      "execution_count": 25,
      "outputs": []
    },
    {
      "cell_type": "code",
      "source": [
        "print(count_dic)"
      ],
      "metadata": {
        "colab": {
          "base_uri": "https://localhost:8080/"
        },
        "id": "AyRqqW60_S3W",
        "outputId": "e7d72b4d-c1fe-4dd5-a0de-dc154c619fb0"
      },
      "execution_count": 26,
      "outputs": [
        {
          "output_type": "stream",
          "name": "stdout",
          "text": [
            "{6: 1, 5: 1, 1: 1, 29: 2, 24: 3, 14: 1, 2: 2, 25: 1, 21: 1, 22: 2, 3: 1, 12: 1, 19: 1, 7: 1, 27: 1}\n"
          ]
        }
      ]
    },
    {
      "cell_type": "code",
      "source": [
        "def sortf(x):\n",
        "  return x[1]\n",
        "print(sorted(count_dic.items(), key = sortf))\n",
        "print(sorted(count_dic.items(), key = sortf, reverse=True) )"
      ],
      "metadata": {
        "colab": {
          "base_uri": "https://localhost:8080/"
        },
        "id": "mZNwSoUxBOus",
        "outputId": "a7f3e5c6-c980-4dab-a6e7-91b4339f0cfb"
      },
      "execution_count": 32,
      "outputs": [
        {
          "output_type": "stream",
          "name": "stdout",
          "text": [
            "[(6, 1), (5, 1), (1, 1), (14, 1), (25, 1), (21, 1), (3, 1), (12, 1), (19, 1), (7, 1), (27, 1), (29, 2), (2, 2), (22, 2), (24, 3)]\n",
            "[(24, 3), (29, 2), (2, 2), (22, 2), (6, 1), (5, 1), (1, 1), (14, 1), (25, 1), (21, 1), (3, 1), (12, 1), (19, 1), (7, 1), (27, 1)]\n"
          ]
        }
      ]
    },
    {
      "cell_type": "code",
      "source": [],
      "metadata": {
        "id": "jqvO0kyxBfI6"
      },
      "execution_count": null,
      "outputs": []
    }
  ]
}