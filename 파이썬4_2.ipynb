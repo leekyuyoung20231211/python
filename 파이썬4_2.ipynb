{
  "nbformat": 4,
  "nbformat_minor": 0,
  "metadata": {
    "colab": {
      "provenance": []
    },
    "kernelspec": {
      "name": "python3",
      "display_name": "Python 3"
    },
    "language_info": {
      "name": "python"
    }
  },
  "cells": [
    {
      "cell_type": "markdown",
      "source": [
        "assert 구문\n",
        "  - 구문이 false 로 평가되면 AssertionError 를 발생\n",
        "  - 함수안에서 파라메터가 원하는 형태로 전달되는지 확인하는 용도로 많이 사용\n",
        "  - 파이썬은 데이터 타입이 없기 때문에 함수파라메터는 어떠한 값도 올수 있으므로"
      ],
      "metadata": {
        "id": "vs9Y7g0D5P6m"
      }
    },
    {
      "cell_type": "code",
      "source": [
        "def get_binary_number(decimal_numer):\n",
        "  assert isinstance(decimal_numer, int)\n",
        "  return bin(decimal_numer)\n",
        "get_binary_number(2.5)"
      ],
      "metadata": {
        "colab": {
          "base_uri": "https://localhost:8080/",
          "height": 324
        },
        "id": "o-YOSBDN5Yum",
        "outputId": "9d0fc0b1-3f87-48f1-e00a-958bc2a14811"
      },
      "execution_count": null,
      "outputs": [
        {
          "output_type": "error",
          "ename": "AssertionError",
          "evalue": "ignored",
          "traceback": [
            "\u001b[0;31m---------------------------------------------------------------------------\u001b[0m",
            "\u001b[0;31mAssertionError\u001b[0m                            Traceback (most recent call last)",
            "\u001b[0;32m<ipython-input-20-cfee61a4e293>\u001b[0m in \u001b[0;36m<cell line: 4>\u001b[0;34m()\u001b[0m\n\u001b[1;32m      2\u001b[0m   \u001b[0;32massert\u001b[0m \u001b[0misinstance\u001b[0m\u001b[0;34m(\u001b[0m\u001b[0mdecimal_numer\u001b[0m\u001b[0;34m,\u001b[0m \u001b[0mint\u001b[0m\u001b[0;34m)\u001b[0m\u001b[0;34m\u001b[0m\u001b[0;34m\u001b[0m\u001b[0m\n\u001b[1;32m      3\u001b[0m   \u001b[0;32mreturn\u001b[0m \u001b[0mbin\u001b[0m\u001b[0;34m(\u001b[0m\u001b[0mdecimal_numer\u001b[0m\u001b[0;34m)\u001b[0m\u001b[0;34m\u001b[0m\u001b[0;34m\u001b[0m\u001b[0m\n\u001b[0;32m----> 4\u001b[0;31m \u001b[0mget_binary_number\u001b[0m\u001b[0;34m(\u001b[0m\u001b[0;36m2.5\u001b[0m\u001b[0;34m)\u001b[0m\u001b[0;34m\u001b[0m\u001b[0;34m\u001b[0m\u001b[0m\n\u001b[0m",
            "\u001b[0;32m<ipython-input-20-cfee61a4e293>\u001b[0m in \u001b[0;36mget_binary_number\u001b[0;34m(decimal_numer)\u001b[0m\n\u001b[1;32m      1\u001b[0m \u001b[0;32mdef\u001b[0m \u001b[0mget_binary_number\u001b[0m\u001b[0;34m(\u001b[0m\u001b[0mdecimal_numer\u001b[0m\u001b[0;34m)\u001b[0m\u001b[0;34m:\u001b[0m\u001b[0;34m\u001b[0m\u001b[0;34m\u001b[0m\u001b[0m\n\u001b[0;32m----> 2\u001b[0;31m   \u001b[0;32massert\u001b[0m \u001b[0misinstance\u001b[0m\u001b[0;34m(\u001b[0m\u001b[0mdecimal_numer\u001b[0m\u001b[0;34m,\u001b[0m \u001b[0mint\u001b[0m\u001b[0;34m)\u001b[0m\u001b[0;34m\u001b[0m\u001b[0;34m\u001b[0m\u001b[0m\n\u001b[0m\u001b[1;32m      3\u001b[0m   \u001b[0;32mreturn\u001b[0m \u001b[0mbin\u001b[0m\u001b[0;34m(\u001b[0m\u001b[0mdecimal_numer\u001b[0m\u001b[0;34m)\u001b[0m\u001b[0;34m\u001b[0m\u001b[0;34m\u001b[0m\u001b[0m\n\u001b[1;32m      4\u001b[0m \u001b[0mget_binary_number\u001b[0m\u001b[0;34m(\u001b[0m\u001b[0;36m2.5\u001b[0m\u001b[0;34m)\u001b[0m\u001b[0;34m\u001b[0m\u001b[0;34m\u001b[0m\u001b[0m\n",
            "\u001b[0;31mAssertionError\u001b[0m: "
          ]
        }
      ]
    },
    {
      "cell_type": "code",
      "source": [
        "def get_binary_number2(decimal_numer):\n",
        "  if not isinstance(decimal_numer, int):\n",
        "    raise ValueError('정수를 입려하세요')\n",
        "  return bin(decimal_numer)\n",
        "\n",
        "get_binary_number2(12.5)\n"
      ],
      "metadata": {
        "colab": {
          "base_uri": "https://localhost:8080/",
          "height": 341
        },
        "id": "OYL-iDqT56xr",
        "outputId": "82cd3eef-3cf0-456b-8421-9545882c5478"
      },
      "execution_count": null,
      "outputs": [
        {
          "output_type": "error",
          "ename": "ValueError",
          "evalue": "ignored",
          "traceback": [
            "\u001b[0;31m---------------------------------------------------------------------------\u001b[0m",
            "\u001b[0;31mValueError\u001b[0m                                Traceback (most recent call last)",
            "\u001b[0;32m<ipython-input-19-ffa60284c8f2>\u001b[0m in \u001b[0;36m<cell line: 6>\u001b[0;34m()\u001b[0m\n\u001b[1;32m      4\u001b[0m   \u001b[0;32mreturn\u001b[0m \u001b[0mbin\u001b[0m\u001b[0;34m(\u001b[0m\u001b[0mdecimal_numer\u001b[0m\u001b[0;34m)\u001b[0m\u001b[0;34m\u001b[0m\u001b[0;34m\u001b[0m\u001b[0m\n\u001b[1;32m      5\u001b[0m \u001b[0;34m\u001b[0m\u001b[0m\n\u001b[0;32m----> 6\u001b[0;31m \u001b[0mget_binary_number2\u001b[0m\u001b[0;34m(\u001b[0m\u001b[0;36m12.5\u001b[0m\u001b[0;34m)\u001b[0m\u001b[0;34m\u001b[0m\u001b[0;34m\u001b[0m\u001b[0m\n\u001b[0m",
            "\u001b[0;32m<ipython-input-19-ffa60284c8f2>\u001b[0m in \u001b[0;36mget_binary_number2\u001b[0;34m(decimal_numer)\u001b[0m\n\u001b[1;32m      1\u001b[0m \u001b[0;32mdef\u001b[0m \u001b[0mget_binary_number2\u001b[0m\u001b[0;34m(\u001b[0m\u001b[0mdecimal_numer\u001b[0m\u001b[0;34m)\u001b[0m\u001b[0;34m:\u001b[0m\u001b[0;34m\u001b[0m\u001b[0;34m\u001b[0m\u001b[0m\n\u001b[1;32m      2\u001b[0m   \u001b[0;32mif\u001b[0m \u001b[0;32mnot\u001b[0m \u001b[0misinstance\u001b[0m\u001b[0;34m(\u001b[0m\u001b[0mdecimal_numer\u001b[0m\u001b[0;34m,\u001b[0m \u001b[0mint\u001b[0m\u001b[0;34m)\u001b[0m\u001b[0;34m:\u001b[0m\u001b[0;34m\u001b[0m\u001b[0;34m\u001b[0m\u001b[0m\n\u001b[0;32m----> 3\u001b[0;31m     \u001b[0;32mraise\u001b[0m \u001b[0mValueError\u001b[0m\u001b[0;34m(\u001b[0m\u001b[0;34m'정수를 입려하세요'\u001b[0m\u001b[0;34m)\u001b[0m\u001b[0;34m\u001b[0m\u001b[0;34m\u001b[0m\u001b[0m\n\u001b[0m\u001b[1;32m      4\u001b[0m   \u001b[0;32mreturn\u001b[0m \u001b[0mbin\u001b[0m\u001b[0;34m(\u001b[0m\u001b[0mdecimal_numer\u001b[0m\u001b[0;34m)\u001b[0m\u001b[0;34m\u001b[0m\u001b[0;34m\u001b[0m\u001b[0m\n\u001b[1;32m      5\u001b[0m \u001b[0;34m\u001b[0m\u001b[0m\n",
            "\u001b[0;31mValueError\u001b[0m: 정수를 입려하세요"
          ]
        }
      ]
    },
    {
      "cell_type": "markdown",
      "source": [
        "파일 다루기"
      ],
      "metadata": {
        "id": "Ik1yOi677dzP"
      }
    },
    {
      "cell_type": "code",
      "source": [
        "f = open(\"dream.txt\",\"r\")  # 파일을 읽기모드로 연다\n",
        "contents = f.read()  # 파일의 내용을 읽어서 변수에 저장\n",
        "print(contents) # 변수를 출력\n",
        "f.close()  # 닫아준다"
      ],
      "metadata": {
        "colab": {
          "base_uri": "https://localhost:8080/"
        },
        "id": "O_vfB8836Jkm",
        "outputId": "58c42fca-c581-4473-9e93-f067633361e6"
      },
      "execution_count": null,
      "outputs": [
        {
          "output_type": "stream",
          "name": "stdout",
          "text": [
            "I have a dream a song to sing\n",
            "to help me cope with anything\n",
            "if you see the wonder of a fairy tale\n",
            "you can take the future even\n",
            "if you fail I believe in angels\n",
            "something good in everything\n"
          ]
        }
      ]
    },
    {
      "cell_type": "code",
      "source": [
        "with open(\"dream.txt\",\"r\") as f:\n",
        "  contents = f.read()  # 파일의 내용을 읽어서 변수에 저장\n",
        "  print(contents) # 변수를 출력"
      ],
      "metadata": {
        "colab": {
          "base_uri": "https://localhost:8080/"
        },
        "id": "sxTemF1e84HW",
        "outputId": "daf8ac57-9aa9-4c0e-876e-4dbb31bdb7e3"
      },
      "execution_count": null,
      "outputs": [
        {
          "output_type": "stream",
          "name": "stdout",
          "text": [
            "I have a dream a song to sing\n",
            "to help me cope with anything\n",
            "if you see the wonder of a fairy tale\n",
            "you can take the future even\n",
            "if you fail I believe in angels\n",
            "something good in everything\n"
          ]
        }
      ]
    },
    {
      "cell_type": "code",
      "source": [
        "with open(\"dream.txt\",\"r\") as f:\n",
        "  contents = f.readlines()  # 파일의 내용을 라인단위로 읽어서 리스트로 반환\n",
        "  print(contents) # 변수를 출력"
      ],
      "metadata": {
        "colab": {
          "base_uri": "https://localhost:8080/"
        },
        "id": "jxWvi_nN9laJ",
        "outputId": "337c84eb-db6c-4ba5-8cba-b208138f4861"
      },
      "execution_count": null,
      "outputs": [
        {
          "output_type": "stream",
          "name": "stdout",
          "text": [
            "['I have a dream a song to sing\\n', 'to help me cope with anything\\n', 'if you see the wonder of a fairy tale\\n', 'you can take the future even\\n', 'if you fail I believe in angels\\n', 'something good in everything']\n"
          ]
        }
      ]
    },
    {
      "cell_type": "code",
      "source": [
        "with open(\"dream.txt\",\"r\") as f:\n",
        "  while True:\n",
        "    contents = f.readline()  # 파일의 내용을 라인단위로 읽어서 리스트로 반환\n",
        "    contents = contents.replace(\"\\n\",\"\")\n",
        "    print(contents) # 변수를 출력\n",
        "    if not contents:\n",
        "      break"
      ],
      "metadata": {
        "colab": {
          "base_uri": "https://localhost:8080/"
        },
        "id": "C9M_D0949xG9",
        "outputId": "bd713f61-c623-4333-fc60-5997e00edc78"
      },
      "execution_count": null,
      "outputs": [
        {
          "output_type": "stream",
          "name": "stdout",
          "text": [
            "I have a dream a song to sing\n",
            "to help me cope with anything\n",
            "if you see the wonder of a fairy tale\n",
            "you can take the future even\n",
            "if you fail I believe in angels\n",
            "something good in everything\n",
            "\n"
          ]
        }
      ]
    },
    {
      "cell_type": "markdown",
      "source": [
        "파일을 열어서 글자수를 세는 프로그램\n",
        "  - 총 글자 수  \n",
        "  - 총 단어의 수(공백을 기준)\n",
        "  - 총 라인의 수"
      ],
      "metadata": {
        "id": "FcBMN6_k_AF0"
      }
    },
    {
      "cell_type": "code",
      "source": [
        "with open('dream.txt','r') as f:\n",
        "  # lines = map( lambda x: x.replace('\\n',\"\"),  f.readlines())\n",
        "  lines = [ line.replace('\\n','') for line in f.readlines() ]\n",
        "  print(f'총 줄의 수 : {len(lines)}')\n",
        "  words = sum([ len(line.split()) for line in lines ])\n",
        "  print(f'총 단어의 수 : {words}')\n",
        "  contents_count = sum([ len(line.replace(\" \",\"\")) for line in lines ])\n",
        "  print(f'총 글자 수 : {contents_count}')\n",
        "\n",
        "print(lines)"
      ],
      "metadata": {
        "colab": {
          "base_uri": "https://localhost:8080/"
        },
        "id": "MdvfsxOV-E9f",
        "outputId": "092cce60-3ebc-4125-b09b-0b192593cd00"
      },
      "execution_count": null,
      "outputs": [
        {
          "output_type": "stream",
          "name": "stdout",
          "text": [
            "총 줄의 수 : 6\n",
            "총 단어의 수 : 40\n",
            "총 글자 수 : 148\n",
            "['I have a dream a song to sing', 'to help me cope with anything', 'if you see the wonder of a fairy tale', 'you can take the future even', 'if you fail I believe in angels', 'something good in everything']\n"
          ]
        }
      ]
    },
    {
      "cell_type": "code",
      "source": [
        "len('I have a dream a song to sing'.replace(\" \",\"\"))"
      ],
      "metadata": {
        "colab": {
          "base_uri": "https://localhost:8080/"
        },
        "id": "ThT42jIJ_8Yw",
        "outputId": "84d2fd3f-717e-4649-e87e-6aafde6ec6fb"
      },
      "execution_count": null,
      "outputs": [
        {
          "output_type": "execute_result",
          "data": {
            "text/plain": [
              "22"
            ]
          },
          "metadata": {},
          "execution_count": 41
        }
      ]
    },
    {
      "cell_type": "markdown",
      "source": [
        "pickle 모듈 사용하기\n",
        "  - 파이썬의 객체를 저장했다가 다시 사용\n",
        "  - 파일을 생성할때 wb로 생성"
      ],
      "metadata": {
        "id": "P5zSkGRAF6Kk"
      }
    },
    {
      "cell_type": "code",
      "source": [
        "import pickle"
      ],
      "metadata": {
        "id": "vyAvVrY2FK1J"
      },
      "execution_count": null,
      "outputs": []
    },
    {
      "cell_type": "code",
      "source": [
        "with open(\"list.pickle\", 'wb') as f:\n",
        "  test = [1,2,3,4,5]\n",
        "  pickle.dump(test,f)"
      ],
      "metadata": {
        "id": "95s3BlnDGK_U"
      },
      "execution_count": null,
      "outputs": []
    },
    {
      "cell_type": "code",
      "source": [
        "with open('list.pickle', 'rb') as f:\n",
        "  loaded_pickle =  pickle.load(f)\n",
        "\n",
        "print(loaded_pickle)"
      ],
      "metadata": {
        "colab": {
          "base_uri": "https://localhost:8080/"
        },
        "id": "GXLcBNkyGwkL",
        "outputId": "435f71f6-d9e1-40f2-cd84-89f7d90f42fb"
      },
      "execution_count": null,
      "outputs": [
        {
          "output_type": "stream",
          "name": "stdout",
          "text": [
            "[1, 2, 3, 4, 5]\n"
          ]
        }
      ]
    },
    {
      "cell_type": "code",
      "source": [
        "# 복잡한 코드 및 연산을 따로 저장해서 모듈을 효율적으로 사용할때\n",
        "class Calc():\n",
        "  def __init__(self) -> None:\n",
        "    pass\n",
        "  def add(self, x, y):\n",
        "    return x + y\n",
        "  def minus(self,x,y):\n",
        "    return x-y\n",
        "  def multi(self,x,y):\n",
        "    return x*y\n",
        "  def divide(self,x,y):\n",
        "    try:\n",
        "      return x / y\n",
        "    except ZeroDivisionError:\n",
        "      print('0으로 나눌수 없습니다.')\n",
        "\n",
        "with open(\"calc.pickle\",'wb') as f:\n",
        "  pickle.dump(Calc,f)\n"
      ],
      "metadata": {
        "id": "ehj5DU2ZHGfU"
      },
      "execution_count": null,
      "outputs": []
    },
    {
      "cell_type": "code",
      "source": [
        "with open('calc.pickle','rb') as f:\n",
        "  loaded_pickle =  pickle.load(f)\n",
        "\n",
        "c =  loaded_pickle()\n",
        "c.add(10,20)"
      ],
      "metadata": {
        "colab": {
          "base_uri": "https://localhost:8080/"
        },
        "id": "19EoPXjTIdTk",
        "outputId": "ed7e382f-78e4-4481-c556-bcacb7a41e13"
      },
      "execution_count": null,
      "outputs": [
        {
          "output_type": "execute_result",
          "data": {
            "text/plain": [
              "30"
            ]
          },
          "metadata": {},
          "execution_count": 48
        }
      ]
    },
    {
      "cell_type": "code",
      "source": [
        "line_counter = 0 # 파일의 총 줄수\n",
        "data_header = []  # 헤더 정보(컬럼명)\n",
        "customer_list = [] # 헤더가 아닌 실제 데이터의 집합\n",
        "with open(\"customers.csv\",\"r\") as f:\n",
        "  while True:\n",
        "    data =  f.readline()  # \\n이 생기지 않는다\n",
        "    if not data:\n",
        "      break  # 파일의 끝에 다다르면 읽을데이터가 없어서 False\n",
        "    if line_counter == 0:  # 가장 첫번째 문장(컬럼명)\n",
        "      data_header = (data.split(','))\n",
        "    else:\n",
        "      customer_list.append(data.split(','))\n",
        "    line_counter += 1;   # 라인카운터 증가"
      ],
      "metadata": {
        "id": "DZeEICFrIvjd"
      },
      "execution_count": 64,
      "outputs": []
    },
    {
      "cell_type": "code",
      "source": [
        "# csv 내용 출력\n",
        "print(f\"Header : {data_header}\")\n",
        "for index, customer in enumerate( customer_list):\n",
        "  print(customer)\n",
        "  if index == 5: break"
      ],
      "metadata": {
        "colab": {
          "base_uri": "https://localhost:8080/"
        },
        "id": "3jTfwmPYMz-l",
        "outputId": "f4ab03a0-973b-4fe4-963c-9e2c37dac6b8"
      },
      "execution_count": 67,
      "outputs": [
        {
          "output_type": "stream",
          "name": "stdout",
          "text": [
            "Header : ['customerNumber', 'customerName', 'contactLastName', 'contactFirstName', 'phone', 'addressLine1', 'addressLine2', 'city', 'state', 'postalCode', 'country', 'salesRepEmployeeNumber', 'creditLimit\\n']\n",
            "['103', 'Atelier graphique', 'Schmitt', 'Carine ', '40.32.2555', '\"54', ' rue Royale\"', 'NULL', 'Nantes', 'NULL', '44000', 'France', '1370', '21000\\n']\n",
            "['112', 'Signal Gift Stores', 'King', 'Jean', '7025551838', '8489 Strong St.', 'NULL', 'Las Vegas', 'NV', '83030', 'USA', '1166', '71800\\n']\n",
            "['114', '\"Australian Collectors', ' Co.\"', 'Ferguson', 'Peter', '03 9520 4555', '636 St Kilda Road', 'Level 3', 'Melbourne', 'Victoria', '3004', 'Australia', '1611', '117300\\n']\n",
            "['119', 'La Rochelle Gifts', 'Labrune', 'Janine ', '40.67.8555', '\"67', ' rue des Cinquante Otages\"', 'NULL', 'Nantes', 'NULL', '44000', 'France', '1370', '118200\\n']\n",
            "['121', 'Baane Mini Imports', 'Bergulfsen', 'Jonas ', '07-98 9555', 'Erling Skakkes gate 78', 'NULL', 'Stavern', 'NULL', '4110', 'Norway', '1504', '81700\\n']\n",
            "['124', 'Mini Gifts Distributors Ltd.', 'Nelson', 'Susan', '4155551450', '5677 Strong St.', 'NULL', 'San Rafael', 'CA', '97562', 'USA', '1165', '210500\\n']\n"
          ]
        }
      ]
    },
    {
      "cell_type": "code",
      "source": [
        "# csv 파일 중에 country 필드의 항목이 USA인 고객만 추출해서\n",
        "# customer_usa.csv 파일로 저장"
      ],
      "metadata": {
        "id": "TzDsCLVmNJwT"
      },
      "execution_count": null,
      "outputs": []
    },
    {
      "cell_type": "code",
      "source": [
        "# 1. customer_list 데이터를 순환하면서 country에 해당하는 위치의 값이 USA인\n",
        "# 데이터만 추출해서 새로운 변수에 저장\n",
        "\n",
        "#2. 새로운 변수의 내용을 customer_usa.csv 파일로 저장한다"
      ],
      "metadata": {
        "id": "dJZcLtSFOIbO"
      },
      "execution_count": null,
      "outputs": []
    },
    {
      "cell_type": "code",
      "source": [
        "'USA' ==  customer_list[0][-3].upper()"
      ],
      "metadata": {
        "colab": {
          "base_uri": "https://localhost:8080/"
        },
        "id": "k95vKpO3OXtI",
        "outputId": "7e4c822d-e633-443d-937a-a349f22a71e9"
      },
      "execution_count": null,
      "outputs": [
        {
          "output_type": "execute_result",
          "data": {
            "text/plain": [
              "False"
            ]
          },
          "metadata": {},
          "execution_count": 63
        }
      ]
    },
    {
      "cell_type": "code",
      "source": [
        "usa_lists = []\n",
        "for data in customer_list:\n",
        "  if 'USA' == data[-3].upper():\n",
        "    usa_lists.append(data)"
      ],
      "metadata": {
        "id": "pA4wZPncRm_S"
      },
      "execution_count": 72,
      "outputs": []
    },
    {
      "cell_type": "code",
      "source": [
        "\",\".join(usa_lists[0]).replace('\\n','')"
      ],
      "metadata": {
        "colab": {
          "base_uri": "https://localhost:8080/",
          "height": 35
        },
        "id": "CPwtJxo8Tap2",
        "outputId": "4ad9327c-af1e-4eff-f90d-dd90f92ebe45"
      },
      "execution_count": 77,
      "outputs": [
        {
          "output_type": "execute_result",
          "data": {
            "text/plain": [
              "'112,Signal Gift Stores,King,Jean,7025551838,8489 Strong St.,NULL,Las Vegas,NV,83030,USA,1166,71800'"
            ],
            "application/vnd.google.colaboratory.intrinsic+json": {
              "type": "string"
            }
          },
          "metadata": {},
          "execution_count": 77
        }
      ]
    },
    {
      "cell_type": "code",
      "source": [
        "','.join(data_header).replace('\\n','')"
      ],
      "metadata": {
        "colab": {
          "base_uri": "https://localhost:8080/",
          "height": 53
        },
        "id": "FRZ-1JZzUZ_2",
        "outputId": "2a89413f-8da5-482d-9d32-8fe7b587221c"
      },
      "execution_count": 81,
      "outputs": [
        {
          "output_type": "execute_result",
          "data": {
            "text/plain": [
              "'customerNumber,customerName,contactLastName,contactFirstName,phone,addressLine1,addressLine2,city,state,postalCode,country,salesRepEmployeeNumber,creditLimit'"
            ],
            "application/vnd.google.colaboratory.intrinsic+json": {
              "type": "string"
            }
          },
          "metadata": {},
          "execution_count": 81
        }
      ]
    },
    {
      "cell_type": "code",
      "source": [
        "with open('customer_usa.csv','w') as f:\n",
        "  f.write(','.join(data_header).replace('\\n','') + \"\\n\" )\n",
        "  for data in usa_lists:\n",
        "    f.write( \",\".join(data).replace('\\n','') + \"\\n\" )"
      ],
      "metadata": {
        "id": "vtie-9fyT53I"
      },
      "execution_count": 89,
      "outputs": []
    },
    {
      "cell_type": "code",
      "source": [
        "# /content/korea_floating_population_data.csv  파일 읽기\n",
        "# 5 ~ 6 줄만 읽어봅시다\n",
        "with open('korea_floating_population_data.csv','r',encoding='cp949') as f:\n",
        "  for i in range(5):\n",
        "    print(f.readline().replace(\"\\n\",''))"
      ],
      "metadata": {
        "colab": {
          "base_uri": "https://localhost:8080/"
        },
        "id": "rrFRqdopUuEZ",
        "outputId": "edc6fc9b-2972-4ccb-eab5-92dc98d66ad8"
      },
      "execution_count": 99,
      "outputs": [
        {
          "output_type": "stream",
          "name": "stdout",
          "text": [
            "조사번호,조사지역,주구분,조사일자,시간대,X좌표,Y좌표,행정구역명,날씨,남자10대,남자20대,남자30대,남자40대,남자50대,여자10대,여자20대,여자30대,여자40대,여자50대\n",
            "2544,신촌네거리 계룡건설 사옥 농협 앞,주중,2010-06-21,12시~13시까지,343099,417482,대전광역시 서구 월평동,맑음,2,24,68,50,31,4,37,64,44,26\n",
            "2544,신촌네거리 계룡건설 사옥 농협 앞,주중,2010-06-21,19시~20시까지,343099,417482,대전광역시 서구 월평동,맑음,19,44,28,33,21,14,56,49,43,18\n",
            "2544,신촌네거리 계룡건설 사옥 농협 앞,주말,2010-06-20,12시~13시까지,343099,417482,대전광역시 서구 월평동,흐림,13,33,34,61,55,13,32,29,28,12\n",
            "2544,신촌네거리 계룡건설 사옥 농협 앞,주말,2010-06-20,19시~20시까지,343099,417482,대전광역시 서구 월평동,흐림,23,33,32,547,129,12,39,13,46,4\n"
          ]
        }
      ]
    },
    {
      "cell_type": "code",
      "source": [
        "# 데이터 중에서 행정구역이 서울특별시인 데이터는 몇개?\n",
        "# 대전광역시는 몇개?\n",
        "import csv\n",
        "with open('korea_floating_population_data.csv','r',encoding='cp949') as f:\n",
        "  csv_data = csv.reader(f)\n",
        "  # 5개만 출력\n",
        "  for index,data in enumerate(csv_data):\n",
        "    if '서울' in data[7]:\n",
        "      print(data)\n",
        "\n"
      ],
      "metadata": {
        "id": "kEHtEaozW-BW"
      },
      "execution_count": null,
      "outputs": []
    },
    {
      "cell_type": "code",
      "source": [],
      "metadata": {
        "id": "nXSVra2SXQg5"
      },
      "execution_count": null,
      "outputs": []
    },
    {
      "cell_type": "code",
      "source": [],
      "metadata": {
        "id": "gvTlPPBBYybj"
      },
      "execution_count": null,
      "outputs": []
    }
  ]
}