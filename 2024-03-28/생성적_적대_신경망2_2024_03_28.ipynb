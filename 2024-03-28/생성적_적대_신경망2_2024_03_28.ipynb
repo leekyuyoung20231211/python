{
  "nbformat": 4,
  "nbformat_minor": 0,
  "metadata": {
    "colab": {
      "provenance": [],
      "gpuType": "T4"
    },
    "kernelspec": {
      "name": "python3",
      "display_name": "Python 3"
    },
    "language_info": {
      "name": "python"
    },
    "accelerator": "GPU"
  },
  "cells": [
    {
      "cell_type": "code",
      "execution_count": null,
      "metadata": {
        "id": "pquNMcnfrHxl"
      },
      "outputs": [],
      "source": [
        "from IPython.display import Image"
      ]
    },
    {
      "cell_type": "markdown",
      "source": [
        "합성곱 GAN 과 바서슈타인 GAN 으로 합성 이미지 품질 높이기"
      ],
      "metadata": {
        "id": "dCaQrcxMtkIb"
      }
    },
    {
      "cell_type": "code",
      "source": [
        "Image(url='https://raw.githubusercontent.com/rickiepark/ml-with-pytorch/main/ch17/figures/17_09.png', width=700)"
      ],
      "metadata": {
        "colab": {
          "base_uri": "https://localhost:8080/",
          "height": 267
        },
        "id": "L6kW-tKrtisI",
        "outputId": "54e03f8f-668d-49dd-b847-1bdc9ec40d88"
      },
      "execution_count": null,
      "outputs": [
        {
          "output_type": "execute_result",
          "data": {
            "text/html": [
              "<img src=\"https://raw.githubusercontent.com/rickiepark/ml-with-pytorch/main/ch17/figures/17_09.png\" width=\"700\"/>"
            ],
            "text/plain": [
              "<IPython.core.display.Image object>"
            ]
          },
          "metadata": {},
          "execution_count": 2
        }
      ]
    },
    {
      "cell_type": "markdown",
      "source": [
        "배치정규화"
      ],
      "metadata": {
        "id": "0TA89mv-tiuw"
      }
    },
    {
      "cell_type": "code",
      "source": [
        "Image(url='https://raw.githubusercontent.com/rickiepark/ml-with-pytorch/main/ch17/figures/17_11.png', width=700)"
      ],
      "metadata": {
        "colab": {
          "base_uri": "https://localhost:8080/",
          "height": 478
        },
        "id": "MZC8QWD6tiw3",
        "outputId": "e45f3a0f-3b02-440c-c49e-178567d73585"
      },
      "execution_count": null,
      "outputs": [
        {
          "output_type": "execute_result",
          "data": {
            "text/html": [
              "<img src=\"https://raw.githubusercontent.com/rickiepark/ml-with-pytorch/main/ch17/figures/17_11.png\" width=\"700\"/>"
            ],
            "text/plain": [
              "<IPython.core.display.Image object>"
            ]
          },
          "metadata": {},
          "execution_count": 3
        }
      ]
    },
    {
      "cell_type": "markdown",
      "source": [
        "생성자와 판별자"
      ],
      "metadata": {
        "id": "rtB9iqNWtizO"
      }
    },
    {
      "cell_type": "code",
      "source": [
        "Image(url='https://raw.githubusercontent.com/rickiepark/ml-with-pytorch/main/ch17/figures/17_12.png', width=700)"
      ],
      "metadata": {
        "colab": {
          "base_uri": "https://localhost:8080/",
          "height": 330
        },
        "id": "qFy8TPhfti1d",
        "outputId": "0e0d0644-351f-4df6-b362-52d4d30a08e8"
      },
      "execution_count": null,
      "outputs": [
        {
          "output_type": "execute_result",
          "data": {
            "text/html": [
              "<img src=\"https://raw.githubusercontent.com/rickiepark/ml-with-pytorch/main/ch17/figures/17_12.png\" width=\"700\"/>"
            ],
            "text/plain": [
              "<IPython.core.display.Image object>"
            ]
          },
          "metadata": {},
          "execution_count": 4
        }
      ]
    },
    {
      "cell_type": "code",
      "source": [
        "Image(url='https://raw.githubusercontent.com/rickiepark/ml-with-pytorch/main/ch17/figures/17_13.png', width=700)"
      ],
      "metadata": {
        "colab": {
          "base_uri": "https://localhost:8080/",
          "height": 325
        },
        "id": "kaDf26KFti30",
        "outputId": "e683e010-ba60-45fb-d8ce-7d76f8eb0d10"
      },
      "execution_count": null,
      "outputs": [
        {
          "output_type": "execute_result",
          "data": {
            "text/html": [
              "<img src=\"https://raw.githubusercontent.com/rickiepark/ml-with-pytorch/main/ch17/figures/17_13.png\" width=\"700\"/>"
            ],
            "text/plain": [
              "<IPython.core.display.Image object>"
            ]
          },
          "metadata": {},
          "execution_count": 5
        }
      ]
    },
    {
      "cell_type": "code",
      "source": [
        "import torch\n",
        "\n",
        "device = 'cuda' if torch.cuda.is_available() else 'cpu'\n",
        "device"
      ],
      "metadata": {
        "colab": {
          "base_uri": "https://localhost:8080/",
          "height": 36
        },
        "id": "POKq8NBfti6L",
        "outputId": "6601a44d-810c-42c0-cfed-9daaf00079c7"
      },
      "execution_count": null,
      "outputs": [
        {
          "output_type": "execute_result",
          "data": {
            "text/plain": [
              "'cuda'"
            ],
            "application/vnd.google.colaboratory.intrinsic+json": {
              "type": "string"
            }
          },
          "metadata": {},
          "execution_count": 6
        }
      ]
    },
    {
      "cell_type": "code",
      "source": [
        "import torch.nn as nn\n",
        "import numpy as np"
      ],
      "metadata": {
        "id": "-IzcpxVgti8V"
      },
      "execution_count": 4,
      "outputs": []
    },
    {
      "cell_type": "code",
      "source": [
        "import matplotlib.pyplot as plt"
      ],
      "metadata": {
        "id": "x3C3agu2ti-Z"
      },
      "execution_count": null,
      "outputs": []
    },
    {
      "cell_type": "code",
      "source": [
        "import torchvision\n",
        "from torchvision import transforms\n",
        "\n",
        "image_path = './'\n",
        "transfom = transforms.Compose([\n",
        "    transforms.ToTensor(),\n",
        "    transforms.Normalize(mean=(0.5), std=(0.5))\n",
        "])\n",
        "\n",
        "mnist_dataset = torchvision.datasets.MNIST(root=image_path, train=True, transform=transfom,download=True)\n",
        "\n",
        "batch_size = 64\n",
        "torch.manual_seed(1)\n",
        "\n",
        "from torch.utils.data import DataLoader\n",
        "mnist_dl = DataLoader(mnist_dataset, batch_size=batch_size,shuffle=True,drop_last=True)"
      ],
      "metadata": {
        "id": "RpYfFiXvtjC4",
        "colab": {
          "base_uri": "https://localhost:8080/"
        },
        "outputId": "780b1936-d22c-402c-8287-ae7ca4103c80"
      },
      "execution_count": 21,
      "outputs": [
        {
          "output_type": "stream",
          "name": "stdout",
          "text": [
            "Downloading http://yann.lecun.com/exdb/mnist/train-images-idx3-ubyte.gz\n",
            "Downloading http://yann.lecun.com/exdb/mnist/train-images-idx3-ubyte.gz to ./MNIST/raw/train-images-idx3-ubyte.gz\n"
          ]
        },
        {
          "output_type": "stream",
          "name": "stderr",
          "text": [
            "100%|██████████| 9912422/9912422 [00:00<00:00, 286089780.38it/s]"
          ]
        },
        {
          "output_type": "stream",
          "name": "stdout",
          "text": [
            "Extracting ./MNIST/raw/train-images-idx3-ubyte.gz to ./MNIST/raw\n"
          ]
        },
        {
          "output_type": "stream",
          "name": "stderr",
          "text": [
            "\n"
          ]
        },
        {
          "output_type": "stream",
          "name": "stdout",
          "text": [
            "\n",
            "Downloading http://yann.lecun.com/exdb/mnist/train-labels-idx1-ubyte.gz\n",
            "Downloading http://yann.lecun.com/exdb/mnist/train-labels-idx1-ubyte.gz to ./MNIST/raw/train-labels-idx1-ubyte.gz\n"
          ]
        },
        {
          "output_type": "stream",
          "name": "stderr",
          "text": [
            "100%|██████████| 28881/28881 [00:00<00:00, 25610083.26it/s]\n"
          ]
        },
        {
          "output_type": "stream",
          "name": "stdout",
          "text": [
            "Extracting ./MNIST/raw/train-labels-idx1-ubyte.gz to ./MNIST/raw\n",
            "\n",
            "Downloading http://yann.lecun.com/exdb/mnist/t10k-images-idx3-ubyte.gz\n",
            "Downloading http://yann.lecun.com/exdb/mnist/t10k-images-idx3-ubyte.gz to ./MNIST/raw/t10k-images-idx3-ubyte.gz\n"
          ]
        },
        {
          "output_type": "stream",
          "name": "stderr",
          "text": [
            "100%|██████████| 1648877/1648877 [00:00<00:00, 189471285.63it/s]"
          ]
        },
        {
          "output_type": "stream",
          "name": "stdout",
          "text": [
            "Extracting ./MNIST/raw/t10k-images-idx3-ubyte.gz to ./MNIST/raw\n",
            "\n",
            "Downloading http://yann.lecun.com/exdb/mnist/t10k-labels-idx1-ubyte.gz\n",
            "Downloading http://yann.lecun.com/exdb/mnist/t10k-labels-idx1-ubyte.gz to ./MNIST/raw/t10k-labels-idx1-ubyte.gz\n"
          ]
        },
        {
          "output_type": "stream",
          "name": "stderr",
          "text": [
            "\n",
            "100%|██████████| 4542/4542 [00:00<00:00, 20550732.22it/s]\n"
          ]
        },
        {
          "output_type": "stream",
          "name": "stdout",
          "text": [
            "Extracting ./MNIST/raw/t10k-labels-idx1-ubyte.gz to ./MNIST/raw\n",
            "\n"
          ]
        }
      ]
    },
    {
      "cell_type": "code",
      "source": [
        "def make_generator_network(input_size, n_filters):\n",
        "  model = nn.Sequential(\n",
        "      nn.ConvTranspose2d(input_size, n_filters*4, 4,1,0,bias=False),\n",
        "      nn.BatchNorm2d(n_filters*4),\n",
        "      nn.LeakyReLU(0.2),\n",
        "\n",
        "      nn.ConvTranspose2d(n_filters*4, n_filters*2,3,2,1,bias=False),\n",
        "      nn.BatchNorm2d(n_filters*2),\n",
        "      nn.LeakyReLU(0.2),\n",
        "\n",
        "      nn.ConvTranspose2d(n_filters*2, n_filters,4,2,1,bias=False),\n",
        "      nn.BatchNorm2d(n_filters),\n",
        "      nn.LeakyReLU(0.2),\n",
        "\n",
        "      nn.ConvTranspose2d(n_filters, 1,4,2,1, bias=False),\n",
        "      nn.Tanh()\n",
        "  )\n",
        "  return model\n",
        "\n",
        "class Discriminator(nn.Module):\n",
        "  def __init__(self,n_filters):\n",
        "    super().__init__()\n",
        "    self.network = nn.Sequential(\n",
        "        nn.Conv2d(1,n_filters, 4,2,1,bias=False),\n",
        "        nn.LeakyReLU(0.2),\n",
        "\n",
        "        nn.Conv2d(n_filters, n_filters*2,4,2,1, bias=False),\n",
        "        nn.BatchNorm2d(n_filters*2),\n",
        "        nn.LeakyReLU(0.2),\n",
        "\n",
        "        nn.Conv2d(n_filters*2, n_filters*4,3,2,1, bias=False),\n",
        "        nn.BatchNorm2d(n_filters*4),\n",
        "        nn.LeakyReLU(0.2),\n",
        "\n",
        "        nn.Conv2d(n_filters*4,1,4,1,0,bias=False),\n",
        "        nn.Sigmoid()\n",
        "    )\n",
        "  def forward(self, input):\n",
        "    output = self.network(input)\n",
        "    return output.view(-1,1).squeeze(0)"
      ],
      "metadata": {
        "id": "H0OLBQw8wNtv"
      },
      "execution_count": 5,
      "outputs": []
    },
    {
      "cell_type": "code",
      "source": [
        "z_size = 100\n",
        "image_size = (28,28)\n",
        "n_filters = 32\n",
        "gen_model = make_generator_network(z_size, n_filters).to(device)\n",
        "print(gen_model)\n",
        "disc_model = Discriminator(n_filters).to(device)\n",
        "print(disc_model)"
      ],
      "metadata": {
        "colab": {
          "base_uri": "https://localhost:8080/"
        },
        "id": "LdCR_eLb10b6",
        "outputId": "13414499-b231-4378-8d6d-2fff20c3db0a"
      },
      "execution_count": null,
      "outputs": [
        {
          "output_type": "stream",
          "name": "stdout",
          "text": [
            "Sequential(\n",
            "  (0): ConvTranspose2d(100, 128, kernel_size=(4, 4), stride=(1, 1), bias=False)\n",
            "  (1): BatchNorm2d(128, eps=1e-05, momentum=0.1, affine=True, track_running_stats=True)\n",
            "  (2): LeakyReLU(negative_slope=0.2)\n",
            "  (3): ConvTranspose2d(128, 64, kernel_size=(3, 3), stride=(2, 2), padding=(1, 1), bias=False)\n",
            "  (4): BatchNorm2d(64, eps=1e-05, momentum=0.1, affine=True, track_running_stats=True)\n",
            "  (5): LeakyReLU(negative_slope=0.2)\n",
            "  (6): ConvTranspose2d(64, 32, kernel_size=(4, 4), stride=(2, 2), padding=(1, 1), bias=False)\n",
            "  (7): BatchNorm2d(32, eps=1e-05, momentum=0.1, affine=True, track_running_stats=True)\n",
            "  (8): LeakyReLU(negative_slope=0.2)\n",
            "  (9): ConvTranspose2d(32, 1, kernel_size=(4, 4), stride=(2, 2), padding=(1, 1), bias=False)\n",
            "  (10): Tanh()\n",
            ")\n",
            "Discriminator(\n",
            "  (network): Sequential(\n",
            "    (0): Conv2d(1, 32, kernel_size=(4, 4), stride=(2, 2), padding=(1, 1), bias=False)\n",
            "    (1): LeakyReLU(negative_slope=0.2)\n",
            "    (2): Conv2d(32, 64, kernel_size=(4, 4), stride=(2, 2), padding=(1, 1), bias=False)\n",
            "    (3): BatchNorm2d(64, eps=1e-05, momentum=0.1, affine=True, track_running_stats=True)\n",
            "    (4): LeakyReLU(negative_slope=0.2)\n",
            "    (5): Conv2d(64, 128, kernel_size=(3, 3), stride=(2, 2), padding=(1, 1), bias=False)\n",
            "    (6): BatchNorm2d(128, eps=1e-05, momentum=0.1, affine=True, track_running_stats=True)\n",
            "    (7): LeakyReLU(negative_slope=0.2)\n",
            "    (8): Conv2d(128, 1, kernel_size=(4, 4), stride=(1, 1), bias=False)\n",
            "    (9): Sigmoid()\n",
            "  )\n",
            ")\n"
          ]
        }
      ]
    },
    {
      "cell_type": "code",
      "source": [
        "# 손실함수와 옵티마이져\n",
        "loss_fn = nn.BCELoss()\n",
        "g_optimizer = torch.optim.Adam(gen_model.parameters(),0.0003)\n",
        "d_optimizer = torch.optim.Adam(disc_model.parameters(), 0.0002)"
      ],
      "metadata": {
        "id": "2WgeVZSy2Kva"
      },
      "execution_count": null,
      "outputs": []
    },
    {
      "cell_type": "code",
      "source": [
        "def create_noise(batch_size, z_size,mode_z):\n",
        "  if mode_z == 'uniform':\n",
        "    input_z = torch.rand(batch_size, z_size,1,1)*2 - 1\n",
        "  elif mode_z == 'normal':\n",
        "    input_z = torch.randn(batch_size, z_size,1,1)\n",
        "  return input_z"
      ],
      "metadata": {
        "id": "JhLMGCTE2taW"
      },
      "execution_count": 23,
      "outputs": []
    },
    {
      "cell_type": "code",
      "source": [
        "# 판별자 훈련\n",
        "def d_train(x):\n",
        "  disc_model.zero_grad()\n",
        "    # 진짜 배치에서 판별자 훈련\n",
        "  batch_size = x.size(0)\n",
        "  x = x.to(device)\n",
        "  d_labels_real = torch.ones(batch_size, 1, device=device)\n",
        "\n",
        "  d_proba_real = disc_model(x)\n",
        "  d_loss_real = loss_fn(d_proba_real, d_labels_real)\n",
        "\n",
        "  # 가짜 배치에서 판별자 훈련\n",
        "  input_z = create_noise(batch_size, z_size, mode_z).to(device)\n",
        "  g_output = gen_model(input_z)\n",
        "\n",
        "  d_proba_fake = disc_model(g_output)\n",
        "  d_labels_fake = torch.zeros(batch_size, 1, device=device)\n",
        "  d_loss_fake = loss_fn(d_proba_fake, d_labels_fake)\n",
        "\n",
        "  # 그레이디언트 역전파와 판별자 파라미터 최적화\n",
        "  d_loss = d_loss_real + d_loss_fake\n",
        "  d_loss.backward()\n",
        "  d_optimizer.step()\n",
        "\n",
        "  return d_loss.data.item(), d_proba_real.detach(), d_proba_fake.detach()"
      ],
      "metadata": {
        "id": "J5p8oiqK3Ggo"
      },
      "execution_count": null,
      "outputs": []
    },
    {
      "cell_type": "code",
      "source": [
        "# 생성자 훈련\n",
        "def g_train(x):\n",
        "  gen_model.zero_grad()\n",
        "  batch_size = x.size(0)\n",
        "  input_z = create_noise(batch_size, z_size, mode_z).to(device)\n",
        "  g_labels_real = torch.ones((batch_size,1),device=device)\n",
        "\n",
        "  g_output = gen_model(input_z)\n",
        "  d_proba_fake = disc_model(g_output)\n",
        "  g_loss = loss_fn(d_proba_fake, g_labels_real)\n",
        "\n",
        "  # 그레이디언트 역전파와 생성자 파라미터 최적화\n",
        "  g_loss.backward()\n",
        "  g_optimizer.step()\n",
        "\n",
        "  return g_loss.data.item()"
      ],
      "metadata": {
        "id": "PnE_gwTu44lv"
      },
      "execution_count": null,
      "outputs": []
    },
    {
      "cell_type": "code",
      "source": [
        "mode_z = 'uniform'\n",
        "fixed_z = create_noise(batch_size, z_size, mode_z).to(device)\n",
        "\n",
        "def create_samples(g_model, input_z):\n",
        "    g_output = g_model(input_z)\n",
        "    images = torch.reshape(g_output, (batch_size, *image_size))\n",
        "    return (images+1)/2.0\n",
        "\n",
        "epoch_samples = []\n",
        "\n",
        "num_epochs = 100\n",
        "torch.manual_seed(1)\n",
        "\n",
        "for epoch in range(1, num_epochs+1):\n",
        "    gen_model.train()\n",
        "    d_losses, g_losses = [], []\n",
        "    for i, (x, _) in enumerate(mnist_dl):\n",
        "        d_loss, d_proba_real, d_proba_fake = d_train(x)\n",
        "        d_losses.append(d_loss)\n",
        "        g_losses.append(g_train(x))\n",
        "\n",
        "    print(f'에포크 {epoch:03d} | 평균 손실 >>'\n",
        "          f' 생성자/판별자 {torch.FloatTensor(g_losses).mean():.4f}'\n",
        "          f'/{torch.FloatTensor(d_losses).mean():.4f}')\n",
        "    gen_model.eval()\n",
        "    epoch_samples.append(\n",
        "        create_samples(gen_model, fixed_z).detach().cpu().numpy())"
      ],
      "metadata": {
        "colab": {
          "base_uri": "https://localhost:8080/",
          "height": 224
        },
        "id": "popAigHo5kWu",
        "outputId": "af26149d-fd7f-4cd7-86b7-a2f7d42bcb48"
      },
      "execution_count": 25,
      "outputs": [
        {
          "output_type": "error",
          "ename": "NameError",
          "evalue": "name 'd_train' is not defined",
          "traceback": [
            "\u001b[0;31m---------------------------------------------------------------------------\u001b[0m",
            "\u001b[0;31mNameError\u001b[0m                                 Traceback (most recent call last)",
            "\u001b[0;32m<ipython-input-25-c93ab4f860ad>\u001b[0m in \u001b[0;36m<cell line: 14>\u001b[0;34m()\u001b[0m\n\u001b[1;32m     16\u001b[0m     \u001b[0md_losses\u001b[0m\u001b[0;34m,\u001b[0m \u001b[0mg_losses\u001b[0m \u001b[0;34m=\u001b[0m \u001b[0;34m[\u001b[0m\u001b[0;34m]\u001b[0m\u001b[0;34m,\u001b[0m \u001b[0;34m[\u001b[0m\u001b[0;34m]\u001b[0m\u001b[0;34m\u001b[0m\u001b[0;34m\u001b[0m\u001b[0m\n\u001b[1;32m     17\u001b[0m     \u001b[0;32mfor\u001b[0m \u001b[0mi\u001b[0m\u001b[0;34m,\u001b[0m \u001b[0;34m(\u001b[0m\u001b[0mx\u001b[0m\u001b[0;34m,\u001b[0m \u001b[0m_\u001b[0m\u001b[0;34m)\u001b[0m \u001b[0;32min\u001b[0m \u001b[0menumerate\u001b[0m\u001b[0;34m(\u001b[0m\u001b[0mmnist_dl\u001b[0m\u001b[0;34m)\u001b[0m\u001b[0;34m:\u001b[0m\u001b[0;34m\u001b[0m\u001b[0;34m\u001b[0m\u001b[0m\n\u001b[0;32m---> 18\u001b[0;31m         \u001b[0md_loss\u001b[0m\u001b[0;34m,\u001b[0m \u001b[0md_proba_real\u001b[0m\u001b[0;34m,\u001b[0m \u001b[0md_proba_fake\u001b[0m \u001b[0;34m=\u001b[0m \u001b[0md_train\u001b[0m\u001b[0;34m(\u001b[0m\u001b[0mx\u001b[0m\u001b[0;34m)\u001b[0m\u001b[0;34m\u001b[0m\u001b[0;34m\u001b[0m\u001b[0m\n\u001b[0m\u001b[1;32m     19\u001b[0m         \u001b[0md_losses\u001b[0m\u001b[0;34m.\u001b[0m\u001b[0mappend\u001b[0m\u001b[0;34m(\u001b[0m\u001b[0md_loss\u001b[0m\u001b[0;34m)\u001b[0m\u001b[0;34m\u001b[0m\u001b[0;34m\u001b[0m\u001b[0m\n\u001b[1;32m     20\u001b[0m         \u001b[0mg_losses\u001b[0m\u001b[0;34m.\u001b[0m\u001b[0mappend\u001b[0m\u001b[0;34m(\u001b[0m\u001b[0mg_train\u001b[0m\u001b[0;34m(\u001b[0m\u001b[0mx\u001b[0m\u001b[0;34m)\u001b[0m\u001b[0;34m)\u001b[0m\u001b[0;34m\u001b[0m\u001b[0;34m\u001b[0m\u001b[0m\n",
            "\u001b[0;31mNameError\u001b[0m: name 'd_train' is not defined"
          ]
        }
      ]
    },
    {
      "cell_type": "code",
      "source": [
        "\n",
        "# 시각화를 위해서 수집한 변수를 저장하고 불러오기\n",
        "saved_variables = {\n",
        "    'epoch_samples': epoch_samples,\n",
        "    'd_losses': d_losses,\n",
        "    'g_losses': g_losses\n",
        "}\n",
        "torch.save(saved_variables,'/content/drive/MyDrive/saved_variables2,pth')\n",
        "\n",
        "\n",
        "# 판별자 모델\n",
        "torch.save(disc_model,'/content/drive/MyDrive/disc_model2.pth')\n",
        " # 생성자 모델\n",
        "torch.save(gen_model,'/content/drive/MyDrive/gen_model2.pth')"
      ],
      "metadata": {
        "id": "Z7zKDfdS7EPk"
      },
      "execution_count": null,
      "outputs": []
    },
    {
      "cell_type": "code",
      "source": [
        "import torch\n",
        "\n",
        "\n",
        "device = 'cuda' if torch.cuda.is_available() else 'cpu'\n",
        "print(f\"device : {device}\")\n",
        "\n",
        "# 불러오기\n",
        "loaded_variables = torch.load('/content/drive/MyDrive/saved_variables2,pth')\n",
        "# 각 변수를 불러오기\n",
        "epoch_samples = loaded_variables['epoch_samples']\n",
        "d_losses = loaded_variables['d_losses']\n",
        "g_losses = loaded_variables['g_losses']\n",
        "# 판별자 생성자 모델 불러오기\n",
        "disc_model = torch.load('/content/drive/MyDrive/disc_model2.pth')\n",
        "gen_model = torch.load('/content/drive/MyDrive/gen_model2.pth')"
      ],
      "metadata": {
        "colab": {
          "base_uri": "https://localhost:8080/"
        },
        "id": "q4Se88q1CS3l",
        "outputId": "f748df2d-f7b5-42a2-c566-02e6d2d26782"
      },
      "execution_count": 6,
      "outputs": [
        {
          "output_type": "stream",
          "name": "stdout",
          "text": [
            "device : cuda\n"
          ]
        }
      ]
    },
    {
      "cell_type": "code",
      "source": [
        "import matplotlib.pyplot as plt\n",
        "\n",
        "selected_epochs = [1,2,4,10,50,100]\n",
        "fig = plt.figure(figsize=(10,14))\n",
        "for i, e in enumerate(selected_epochs):\n",
        "  for j in range(5):\n",
        "    ax = fig.add_subplot(6,5, i*5 + j+1)\n",
        "    ax.set_xticks([])\n",
        "    ax.set_yticks([])\n",
        "    if j== 0:\n",
        "      ax.text(-0.06,0.5,f'Epoch{e}', rotation=90, size=18, color='red', horizontalalignment='right',verticalalignment='center',transform=ax.transAxes  )\n",
        "    image = epoch_samples[e-1][j]\n",
        "    ax.imshow(image, cmap='gray_r')\n",
        "plt.show()"
      ],
      "metadata": {
        "id": "udWT-EwpC0T1",
        "colab": {
          "base_uri": "https://localhost:8080/",
          "height": 1000
        },
        "outputId": "f15c2b98-7462-4b3f-9a5a-7e63621f8de1"
      },
      "execution_count": 8,
      "outputs": [
        {
          "output_type": "display_data",
          "data": {
            "text/plain": [
              "<Figure size 1000x1400 with 30 Axes>"
            ],
            "image/png": "[encoded data removed]"
          },
          "metadata": {}
        }
      ]
    },
    {
      "cell_type": "code",
      "source": [
        "# GAN에 EM 거리 사용\n",
        "# 그레이디언트 페널티\n",
        "# WGAN-GP 로 DCGAN 모델 훈련"
      ],
      "metadata": {
        "id": "visHJPbix46S"
      },
      "execution_count": 9,
      "outputs": []
    },
    {
      "cell_type": "code",
      "source": [
        "def make_generator_network_wgan(input_size, n_filters):\n",
        "  model = nn.Sequential(\n",
        "      nn.ConvTranspose2d(input_size, n_filters*4, 4,1,0,bias=False),\n",
        "      nn.InstanceNorm2d(n_filters*4),\n",
        "      nn.LeakyReLU(0.2),\n",
        "\n",
        "      nn.ConvTranspose2d(n_filters*4, n_filters*2,3,2,1,bias=False),\n",
        "      nn.InstanceNorm2d(n_filters*2),\n",
        "      nn.LeakyReLU(0.2),\n",
        "\n",
        "      nn.ConvTranspose2d(n_filters*2, n_filters, 4,2,1,bias=False),\n",
        "      nn.InstanceNorm2d(n_filters),\n",
        "      nn.LeakyReLU(0.2),\n",
        "\n",
        "      nn.ConvTranspose2d(n_filters,1,4,2,1,bias=False),\n",
        "      nn.Tanh()\n",
        "  )\n",
        "  return model\n",
        "\n",
        "import torch.nn as nn\n",
        "\n",
        "class DiscriminatorWGAN(nn.Module):\n",
        "  def __init__(self, n_filters):\n",
        "    super().__init__()\n",
        "    self.network = nn.Sequential(\n",
        "        nn.Conv2d(1, n_filters,4,2,1,bias=False),\n",
        "        nn.LeakyReLU(0.2),\n",
        "\n",
        "        nn.Conv2d(n_filters, n_filters*2, 4,2,1,bias=False),\n",
        "        nn.InstanceNorm2d(n_filters*2),\n",
        "        nn.LeakyReLU(0.2),\n",
        "\n",
        "        nn.Conv2d(n_filters*2, n_filters*4, 3,2,1,bias=False),\n",
        "        nn.InstanceNorm2d(n_filters*4),\n",
        "        nn.LeakyReLU(0.2),\n",
        "\n",
        "        nn.Conv2d(n_filters*4,1,4,1,0,bias=False),\n",
        "        nn.Sigmoid()\n",
        "    )\n",
        "  def forward(self, input):\n",
        "    output = self.network(input)\n",
        "    return output.view(-1,1).squeeze(0)"
      ],
      "metadata": {
        "id": "nDcVYrNJyEYF"
      },
      "execution_count": 14,
      "outputs": []
    },
    {
      "cell_type": "code",
      "source": [
        "z_size = 100\n",
        "image_size = (28,28)\n",
        "n_filters = 32\\\n",
        "\n",
        "gen_model = make_generator_network_wgan(z_size, n_filters).to(device)\n",
        "disc_model = DiscriminatorWGAN(n_filters).to(device)\n",
        "\n",
        "g_optimizer = torch.optim.Adam(gen_model.parameters(),0.0002)\n",
        "d_optimizer = torch.optim.Adam(disc_model.parameters(), 0.0002)"
      ],
      "metadata": {
        "id": "5Xm-W65H0xoa"
      },
      "execution_count": 15,
      "outputs": []
    },
    {
      "cell_type": "code",
      "source": [
        "# 보간기법으로 성능향상\n",
        "from torch.autograd import grad as torch_grad"
      ],
      "metadata": {
        "id": "Y3PADY461SyE"
      },
      "execution_count": 16,
      "outputs": []
    },
    {
      "cell_type": "code",
      "source": [
        "def gradient_penalty(real_data, generated_data):\n",
        "  batch_size = real_data.size(0)\n",
        "  #보간 계산\n",
        "  alpha = torch.rand(real_data.shape[0],1,1,1, requires_grad=True, device=device)\n",
        "  interpolated = alpha * real_data + (1 - alpha) * generated_data\n",
        "\n",
        "  #보간된 샘플의 확률 계산\n",
        "  proba_interpolated = disc_model(interpolated)\n",
        "\n",
        "  # 샘플에 대한 확률의 그레이디언트 계산\n",
        "  gradients = torch_grad(outputs=proba_interpolated, inputs=interpolated,\n",
        "                           grad_outputs=torch.ones(proba_interpolated.size(), device=device),\n",
        "                           create_graph=True, retain_graph=True)[0]\n",
        "\n",
        "  gradients = gradients.view(batch_size, -1)\n",
        "  gradients_norm = gradients.norm(2, dim=1)\n",
        "  return lambda_gp * ((gradients_norm - 1)**2).mean()\n"
      ],
      "metadata": {
        "id": "pkTE2CAS14HQ"
      },
      "execution_count": 17,
      "outputs": []
    },
    {
      "cell_type": "code",
      "source": [
        "## Train the discriminator\n",
        "def d_train_wgan(x):\n",
        "    disc_model.zero_grad()\n",
        "\n",
        "    batch_size = x.size(0)\n",
        "    x = x.to(device)\n",
        "\n",
        "    # 진짜 데이터와 생성된 데이터의 확률 계산\n",
        "    d_real = disc_model(x)\n",
        "    input_z = create_noise(batch_size, z_size, mode_z).to(device)\n",
        "    g_output = gen_model(input_z)\n",
        "    d_generated = disc_model(g_output)\n",
        "    d_loss = d_generated.mean() - d_real.mean() + gradient_penalty(x.data, g_output.data)\n",
        "    d_loss.backward()\n",
        "    d_optimizer.step()\n",
        "\n",
        "    return d_loss.data.item()"
      ],
      "metadata": {
        "id": "wLz_6w-22wD0"
      },
      "execution_count": 18,
      "outputs": []
    },
    {
      "cell_type": "code",
      "source": [
        "#  생성자 훈련\n",
        "def g_train_wgan(x):\n",
        "  gen_model.zero_grad()\n",
        "\n",
        "  batch_size = x.size(0)\n",
        "  input_z = create_noise(batch_size, z_size, mode_z).to(device)\n",
        "  g_output = gen_model(input_z)\n",
        "\n",
        "  d_generated = disc_model(g_output)\n",
        "  g_loss = -d_generated.mean()\n",
        "\n",
        "  # 그레이디언트 역전파와 생성자 파라미터 최적화\n",
        "  g_loss.backward()\n",
        "  g_optimizer.step()\n",
        "  return g_loss.data.item()"
      ],
      "metadata": {
        "id": "nplHi8Ab3-Nr"
      },
      "execution_count": 19,
      "outputs": []
    },
    {
      "cell_type": "code",
      "source": [
        "epoch_sample_wgan = []\n",
        "lambda_gp = 10.0\n",
        "num_epochs = 20\n",
        "torch.manual_seed(1)\n",
        "ciritic_iterations = 5\n",
        "\n",
        "for epoch in range(1, num_epochs+1):\n",
        "  gen_model.train()\n",
        "  d_losses, g_losses = [],[]\n",
        "  for i, (x, _) in enumerate(mnist_dl):\n",
        "    for _ in range(ciritic_iterations):\n",
        "      d_loss = d_train_wgan(x)\n",
        "    d_losses.append(d_loss)\n",
        "    g_losses.append(d_train_wgan(x))\n",
        "  print(f'에포크 {epoch:03d} | 판별자 손실 >> {torch.FloatTensor(d_losses).mean():.4f}')\n",
        "  gen_model.eval()\n",
        "  epoch_sample_wgan.append(create_samples(gen_model, fixed_z).detach().cpu().numpy())"
      ],
      "metadata": {
        "colab": {
          "base_uri": "https://localhost:8080/"
        },
        "id": "x5GbvhdE4jky",
        "outputId": "7ea9ebae-bacc-4a8a-df56-a19e90a819e8"
      },
      "execution_count": null,
      "outputs": [
        {
          "output_type": "stream",
          "name": "stdout",
          "text": [
            "에포크 001 | 판별자 손실 >> -0.7477\n",
            "에포크 002 | 판별자 손실 >> -0.7583\n",
            "에포크 003 | 판별자 손실 >> -0.7627\n"
          ]
        }
      ]
    },
    {
      "cell_type": "code",
      "source": [],
      "metadata": {
        "id": "ArfOFO2y84ib"
      },
      "execution_count": null,
      "outputs": []
    }
  ]
}