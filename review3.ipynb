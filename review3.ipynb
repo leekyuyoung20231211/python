{
  "nbformat": 4,
  "nbformat_minor": 0,
  "metadata": {
    "colab": {
      "provenance": []
    },
    "kernelspec": {
      "name": "python3",
      "display_name": "Python 3"
    },
    "language_info": {
      "name": "python"
    }
  },
  "cells": [
    {
      "cell_type": "code",
      "execution_count": null,
      "metadata": {
        "id": "9H30u7PDv9FG"
      },
      "outputs": [],
      "source": []
    },
    {
      "cell_type": "markdown",
      "source": [
        " - 변수\n",
        " - 자료구조\n",
        "  - 리스트, 튜플, 딕셔너리\n",
        " - 명령문들의 집합\n",
        "  - 함수\n",
        "\n",
        " - 클래스 : 설계도 (붕어빵틀)\n",
        "  - 변수 : 인스턴스 변수\n",
        "  - 함수 : 인스턴스 함수 or 메소드\n",
        "\n",
        " - 객체 : Object\n",
        "  - 클래스의 기능을 사용할수 있도록 하는 일종의 변수"
      ],
      "metadata": {
        "id": "3_XJv_W-v_KP"
      }
    },
    {
      "cell_type": "code",
      "source": [
        "# 일반변수\n",
        "age = 10\n",
        "print(age)"
      ],
      "metadata": {
        "colab": {
          "base_uri": "https://localhost:8080/"
        },
        "id": "OljG_yiTxLUg",
        "outputId": "3d41ab50-e45b-4aea-856b-5774f4b626fd"
      },
      "execution_count": 1,
      "outputs": [
        {
          "output_type": "stream",
          "name": "stdout",
          "text": [
            "10\n"
          ]
        }
      ]
    },
    {
      "cell_type": "code",
      "source": [
        "ages = [45,40,21,15,17]\n",
        "ages.append(100)\n",
        "ages.reverse()\n",
        "print(ages)"
      ],
      "metadata": {
        "colab": {
          "base_uri": "https://localhost:8080/"
        },
        "id": "03DmtQycxwah",
        "outputId": "cb22c6e1-18fd-426b-9ff8-73b302f0ec96"
      },
      "execution_count": 2,
      "outputs": [
        {
          "output_type": "stream",
          "name": "stdout",
          "text": [
            "[100, 17, 15, 21, 40, 45]\n"
          ]
        }
      ]
    },
    {
      "cell_type": "markdown",
      "source": [
        "기본클래스 10개"
      ],
      "metadata": {
        "id": "x8g4TXz-yK7F"
      }
    },
    {
      "cell_type": "code",
      "source": [
        "# 클래스명 Person\n",
        "# 변수 name, age\n",
        "# 함수 introduce  안녕하세요 저는 000 이고 나이는 000 입니다."
      ],
      "metadata": {
        "id": "zchazjwbyMf3"
      },
      "execution_count": 3,
      "outputs": []
    },
    {
      "cell_type": "code",
      "source": [
        "if True:\n",
        "  pass"
      ],
      "metadata": {
        "id": "fRGNuVXxzWyw"
      },
      "execution_count": 4,
      "outputs": []
    },
    {
      "cell_type": "code",
      "source": [
        "for i in range(3):\n",
        "  pass"
      ],
      "metadata": {
        "id": "36AegO_Rzly6"
      },
      "execution_count": 5,
      "outputs": []
    },
    {
      "cell_type": "code",
      "source": [
        "def show():\n",
        "  pass"
      ],
      "metadata": {
        "id": "35P9XdOszoUg"
      },
      "execution_count": 6,
      "outputs": []
    },
    {
      "cell_type": "code",
      "source": [
        "# 클래스\n",
        "class Person:\n",
        "  pass"
      ],
      "metadata": {
        "id": "joi8VKohyej8"
      },
      "execution_count": 7,
      "outputs": []
    },
    {
      "cell_type": "code",
      "source": [
        "# 클래스로 부터 객체를 생성하고 사용\n",
        "p = Person()"
      ],
      "metadata": {
        "id": "VCEOAt1ZzrYq"
      },
      "execution_count": 8,
      "outputs": []
    },
    {
      "cell_type": "code",
      "source": [
        "type(p)"
      ],
      "metadata": {
        "colab": {
          "base_uri": "https://localhost:8080/"
        },
        "id": "NTwi75f60DIQ",
        "outputId": "cd2a249e-b4b2-4f9a-a507-3ace35431591"
      },
      "execution_count": 9,
      "outputs": [
        {
          "output_type": "execute_result",
          "data": {
            "text/plain": [
              "__main__.Person"
            ]
          },
          "metadata": {},
          "execution_count": 9
        }
      ]
    },
    {
      "cell_type": "code",
      "source": [
        "p.age = 10\n",
        "p.name = '홍길동'\n",
        "print(p.age, p.name)"
      ],
      "metadata": {
        "colab": {
          "base_uri": "https://localhost:8080/"
        },
        "id": "sTo7lrrO0Hc1",
        "outputId": "86f17f99-54c3-4ab0-ed43-8ee90b71ee43"
      },
      "execution_count": 10,
      "outputs": [
        {
          "output_type": "stream",
          "name": "stdout",
          "text": [
            "10 홍길동\n"
          ]
        }
      ]
    },
    {
      "cell_type": "markdown",
      "source": [
        "클래스의 변수를 클래스 내부에서 정의\n",
        "  - 변수는 함수를 통해 생성\n",
        "  - 클래스내부의 함수는 항상 첫번째 파라메터로 self를 사용한다.\n",
        "  - self는 실제 호출되지 않는 파라메터이다."
      ],
      "metadata": {
        "id": "cXej-ZxN1ip4"
      }
    },
    {
      "cell_type": "code",
      "source": [
        "class Person():\n",
        "  name = \"\"\n",
        "  age = 0"
      ],
      "metadata": {
        "id": "5S3ZOtda0fYM"
      },
      "execution_count": 14,
      "outputs": []
    },
    {
      "cell_type": "code",
      "source": [
        "p = Person()\n",
        "p2 = Person()\n",
        "p.name = '홍길동'\n",
        "print(p2.name)\n",
        "p2.name = '의적'\n",
        "print(p.name, p2.name)\n"
      ],
      "metadata": {
        "colab": {
          "base_uri": "https://localhost:8080/"
        },
        "id": "MEnOdNhu1raL",
        "outputId": "f1136b68-773b-44e1-c3fc-e749a51f1256"
      },
      "execution_count": 18,
      "outputs": [
        {
          "output_type": "stream",
          "name": "stdout",
          "text": [
            "\n",
            "홍길동 의적\n"
          ]
        }
      ]
    },
    {
      "cell_type": "code",
      "source": [
        "# 클래스에 함수 추가하기\n",
        "class Person():\n",
        "  name = \"\"\n",
        "  age = 0\n",
        "  def introduce(self):\n",
        "    print(f\"저의 이름은 {self.name}이고 나이는 {self.age} 입니다. \")"
      ],
      "metadata": {
        "id": "aeacp0gL1vk7"
      },
      "execution_count": 30,
      "outputs": []
    },
    {
      "cell_type": "code",
      "source": [
        "p = Person()  # 객체 생성\n",
        "p.name = '이순신'   # 객체 변수에 값을 할당\n",
        "p.age = 50          # 객체 변수에 값을 할당\n",
        "p.introduce()    # 클래스내부의 함수--> 메소드를 호출"
      ],
      "metadata": {
        "colab": {
          "base_uri": "https://localhost:8080/"
        },
        "id": "Dh7hW7CU277f",
        "outputId": "482dd588-5d18-4ec6-dee2-a1bb6d59d7c6"
      },
      "execution_count": 31,
      "outputs": [
        {
          "output_type": "stream",
          "name": "stdout",
          "text": [
            "저의 이름은 이순신이고 나이는 50 입니다. \n"
          ]
        }
      ]
    },
    {
      "cell_type": "code",
      "source": [
        "# 클래스 내부의 변수를 함수를 통해 생성\n",
        "class Person():\n",
        "  def initdata(self,name,age):\n",
        "    self.name = name\n",
        "    self.age = age\n",
        "  def introduce(self):\n",
        "    print(f\"저의 이름은 {self.name}이고 나이는 {self.age} 입니다. \")"
      ],
      "metadata": {
        "id": "pRfLOgvp3ELf"
      },
      "execution_count": 34,
      "outputs": []
    },
    {
      "cell_type": "code",
      "source": [
        "p = Person()\n",
        "p.initdata('강감찬',40)\n",
        "p.introduce()"
      ],
      "metadata": {
        "colab": {
          "base_uri": "https://localhost:8080/"
        },
        "id": "NliJBKk16nzn",
        "outputId": "7a5ab5a1-73b4-4c48-e7da-e0335146b4e2"
      },
      "execution_count": 35,
      "outputs": [
        {
          "output_type": "stream",
          "name": "stdout",
          "text": [
            "저의 이름은 강감찬이고 나이는 40 입니다. \n"
          ]
        }
      ]
    },
    {
      "cell_type": "code",
      "source": [
        "p2 = Person()   # 객체생성\n",
        "p2.introduce()"
      ],
      "metadata": {
        "id": "UNKPJjyl6wEs"
      },
      "execution_count": null,
      "outputs": []
    },
    {
      "cell_type": "markdown",
      "source": [
        "생성자\n",
        "  - 객체생성시 자동으로 호출\n",
        "  - 자동 호출이기 때문에 이름은 지정되어 있다\n",
        "  - 사용자가 내용을 채워넣지 않으면 빈 껍대기가 실행된다 그리고 보이지 않는다"
      ],
      "metadata": {
        "id": "BtpDjjI5_5BL"
      }
    },
    {
      "cell_type": "code",
      "source": [
        "# 생성자\n",
        "class Person():\n",
        "  def __init__(self):  # 생성자\n",
        "    print(\"생성자가 호출되었습니다.\")\n",
        "\n",
        "  def initdata(self,name,age):\n",
        "    self.name = name\n",
        "    self.age = age\n",
        "  def introduce(self):\n",
        "    print(f\"저의 이름은 {self.name}이고 나이는 {self.age} 입니다. \")"
      ],
      "metadata": {
        "id": "o-OILMmb-hRX"
      },
      "execution_count": 39,
      "outputs": []
    },
    {
      "cell_type": "code",
      "source": [
        "print(\"객체 생성전.....\")\n",
        "p = Person()\n",
        "print(\"객체 생성후.....\")\n",
        "p.initdata('강감찬',40)\n",
        "p.introduce()"
      ],
      "metadata": {
        "colab": {
          "base_uri": "https://localhost:8080/"
        },
        "id": "k3JQMbdWAZ7h",
        "outputId": "bc5057fe-9378-4132-9f36-32bcdc4af20f"
      },
      "execution_count": 40,
      "outputs": [
        {
          "output_type": "stream",
          "name": "stdout",
          "text": [
            "객체 생성전.....\n",
            "생성자가 호출되었습니다.\n",
            "객체 생성후.....\n",
            "저의 이름은 강감찬이고 나이는 40 입니다. \n"
          ]
        }
      ]
    },
    {
      "cell_type": "code",
      "source": [
        "# 생성자\n",
        "class Person():\n",
        "  def __init__(self,name=\"무명\",age=1):  # 생성자 는 변수생성 및 초기화의 역활로 딱이다.\n",
        "    self.name = name\n",
        "    self.age = age\n",
        "\n",
        "  def introduce(self):\n",
        "    print(f\"저의 이름은 {self.name}이고 나이는 {self.age} 입니다. \")"
      ],
      "metadata": {
        "id": "I-Mdn398Ab9t"
      },
      "execution_count": 44,
      "outputs": []
    },
    {
      "cell_type": "code",
      "source": [
        "p = Person('홍길동', 18)\n",
        "p.introduce()\n",
        "\n",
        "p2 = Person()\n",
        "p2.introduce()"
      ],
      "metadata": {
        "colab": {
          "base_uri": "https://localhost:8080/"
        },
        "id": "Z0lMt7-5BcHI",
        "outputId": "3e2c6c06-269e-4c52-ef4b-bfce89261d33"
      },
      "execution_count": 46,
      "outputs": [
        {
          "output_type": "stream",
          "name": "stdout",
          "text": [
            "저의 이름은 홍길동이고 나이는 18 입니다. \n",
            "저의 이름은 무명이고 나이는 1 입니다. \n"
          ]
        }
      ]
    },
    {
      "cell_type": "markdown",
      "source": [
        "클래스 작성\n",
        "* class 클래스명():\n",
        "*   def __init__(self):\n",
        "**     필요한 변수 생성\n",
        "\n",
        "필요한 다양한 메소 드 작성"
      ],
      "metadata": {
        "id": "oHR5Ug9PCNnK"
      }
    },
    {
      "cell_type": "markdown",
      "source": [
        "계산기 클래스 : Calculator\n",
        "  - 변수 x, y\n",
        "  - add 메소드\n",
        "  - minus 메소드\n",
        "  - divide 메소드\n",
        "  - multi 메소드\n",
        ""
      ],
      "metadata": {
        "id": "NWeNOX4nCixS"
      }
    },
    {
      "cell_type": "code",
      "source": [
        "class Calculator():\n",
        "  def __init__(self,x,y):\n",
        "    self.x = x\n",
        "    self.y = y\n",
        "  def add(self):\n",
        "    return self.x + self.y\n",
        "  def minus(self):\n",
        "    return self.x - self.y\n",
        "  def multi(self):\n",
        "    return self.x * self.y\n",
        "  def devide(self):\n",
        "    return self.x / self.y"
      ],
      "metadata": {
        "id": "WdWC6QI9Bki-"
      },
      "execution_count": 54,
      "outputs": []
    },
    {
      "cell_type": "code",
      "source": [
        "c = Calculator(10,20)\n",
        "print(c.add()); print(c.minus()); print(c.multi()); print(c.devide())\n"
      ],
      "metadata": {
        "colab": {
          "base_uri": "https://localhost:8080/"
        },
        "id": "57TKxUTfEUUW",
        "outputId": "d295f338-bee2-47b5-c42c-e279e37900f1"
      },
      "execution_count": 55,
      "outputs": [
        {
          "output_type": "stream",
          "name": "stdout",
          "text": [
            "30\n",
            "-10\n",
            "200\n",
            "0.5\n"
          ]
        }
      ]
    },
    {
      "cell_type": "code",
      "source": [
        "class Calculator():\n",
        "  def __init__(self,x,y):\n",
        "    self.x = x\n",
        "    self.y = y\n",
        "  def add(self):\n",
        "    print(self.x + self.y)\n",
        "  def minus(self):\n",
        "    print( self.x - self.y)\n",
        "  def multi(self):\n",
        "    print( self.x * self.y )\n",
        "  def devide(self):\n",
        "    print( self.x / self.y )"
      ],
      "metadata": {
        "id": "63eVJ2g2EggA"
      },
      "execution_count": 56,
      "outputs": []
    },
    {
      "cell_type": "code",
      "source": [
        "c = Calculator(10,20)\n",
        "c.add();c.minus(); c.multi(); c.devide()"
      ],
      "metadata": {
        "colab": {
          "base_uri": "https://localhost:8080/"
        },
        "id": "22P2E5nzE2jX",
        "outputId": "a66e152e-c5aa-47a8-a99c-0a0f450c1ded"
      },
      "execution_count": 57,
      "outputs": [
        {
          "output_type": "stream",
          "name": "stdout",
          "text": [
            "30\n",
            "-10\n",
            "200\n",
            "0.5\n"
          ]
        }
      ]
    },
    {
      "cell_type": "code",
      "source": [
        "c = Calculator(10,20)\n",
        "temp =  c.add()\n",
        "print(temp)"
      ],
      "metadata": {
        "colab": {
          "base_uri": "https://localhost:8080/"
        },
        "id": "0bP1fMXcE8Sq",
        "outputId": "82cb3430-86fe-4877-ad67-bd3ea5911ae0"
      },
      "execution_count": 58,
      "outputs": [
        {
          "output_type": "stream",
          "name": "stdout",
          "text": [
            "30\n",
            "None\n"
          ]
        }
      ]
    },
    {
      "cell_type": "code",
      "source": [
        "# 클래스와 람다 결합\n",
        "class Calculator():\n",
        "  def __init__(self,x,y):\n",
        "    self.x = x\n",
        "    self.y = y\n",
        "  def process(self, func  ):\n",
        "    return func(self.x,  self.y)"
      ],
      "metadata": {
        "id": "J4-xoVVvFS8l"
      },
      "execution_count": 60,
      "outputs": []
    },
    {
      "cell_type": "code",
      "source": [
        "p = Calculator(10,20)  # 객체생성\n",
        "p.process( lambda a,b : (a + b)*2   )"
      ],
      "metadata": {
        "colab": {
          "base_uri": "https://localhost:8080/"
        },
        "id": "BtsBcG5IF-Tk",
        "outputId": "a703dd04-f2bf-4b58-d69e-ab9a155035bd"
      },
      "execution_count": 66,
      "outputs": [
        {
          "output_type": "execute_result",
          "data": {
            "text/plain": [
              "60"
            ]
          },
          "metadata": {},
          "execution_count": 66
        }
      ]
    },
    {
      "cell_type": "code",
      "source": [
        "# 사각형 클래스\n",
        "# Rectangle\n",
        "# 변수 width, height\n",
        "# def calcualte_area   면적계산\n",
        "\n",
        "# 책\n",
        "# Book\n",
        "# 변수 title, author\n",
        "# get_info()  타이틀과 작가 출력\n",
        "\n",
        "# 차량클래스\n",
        "# Vehicle\n",
        "# 변수 make model year\n",
        "# def display_info  변수의 값들을 출력"
      ],
      "metadata": {
        "id": "sCn5MaFqGTiA"
      },
      "execution_count": null,
      "outputs": []
    },
    {
      "cell_type": "code",
      "source": [
        "class Book():\n",
        "  def __init__(self,title,author) -> None:\n",
        "    self.title = title\n",
        "    self.author = author\n",
        "  def get_info(self):\n",
        "    return f'title:{self.title}  author:{self.author}'\n",
        "\n",
        "book = Book(\"파이썬 정복\", '이선생')\n",
        "binfo = book.get_info()\n",
        "print(binfo)"
      ],
      "metadata": {
        "colab": {
          "base_uri": "https://localhost:8080/"
        },
        "id": "sML4PyB_KzPN",
        "outputId": "37ed06ce-649c-4f2f-de01-85f0ce6064f3"
      },
      "execution_count": 67,
      "outputs": [
        {
          "output_type": "stream",
          "name": "stdout",
          "text": [
            "title:파이썬 정복  author:이선생\n"
          ]
        }
      ]
    },
    {
      "cell_type": "markdown",
      "source": [
        "상속\n",
        "  - 상속받는 클래스에다가 모든 기능을 전달\n",
        "  - 상속받는 클래스는 자기에관한 고유 기능만 따로 개발\n",
        "  - 복잡도가 낮아지고 같은 계열을 상속 받은 클래스들은 공통 특징을 가진다."
      ],
      "metadata": {
        "id": "bHlSZN7TLhi0"
      }
    },
    {
      "cell_type": "code",
      "source": [
        "class Aaa():\n",
        "  def __init__(self,x) -> None:\n",
        "    self.x = x\n",
        "  def aaa_func(self):\n",
        "    print(\"나는 Aaa 클래스에 있는 함수\",self.x)\n",
        "\n",
        "class Bbb():\n",
        "  def __init__(self,x) -> None:\n",
        "    self.x = x\n",
        "  def bbb_func(self):\n",
        "    print(\"나는 Bbb 클래스에 있는 함수\",self.x)\n"
      ],
      "metadata": {
        "id": "yHTSzpStLe0z"
      },
      "execution_count": 72,
      "outputs": []
    },
    {
      "cell_type": "code",
      "source": [
        "a = Aaa(10)\n",
        "b = Bbb(20)\n",
        "\n",
        "a.aaa_func()\n",
        "b.bbb_func()"
      ],
      "metadata": {
        "colab": {
          "base_uri": "https://localhost:8080/"
        },
        "id": "Uu_SjqJEM6DL",
        "outputId": "44b46511-c308-416e-edd5-b8e0f34ab1a7"
      },
      "execution_count": 73,
      "outputs": [
        {
          "output_type": "stream",
          "name": "stdout",
          "text": [
            "나는 Aaa 클래스에 있는 함수 10\n",
            "나는 Bbb 클래스에 있는 함수 20\n"
          ]
        }
      ]
    },
    {
      "cell_type": "code",
      "source": [
        "class Aaa():\n",
        "  def __init__(self,x) -> None:\n",
        "    self.x = x\n",
        "\n",
        "  def aaa_func(self):\n",
        "    print(\"나는 Aaa 클래스에 있는 함수\",self.x)\n",
        "\n",
        "class Bbb(Aaa):\n",
        "  def __init__(self, x) -> None:\n",
        "    super().__init__(x)   # super() 상속받은 클래스의 객체를 뜻한다.... self는 자신을 나타내는 객체\n",
        "    # 부모없이 자식이 있을수 있을까요?\n",
        "\n",
        "  def bbb_func(self):\n",
        "    print(\"나는 Bbb 클래스에 있는 함수\",self.x)"
      ],
      "metadata": {
        "id": "fxOOv-LBNY2e"
      },
      "execution_count": 82,
      "outputs": []
    },
    {
      "cell_type": "code",
      "source": [
        "b = Bbb(20)\n",
        "b.bbb_func()\n",
        "b.aaa_func()"
      ],
      "metadata": {
        "colab": {
          "base_uri": "https://localhost:8080/"
        },
        "id": "7Jle-Rp6NuQE",
        "outputId": "bd86ed34-5b3f-455e-814e-b7a5a837b279"
      },
      "execution_count": 83,
      "outputs": [
        {
          "output_type": "stream",
          "name": "stdout",
          "text": [
            "나는 Bbb 클래스에 있는 함수 20\n",
            "나는 Aaa 클래스에 있는 함수 20\n"
          ]
        }
      ]
    },
    {
      "cell_type": "code",
      "source": [
        "class Aaa():\n",
        "  def __init__(self,x) -> None:\n",
        "    self.x = x\n",
        "\n",
        "  def aaa_func(self):\n",
        "    print(\"나는 Aaa 클래스에 있는 함수\",self.x)\n",
        "\n",
        "class Bbb(Aaa):\n",
        "  def __init__(self, x,y) -> None:\n",
        "    super().__init__(x)   # super() 상속받은 클래스의 객체를 뜻한다.... self는 자신을 나타내는 객체\n",
        "    # 부모없이 자식이 있을수 있을까요?\n",
        "    self.y = y\n",
        "\n",
        "  def bbb_func(self):\n",
        "    print(\"나는 Bbb 클래스에 있는 함수\",self.x, self.y)\n"
      ],
      "metadata": {
        "id": "z1XoOkpQNx_v"
      },
      "execution_count": 85,
      "outputs": []
    },
    {
      "cell_type": "code",
      "source": [
        "b = Bbb(20,30)\n",
        "b.bbb_func()\n",
        "b.aaa_func()"
      ],
      "metadata": {
        "colab": {
          "base_uri": "https://localhost:8080/"
        },
        "id": "PDMNUGTDQ1oJ",
        "outputId": "d4574fd6-0579-4483-e1f2-fbe60cd12aa4"
      },
      "execution_count": 87,
      "outputs": [
        {
          "output_type": "stream",
          "name": "stdout",
          "text": [
            "나는 Bbb 클래스에 있는 함수 20 30\n",
            "나는 Aaa 클래스에 있는 함수 20\n"
          ]
        }
      ]
    },
    {
      "cell_type": "markdown",
      "source": [
        "언제 상속관계를 갖을까?\n",
        "  - 여러클래스들의 공통속성을 뽑아서 부모클래스로 만들고\n",
        "  - 상속받는 클래스들을 만들면\n",
        "  - 부모클래스의 속성을 다 가지고 있기때문에.. 클래스들의 관계가 통일성이 있다"
      ],
      "metadata": {
        "id": "d7ImT1ZmRYmY"
      }
    },
    {
      "cell_type": "code",
      "source": [
        "# 부모가 display()메소드를 가지고 있는데.\n",
        "# 자식인 부모를 상속받으면 display() 사용할수 있다 ok\n",
        "\n",
        "# 만약.. 같은 메소드를 부모와 자식이 가지고 있으면?\n",
        "# 자식객체는 누구꺼를 쓸까?\n",
        "\n",
        "class Parents():\n",
        "  def make_money(self):\n",
        "    print(\"열심히 저축해라\")\n",
        "\n",
        "class Child(Parents):\n",
        "  def make_money(self):\n",
        "    print(\"적당한 투자도 하고 부동산도 잘 사고, 부업도 하고,,,\")   # override  오버라이드\n",
        ""
      ],
      "metadata": {
        "id": "-8jGcxikQ7TO"
      },
      "execution_count": 90,
      "outputs": []
    },
    {
      "cell_type": "code",
      "source": [
        "child = Child()\n",
        "child.make_money()"
      ],
      "metadata": {
        "colab": {
          "base_uri": "https://localhost:8080/"
        },
        "id": "yMMXQEfwShaF",
        "outputId": "09c70d09-8927-488c-adca-830a90b81173"
      },
      "execution_count": 91,
      "outputs": [
        {
          "output_type": "stream",
          "name": "stdout",
          "text": [
            "적당한 투자도 하고 부동산도 잘 사고, 부업도 하고,,,\n"
          ]
        }
      ]
    },
    {
      "cell_type": "code",
      "source": [
        "# Dog\n",
        "# speak()\n",
        "\n",
        "# Cat\n",
        "# speak()"
      ],
      "metadata": {
        "id": "m9cYP-neSmJs"
      },
      "execution_count": 92,
      "outputs": []
    },
    {
      "cell_type": "code",
      "source": [
        "class Animal():\n",
        "  def speak(self):\n",
        "    pass\n",
        "\n",
        "class Dog(Animal):\n",
        "  def speak(self):\n",
        "    print(\"멍멍\")\n",
        "\n",
        "class Cat(Animal):\n",
        "  def speak(self):\n",
        "    print(\"야옹야옹\")\n",
        "\n",
        "class Lion(Animal):\n",
        "  pass"
      ],
      "metadata": {
        "id": "aOgb8uWITWpC"
      },
      "execution_count": 93,
      "outputs": []
    },
    {
      "cell_type": "code",
      "source": [
        "lion = Lion()\n",
        "lion.speak()"
      ],
      "metadata": {
        "id": "vgpj59RjUMbM"
      },
      "execution_count": 94,
      "outputs": []
    },
    {
      "cell_type": "code",
      "source": [
        "class ZeroWithTenException(Exception):\n",
        "  def __init__(self, *args: object) -> None:\n",
        "    super().__init__(*args)"
      ],
      "metadata": {
        "id": "4VqtEjEjU01q"
      },
      "execution_count": 98,
      "outputs": []
    },
    {
      "cell_type": "code",
      "source": [
        "try:\n",
        "  number = input(\"0과 10사이의 값을 입력하세요\")\n",
        "  if number not in \"0123456789\":\n",
        "    raise ZeroWithTenException(\"반드시 범위내의 값을 입력하셔야 합니다.\")\n",
        "except ZeroWithTenException as e:\n",
        "  print(e)"
      ],
      "metadata": {
        "colab": {
          "base_uri": "https://localhost:8080/"
        },
        "id": "H6Wj5VQSUSdS",
        "outputId": "08229160-dbc0-4ce4-d36c-b2e80221e126"
      },
      "execution_count": 101,
      "outputs": [
        {
          "output_type": "stream",
          "name": "stdout",
          "text": [
            "0과 10사이의 값을 입력하세요500\n",
            "반드시 범위내의 값을 입력하셔야 합니다.\n"
          ]
        }
      ]
    },
    {
      "cell_type": "code",
      "source": [],
      "metadata": {
        "id": "2bvdjl-FUkJM"
      },
      "execution_count": null,
      "outputs": []
    }
  ]
}