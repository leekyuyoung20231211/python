{
  "nbformat": 4,
  "nbformat_minor": 0,
  "metadata": {
    "colab": {
      "provenance": []
    },
    "kernelspec": {
      "name": "python3",
      "display_name": "Python 3"
    },
    "language_info": {
      "name": "python"
    }
  },
  "cells": [
    {
      "cell_type": "code",
      "execution_count": null,
      "metadata": {
        "id": "FQaPrWQADALA"
      },
      "outputs": [],
      "source": []
    },
    {
      "cell_type": "markdown",
      "source": [
        "파이썬 스타일 코드\n",
        "  - split(), join(), 리스트 컴프리핸션, map(),zip(),reduce(), filter(), collection 모듈의 Count()"
      ],
      "metadata": {
        "id": "yFpLKiqEIvpD"
      }
    },
    {
      "cell_type": "code",
      "source": [
        "files = [\n",
        "    'c:/abc/test.csv',\n",
        "    'd:/abc/test/temp.csv',\n",
        "    'c:/program files/utils/model/sample.txt',\n",
        "    'd:/temp/a/b/c/image.jpg'\n",
        "]"
      ],
      "metadata": {
        "id": "1ZfD0KNoI-c6"
      },
      "execution_count": 1,
      "outputs": []
    },
    {
      "cell_type": "code",
      "source": [
        "# files[0] 의 파일명을 추출해서 변수에 담기\n",
        "# hint  split 을 이용\n",
        "files[3].split('/')[-1]"
      ],
      "metadata": {
        "colab": {
          "base_uri": "https://localhost:8080/",
          "height": 35
        },
        "id": "LzJogdGNJea-",
        "outputId": "9e351ee4-9b67-42e0-fb4f-c7be4b218c14"
      },
      "execution_count": 11,
      "outputs": [
        {
          "output_type": "execute_result",
          "data": {
            "text/plain": [
              "'image.jpg'"
            ],
            "application/vnd.google.colaboratory.intrinsic+json": {
              "type": "string"
            }
          },
          "metadata": {},
          "execution_count": 11
        }
      ]
    },
    {
      "cell_type": "code",
      "source": [
        "#  files 리트에 있는 모든 파일명과 확장자를 출력\n",
        "for file in files:\n",
        "  print(file.split('/')[-1])"
      ],
      "metadata": {
        "colab": {
          "base_uri": "https://localhost:8080/"
        },
        "id": "nYtp1m4oKqc-",
        "outputId": "b38a916f-f406-40eb-f29a-c3e1062f525d"
      },
      "execution_count": 15,
      "outputs": [
        {
          "output_type": "stream",
          "name": "stdout",
          "text": [
            "test.csv\n",
            "temp.csv\n",
            "sample.txt\n",
            "image.jpg\n"
          ]
        }
      ]
    },
    {
      "cell_type": "code",
      "source": [
        "# unpacking\n",
        "a,b = [10,20]\n",
        "a,b = (10,20)\n",
        "print(a,b)"
      ],
      "metadata": {
        "colab": {
          "base_uri": "https://localhost:8080/"
        },
        "id": "vF3C2VM7LZjL",
        "outputId": "2c28fdb9-cd75-46d9-fab9-ed5034c2a451"
      },
      "execution_count": 17,
      "outputs": [
        {
          "output_type": "stream",
          "name": "stdout",
          "text": [
            "10 20\n"
          ]
        }
      ]
    },
    {
      "cell_type": "code",
      "source": [
        "dic_1 = {\"국어\":95,  \"영어\":98, \"수학\":88}\n",
        "dic_1.items()"
      ],
      "metadata": {
        "colab": {
          "base_uri": "https://localhost:8080/"
        },
        "id": "vm7TGrD4L7Tg",
        "outputId": "66eb9f46-b02c-498c-8778-cddc85f8fb58"
      },
      "execution_count": 18,
      "outputs": [
        {
          "output_type": "execute_result",
          "data": {
            "text/plain": [
              "dict_items([('국어', 95), ('영어', 98), ('수학', 88)])"
            ]
          },
          "metadata": {},
          "execution_count": 18
        }
      ]
    },
    {
      "cell_type": "code",
      "source": [
        "for a,b in dic_1.items():\n",
        "  print(a,b)"
      ],
      "metadata": {
        "colab": {
          "base_uri": "https://localhost:8080/"
        },
        "id": "2BZ7-ZSzMI0s",
        "outputId": "a90e3b72-f384-4c79-f20d-53d3bd07f9d4"
      },
      "execution_count": 20,
      "outputs": [
        {
          "output_type": "stream",
          "name": "stdout",
          "text": [
            "국어 95\n",
            "영어 98\n",
            "수학 88\n"
          ]
        }
      ]
    },
    {
      "cell_type": "code",
      "source": [
        "# 패킹  - 가변인수\n",
        "def add(*args):\n",
        "  return sum(args)\n",
        "\n",
        "print( add(1,2  )  )"
      ],
      "metadata": {
        "colab": {
          "base_uri": "https://localhost:8080/"
        },
        "id": "I-AQUv22MXJI",
        "outputId": "7af0de4b-9b14-4928-b851-872a5c80ab44"
      },
      "execution_count": 23,
      "outputs": [
        {
          "output_type": "stream",
          "name": "stdout",
          "text": [
            "3\n"
          ]
        }
      ]
    },
    {
      "cell_type": "markdown",
      "source": [
        "리스트 컴프리 핸션\n",
        "  - for문에서 수행하는 명령어가(로직이)한개일때\n",
        "  - 결과를 리스트로 만들어준다.\n",
        "  - [  표현문  순환문]"
      ],
      "metadata": {
        "id": "monTK28SO9KJ"
      }
    },
    {
      "cell_type": "code",
      "source": [
        "# 임의의 숫자 5개 만들기(리스트로)\n",
        "import random\n",
        "list_1 = []\n",
        "for i in range(5):\n",
        "  list_1.append( random.randint(1,10)   )\n",
        "\n",
        "list_1"
      ],
      "metadata": {
        "colab": {
          "base_uri": "https://localhost:8080/"
        },
        "id": "1cbU71ytO_R9",
        "outputId": "efdda6cf-a74b-489f-c861-30902c9abd09"
      },
      "execution_count": 29,
      "outputs": [
        {
          "output_type": "stream",
          "name": "stdout",
          "text": [
            "[1, 8, 2, 10, 10]\n"
          ]
        }
      ]
    },
    {
      "cell_type": "code",
      "source": [
        "[   random.randint(1,10)   for i in range(5)    ]"
      ],
      "metadata": {
        "colab": {
          "base_uri": "https://localhost:8080/"
        },
        "id": "qYSnPTdGPMXK",
        "outputId": "dbbb4e36-db67-4455-8ecb-bf8cb50d803f"
      },
      "execution_count": 30,
      "outputs": [
        {
          "output_type": "execute_result",
          "data": {
            "text/plain": [
              "[4, 3, 8, 5, 9]"
            ]
          },
          "metadata": {},
          "execution_count": 30
        }
      ]
    },
    {
      "cell_type": "code",
      "source": [
        "[ i*5 for i in range(5)  ]"
      ],
      "metadata": {
        "colab": {
          "base_uri": "https://localhost:8080/"
        },
        "id": "qz3_PMvlP9e0",
        "outputId": "2b58d4ff-dc39-4575-e0ba-bbf3f65f5656"
      },
      "execution_count": 32,
      "outputs": [
        {
          "output_type": "execute_result",
          "data": {
            "text/plain": [
              "[0, 5, 10, 15, 20]"
            ]
          },
          "metadata": {},
          "execution_count": 32
        }
      ]
    },
    {
      "cell_type": "code",
      "source": [
        "[ i for i in range(10) if i > 5 ]"
      ],
      "metadata": {
        "colab": {
          "base_uri": "https://localhost:8080/"
        },
        "id": "4O77nC5tQQxh",
        "outputId": "0d348f1e-ff97-4293-b157-ad9ca4253a8f"
      },
      "execution_count": 34,
      "outputs": [
        {
          "output_type": "execute_result",
          "data": {
            "text/plain": [
              "[6, 7, 8, 9]"
            ]
          },
          "metadata": {},
          "execution_count": 34
        }
      ]
    },
    {
      "cell_type": "code",
      "source": [
        "#조건 없는경우\n",
        "[ i for i in range(10)]"
      ],
      "metadata": {
        "colab": {
          "base_uri": "https://localhost:8080/"
        },
        "id": "yMsuWalOVMeH",
        "outputId": "05811a57-8445-4c7d-9038-b98613ddb515"
      },
      "execution_count": 38,
      "outputs": [
        {
          "output_type": "execute_result",
          "data": {
            "text/plain": [
              "[0, 1, 2, 3, 4, 5, 6, 7, 8, 9]"
            ]
          },
          "metadata": {},
          "execution_count": 38
        }
      ]
    },
    {
      "cell_type": "code",
      "source": [
        "# if문 하나만 사용하는 경우\n",
        "[ i for i in range(10) if i%2 ==0 ]"
      ],
      "metadata": {
        "colab": {
          "base_uri": "https://localhost:8080/"
        },
        "id": "dIyfPrPbVSXo",
        "outputId": "c2a9a472-067c-48ad-bed9-062408c7d367"
      },
      "execution_count": 39,
      "outputs": [
        {
          "output_type": "execute_result",
          "data": {
            "text/plain": [
              "[0, 2, 4, 6, 8]"
            ]
          },
          "metadata": {},
          "execution_count": 39
        }
      ]
    },
    {
      "cell_type": "code",
      "source": [
        "# if ~ else\n",
        "[ i  if i%2 ==0 else None  for i in range(10)  ]"
      ],
      "metadata": {
        "colab": {
          "base_uri": "https://localhost:8080/"
        },
        "id": "tAmp3uAvVSbv",
        "outputId": "f9ed364e-fbef-4057-f2ce-b7b935f74ead"
      },
      "execution_count": 41,
      "outputs": [
        {
          "output_type": "execute_result",
          "data": {
            "text/plain": [
              "[0, None, 2, None, 4, None, 6, None, 8, None]"
            ]
          },
          "metadata": {},
          "execution_count": 41
        }
      ]
    },
    {
      "cell_type": "code",
      "source": [],
      "metadata": {
        "id": "jGs0JgTNVMh3"
      },
      "execution_count": null,
      "outputs": []
    },
    {
      "cell_type": "code",
      "source": [
        "[ i if i%2 == 0 else 100  for i in range(10)  ]"
      ],
      "metadata": {
        "colab": {
          "base_uri": "https://localhost:8080/"
        },
        "id": "evAwpfTgU1kY",
        "outputId": "22589abd-1b4b-4f63-d9ec-9724775ff291"
      },
      "execution_count": 37,
      "outputs": [
        {
          "output_type": "execute_result",
          "data": {
            "text/plain": [
              "[0, 100, 2, 100, 4, 100, 6, 100, 8, 100]"
            ]
          },
          "metadata": {},
          "execution_count": 37
        }
      ]
    },
    {
      "cell_type": "code",
      "source": [
        "[ [i,i+3] for i in range(10) if i%2 ==0 ]"
      ],
      "metadata": {
        "colab": {
          "base_uri": "https://localhost:8080/"
        },
        "id": "3iSapDY_U4pw",
        "outputId": "587c62c3-ff5d-435a-c957-8377ea64de74"
      },
      "execution_count": 46,
      "outputs": [
        {
          "output_type": "execute_result",
          "data": {
            "text/plain": [
              "[[0, 3], [2, 5], [4, 7], [6, 9], [8, 11]]"
            ]
          },
          "metadata": {},
          "execution_count": 46
        }
      ]
    },
    {
      "cell_type": "code",
      "source": [
        "[ (i,i+5) for i in range(10) if i%2 ==0 ]"
      ],
      "metadata": {
        "colab": {
          "base_uri": "https://localhost:8080/"
        },
        "id": "8YmCRxRNWP1V",
        "outputId": "f140eb35-5f82-4fae-b66d-47a2ff7c7cd0"
      },
      "execution_count": 45,
      "outputs": [
        {
          "output_type": "execute_result",
          "data": {
            "text/plain": [
              "[(0, 5), (2, 7), (4, 9), (6, 11), (8, 13)]"
            ]
          },
          "metadata": {},
          "execution_count": 45
        }
      ]
    },
    {
      "cell_type": "code",
      "source": [
        "# 랜덤한 수 10개를 만들어주세요(데이터범위는 1~100 수 중에서)\n",
        "import random\n",
        "random.randint(1,100)\n",
        "\n",
        "temp = [  random.randint(1,100)  for i in range(10) ]\n",
        "temp"
      ],
      "metadata": {
        "colab": {
          "base_uri": "https://localhost:8080/"
        },
        "id": "-3RzRWQ_Weep",
        "outputId": "5357a297-5a95-4bfa-f2c1-f5a141558bce"
      },
      "execution_count": 51,
      "outputs": [
        {
          "output_type": "execute_result",
          "data": {
            "text/plain": [
              "[65, 32, 62, 43, 7, 94, 80, 61, 19, 31]"
            ]
          },
          "metadata": {},
          "execution_count": 51
        }
      ]
    },
    {
      "cell_type": "code",
      "source": [
        "# 랜덤한 수 10개를 만들어주세요(데이터범위는 1~100 수 중에서)\n",
        "# 만들어진 10개의 리스트에서 짝수만 리스트로 만들어주세요  if 문 사용\n",
        "[ i for i in temp  if i%2==0]"
      ],
      "metadata": {
        "colab": {
          "base_uri": "https://localhost:8080/"
        },
        "id": "5Fbi-uuXXyUx",
        "outputId": "696e186e-ed7d-4c6b-d2b0-c872cb51bcfa"
      },
      "execution_count": 53,
      "outputs": [
        {
          "output_type": "execute_result",
          "data": {
            "text/plain": [
              "[32, 62, 94, 80]"
            ]
          },
          "metadata": {},
          "execution_count": 53
        }
      ]
    },
    {
      "cell_type": "markdown",
      "source": [
        "리스트 컴프리 핸션 연습"
      ],
      "metadata": {
        "id": "ZZCmxIkjZR9V"
      }
    },
    {
      "cell_type": "markdown",
      "source": [
        "1.   0 부터 9까지의 숫자로 이루어진 리스트"
      ],
      "metadata": {
        "id": "SXSPvpWGZdxJ"
      }
    },
    {
      "cell_type": "code",
      "source": [
        "[ i  for i in range(10) ]"
      ],
      "metadata": {
        "colab": {
          "base_uri": "https://localhost:8080/"
        },
        "id": "jzrTAJdUZjE6",
        "outputId": "cabf4544-db51-4fdc-e8f0-91d5be708c99"
      },
      "execution_count": 57,
      "outputs": [
        {
          "output_type": "execute_result",
          "data": {
            "text/plain": [
              "[0, 1, 2, 3, 4, 5, 6, 7, 8, 9]"
            ]
          },
          "metadata": {},
          "execution_count": 57
        }
      ]
    },
    {
      "cell_type": "markdown",
      "source": [
        "2. 1부터 10까지의 제곱으로 이루어진 리스트"
      ],
      "metadata": {
        "id": "BT87sj1kZiG5"
      }
    },
    {
      "cell_type": "code",
      "source": [
        "[ i**2  for i in range(1,11) ]"
      ],
      "metadata": {
        "colab": {
          "base_uri": "https://localhost:8080/"
        },
        "id": "Vzv0gJHrZpcd",
        "outputId": "3a37a991-6034-46c4-86a1-f97980cef3cc"
      },
      "execution_count": 59,
      "outputs": [
        {
          "output_type": "execute_result",
          "data": {
            "text/plain": [
              "[1, 4, 9, 16, 25, 36, 49, 64, 81, 100]"
            ]
          },
          "metadata": {},
          "execution_count": 59
        }
      ]
    },
    {
      "cell_type": "markdown",
      "source": [
        "3. 짝수만 포함된 리스트 0 ~ 9"
      ],
      "metadata": {
        "id": "KG6LnG4PZiJZ"
      }
    },
    {
      "cell_type": "code",
      "source": [
        "[ i  for i in range(10) if i%2 == 0]"
      ],
      "metadata": {
        "colab": {
          "base_uri": "https://localhost:8080/"
        },
        "id": "8p88-sTxZwVR",
        "outputId": "2d9925b9-9171-4ea5-f163-0a79baa2a3b5"
      },
      "execution_count": 60,
      "outputs": [
        {
          "output_type": "execute_result",
          "data": {
            "text/plain": [
              "[0, 2, 4, 6, 8]"
            ]
          },
          "metadata": {},
          "execution_count": 60
        }
      ]
    },
    {
      "cell_type": "markdown",
      "source": [
        "4. 문자열의 각 문자를 리스트로\n",
        "  \"hello\"  -> ['h','e','l','l','o']"
      ],
      "metadata": {
        "id": "M5dZR9xbaprh"
      }
    },
    {
      "cell_type": "code",
      "source": [
        "word = \"hello\"\n",
        "# list(word)\n",
        "[i  for i in word ]"
      ],
      "metadata": {
        "colab": {
          "base_uri": "https://localhost:8080/"
        },
        "id": "EUvhqZdUap1h",
        "outputId": "1bcb1ae7-9d93-4f53-cac8-45c460b673f5"
      },
      "execution_count": 62,
      "outputs": [
        {
          "output_type": "execute_result",
          "data": {
            "text/plain": [
              "['h', 'e', 'l', 'l', 'o']"
            ]
          },
          "metadata": {},
          "execution_count": 62
        }
      ]
    },
    {
      "cell_type": "markdown",
      "source": [
        "5. 리스트의 각 원소에 2를 곱한 결과\n",
        "  - original_list = [1,2,3,4,5]"
      ],
      "metadata": {
        "id": "GykcSegFap8x"
      }
    },
    {
      "cell_type": "code",
      "source": [
        "original_list = [1,2,3,4,5]\n",
        "[ i*2  for i in original_list]"
      ],
      "metadata": {
        "colab": {
          "base_uri": "https://localhost:8080/"
        },
        "id": "xBUGPOjBaqDB",
        "outputId": "27912008-39d7-4306-f37d-e430571f6d2d"
      },
      "execution_count": 63,
      "outputs": [
        {
          "output_type": "execute_result",
          "data": {
            "text/plain": [
              "[2, 4, 6, 8, 10]"
            ]
          },
          "metadata": {},
          "execution_count": 63
        }
      ]
    },
    {
      "cell_type": "markdown",
      "source": [
        "6. 홀수인경우에는 제곱, 짝수인경우에는 그냥 반환하는 리스트\n",
        "  - 1 ~ 10 까지(10포함)"
      ],
      "metadata": {
        "id": "IFT5RZe4aqJ6"
      }
    },
    {
      "cell_type": "code",
      "source": [
        "[ i**2 if i%2 !=0 else i for i in range(1,11) ]"
      ],
      "metadata": {
        "colab": {
          "base_uri": "https://localhost:8080/"
        },
        "id": "_ty6zrZ_aqQK",
        "outputId": "4e24bbae-5ff1-4cd9-99e9-efcf949648bc"
      },
      "execution_count": 65,
      "outputs": [
        {
          "output_type": "execute_result",
          "data": {
            "text/plain": [
              "[1, 2, 9, 4, 25, 6, 49, 8, 81, 10]"
            ]
          },
          "metadata": {},
          "execution_count": 65
        }
      ]
    },
    {
      "cell_type": "markdown",
      "source": [
        "7. 문자열 리스트에서 길이가 5 이상인 문자열만 포함"
      ],
      "metadata": {
        "id": "61yrIifCaqWR"
      }
    },
    {
      "cell_type": "code",
      "source": [
        "words = [\"apple\", \"banana\", \"kiwi\", \"grape\", \"orange\"]\n",
        "[ i  for i in words if len(i)>=5 ]"
      ],
      "metadata": {
        "colab": {
          "base_uri": "https://localhost:8080/"
        },
        "id": "sB-LF_Pcaqci",
        "outputId": "16854ad1-2cb0-46bb-94d5-6716a8931952"
      },
      "execution_count": 67,
      "outputs": [
        {
          "output_type": "execute_result",
          "data": {
            "text/plain": [
              "['apple', 'banana', 'grape', 'orange']"
            ]
          },
          "metadata": {},
          "execution_count": 67
        }
      ]
    },
    {
      "cell_type": "markdown",
      "source": [
        "8. 7번의 문자열 리스트중에서 문자 'p'가 포함된 문자열만"
      ],
      "metadata": {
        "id": "Ts2vzBCYaqit"
      }
    },
    {
      "cell_type": "code",
      "source": [
        "[i for i in words  if 'p' in i]"
      ],
      "metadata": {
        "colab": {
          "base_uri": "https://localhost:8080/"
        },
        "id": "N8foalldaqoy",
        "outputId": "73804067-5b7e-47b9-ed3b-5dcdc73ed6d9"
      },
      "execution_count": 69,
      "outputs": [
        {
          "output_type": "execute_result",
          "data": {
            "text/plain": [
              "['apple', 'grape', 'orange']"
            ]
          },
          "metadata": {},
          "execution_count": 69
        }
      ]
    },
    {
      "cell_type": "code",
      "source": [],
      "metadata": {
        "id": "LARgNe3XZn7K"
      },
      "execution_count": null,
      "outputs": []
    },
    {
      "cell_type": "markdown",
      "source": [],
      "metadata": {
        "id": "HCFzxNZhZiLp"
      }
    },
    {
      "cell_type": "markdown",
      "source": [],
      "metadata": {
        "id": "2cC33WalZiNq"
      }
    },
    {
      "cell_type": "markdown",
      "source": [],
      "metadata": {
        "id": "4nYlUWfmZiQK"
      }
    },
    {
      "cell_type": "code",
      "source": [
        "#1.  0 부터 9까지의 숫자로 이루어진 리스트\n",
        "#2.  0 부터 9까지의 숫자로 이루어진 리스트"
      ],
      "metadata": {
        "id": "DGBSvdvPZRcM"
      },
      "execution_count": null,
      "outputs": []
    },
    {
      "cell_type": "code",
      "source": [],
      "metadata": {
        "id": "wTezU7OoZRfJ"
      },
      "execution_count": null,
      "outputs": []
    }
  ]
}