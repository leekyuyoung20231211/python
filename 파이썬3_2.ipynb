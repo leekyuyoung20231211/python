{
  "nbformat": 4,
  "nbformat_minor": 0,
  "metadata": {
    "colab": {
      "provenance": []
    },
    "kernelspec": {
      "name": "python3",
      "display_name": "Python 3"
    },
    "language_info": {
      "name": "python"
    }
  },
  "cells": [
    {
      "cell_type": "markdown",
      "source": [
        "클래스\n",
        "  - 변수\n",
        "    - 함수에서 생성한다. self를 이용\n",
        "  - 함수\n",
        "    -  첫번째 매개변수는 self키워드를 사용한다,\n",
        "    - 이때 self는 클래스내부에 있는 함수라는 표식이고 실제\n",
        "    데이터를 전달받지 않는다\n",
        "\n",
        "객체\n",
        "  - 클래스를 사용가능하게 하는 인스턴스"
      ],
      "metadata": {
        "id": "qouslF032duU"
      }
    },
    {
      "cell_type": "code",
      "source": [
        "class Dog():\n",
        "  def init(self):\n",
        "    print('클래스의 함수 입니다.')\n",
        "\n",
        "class Calc():\n",
        "  def add(self,x,y):\n",
        "    return x+y\n",
        "  def minus(self,x,y):\n",
        "    return x-y"
      ],
      "metadata": {
        "id": "2oU5Hsk72e4v"
      },
      "execution_count": null,
      "outputs": []
    },
    {
      "cell_type": "code",
      "source": [
        "# 객체 생성\n",
        "d1 = Dog()"
      ],
      "metadata": {
        "id": "_GHGoxSM2zsF"
      },
      "execution_count": null,
      "outputs": []
    },
    {
      "cell_type": "code",
      "source": [
        "d1.init()"
      ],
      "metadata": {
        "colab": {
          "base_uri": "https://localhost:8080/"
        },
        "id": "h8JzO3fd25TE",
        "outputId": "90c808c1-a4bf-43b6-8d17-f1e4ffd5780f"
      },
      "execution_count": null,
      "outputs": [
        {
          "output_type": "stream",
          "name": "stdout",
          "text": [
            "클래스의 함수 입니다.\n"
          ]
        }
      ]
    },
    {
      "cell_type": "code",
      "source": [
        "calc = Calc()\n",
        "calc.add(10,20)\n",
        "calc.minus(10,20)"
      ],
      "metadata": {
        "colab": {
          "base_uri": "https://localhost:8080/"
        },
        "id": "TPDJGD4j3-F0",
        "outputId": "978fb628-449e-4c3f-f975-d7075236e8b3"
      },
      "execution_count": null,
      "outputs": [
        {
          "output_type": "execute_result",
          "data": {
            "text/plain": [
              "-10"
            ]
          },
          "metadata": {},
          "execution_count": 14
        }
      ]
    },
    {
      "cell_type": "code",
      "source": [
        "class Cat():\n",
        "  def start(self):\n",
        "    self.bread = \"\"\n",
        "    self.color=\"\"\n",
        "    self.age=\"\"\n",
        "  def cat_info(self):\n",
        "    print(f\"품종:{self.bread}, 색상:{self.color}, 나이:{self.age}\")\n"
      ],
      "metadata": {
        "id": "jx-ZVv6Y4nYq"
      },
      "execution_count": null,
      "outputs": []
    },
    {
      "cell_type": "code",
      "source": [
        "cat1 = Cat()  # 객체생성\n",
        "cat1.start()  # start 함수를 통해서 클래스 내부 변수 생성\n",
        "cat1.bread = '길고양이'\n",
        "cat1.color = '노란색'\n",
        "cat1.age = '2'\n",
        "cat1.cat_info()"
      ],
      "metadata": {
        "colab": {
          "base_uri": "https://localhost:8080/"
        },
        "id": "mRBcF8J55myc",
        "outputId": "72b61314-0a29-47cf-e9ad-9f2e599609e9"
      },
      "execution_count": null,
      "outputs": [
        {
          "output_type": "stream",
          "name": "stdout",
          "text": [
            "품종:길고양이, 색상:노란색, 나이:2\n"
          ]
        }
      ]
    },
    {
      "cell_type": "code",
      "source": [
        "# 위와 같은 코드의 문제점\n",
        "# 1. 변수는 언제 생성되는가?\n",
        "# 2. 위와 같은 방식에서 start()를 호출하지 않고 나머지 기능을 실행하면 어떻게 되는가?"
      ],
      "metadata": {
        "id": "NsRBVTEk6b-d"
      },
      "execution_count": null,
      "outputs": []
    },
    {
      "cell_type": "code",
      "source": [
        "cat2 = Cat() #객체생성\n",
        "cat2.bread = '페르시안 고양이'\n",
        "cat2.color = '검정'\n",
        "cat2.cat_info()"
      ],
      "metadata": {
        "colab": {
          "base_uri": "https://localhost:8080/",
          "height": 306
        },
        "id": "1RAlXvMu6mh8",
        "outputId": "fb8bd454-b1b5-42ae-f6bf-a624e3224075"
      },
      "execution_count": null,
      "outputs": [
        {
          "output_type": "error",
          "ename": "AttributeError",
          "evalue": "ignored",
          "traceback": [
            "\u001b[0;31m---------------------------------------------------------------------------\u001b[0m",
            "\u001b[0;31mAttributeError\u001b[0m                            Traceback (most recent call last)",
            "\u001b[0;32m<ipython-input-22-4a2e265a8667>\u001b[0m in \u001b[0;36m<cell line: 4>\u001b[0;34m()\u001b[0m\n\u001b[1;32m      2\u001b[0m \u001b[0mcat2\u001b[0m\u001b[0;34m.\u001b[0m\u001b[0mbread\u001b[0m \u001b[0;34m=\u001b[0m \u001b[0;34m'페르시안 고양이'\u001b[0m\u001b[0;34m\u001b[0m\u001b[0;34m\u001b[0m\u001b[0m\n\u001b[1;32m      3\u001b[0m \u001b[0mcat2\u001b[0m\u001b[0;34m.\u001b[0m\u001b[0mcolor\u001b[0m \u001b[0;34m=\u001b[0m \u001b[0;34m'검정'\u001b[0m\u001b[0;34m\u001b[0m\u001b[0;34m\u001b[0m\u001b[0m\n\u001b[0;32m----> 4\u001b[0;31m \u001b[0mcat2\u001b[0m\u001b[0;34m.\u001b[0m\u001b[0mcat_info\u001b[0m\u001b[0;34m(\u001b[0m\u001b[0;34m)\u001b[0m\u001b[0;34m\u001b[0m\u001b[0;34m\u001b[0m\u001b[0m\n\u001b[0m",
            "\u001b[0;32m<ipython-input-15-f7f14c14fbc6>\u001b[0m in \u001b[0;36mcat_info\u001b[0;34m(self)\u001b[0m\n\u001b[1;32m      5\u001b[0m     \u001b[0mself\u001b[0m\u001b[0;34m.\u001b[0m\u001b[0mage\u001b[0m\u001b[0;34m=\u001b[0m\u001b[0;34m\"\"\u001b[0m\u001b[0;34m\u001b[0m\u001b[0;34m\u001b[0m\u001b[0m\n\u001b[1;32m      6\u001b[0m   \u001b[0;32mdef\u001b[0m \u001b[0mcat_info\u001b[0m\u001b[0;34m(\u001b[0m\u001b[0mself\u001b[0m\u001b[0;34m)\u001b[0m\u001b[0;34m:\u001b[0m\u001b[0;34m\u001b[0m\u001b[0;34m\u001b[0m\u001b[0m\n\u001b[0;32m----> 7\u001b[0;31m     \u001b[0mprint\u001b[0m\u001b[0;34m(\u001b[0m\u001b[0;34mf\"품종:{self.bread}, 색상:{self.color}, 나이:{self.age}\"\u001b[0m\u001b[0;34m)\u001b[0m\u001b[0;34m\u001b[0m\u001b[0;34m\u001b[0m\u001b[0m\n\u001b[0m",
            "\u001b[0;31mAttributeError\u001b[0m: 'Cat' object has no attribute 'age'"
          ]
        }
      ]
    },
    {
      "cell_type": "markdown",
      "source": [
        "클래스 변수\n",
        "  - 생성하고 사용해야 하는데.. 안전하게 사용하려면?\n",
        "  - 클래스 내부에 사용하려는 변수를 생성하는 함수를 먼저 실행하고 사용한다."
      ],
      "metadata": {
        "id": "P3cmPkVw7qTm"
      }
    },
    {
      "cell_type": "code",
      "source": [
        "cat3 = Cat()\n",
        "cat3.start()\n",
        "\n",
        "\n",
        "\n",
        "cat3.cat_info()\n"
      ],
      "metadata": {
        "colab": {
          "base_uri": "https://localhost:8080/"
        },
        "id": "UbmkmN516uCp",
        "outputId": "428aca12-9644-496d-c3c4-cd9a40091df8"
      },
      "execution_count": null,
      "outputs": [
        {
          "output_type": "stream",
          "name": "stdout",
          "text": [
            "품종:, 색상:, 나이:\n"
          ]
        }
      ]
    },
    {
      "cell_type": "code",
      "source": [
        "# 객체를 생성할때.. 뭔가 자동으로 되는게 있을까 없을까?  즉 start를 자동으로 호출..뭐 그런거\n",
        "# 그런게 있다면 거기에 변수생성코드를 넣으면\n",
        "# 해결"
      ],
      "metadata": {
        "id": "IK4R2xHd8wye"
      },
      "execution_count": null,
      "outputs": []
    },
    {
      "cell_type": "markdown",
      "source": [
        "생성자\n",
        "  - 클래스의 함수의 일종인데... 객체가 생성될때 [ 클래스() ]\n",
        "  - 자동으로 호출되는 스페셜한 함수가 있다.\n",
        "  - 그래서 함수이름은 정해져있다.\n",
        "  -  _ _init_ _()\n",
        "  - 클래스내부 변수의 생성 및 초기화 담당\n",
        "  - 생성자를 코딩하지 않으면 아무것도 안하는 빈 껍데기 생성자를 자동으로 제공해서 호출한다."
      ],
      "metadata": {
        "id": "ED6ty2CL9IZY"
      }
    },
    {
      "cell_type": "code",
      "source": [
        "class Cat():\n",
        "  def __init__(self) -> None:\n",
        "    print(\"객체생성시 자동호출.. 사용자가 직접호출 못함\")\n",
        "    print(\"객체생성후 다시 호출안됨... once\")"
      ],
      "metadata": {
        "id": "HF8eKuJt9EQq"
      },
      "execution_count": null,
      "outputs": []
    },
    {
      "cell_type": "code",
      "source": [
        "cat5 = Cat()  # 객체생성"
      ],
      "metadata": {
        "colab": {
          "base_uri": "https://localhost:8080/"
        },
        "id": "I9gVGhbd9p-b",
        "outputId": "b2a3823e-394a-4dc2-c608-686179f2e3ab"
      },
      "execution_count": null,
      "outputs": [
        {
          "output_type": "stream",
          "name": "stdout",
          "text": [
            "객체생성시 자동호출.. 사용자가 직접호출 못함\n",
            "객체생성후 다시 호출안됨... once\n"
          ]
        }
      ]
    },
    {
      "cell_type": "code",
      "source": [
        "class Cat():\n",
        "  def __init__(self) -> None:\n",
        "    self.bread = \"\"\n",
        "    self.color = \"\"\n",
        "    self.age = 0\n",
        "  def info(self):\n",
        "    print(f\"품종:{self.bread}, 색상:{self.color}, 나이:{self.age}\")"
      ],
      "metadata": {
        "id": "5vzb0ixH92iq"
      },
      "execution_count": null,
      "outputs": []
    },
    {
      "cell_type": "code",
      "source": [
        "cat = Cat() # 객체생성(동시에 생성자도 호출되고 변수도 같이 생성)\n",
        "cat.info()"
      ],
      "metadata": {
        "colab": {
          "base_uri": "https://localhost:8080/"
        },
        "id": "1KgSDITLBtb3",
        "outputId": "822bbec4-abc8-47a5-bd9b-a85ef73648f8"
      },
      "execution_count": null,
      "outputs": [
        {
          "output_type": "stream",
          "name": "stdout",
          "text": [
            "품종:, 색상:, 나이:0\n"
          ]
        }
      ]
    },
    {
      "cell_type": "code",
      "source": [
        "# 고양이 객체를만들고\n",
        "# 3개의 변수를 적절히 설정한후\n",
        "# info()함수 호출\n",
        "cat = Cat()\n",
        "cat.age = 2\n",
        "cat.bread = '샴고양이'\n",
        "cat.color = '검정'\n",
        "cat.info()"
      ],
      "metadata": {
        "colab": {
          "base_uri": "https://localhost:8080/"
        },
        "id": "Icpa85jvB6YF",
        "outputId": "1a47564e-e8b3-4de0-ac9e-3f38f8b815d4"
      },
      "execution_count": null,
      "outputs": [
        {
          "output_type": "stream",
          "name": "stdout",
          "text": [
            "품종:샴고양이, 색상:검정, 나이:2\n"
          ]
        }
      ]
    },
    {
      "cell_type": "code",
      "source": [
        "class Cat():\n",
        "  def __init__(self) -> None:\n",
        "    self.bread = \"\"\n",
        "    self.color = \"\"\n",
        "    self.age = 0\n",
        "  def setData(self,bread,color,age):\n",
        "    self.bread = bread\n",
        "    self.color = color\n",
        "    self.age = age\n",
        "  def info(self):\n",
        "    print(f\"품종:{self.bread}, 색상:{self.color}, 나이:{self.age}\")"
      ],
      "metadata": {
        "id": "oemI0CikDNfG"
      },
      "execution_count": null,
      "outputs": []
    },
    {
      "cell_type": "code",
      "source": [
        "cat = Cat()  # 객체 생성\n",
        "cat.setData('길고양이','검정',3)\n",
        "cat.info()"
      ],
      "metadata": {
        "colab": {
          "base_uri": "https://localhost:8080/"
        },
        "id": "t-__w4_kDiXO",
        "outputId": "2fae2ec6-2711-44fa-e659-43e5d5747b26"
      },
      "execution_count": null,
      "outputs": [
        {
          "output_type": "stream",
          "name": "stdout",
          "text": [
            "품종:길고양이, 색상:검정, 나이:3\n"
          ]
        }
      ]
    },
    {
      "cell_type": "code",
      "source": [
        "cat.setData(bread = '집고양이',color = '노랑',age = 1)\n",
        "cat.info()"
      ],
      "metadata": {
        "colab": {
          "base_uri": "https://localhost:8080/"
        },
        "id": "9JEEOxd2FC_a",
        "outputId": "efd747eb-4514-4e7a-954f-f68f45da9305"
      },
      "execution_count": null,
      "outputs": [
        {
          "output_type": "stream",
          "name": "stdout",
          "text": [
            "품종:집고양이, 색상:노랑, 나이:1\n"
          ]
        }
      ]
    },
    {
      "cell_type": "code",
      "source": [
        "param = {\n",
        "    'bread' : '사바나켓',\n",
        "    'color' : '파랑',\n",
        "    'age' : 3\n",
        "}\n",
        "cat.setData(**param)\n",
        "cat.info()"
      ],
      "metadata": {
        "colab": {
          "base_uri": "https://localhost:8080/"
        },
        "id": "duK7rOkKFPL3",
        "outputId": "391ea96c-d9d5-4e11-b308-9185b28a8fe0"
      },
      "execution_count": null,
      "outputs": [
        {
          "output_type": "stream",
          "name": "stdout",
          "text": [
            "품종:사바나켓, 색상:파랑, 나이:3\n"
          ]
        }
      ]
    },
    {
      "cell_type": "code",
      "source": [
        "# 원하는 품종의 고양이 객체를만들기 위해서\n",
        "# 1. 객체생성\n",
        "# 2. 인스턴스변수를 원하는 값으로 셋팅하기위해서 setData()\n",
        "# 3. 정보를 출력\n",
        "# Question? 객체를 생성하면서 원하는 값으로 셋팅할수 없을까?"
      ],
      "metadata": {
        "id": "WJVvpmbCFn68"
      },
      "execution_count": null,
      "outputs": []
    },
    {
      "cell_type": "code",
      "source": [
        "class Cat():\n",
        "  def __init__(self,bread=\"\",color=\"\",age=0) -> None:   # 생성자\n",
        "    self.bread = bread\n",
        "    self.color = color\n",
        "    self.age = age\n",
        "  def setData(self,bread,color,age):\n",
        "    self.bread = bread\n",
        "    self.color = color\n",
        "    self.age = age\n",
        "  def info(self):\n",
        "    print(f\"품종:{self.bread}, 색상:{self.color}, 나이:{self.age}\")"
      ],
      "metadata": {
        "id": "CfswIhsJGSGa"
      },
      "execution_count": null,
      "outputs": []
    },
    {
      "cell_type": "code",
      "source": [
        "cat1 = Cat()\n",
        "cat1.info()\n",
        "cat2 = Cat('길고양이', '검정', 2)\n",
        "cat2.info()"
      ],
      "metadata": {
        "colab": {
          "base_uri": "https://localhost:8080/"
        },
        "id": "-2uZwfSkGekM",
        "outputId": "c8cf525e-f624-4b95-dbf8-be216a2eb759"
      },
      "execution_count": null,
      "outputs": [
        {
          "output_type": "stream",
          "name": "stdout",
          "text": [
            "품종:, 색상:, 나이:0\n",
            "품종:길고양이, 색상:검정, 나이:2\n"
          ]
        }
      ]
    },
    {
      "cell_type": "markdown",
      "source": [
        "클래스\n",
        "  - 생성자\n",
        "  - self\n",
        "  - 변수\n",
        "  - 함수\n",
        "  - 객채생성"
      ],
      "metadata": {
        "id": "bO7kRDVkHuNj"
      }
    },
    {
      "cell_type": "code",
      "source": [
        "# 두개의 변수를 이용한 4칙연산 프로그램\n",
        "# 주의사항  0으로 나누면 안되기때문에... 조건문에서 적절히 처리\n",
        "# 1. 함수로 이루어진 프로그램\n",
        "# 2. 객체지향 방법을 사용한(class 를 이용한) 프로그램"
      ],
      "metadata": {
        "id": "2ss0QFv1HHzG"
      },
      "execution_count": null,
      "outputs": []
    },
    {
      "cell_type": "code",
      "source": [
        "# 1.\n",
        "def add(x,y):\n",
        "  return x + y\n",
        "def minus(x,y):\n",
        "  return x - y\n",
        "def multi(x,y):\n",
        "  return x * y\n",
        "def divide(x, y):\n",
        "  if y != 0:\n",
        "    return x / y\n",
        "  else:\n",
        "    print('0으로 나눌수 없습니다.')\n",
        "\n",
        "x = 10; y = 5\n",
        "print(add(x,y))\n",
        "print(minus(x,y))\n",
        "print(multi(x,y))\n",
        "print(divide(x,0))"
      ],
      "metadata": {
        "id": "lltSDtKrIgij"
      },
      "execution_count": null,
      "outputs": []
    },
    {
      "cell_type": "code",
      "source": [
        "# 클래스명  Calc\n",
        "  # 변수\n",
        "  # 함수\n",
        "\n",
        "class Calc():\n",
        "  def __init__(self,x=0,y=0) -> None:  # 객체를 생성하면 이 함수가 호출된다.\n",
        "    self.x = x\n",
        "    self.y = y\n",
        "  def __str__(self) -> str:    # 객체자체를 print()하면 이 함수가 호출된다.\n",
        "    return f\"x:{self.x}, y:{self.y}\"\n",
        "\n",
        "  def add(self):\n",
        "    return self.x + self.y\n",
        "  def minus(self):\n",
        "    return self.x - self.y\n",
        "  def multi(self):\n",
        "    return self.x * self.y\n",
        "  def devide(self):\n",
        "    if self.y != 0:\n",
        "      return self.x / self.y\n",
        "    else:\n",
        "      print('0으로 나눌수 없습니다.')"
      ],
      "metadata": {
        "id": "cSNBhLmBKqtm"
      },
      "execution_count": 55,
      "outputs": []
    },
    {
      "cell_type": "code",
      "source": [
        "calc = Calc(10,5) # 객체생성\n",
        "print(calc.add() )\n",
        "print(calc.minus() )\n",
        "print(calc.multi() )\n",
        "print(calc.devide() )"
      ],
      "metadata": {
        "colab": {
          "base_uri": "https://localhost:8080/"
        },
        "id": "VQDX9Kb3PI6a",
        "outputId": "813d569a-78ea-4340-d701-655f042c043d"
      },
      "execution_count": 56,
      "outputs": [
        {
          "output_type": "stream",
          "name": "stdout",
          "text": [
            "15\n",
            "5\n",
            "50\n",
            "2.0\n"
          ]
        }
      ]
    },
    {
      "cell_type": "code",
      "source": [
        "print(calc)"
      ],
      "metadata": {
        "colab": {
          "base_uri": "https://localhost:8080/"
        },
        "id": "ZjneixKLPMtB",
        "outputId": "42cf23de-b111-45e7-de4c-1cf4c0451460"
      },
      "execution_count": 57,
      "outputs": [
        {
          "output_type": "stream",
          "name": "stdout",
          "text": [
            "x:10, y:5\n"
          ]
        }
      ]
    },
    {
      "cell_type": "code",
      "source": [
        "# 축구선수 클래스 : SockerPlayer\n",
        "# 이름(name), 포지션(positoin), 등번호(back_number)\n",
        "# 등번호 변경 : change_back_number 라는 함수를만들어서 self.back_number 값을 변경\n",
        "class SockerPlayer():\n",
        "  def __init__(self,name=\"\",positoin=\"\",back_number=\"\") -> None:\n",
        "    self.name = name\n",
        "    self.positoin = positoin\n",
        "    self.back_number = back_number\n",
        "\n",
        "  def change_back_number(self,new_back_number):\n",
        "    self.back_number = new_back_number\n",
        "\n",
        "  def __str__(self) -> str:\n",
        "    return f\"name:{self.name}, position:{self.positoin}, back_number:{self.back_number}\""
      ],
      "metadata": {
        "id": "9ZcNXi8FQSR5"
      },
      "execution_count": 70,
      "outputs": []
    },
    {
      "cell_type": "code",
      "source": [
        "p1 = SockerPlayer()\n",
        "p2 = SockerPlayer('홍길동','공격수',66)\n",
        "p3 = SockerPlayer('홍길동','공격수')\n",
        "p4 = SockerPlayer('홍길동')\n",
        "print(p1)\n",
        "print(p2)\n",
        "p3.change_back_number(20)\n",
        "print(p3)\n",
        "print(p4)"
      ],
      "metadata": {
        "colab": {
          "base_uri": "https://localhost:8080/"
        },
        "id": "-UDX8WzASVm2",
        "outputId": "54f23695-4130-4576-ec81-ea7098e8f8f4"
      },
      "execution_count": 71,
      "outputs": [
        {
          "output_type": "stream",
          "name": "stdout",
          "text": [
            "name:, position:, back_number:\n",
            "name:홍길동, position:공격수, back_number:66\n",
            "name:홍길동, position:공격수, back_number:20\n",
            "name:홍길동, position:, back_number:\n"
          ]
        }
      ]
    },
    {
      "cell_type": "code",
      "source": [
        "# 선수등록을 위한 데이터 집합 생성\n",
        "name = ['Messi','Ramos','Ronaldo','Park','Buffon']\n",
        "position = ['MF','DF','CF','WF','GK']\n",
        "numbers = [10,4,7,13,1]\n",
        "players = [data for data in zip(name,position,numbers)]\n",
        "print(players)\n",
        "\n",
        "players = [SockerPlayer(name,postion,backnumber)  for name,postion,backnumber in players]\n",
        "for player in players:\n",
        "  print(player)"
      ],
      "metadata": {
        "colab": {
          "base_uri": "https://localhost:8080/"
        },
        "id": "DUDm_tDGTmcw",
        "outputId": "cf0c5710-9fab-4d3c-9fe5-4a15e805911c"
      },
      "execution_count": 83,
      "outputs": [
        {
          "output_type": "stream",
          "name": "stdout",
          "text": [
            "[('Messi', 'MF', 10), ('Ramos', 'DF', 4), ('Ronaldo', 'CF', 7), ('Park', 'WF', 13), ('Buffon', 'GK', 1)]\n",
            "name:Messi, position:MF, back_number:10\n",
            "name:Ramos, position:DF, back_number:4\n",
            "name:Ronaldo, position:CF, back_number:7\n",
            "name:Park, position:WF, back_number:13\n",
            "name:Buffon, position:GK, back_number:1\n"
          ]
        }
      ]
    },
    {
      "cell_type": "code",
      "source": [],
      "metadata": {
        "id": "fUMtmneUXu76"
      },
      "execution_count": null,
      "outputs": []
    }
  ]
}