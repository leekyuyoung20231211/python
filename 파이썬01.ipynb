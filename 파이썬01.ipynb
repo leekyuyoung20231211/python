{
  "nbformat": 4,
  "nbformat_minor": 0,
  "metadata": {
    "colab": {
      "provenance": []
    },
    "kernelspec": {
      "name": "python3",
      "display_name": "Python 3"
    },
    "language_info": {
      "name": "python"
    }
  },
  "cells": [
    {
      "cell_type": "code",
      "execution_count": null,
      "metadata": {
        "id": "4D_RJjthbK0a"
      },
      "outputs": [],
      "source": [
        "professor = \"이규영\""
      ]
    },
    {
      "cell_type": "code",
      "source": [],
      "metadata": {
        "id": "yqpLVvXx-drJ"
      },
      "execution_count": null,
      "outputs": []
    },
    {
      "cell_type": "code",
      "source": [
        "print(professor)"
      ],
      "metadata": {
        "colab": {
          "base_uri": "https://localhost:8080/"
        },
        "id": "6S7t5Xq-g0Fp",
        "outputId": "e10fe63f-799a-4cef-e44b-306648c920f9"
      },
      "execution_count": null,
      "outputs": [
        {
          "output_type": "stream",
          "name": "stdout",
          "text": [
            "이규영\n"
          ]
        }
      ]
    },
    {
      "cell_type": "code",
      "source": [
        "a = 7\n",
        "b = 5\n",
        "print(a + b)"
      ],
      "metadata": {
        "colab": {
          "base_uri": "https://localhost:8080/"
        },
        "id": "C2Upv9Png9fM",
        "outputId": "1b09dc40-ada2-4b85-bc26-4e6722b32e47"
      },
      "execution_count": null,
      "outputs": [
        {
          "output_type": "stream",
          "name": "stdout",
          "text": [
            "12\n"
          ]
        }
      ]
    },
    {
      "cell_type": "code",
      "source": [
        "print(\"a + b\")\n",
        "print('a + b')"
      ],
      "metadata": {
        "colab": {
          "base_uri": "https://localhost:8080/"
        },
        "id": "ncHyBHx6hvWg",
        "outputId": "ed4ff233-4b2b-4f0d-d41c-98a153f98540"
      },
      "execution_count": null,
      "outputs": [
        {
          "output_type": "stream",
          "name": "stdout",
          "text": [
            "a + b\n",
            "a + b\n"
          ]
        }
      ]
    },
    {
      "cell_type": "markdown",
      "source": [
        "변수명\n",
        "  - 직관적으로 알기쉽게 이름을 작성한다.\n",
        "  - 예약어는 사용불가(사용가능하지만 의미가 변경된다.)\n",
        "  - 숫자로 시작할 수 없다"
      ],
      "metadata": {
        "id": "NIMfEWawh11J"
      }
    },
    {
      "cell_type": "code",
      "source": [
        "name = \"이규영\"\n",
        "print(name)"
      ],
      "metadata": {
        "colab": {
          "base_uri": "https://localhost:8080/"
        },
        "id": "qDq3E_CnpCTr",
        "outputId": "f0f03a4c-4b09-4716-bca3-1c7cea344415"
      },
      "execution_count": null,
      "outputs": [
        {
          "output_type": "stream",
          "name": "stdout",
          "text": [
            "이규영\n"
          ]
        }
      ]
    },
    {
      "cell_type": "code",
      "source": [
        "name = 3.1547\n",
        "print(name)"
      ],
      "metadata": {
        "colab": {
          "base_uri": "https://localhost:8080/"
        },
        "id": "6n-Kn4-rpS0X",
        "outputId": "e08dffc0-9e8f-4d5d-a72a-183cd43169a4"
      },
      "execution_count": null,
      "outputs": [
        {
          "output_type": "stream",
          "name": "stdout",
          "text": [
            "3.1547\n"
          ]
        }
      ]
    },
    {
      "cell_type": "code",
      "source": [
        "# 숫자로 시작할 수 없다\n",
        "# 7up = \"사이다\""
      ],
      "metadata": {
        "id": "3k33Izh0pWu8"
      },
      "execution_count": null,
      "outputs": []
    },
    {
      "cell_type": "code",
      "source": [
        "print(\"프린트 명령어는 ()안에 있는 데이터를 출력하는 명령어 입니다.\")"
      ],
      "metadata": {
        "colab": {
          "base_uri": "https://localhost:8080/"
        },
        "id": "LY2Gtjkdph95",
        "outputId": "b6cb8144-e496-448f-f7db-54ab4646c119"
      },
      "execution_count": null,
      "outputs": [
        {
          "output_type": "stream",
          "name": "stdout",
          "text": [
            "프린트 명령어는 ()안에 있는 데이터를 출력하는 명령어 입니다.\n"
          ]
        }
      ]
    },
    {
      "cell_type": "markdown",
      "source": [
        "예약어(파이썬에서 의미를 부여한 단어)\n",
        "  - 변수로 사용할수 없으나.. 실수로 사용할수는 있다.\n",
        "  - 그러나. 그 기능은 없엊진다.."
      ],
      "metadata": {
        "id": "y7V2UIy-sBt_"
      }
    },
    {
      "cell_type": "code",
      "source": [
        "# print = 100"
      ],
      "metadata": {
        "id": "3xgbVKEGrDhC"
      },
      "execution_count": null,
      "outputs": []
    },
    {
      "cell_type": "markdown",
      "source": [
        "기본자료형\n",
        "  - 변수에 저장하는 데이터에 따라서 자료형이 결정되고 변수의 값이 바뀌면 자료형도 바뀐다"
      ],
      "metadata": {
        "id": "AogWybwbvLQj"
      }
    },
    {
      "cell_type": "code",
      "source": [
        "a = 1\n",
        "b = 1\n",
        "print(a, b)"
      ],
      "metadata": {
        "colab": {
          "base_uri": "https://localhost:8080/"
        },
        "id": "VRSGq1mXrV-C",
        "outputId": "585892e5-e52f-4ee5-fef9-9b7b04437657"
      },
      "execution_count": null,
      "outputs": [
        {
          "output_type": "stream",
          "name": "stdout",
          "text": [
            "1 1\n"
          ]
        }
      ]
    },
    {
      "cell_type": "code",
      "source": [
        "a = 1.5\n",
        "b = 3.5\n",
        "print(a,b)"
      ],
      "metadata": {
        "colab": {
          "base_uri": "https://localhost:8080/"
        },
        "id": "8niEuRf-vcR_",
        "outputId": "029c0e00-01f3-4a14-f44d-65d6037407e5"
      },
      "execution_count": null,
      "outputs": [
        {
          "output_type": "stream",
          "name": "stdout",
          "text": [
            "1.5 3.5\n"
          ]
        }
      ]
    },
    {
      "cell_type": "code",
      "source": [
        "a = \"ABC\"\n",
        "b = \"101010\"\n",
        "print(a,b)"
      ],
      "metadata": {
        "colab": {
          "base_uri": "https://localhost:8080/"
        },
        "id": "5xJExNZZv_vf",
        "outputId": "c72f4fb6-88b1-453d-9c23-0f7fa4b95abf"
      },
      "execution_count": null,
      "outputs": [
        {
          "output_type": "stream",
          "name": "stdout",
          "text": [
            "ABC 101010\n"
          ]
        }
      ]
    },
    {
      "cell_type": "code",
      "source": [
        "a = True\n",
        "b = False\n",
        "print(a, b)"
      ],
      "metadata": {
        "colab": {
          "base_uri": "https://localhost:8080/"
        },
        "id": "gPo0bc5UwDkv",
        "outputId": "d409ca2c-55ab-4f73-999d-f4e673e0f21a"
      },
      "execution_count": null,
      "outputs": [
        {
          "output_type": "stream",
          "name": "stdout",
          "text": [
            "True False\n"
          ]
        }
      ]
    },
    {
      "cell_type": "markdown",
      "source": [
        "사칙연산자 : + - * /\n",
        "  - 피연산자가 좌우 2개씩"
      ],
      "metadata": {
        "id": "aPr7e1sgwmD5"
      }
    },
    {
      "cell_type": "code",
      "source": [
        "print(25 + 30)\n",
        "print(30 - 12)\n",
        "print(50 * 3)\n",
        "print(30 / 5)"
      ],
      "metadata": {
        "colab": {
          "base_uri": "https://localhost:8080/"
        },
        "id": "vmQwuFp9wJmM",
        "outputId": "0ff95fc0-ef93-45eb-b0ba-3dc6bab0b87f"
      },
      "execution_count": null,
      "outputs": [
        {
          "output_type": "stream",
          "name": "stdout",
          "text": [
            "55\n",
            "18\n",
            "150\n",
            "6.0\n"
          ]
        }
      ]
    },
    {
      "cell_type": "markdown",
      "source": [
        "제곱승 : ** 사용"
      ],
      "metadata": {
        "id": "_YNZ_ZILxQor"
      }
    },
    {
      "cell_type": "code",
      "source": [
        "print(3 * 3 * 3 * 3 * 3)\n",
        "print(3 ** 5)"
      ],
      "metadata": {
        "colab": {
          "base_uri": "https://localhost:8080/"
        },
        "id": "UGQLeNCXwzu_",
        "outputId": "4e158462-3850-4c47-a26e-fb7eec569941"
      },
      "execution_count": null,
      "outputs": [
        {
          "output_type": "stream",
          "name": "stdout",
          "text": [
            "243\n",
            "243\n"
          ]
        }
      ]
    },
    {
      "cell_type": "markdown",
      "source": [
        "몫과 나머지\n",
        "  - //,   %"
      ],
      "metadata": {
        "id": "ORWMt3r2x7G_"
      }
    },
    {
      "cell_type": "code",
      "source": [
        "print(7 // 2) # 몫\n",
        "print(7 % 2) # 나머지"
      ],
      "metadata": {
        "colab": {
          "base_uri": "https://localhost:8080/"
        },
        "id": "ffnqZc3mxeAx",
        "outputId": "c7b128da-7e3a-499c-874e-0a53b89c50f4"
      },
      "execution_count": null,
      "outputs": [
        {
          "output_type": "stream",
          "name": "stdout",
          "text": [
            "3\n",
            "1\n"
          ]
        }
      ]
    },
    {
      "cell_type": "markdown",
      "source": [
        "퀴즈\n",
        "  - 랜덤한수 % 2 의 결과로 나올수 있는 수는?\n",
        "  - 몫과 나머지계산을 할줄 알면 거스름돈 문제나 단위변환하는 프로그래밍을 할수 있다"
      ],
      "metadata": {
        "id": "My86MwyoyL-Y"
      }
    },
    {
      "cell_type": "markdown",
      "source": [
        "복합대입연산자\n",
        "  - +=, -=, *=, /=\n",
        "  - a +=  10  \n",
        "  - a = a + 10"
      ],
      "metadata": {
        "id": "QB8yI0RV2fWX"
      }
    },
    {
      "cell_type": "code",
      "source": [
        "a = 1\n",
        "a = a + 1\n",
        "print(a)"
      ],
      "metadata": {
        "colab": {
          "base_uri": "https://localhost:8080/"
        },
        "id": "lV_hsx7GyDsZ",
        "outputId": "dfa91960-6bf0-4342-c6f9-09d5dc50d15e"
      },
      "execution_count": null,
      "outputs": [
        {
          "output_type": "stream",
          "name": "stdout",
          "text": [
            "2\n"
          ]
        }
      ]
    },
    {
      "cell_type": "code",
      "source": [
        "a += 1\n",
        "print(a)"
      ],
      "metadata": {
        "colab": {
          "base_uri": "https://localhost:8080/"
        },
        "id": "G0s8DP0Y2sd8",
        "outputId": "19f938e0-97ac-4059-9463-3871d9eb258f"
      },
      "execution_count": null,
      "outputs": [
        {
          "output_type": "stream",
          "name": "stdout",
          "text": [
            "3\n"
          ]
        }
      ]
    },
    {
      "cell_type": "code",
      "source": [
        "a -= 1\n",
        "print(a)"
      ],
      "metadata": {
        "colab": {
          "base_uri": "https://localhost:8080/"
        },
        "id": "5JKkTSan2393",
        "outputId": "0a0fba39-42c1-46ae-eace-863f59b8e4e6"
      },
      "execution_count": null,
      "outputs": [
        {
          "output_type": "stream",
          "name": "stdout",
          "text": [
            "2\n"
          ]
        }
      ]
    },
    {
      "cell_type": "markdown",
      "source": [
        "자료형변환\n",
        "  - 서로 다른 타입의 변수의 자료형을 변환"
      ],
      "metadata": {
        "id": "rBVAKiCK3RrT"
      }
    },
    {
      "cell_type": "code",
      "source": [
        "a = 10  # 정수형\n",
        "print(10)"
      ],
      "metadata": {
        "colab": {
          "base_uri": "https://localhost:8080/"
        },
        "id": "VPCMyF772_Zz",
        "outputId": "8b311d1a-41e2-43ac-9c59-135b71b4c5bb"
      },
      "execution_count": null,
      "outputs": [
        {
          "output_type": "stream",
          "name": "stdout",
          "text": [
            "10\n"
          ]
        }
      ]
    },
    {
      "cell_type": "code",
      "source": [
        "a = float(10)   # 정수 10을 실수형으로 변환\n",
        "print(a)"
      ],
      "metadata": {
        "colab": {
          "base_uri": "https://localhost:8080/"
        },
        "id": "Yn6npt4Z3Zp2",
        "outputId": "0dd28786-d6ec-4250-9400-57af1c574a1c"
      },
      "execution_count": null,
      "outputs": [
        {
          "output_type": "stream",
          "name": "stdout",
          "text": [
            "10.0\n"
          ]
        }
      ]
    },
    {
      "cell_type": "code",
      "source": [
        "a = int(10.7)\n",
        "print(a)\n",
        "a = int(10.3)\n",
        "print(a)"
      ],
      "metadata": {
        "colab": {
          "base_uri": "https://localhost:8080/"
        },
        "id": "aMabbIuz3fhx",
        "outputId": "c6b95886-d663-439a-83de-620da6b6d820"
      },
      "execution_count": null,
      "outputs": [
        {
          "output_type": "stream",
          "name": "stdout",
          "text": [
            "10\n",
            "10\n"
          ]
        }
      ]
    },
    {
      "cell_type": "code",
      "source": [
        "# 10.7 에서 실수 부분인 0.7만 추출\n",
        "a = 10.7\n",
        "print(a - int(a))"
      ],
      "metadata": {
        "colab": {
          "base_uri": "https://localhost:8080/"
        },
        "id": "8b9W8rps4KlP",
        "outputId": "60fbd96a-909c-4537-c761-33387a0dde52"
      },
      "execution_count": null,
      "outputs": [
        {
          "output_type": "stream",
          "name": "stdout",
          "text": [
            "0.6999999999999993\n"
          ]
        }
      ]
    },
    {
      "cell_type": "markdown",
      "source": [
        "문자열과 숫자의 변환\n",
        "  - 숫자로 된 문자열은 숫자로 변경가능\n",
        "  - 실수형문자 ->실수 float()\n",
        "  - 정수형문자 - >정수 int()"
      ],
      "metadata": {
        "id": "dDcJXPFO6SRI"
      }
    },
    {
      "cell_type": "code",
      "source": [
        "a = '76.3'\n",
        "print(a)\n",
        "b = float(a)\n",
        "print(b)"
      ],
      "metadata": {
        "colab": {
          "base_uri": "https://localhost:8080/"
        },
        "id": "VyAGPcFC4wjV",
        "outputId": "2fe48773-ce38-49e2-c347-ee4b9aa75f99"
      },
      "execution_count": null,
      "outputs": [
        {
          "output_type": "stream",
          "name": "stdout",
          "text": [
            "76.3\n",
            "76.3\n"
          ]
        }
      ]
    },
    {
      "cell_type": "code",
      "source": [
        "print(a + b)"
      ],
      "metadata": {
        "colab": {
          "base_uri": "https://localhost:8080/",
          "height": 181
        },
        "id": "ghsKiphC66cK",
        "outputId": "5d4adf2d-aaa4-479f-fc3b-3d330fbd3e2b"
      },
      "execution_count": null,
      "outputs": [
        {
          "output_type": "error",
          "ename": "TypeError",
          "evalue": "ignored",
          "traceback": [
            "\u001b[0;31m---------------------------------------------------------------------------\u001b[0m",
            "\u001b[0;31mTypeError\u001b[0m                                 Traceback (most recent call last)",
            "\u001b[0;32m<ipython-input-31-0ae8b1612688>\u001b[0m in \u001b[0;36m<cell line: 1>\u001b[0;34m()\u001b[0m\n\u001b[0;32m----> 1\u001b[0;31m \u001b[0mprint\u001b[0m\u001b[0;34m(\u001b[0m\u001b[0ma\u001b[0m \u001b[0;34m+\u001b[0m \u001b[0mb\u001b[0m\u001b[0;34m)\u001b[0m\u001b[0;34m\u001b[0m\u001b[0;34m\u001b[0m\u001b[0m\n\u001b[0m",
            "\u001b[0;31mTypeError\u001b[0m: can only concatenate str (not \"float\") to str"
          ]
        }
      ]
    },
    {
      "cell_type": "code",
      "source": [
        "print('76.3' + '76.3')"
      ],
      "metadata": {
        "colab": {
          "base_uri": "https://localhost:8080/"
        },
        "id": "vZWGLyuG6mBQ",
        "outputId": "9d62256f-d480-446a-f7ae-8592baea0123"
      },
      "execution_count": null,
      "outputs": [
        {
          "output_type": "stream",
          "name": "stdout",
          "text": [
            "76.376.3\n"
          ]
        }
      ]
    },
    {
      "cell_type": "code",
      "source": [
        "a = '76'\n",
        "b = int(a)\n",
        "print(b)"
      ],
      "metadata": {
        "colab": {
          "base_uri": "https://localhost:8080/"
        },
        "id": "NCQk2-hM6uk0",
        "outputId": "1c49dfe5-856e-4e1a-c9bf-f6476e72ed6b"
      },
      "execution_count": null,
      "outputs": [
        {
          "output_type": "stream",
          "name": "stdout",
          "text": [
            "76\n"
          ]
        }
      ]
    },
    {
      "cell_type": "markdown",
      "source": [
        "숫자를 문자열로 변환\n",
        "  - str()  함수를 이용"
      ],
      "metadata": {
        "id": "gKQGBKY38DYn"
      }
    },
    {
      "cell_type": "code",
      "source": [
        "a = 10\n",
        "b = 20\n",
        "print(a + b )"
      ],
      "metadata": {
        "colab": {
          "base_uri": "https://localhost:8080/"
        },
        "id": "wYIXRjYq7lal",
        "outputId": "a8a59907-431b-449e-ce0e-89384d0e1053"
      },
      "execution_count": null,
      "outputs": [
        {
          "output_type": "stream",
          "name": "stdout",
          "text": [
            "30\n"
          ]
        }
      ]
    },
    {
      "cell_type": "code",
      "source": [
        "a = str(a)  # 10을 \"10\"\n",
        "b = str(b)  # 20을 \"20\"\n",
        "print(a + b)"
      ],
      "metadata": {
        "colab": {
          "base_uri": "https://localhost:8080/"
        },
        "id": "cbDVmVmA8KsD",
        "outputId": "e6f3d7f7-e819-4622-d8d9-3eb46ccfdfca"
      },
      "execution_count": null,
      "outputs": [
        {
          "output_type": "stream",
          "name": "stdout",
          "text": [
            "1020\n"
          ]
        }
      ]
    },
    {
      "cell_type": "markdown",
      "source": [
        "변수안에있는 데이터가 무슨타입인?\n",
        "  - type() 함수를 이용하면 타입을 알려준다"
      ],
      "metadata": {
        "id": "HRk7L0H48vOT"
      }
    },
    {
      "cell_type": "code",
      "source": [
        "a = 10\n",
        "b = 10.2\n",
        "c = \"10.2\"\n",
        "print(a,b,c)"
      ],
      "metadata": {
        "colab": {
          "base_uri": "https://localhost:8080/"
        },
        "id": "IaylBmWz8dOC",
        "outputId": "004bc4e0-b367-4872-e2e6-564c4c10f350"
      },
      "execution_count": null,
      "outputs": [
        {
          "output_type": "stream",
          "name": "stdout",
          "text": [
            "10 10.2 10.2\n"
          ]
        }
      ]
    },
    {
      "cell_type": "code",
      "source": [
        "print(type(a), type(b), type(c)  )"
      ],
      "metadata": {
        "colab": {
          "base_uri": "https://localhost:8080/"
        },
        "id": "gYdgPBes9Azk",
        "outputId": "3e5daf21-f0b7-4a42-ffe1-f889dfb59e69"
      },
      "execution_count": null,
      "outputs": [
        {
          "output_type": "stream",
          "name": "stdout",
          "text": [
            "<class 'int'> <class 'float'> <class 'str'>\n"
          ]
        }
      ]
    },
    {
      "cell_type": "markdown",
      "source": [
        "정리\n",
        "  - 변수\n",
        "  - 자료형\n",
        "  - 변수 네이밍\n",
        "    - 예약어는 변수로 사용하면 큰일\n",
        "  - 연산자\n",
        "  - 자료형 변환\n",
        "    - 정수 <--> 실수\n",
        "    - 문자열 <--> 숫자\n",
        "  - 자료형 확인\n",
        "    - type()\n"
      ],
      "metadata": {
        "id": "owDK9wXY9WrB"
      }
    },
    {
      "cell_type": "code",
      "source": [],
      "metadata": {
        "id": "ZDiHLmrG9IdI"
      },
      "execution_count": null,
      "outputs": []
    }
  ]
}