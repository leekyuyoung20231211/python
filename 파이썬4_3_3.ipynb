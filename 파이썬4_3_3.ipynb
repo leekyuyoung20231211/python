{
  "nbformat": 4,
  "nbformat_minor": 0,
  "metadata": {
    "colab": {
      "provenance": []
    },
    "kernelspec": {
      "name": "python3",
      "display_name": "Python 3"
    },
    "language_info": {
      "name": "python"
    }
  },
  "cells": [
    {
      "cell_type": "code",
      "execution_count": 1,
      "metadata": {
        "id": "RzSgg8QXbWXw"
      },
      "outputs": [],
      "source": []
    },
    {
      "cell_type": "code",
      "source": [
        "import url_utils\n",
        "import urllib.request\n",
        "import re\n",
        "url = 'https://books.google.com/googlebooks/uspto-patents-grants-text.html'\n",
        "html = urllib.request.urlopen(url)\n",
        "html_contents =  str(html.read().decode(\"utf8\"))\n",
        "# html_contents 에 저장된 문자열 중에서 http로 시작하고 .zip으로 끝나는 문자열을 전부 찾아서 리스트로 반환\n",
        "url_lists =  re.findall( r\"(http)(.+)(zip)\", html_contents )\n",
        "# url_lists 리스트에 있는 튜플들을 join을 이용해서 하나의 문장으로 합친다.\n",
        "for urlpath in  [ \"\".join(url)  for url in  url_lists]:\n",
        "  url_utils.download_zip(urlpath)"
      ],
      "metadata": {
        "id": "I2Nx2Orib3dn"
      },
      "execution_count": 1,
      "outputs": []
    },
    {
      "cell_type": "code",
      "source": [
        "url_lists =  re.findall( r\"http.*\\.zip\", html_contents )\n",
        "len(url_lists)"
      ],
      "metadata": {
        "colab": {
          "base_uri": "https://localhost:8080/"
        },
        "id": "UV2eBrs5cWAM",
        "outputId": "5e4826cb-1995-4147-fab1-928f74b25e3d"
      },
      "execution_count": 5,
      "outputs": [
        {
          "output_type": "execute_result",
          "data": {
            "text/plain": [
              "2098"
            ]
          },
          "metadata": {},
          "execution_count": 5
        }
      ]
    },
    {
      "cell_type": "markdown",
      "source": [
        "대표적인 정규표현식\n",
        "  - 검색을 통해서 빈 칸을 채워주세요"
      ],
      "metadata": {
        "id": "wSB-QreShXFf"
      }
    },
    {
      "cell_type": "code",
      "source": [
        "# 이메일 주소 추출  abc123@abc.com\n",
        "pattern = r'\\b[A-Za-z0-9._%+-]+@[A-Za-z0-9.-]+\\.[A-Z|a-z]{2,}\\b'\n",
        "# 전화번호\n",
        "# url\n",
        "# html 태그 제거\n",
        "pattern = r'<.*?>'\n",
        "# 날자관련"
      ],
      "metadata": {
        "id": "L_z5TijrhBmP"
      },
      "execution_count": 6,
      "outputs": []
    },
    {
      "cell_type": "markdown",
      "source": [
        "삼성전자 정보 추출\n",
        "  - 정보를 감싸고 있는  html 태그 정보를 추출"
      ],
      "metadata": {
        "id": "ltJduh_FjbQ3"
      }
    },
    {
      "cell_type": "code",
      "source": [
        "#  < div class = \"rate_info\" >\n",
        "print('< div class = \"rate_info\" >')"
      ],
      "metadata": {
        "colab": {
          "base_uri": "https://localhost:8080/"
        },
        "id": "XZYH1UyOjFHH",
        "outputId": "b6ba21ca-6c5a-4027-d331-15d65f5a9d6d"
      },
      "execution_count": 7,
      "outputs": [
        {
          "output_type": "stream",
          "name": "stdout",
          "text": [
            "< div class = \"rate_info\" >\n"
          ]
        }
      ]
    },
    {
      "cell_type": "code",
      "source": [
        "import re\n",
        "import urllib.request\n",
        "url = 'https://finance.naver.com/item/main.nhn?code=005930'\n",
        "html = urllib.request.urlopen(url)\n",
        "html_contents = html.read().decode('ms949')\n",
        "# 1"
      ],
      "metadata": {
        "colab": {
          "base_uri": "https://localhost:8080/"
        },
        "id": "6Pycya4Uj5ce",
        "outputId": "4d94463b-d5f4-4c40-e8d1-55d4a4ddec89"
      },
      "execution_count": 14,
      "outputs": [
        {
          "output_type": "execute_result",
          "data": {
            "text/plain": [
              "['<div class=\"rate_info\">']"
            ]
          },
          "metadata": {},
          "execution_count": 14
        }
      ]
    },
    {
      "cell_type": "code",
      "source": [],
      "metadata": {
        "id": "_tfd-Dc6klVG"
      },
      "execution_count": null,
      "outputs": []
    }
  ]
}