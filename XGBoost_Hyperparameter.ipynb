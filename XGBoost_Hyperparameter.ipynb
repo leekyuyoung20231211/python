{
  "nbformat": 4,
  "nbformat_minor": 0,
  "metadata": {
    "colab": {
      "provenance": []
    },
    "kernelspec": {
      "name": "python3",
      "display_name": "Python 3"
    },
    "language_info": {
      "name": "python"
    }
  },
  "cells": [
    {
      "cell_type": "code",
      "execution_count": 5,
      "metadata": {
        "id": "Ux2aBEkBVp74"
      },
      "outputs": [],
      "source": [
        "import warnings\n",
        "warnings.filterwarnings('ignore')\n",
        "import xgboost as xgb\n",
        "xgb.set_config(verbosity=0)"
      ]
    },
    {
      "cell_type": "markdown",
      "source": [
        "데이터 셋 준비"
      ],
      "metadata": {
        "id": "2_kAGgf0V-jY"
      }
    },
    {
      "cell_type": "code",
      "source": [
        "# 심장질환 데이터셋\n",
        "!wget -q https://raw.githubusercontent.com/rickiepark/handson-gb/main/Chapter06/heart_disease.csv"
      ],
      "metadata": {
        "id": "JTQbz1N6V4dc"
      },
      "execution_count": 6,
      "outputs": []
    },
    {
      "cell_type": "code",
      "source": [
        "import pandas as pd\n",
        "df =pd.read_csv('/content/heart_disease.csv')\n",
        "df.head()"
      ],
      "metadata": {
        "colab": {
          "base_uri": "https://localhost:8080/",
          "height": 206
        },
        "id": "1Hi-FRtsW_XY",
        "outputId": "703149a5-a59b-466e-b4e9-ceb2ab745af8"
      },
      "execution_count": 7,
      "outputs": [
        {
          "output_type": "execute_result",
          "data": {
            "text/plain": [
              "   age  sex  cp  trestbps  chol  fbs  restecg  thalach  exang  oldpeak  slope  \\\n",
              "0   63    1   3       145   233    1        0      150      0      2.3      0   \n",
              "1   37    1   2       130   250    0        1      187      0      3.5      0   \n",
              "2   41    0   1       130   204    0        0      172      0      1.4      2   \n",
              "3   56    1   1       120   236    0        1      178      0      0.8      2   \n",
              "4   57    0   0       120   354    0        1      163      1      0.6      2   \n",
              "\n",
              "   ca  thal  target  \n",
              "0   0     1       1  \n",
              "1   0     2       1  \n",
              "2   0     2       1  \n",
              "3   0     2       1  \n",
              "4   0     2       1  "
            ],
            "text/html": [
              "\n",
              "  <div id=\"df-30db98ee-0dd7-4b07-b02c-a06691e10dd1\" class=\"colab-df-container\">\n",
              "    <div>\n",
              "<style scoped>\n",
              "    .dataframe tbody tr th:only-of-type {\n",
              "        vertical-align: middle;\n",
              "    }\n",
              "\n",
              "    .dataframe tbody tr th {\n",
              "        vertical-align: top;\n",
              "    }\n",
              "\n",
              "    .dataframe thead th {\n",
              "        text-align: right;\n",
              "    }\n",
              "</style>\n",
              "<table border=\"1\" class=\"dataframe\">\n",
              "  <thead>\n",
              "    <tr style=\"text-align: right;\">\n",
              "      <th></th>\n",
              "      <th>age</th>\n",
              "      <th>sex</th>\n",
              "      <th>cp</th>\n",
              "      <th>trestbps</th>\n",
              "      <th>chol</th>\n",
              "      <th>fbs</th>\n",
              "      <th>restecg</th>\n",
              "      <th>thalach</th>\n",
              "      <th>exang</th>\n",
              "      <th>oldpeak</th>\n",
              "      <th>slope</th>\n",
              "      <th>ca</th>\n",
              "      <th>thal</th>\n",
              "      <th>target</th>\n",
              "    </tr>\n",
              "  </thead>\n",
              "  <tbody>\n",
              "    <tr>\n",
              "      <th>0</th>\n",
              "      <td>63</td>\n",
              "      <td>1</td>\n",
              "      <td>3</td>\n",
              "      <td>145</td>\n",
              "      <td>233</td>\n",
              "      <td>1</td>\n",
              "      <td>0</td>\n",
              "      <td>150</td>\n",
              "      <td>0</td>\n",
              "      <td>2.3</td>\n",
              "      <td>0</td>\n",
              "      <td>0</td>\n",
              "      <td>1</td>\n",
              "      <td>1</td>\n",
              "    </tr>\n",
              "    <tr>\n",
              "      <th>1</th>\n",
              "      <td>37</td>\n",
              "      <td>1</td>\n",
              "      <td>2</td>\n",
              "      <td>130</td>\n",
              "      <td>250</td>\n",
              "      <td>0</td>\n",
              "      <td>1</td>\n",
              "      <td>187</td>\n",
              "      <td>0</td>\n",
              "      <td>3.5</td>\n",
              "      <td>0</td>\n",
              "      <td>0</td>\n",
              "      <td>2</td>\n",
              "      <td>1</td>\n",
              "    </tr>\n",
              "    <tr>\n",
              "      <th>2</th>\n",
              "      <td>41</td>\n",
              "      <td>0</td>\n",
              "      <td>1</td>\n",
              "      <td>130</td>\n",
              "      <td>204</td>\n",
              "      <td>0</td>\n",
              "      <td>0</td>\n",
              "      <td>172</td>\n",
              "      <td>0</td>\n",
              "      <td>1.4</td>\n",
              "      <td>2</td>\n",
              "      <td>0</td>\n",
              "      <td>2</td>\n",
              "      <td>1</td>\n",
              "    </tr>\n",
              "    <tr>\n",
              "      <th>3</th>\n",
              "      <td>56</td>\n",
              "      <td>1</td>\n",
              "      <td>1</td>\n",
              "      <td>120</td>\n",
              "      <td>236</td>\n",
              "      <td>0</td>\n",
              "      <td>1</td>\n",
              "      <td>178</td>\n",
              "      <td>0</td>\n",
              "      <td>0.8</td>\n",
              "      <td>2</td>\n",
              "      <td>0</td>\n",
              "      <td>2</td>\n",
              "      <td>1</td>\n",
              "    </tr>\n",
              "    <tr>\n",
              "      <th>4</th>\n",
              "      <td>57</td>\n",
              "      <td>0</td>\n",
              "      <td>0</td>\n",
              "      <td>120</td>\n",
              "      <td>354</td>\n",
              "      <td>0</td>\n",
              "      <td>1</td>\n",
              "      <td>163</td>\n",
              "      <td>1</td>\n",
              "      <td>0.6</td>\n",
              "      <td>2</td>\n",
              "      <td>0</td>\n",
              "      <td>2</td>\n",
              "      <td>1</td>\n",
              "    </tr>\n",
              "  </tbody>\n",
              "</table>\n",
              "</div>\n",
              "    <div class=\"colab-df-buttons\">\n",
              "\n",
              "  <div class=\"colab-df-container\">\n",
              "    <button class=\"colab-df-convert\" onclick=\"convertToInteractive('df-30db98ee-0dd7-4b07-b02c-a06691e10dd1')\"\n",
              "            title=\"Convert this dataframe to an interactive table.\"\n",
              "            style=\"display:none;\">\n",
              "\n",
              "  <svg xmlns=\"http://www.w3.org/2000/svg\" height=\"24px\" viewBox=\"0 -960 960 960\">\n",
              "    <path d=\"M120-120v-720h720v720H120Zm60-500h600v-160H180v160Zm220 220h160v-160H400v160Zm0 220h160v-160H400v160ZM180-400h160v-160H180v160Zm440 0h160v-160H620v160ZM180-180h160v-160H180v160Zm440 0h160v-160H620v160Z\"/>\n",
              "  </svg>\n",
              "    </button>\n",
              "\n",
              "  <style>\n",
              "    .colab-df-container {\n",
              "      display:flex;\n",
              "      gap: 12px;\n",
              "    }\n",
              "\n",
              "    .colab-df-convert {\n",
              "      background-color: #E8F0FE;\n",
              "      border: none;\n",
              "      border-radius: 50%;\n",
              "      cursor: pointer;\n",
              "      display: none;\n",
              "      fill: #1967D2;\n",
              "      height: 32px;\n",
              "      padding: 0 0 0 0;\n",
              "      width: 32px;\n",
              "    }\n",
              "\n",
              "    .colab-df-convert:hover {\n",
              "      background-color: #E2EBFA;\n",
              "      box-shadow: 0px 1px 2px rgba(60, 64, 67, 0.3), 0px 1px 3px 1px rgba(60, 64, 67, 0.15);\n",
              "      fill: #174EA6;\n",
              "    }\n",
              "\n",
              "    .colab-df-buttons div {\n",
              "      margin-bottom: 4px;\n",
              "    }\n",
              "\n",
              "    [theme=dark] .colab-df-convert {\n",
              "      background-color: #3B4455;\n",
              "      fill: #D2E3FC;\n",
              "    }\n",
              "\n",
              "    [theme=dark] .colab-df-convert:hover {\n",
              "      background-color: #434B5C;\n",
              "      box-shadow: 0px 1px 3px 1px rgba(0, 0, 0, 0.15);\n",
              "      filter: drop-shadow(0px 1px 2px rgba(0, 0, 0, 0.3));\n",
              "      fill: #FFFFFF;\n",
              "    }\n",
              "  </style>\n",
              "\n",
              "    <script>\n",
              "      const buttonEl =\n",
              "        document.querySelector('#df-30db98ee-0dd7-4b07-b02c-a06691e10dd1 button.colab-df-convert');\n",
              "      buttonEl.style.display =\n",
              "        google.colab.kernel.accessAllowed ? 'block' : 'none';\n",
              "\n",
              "      async function convertToInteractive(key) {\n",
              "        const element = document.querySelector('#df-30db98ee-0dd7-4b07-b02c-a06691e10dd1');\n",
              "        const dataTable =\n",
              "          await google.colab.kernel.invokeFunction('convertToInteractive',\n",
              "                                                    [key], {});\n",
              "        if (!dataTable) return;\n",
              "\n",
              "        const docLinkHtml = 'Like what you see? Visit the ' +\n",
              "          '<a target=\"_blank\" href=https://colab.research.google.com/notebooks/data_table.ipynb>data table notebook</a>'\n",
              "          + ' to learn more about interactive tables.';\n",
              "        element.innerHTML = '';\n",
              "        dataTable['output_type'] = 'display_data';\n",
              "        await google.colab.output.renderOutput(dataTable, element);\n",
              "        const docLink = document.createElement('div');\n",
              "        docLink.innerHTML = docLinkHtml;\n",
              "        element.appendChild(docLink);\n",
              "      }\n",
              "    </script>\n",
              "  </div>\n",
              "\n",
              "\n",
              "<div id=\"df-c3544c11-3abe-4cc3-8217-e8393e09679b\">\n",
              "  <button class=\"colab-df-quickchart\" onclick=\"quickchart('df-c3544c11-3abe-4cc3-8217-e8393e09679b')\"\n",
              "            title=\"Suggest charts\"\n",
              "            style=\"display:none;\">\n",
              "\n",
              "<svg xmlns=\"http://www.w3.org/2000/svg\" height=\"24px\"viewBox=\"0 0 24 24\"\n",
              "     width=\"24px\">\n",
              "    <g>\n",
              "        <path d=\"M19 3H5c-1.1 0-2 .9-2 2v14c0 1.1.9 2 2 2h14c1.1 0 2-.9 2-2V5c0-1.1-.9-2-2-2zM9 17H7v-7h2v7zm4 0h-2V7h2v10zm4 0h-2v-4h2v4z\"/>\n",
              "    </g>\n",
              "</svg>\n",
              "  </button>\n",
              "\n",
              "<style>\n",
              "  .colab-df-quickchart {\n",
              "      --bg-color: #E8F0FE;\n",
              "      --fill-color: #1967D2;\n",
              "      --hover-bg-color: #E2EBFA;\n",
              "      --hover-fill-color: #174EA6;\n",
              "      --disabled-fill-color: #AAA;\n",
              "      --disabled-bg-color: #DDD;\n",
              "  }\n",
              "\n",
              "  [theme=dark] .colab-df-quickchart {\n",
              "      --bg-color: #3B4455;\n",
              "      --fill-color: #D2E3FC;\n",
              "      --hover-bg-color: #434B5C;\n",
              "      --hover-fill-color: #FFFFFF;\n",
              "      --disabled-bg-color: #3B4455;\n",
              "      --disabled-fill-color: #666;\n",
              "  }\n",
              "\n",
              "  .colab-df-quickchart {\n",
              "    background-color: var(--bg-color);\n",
              "    border: none;\n",
              "    border-radius: 50%;\n",
              "    cursor: pointer;\n",
              "    display: none;\n",
              "    fill: var(--fill-color);\n",
              "    height: 32px;\n",
              "    padding: 0;\n",
              "    width: 32px;\n",
              "  }\n",
              "\n",
              "  .colab-df-quickchart:hover {\n",
              "    background-color: var(--hover-bg-color);\n",
              "    box-shadow: 0 1px 2px rgba(60, 64, 67, 0.3), 0 1px 3px 1px rgba(60, 64, 67, 0.15);\n",
              "    fill: var(--button-hover-fill-color);\n",
              "  }\n",
              "\n",
              "  .colab-df-quickchart-complete:disabled,\n",
              "  .colab-df-quickchart-complete:disabled:hover {\n",
              "    background-color: var(--disabled-bg-color);\n",
              "    fill: var(--disabled-fill-color);\n",
              "    box-shadow: none;\n",
              "  }\n",
              "\n",
              "  .colab-df-spinner {\n",
              "    border: 2px solid var(--fill-color);\n",
              "    border-color: transparent;\n",
              "    border-bottom-color: var(--fill-color);\n",
              "    animation:\n",
              "      spin 1s steps(1) infinite;\n",
              "  }\n",
              "\n",
              "  @keyframes spin {\n",
              "    0% {\n",
              "      border-color: transparent;\n",
              "      border-bottom-color: var(--fill-color);\n",
              "      border-left-color: var(--fill-color);\n",
              "    }\n",
              "    20% {\n",
              "      border-color: transparent;\n",
              "      border-left-color: var(--fill-color);\n",
              "      border-top-color: var(--fill-color);\n",
              "    }\n",
              "    30% {\n",
              "      border-color: transparent;\n",
              "      border-left-color: var(--fill-color);\n",
              "      border-top-color: var(--fill-color);\n",
              "      border-right-color: var(--fill-color);\n",
              "    }\n",
              "    40% {\n",
              "      border-color: transparent;\n",
              "      border-right-color: var(--fill-color);\n",
              "      border-top-color: var(--fill-color);\n",
              "    }\n",
              "    60% {\n",
              "      border-color: transparent;\n",
              "      border-right-color: var(--fill-color);\n",
              "    }\n",
              "    80% {\n",
              "      border-color: transparent;\n",
              "      border-right-color: var(--fill-color);\n",
              "      border-bottom-color: var(--fill-color);\n",
              "    }\n",
              "    90% {\n",
              "      border-color: transparent;\n",
              "      border-bottom-color: var(--fill-color);\n",
              "    }\n",
              "  }\n",
              "</style>\n",
              "\n",
              "  <script>\n",
              "    async function quickchart(key) {\n",
              "      const quickchartButtonEl =\n",
              "        document.querySelector('#' + key + ' button');\n",
              "      quickchartButtonEl.disabled = true;  // To prevent multiple clicks.\n",
              "      quickchartButtonEl.classList.add('colab-df-spinner');\n",
              "      try {\n",
              "        const charts = await google.colab.kernel.invokeFunction(\n",
              "            'suggestCharts', [key], {});\n",
              "      } catch (error) {\n",
              "        console.error('Error during call to suggestCharts:', error);\n",
              "      }\n",
              "      quickchartButtonEl.classList.remove('colab-df-spinner');\n",
              "      quickchartButtonEl.classList.add('colab-df-quickchart-complete');\n",
              "    }\n",
              "    (() => {\n",
              "      let quickchartButtonEl =\n",
              "        document.querySelector('#df-c3544c11-3abe-4cc3-8217-e8393e09679b button');\n",
              "      quickchartButtonEl.style.display =\n",
              "        google.colab.kernel.accessAllowed ? 'block' : 'none';\n",
              "    })();\n",
              "  </script>\n",
              "</div>\n",
              "\n",
              "    </div>\n",
              "  </div>\n"
            ],
            "application/vnd.google.colaboratory.intrinsic+json": {
              "type": "dataframe",
              "variable_name": "df",
              "summary": "{\n  \"name\": \"df\",\n  \"rows\": 303,\n  \"fields\": [\n    {\n      \"column\": \"age\",\n      \"properties\": {\n        \"dtype\": \"number\",\n        \"std\": 9,\n        \"min\": 29,\n        \"max\": 77,\n        \"num_unique_values\": 41,\n        \"samples\": [\n          46,\n          66,\n          48\n        ],\n        \"semantic_type\": \"\",\n        \"description\": \"\"\n      }\n    },\n    {\n      \"column\": \"sex\",\n      \"properties\": {\n        \"dtype\": \"number\",\n        \"std\": 0,\n        \"min\": 0,\n        \"max\": 1,\n        \"num_unique_values\": 2,\n        \"samples\": [\n          0,\n          1\n        ],\n        \"semantic_type\": \"\",\n        \"description\": \"\"\n      }\n    },\n    {\n      \"column\": \"cp\",\n      \"properties\": {\n        \"dtype\": \"number\",\n        \"std\": 1,\n        \"min\": 0,\n        \"max\": 3,\n        \"num_unique_values\": 4,\n        \"samples\": [\n          2,\n          0\n        ],\n        \"semantic_type\": \"\",\n        \"description\": \"\"\n      }\n    },\n    {\n      \"column\": \"trestbps\",\n      \"properties\": {\n        \"dtype\": \"number\",\n        \"std\": 17,\n        \"min\": 94,\n        \"max\": 200,\n        \"num_unique_values\": 49,\n        \"samples\": [\n          104,\n          123\n        ],\n        \"semantic_type\": \"\",\n        \"description\": \"\"\n      }\n    },\n    {\n      \"column\": \"chol\",\n      \"properties\": {\n        \"dtype\": \"number\",\n        \"std\": 51,\n        \"min\": 126,\n        \"max\": 564,\n        \"num_unique_values\": 152,\n        \"samples\": [\n          277,\n          169\n        ],\n        \"semantic_type\": \"\",\n        \"description\": \"\"\n      }\n    },\n    {\n      \"column\": \"fbs\",\n      \"properties\": {\n        \"dtype\": \"number\",\n        \"std\": 0,\n        \"min\": 0,\n        \"max\": 1,\n        \"num_unique_values\": 2,\n        \"samples\": [\n          0,\n          1\n        ],\n        \"semantic_type\": \"\",\n        \"description\": \"\"\n      }\n    },\n    {\n      \"column\": \"restecg\",\n      \"properties\": {\n        \"dtype\": \"number\",\n        \"std\": 0,\n        \"min\": 0,\n        \"max\": 2,\n        \"num_unique_values\": 3,\n        \"samples\": [\n          0,\n          1\n        ],\n        \"semantic_type\": \"\",\n        \"description\": \"\"\n      }\n    },\n    {\n      \"column\": \"thalach\",\n      \"properties\": {\n        \"dtype\": \"number\",\n        \"std\": 22,\n        \"min\": 71,\n        \"max\": 202,\n        \"num_unique_values\": 91,\n        \"samples\": [\n          159,\n          152\n        ],\n        \"semantic_type\": \"\",\n        \"description\": \"\"\n      }\n    },\n    {\n      \"column\": \"exang\",\n      \"properties\": {\n        \"dtype\": \"number\",\n        \"std\": 0,\n        \"min\": 0,\n        \"max\": 1,\n        \"num_unique_values\": 2,\n        \"samples\": [\n          1,\n          0\n        ],\n        \"semantic_type\": \"\",\n        \"description\": \"\"\n      }\n    },\n    {\n      \"column\": \"oldpeak\",\n      \"properties\": {\n        \"dtype\": \"number\",\n        \"std\": 1.1610750220686348,\n        \"min\": 0.0,\n        \"max\": 6.2,\n        \"num_unique_values\": 40,\n        \"samples\": [\n          1.9,\n          3.0\n        ],\n        \"semantic_type\": \"\",\n        \"description\": \"\"\n      }\n    },\n    {\n      \"column\": \"slope\",\n      \"properties\": {\n        \"dtype\": \"number\",\n        \"std\": 0,\n        \"min\": 0,\n        \"max\": 2,\n        \"num_unique_values\": 3,\n        \"samples\": [\n          0,\n          2\n        ],\n        \"semantic_type\": \"\",\n        \"description\": \"\"\n      }\n    },\n    {\n      \"column\": \"ca\",\n      \"properties\": {\n        \"dtype\": \"number\",\n        \"std\": 1,\n        \"min\": 0,\n        \"max\": 4,\n        \"num_unique_values\": 5,\n        \"samples\": [\n          2,\n          4\n        ],\n        \"semantic_type\": \"\",\n        \"description\": \"\"\n      }\n    },\n    {\n      \"column\": \"thal\",\n      \"properties\": {\n        \"dtype\": \"number\",\n        \"std\": 0,\n        \"min\": 0,\n        \"max\": 3,\n        \"num_unique_values\": 4,\n        \"samples\": [\n          2,\n          0\n        ],\n        \"semantic_type\": \"\",\n        \"description\": \"\"\n      }\n    },\n    {\n      \"column\": \"target\",\n      \"properties\": {\n        \"dtype\": \"number\",\n        \"std\": 0,\n        \"min\": 0,\n        \"max\": 1,\n        \"num_unique_values\": 2,\n        \"samples\": [\n          0,\n          1\n        ],\n        \"semantic_type\": \"\",\n        \"description\": \"\"\n      }\n    }\n  ]\n}"
            }
          },
          "metadata": {},
          "execution_count": 7
        }
      ]
    },
    {
      "cell_type": "code",
      "source": [
        "df.info()"
      ],
      "metadata": {
        "colab": {
          "base_uri": "https://localhost:8080/"
        },
        "id": "bVLhxjs6XRB7",
        "outputId": "a1bb2a8e-951a-4afd-9d36-130abb7948b6"
      },
      "execution_count": 8,
      "outputs": [
        {
          "output_type": "stream",
          "name": "stdout",
          "text": [
            "<class 'pandas.core.frame.DataFrame'>\n",
            "RangeIndex: 303 entries, 0 to 302\n",
            "Data columns (total 14 columns):\n",
            " #   Column    Non-Null Count  Dtype  \n",
            "---  ------    --------------  -----  \n",
            " 0   age       303 non-null    int64  \n",
            " 1   sex       303 non-null    int64  \n",
            " 2   cp        303 non-null    int64  \n",
            " 3   trestbps  303 non-null    int64  \n",
            " 4   chol      303 non-null    int64  \n",
            " 5   fbs       303 non-null    int64  \n",
            " 6   restecg   303 non-null    int64  \n",
            " 7   thalach   303 non-null    int64  \n",
            " 8   exang     303 non-null    int64  \n",
            " 9   oldpeak   303 non-null    float64\n",
            " 10  slope     303 non-null    int64  \n",
            " 11  ca        303 non-null    int64  \n",
            " 12  thal      303 non-null    int64  \n",
            " 13  target    303 non-null    int64  \n",
            "dtypes: float64(1), int64(13)\n",
            "memory usage: 33.3 KB\n"
          ]
        }
      ]
    },
    {
      "cell_type": "markdown",
      "source": [
        "모델 : XGBClassifier"
      ],
      "metadata": {
        "id": "VQEdPMrBXeMM"
      }
    },
    {
      "cell_type": "code",
      "source": [
        "from xgboost import XGBClassifier\n",
        "from sklearn.metrics import accuracy_score"
      ],
      "metadata": {
        "id": "Gw87c6AsXXcy"
      },
      "execution_count": 9,
      "outputs": []
    },
    {
      "cell_type": "code",
      "source": [
        "# 데이터 나누기 X,y\n",
        "X = df.iloc[:,:-1]\n",
        "y = df.iloc[:,-1]"
      ],
      "metadata": {
        "id": "rlPQLNxxXofH"
      },
      "execution_count": 10,
      "outputs": []
    },
    {
      "cell_type": "code",
      "source": [
        "# 분류모델중에 성능이 좀 괜찮은 알고리즘 logist\n",
        "model = XGBClassifier(booster = 'gbtree',objective = 'binary:logistic')"
      ],
      "metadata": {
        "id": "nEPrXf-NXy6n"
      },
      "execution_count": 11,
      "outputs": []
    },
    {
      "cell_type": "code",
      "source": [
        "# 교차검증\n",
        "from sklearn.model_selection import cross_val_score\n",
        "import numpy as np\n",
        "scores = cross_val_score(model,X,y, cv=5)\n",
        "# 정확도 측정\n",
        "print(f\"정확도:{np.round(scores,2)}\")\n",
        "# 정확도 평균 측정\n",
        "print(f\"정확도 평균:{scores.mean()}\")"
      ],
      "metadata": {
        "colab": {
          "base_uri": "https://localhost:8080/"
        },
        "id": "zRwguj93YM_X",
        "outputId": "29c2856d-2adb-4b43-a0fa-be19a22f44fc"
      },
      "execution_count": 14,
      "outputs": [
        {
          "output_type": "stream",
          "name": "stdout",
          "text": [
            "정확도:[0.82 0.8  0.77 0.78 0.77]\n",
            "정확도 평균:0.7886885245901639\n"
          ]
        }
      ]
    },
    {
      "cell_type": "markdown",
      "source": [
        "StratifiedKFold\n",
        "  - kfold 한쪽으로 몰리는 것 을 방지하기위해서 target 의 개수를 동일하게 가져간다"
      ],
      "metadata": {
        "id": "pBa7o6OdZLY7"
      }
    },
    {
      "cell_type": "code",
      "source": [
        "from sklearn.model_selection import StratifiedKFold\n",
        "kfold =  StratifiedKFold(n_splits=5, shuffle=True,random_state=2)"
      ],
      "metadata": {
        "id": "GAXfra4DZKHM"
      },
      "execution_count": 15,
      "outputs": []
    },
    {
      "cell_type": "code",
      "source": [
        "np.unique(y,return_counts=True),  np.bincount(y)"
      ],
      "metadata": {
        "colab": {
          "base_uri": "https://localhost:8080/"
        },
        "id": "6otp7M3yZg-3",
        "outputId": "a9cda159-85a9-4822-b7ed-8ad53bcb4578"
      },
      "execution_count": 20,
      "outputs": [
        {
          "output_type": "execute_result",
          "data": {
            "text/plain": [
              "((array([0, 1]), array([138, 165])), array([138, 165]))"
            ]
          },
          "metadata": {},
          "execution_count": 20
        }
      ]
    },
    {
      "cell_type": "code",
      "source": [
        "print(f\"전체 데이터의 클래스 분포 : {np.bincount(y)}\")\n",
        "print()\n",
        "for plit_no , (train_idx,test_idx) in enumerate(kfold.split(X,y)):\n",
        "  print(f\"{plit_no+1}번째 훈련 폴드 : {np.bincount(y[train_idx])}\")\n",
        "  print(f\"{plit_no+1}번째 검증 폴드 : {np.bincount(y[test_idx])}\")\n",
        "  print()"
      ],
      "metadata": {
        "colab": {
          "base_uri": "https://localhost:8080/"
        },
        "id": "D8H698MkZ4Fl",
        "outputId": "db8d628d-b0b9-44b0-be32-66377dd9f847"
      },
      "execution_count": 23,
      "outputs": [
        {
          "output_type": "stream",
          "name": "stdout",
          "text": [
            "전체 데이터의 클래스 분포 : [138 165]\n",
            "\n",
            "1번째 훈련 폴드 : [110 132]\n",
            "1번째 검증 폴드 : [28 33]\n",
            "\n",
            "2번째 훈련 폴드 : [110 132]\n",
            "2번째 검증 폴드 : [28 33]\n",
            "\n",
            "3번째 훈련 폴드 : [110 132]\n",
            "3번째 검증 폴드 : [28 33]\n",
            "\n",
            "4번째 훈련 폴드 : [111 132]\n",
            "4번째 검증 폴드 : [27 33]\n",
            "\n",
            "5번째 훈련 폴드 : [111 132]\n",
            "5번째 검증 폴드 : [27 33]\n",
            "\n"
          ]
        }
      ]
    },
    {
      "cell_type": "markdown",
      "source": [
        "GridSearchCV 와 RandomizedSearchCV"
      ],
      "metadata": {
        "id": "iYhpMTUWa5wb"
      }
    },
    {
      "cell_type": "code",
      "source": [
        "from sklearn.model_selection import GridSearchCV,RandomizedSearchCV\n",
        "kfold = StratifiedKFold(n_splits=5,shuffle=True,random_state=2)"
      ],
      "metadata": {
        "id": "ecoA8U4Oa9iO"
      },
      "execution_count": 28,
      "outputs": []
    },
    {
      "cell_type": "code",
      "source": [
        "def grid_search(params, random=False):\n",
        "  xgb = XGBClassifier(booster = 'gbtree',objective = 'binary:logistic',random_state=2,verbosity=0,use_label_encoder=False)\n",
        "  kfold = StratifiedKFold(n_splits=5,shuffle=True,random_state=2)\n",
        "  if random:\n",
        "    grid = RandomizedSearchCV(xgb,params,cv=kfold,n_iter=20,n_jobs=-1,random_state=2)\n",
        "  else:\n",
        "    grid = GridSearchCV(xgb,params,cv=kfold,n_jobs=-1)\n",
        "\n",
        "  grid.fit(X,y)\n",
        "  best_params = grid.best_params_\n",
        "  print(f\"best params:{best_params}\")\n",
        "  best_score = grid.best_score_\n",
        "  print(f\"best score:{best_score}\")"
      ],
      "metadata": {
        "id": "B2WDi-BmbiLs"
      },
      "execution_count": 30,
      "outputs": []
    },
    {
      "cell_type": "markdown",
      "source": [
        "XGBoost 하이퍼 파라메터 튜닝"
      ],
      "metadata": {
        "id": "_kWNA3Ewclas"
      }
    },
    {
      "cell_type": "code",
      "source": [
        "grid_search(params ={ 'n_estimators':[100,200,400,800]})"
      ],
      "metadata": {
        "colab": {
          "base_uri": "https://localhost:8080/"
        },
        "id": "wMf0pHf0ctNJ",
        "outputId": "b8ce7224-012d-43a2-d425-064445400577"
      },
      "execution_count": 31,
      "outputs": [
        {
          "output_type": "stream",
          "name": "stdout",
          "text": [
            "best params:{'n_estimators': 400}\n",
            "best score:0.7957377049180329\n"
          ]
        }
      ]
    },
    {
      "cell_type": "code",
      "source": [
        "grid_search(params ={ 'learning_date':[0.01,0.05,0.1,0.2,0.3,0.4,0.5]})"
      ],
      "metadata": {
        "colab": {
          "base_uri": "https://localhost:8080/"
        },
        "id": "g-2mBitsc_F6",
        "outputId": "b2e8da76-d554-411f-ed54-1ee04770df5a"
      },
      "execution_count": 32,
      "outputs": [
        {
          "output_type": "stream",
          "name": "stdout",
          "text": [
            "best params:{'learning_date': 0.01}\n",
            "best score:0.7925136612021858\n"
          ]
        }
      ]
    },
    {
      "cell_type": "code",
      "source": [
        "grid_search(params ={ 'max_depth':[2,3,5,6,8]})"
      ],
      "metadata": {
        "colab": {
          "base_uri": "https://localhost:8080/"
        },
        "id": "kn8mIvtzdIv6",
        "outputId": "e96ed77f-a825-4ee5-cd80-9c3103b7de5e"
      },
      "execution_count": 33,
      "outputs": [
        {
          "output_type": "stream",
          "name": "stdout",
          "text": [
            "best params:{'max_depth': 6}\n",
            "best score:0.7925136612021858\n"
          ]
        }
      ]
    },
    {
      "cell_type": "code",
      "source": [
        "# gamma : : 트리가 추가로 분할되기 위한 최소 손실 감소량 클수록 보수적인 분할"
      ],
      "metadata": {
        "id": "i7QAaVDkdQsh"
      },
      "execution_count": null,
      "outputs": []
    },
    {
      "cell_type": "code",
      "source": [
        "grid_search(params ={ 'gamma':[0,0.01,0.1,0.5,1.2]})"
      ],
      "metadata": {
        "colab": {
          "base_uri": "https://localhost:8080/"
        },
        "id": "aAzGOqFZdm1u",
        "outputId": "a7527fb1-ca8a-476c-c835-63eb620313de"
      },
      "execution_count": 34,
      "outputs": [
        {
          "output_type": "stream",
          "name": "stdout",
          "text": [
            "best params:{'gamma': 1.2}\n",
            "best score:0.8022404371584699\n"
          ]
        }
      ]
    },
    {
      "cell_type": "code",
      "source": [
        "grid_search(params ={ 'min_child_weight':[1,2,3,4,5]})"
      ],
      "metadata": {
        "colab": {
          "base_uri": "https://localhost:8080/"
        },
        "id": "Eg_k4EDjdrvt",
        "outputId": "97c3d3ab-813b-4099-ef31-6632e08c70e9"
      },
      "execution_count": 36,
      "outputs": [
        {
          "output_type": "stream",
          "name": "stdout",
          "text": [
            "best params:{'min_child_weight': 3}\n",
            "best score:0.7989617486338798\n"
          ]
        }
      ]
    },
    {
      "cell_type": "code",
      "source": [
        "grid_search(params ={ 'subsample':[0.5,0.7,0.8,0.9,1]})"
      ],
      "metadata": {
        "colab": {
          "base_uri": "https://localhost:8080/"
        },
        "id": "Fk2cYZKqd22l",
        "outputId": "8567f61f-0dab-4bf5-f618-fbad51637d66"
      },
      "execution_count": 37,
      "outputs": [
        {
          "output_type": "stream",
          "name": "stdout",
          "text": [
            "best params:{'subsample': 0.5}\n",
            "best score:0.7956284153005464\n"
          ]
        }
      ]
    },
    {
      "cell_type": "code",
      "source": [
        "grid_search(params ={ 'colsample_bytree':[0.5,0.7,0.8,0.9,1]})"
      ],
      "metadata": {
        "colab": {
          "base_uri": "https://localhost:8080/"
        },
        "id": "V7wFhtb5eDdL",
        "outputId": "7c1666fb-b53b-4598-e398-242f3af4ee0f"
      },
      "execution_count": 38,
      "outputs": [
        {
          "output_type": "stream",
          "name": "stdout",
          "text": [
            "best params:{'colsample_bytree': 0.5}\n",
            "best score:0.81224043715847\n"
          ]
        }
      ]
    },
    {
      "cell_type": "markdown",
      "source": [
        "조기종료\n",
        "  - eval_set과 eval_metric"
      ],
      "metadata": {
        "id": "fL0NFxYaeLuz"
      }
    },
    {
      "cell_type": "code",
      "source": [
        "# eval_set과\n",
        "from sklearn.model_selection import train_test_split\n",
        "X_train,X_test,y_train,y_test =  train_test_split(X,y,random_state=2)\n",
        "model = XGBClassifier(booster = 'gbtree',objective = 'binary:logistic')\n",
        "eval_set = [(X_test,y_test)]\n",
        "eval_metric = 'error'\n",
        "model.fit(X_train,y_train,eval_metric = eval_metric,eval_set=eval_set)\n",
        "y_pred = model.predict(X_test)\n",
        "# 평가\n",
        "accuracy = accuracy_score(y_test,y_pred)\n",
        "print(f\"정확도:{accuracy}\")"
      ],
      "metadata": {
        "colab": {
          "base_uri": "https://localhost:8080/"
        },
        "id": "lkKDELnQeNwL",
        "outputId": "5f012ab4-64cd-4e89-ec9b-7007b41ac707"
      },
      "execution_count": 40,
      "outputs": [
        {
          "output_type": "stream",
          "name": "stdout",
          "text": [
            "[0]\tvalidation_0-error:0.27632\n",
            "[1]\tvalidation_0-error:0.15789\n",
            "[2]\tvalidation_0-error:0.07895\n",
            "[3]\tvalidation_0-error:0.09211\n",
            "[4]\tvalidation_0-error:0.10526\n",
            "[5]\tvalidation_0-error:0.10526\n",
            "[6]\tvalidation_0-error:0.10526\n",
            "[7]\tvalidation_0-error:0.13158\n",
            "[8]\tvalidation_0-error:0.13158\n",
            "[9]\tvalidation_0-error:0.13158\n",
            "[10]\tvalidation_0-error:0.14474\n",
            "[11]\tvalidation_0-error:0.14474\n",
            "[12]\tvalidation_0-error:0.15789\n",
            "[13]\tvalidation_0-error:0.15789\n",
            "[14]\tvalidation_0-error:0.15789\n",
            "[15]\tvalidation_0-error:0.15789\n",
            "[16]\tvalidation_0-error:0.15789\n",
            "[17]\tvalidation_0-error:0.15789\n",
            "[18]\tvalidation_0-error:0.15789\n",
            "[19]\tvalidation_0-error:0.17105\n",
            "[20]\tvalidation_0-error:0.17105\n",
            "[21]\tvalidation_0-error:0.17105\n",
            "[22]\tvalidation_0-error:0.17105\n",
            "[23]\tvalidation_0-error:0.15789\n",
            "[24]\tvalidation_0-error:0.17105\n",
            "[25]\tvalidation_0-error:0.18421\n",
            "[26]\tvalidation_0-error:0.18421\n",
            "[27]\tvalidation_0-error:0.17105\n",
            "[28]\tvalidation_0-error:0.17105\n",
            "[29]\tvalidation_0-error:0.17105\n",
            "[30]\tvalidation_0-error:0.17105\n",
            "[31]\tvalidation_0-error:0.18421\n",
            "[32]\tvalidation_0-error:0.18421\n",
            "[33]\tvalidation_0-error:0.18421\n",
            "[34]\tvalidation_0-error:0.18421\n",
            "[35]\tvalidation_0-error:0.18421\n",
            "[36]\tvalidation_0-error:0.18421\n",
            "[37]\tvalidation_0-error:0.18421\n",
            "[38]\tvalidation_0-error:0.18421\n",
            "[39]\tvalidation_0-error:0.17105\n",
            "[40]\tvalidation_0-error:0.18421\n",
            "[41]\tvalidation_0-error:0.18421\n",
            "[42]\tvalidation_0-error:0.18421\n",
            "[43]\tvalidation_0-error:0.17105\n",
            "[44]\tvalidation_0-error:0.18421\n",
            "[45]\tvalidation_0-error:0.18421\n",
            "[46]\tvalidation_0-error:0.18421\n",
            "[47]\tvalidation_0-error:0.18421\n",
            "[48]\tvalidation_0-error:0.18421\n",
            "[49]\tvalidation_0-error:0.18421\n",
            "[50]\tvalidation_0-error:0.18421\n",
            "[51]\tvalidation_0-error:0.18421\n",
            "[52]\tvalidation_0-error:0.18421\n",
            "[53]\tvalidation_0-error:0.18421\n",
            "[54]\tvalidation_0-error:0.18421\n",
            "[55]\tvalidation_0-error:0.17105\n",
            "[56]\tvalidation_0-error:0.18421\n",
            "[57]\tvalidation_0-error:0.17105\n",
            "[58]\tvalidation_0-error:0.18421\n",
            "[59]\tvalidation_0-error:0.17105\n",
            "[60]\tvalidation_0-error:0.17105\n",
            "[61]\tvalidation_0-error:0.15789\n",
            "[62]\tvalidation_0-error:0.15789\n",
            "[63]\tvalidation_0-error:0.15789\n",
            "[64]\tvalidation_0-error:0.15789\n",
            "[65]\tvalidation_0-error:0.14474\n",
            "[66]\tvalidation_0-error:0.14474\n",
            "[67]\tvalidation_0-error:0.14474\n",
            "[68]\tvalidation_0-error:0.15789\n",
            "[69]\tvalidation_0-error:0.14474\n",
            "[70]\tvalidation_0-error:0.14474\n",
            "[71]\tvalidation_0-error:0.14474\n",
            "[72]\tvalidation_0-error:0.15789\n",
            "[73]\tvalidation_0-error:0.15789\n",
            "[74]\tvalidation_0-error:0.15789\n",
            "[75]\tvalidation_0-error:0.15789\n",
            "[76]\tvalidation_0-error:0.14474\n",
            "[77]\tvalidation_0-error:0.14474\n",
            "[78]\tvalidation_0-error:0.14474\n",
            "[79]\tvalidation_0-error:0.15789\n",
            "[80]\tvalidation_0-error:0.14474\n",
            "[81]\tvalidation_0-error:0.14474\n",
            "[82]\tvalidation_0-error:0.15789\n",
            "[83]\tvalidation_0-error:0.15789\n",
            "[84]\tvalidation_0-error:0.15789\n",
            "[85]\tvalidation_0-error:0.14474\n",
            "[86]\tvalidation_0-error:0.14474\n",
            "[87]\tvalidation_0-error:0.14474\n",
            "[88]\tvalidation_0-error:0.15789\n",
            "[89]\tvalidation_0-error:0.14474\n",
            "[90]\tvalidation_0-error:0.14474\n",
            "[91]\tvalidation_0-error:0.14474\n",
            "[92]\tvalidation_0-error:0.14474\n",
            "[93]\tvalidation_0-error:0.14474\n",
            "[94]\tvalidation_0-error:0.14474\n",
            "[95]\tvalidation_0-error:0.14474\n",
            "[96]\tvalidation_0-error:0.14474\n",
            "[97]\tvalidation_0-error:0.15789\n",
            "[98]\tvalidation_0-error:0.15789\n",
            "[99]\tvalidation_0-error:0.15789\n",
            "정확도:0.8421052631578947\n"
          ]
        }
      ]
    },
    {
      "cell_type": "markdown",
      "source": [
        "early_stopping_rounds : 이 값기준으로 변화가 없으면 스탑"
      ],
      "metadata": {
        "id": "9KTgLKbif9pZ"
      }
    },
    {
      "cell_type": "code",
      "source": [
        "model = XGBClassifier(booster = 'gbtree',objective = 'binary:logistic')\n",
        "eval_set = [(X_test,y_test)]\n",
        "eval_metric = 'error'\n",
        "model.fit(X_train,y_train,eval_metric = eval_metric,eval_set=eval_set,early_stopping_rounds = 10, verbose=True)\n",
        "y_pred = model.predict(X_test)\n",
        "# 평가\n",
        "accuracy = accuracy_score(y_test,y_pred)\n",
        "print(f\"정확도:{accuracy}\")"
      ],
      "metadata": {
        "colab": {
          "base_uri": "https://localhost:8080/"
        },
        "id": "mycW_H2bf8zr",
        "outputId": "10a046da-55c9-434b-c7f6-ce16b46a0565"
      },
      "execution_count": 42,
      "outputs": [
        {
          "output_type": "stream",
          "name": "stdout",
          "text": [
            "[0]\tvalidation_0-error:0.27632\n",
            "[1]\tvalidation_0-error:0.15789\n",
            "[2]\tvalidation_0-error:0.07895\n",
            "[3]\tvalidation_0-error:0.09211\n",
            "[4]\tvalidation_0-error:0.10526\n",
            "[5]\tvalidation_0-error:0.10526\n",
            "[6]\tvalidation_0-error:0.10526\n",
            "[7]\tvalidation_0-error:0.13158\n",
            "[8]\tvalidation_0-error:0.13158\n",
            "[9]\tvalidation_0-error:0.13158\n",
            "[10]\tvalidation_0-error:0.14474\n",
            "[11]\tvalidation_0-error:0.14474\n",
            "[12]\tvalidation_0-error:0.15789\n",
            "정확도:0.9210526315789473\n"
          ]
        }
      ]
    },
    {
      "cell_type": "code",
      "source": [
        "model = XGBClassifier(booster = 'gbtree',objective = 'binary:logistic',n_estimators = 5000)\n",
        "eval_set = [(X_test,y_test)]\n",
        "eval_metric = 'error'\n",
        "model.fit(X_train,y_train,eval_metric = eval_metric,eval_set=eval_set,early_stopping_rounds = 100, verbose=True)\n",
        "y_pred = model.predict(X_test)\n",
        "# 평가\n",
        "accuracy = accuracy_score(y_test,y_pred)\n",
        "print(f\"정확도:{accuracy}\")"
      ],
      "metadata": {
        "colab": {
          "base_uri": "https://localhost:8080/"
        },
        "id": "8hWMq-z9gbb8",
        "outputId": "c347f51a-7ea2-43f3-c257-6cd1f671f708"
      },
      "execution_count": 43,
      "outputs": [
        {
          "output_type": "stream",
          "name": "stdout",
          "text": [
            "[0]\tvalidation_0-error:0.27632\n",
            "[1]\tvalidation_0-error:0.15789\n",
            "[2]\tvalidation_0-error:0.07895\n",
            "[3]\tvalidation_0-error:0.09211\n",
            "[4]\tvalidation_0-error:0.10526\n",
            "[5]\tvalidation_0-error:0.10526\n",
            "[6]\tvalidation_0-error:0.10526\n",
            "[7]\tvalidation_0-error:0.13158\n",
            "[8]\tvalidation_0-error:0.13158\n",
            "[9]\tvalidation_0-error:0.13158\n",
            "[10]\tvalidation_0-error:0.14474\n",
            "[11]\tvalidation_0-error:0.14474\n",
            "[12]\tvalidation_0-error:0.15789\n",
            "[13]\tvalidation_0-error:0.15789\n",
            "[14]\tvalidation_0-error:0.15789\n",
            "[15]\tvalidation_0-error:0.15789\n",
            "[16]\tvalidation_0-error:0.15789\n",
            "[17]\tvalidation_0-error:0.15789\n",
            "[18]\tvalidation_0-error:0.15789\n",
            "[19]\tvalidation_0-error:0.17105\n",
            "[20]\tvalidation_0-error:0.17105\n",
            "[21]\tvalidation_0-error:0.17105\n",
            "[22]\tvalidation_0-error:0.17105\n",
            "[23]\tvalidation_0-error:0.15789\n",
            "[24]\tvalidation_0-error:0.17105\n",
            "[25]\tvalidation_0-error:0.18421\n",
            "[26]\tvalidation_0-error:0.18421\n",
            "[27]\tvalidation_0-error:0.17105\n",
            "[28]\tvalidation_0-error:0.17105\n",
            "[29]\tvalidation_0-error:0.17105\n",
            "[30]\tvalidation_0-error:0.17105\n",
            "[31]\tvalidation_0-error:0.18421\n",
            "[32]\tvalidation_0-error:0.18421\n",
            "[33]\tvalidation_0-error:0.18421\n",
            "[34]\tvalidation_0-error:0.18421\n",
            "[35]\tvalidation_0-error:0.18421\n",
            "[36]\tvalidation_0-error:0.18421\n",
            "[37]\tvalidation_0-error:0.18421\n",
            "[38]\tvalidation_0-error:0.18421\n",
            "[39]\tvalidation_0-error:0.17105\n",
            "[40]\tvalidation_0-error:0.18421\n",
            "[41]\tvalidation_0-error:0.18421\n",
            "[42]\tvalidation_0-error:0.18421\n",
            "[43]\tvalidation_0-error:0.17105\n",
            "[44]\tvalidation_0-error:0.18421\n",
            "[45]\tvalidation_0-error:0.18421\n",
            "[46]\tvalidation_0-error:0.18421\n",
            "[47]\tvalidation_0-error:0.18421\n",
            "[48]\tvalidation_0-error:0.18421\n",
            "[49]\tvalidation_0-error:0.18421\n",
            "[50]\tvalidation_0-error:0.18421\n",
            "[51]\tvalidation_0-error:0.18421\n",
            "[52]\tvalidation_0-error:0.18421\n",
            "[53]\tvalidation_0-error:0.18421\n",
            "[54]\tvalidation_0-error:0.18421\n",
            "[55]\tvalidation_0-error:0.17105\n",
            "[56]\tvalidation_0-error:0.18421\n",
            "[57]\tvalidation_0-error:0.17105\n",
            "[58]\tvalidation_0-error:0.18421\n",
            "[59]\tvalidation_0-error:0.17105\n",
            "[60]\tvalidation_0-error:0.17105\n",
            "[61]\tvalidation_0-error:0.15789\n",
            "[62]\tvalidation_0-error:0.15789\n",
            "[63]\tvalidation_0-error:0.15789\n",
            "[64]\tvalidation_0-error:0.15789\n",
            "[65]\tvalidation_0-error:0.14474\n",
            "[66]\tvalidation_0-error:0.14474\n",
            "[67]\tvalidation_0-error:0.14474\n",
            "[68]\tvalidation_0-error:0.15789\n",
            "[69]\tvalidation_0-error:0.14474\n",
            "[70]\tvalidation_0-error:0.14474\n",
            "[71]\tvalidation_0-error:0.14474\n",
            "[72]\tvalidation_0-error:0.15789\n",
            "[73]\tvalidation_0-error:0.15789\n",
            "[74]\tvalidation_0-error:0.15789\n",
            "[75]\tvalidation_0-error:0.15789\n",
            "[76]\tvalidation_0-error:0.14474\n",
            "[77]\tvalidation_0-error:0.14474\n",
            "[78]\tvalidation_0-error:0.14474\n",
            "[79]\tvalidation_0-error:0.15789\n",
            "[80]\tvalidation_0-error:0.14474\n",
            "[81]\tvalidation_0-error:0.14474\n",
            "[82]\tvalidation_0-error:0.15789\n",
            "[83]\tvalidation_0-error:0.15789\n",
            "[84]\tvalidation_0-error:0.15789\n",
            "[85]\tvalidation_0-error:0.14474\n",
            "[86]\tvalidation_0-error:0.14474\n",
            "[87]\tvalidation_0-error:0.14474\n",
            "[88]\tvalidation_0-error:0.15789\n",
            "[89]\tvalidation_0-error:0.14474\n",
            "[90]\tvalidation_0-error:0.14474\n",
            "[91]\tvalidation_0-error:0.14474\n",
            "[92]\tvalidation_0-error:0.14474\n",
            "[93]\tvalidation_0-error:0.14474\n",
            "[94]\tvalidation_0-error:0.14474\n",
            "[95]\tvalidation_0-error:0.14474\n",
            "[96]\tvalidation_0-error:0.14474\n",
            "[97]\tvalidation_0-error:0.15789\n",
            "[98]\tvalidation_0-error:0.15789\n",
            "[99]\tvalidation_0-error:0.15789\n",
            "[100]\tvalidation_0-error:0.15789\n",
            "[101]\tvalidation_0-error:0.15789\n",
            "[102]\tvalidation_0-error:0.15789\n",
            "정확도:0.9210526315789473\n"
          ]
        }
      ]
    },
    {
      "cell_type": "markdown",
      "source": [
        "하이퍼 파라메터 결합\n",
        "  - 하나씩 하이퍼파라메터 조사하기"
      ],
      "metadata": {
        "id": "bSQUC76ejkep"
      }
    },
    {
      "cell_type": "code",
      "source": [
        "grid_search(params = {'n_estimators':[2,25,50,75,100]})"
      ],
      "metadata": {
        "colab": {
          "base_uri": "https://localhost:8080/"
        },
        "id": "2kUwEx46jqPy",
        "outputId": "9542d6e5-3c17-4c37-aa52-1aa8f49da038"
      },
      "execution_count": 44,
      "outputs": [
        {
          "output_type": "stream",
          "name": "stdout",
          "text": [
            "best params:{'n_estimators': 100}\n",
            "best score:0.7925136612021858\n"
          ]
        }
      ]
    },
    {
      "cell_type": "code",
      "source": [
        "grid_search(params = {\n",
        "    'n_estimators':[2,25,50,75,100],\n",
        "    'max_depth':[1,2,3,4,6,7,8]\n",
        "                      })"
      ],
      "metadata": {
        "colab": {
          "base_uri": "https://localhost:8080/"
        },
        "id": "Jc6rQMgvj7ba",
        "outputId": "4adf5f5b-a79f-43a6-9881-2384f4408d08"
      },
      "execution_count": 45,
      "outputs": [
        {
          "output_type": "stream",
          "name": "stdout",
          "text": [
            "best params:{'max_depth': 1, 'n_estimators': 50}\n",
            "best score:0.838688524590164\n"
          ]
        }
      ]
    },
    {
      "cell_type": "code",
      "source": [
        "grid_search(params = {\n",
        "    'n_estimators':[2,25,50,75,100],\n",
        "    'max_depth':[1,2,3,4,6,7,8],\n",
        "    'learning_rate':[0.01,0.05,0.1,0.2,0.3,0.4,0.5]\n",
        "                      })"
      ],
      "metadata": {
        "colab": {
          "base_uri": "https://localhost:8080/"
        },
        "id": "29EBDtv_kJKD",
        "outputId": "045e0ca8-43a4-48bb-fea5-a6d543917bfd"
      },
      "execution_count": 46,
      "outputs": [
        {
          "output_type": "stream",
          "name": "stdout",
          "text": [
            "best params:{'learning_rate': 0.3, 'max_depth': 1, 'n_estimators': 50}\n",
            "best score:0.838688524590164\n"
          ]
        }
      ]
    },
    {
      "cell_type": "code",
      "source": [],
      "metadata": {
        "id": "yimAsb80klA7"
      },
      "execution_count": null,
      "outputs": []
    }
  ]
}