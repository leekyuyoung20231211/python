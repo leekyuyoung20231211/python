{
  "nbformat": 4,
  "nbformat_minor": 0,
  "metadata": {
    "colab": {
      "provenance": []
    },
    "kernelspec": {
      "name": "python3",
      "display_name": "Python 3"
    },
    "language_info": {
      "name": "python"
    }
  },
  "cells": [
    {
      "cell_type": "markdown",
      "source": [
        "웹스크래핑"
      ],
      "metadata": {
        "id": "TFURKOmeARyp"
      }
    },
    {
      "cell_type": "code",
      "source": [
        "url = 'https://github.com/leekyuyoung20231211/python/blob/main/downloadTest.zip'\n",
        "url.split('/')[-1]"
      ],
      "metadata": {
        "colab": {
          "base_uri": "https://localhost:8080/",
          "height": 36
        },
        "id": "heqcb5ABGcyI",
        "outputId": "7ec1a488-fc3f-41ec-863c-65750e0bfcb4"
      },
      "execution_count": 1,
      "outputs": [
        {
          "output_type": "execute_result",
          "data": {
            "text/plain": [
              "'downloadTest.zip'"
            ],
            "application/vnd.google.colaboratory.intrinsic+json": {
              "type": "string"
            }
          },
          "metadata": {},
          "execution_count": 1
        }
      ]
    },
    {
      "cell_type": "code",
      "source": [
        "import urllib.request\n",
        "try:\n",
        "  url = 'https://github.com/leekyuyoung20231211/python/blob/main/downloadTest.zip'\n",
        "  # url 변수에 있는 주소에서 'downloadTest.zip' 문자열 추출\n",
        "  saved_filename = url.split('/')[-1]\n",
        "  urllib.request.urlretrieve(url,saved_filename)\n",
        "except Exception as e:\n",
        "  print(\"error : \",e)\n",
        "\n",
        "# from urllib import request\n",
        "# request.urlretrieve()\n",
        "\n",
        "# from urllib.request import urlretrieve\n",
        "# urlretrieve()"
      ],
      "metadata": {
        "id": "Xpp6xVGwEDQ_"
      },
      "execution_count": 2,
      "outputs": []
    },
    {
      "cell_type": "code",
      "source": [
        "# 1 함수로 제작하고 사용\n",
        "import urllib.request\n",
        "def download_zip(url):\n",
        "  try:\n",
        "    #url = 'https://github.com/leekyuyoung20231211/python/blob/main/downloadTest.zip'\n",
        "    # url 변수에 있는 주소에서 'downloadTest.zip' 문자열 추출\n",
        "    saved_filename = url.split('/')[-1]\n",
        "    urllib.request.urlretrieve(url,saved_filename)\n",
        "    print('success download:',saved_filename)\n",
        "  except Exception as e:\n",
        "    print(\"error : \",e)"
      ],
      "metadata": {
        "id": "uAHVN2aQFNgc"
      },
      "execution_count": 3,
      "outputs": []
    },
    {
      "cell_type": "code",
      "source": [
        "download_zip('https://github.com/leekyuyoung20231211/python/blob/main/downloadTest.zip')"
      ],
      "metadata": {
        "colab": {
          "base_uri": "https://localhost:8080/"
        },
        "id": "v_u14XTAHiDv",
        "outputId": "ae875134-efcd-47d2-b5ed-5c71f94ebb48"
      },
      "execution_count": 4,
      "outputs": [
        {
          "output_type": "stream",
          "name": "stdout",
          "text": [
            "success download: downloadTest.zip\n"
          ]
        }
      ]
    },
    {
      "cell_type": "markdown",
      "source": [
        "모듈이용"
      ],
      "metadata": {
        "id": "rGmVBEwaILTZ"
      }
    },
    {
      "cell_type": "code",
      "source": [
        "import url_utils"
      ],
      "metadata": {
        "id": "uRtUGqAIHlEB"
      },
      "execution_count": 5,
      "outputs": []
    },
    {
      "cell_type": "code",
      "source": [
        "url_utils.download_zip(url)"
      ],
      "metadata": {
        "colab": {
          "base_uri": "https://localhost:8080/"
        },
        "id": "ndp5xbbEIWbk",
        "outputId": "668fb1c1-3328-4435-f31a-5ef5b8689146"
      },
      "execution_count": 6,
      "outputs": [
        {
          "output_type": "stream",
          "name": "stdout",
          "text": [
            "success download: downloadTest.zip\n"
          ]
        }
      ]
    },
    {
      "cell_type": "code",
      "source": [],
      "metadata": {
        "id": "71cOZzNpIZ-r"
      },
      "execution_count": 6,
      "outputs": []
    }
  ]
}