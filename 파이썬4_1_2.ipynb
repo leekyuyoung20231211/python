{
  "nbformat": 4,
  "nbformat_minor": 0,
  "metadata": {
    "colab": {
      "provenance": []
    },
    "kernelspec": {
      "name": "python3",
      "display_name": "Python 3"
    },
    "language_info": {
      "name": "python"
    }
  },
  "cells": [
    {
      "cell_type": "markdown",
      "source": [
        "예외처리"
      ],
      "metadata": {
        "id": "GTTdOtLBBhSi"
      }
    },
    {
      "cell_type": "code",
      "source": [
        "# 사용자로부터 정수를 두개 입력받아서 더하시오\n",
        "num1 =  input('정수를 입력하세요')\n",
        "num2 =  input('정수를 입력하세요')\n",
        "\n",
        "# num1, num2에 들어있는 문자형 데이터가 숫자로만 이루어져 있는지 확인\n",
        "if num1.isdigit() and num2.isdigit():\n",
        "  num1 = int(num1)\n",
        "  num2 = int(num2)\n",
        "  print(f\"두수의 합은 : {num1 + num2}\")\n",
        "else:\n",
        "  print(\"잘못입력했습니다.\")"
      ],
      "metadata": {
        "colab": {
          "base_uri": "https://localhost:8080/"
        },
        "id": "z_9dbEPoBiA5",
        "outputId": "1be4bf01-e5f8-44ae-f2ea-8baf572cf71d"
      },
      "execution_count": 9,
      "outputs": [
        {
          "output_type": "stream",
          "name": "stdout",
          "text": [
            "정수를 입력하세요10\n",
            "정수를 입력하세요12.\n",
            "잘못입력했습니다.\n"
          ]
        }
      ]
    },
    {
      "cell_type": "code",
      "source": [
        "\"125\".isdigit()"
      ],
      "metadata": {
        "colab": {
          "base_uri": "https://localhost:8080/"
        },
        "id": "GFdjQL-lCQiY",
        "outputId": "639d298a-fe00-4171-feab-2d5d9cc37419"
      },
      "execution_count": 7,
      "outputs": [
        {
          "output_type": "execute_result",
          "data": {
            "text/plain": [
              "True"
            ]
          },
          "metadata": {},
          "execution_count": 7
        }
      ]
    },
    {
      "cell_type": "code",
      "source": [
        "try:\n",
        "  num1 =  int(input('정수를 입력하세요'))\n",
        "  num2 =  int(input('정수를 입력하세요'))\n",
        "  print(f\"두수의 합은 : {num1 + num2}\")\n",
        "except Exception as e:\n",
        "  print(\"예외가 발생했습니다.\")\n",
        "  print(\"입력값을 확인 해 주세요\")\n",
        "  print()\n",
        "\n",
        "\n",
        "print(\"try~except 와 별개 로직\")"
      ],
      "metadata": {
        "colab": {
          "base_uri": "https://localhost:8080/"
        },
        "id": "fI_hhdiXC_0H",
        "outputId": "1b0f3fe4-3eb7-428b-adcf-eb8e72668ec0"
      },
      "execution_count": 18,
      "outputs": [
        {
          "output_type": "stream",
          "name": "stdout",
          "text": [
            "정수를 입력하세요asdfasdf\n",
            "예외가 발생했습니다.\n",
            "입력값을 확인 해 주세요\n",
            "invalid literal for int() with base 10: 'asdfasdf'\n",
            "try~except 와 별개 로직\n"
          ]
        }
      ]
    },
    {
      "cell_type": "code",
      "source": [
        "int(input('정수를 입력하세요'))\n"
      ],
      "metadata": {
        "colab": {
          "base_uri": "https://localhost:8080/",
          "height": 199
        },
        "id": "Z9BE9o8OE8QK",
        "outputId": "ea516b43-b8a2-4b41-8f63-840d60d3fa89"
      },
      "execution_count": 16,
      "outputs": [
        {
          "name": "stdout",
          "output_type": "stream",
          "text": [
            "정수를 입력하세요ㄴㅇㅀㄴㅇㅀ\n"
          ]
        },
        {
          "output_type": "error",
          "ename": "ValueError",
          "evalue": "ignored",
          "traceback": [
            "\u001b[0;31m---------------------------------------------------------------------------\u001b[0m",
            "\u001b[0;31mValueError\u001b[0m                                Traceback (most recent call last)",
            "\u001b[0;32m<ipython-input-16-82db4fb7285b>\u001b[0m in \u001b[0;36m<cell line: 1>\u001b[0;34m()\u001b[0m\n\u001b[0;32m----> 1\u001b[0;31m \u001b[0mint\u001b[0m\u001b[0;34m(\u001b[0m\u001b[0minput\u001b[0m\u001b[0;34m(\u001b[0m\u001b[0;34m'정수를 입력하세요'\u001b[0m\u001b[0;34m)\u001b[0m\u001b[0;34m)\u001b[0m\u001b[0;34m\u001b[0m\u001b[0;34m\u001b[0m\u001b[0m\n\u001b[0m",
            "\u001b[0;31mValueError\u001b[0m: invalid literal for int() with base 10: 'ㄴㅇㅀㄴㅇㅀ'"
          ]
        }
      ]
    },
    {
      "cell_type": "code",
      "source": [
        "for i in range(10):\n",
        "  try:\n",
        "    print(10 / i)\n",
        "  except ZeroDivisionError:\n",
        "    print(\"0으로 나누면 안됩니다.\")"
      ],
      "metadata": {
        "colab": {
          "base_uri": "https://localhost:8080/"
        },
        "id": "q5x_pzp5FGuc",
        "outputId": "5bd16380-ccb1-4770-bb50-f76423d534be"
      },
      "execution_count": 21,
      "outputs": [
        {
          "output_type": "stream",
          "name": "stdout",
          "text": [
            "0으로 나누면 안됩니다.\n",
            "10.0\n",
            "5.0\n",
            "3.3333333333333335\n",
            "2.5\n",
            "2.0\n",
            "1.6666666666666667\n",
            "1.4285714285714286\n",
            "1.25\n",
            "1.1111111111111112\n"
          ]
        }
      ]
    },
    {
      "cell_type": "code",
      "source": [
        "temp_list = [10,20,\"52\",\"hello\",\"12.5\",55]\n",
        "# 정수만 추출(문자열 정수도 포함)\n",
        "result = []\n",
        "for i in temp_list:\n",
        "  try:\n",
        "    result.append(int(i))\n",
        "  except:\n",
        "    pass\n",
        "\n",
        "result"
      ],
      "metadata": {
        "colab": {
          "base_uri": "https://localhost:8080/"
        },
        "id": "mpnx2zIoJUki",
        "outputId": "711a3fad-b8a9-4944-8c70-18b9d5c203da"
      },
      "execution_count": 23,
      "outputs": [
        {
          "output_type": "execute_result",
          "data": {
            "text/plain": [
              "[10, 20, 52, 55]"
            ]
          },
          "metadata": {},
          "execution_count": 23
        }
      ]
    },
    {
      "cell_type": "code",
      "source": [
        "# int로 변환할 수 없는경우\n",
        "# 인덱스를 넘어가는 경우\n",
        "# 그외 예상치  못한 오류\n",
        "my_list = [1,2,3]\n",
        "try:\n",
        "  index = int(input(\"인덱스 번호를 입력하세요\"))\n",
        "  print(my_list[index])\n",
        "except ValueError:\n",
        "  print(\"정수를 입력하세요\")\n",
        "except IndexError:\n",
        "  print(\"인덱스 범위를 넘어갔습니다. 0 ~\",len(my_list)-1)\n",
        "except Exception as e:\n",
        "  print(\"error\",e)\n"
      ],
      "metadata": {
        "colab": {
          "base_uri": "https://localhost:8080/"
        },
        "id": "lXyX3Yz6KqJE",
        "outputId": "4907f12c-9c45-4f59-d541-695e837b11b6"
      },
      "execution_count": 30,
      "outputs": [
        {
          "output_type": "stream",
          "name": "stdout",
          "text": [
            "인덱스 번호를 입력하세요1\n",
            "2\n"
          ]
        }
      ]
    },
    {
      "cell_type": "code",
      "source": [
        "# 딕셔너리와 함께 사용\n",
        "my_dict = {\"a\":0, \"b\":1, \"c\":2}\n",
        "try:\n",
        "  key = input(\"키 값을 입력하세요\")\n",
        "  print(f\"입력하신 키의 값은 : {my_dict[key]}\")\n",
        "except KeyError:\n",
        "  print(\"올바른 키를 입력하세요:\", ','.join(list(my_dict.keys())))\n",
        "except Exception as e:\n",
        "  print(\"오류발생 :\",e)"
      ],
      "metadata": {
        "colab": {
          "base_uri": "https://localhost:8080/"
        },
        "id": "2FiFzD1zLIm_",
        "outputId": "010478bd-db6e-488b-b40e-9dbacbab8d8e"
      },
      "execution_count": 39,
      "outputs": [
        {
          "output_type": "stream",
          "name": "stdout",
          "text": [
            "키 값을 입력하세요adsfasdfads\n",
            "올바른 키를 입력하세요: a,b,c\n"
          ]
        }
      ]
    },
    {
      "cell_type": "code",
      "source": [
        "''.join(['a','b','c'])"
      ],
      "metadata": {
        "colab": {
          "base_uri": "https://localhost:8080/",
          "height": 35
        },
        "id": "mXrY3KXaM8gC",
        "outputId": "bd457446-b13d-4a22-dd27-3d0fdbc3b14a"
      },
      "execution_count": 43,
      "outputs": [
        {
          "output_type": "execute_result",
          "data": {
            "text/plain": [
              "'abc'"
            ],
            "application/vnd.google.colaboratory.intrinsic+json": {
              "type": "string"
            }
          },
          "metadata": {},
          "execution_count": 43
        }
      ]
    },
    {
      "cell_type": "code",
      "source": [
        "# 양의정수 입력받기  int(input('양의정수 입력 :'))\n",
        "# try 구문이용하기\n",
        "while True:\n",
        "  try:\n",
        "    number = int(input('양의정수 입력 : '))\n",
        "    if number <= 0:\n",
        "      print(\"양의 정수를 입력하세요\")\n",
        "    else:\n",
        "      print(\"입력한 양의 정수는:\",number)\n",
        "      break\n",
        "  except:\n",
        "    print(\"올바른 값을 입력하세요:0 1 2 ~\")"
      ],
      "metadata": {
        "colab": {
          "base_uri": "https://localhost:8080/"
        },
        "id": "evzHtoDAOdwf",
        "outputId": "6fd4756f-654a-4609-c7c1-d35a2d832781"
      },
      "execution_count": 50,
      "outputs": [
        {
          "output_type": "stream",
          "name": "stdout",
          "text": [
            "양의정수 입력 : 1q324sadfasdfasd\n",
            "올바른 값을 입력하세요:0 1 2 ~\n",
            "양의정수 입력 : qewrttgdsfvesr\n",
            "올바른 값을 입력하세요:0 1 2 ~\n",
            "양의정수 입력 : werw\n",
            "올바른 값을 입력하세요:0 1 2 ~\n",
            "양의정수 입력 : -50\n",
            "양의 정수를 입력하세요\n",
            "양의정수 입력 : 62\n",
            "입력한 양의 정수는: 62\n"
          ]
        }
      ]
    },
    {
      "cell_type": "code",
      "source": [],
      "metadata": {
        "id": "mR58nMhMQQgn"
      },
      "execution_count": null,
      "outputs": []
    }
  ]
}