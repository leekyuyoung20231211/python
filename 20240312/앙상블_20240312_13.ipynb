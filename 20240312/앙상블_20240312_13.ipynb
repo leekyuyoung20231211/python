{
  "nbformat": 4,
  "nbformat_minor": 0,
  "metadata": {
    "colab": {
      "provenance": []
    },
    "kernelspec": {
      "name": "python3",
      "display_name": "Python 3"
    },
    "language_info": {
      "name": "python"
    }
  },
  "cells": [
    {
      "cell_type": "code",
      "execution_count": null,
      "metadata": {
        "id": "A0j1ZtgSn1pe"
      },
      "outputs": [],
      "source": []
    },
    {
      "cell_type": "markdown",
      "source": [
        "다양한 모델을 결합한 앙상블 학습\n",
        "- 앙상블 학습\n",
        "- 다수결 투표를 사용한 분류 앙상블\n",
        "  - 간단한 다수결 투표 분류기 구현\n",
        "  - 다수결 투표 방식을 사용하여 예측 만들기\n",
        "  - 앙상블 분류기의 평가와 튜닝\n",
        "- 배깅: 부트스트랩 샘플링을 통한 분류 앙상블\n",
        "  - 배깅 알고리즘의 작동 방식\n",
        "  - 배깅으로 Wine 데이터셋의 샘플 분류\n",
        "- 약한 학습기를 이용한 에이다부스트\n",
        "  - 부스팅 작동 원리\n",
        "  - 사이킷런에서 에이다부스트 사용\n",
        "- 그레이디언트 부스팅 – 손실 그레이디언트 기반의 앙상블 훈련\n",
        "  - 에이다부스트와 그레이디언트 부스팅 비교\n",
        "  - 그레이디언트 부스팅 알고리즘 소개\n",
        "  - 분류를 위한 그레이디언트 부스팅 알고리즘\n",
        "  - 그레이디언트 부스팅 분류 예제\n",
        "XGBoost 사용하기\n",
        "- 요약"
      ],
      "metadata": {
        "id": "4-GEOZWYn6Iz"
      }
    },
    {
      "cell_type": "markdown",
      "source": [
        "앙상블 학습"
      ],
      "metadata": {
        "id": "vXfNwNLkokJP"
      }
    },
    {
      "cell_type": "code",
      "source": [
        "from IPython.display import Image"
      ],
      "metadata": {
        "id": "kWuacBmzosg8"
      },
      "execution_count": 2,
      "outputs": []
    },
    {
      "cell_type": "code",
      "source": [
        "Image(url='https://raw.githubusercontent.com/rickiepark/ml-with-pytorch/main/ch07/figures/07_01.png', width=500)"
      ],
      "metadata": {
        "colab": {
          "base_uri": "https://localhost:8080/",
          "height": 200
        },
        "id": "ul4hQ4zbn6dA",
        "outputId": "188b6d99-17d8-4cf0-83da-8cb8da604efc"
      },
      "execution_count": 3,
      "outputs": [
        {
          "output_type": "execute_result",
          "data": {
            "text/html": [
              "<img src=\"https://raw.githubusercontent.com/rickiepark/ml-with-pytorch/main/ch07/figures/07_01.png\" width=\"500\"/>"
            ],
            "text/plain": [
              "<IPython.core.display.Image object>"
            ]
          },
          "metadata": {},
          "execution_count": 3
        }
      ]
    },
    {
      "cell_type": "code",
      "source": [
        "Image(url='https://raw.githubusercontent.com/rickiepark/ml-with-pytorch/main/ch07/figures/07_02.png', width=500)"
      ],
      "metadata": {
        "colab": {
          "base_uri": "https://localhost:8080/",
          "height": 443
        },
        "id": "seNPR_N3on0u",
        "outputId": "75fcd943-5375-4145-d84e-3505185c9410"
      },
      "execution_count": 4,
      "outputs": [
        {
          "output_type": "execute_result",
          "data": {
            "text/html": [
              "<img src=\"https://raw.githubusercontent.com/rickiepark/ml-with-pytorch/main/ch07/figures/07_02.png\" width=\"500\"/>"
            ],
            "text/plain": [
              "<IPython.core.display.Image object>"
            ]
          },
          "metadata": {},
          "execution_count": 4
        }
      ]
    },
    {
      "cell_type": "code",
      "source": [
        "from scipy.special import comb\n",
        "import math"
      ],
      "metadata": {
        "id": "7xuD80A5othl"
      },
      "execution_count": 5,
      "outputs": []
    },
    {
      "cell_type": "code",
      "source": [
        "# 크기가 5인 집합에서 크기가 2인 부분 집합의 수\n",
        "comb(5,2)"
      ],
      "metadata": {
        "colab": {
          "base_uri": "https://localhost:8080/"
        },
        "id": "gK1RRUlTpOV0",
        "outputId": "8fbe012f-c825-4d61-9e72-640ad571c09c"
      },
      "execution_count": 6,
      "outputs": [
        {
          "output_type": "execute_result",
          "data": {
            "text/plain": [
              "10.0"
            ]
          },
          "metadata": {},
          "execution_count": 6
        }
      ]
    },
    {
      "cell_type": "code",
      "source": [
        "# n_classifier 앙상블에 포함된 분류기의 수\n",
        "# error 각 분류기의 오차\n",
        "def ensemble_error(n_classifier, error):\n",
        "  k_start = int(math.ceil(n_classifier / 2.))\n",
        "  probs = [      comb(n_classifier,k)*error**k*(1-error)**(n_classifier-k)  for k in range(k_start,n_classifier+1)  ]\n",
        "  return sum(probs)"
      ],
      "metadata": {
        "id": "JpVbsgrGpyno"
      },
      "execution_count": 7,
      "outputs": []
    },
    {
      "cell_type": "code",
      "source": [
        "ensemble_error(11,0.25)"
      ],
      "metadata": {
        "colab": {
          "base_uri": "https://localhost:8080/"
        },
        "id": "j7QznYkzqg49",
        "outputId": "bcd63431-06a6-41c3-fb23-a61f71bf1fd5"
      },
      "execution_count": 8,
      "outputs": [
        {
          "output_type": "execute_result",
          "data": {
            "text/plain": [
              "0.03432750701904297"
            ]
          },
          "metadata": {},
          "execution_count": 8
        }
      ]
    },
    {
      "cell_type": "code",
      "source": [
        "import numpy as np\n",
        "error_range = np.arange(0.0,1.01, 0.01)\n",
        "print(f\"error : {error_range}\")\n",
        "ens_erros = [ ensemble_error(11,error)  for error in error_range]\n",
        "print(f\"앙상블 에러:{ens_erros}\")"
      ],
      "metadata": {
        "colab": {
          "base_uri": "https://localhost:8080/"
        },
        "id": "l6PeetEVq_e6",
        "outputId": "15a682e7-3312-4919-a9ab-a52eb524bd5e"
      },
      "execution_count": 10,
      "outputs": [
        {
          "output_type": "stream",
          "name": "stdout",
          "text": [
            "error : [0.   0.01 0.02 0.03 0.04 0.05 0.06 0.07 0.08 0.09 0.1  0.11 0.12 0.13\n",
            " 0.14 0.15 0.16 0.17 0.18 0.19 0.2  0.21 0.22 0.23 0.24 0.25 0.26 0.27\n",
            " 0.28 0.29 0.3  0.31 0.32 0.33 0.34 0.35 0.36 0.37 0.38 0.39 0.4  0.41\n",
            " 0.42 0.43 0.44 0.45 0.46 0.47 0.48 0.49 0.5  0.51 0.52 0.53 0.54 0.55\n",
            " 0.56 0.57 0.58 0.59 0.6  0.61 0.62 0.63 0.64 0.65 0.66 0.67 0.68 0.69\n",
            " 0.7  0.71 0.72 0.73 0.74 0.75 0.76 0.77 0.78 0.79 0.8  0.81 0.82 0.83\n",
            " 0.84 0.85 0.86 0.87 0.88 0.89 0.9  0.91 0.92 0.93 0.94 0.95 0.96 0.97\n",
            " 0.98 0.99 1.  ]\n",
            "앙상블 에러:[0.0, 4.4254343383479994e-10, 2.71207411810304e-08, 2.957089768150355e-07, 1.5898640480468992e-06, 5.801345058593751e-06, 1.656411575903354e-05, 3.992476631525723e-05, 8.500149873708894e-05, 0.00016459292554947568, 0.0002957060800000002, 0.0004999803724290905, 0.0008039907946370431, 0.001239419514412758, 0.0018430901570849726, 0.0026568635802539054, 0.0037273978509897755, 0.0051057784699690125, 0.0068470276914775734, 0.009009504098156072, 0.011654205440000008, 0.014843989172661222, 0.018642726163718218, 0.023114403709482208, 0.02832219435026633, 0.03432750701904297, 0.04118903683622163, 0.0489618294000612, 0.057696374745145676, 0.06743774527655493, 0.07822479095999996, 0.09008940388240429, 0.1030558630163423, 0.11714026864751058, 0.13235007447814498, 0.1486837239211133, 0.1661303955684304, 0.18466986127225832, 0.20427245873317543, 0.22489917896571807, 0.24650186752000006, 0.26902353689468944, 0.2923987861938412, 0.3165543227701151, 0.34140957937082966, 0.3668774191711526, 0.39286492004958046, 0.41927422854275176, 0.4460034731166029, 0.47294772571497457, 0.5, 0.5270522742850253, 0.5539965268833971, 0.5807257714572485, 0.6071350799504199, 0.6331225808288479, 0.6585904206291706, 0.6834456772298854, 0.7076012138061589, 0.7309764631053106, 0.7534981324799999, 0.775100821034282, 0.7957275412668244, 0.8153301387277416, 0.8338696044315695, 0.8513162760788867, 0.867649925521855, 0.8828597313524896, 0.8969441369836577, 0.9099105961175957, 0.9217752090400002, 0.932562254723445, 0.9423036252548543, 0.9510381705999388, 0.9588109631637783, 0.965672492980957, 0.9716778056497337, 0.9768855962905179, 0.9813572738362818, 0.985156010827339, 0.98834579456, 0.9909904959018438, 0.9931529723085225, 0.9948942215300308, 0.9962726021490103, 0.997343136419746, 0.998156909842915, 0.9987605804855872, 0.999196009205363, 0.9995000196275711, 0.9997042939199999, 0.9998354070744506, 0.999914998501263, 0.9999600752336848, 0.999983435884241, 0.9999941986549414, 0.999998410135952, 0.9999997042910233, 0.9999999728792588, 0.9999999995574566, 1.0]\n"
          ]
        }
      ]
    },
    {
      "cell_type": "code",
      "source": [
        "import matplotlib.pyplot as plt\n",
        "plt.plot(error_range,ens_erros,label='Ensemble error', linewidth=2)\n",
        "plt.plot(error_range, error_range, linestyle='--',label='Base error', linewidth=2)\n",
        "plt.xlabel('Base error')\n",
        "plt.ylabel('Base/Ensemble error')\n",
        "plt.grid(alpha=0.5)\n",
        "plt.show()"
      ],
      "metadata": {
        "colab": {
          "base_uri": "https://localhost:8080/",
          "height": 449
        },
        "id": "4_LUeSOqrfQd",
        "outputId": "f4b8da9f-e17e-428a-ac86-d625da3a2601"
      },
      "execution_count": 11,
      "outputs": [
        {
          "output_type": "display_data",
          "data": {
            "text/plain": [
              "<Figure size 640x480 with 1 Axes>"
            ],
            "image/png": "[encoded data removed]"
          },
          "metadata": {}
        }
      ]
    },
    {
      "cell_type": "markdown",
      "source": [
        "다수결 투표를 사용한 분류 앙상블\n",
        "  - 간단한 다수결 투표 분류기 구현"
      ],
      "metadata": {
        "id": "TAHur3pmsrg9"
      }
    },
    {
      "cell_type": "code",
      "source": [
        "import numpy as np\n",
        "np.argmax(np.bincount([0,0,1],weights=[0.2,0.2,0.6] ))"
      ],
      "metadata": {
        "colab": {
          "base_uri": "https://localhost:8080/"
        },
        "id": "YmEdLDV_swWj",
        "outputId": "16732d6a-25d4-45f0-a234-8e0580318199"
      },
      "execution_count": 12,
      "outputs": [
        {
          "output_type": "execute_result",
          "data": {
            "text/plain": [
              "1"
            ]
          },
          "metadata": {},
          "execution_count": 12
        }
      ]
    },
    {
      "cell_type": "code",
      "source": [
        "np.bincount([0,0,1],weights=[0.2,0.2,0.6] )"
      ],
      "metadata": {
        "colab": {
          "base_uri": "https://localhost:8080/"
        },
        "id": "ubUc0nHRtGIO",
        "outputId": "0068e4a6-5fba-43e6-9479-0949ce1e6d76"
      },
      "execution_count": 13,
      "outputs": [
        {
          "output_type": "execute_result",
          "data": {
            "text/plain": [
              "array([0.4, 0.6])"
            ]
          },
          "metadata": {},
          "execution_count": 13
        }
      ]
    },
    {
      "cell_type": "code",
      "source": [
        "ex = np.array([\n",
        "    [0.9,0.1],\n",
        "    [0.8,0.2],\n",
        "    [0.4,0.6]\n",
        "])\n",
        "p = np.average(ex,\n",
        "           axis=0,\n",
        "           weights=[0.2,0.2,0.6])\n",
        "p"
      ],
      "metadata": {
        "colab": {
          "base_uri": "https://localhost:8080/"
        },
        "id": "K1zSc_4utIzm",
        "outputId": "917a8936-9e32-48a0-dd9e-84d7921ae780"
      },
      "execution_count": 14,
      "outputs": [
        {
          "output_type": "execute_result",
          "data": {
            "text/plain": [
              "array([0.58, 0.42])"
            ]
          },
          "metadata": {},
          "execution_count": 14
        }
      ]
    },
    {
      "cell_type": "code",
      "source": [
        "from sklearn.base import BaseEstimator\n",
        "from sklearn.base import ClassifierMixin\n",
        "from sklearn.preprocessing import LabelEncoder\n",
        "from sklearn.base import clone\n",
        "from sklearn.pipeline import _name_estimators\n",
        "import numpy as np\n",
        "import operator"
      ],
      "metadata": {
        "id": "0jsoNgXXt86V"
      },
      "execution_count": 16,
      "outputs": []
    },
    {
      "cell_type": "code",
      "source": [
        "class MajorityVoteClassifier(BaseEstimator, ClassifierMixin):\n",
        "  def __init__(self,classifiers,vote='classlabel', weights=None) -> None:\n",
        "    self.classifiers = classifiers,\n",
        "    self.named_classifiers = { key:value for key, value in _name_estimators(classifiers)}\n",
        "    self.vote = vote\n",
        "    self.weights = weights\n",
        "  def fit(self,X,y):\n",
        "    if self.vote not in ('probability','classlabel'):\n",
        "      raise ValueError(f\"vote는 'probability or classlabel 이여야 합니다.\")\n",
        "    if self.weights and len(self.weights) != len(self.classifiers):\n",
        "      raise ValueError(f\"분류기와 가중치 개수는 같아야 합니다.\")\n",
        "    # 클래스 레벨은 0부터 시작되어야 하므로 LabelEncoder 를 사용\n",
        "    self.lablenc_ = LabelEncoder()\n",
        "    self.lablenc_.fit(y)\n",
        "    self.classes_ = self.lablenc_.classes_\n",
        "    self.classifiers_ = []\n",
        "    for clf in self.classifiers:\n",
        "      fitted_clf = clone(clf).fit(X , self.lablenc_.transform(y))\n",
        "      self.classifiers_.append(fitted_clf)\n",
        "    return self\n",
        "  # X에 대한 클래스 레이블 예측\n",
        "  def predict(self,X):\n",
        "    pass\n",
        "  # X에 대한 클래스 확률을 예측\n",
        "  def predict_proba(self,X):\n",
        "    pass\n",
        "  # GridSearch 를 위해 분류기의 매개변수 이름을 반환\n",
        "  def get_params(self, deep=True):\n",
        "    pass"
      ],
      "metadata": {
        "id": "Y43y78GnuKxY"
      },
      "execution_count": null,
      "outputs": []
    }
  ]
}